{
 "cells": [
  {
   "cell_type": "markdown",
   "metadata": {},
   "source": [
    "# imports"
   ]
  },
  {
   "cell_type": "code",
   "execution_count": 1,
   "metadata": {},
   "outputs": [],
   "source": [
    "import pandas as pd\n",
    "import numpy as np\n",
    "import copy\n",
    "import os\n",
    "import sys\n",
    "import shutil\n",
    "import datetime\n",
    "import pickle\n",
    "import qplib as qp\n",
    "from qplib import log, na, nk, num\n",
    "\n"
   ]
  },
  {
   "cell_type": "markdown",
   "metadata": {},
   "source": [
    "# log()"
   ]
  },
  {
   "cell_type": "code",
   "execution_count": 2,
   "metadata": {},
   "outputs": [
    {
     "data": {
      "text/html": [
       "<style type=\"text/css\">\n",
       "#T_07fc5_row0_col0, #T_07fc5_row0_col1, #T_07fc5_row0_col2, #T_07fc5_row0_col3 {\n",
       "  background-color: lightgrey;\n",
       "}\n",
       "</style>\n",
       "<table id=\"T_07fc5\">\n",
       "  <thead>\n",
       "  </thead>\n",
       "  <tbody>\n",
       "    <tr>\n",
       "      <th id=\"T_07fc5_level0_row0\" class=\"row_heading level0 row0\" >0</th>\n",
       "      <td id=\"T_07fc5_row0_col0\" class=\"data row0 col0\" >this is a trace message</td>\n",
       "      <td id=\"T_07fc5_row0_col1\" class=\"data row0 col1\" ></td>\n",
       "      <td id=\"T_07fc5_row0_col2\" class=\"data row0 col2\" >trace</td>\n",
       "      <td id=\"T_07fc5_row0_col3\" class=\"data row0 col3\" >2024-07-14 15:33:25.200473</td>\n",
       "    </tr>\n",
       "  </tbody>\n",
       "</table>\n"
      ],
      "text/plain": [
       "<pandas.io.formats.style.Styler at 0x27469469430>"
      ]
     },
     "metadata": {},
     "output_type": "display_data"
    },
    {
     "data": {
      "text/html": [
       "<style type=\"text/css\">\n",
       "#T_0a092_row0_col0, #T_0a092_row0_col1, #T_0a092_row0_col2, #T_0a092_row0_col3 {\n",
       "  background-color: skyblue;\n",
       "}\n",
       "</style>\n",
       "<table id=\"T_0a092\">\n",
       "  <thead>\n",
       "  </thead>\n",
       "  <tbody>\n",
       "    <tr>\n",
       "      <th id=\"T_0a092_level0_row0\" class=\"row_heading level0 row0\" >1</th>\n",
       "      <td id=\"T_0a092_row0_col0\" class=\"data row0 col0\" >this is a debug message</td>\n",
       "      <td id=\"T_0a092_row0_col1\" class=\"data row0 col1\" ></td>\n",
       "      <td id=\"T_0a092_row0_col2\" class=\"data row0 col2\" >debug</td>\n",
       "      <td id=\"T_0a092_row0_col3\" class=\"data row0 col3\" >2024-07-14 15:33:25.263487</td>\n",
       "    </tr>\n",
       "  </tbody>\n",
       "</table>\n"
      ],
      "text/plain": [
       "<pandas.io.formats.style.Styler at 0x2744af101d0>"
      ]
     },
     "metadata": {},
     "output_type": "display_data"
    },
    {
     "data": {
      "text/html": [
       "<style type=\"text/css\">\n",
       "#T_509b7_row0_col0, #T_509b7_row0_col1, #T_509b7_row0_col2, #T_509b7_row0_col3 {\n",
       "  background-color: #c0e7b0;\n",
       "}\n",
       "</style>\n",
       "<table id=\"T_509b7\">\n",
       "  <thead>\n",
       "  </thead>\n",
       "  <tbody>\n",
       "    <tr>\n",
       "      <th id=\"T_509b7_level0_row0\" class=\"row_heading level0 row0\" >2</th>\n",
       "      <td id=\"T_509b7_row0_col0\" class=\"data row0 col0\" >this is an info message</td>\n",
       "      <td id=\"T_509b7_row0_col1\" class=\"data row0 col1\" ></td>\n",
       "      <td id=\"T_509b7_row0_col2\" class=\"data row0 col2\" >info</td>\n",
       "      <td id=\"T_509b7_row0_col3\" class=\"data row0 col3\" >2024-07-14 15:33:25.267489</td>\n",
       "    </tr>\n",
       "  </tbody>\n",
       "</table>\n"
      ],
      "text/plain": [
       "<pandas.io.formats.style.Styler at 0x2744af101d0>"
      ]
     },
     "metadata": {},
     "output_type": "display_data"
    },
    {
     "data": {
      "text/html": [
       "<style type=\"text/css\">\n",
       "#T_64b6e_row0_col0, #T_64b6e_row0_col1, #T_64b6e_row0_col2, #T_64b6e_row0_col3 {\n",
       "  background-color: #f7d67c;\n",
       "}\n",
       "</style>\n",
       "<table id=\"T_64b6e\">\n",
       "  <thead>\n",
       "  </thead>\n",
       "  <tbody>\n",
       "    <tr>\n",
       "      <th id=\"T_64b6e_level0_row0\" class=\"row_heading level0 row0\" >3</th>\n",
       "      <td id=\"T_64b6e_row0_col0\" class=\"data row0 col0\" >this is a warning message</td>\n",
       "      <td id=\"T_64b6e_row0_col1\" class=\"data row0 col1\" ></td>\n",
       "      <td id=\"T_64b6e_row0_col2\" class=\"data row0 col2\" >Warning</td>\n",
       "      <td id=\"T_64b6e_row0_col3\" class=\"data row0 col3\" >2024-07-14 15:33:25.270489</td>\n",
       "    </tr>\n",
       "  </tbody>\n",
       "</table>\n"
      ],
      "text/plain": [
       "<pandas.io.formats.style.Styler at 0x2744af101d0>"
      ]
     },
     "metadata": {},
     "output_type": "display_data"
    },
    {
     "data": {
      "text/html": [
       "<style type=\"text/css\">\n",
       "#T_3c505_row0_col0, #T_3c505_row0_col1, #T_3c505_row0_col2, #T_3c505_row0_col3 {\n",
       "  background-color: #f7746a;\n",
       "}\n",
       "</style>\n",
       "<table id=\"T_3c505\">\n",
       "  <thead>\n",
       "  </thead>\n",
       "  <tbody>\n",
       "    <tr>\n",
       "      <th id=\"T_3c505_level0_row0\" class=\"row_heading level0 row0\" >4</th>\n",
       "      <td id=\"T_3c505_row0_col0\" class=\"data row0 col0\" >this is an error message</td>\n",
       "      <td id=\"T_3c505_row0_col1\" class=\"data row0 col1\" ></td>\n",
       "      <td id=\"T_3c505_row0_col2\" class=\"data row0 col2\" >ERROR</td>\n",
       "      <td id=\"T_3c505_row0_col3\" class=\"data row0 col3\" >2024-07-14 15:33:25.273490</td>\n",
       "    </tr>\n",
       "  </tbody>\n",
       "</table>\n"
      ],
      "text/plain": [
       "<pandas.io.formats.style.Styler at 0x2744af101d0>"
      ]
     },
     "metadata": {},
     "output_type": "display_data"
    }
   ],
   "source": [
    "import pandas as pd\n",
    "import numpy as np\n",
    "import copy\n",
    "import os\n",
    "import sys\n",
    "import shutil\n",
    "import datetime\n",
    "import qplib as qp\n",
    "from qplib import log\n",
    "pd.set_option('display.max_columns', None)\n",
    "\n",
    "\n",
    "\n",
    "log('trace: this is a trace message')\n",
    "log('debug: this is a debug message')\n",
    "log('info: this is an info message')\n",
    "log('warning: this is a warning message')\n",
    "log('error: this is an error message')\n",
    "\n"
   ]
  },
  {
   "cell_type": "markdown",
   "metadata": {},
   "source": [
    "# pd_query"
   ]
  },
  {
   "cell_type": "code",
   "execution_count": 32,
   "metadata": {},
   "outputs": [
    {
     "name": "stderr",
     "output_type": "stream",
     "text": [
      "C:\\Users\\Legion16248\\AppData\\Local\\Temp\\ipykernel_18572\\172075470.py:137: UserWarning: registration of accessor <class '__main__.DataFrameQuery'> under name 'q' for type <class 'pandas.core.frame.DataFrame'> is overriding a preexisting attribute with the same name.\n",
      "  @pd.api.extensions.register_dataframe_accessor('q')\n",
      "C:\\Users\\Legion16248\\AppData\\Local\\Temp\\ipykernel_18572\\172075470.py:787: UserWarning: registration of accessor <class '__main__.DataFrameQueryInteractiveMode'> under name 'qi' for type <class 'pandas.core.frame.DataFrame'> is overriding a preexisting attribute with the same name.\n",
      "  @pd.api.extensions.register_dataframe_accessor('qi')\n"
     ]
    },
    {
     "data": {
      "text/html": [
       "<style type=\"text/css\">\n",
       "#T_bb453_row0_col0, #T_bb453_row0_col1, #T_bb453_row0_col2, #T_bb453_row0_col3 {\n",
       "  background-color: #c0e7b0;\n",
       "}\n",
       "</style>\n",
       "<table id=\"T_bb453\">\n",
       "  <thead>\n",
       "  </thead>\n",
       "  <tbody>\n",
       "    <tr>\n",
       "      <th id=\"T_bb453_level0_row0\" class=\"row_heading level0 row0\" >1024</th>\n",
       "      <td id=\"T_bb453_row0_col0\" class=\"data row0 col0\" >df was checked. no problems found</td>\n",
       "      <td id=\"T_bb453_row0_col1\" class=\"data row0 col1\" >qp.pd_util._check_df</td>\n",
       "      <td id=\"T_bb453_row0_col2\" class=\"data row0 col2\" >info</td>\n",
       "      <td id=\"T_bb453_row0_col3\" class=\"data row0 col3\" >2024-07-14 23:27:08.946230</td>\n",
       "    </tr>\n",
       "  </tbody>\n",
       "</table>\n"
      ],
      "text/plain": [
       "<pandas.io.formats.style.Styler at 0x1ee50d66de0>"
      ]
     },
     "metadata": {},
     "output_type": "display_data"
    },
    {
     "data": {
      "text/html": [
       "<div>\n",
       "<style scoped>\n",
       "    .dataframe tbody tr th:only-of-type {\n",
       "        vertical-align: middle;\n",
       "    }\n",
       "\n",
       "    .dataframe tbody tr th {\n",
       "        vertical-align: top;\n",
       "    }\n",
       "\n",
       "    .dataframe thead th {\n",
       "        text-align: right;\n",
       "    }\n",
       "</style>\n",
       "<table border=\"1\" class=\"dataframe\">\n",
       "  <thead>\n",
       "    <tr style=\"text-align: right;\">\n",
       "      <th></th>\n",
       "      <th>1</th>\n",
       "    </tr>\n",
       "  </thead>\n",
       "  <tbody>\n",
       "    <tr>\n",
       "      <th>0</th>\n",
       "      <td>False</td>\n",
       "    </tr>\n",
       "    <tr>\n",
       "      <th>5</th>\n",
       "      <td>False</td>\n",
       "    </tr>\n",
       "  </tbody>\n",
       "</table>\n",
       "</div>"
      ],
      "text/plain": [
       "       1\n",
       "0  False\n",
       "5  False"
      ]
     },
     "execution_count": 32,
     "metadata": {},
     "output_type": "execute_result"
    }
   ],
   "source": [
    "\n",
    "import numpy as np\n",
    "import pandas as pd\n",
    "import copy\n",
    "import re\n",
    "import qplib as qp\n",
    "\n",
    "from IPython.display import display\n",
    "from ipywidgets import widgets, interactive_output, HBox, VBox, fixed, Layout, interact_manual\n",
    "\n",
    "from qplib.util import log\n",
    "from qplib.types import qp_int, qp_float, qp_num, qp_bool, qp_datetime, qp_date, qp_na, qp_nk, qp_yn, qpDict\n",
    "from qplib.pd_util import _check_df, _show_differences, _format_df, indexQpExtension, seriesQpExtension, dfQpExtension\n",
    "\n",
    "\n",
    "\n",
    "\n",
    "\n",
    "\n",
    "\n",
    "\n",
    "\n",
    "\n",
    "\n",
    "\n",
    "\n",
    "if 'cards' not in globals():\n",
    "    cards = pd.read_csv('data/cards.csv')\n",
    "\n",
    "df = qp.get_df()\n",
    "# df['bad /name´s'] = None\n",
    "\n",
    "\n",
    "\n",
    "df.q(\n",
    "    r\"\"\"\n",
    "    id ´r idx 0  ´n §0\n",
    "    id ´r idx 1  ´n §1\n",
    "    ´r idx 5 / §0\n",
    "    \"\"\",\n",
    "    diff=None,\n",
    "    inplace=False,\n",
    "    verbosity=2,\n",
    "    )\n",
    "\n",
    "# cards.q('toughness ´r >2 & <5')\n",
    "\n",
    "\n"
   ]
  },
  {
   "cell_type": "code",
   "execution_count": null,
   "metadata": {},
   "outputs": [],
   "source": [
    "df.loc[3:7, 'id']\n",
    "df.q('id ´r idx>3 & idx<8')"
   ]
  },
  {
   "cell_type": "code",
   "execution_count": null,
   "metadata": {},
   "outputs": [],
   "source": [
    "\n",
    "result = df.q(\n",
    "    r\"\"\"\n",
    "    ID  ´r ~~1....  ´n§1\n",
    "    diabetes ´r is yes & §1\n",
    "    ID / diabetes\n",
    "    \"\"\",\n",
    "    verbosity=0)\n",
    "compare(result, df.loc[[1], ['ID', 'diabetes']])\n",
    "\n",
    "\n",
    "result = df.q(\n",
    "    r\"\"\"\n",
    "    ID  ´r ~~1.... / ~~2....\n",
    "    gender ´r &=m / =male\n",
    "    ID / gender\n",
    "    \"\"\",\n",
    "    verbosity=0)\n",
    "compare(result, df.loc[[0,3,5], ['ID', 'gender']])\n",
    "\n",
    "\n",
    "result = df.q(\n",
    "    r\"\"\"\n",
    "    ID  ´r ~~1.... / ~~2....\n",
    "    gender ´r &=m / =male\n",
    "    \"\"\",\n",
    "    verbosity=0)\n",
    "compare(result, df.loc[[0,3,5], ['gender']])\n",
    "\n",
    "\n",
    "result = df.q(\n",
    "    r\"\"\"\n",
    "    ID  ´r ~~1.... / ~~2....\n",
    "    gender ´r /=m / =m / =male\n",
    "    \"\"\",\n",
    "    verbosity=0)\n",
    "compare(result, df.loc[[0,1,2,3,4,5], ['gender']])\n",
    "\n"
   ]
  },
  {
   "cell_type": "markdown",
   "metadata": {},
   "source": [
    "# qp.diff()"
   ]
  },
  {
   "cell_type": "code",
   "execution_count": 3,
   "metadata": {},
   "outputs": [
    {
     "data": {
      "text/html": [
       "<style type=\"text/css\">\n",
       "#T_5c586_row0_col0, #T_5c586_row0_col1, #T_5c586_row0_col2, #T_5c586_row0_col3 {\n",
       "  background-color: #f7d67c;\n",
       "}\n",
       "</style>\n",
       "<table id=\"T_5c586\">\n",
       "  <thead>\n",
       "  </thead>\n",
       "  <tbody>\n",
       "    <tr>\n",
       "      <th id=\"T_5c586_level0_row0\" class=\"row_heading level0 row0\" >203</th>\n",
       "      <td id=\"T_5c586_row0_col0\" class=\"data row0 col0\" >no rows fulfill the condition in \"´r \"</td>\n",
       "      <td id=\"T_5c586_row0_col1\" class=\"data row0 col1\" >df.q</td>\n",
       "      <td id=\"T_5c586_row0_col2\" class=\"data row0 col2\" >Warning</td>\n",
       "      <td id=\"T_5c586_row0_col3\" class=\"data row0 col3\" >2024-07-14 16:40:57.544421</td>\n",
       "    </tr>\n",
       "  </tbody>\n",
       "</table>\n"
      ],
      "text/plain": [
       "<pandas.io.formats.style.Styler at 0x1ee53cb4e60>"
      ]
     },
     "metadata": {},
     "output_type": "display_data"
    },
    {
     "data": {
      "text/html": [
       "<style type=\"text/css\">\n",
       "#T_31338_row0_col0, #T_31338_row0_col1, #T_31338_row0_col2, #T_31338_row0_col3 {\n",
       "  background-color: #f7d67c;\n",
       "}\n",
       "</style>\n",
       "<table id=\"T_31338\">\n",
       "  <thead>\n",
       "  </thead>\n",
       "  <tbody>\n",
       "    <tr>\n",
       "      <th id=\"T_31338_level0_row0\" class=\"row_heading level0 row0\" >210</th>\n",
       "      <td id=\"T_31338_row0_col0\" class=\"data row0 col0\" >no rows fulfill the condition in \"´r /\"</td>\n",
       "      <td id=\"T_31338_row0_col1\" class=\"data row0 col1\" >df.q</td>\n",
       "      <td id=\"T_31338_row0_col2\" class=\"data row0 col2\" >Warning</td>\n",
       "      <td id=\"T_31338_row0_col3\" class=\"data row0 col3\" >2024-07-14 16:40:57.566426</td>\n",
       "    </tr>\n",
       "  </tbody>\n",
       "</table>\n"
      ],
      "text/plain": [
       "<pandas.io.formats.style.Styler at 0x1ee53beb740>"
      ]
     },
     "metadata": {},
     "output_type": "display_data"
    },
    {
     "data": {
      "text/html": [
       "<style type=\"text/css\">\n",
       "#T_2702c_row0_col0, #T_2702c_row0_col1, #T_2702c_row0_col2, #T_2702c_row0_col3 {\n",
       "  background-color: #f7d67c;\n",
       "}\n",
       "</style>\n",
       "<table id=\"T_2702c\">\n",
       "  <thead>\n",
       "  </thead>\n",
       "  <tbody>\n",
       "    <tr>\n",
       "      <th id=\"T_2702c_level0_row0\" class=\"row_heading level0 row0\" >239</th>\n",
       "      <td id=\"T_2702c_row0_col0\" class=\"data row0 col0\" >no columns fulfill the condition in \"´c /\"</td>\n",
       "      <td id=\"T_2702c_row0_col1\" class=\"data row0 col1\" >df.q.select_cols()</td>\n",
       "      <td id=\"T_2702c_row0_col2\" class=\"data row0 col2\" >Warning</td>\n",
       "      <td id=\"T_2702c_row0_col3\" class=\"data row0 col3\" >2024-07-14 16:40:57.625439</td>\n",
       "    </tr>\n",
       "  </tbody>\n",
       "</table>\n"
      ],
      "text/plain": [
       "<pandas.io.formats.style.Styler at 0x1ee53f3bf80>"
      ]
     },
     "metadata": {},
     "output_type": "display_data"
    },
    {
     "data": {
      "text/html": [
       "<style type=\"text/css\">\n",
       "#T_c3c7b_row0_col0, #T_c3c7b_row0_col1, #T_c3c7b_row0_col2, #T_c3c7b_row0_col3 {\n",
       "  background-color: #f7d67c;\n",
       "}\n",
       "</style>\n",
       "<table id=\"T_c3c7b\">\n",
       "  <thead>\n",
       "  </thead>\n",
       "  <tbody>\n",
       "    <tr>\n",
       "      <th id=\"T_c3c7b_level0_row0\" class=\"row_heading level0 row0\" >250</th>\n",
       "      <td id=\"T_c3c7b_row0_col0\" class=\"data row0 col0\" >no columns fulfill the condition in \"´c /\"</td>\n",
       "      <td id=\"T_c3c7b_row0_col1\" class=\"data row0 col1\" >df.q.select_cols()</td>\n",
       "      <td id=\"T_c3c7b_row0_col2\" class=\"data row0 col2\" >Warning</td>\n",
       "      <td id=\"T_c3c7b_row0_col3\" class=\"data row0 col3\" >2024-07-14 16:40:57.633441</td>\n",
       "    </tr>\n",
       "  </tbody>\n",
       "</table>\n"
      ],
      "text/plain": [
       "<pandas.io.formats.style.Styler at 0x1ee53e77d10>"
      ]
     },
     "metadata": {},
     "output_type": "display_data"
    }
   ],
   "source": [
    "\n",
    "import pandas as pd\n",
    "import numpy as np\n",
    "import copy\n",
    "import os\n",
    "import datetime\n",
    "\n",
    "from IPython.display import display\n",
    "from ipywidgets import interact, widgets\n",
    "from pandas.api.extensions import register_dataframe_accessor\n",
    "\n",
    "from qplib.pd_util import _format_df\n",
    "from qplib.util import log\n",
    "from qplib.types import qp_date, qp_na, qpDict\n",
    "\n",
    "\n",
    "\n",
    "\n",
    "if 'cards' not in globals():\n",
    "    cards = pd.read_csv('data/cards.csv')\n",
    "\n",
    "cards1 = cards.q(\n",
    "    r\"\"\"\n",
    "    toughness ´r >1 & <4  ´m x= None\n",
    "    power ´r // is na  ´m abc\n",
    "    ´n new col  ´m text\n",
    "    \n",
    "    power // toughness // new col\n",
    "    \"\"\",\n",
    "    diff=None,\n",
    "    inplace=False,\n",
    "    verbosity=3,\n",
    "    )\n",
    "\n"
   ]
  },
  {
   "cell_type": "code",
   "execution_count": null,
   "metadata": {},
   "outputs": [],
   "source": []
  },
  {
   "cell_type": "code",
   "execution_count": null,
   "metadata": {},
   "outputs": [],
   "source": []
  },
  {
   "cell_type": "markdown",
   "metadata": {},
   "source": [
    "# pd_util"
   ]
  },
  {
   "cell_type": "code",
   "execution_count": null,
   "metadata": {},
   "outputs": [],
   "source": [
    "import pandas as pd\n",
    "import numpy as np\n",
    "import copy\n",
    "import os\n",
    "import datetime\n",
    "import qplib as qp\n",
    "\n",
    "from IPython.display import display\n",
    "from ipywidgets import interact, widgets\n",
    "from pandas.api.extensions import register_dataframe_accessor\n",
    "\n",
    "from qplib.util import log, qpDict\n",
    "from qplib.types import qp_date, qp_na\n",
    "\n",
    "\n",
    "\n",
    "\n",
    "\n",
    "\n",
    "df = pd.DataFrame({\n",
    "    'ID': [10001, 10002, 10003, 20001, 20002, 20003, 30001, 30002, 30003, 30004, 30005],\n",
    "    'name': ['John Doe', 'Jane Smith', 'Alice Johnson', 'Bob Brown', 'eva white', 'Frank miller', 'Grace TAYLOR', 'Harry Clark', 'IVY GREEN', 'JAck Williams', 'john Doe'],\n",
    "    'date of birth': ['1995-01-02', '1990/09/14', '1985.08.23', '19800406', '05-11-2007', '06-30-1983', '28-05-1975', '1960Mar08', '1955-Jan-09', '1950 Sep 10', '1945 October 11'],\n",
    "    'age': [-25, '30', np.nan, None, '40.0', 'forty-five', 'nan', 'unk', '', 'unknown', 35],\n",
    "    'gender': ['M', 'F', 'Female', 'Male', 'Other', 'm', 'ff', 'NaN', None, 'Mal', 'female'],\n",
    "    'height': [170, '175.5cm', None, '280', 'NaN', '185', '1', '6ft 1in', -10, '', 200],\n",
    "    'weight': [70.2, '68', '72.5lb', 'na', '', '75kg', None, '80.3', '130lbs', '82', -65],\n",
    "    'bp systole': ['20', 130, 'NaN', '140', '135mmhg', '125', 'NAN', '122', '', 130, '45'],\n",
    "    'bp diastole': [80, '85', 'nan', '90mmHg', np.nan, '75', 'NaN', None, '95', '0', 'NaN'],\n",
    "    'cholesterol': ['Normal', 'Highe', 'NaN', 'GOOD', 'n.a.', 'High', 'Normal', 'n/a', 'high', '', 'Normal'],\n",
    "    'diabetes': ['No', 'yes', 'N/A', 'No', 'Y', 'Yes', 'NO', None, 'NaN', 'n', 'Yes'],\n",
    "    'dose': ['10kg', 'NaN', '15 mg once a day', '20mg', '20 Mg', '25g', 'NaN', None, '30 MG', '35', '40ml']\n",
    "    })\n",
    "\n",
    "df_new, df_old = qp.get_dfs()\n",
    "\n",
    "display('new', diff(df_new, df_old, 'new', verbosity=4))\n",
    "display('old', diff(df_new, df_old, 'old', verbosity=4))\n",
    "display('mix', diff(df_new, df_old, 'mix', verbosity=4))\n",
    "display('new+', diff(df_new, df_old, 'new+', verbosity=3))\n",
    "\n",
    "\n"
   ]
  },
  {
   "cell_type": "code",
   "execution_count": null,
   "metadata": {},
   "outputs": [],
   "source": []
  },
  {
   "cell_type": "markdown",
   "metadata": {},
   "source": [
    "# types"
   ]
  },
  {
   "cell_type": "code",
   "execution_count": null,
   "metadata": {},
   "outputs": [],
   "source": [
    "import pandas as pd\n",
    "import numpy as np\n",
    "import re\n",
    "\n",
    "\n",
    "def qp_int(x, errors='coerce', na=np.nan):\n",
    "    try:\n",
    "        return int(float(x))  #float first to handle strings like '1.0'\n",
    "    except:\n",
    "        match errors:\n",
    "            case 'raise':\n",
    "                raise ValueError(f\"\"\"could not convert \"{x}\" to integer.\n",
    "                    Error handling:\n",
    "                    errors='ignore': returns the original value\n",
    "                    errors='raise': raises a ValueError\n",
    "                    errors='coerce': returns np.nan\n",
    "                    errors=<any other value>: returns <any other value>\n",
    "                    \"\"\")\n",
    "            case 'ignore':\n",
    "                return x\n",
    "            case 'coerce':\n",
    "                return na\n",
    "            case _:\n",
    "                return errors\n",
    "\n",
    "def qp_float(x, errors='coerce', na=np.nan):\n",
    "    try:\n",
    "        return float(x)\n",
    "    except:\n",
    "        match errors:\n",
    "            case 'raise':\n",
    "                raise ValueError(f\"\"\"could not convert \"{x}\" to float.\n",
    "                    Error handling:\n",
    "                    errors='ignore': returns the original value\n",
    "                    errors='raise': raises a ValueError\n",
    "                    errors='coerce': returns np.nan\n",
    "                    errors=<any other value>: returns <any other value>\n",
    "                    \"\"\")\n",
    "            case 'ignore':\n",
    "                return x\n",
    "            case 'coerce':\n",
    "                return na\n",
    "            case _:\n",
    "                return errors\n",
    "            \n",
    "def qp_num(x, errors='coerce', na=np.nan):\n",
    "    try:\n",
    "        return pd.to_numeric(x)\n",
    "    except:\n",
    "        match errors:\n",
    "            case 'raise':\n",
    "                raise ValueError(f\"\"\"could not convert \"{x}\" to numeric.\n",
    "                    Error handling:\n",
    "                    errors='ignore': returns the original value\n",
    "                    errors='raise': raises a ValueError\n",
    "                    errors='coerce': returns np.nan\n",
    "                    errors=<any other value>: returns <any other value>\n",
    "                    \"\"\")\n",
    "            case 'ignore':\n",
    "                return x\n",
    "            case 'coerce':\n",
    "                return na\n",
    "            case _:\n",
    "                return errors\n",
    "            \n",
    "def qp_bool(x, errors='coerce', na=None):\n",
    "    if str(x).lower() in ['y', 'yes', 'true', '1', '1.0', 'positive', 'pos']:\n",
    "        return True\n",
    "    elif str(x).lower() in ['n', 'no', 'false', '0', '0.0', 'negative', 'neg']:\n",
    "        return False\n",
    "    else:\n",
    "        match errors:\n",
    "            case 'raise':\n",
    "                raise ValueError(f\"\"\"could not convert \"{x}\" to boolean.\n",
    "                    Error handling:\n",
    "                    errors='ignore': returns the original value\n",
    "                    errors='raise': raises a ValueError\n",
    "                    errors='coerce': returns NaN\n",
    "                    errors=<any other value>: returns <any other value>\n",
    "                    \"\"\")\n",
    "            case 'ignore':\n",
    "                return x\n",
    "            case 'coerce':\n",
    "                return na\n",
    "            case _:\n",
    "                return errors\n",
    "\n",
    "\n",
    "def qp_date(x, errors='coerce', na=pd.NaT):\n",
    "    if isinstance(x, str):\n",
    "        x = x.replace('_', '-')\n",
    "    try:\n",
    "        if re.match(r'\\D*(1|2)\\d\\d\\d', x):\n",
    "            return pd.to_datetime(x, dayfirst=False).date()\n",
    "        else:\n",
    "            return pd.to_datetime(x, dayfirst=True).date()\n",
    "    except:\n",
    "        match errors:\n",
    "            case 'raise':\n",
    "                raise ValueError(f\"\"\"could not convert \"{x}\" to date.\n",
    "                    Error handling:\n",
    "                    errors='ignore': returns the original value\n",
    "                    errors='raise': raises a ValueError\n",
    "                    errors='coerce': returns NaT\n",
    "                    errors=<any other value>: returns <any other value>\n",
    "                    \"\"\")\n",
    "            case 'ignore':\n",
    "                return x\n",
    "            case 'coerce':\n",
    "                return na\n",
    "            case _:\n",
    "                return errors\n",
    "       \n",
    "def qp_datetime(x, errors='coerce', na=pd.NaT):\n",
    "    if isinstance(x, str):\n",
    "        x = x.replace('_', '-')\n",
    "    try:\n",
    "        if re.match(r'\\D*(1|2\\d\\d\\d)', x):\n",
    "            return pd.to_datetime(x, dayfirst=False)\n",
    "        else:\n",
    "            return pd.to_datetime(x, dayfirst=True)\n",
    "    except:\n",
    "        match errors:\n",
    "            case 'raise':\n",
    "                raise ValueError(f\"\"\"could not convert \"{x}\" to datetime.\n",
    "                    Error handling:\n",
    "                    errors='ignore': returns the original value\n",
    "                    errors='raise': raises a ValueError\n",
    "                    errors='coerce': returns NaT\n",
    "                    errors=<any other value>: returns <any other value>\n",
    "                    \"\"\")\n",
    "            case 'ignore':\n",
    "                return x\n",
    "            case 'coerce':\n",
    "                return na\n",
    "            case _:\n",
    "                return errors\n",
    "\n",
    "\n",
    "def qp_na(x, errors='ignore', na=None):\n",
    "    possible_nas = [\n",
    "        'not available', 'na', 'n/a', 'n.a', 'n.a.', 'na.', 'n.a',\n",
    "        'not a number', 'nan',\n",
    "        'null', 'nil',\n",
    "        'none',\n",
    "        '',\n",
    "        ]\n",
    "    \n",
    "    if pd.isna(x) or str(x).lower() in possible_nas:\n",
    "        return na\n",
    "    else:\n",
    "        match errors:\n",
    "            case 'raise':\n",
    "                raise ValueError(f\"\"\"could not convert \"{x}\" to \"{na}\".\n",
    "                    Error handling:\n",
    "                    errors='ignore': returns the original value\n",
    "                    errors='raise': raises a ValueError\n",
    "                    errors='coerce': returns NaN\n",
    "                    errors=<any other value>: returns <any other value>\n",
    "                    \"\"\")\n",
    "            case 'ignore':\n",
    "                return x\n",
    "            case 'coerce':\n",
    "                return None\n",
    "            case _:\n",
    "                return errors\n",
    "\n",
    "def qp_nk(x, errors='ignore', nk='unknown'):\n",
    "    possible_nks = [\n",
    "        'unk', 'unknown', 'not known', 'not known.',\n",
    "        'nk', 'n.k.', 'n.k', 'n/k',\n",
    "        'not specified', 'not specified.',\n",
    "        ]\n",
    "    \n",
    "    if str(x).lower() in possible_nks:\n",
    "        return nk\n",
    "    else:\n",
    "        match errors:\n",
    "            case 'raise':\n",
    "                raise ValueError(f\"\"\"could not convert \"{x}\" to \"{nk}\".\n",
    "                    Error handling:\n",
    "                    errors='ignore': returns the original value\n",
    "                    errors='raise': raises a ValueError\n",
    "                    errors='coerce': returns NaN\n",
    "                    errors=<any other value>: returns <any other value>\n",
    "                    \"\"\")\n",
    "            case 'ignore':\n",
    "                return x\n",
    "            case 'coerce':\n",
    "                return None\n",
    "            case _:\n",
    "                return errors\n",
    "\n",
    "def qp_yn(x, errors='coerce', yes='yes', no='no', na=None):\n",
    "    if str(x).lower() in ['y', 'yes', 'true', '1', '1.0', 'positive', 'pos']:\n",
    "        return yes\n",
    "    elif str(x).lower() in ['n', 'no', 'false', '0', '0.0', 'negative', 'neg']:\n",
    "        return no\n",
    "    else:\n",
    "        match errors:\n",
    "            case 'raise':\n",
    "                raise ValueError(f\"\"\"could not convert \"{x}\" to \"{yes}\" or \"{no}\".\n",
    "                    Error handling:\n",
    "                    errors='ignore': returns the original value\n",
    "                    errors='raise': raises a ValueError\n",
    "                    errors='coerce': returns NaN\n",
    "                    errors=<any other value>: returns <any other value>\n",
    "                    \"\"\")\n",
    "            case 'ignore':\n",
    "                return x\n",
    "            case 'coerce':\n",
    "                return na\n",
    "            case _:\n",
    "                return errors\n",
    "\n",
    "        \n",
    "\n",
    "\n"
   ]
  },
  {
   "cell_type": "code",
   "execution_count": null,
   "metadata": {},
   "outputs": [],
   "source": []
  },
  {
   "cell_type": "code",
   "execution_count": null,
   "metadata": {},
   "outputs": [],
   "source": [
    "import re\n",
    "\n",
    "# Define the regex pattern to match a sequence of numbers allowing for different kinds of separators\n",
    "pattern = r\"\\d+([,.\\s_]\\d+)*\"\n",
    "\n",
    "# Example string to match against\n",
    "example_string = \"123,456.789 0123\\t456_789\"\n",
    "\n",
    "# Perform the search\n",
    "matches = re.findall(pattern, example_string)\n",
    "\n",
    "print(matches)"
   ]
  },
  {
   "cell_type": "markdown",
   "metadata": {},
   "source": [
    "# \"bashlike\" wrappers"
   ]
  },
  {
   "cell_type": "code",
   "execution_count": null,
   "metadata": {},
   "outputs": [],
   "source": []
  },
  {
   "cell_type": "code",
   "execution_count": null,
   "metadata": {},
   "outputs": [],
   "source": []
  },
  {
   "cell_type": "code",
   "execution_count": null,
   "metadata": {},
   "outputs": [],
   "source": []
  },
  {
   "cell_type": "markdown",
   "metadata": {},
   "source": [
    "# temp"
   ]
  },
  {
   "cell_type": "code",
   "execution_count": null,
   "metadata": {},
   "outputs": [],
   "source": [
    "import dis\n",
    "import qplib as qp\n",
    "import pandas as pd\n",
    "import numpy as np\n",
    "from qplib import log\n",
    "\n",
    "log('test', level='trace', source='test')\n",
    "log('test', level='debug', source='test')\n",
    "log('test', level='info', source='test')\n",
    "log('test', level='warning', source='test')\n",
    "log('test', level='error', source='test')\n"
   ]
  },
  {
   "cell_type": "code",
   "execution_count": 22,
   "metadata": {},
   "outputs": [
    {
     "data": {
      "text/html": [
       "<style type=\"text/css\">\n",
       "#T_b53c7_row0_col0, #T_b53c7_row0_col1, #T_b53c7_row0_col2, #T_b53c7_row0_col3 {\n",
       "  background-color: #f7d67c;\n",
       "}\n",
       "</style>\n",
       "<table id=\"T_b53c7\">\n",
       "  <thead>\n",
       "  </thead>\n",
       "  <tbody>\n",
       "    <tr>\n",
       "      <th id=\"T_b53c7_level0_row0\" class=\"row_heading level0 row0\" >777</th>\n",
       "      <td id=\"T_b53c7_row0_col0\" class=\"data row0 col0\" >no rows fulfill the condition in \"´r §1\"</td>\n",
       "      <td id=\"T_b53c7_row0_col1\" class=\"data row0 col1\" >df.q</td>\n",
       "      <td id=\"T_b53c7_row0_col2\" class=\"data row0 col2\" >Warning</td>\n",
       "      <td id=\"T_b53c7_row0_col3\" class=\"data row0 col3\" >2024-07-14 23:19:23.034993</td>\n",
       "    </tr>\n",
       "  </tbody>\n",
       "</table>\n"
      ],
      "text/plain": [
       "<pandas.io.formats.style.Styler at 0x1ee53b67e00>"
      ]
     },
     "metadata": {},
     "output_type": "display_data"
    },
    {
     "data": {
      "text/html": [
       "<div>\n",
       "<style scoped>\n",
       "    .dataframe tbody tr th:only-of-type {\n",
       "        vertical-align: middle;\n",
       "    }\n",
       "\n",
       "    .dataframe tbody tr th {\n",
       "        vertical-align: top;\n",
       "    }\n",
       "\n",
       "    .dataframe thead th {\n",
       "        text-align: right;\n",
       "    }\n",
       "</style>\n",
       "<table border=\"1\" class=\"dataframe\">\n",
       "  <thead>\n",
       "    <tr style=\"text-align: right;\">\n",
       "      <th></th>\n",
       "      <th>ID</th>\n",
       "      <th>name</th>\n",
       "      <th>date of birth</th>\n",
       "      <th>age</th>\n",
       "      <th>gender</th>\n",
       "      <th>height</th>\n",
       "      <th>weight</th>\n",
       "      <th>bp systole</th>\n",
       "      <th>bp diastole</th>\n",
       "      <th>cholesterol</th>\n",
       "      <th>diabetes</th>\n",
       "      <th>dose</th>\n",
       "      <th>1</th>\n",
       "      <th>2</th>\n",
       "    </tr>\n",
       "  </thead>\n",
       "  <tbody>\n",
       "  </tbody>\n",
       "</table>\n",
       "</div>"
      ],
      "text/plain": [
       "Empty DataFrame\n",
       "Columns: [ID, name, date of birth, age, gender, height, weight, bp systole, bp diastole, cholesterol, diabetes, dose, 1, 2]\n",
       "Index: []"
      ]
     },
     "execution_count": 22,
     "metadata": {},
     "output_type": "execute_result"
    }
   ],
   "source": [
    "df.q('')\n",
    "\n",
    "df.q(\n",
    "    r\"\"\"\n",
    "    ´r idx 0  ´n §1\n",
    "    ´r idx 10 ´n §2\n",
    "    is any ´r is any\n",
    "\n",
    "    ´r §1\n",
    "    \"\"\",\n",
    "    diff=None,\n",
    "    inplace=False,\n",
    "    verbosity=3,\n",
    "    )"
   ]
  }
 ],
 "metadata": {
  "kernelspec": {
   "display_name": "Python 3",
   "language": "python",
   "name": "python3"
  },
  "language_info": {
   "codemirror_mode": {
    "name": "ipython",
    "version": 3
   },
   "file_extension": ".py",
   "mimetype": "text/x-python",
   "name": "python",
   "nbconvert_exporter": "python",
   "pygments_lexer": "ipython3",
   "version": "3.12.3"
  }
 },
 "nbformat": 4,
 "nbformat_minor": 2
}
