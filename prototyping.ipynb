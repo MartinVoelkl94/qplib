{
 "cells": [
  {
   "cell_type": "markdown",
   "metadata": {},
   "source": [
    "# imports"
   ]
  },
  {
   "cell_type": "code",
   "execution_count": null,
   "metadata": {},
   "outputs": [],
   "source": [
    "import pandas as pd\n",
    "import numpy as np\n",
    "import copy\n",
    "import os\n",
    "import sys\n",
    "import shutil\n",
    "import datetime\n",
    "import pickle\n",
    "import qplib as qp\n",
    "from qplib import log, na, nk, num\n",
    "\n"
   ]
  },
  {
   "cell_type": "markdown",
   "metadata": {},
   "source": [
    "# log()"
   ]
  },
  {
   "cell_type": "code",
   "execution_count": null,
   "metadata": {},
   "outputs": [],
   "source": []
  },
  {
   "cell_type": "code",
   "execution_count": null,
   "metadata": {},
   "outputs": [],
   "source": []
  },
  {
   "cell_type": "markdown",
   "metadata": {},
   "source": [
    "# pd_query v3"
   ]
  },
  {
   "cell_type": "code",
   "execution_count": 9,
   "metadata": {},
   "outputs": [
    {
     "name": "stdout",
     "output_type": "stream",
     "text": [
      "#################     display settings     #################\n"
     ]
    }
   ],
   "source": [
    "\n",
    "qp.header('display settings')\n"
   ]
  },
  {
   "cell_type": "code",
   "execution_count": 20,
   "metadata": {},
   "outputs": [
    {
     "name": "stderr",
     "output_type": "stream",
     "text": [
      "C:\\Users\\MartinVölkl-GouyaIns\\AppData\\Local\\Temp\\ipykernel_26216\\2593459123.py:566: UserWarning: registration of accessor <class '__main__.DataFrameQuery'> under name 'q' for type <class 'pandas.core.frame.DataFrame'> is overriding a preexisting attribute with the same name.\n",
      "  @pd.api.extensions.register_dataframe_accessor('q')\n",
      "C:\\Users\\MartinVölkl-GouyaIns\\AppData\\Local\\Temp\\ipykernel_26216\\2593459123.py:687: UserWarning: registration of accessor <class '__main__.DataFrameQueryInteractiveMode'> under name 'qi' for type <class 'pandas.core.frame.DataFrame'> is overriding a preexisting attribute with the same name.\n",
      "  @pd.api.extensions.register_dataframe_accessor('qi')\n"
     ]
    },
    {
     "data": {
      "application/vnd.jupyter.widget-view+json": {
       "model_id": "4463bd3225b54452b9ee693bc20e6c96",
       "version_major": 2,
       "version_minor": 0
      },
      "text/plain": [
       "HBox(children=(VBox(children=(Textarea(value='', layout=Layout(height='100%', width='95%'), placeholder='Enter…"
      ]
     },
     "metadata": {},
     "output_type": "display_data"
    },
    {
     "data": {
      "application/vnd.jupyter.widget-view+json": {
       "model_id": "67dc52d8b52448c3aa910892e2705dd7",
       "version_major": 2,
       "version_minor": 0
      },
      "text/plain": [
       "HBox(children=(Output(),))"
      ]
     },
     "metadata": {},
     "output_type": "display_data"
    }
   ],
   "source": [
    "\n",
    "import numpy as np\n",
    "import pandas as pd\n",
    "import copy\n",
    "import re\n",
    "import qplib as qp\n",
    "\n",
    "from IPython.display import display\n",
    "from ipywidgets import widgets, interactive_output, HBox, VBox, fixed, Layout, interact_manual\n",
    "\n",
    "from qplib.util import log\n",
    "from qplib.types import qp_int, qp_float, qp_num, qp_bool, qp_datetime, qp_date, qp_na, qp_nk, qp_yn, qpDict\n",
    "from qplib.pd_util import _check_df, _show_differences, _format_df, indexQpExtension, seriesQpExtension, dfQpExtension\n",
    "\n",
    "\n",
    "\n",
    "\n",
    "\n",
    "df = qp.get_df()\n",
    "\n",
    "expr1 = r\"\"\"\n",
    "    ´´\n",
    "    # name ´any ()j &&()n\n",
    "    # id // name   ´any ()j &&()n &&is numa\n",
    "    # height // weight  ´any is num && any=185 ´´x=1\n",
    "    \"\"\"\n",
    "\n",
    "# df.q(expr1, verbosity=4)\n",
    "\n",
    "\n",
    "df.qi()\n",
    "\n"
   ]
  },
  {
   "cell_type": "code",
   "execution_count": 1,
   "metadata": {},
   "outputs": [
    {
     "name": "stderr",
     "output_type": "stream",
     "text": [
      "C:\\Users\\MartinVölkl-GouyaIns\\AppData\\Local\\Temp\\ipykernel_17820\\2859815972.py:12: DtypeWarning: Columns (2,3,7,12,16,20,23,47,52,53,61,62,66,67) have mixed types. Specify dtype option on import or set low_memory=False.\n",
      "  cards = pd.read_csv('data/cards.csv')\n"
     ]
    }
   ],
   "source": [
    "import pandas as pd\n",
    "import numpy as np\n",
    "import copy\n",
    "import os\n",
    "import sys\n",
    "import shutil\n",
    "import datetime\n",
    "import qplib as qp\n",
    "from qplib import log\n",
    "pd.set_option('display.max_columns', None)\n",
    "\n",
    "cards = pd.read_csv('data/cards.csv')"
   ]
  },
  {
   "cell_type": "code",
   "execution_count": 31,
   "metadata": {},
   "outputs": [
    {
     "name": "stdout",
     "output_type": "stream",
     "text": [
      "         196786 function calls (196613 primitive calls) in 0.409 seconds\n",
      "\n",
      "   Ordered by: internal time\n",
      "   List reduced from 527 to 10 due to restriction <10>\n",
      "\n",
      "   ncalls  tottime  percall  cumtime  percall filename:lineno(function)\n",
      "    83232    0.099    0.000    0.099    0.000 c:\\Users\\MartinVölkl-GouyaIns\\Gouya Insights\\Data Management GoIn - Dokumente\\09_Tech\\python\\qplib_dev_v03\\qplib\\types.py:7(qp_int)\n",
      "        1    0.071    0.071    0.170    0.170 {pandas._libs.lib.map_infer}\n",
      "       77    0.043    0.001    0.044    0.001 C:\\Users\\MartinVölkl-GouyaIns\\AppData\\Roaming\\Python\\Python312\\site-packages\\pandas\\core\\internals\\base.py:310(setitem_inplace)\n",
      "      108    0.037    0.000    0.037    0.000 {method 'copy' of 'numpy.ndarray' objects}\n",
      "        2    0.022    0.011    0.143    0.071 C:\\Users\\MartinVölkl-GouyaIns\\AppData\\Roaming\\Python\\Python312\\site-packages\\pandas\\core\\indexing.py:2010(_setitem_with_indexer_frame_value)\n",
      "    83233    0.020    0.000    0.020    0.000 C:\\Users\\MartinVölkl-GouyaIns\\AppData\\Roaming\\Python\\Python312\\site-packages\\pandas\\core\\indexes\\range.py:464(__iter__)\n",
      "        4    0.007    0.002    0.007    0.002 {pandas._libs.lib.maybe_convert_objects}\n",
      "       56    0.006    0.000    0.007    0.000 C:\\Users\\MartinVölkl-GouyaIns\\AppData\\Roaming\\Python\\Python312\\site-packages\\pandas\\core\\internals\\blocks.py:1127(setitem)\n",
      "       15    0.005    0.000    0.005    0.000 {pandas._libs.algos.take_2d_axis0_object_object}\n",
      "6369/6352    0.004    0.000    0.006    0.000 {built-in method builtins.isinstance}\n",
      "\n",
      "\n"
     ]
    },
    {
     "data": {
      "text/plain": [
       "<pstats.Stats at 0x16580eefb90>"
      ]
     },
     "execution_count": 31,
     "metadata": {},
     "output_type": "execute_result"
    }
   ],
   "source": [
    "\n",
    "\n",
    "import cProfile, pstats\n",
    "\n",
    "profiler = cProfile.Profile()\n",
    "profiler.enable()\n",
    "\n",
    "a = cards.q(\n",
    "    r\"\"\"\n",
    "    toughness ´´to int\n",
    "    \"\"\",\n",
    "    diff=None,\n",
    "    inplace=True,\n",
    "    verbosity=3,\n",
    "    )\n",
    "\n",
    "profiler.disable()\n",
    "stats = pstats.Stats(profiler).sort_stats('tottime')\n",
    "stats.print_stats(10)"
   ]
  },
  {
   "cell_type": "code",
   "execution_count": 26,
   "metadata": {},
   "outputs": [
    {
     "name": "stdout",
     "output_type": "stream",
     "text": [
      "         832 function calls (813 primitive calls) in 0.049 seconds\n",
      "\n",
      "   Ordered by: internal time\n",
      "   List reduced from 238 to 10 due to restriction <10>\n",
      "\n",
      "   ncalls  tottime  percall  cumtime  percall filename:lineno(function)\n",
      "        1    0.039    0.039    0.039    0.039 {pandas._libs.lib.maybe_convert_numeric}\n",
      "        1    0.003    0.003    0.005    0.005 C:\\Users\\MartinVölkl-GouyaIns\\AppData\\Roaming\\Python\\Python312\\site-packages\\pandas\\core\\generic.py:4077(_take_with_is_copy)\n",
      "        1    0.001    0.001    0.001    0.001 C:\\Users\\MartinVölkl-GouyaIns\\AppData\\Roaming\\Python\\Python312\\site-packages\\pandas\\core\\indexers\\utils.py:239(maybe_convert_indices)\n",
      "        2    0.001    0.000    0.001    0.000 {method '__exit__' of 'sqlite3.Connection' objects}\n",
      "        1    0.001    0.001    0.001    0.001 C:\\Users\\MartinVölkl-GouyaIns\\AppData\\Roaming\\Python\\Python312\\site-packages\\pandas\\core\\indexing.py:1188(_validate_key)\n",
      "        2    0.000    0.000    0.000    0.000 C:\\Users\\MartinVölkl-GouyaIns\\AppData\\Roaming\\Python\\Python312\\site-packages\\traitlets\\traitlets.py:3481(validate)\n",
      "        1    0.000    0.000    0.000    0.000 C:\\Users\\MartinVölkl-GouyaIns\\AppData\\Roaming\\Python\\Python312\\site-packages\\pandas\\core\\dtypes\\common.py:137(is_object_dtype)\n",
      "        1    0.000    0.000    0.000    0.000 {pandas._libs.algos.take_1d_object_object}\n",
      "        3    0.000    0.000    0.000    0.000 {built-in method builtins.compile}\n",
      "        2    0.000    0.000    0.039    0.020 C:\\Users\\MartinVölkl-GouyaIns\\AppData\\Roaming\\Python\\Python312\\site-packages\\pandas\\core\\tools\\numeric.py:42(to_numeric)\n",
      "\n",
      "\n"
     ]
    },
    {
     "data": {
      "text/plain": [
       "<pstats.Stats at 0x165812ad730>"
      ]
     },
     "execution_count": 26,
     "metadata": {},
     "output_type": "execute_result"
    }
   ],
   "source": [
    "\n",
    "\n",
    "import cProfile, pstats\n",
    "\n",
    "profiler = cProfile.Profile()\n",
    "profiler.enable()\n",
    "\n",
    "a = pd.to_numeric(cards['toughness'], errors='coerce') > pd.to_numeric(2)\n",
    "a = cards.loc[a, 'toughness']\n",
    "\n",
    "profiler.disable()\n",
    "stats = pstats.Stats(profiler).sort_stats('tottime')\n",
    "stats.print_stats(10)"
   ]
  },
  {
   "cell_type": "markdown",
   "metadata": {},
   "source": [
    "# qp.diff()"
   ]
  },
  {
   "cell_type": "code",
   "execution_count": null,
   "metadata": {},
   "outputs": [],
   "source": [
    "\n",
    "import pandas as pd\n",
    "import numpy as np\n",
    "import copy\n",
    "import os\n",
    "import datetime\n",
    "\n",
    "from IPython.display import display\n",
    "from ipywidgets import interact, widgets\n",
    "from pandas.api.extensions import register_dataframe_accessor\n",
    "\n",
    "from qplib.util import log, qpDict\n",
    "from qplib.types import qp_date, qp_na\n",
    "\n",
    "\n",
    "\n",
    "\n",
    "\n",
    "\n",
    "\n",
    "if 'cards' not in globals():\n",
    "    cards = pd.read_csv('dat/cards.csv')\n",
    "\n",
    "# cards1 = cards.q('=toughness', '>1 && <4', modify='int(x)+10', inplace=False)\n",
    "\n",
    "# diff(cards1, cards, show='new')"
   ]
  },
  {
   "cell_type": "code",
   "execution_count": null,
   "metadata": {},
   "outputs": [],
   "source": []
  },
  {
   "cell_type": "code",
   "execution_count": null,
   "metadata": {},
   "outputs": [],
   "source": []
  },
  {
   "cell_type": "markdown",
   "metadata": {},
   "source": [
    "# pd_util"
   ]
  },
  {
   "cell_type": "code",
   "execution_count": null,
   "metadata": {},
   "outputs": [],
   "source": [
    "import pandas as pd\n",
    "import numpy as np\n",
    "import copy\n",
    "import os\n",
    "import datetime\n",
    "import qplib as qp\n",
    "\n",
    "from IPython.display import display\n",
    "from ipywidgets import interact, widgets\n",
    "from pandas.api.extensions import register_dataframe_accessor\n",
    "\n",
    "from qplib.util import log, qpDict\n",
    "from qplib.types import qp_date, qp_na\n",
    "\n",
    "\n",
    "\n",
    "\n",
    "\n",
    "\n",
    "df = pd.DataFrame({\n",
    "    'ID': [10001, 10002, 10003, 20001, 20002, 20003, 30001, 30002, 30003, 30004, 30005],\n",
    "    'name': ['John Doe', 'Jane Smith', 'Alice Johnson', 'Bob Brown', 'eva white', 'Frank miller', 'Grace TAYLOR', 'Harry Clark', 'IVY GREEN', 'JAck Williams', 'john Doe'],\n",
    "    'date of birth': ['1995-01-02', '1990/09/14', '1985.08.23', '19800406', '05-11-2007', '06-30-1983', '28-05-1975', '1960Mar08', '1955-Jan-09', '1950 Sep 10', '1945 October 11'],\n",
    "    'age': [-25, '30', np.nan, None, '40.0', 'forty-five', 'nan', 'unk', '', 'unknown', 35],\n",
    "    'gender': ['M', 'F', 'Female', 'Male', 'Other', 'm', 'ff', 'NaN', None, 'Mal', 'female'],\n",
    "    'height': [170, '175.5cm', None, '280', 'NaN', '185', '1', '6ft 1in', -10, '', 200],\n",
    "    'weight': [70.2, '68', '72.5lb', 'na', '', '75kg', None, '80.3', '130lbs', '82', -65],\n",
    "    'bp systole': ['20', 130, 'NaN', '140', '135mmhg', '125', 'NAN', '122', '', 130, '45'],\n",
    "    'bp diastole': [80, '85', 'nan', '90mmHg', np.nan, '75', 'NaN', None, '95', '0', 'NaN'],\n",
    "    'cholesterol': ['Normal', 'Highe', 'NaN', 'GOOD', 'n.a.', 'High', 'Normal', 'n/a', 'high', '', 'Normal'],\n",
    "    'diabetes': ['No', 'yes', 'N/A', 'No', 'Y', 'Yes', 'NO', None, 'NaN', 'n', 'Yes'],\n",
    "    'dose': ['10kg', 'NaN', '15 mg once a day', '20mg', '20 Mg', '25g', 'NaN', None, '30 MG', '35', '40ml']\n",
    "    })\n",
    "\n",
    "df_new, df_old = qp.get_dfs()\n",
    "\n",
    "display('new', diff(df_new, df_old, 'new', verbosity=4))\n",
    "display('old', diff(df_new, df_old, 'old', verbosity=4))\n",
    "display('mix', diff(df_new, df_old, 'mix', verbosity=4))\n",
    "display('new+', diff(df_new, df_old, 'new+', verbosity=3))\n",
    "\n",
    "\n"
   ]
  },
  {
   "cell_type": "code",
   "execution_count": null,
   "metadata": {},
   "outputs": [],
   "source": []
  },
  {
   "cell_type": "markdown",
   "metadata": {},
   "source": [
    "# types"
   ]
  },
  {
   "cell_type": "code",
   "execution_count": null,
   "metadata": {},
   "outputs": [],
   "source": [
    "import pandas as pd\n",
    "import numpy as np\n",
    "import re\n",
    "\n",
    "\n",
    "def qp_int(x, errors='coerce', na=np.nan):\n",
    "    try:\n",
    "        return int(float(x))  #float first to handle strings like '1.0'\n",
    "    except:\n",
    "        match errors:\n",
    "            case 'raise':\n",
    "                raise ValueError(f\"\"\"could not convert \"{x}\" to integer.\n",
    "                    Error handling:\n",
    "                    errors='ignore': returns the original value\n",
    "                    errors='raise': raises a ValueError\n",
    "                    errors='coerce': returns np.nan\n",
    "                    errors=<any other value>: returns <any other value>\n",
    "                    \"\"\")\n",
    "            case 'ignore':\n",
    "                return x\n",
    "            case 'coerce':\n",
    "                return na\n",
    "            case _:\n",
    "                return errors\n",
    "\n",
    "def qp_float(x, errors='coerce', na=np.nan):\n",
    "    try:\n",
    "        return float(x)\n",
    "    except:\n",
    "        match errors:\n",
    "            case 'raise':\n",
    "                raise ValueError(f\"\"\"could not convert \"{x}\" to float.\n",
    "                    Error handling:\n",
    "                    errors='ignore': returns the original value\n",
    "                    errors='raise': raises a ValueError\n",
    "                    errors='coerce': returns np.nan\n",
    "                    errors=<any other value>: returns <any other value>\n",
    "                    \"\"\")\n",
    "            case 'ignore':\n",
    "                return x\n",
    "            case 'coerce':\n",
    "                return na\n",
    "            case _:\n",
    "                return errors\n",
    "            \n",
    "def qp_num(x, errors='coerce', na=np.nan):\n",
    "    try:\n",
    "        return pd.to_numeric(x)\n",
    "    except:\n",
    "        match errors:\n",
    "            case 'raise':\n",
    "                raise ValueError(f\"\"\"could not convert \"{x}\" to numeric.\n",
    "                    Error handling:\n",
    "                    errors='ignore': returns the original value\n",
    "                    errors='raise': raises a ValueError\n",
    "                    errors='coerce': returns np.nan\n",
    "                    errors=<any other value>: returns <any other value>\n",
    "                    \"\"\")\n",
    "            case 'ignore':\n",
    "                return x\n",
    "            case 'coerce':\n",
    "                return na\n",
    "            case _:\n",
    "                return errors\n",
    "            \n",
    "def qp_bool(x, errors='coerce', na=None):\n",
    "    if str(x).lower() in ['y', 'yes', 'true', '1', '1.0', 'positive', 'pos']:\n",
    "        return True\n",
    "    elif str(x).lower() in ['n', 'no', 'false', '0', '0.0', 'negative', 'neg']:\n",
    "        return False\n",
    "    else:\n",
    "        match errors:\n",
    "            case 'raise':\n",
    "                raise ValueError(f\"\"\"could not convert \"{x}\" to boolean.\n",
    "                    Error handling:\n",
    "                    errors='ignore': returns the original value\n",
    "                    errors='raise': raises a ValueError\n",
    "                    errors='coerce': returns NaN\n",
    "                    errors=<any other value>: returns <any other value>\n",
    "                    \"\"\")\n",
    "            case 'ignore':\n",
    "                return x\n",
    "            case 'coerce':\n",
    "                return na\n",
    "            case _:\n",
    "                return errors\n",
    "\n",
    "\n",
    "def qp_date(x, errors='coerce', na=pd.NaT):\n",
    "    if isinstance(x, str):\n",
    "        x = x.replace('_', '-')\n",
    "    try:\n",
    "        if re.match(r'\\D*(1|2)\\d\\d\\d', x):\n",
    "            return pd.to_datetime(x, dayfirst=False).date()\n",
    "        else:\n",
    "            return pd.to_datetime(x, dayfirst=True).date()\n",
    "    except:\n",
    "        match errors:\n",
    "            case 'raise':\n",
    "                raise ValueError(f\"\"\"could not convert \"{x}\" to date.\n",
    "                    Error handling:\n",
    "                    errors='ignore': returns the original value\n",
    "                    errors='raise': raises a ValueError\n",
    "                    errors='coerce': returns NaT\n",
    "                    errors=<any other value>: returns <any other value>\n",
    "                    \"\"\")\n",
    "            case 'ignore':\n",
    "                return x\n",
    "            case 'coerce':\n",
    "                return na\n",
    "            case _:\n",
    "                return errors\n",
    "       \n",
    "def qp_datetime(x, errors='coerce', na=pd.NaT):\n",
    "    if isinstance(x, str):\n",
    "        x = x.replace('_', '-')\n",
    "    try:\n",
    "        if re.match(r'\\D*(1|2\\d\\d\\d)', x):\n",
    "            return pd.to_datetime(x, dayfirst=False)\n",
    "        else:\n",
    "            return pd.to_datetime(x, dayfirst=True)\n",
    "    except:\n",
    "        match errors:\n",
    "            case 'raise':\n",
    "                raise ValueError(f\"\"\"could not convert \"{x}\" to datetime.\n",
    "                    Error handling:\n",
    "                    errors='ignore': returns the original value\n",
    "                    errors='raise': raises a ValueError\n",
    "                    errors='coerce': returns NaT\n",
    "                    errors=<any other value>: returns <any other value>\n",
    "                    \"\"\")\n",
    "            case 'ignore':\n",
    "                return x\n",
    "            case 'coerce':\n",
    "                return na\n",
    "            case _:\n",
    "                return errors\n",
    "\n",
    "\n",
    "def qp_na(x, errors='ignore', na=None):\n",
    "    possible_nas = [\n",
    "        'not available', 'na', 'n/a', 'n.a', 'n.a.', 'na.', 'n.a',\n",
    "        'not a number', 'nan',\n",
    "        'null', 'nil',\n",
    "        'none',\n",
    "        '',\n",
    "        ]\n",
    "    \n",
    "    if pd.isna(x) or str(x).lower() in possible_nas:\n",
    "        return na\n",
    "    else:\n",
    "        match errors:\n",
    "            case 'raise':\n",
    "                raise ValueError(f\"\"\"could not convert \"{x}\" to \"{na}\".\n",
    "                    Error handling:\n",
    "                    errors='ignore': returns the original value\n",
    "                    errors='raise': raises a ValueError\n",
    "                    errors='coerce': returns NaN\n",
    "                    errors=<any other value>: returns <any other value>\n",
    "                    \"\"\")\n",
    "            case 'ignore':\n",
    "                return x\n",
    "            case 'coerce':\n",
    "                return None\n",
    "            case _:\n",
    "                return errors\n",
    "\n",
    "def qp_nk(x, errors='ignore', nk='unknown'):\n",
    "    possible_nks = [\n",
    "        'unk', 'unknown', 'not known', 'not known.',\n",
    "        'nk', 'n.k.', 'n.k', 'n/k',\n",
    "        'not specified', 'not specified.',\n",
    "        ]\n",
    "    \n",
    "    if str(x).lower() in possible_nks:\n",
    "        return nk\n",
    "    else:\n",
    "        match errors:\n",
    "            case 'raise':\n",
    "                raise ValueError(f\"\"\"could not convert \"{x}\" to \"{nk}\".\n",
    "                    Error handling:\n",
    "                    errors='ignore': returns the original value\n",
    "                    errors='raise': raises a ValueError\n",
    "                    errors='coerce': returns NaN\n",
    "                    errors=<any other value>: returns <any other value>\n",
    "                    \"\"\")\n",
    "            case 'ignore':\n",
    "                return x\n",
    "            case 'coerce':\n",
    "                return None\n",
    "            case _:\n",
    "                return errors\n",
    "\n",
    "def qp_yn(x, errors='coerce', yes='yes', no='no', na=None):\n",
    "    if str(x).lower() in ['y', 'yes', 'true', '1', '1.0', 'positive', 'pos']:\n",
    "        return yes\n",
    "    elif str(x).lower() in ['n', 'no', 'false', '0', '0.0', 'negative', 'neg']:\n",
    "        return no\n",
    "    else:\n",
    "        match errors:\n",
    "            case 'raise':\n",
    "                raise ValueError(f\"\"\"could not convert \"{x}\" to \"{yes}\" or \"{no}\".\n",
    "                    Error handling:\n",
    "                    errors='ignore': returns the original value\n",
    "                    errors='raise': raises a ValueError\n",
    "                    errors='coerce': returns NaN\n",
    "                    errors=<any other value>: returns <any other value>\n",
    "                    \"\"\")\n",
    "            case 'ignore':\n",
    "                return x\n",
    "            case 'coerce':\n",
    "                return na\n",
    "            case _:\n",
    "                return errors\n",
    "\n",
    "        \n",
    "\n",
    "\n"
   ]
  },
  {
   "cell_type": "code",
   "execution_count": null,
   "metadata": {},
   "outputs": [],
   "source": []
  },
  {
   "cell_type": "code",
   "execution_count": null,
   "metadata": {},
   "outputs": [],
   "source": [
    "import re\n",
    "\n",
    "# Define the regex pattern to match a sequence of numbers allowing for different kinds of separators\n",
    "pattern = r\"\\d+([,.\\s_]\\d+)*\"\n",
    "\n",
    "# Example string to match against\n",
    "example_string = \"123,456.789 0123\\t456_789\"\n",
    "\n",
    "# Perform the search\n",
    "matches = re.findall(pattern, example_string)\n",
    "\n",
    "print(matches)"
   ]
  },
  {
   "cell_type": "markdown",
   "metadata": {},
   "source": [
    "# \"bashlike\" wrappers"
   ]
  },
  {
   "cell_type": "code",
   "execution_count": null,
   "metadata": {},
   "outputs": [],
   "source": []
  },
  {
   "cell_type": "code",
   "execution_count": null,
   "metadata": {},
   "outputs": [],
   "source": []
  },
  {
   "cell_type": "code",
   "execution_count": null,
   "metadata": {},
   "outputs": [],
   "source": []
  },
  {
   "cell_type": "markdown",
   "metadata": {},
   "source": [
    "# temp"
   ]
  },
  {
   "cell_type": "code",
   "execution_count": 10,
   "metadata": {},
   "outputs": [
    {
     "data": {
      "text/html": [
       "<style type=\"text/css\">\n",
       "#T_b45ac_row0_col0, #T_b45ac_row0_col1, #T_b45ac_row0_col2, #T_b45ac_row0_col3, #T_b45ac_row0_col4 {\n",
       "  background-color: #a3de83;\n",
       "}\n",
       "</style>\n",
       "<table id=\"T_b45ac\">\n",
       "  <thead>\n",
       "  </thead>\n",
       "  <tbody>\n",
       "    <tr>\n",
       "      <th id=\"T_b45ac_level0_row0\" class=\"row_heading level0 row0\" >19</th>\n",
       "      <td id=\"T_b45ac_row0_col0\" class=\"data row0 col0\" >info</td>\n",
       "      <td id=\"T_b45ac_row0_col1\" class=\"data row0 col1\" >test</td>\n",
       "      <td id=\"T_b45ac_row0_col2\" class=\"data row0 col2\" >test</td>\n",
       "      <td id=\"T_b45ac_row0_col3\" class=\"data row0 col3\" ></td>\n",
       "      <td id=\"T_b45ac_row0_col4\" class=\"data row0 col4\" >2024-07-10 13:11:17.328312</td>\n",
       "    </tr>\n",
       "  </tbody>\n",
       "</table>\n"
      ],
      "text/plain": [
       "<pandas.io.formats.style.Styler at 0x2115bae70b0>"
      ]
     },
     "metadata": {},
     "output_type": "display_data"
    },
    {
     "data": {
      "text/html": [
       "<style type=\"text/css\">\n",
       "#T_28d83_row0_col0, #T_28d83_row0_col1, #T_28d83_row0_col2, #T_28d83_row0_col3, #T_28d83_row0_col4 {\n",
       "  background-color: orange;\n",
       "}\n",
       "</style>\n",
       "<table id=\"T_28d83\">\n",
       "  <thead>\n",
       "  </thead>\n",
       "  <tbody>\n",
       "    <tr>\n",
       "      <th id=\"T_28d83_level0_row0\" class=\"row_heading level0 row0\" >20</th>\n",
       "      <td id=\"T_28d83_row0_col0\" class=\"data row0 col0\" >Warning</td>\n",
       "      <td id=\"T_28d83_row0_col1\" class=\"data row0 col1\" >test</td>\n",
       "      <td id=\"T_28d83_row0_col2\" class=\"data row0 col2\" >test</td>\n",
       "      <td id=\"T_28d83_row0_col3\" class=\"data row0 col3\" ></td>\n",
       "      <td id=\"T_28d83_row0_col4\" class=\"data row0 col4\" >2024-07-10 13:11:17.340648</td>\n",
       "    </tr>\n",
       "  </tbody>\n",
       "</table>\n"
      ],
      "text/plain": [
       "<pandas.io.formats.style.Styler at 0x2115b9f1d60>"
      ]
     },
     "metadata": {},
     "output_type": "display_data"
    },
    {
     "data": {
      "text/html": [
       "<style type=\"text/css\">\n",
       "#T_8ec0b_row0_col0, #T_8ec0b_row0_col1, #T_8ec0b_row0_col2, #T_8ec0b_row0_col3, #T_8ec0b_row0_col4 {\n",
       "  background-color: red;\n",
       "}\n",
       "</style>\n",
       "<table id=\"T_8ec0b\">\n",
       "  <thead>\n",
       "  </thead>\n",
       "  <tbody>\n",
       "    <tr>\n",
       "      <th id=\"T_8ec0b_level0_row0\" class=\"row_heading level0 row0\" >21</th>\n",
       "      <td id=\"T_8ec0b_row0_col0\" class=\"data row0 col0\" >ERROR</td>\n",
       "      <td id=\"T_8ec0b_row0_col1\" class=\"data row0 col1\" >test</td>\n",
       "      <td id=\"T_8ec0b_row0_col2\" class=\"data row0 col2\" >test</td>\n",
       "      <td id=\"T_8ec0b_row0_col3\" class=\"data row0 col3\" ></td>\n",
       "      <td id=\"T_8ec0b_row0_col4\" class=\"data row0 col4\" >2024-07-10 13:11:17.347125</td>\n",
       "    </tr>\n",
       "  </tbody>\n",
       "</table>\n"
      ],
      "text/plain": [
       "<pandas.io.formats.style.Styler at 0x2115ba58920>"
      ]
     },
     "metadata": {},
     "output_type": "display_data"
    }
   ],
   "source": [
    "import dis\n",
    "import qplib as qp\n",
    "import pandas as pd\n",
    "import numpy as np\n",
    "from qplib import log\n",
    "\n",
    "\n",
    "log('test', level='debug', source='test', verbosity=3)\n",
    "log('test', level='info', source='test', verbosity=3)\n",
    "log('test', level='warning', source='test', verbosity=3)\n",
    "log('test', level='error', source='test', verbosity=3)\n",
    "\n",
    "\n",
    "\n"
   ]
  },
  {
   "cell_type": "code",
   "execution_count": null,
   "metadata": {},
   "outputs": [],
   "source": []
  },
  {
   "cell_type": "code",
   "execution_count": null,
   "metadata": {},
   "outputs": [],
   "source": []
  }
 ],
 "metadata": {
  "kernelspec": {
   "display_name": "Python 3",
   "language": "python",
   "name": "python3"
  },
  "language_info": {
   "codemirror_mode": {
    "name": "ipython",
    "version": 3
   },
   "file_extension": ".py",
   "mimetype": "text/x-python",
   "name": "python",
   "nbconvert_exporter": "python",
   "pygments_lexer": "ipython3",
   "version": "3.12.3"
  }
 },
 "nbformat": 4,
 "nbformat_minor": 2
}
