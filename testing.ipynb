{
 "cells": [
  {
   "cell_type": "markdown",
   "metadata": {},
   "source": [
    "# qplib test suite\n",
    "\n",
    "some of the tests should result in colored info, warning or error logs to be shown. These are expected function behaviour under the test conditions and do not indicate a test was passed or failed. Instead the relevant messages are those starting with \"passed test...\" or \"failed test...\".  \n",
    "if any test fails, the script stops and does not save a test_report."
   ]
  },
  {
   "cell_type": "markdown",
   "metadata": {},
   "source": [
    "# imports"
   ]
  },
  {
   "cell_type": "code",
   "execution_count": 1,
   "metadata": {},
   "outputs": [],
   "source": [
    "import pandas as pd\n",
    "import numpy as np\n",
    "import copy\n",
    "import os\n",
    "import shutil\n",
    "import datetime\n",
    "import qplib as qp\n",
    "from qplib import log\n",
    "\n",
    "working_directory = os.getcwd()\n",
    "\n"
   ]
  },
  {
   "cell_type": "markdown",
   "metadata": {},
   "source": [
    "# types"
   ]
  },
  {
   "cell_type": "code",
   "execution_count": 2,
   "metadata": {},
   "outputs": [],
   "source": [
    "def compare(result, expected):\n",
    "    if result == expected:\n",
    "        print(f'passed test for type conversion to: {expected}')\n",
    "    else:\n",
    "        raise Exception(f'failed test for type conversion to: {expected}')"
   ]
  },
  {
   "cell_type": "markdown",
   "metadata": {},
   "source": [
    "## error raising"
   ]
  },
  {
   "cell_type": "code",
   "execution_count": 3,
   "metadata": {},
   "outputs": [
    {
     "name": "stdout",
     "output_type": "stream",
     "text": [
      "passed test for raising correct error for: qp.qp_na(\"abc\")\n",
      "passed test for raising correct error for: qp.qp_nk(\"abc\")\n",
      "passed test for raising correct error for: qp.qp_num(\"abc\")\n",
      "passed test for raising correct error for: qp.qp_yn(\"abc\")\n",
      "passed test for raising correct error for: qp.qp_date(\"abc\")\n",
      "passed test for raising correct error for: qp.qp_datetime(\"abc\")\n"
     ]
    }
   ],
   "source": [
    "#checking if correct error is raised\n",
    "type_funcs = [\n",
    "    qp.na,\n",
    "    qp.nk,\n",
    "    qp.num,\n",
    "    qp.yn,\n",
    "    qp.date,\n",
    "    qp.datetime,\n",
    "    ]\n",
    "\n",
    "for func in type_funcs:\n",
    "    try:\n",
    "        func('abc', errors='raise')\n",
    "    except ValueError:\n",
    "        func = str(func).split('<function ')[1].split(' at')[0]\n",
    "        print(f'passed test for raising correct error for: qp.{func}(\"abc\")')\n",
    "    except:\n",
    "        raise"
   ]
  },
  {
   "cell_type": "markdown",
   "metadata": {},
   "source": [
    "## num"
   ]
  },
  {
   "cell_type": "code",
   "execution_count": 4,
   "metadata": {},
   "outputs": [
    {
     "name": "stdout",
     "output_type": "stream",
     "text": [
      "passed test for type conversion to: None\n",
      "passed test for type conversion to: abc\n",
      "passed test for type conversion to: test\n",
      "passed test for type conversion to: 1\n",
      "passed test for type conversion to: 1.0\n",
      "passed test for type conversion to: 1.1\n",
      "passed test for type conversion to: 0\n",
      "passed test for type conversion to: 0.0\n",
      "passed test for type conversion to: 0.1\n",
      "passed test for type conversion to: -1\n",
      "passed test for type conversion to: -1.0\n",
      "passed test for type conversion to: -1.1\n",
      "passed test for type conversion to: 1\n",
      "passed test for type conversion to: 1.0\n",
      "passed test for type conversion to: 1.1\n",
      "passed test for type conversion to: 0\n",
      "passed test for type conversion to: 0.0\n",
      "passed test for type conversion to: 0.1\n",
      "passed test for type conversion to: -1\n",
      "passed test for type conversion to: -1.0\n",
      "passed test for type conversion to: -1.1\n"
     ]
    }
   ],
   "source": [
    "#numbers\n",
    "compare(qp.num('abc', errors='coerce', na=None), None)\n",
    "compare(qp.num('abc', errors='ignore'), 'abc')\n",
    "compare(qp.num('abc', errors='test'), 'test')\n",
    "\n",
    "compare(qp.num('1'), 1)\n",
    "compare(qp.num('1.0'), 1.0)\n",
    "compare(qp.num('1.1'), 1.1)\n",
    "\n",
    "compare(qp.num('0'), 0)\n",
    "compare(qp.num('0.0'), 0.0)\n",
    "compare(qp.num('0.1'), 0.1)\n",
    "\n",
    "compare(qp.num('-1'), -1)\n",
    "compare(qp.num('-1.0'), -1.0)\n",
    "compare(qp.num('-1.1'), -1.1)\n",
    "\n",
    "compare(qp.num(1), 1)\n",
    "compare(qp.num(1.0), 1.0)\n",
    "compare(qp.num(1.1), 1.1)\n",
    "\n",
    "compare(qp.num(0), 0)\n",
    "compare(qp.num(0.0), 0.0)\n",
    "compare(qp.num(0.1), 0.1)\n",
    "\n",
    "compare(qp.num(-1), -1)\n",
    "compare(qp.num(-1.0), -1.0)\n",
    "compare(qp.num(-1.1), -1.1)\n"
   ]
  },
  {
   "cell_type": "markdown",
   "metadata": {},
   "source": [
    "## date"
   ]
  },
  {
   "cell_type": "code",
   "execution_count": 5,
   "metadata": {},
   "outputs": [
    {
     "name": "stdout",
     "output_type": "stream",
     "text": [
      "passed test for type conversion to: None\n",
      "passed test for type conversion to: abc\n",
      "passed test for type conversion to: test\n",
      "passed test for type conversion to: 2020-01-01\n",
      "passed test for type conversion to: 2020-01-01\n",
      "passed test for type conversion to: 2020-01-01\n",
      "passed test for type conversion to: 2020-01-01\n",
      "passed test for type conversion to: 2020-01-01\n",
      "passed test for type conversion to: 2020-01-01\n",
      "passed test for type conversion to: 2020-01-01\n",
      "passed test for type conversion to: 2020-01-01\n",
      "passed test for type conversion to: 2020-01-01\n",
      "passed test for type conversion to: 2020-01-01\n",
      "passed test for type conversion to: 2020-01-01\n",
      "passed test for type conversion to: 2020-01-01\n",
      "passed test for type conversion to: 2020-01-01\n",
      "passed test for type conversion to: 2020-01-01\n",
      "passed test for type conversion to: 2020-01-01\n",
      "passed test for type conversion to: 2020-01-01\n",
      "passed test for type conversion to: 2020-01-01\n",
      "passed test for type conversion to: 2020-01-01\n",
      "passed test for type conversion to: 2020-01-01\n",
      "passed test for type conversion to: 2020-01-01\n",
      "passed test for type conversion to: 2020-01-01\n",
      "passed test for type conversion to: 2020-01-01\n",
      "passed test for type conversion to: 2020-01-02\n",
      "passed test for type conversion to: 2020-01-02\n",
      "passed test for type conversion to: 2020-01-02\n",
      "passed test for type conversion to: 2020-01-02\n",
      "passed test for type conversion to: 2020-01-02\n",
      "passed test for type conversion to: 2020-01-02\n",
      "passed test for type conversion to: 2020-01-02\n",
      "passed test for type conversion to: 2020-01-02\n"
     ]
    }
   ],
   "source": [
    "#date\n",
    "\n",
    "compare(qp.date('abc', errors='coerce', na=None), None)\n",
    "compare(qp.date('abc', errors='ignore'), 'abc')\n",
    "compare(qp.date('abc', errors='test'), 'test')\n",
    "\n",
    "compare(qp.date('2020-01-01'), datetime.date(2020, 1, 1))\n",
    "compare(qp.date('2020-01-01 00:00:00'), datetime.date(2020, 1, 1))\n",
    "\n",
    "compare(qp.date('2020.01.01'), datetime.date(2020, 1, 1))\n",
    "compare(qp.date('2020/01/01'), datetime.date(2020, 1, 1))\n",
    "compare(qp.date('2020 01 01'), datetime.date(2020, 1, 1))\n",
    "compare(qp.date('20200101'), datetime.date(2020, 1, 1))\n",
    "\n",
    "compare(qp.date('2020 Jan 01'), datetime.date(2020, 1, 1))\n",
    "compare(qp.date('2020 January 01'), datetime.date(2020, 1, 1))\n",
    "compare(qp.date('2020 Jan 1'), datetime.date(2020, 1, 1))\n",
    "compare(qp.date('2020 January 1'), datetime.date(2020, 1, 1))\n",
    "\n",
    "compare(qp.date('Jan 01 2020'), datetime.date(2020, 1, 1))\n",
    "compare(qp.date('January 01 2020'), datetime.date(2020, 1, 1))\n",
    "compare(qp.date('Jan 1 2020'), datetime.date(2020, 1, 1))\n",
    "compare(qp.date('January 1 2020'), datetime.date(2020, 1, 1))\n",
    "\n",
    "compare(qp.date('01 Jan 2020'), datetime.date(2020, 1, 1))\n",
    "compare(qp.date('01 January 2020'), datetime.date(2020, 1, 1))\n",
    "compare(qp.date('1 Jan 2020'), datetime.date(2020, 1, 1))\n",
    "compare(qp.date('1 January 2020'), datetime.date(2020, 1, 1))\n",
    "\n",
    "compare(qp.date('01-01-2020'), datetime.date(2020, 1, 1))\n",
    "compare(qp.date('01.01.2020'), datetime.date(2020, 1, 1))\n",
    "compare(qp.date('01/01/2020'), datetime.date(2020, 1, 1))\n",
    "compare(qp.date('01 01 2020'), datetime.date(2020, 1, 1))\n",
    "\n",
    "compare(qp.date('02-01-20'), datetime.date(2020, 1, 2))\n",
    "compare(qp.date('02.01.20'), datetime.date(2020, 1, 2))\n",
    "compare(qp.date('02/01/20'), datetime.date(2020, 1, 2))\n",
    "compare(qp.date('02 01 20'), datetime.date(2020, 1, 2))\n",
    "\n",
    "compare(qp.date('2020-01-02'), datetime.date(2020, 1, 2))\n",
    "compare(qp.date('2020.01.02'), datetime.date(2020, 1, 2))\n",
    "compare(qp.date('2020/01/02'), datetime.date(2020, 1, 2))\n",
    "compare(qp.date('2020 01 02'), datetime.date(2020, 1, 2))"
   ]
  },
  {
   "cell_type": "markdown",
   "metadata": {},
   "source": [
    "## datetime"
   ]
  },
  {
   "cell_type": "code",
   "execution_count": 6,
   "metadata": {},
   "outputs": [
    {
     "name": "stdout",
     "output_type": "stream",
     "text": [
      "passed test for type conversion to: None\n",
      "passed test for type conversion to: abc\n",
      "passed test for type conversion to: test\n",
      "passed test for type conversion to: 2020-01-01 00:00:00\n",
      "passed test for type conversion to: 2020-01-01 00:00:00\n",
      "passed test for type conversion to: 2020-01-01 00:00:01\n",
      "passed test for type conversion to: 2020-01-01 00:01:00\n",
      "passed test for type conversion to: 2020-01-01 01:00:00\n",
      "passed test for type conversion to: 2020-01-01 01:01:01\n",
      "passed test for type conversion to: 2020-01-01 00:00:00\n",
      "passed test for type conversion to: 2020-01-01 00:00:00\n",
      "passed test for type conversion to: 2020-01-01 00:00:00\n",
      "passed test for type conversion to: 2020-01-01 00:00:00\n",
      "passed test for type conversion to: 2020-01-01 00:00:00\n",
      "passed test for type conversion to: 2020-01-01 00:00:00\n",
      "passed test for type conversion to: 2020-01-01 00:00:00\n",
      "passed test for type conversion to: 2020-01-01 00:00:00\n",
      "passed test for type conversion to: 2020-01-01 00:00:00\n",
      "passed test for type conversion to: 2020-01-01 00:00:00\n",
      "passed test for type conversion to: 2020-01-01 00:00:00\n",
      "passed test for type conversion to: 2020-01-01 00:00:00\n",
      "passed test for type conversion to: 2020-01-01 00:00:00\n",
      "passed test for type conversion to: 2020-01-01 00:00:00\n",
      "passed test for type conversion to: 2020-01-01 00:00:00\n",
      "passed test for type conversion to: 2020-01-01 00:00:00\n",
      "passed test for type conversion to: 2020-01-01 00:00:00\n",
      "passed test for type conversion to: 2020-01-01 00:00:00\n",
      "passed test for type conversion to: 2020-01-01 00:00:00\n",
      "passed test for type conversion to: 2020-01-02 00:00:00\n",
      "passed test for type conversion to: 2020-01-02 00:00:00\n",
      "passed test for type conversion to: 2020-01-02 00:00:00\n",
      "passed test for type conversion to: 2020-01-02 00:00:00\n",
      "passed test for type conversion to: 2020-01-02 00:00:00\n",
      "passed test for type conversion to: 2020-01-02 00:00:00\n",
      "passed test for type conversion to: 2020-01-02 00:00:00\n",
      "passed test for type conversion to: 2020-01-02 00:00:00\n"
     ]
    }
   ],
   "source": [
    "#datetime\n",
    "\n",
    "compare(qp.datetime('abc', errors='coerce', na=None), None)\n",
    "compare(qp.datetime('abc', errors='ignore'), 'abc')\n",
    "compare(qp.datetime('abc', errors='test'), 'test')\n",
    "\n",
    "compare(qp.datetime('2020-01-01'), datetime.datetime(2020, 1, 1))\n",
    "compare(qp.datetime('2020-01-01 00:00:00'), datetime.datetime(2020, 1, 1))\n",
    "compare(qp.datetime('2020-01-01 00:00:01'), datetime.datetime(2020, 1, 1, 0, 0, 1))\n",
    "compare(qp.datetime('2020-01-01 00:01:00'), datetime.datetime(2020, 1, 1, 0, 1, 0))\n",
    "compare(qp.datetime('2020-01-01 01:00:00'), datetime.datetime(2020, 1, 1, 1, 0, 0))\n",
    "compare(qp.datetime('2020-01-01 01:01:01'), datetime.datetime(2020, 1, 1, 1, 1, 1))\n",
    "\n",
    "compare(qp.datetime('2020.01.01'), datetime.datetime(2020, 1, 1))\n",
    "compare(qp.datetime('2020/01/01'), datetime.datetime(2020, 1, 1))\n",
    "compare(qp.datetime('2020 01 01'), datetime.datetime(2020, 1, 1))\n",
    "compare(qp.datetime('20200101'), datetime.datetime(2020, 1, 1))\n",
    "\n",
    "compare(qp.datetime('2020 Jan 01'), datetime.datetime(2020, 1, 1))\n",
    "compare(qp.datetime('2020 January 01'), datetime.datetime(2020, 1, 1))\n",
    "compare(qp.datetime('2020 Jan 1'), datetime.datetime(2020, 1, 1))\n",
    "compare(qp.datetime('2020 January 1'), datetime.datetime(2020, 1, 1))\n",
    "\n",
    "compare(qp.datetime('Jan 01 2020'), datetime.datetime(2020, 1, 1))\n",
    "compare(qp.datetime('January 01 2020'), datetime.datetime(2020, 1, 1))\n",
    "compare(qp.datetime('Jan 1 2020'), datetime.datetime(2020, 1, 1))\n",
    "compare(qp.datetime('January 1 2020'), datetime.datetime(2020, 1, 1))\n",
    "\n",
    "compare(qp.datetime('01 Jan 2020'), datetime.datetime(2020, 1, 1))\n",
    "compare(qp.datetime('01 January 2020'), datetime.datetime(2020, 1, 1))\n",
    "compare(qp.datetime('1 Jan 2020'), datetime.datetime(2020, 1, 1))\n",
    "compare(qp.datetime('1 January 2020'), datetime.datetime(2020, 1, 1))\n",
    "\n",
    "compare(qp.datetime('01-01-2020'), datetime.datetime(2020, 1, 1))\n",
    "compare(qp.datetime('01.01.2020'), datetime.datetime(2020, 1, 1))\n",
    "compare(qp.datetime('01/01/2020'), datetime.datetime(2020, 1, 1))\n",
    "\n",
    "compare(qp.datetime('02-01-20'), datetime.datetime(2020, 1, 2))\n",
    "compare(qp.datetime('02.01.20'), datetime.datetime(2020, 1, 2))\n",
    "compare(qp.datetime('02/01/20'), datetime.datetime(2020, 1, 2))\n",
    "compare(qp.datetime('02 01 20'), datetime.datetime(2020, 1, 2))\n",
    "\n",
    "compare(qp.datetime('2020-01-02'), datetime.datetime(2020, 1, 2))\n",
    "compare(qp.datetime('2020.01.02'), datetime.datetime(2020, 1, 2))\n",
    "compare(qp.datetime('2020/01/02'), datetime.datetime(2020, 1, 2))\n",
    "compare(qp.datetime('2020 01 02'), datetime.datetime(2020, 1, 2))\n"
   ]
  },
  {
   "cell_type": "markdown",
   "metadata": {},
   "source": [
    "## na"
   ]
  },
  {
   "cell_type": "code",
   "execution_count": 7,
   "metadata": {},
   "outputs": [
    {
     "name": "stdout",
     "output_type": "stream",
     "text": [
      "passed test for type conversion to: None\n",
      "passed test for type conversion to: 1\n",
      "passed test for type conversion to: test\n",
      "passed test for type conversion to: test\n",
      "passed test for type conversion to: None\n",
      "passed test for type conversion to: None\n",
      "passed test for type conversion to: None\n",
      "passed test for type conversion to: None\n",
      "passed test for type conversion to: None\n",
      "passed test for type conversion to: None\n",
      "passed test for type conversion to: None\n",
      "passed test for type conversion to: None\n",
      "passed test for type conversion to: None\n",
      "passed test for type conversion to: None\n",
      "passed test for type conversion to: None\n",
      "passed test for type conversion to: None\n",
      "passed test for type conversion to: None\n",
      "passed test for type conversion to: None\n",
      "passed test for type conversion to: None\n",
      "passed test for type conversion to: None\n",
      "passed test for type conversion to: None\n",
      "passed test for type conversion to: None\n",
      "passed test for type conversion to: None\n",
      "passed test for type conversion to: None\n",
      "passed test for type conversion to: None\n",
      "passed test for type conversion to: None\n",
      "passed test for type conversion to: None\n",
      "passed test for type conversion to: None\n",
      "passed test for type conversion to: None\n",
      "passed test for type conversion to: None\n",
      "passed test for type conversion to: None\n",
      "passed test for type conversion to: None\n",
      "passed test for type conversion to: None\n",
      "passed test for type conversion to: None\n",
      "passed test for type conversion to: None\n",
      "passed test for type conversion to: None\n"
     ]
    }
   ],
   "source": [
    "#not available\n",
    "\n",
    "compare(qp.na(1, errors='coerce'), None)\n",
    "compare(qp.na(1, errors='ignore'), 1)\n",
    "compare(qp.na(1, errors='test'), 'test')\n",
    "compare(qp.na('na', na='test'), 'test')\n",
    "\n",
    "compare(qp.na('na'), None)\n",
    "compare(qp.na('nA'), None)\n",
    "compare(qp.na('Na'), None)\n",
    "compare(qp.na('NA'), None)\n",
    "\n",
    "compare(qp.na('n.a.'), None)\n",
    "compare(qp.na('n.a'), None)\n",
    "compare(qp.na('N.A'), None)\n",
    "compare(qp.na('N.A.'), None)\n",
    "compare(qp.na('n/a'), None)\n",
    "compare(qp.na('N/A'), None)\n",
    "\n",
    "compare(qp.na('nan'), None)\n",
    "compare(qp.na('NaN'), None)\n",
    "compare(qp.na('NAN'), None)\n",
    "compare(qp.na('Nan'), None)\n",
    "compare(qp.na('nAn'), None)\n",
    "compare(qp.na('nAN'), None)\n",
    "compare(qp.na('naN'), None)\n",
    "\n",
    "compare(qp.na('none'), None)\n",
    "compare(qp.na('None'), None)\n",
    "compare(qp.na('NONE'), None)\n",
    "\n",
    "compare(qp.na('null'), None)\n",
    "compare(qp.na('Null'), None)\n",
    "compare(qp.na('NULL'), None)\n",
    "\n",
    "compare(qp.na('nil'), None)\n",
    "compare(qp.na('Nil'), None)\n",
    "compare(qp.na('NIL'), None)\n",
    "\n",
    "compare(qp.na('not available'), None)\n",
    "compare(qp.na('Not Available'), None)\n",
    "compare(qp.na('NOT AVAILABLE'), None)\n",
    "\n",
    "compare(qp.na('not a number'), None)\n",
    "compare(qp.na('Not A Number'), None)\n",
    "compare(qp.na('NOT A NUMBER'), None)\n"
   ]
  },
  {
   "cell_type": "markdown",
   "metadata": {},
   "source": [
    "## nk"
   ]
  },
  {
   "cell_type": "code",
   "execution_count": 8,
   "metadata": {},
   "outputs": [
    {
     "name": "stdout",
     "output_type": "stream",
     "text": [
      "passed test for type conversion to: None\n",
      "passed test for type conversion to: 1\n",
      "passed test for type conversion to: test\n",
      "passed test for type conversion to: test\n",
      "passed test for type conversion to: unknown\n",
      "passed test for type conversion to: unknown\n",
      "passed test for type conversion to: unknown\n",
      "passed test for type conversion to: unknown\n",
      "passed test for type conversion to: unknown\n",
      "passed test for type conversion to: unknown\n",
      "passed test for type conversion to: unknown\n",
      "passed test for type conversion to: unknown\n",
      "passed test for type conversion to: unknown\n",
      "passed test for type conversion to: unknown\n",
      "passed test for type conversion to: unknown\n",
      "passed test for type conversion to: unknown\n",
      "passed test for type conversion to: unknown\n",
      "passed test for type conversion to: unknown\n",
      "passed test for type conversion to: unknown\n",
      "passed test for type conversion to: unknown\n",
      "passed test for type conversion to: unknown\n",
      "passed test for type conversion to: unknown\n",
      "passed test for type conversion to: unknown\n",
      "passed test for type conversion to: unknown\n",
      "passed test for type conversion to: unknown\n",
      "passed test for type conversion to: unknown\n",
      "passed test for type conversion to: unknown\n",
      "passed test for type conversion to: unknown\n",
      "passed test for type conversion to: unknown\n"
     ]
    }
   ],
   "source": [
    "#not known\n",
    "\n",
    "compare(qp.nk(1, errors='coerce'), None)\n",
    "compare(qp.nk(1, errors='ignore'), 1)\n",
    "compare(qp.nk(1, errors='test'), 'test')\n",
    "compare(qp.nk('nk', nk='test'), 'test')\n",
    "\n",
    "compare(qp.nk('nk'), 'unknown')\n",
    "compare(qp.nk('nK'), 'unknown')\n",
    "compare(qp.nk('Nk'), 'unknown')\n",
    "compare(qp.nk('NK'), 'unknown')\n",
    "\n",
    "compare(qp.nk('n.k.'), 'unknown')\n",
    "compare(qp.nk('n.k'), 'unknown')\n",
    "compare(qp.nk('N.K'), 'unknown')\n",
    "compare(qp.nk('N.K.'), 'unknown')\n",
    "compare(qp.nk('n/k'), 'unknown')\n",
    "compare(qp.nk('N/K'), 'unknown')\n",
    "\n",
    "compare(qp.nk('not known'), 'unknown')\n",
    "compare(qp.nk('Not Known'), 'unknown')\n",
    "compare(qp.nk('NOT KNOWN'), 'unknown')\n",
    "\n",
    "compare(qp.nk('not known.'), 'unknown')\n",
    "compare(qp.nk('Not Known.'), 'unknown')\n",
    "compare(qp.nk('NOT KNOWN.'), 'unknown')\n",
    "\n",
    "compare(qp.nk('unknown'), 'unknown')\n",
    "compare(qp.nk('Unknown'), 'unknown')\n",
    "compare(qp.nk('UNKNOWN'), 'unknown')\n",
    "\n",
    "compare(qp.nk('not specified'), 'unknown')\n",
    "compare(qp.nk('Not Specified'), 'unknown')\n",
    "compare(qp.nk('NOT SPECIFIED'), 'unknown')\n",
    "\n",
    "compare(qp.nk('not specified.'), 'unknown')\n",
    "compare(qp.nk('Not Specified.'), 'unknown')\n",
    "compare(qp.nk('NOT SPECIFIED.'), 'unknown')\n"
   ]
  },
  {
   "cell_type": "markdown",
   "metadata": {},
   "source": [
    "## yn"
   ]
  },
  {
   "cell_type": "code",
   "execution_count": 9,
   "metadata": {},
   "outputs": [
    {
     "name": "stdout",
     "output_type": "stream",
     "text": [
      "passed test for type conversion to: None\n",
      "passed test for type conversion to: abc\n",
      "passed test for type conversion to: test\n",
      "passed test for type conversion to: yes\n",
      "passed test for type conversion to: yes\n",
      "passed test for type conversion to: yes\n",
      "passed test for type conversion to: no\n",
      "passed test for type conversion to: no\n",
      "passed test for type conversion to: no\n",
      "passed test for type conversion to: yes\n",
      "passed test for type conversion to: yes\n",
      "passed test for type conversion to: no\n",
      "passed test for type conversion to: no\n",
      "passed test for type conversion to: yes\n",
      "passed test for type conversion to: no\n",
      "passed test for type conversion to: yes\n",
      "passed test for type conversion to: no\n",
      "passed test for type conversion to: yes\n",
      "passed test for type conversion to: yes\n",
      "passed test for type conversion to: yes\n",
      "passed test for type conversion to: no\n",
      "passed test for type conversion to: no\n",
      "passed test for type conversion to: no\n",
      "passed test for type conversion to: yes\n",
      "passed test for type conversion to: yes\n",
      "passed test for type conversion to: yes\n",
      "passed test for type conversion to: no\n",
      "passed test for type conversion to: no\n",
      "passed test for type conversion to: no\n",
      "passed test for type conversion to: yes\n",
      "passed test for type conversion to: yes\n",
      "passed test for type conversion to: yes\n",
      "passed test for type conversion to: no\n",
      "passed test for type conversion to: no\n",
      "passed test for type conversion to: no\n"
     ]
    }
   ],
   "source": [
    "#yes no\n",
    "compare(qp.yn('abc', errors='coerce'), None)\n",
    "compare(qp.yn('abc', errors='ignore'), 'abc')\n",
    "compare(qp.yn('abc', errors='test'), 'test')\n",
    "\n",
    "compare(qp.yn('yes'), 'yes')\n",
    "compare(qp.yn('Yes'), 'yes')\n",
    "compare(qp.yn('YES'), 'yes')\n",
    "\n",
    "compare(qp.yn('no'), 'no')\n",
    "compare(qp.yn('No'), 'no')\n",
    "compare(qp.yn('NO'), 'no')\n",
    "\n",
    "compare(qp.yn('y'), 'yes')\n",
    "compare(qp.yn('Y'), 'yes')\n",
    "\n",
    "compare(qp.yn('n'), 'no')\n",
    "compare(qp.yn('N'), 'no')\n",
    "\n",
    "compare(qp.yn('1'), 'yes')\n",
    "compare(qp.yn('0'), 'no')\n",
    "\n",
    "compare(qp.yn(1), 'yes')\n",
    "compare(qp.yn(0), 'no')\n",
    "\n",
    "compare(qp.yn('true'), 'yes')\n",
    "compare(qp.yn('True'), 'yes')\n",
    "compare(qp.yn('TRUE'), 'yes')\n",
    "\n",
    "compare(qp.yn('false'), 'no')\n",
    "compare(qp.yn('False'), 'no')\n",
    "compare(qp.yn('FALSE'), 'no')\n",
    "\n",
    "compare(qp.yn('pos'), 'yes')\n",
    "compare(qp.yn('Pos'), 'yes')\n",
    "compare(qp.yn('POS'), 'yes')\n",
    "\n",
    "compare(qp.yn('neg'), 'no')\n",
    "compare(qp.yn('Neg'), 'no')\n",
    "compare(qp.yn('NEG'), 'no')\n",
    "\n",
    "compare(qp.yn('positive'), 'yes')\n",
    "compare(qp.yn('Positive'), 'yes')\n",
    "compare(qp.yn('POSITIVE'), 'yes')\n",
    "\n",
    "compare(qp.yn('negative'), 'no')\n",
    "compare(qp.yn('Negative'), 'no')\n",
    "compare(qp.yn('NEGATIVE'), 'no')\n"
   ]
  },
  {
   "cell_type": "markdown",
   "metadata": {},
   "source": [
    "## qp.dict"
   ]
  },
  {
   "cell_type": "code",
   "execution_count": 10,
   "metadata": {},
   "outputs": [
    {
     "name": "stdout",
     "output_type": "stream",
     "text": [
      "passed test for dict.values_flat()\n",
      "passed test for dict.invert()\n"
     ]
    }
   ],
   "source": [
    "#wip\n",
    "\n",
    "dict1 = qp.dict({\n",
    "    'a': [1, 2, 3, 4, 5],\n",
    "    'b': (1, 2, 3, 4, 5),\n",
    "    'c': {'a': 1, 'b': 2, 'c': 3, 'd': 4, 'e': 5},\n",
    "    'd': {1, 2, 3, 4, 5},\n",
    "    'e': np.array([1, 2, 3, 4, 5]),\n",
    "    'f': pd.Series([1, 2, 3, 4, 5]),\n",
    "    })\n",
    "\n",
    "result = dict1.values_flat()\n",
    "expected = [\n",
    "    1, 2, 3, 4, 5, \n",
    "    1, 2, 3, 4, 5, \n",
    "    1, 2, 3, 4, 5, \n",
    "    1, 2, 3, 4, 5, \n",
    "    1, 2, 3, 4, 5, \n",
    "    1, 2, 3, 4, 5,\n",
    "    ]\n",
    "if result == expected:\n",
    "    print('passed test for dict.values_flat()')\n",
    "else:\n",
    "    raise Exception('failed test for dict.values_flat()')\n",
    "\n",
    "\n",
    "dict2 = qp.dict({\n",
    "    'a': '1',\n",
    "    'b': '2',\n",
    "    'c': '3',\n",
    "    })\n",
    "result = dict2.invert()\n",
    "expected = {\n",
    "    '1': 'a',\n",
    "    '2': 'b',\n",
    "    '3': 'c',\n",
    "    }\n",
    "if result == expected:\n",
    "    print('passed test for dict.invert()')\n",
    "else:\n",
    "    raise Exception('failed test for dict.invert()')\n"
   ]
  },
  {
   "cell_type": "markdown",
   "metadata": {},
   "source": [
    "# pd.DataFrame.q()"
   ]
  },
  {
   "cell_type": "code",
   "execution_count": 11,
   "metadata": {},
   "outputs": [],
   "source": [
    "def compare(result, expected_df, text=None):\n",
    "    if not result.equals(expected_df):\n",
    "        print(f'failed test for arg: \"{result.qp.code}\"')\n",
    "\n",
    "        print('result:')\n",
    "        display(result)\n",
    "        print('expected:')\n",
    "        display(expected_df)\n",
    "        if text is None:\n",
    "            raise Exception(f'failed test for arg: \"{result.qp.code}\"')\n",
    "        else:\n",
    "            raise Exception(f'failed test for: {text}')\n",
    "    else:\n",
    "        if text is None:\n",
    "            print(f'passed test for arg: \"{result.qp.code}\"')\n",
    "        else:\n",
    "            print(f'passed test for: {text}')\n",
    "\n",
    "\n",
    "def get_df_simple():\n",
    "    df = pd.DataFrame({\n",
    "        'a': [-1, 0, 1],\n",
    "        'b': [1, 2, 3]\n",
    "        })\n",
    "    return df\n",
    "\n",
    "def get_df_simple_tagged():\n",
    "    df = pd.DataFrame({\n",
    "        'meta': ['', '', ''],\n",
    "        'a': [-1, 0, 1],\n",
    "        'b': [1, 2, 3]\n",
    "        })\n",
    "    df.index = [0, 1, 2]\n",
    "    return df\n",
    "\n",
    "\n",
    "def get_df():\n",
    "    df = pd.DataFrame({\n",
    "        'ID': [10001, 10002, 10003, 20001, 20002, 20003, 30001, 30002, 30003, 30004, 30005],\n",
    "        'name': ['John Doe', 'Jane Smith', 'Alice Johnson', 'Bob Brown', 'eva white', 'Frank miller', 'Grace TAYLOR', 'Harry Clark', 'IVY GREEN', 'JAck Williams', 'john Doe'],\n",
    "        'date of birth': ['1995-01-02', '1990/09/14', '1985.08.23', '19800406', '05-11-2007', '06-30-1983', '28-05-1975', '1960Mar08', '1955-Jan-09', '1950 Sep 10', '1945 October 11'],\n",
    "        'age': [-25, '30', np.nan, None, '40.0', 'forty-five', 'nan', 'unk', '', 'unknown', 35],\n",
    "        'gender': ['M', 'F', 'Female', 'Male', 'Other', 'm', 'ff', 'NaN', None, 'Mal', 'female'],\n",
    "        'height': [170, '175.5cm', None, '280', 'NaN', '185', '1', '6ft 1in', -10, '', 200],\n",
    "        'weight': [70.2, '68', '72.5lb', 'na', '', '75kg', None, '80.3', '130lbs', '82', -65],\n",
    "        'bp systole': ['20', 130, 'NaN', '140', '135mmhg', '125', 'NAN', '122', '', 130, '45'],\n",
    "        'bp diastole': [80, '85', 'nan', '90mmHg', np.nan, '75', 'NaN', None, '95', '0', 'NaN'],\n",
    "        'cholesterol': ['Normal', 'Highe', 'NaN', 'GOOD', 'n.a.', 'High', 'Normal', 'n/a', 'high', '', 'Normal'],\n",
    "        'diabetes': ['No', 'yes', 'N/A', 'No', 'Y', 'Yes', 'NO', None, 'NaN', 'n', 'Yes'],\n",
    "        'dose': ['10kg', 'NaN', '15 mg once a day', '20mg', '20 Mg', '25g', 'NaN', None, '30 MG', '35', '40ml']\n",
    "        })\n",
    "    return df\n",
    "\n",
    "def get_df_tagged():\n",
    "    df1 = get_df()\n",
    "    df2 = pd.DataFrame('', index=df1.index, columns=['meta', *df1.columns])\n",
    "    df2.iloc[:, 1:] = df1.loc[:, :]\n",
    "    return df2"
   ]
  },
  {
   "cell_type": "markdown",
   "metadata": {},
   "source": [
    "## filtering"
   ]
  },
  {
   "cell_type": "code",
   "execution_count": 12,
   "metadata": {},
   "outputs": [
    {
     "name": "stderr",
     "output_type": "stream",
     "text": [
      "<>:191: SyntaxWarning: invalid escape sequence '\\d'\n",
      "<>:191: SyntaxWarning: invalid escape sequence '\\d'\n",
      "C:\\Users\\MartinVölkl-GouyaIns\\AppData\\Local\\Temp\\ipykernel_7252\\2261607204.py:191: SyntaxWarning: invalid escape sequence '\\d'\n",
      "  result = df.q('bp systole ´r r?\\d', verbosity=0)\n"
     ]
    },
    {
     "data": {
      "text/html": [
       "<style type=\"text/css\">\n",
       "#T_ffbd4_row0_col0, #T_ffbd4_row0_col1, #T_ffbd4_row0_col2, #T_ffbd4_row0_col3 {\n",
       "  background-color: #c0e7b0;\n",
       "}\n",
       "</style>\n",
       "<table id=\"T_ffbd4\">\n",
       "  <thead>\n",
       "  </thead>\n",
       "  <tbody>\n",
       "    <tr>\n",
       "      <th id=\"T_ffbd4_level0_row0\" class=\"row_heading level0 row0\" >0</th>\n",
       "      <td id=\"T_ffbd4_row0_col0\" class=\"data row0 col0\" >df was checked. no problems found</td>\n",
       "      <td id=\"T_ffbd4_row0_col1\" class=\"data row0 col1\" >qp.pd_util._check_df</td>\n",
       "      <td id=\"T_ffbd4_row0_col2\" class=\"data row0 col2\" >info</td>\n",
       "      <td id=\"T_ffbd4_row0_col3\" class=\"data row0 col3\" >2024-08-05 10:06:51.114776</td>\n",
       "    </tr>\n",
       "  </tbody>\n",
       "</table>\n"
      ],
      "text/plain": [
       "<pandas.io.formats.style.Styler at 0x1d38b9c00b0>"
      ]
     },
     "metadata": {},
     "output_type": "display_data"
    },
    {
     "name": "stdout",
     "output_type": "stream",
     "text": [
      "passed test for arg: \"date of birth\"\n",
      "passed test for arg: \"=date of birth\"\n",
      "passed test for arg: \"date of birth / age\"\n",
      "passed test for arg: \"date of birth / =age\"\n",
      "passed test for arg: \"=date of birth / age\"\n",
      "passed test for arg: \"=date of birth / =age\"\n",
      "passed test for arg: \"!=date of birth\"\n",
      "passed test for arg: \"\"\n",
      "passed test for arg: \"=ID\"\n",
      "passed test for arg: \"=ID\"\n"
     ]
    },
    {
     "data": {
      "text/html": [
       "<style type=\"text/css\">\n",
       "#T_a7e10_row0_col0, #T_a7e10_row0_col1, #T_a7e10_row0_col2, #T_a7e10_row0_col3 {\n",
       "  background-color: #f7d67c;\n",
       "}\n",
       "</style>\n",
       "<table id=\"T_a7e10\">\n",
       "  <thead>\n",
       "  </thead>\n",
       "  <tbody>\n",
       "    <tr>\n",
       "      <th id=\"T_a7e10_level0_row0\" class=\"row_heading level0 row0\" >57</th>\n",
       "      <td id=\"T_a7e10_row0_col0\" class=\"data row0 col0\" >no columns fulfill the condition in \"´c =\"</td>\n",
       "      <td id=\"T_a7e10_row0_col1\" class=\"data row0 col1\" >df.q()</td>\n",
       "      <td id=\"T_a7e10_row0_col2\" class=\"data row0 col2\" >Warning</td>\n",
       "      <td id=\"T_a7e10_row0_col3\" class=\"data row0 col3\" >2024-08-05 10:06:51.810695</td>\n",
       "    </tr>\n",
       "  </tbody>\n",
       "</table>\n"
      ],
      "text/plain": [
       "<pandas.io.formats.style.Styler at 0x1d38b9c00b0>"
      ]
     },
     "metadata": {},
     "output_type": "display_data"
    },
    {
     "name": "stdout",
     "output_type": "stream",
     "text": [
      "passed test for arg: \"=\"\n",
      "passed test for arg: \"\n",
      "    =ID\n",
      "    ID\n",
      "    \"\n",
      "passed test for arg: \"\n",
      "    ID\n",
      "    age\n",
      "    \"\n",
      "passed test for arg: \"\n",
      "    ID\n",
      "    / age\n",
      "    \"\n",
      "passed test for arg: \"?bp\"\n",
      "passed test for arg: \"?I\"\n",
      "passed test for arg: \"??I\"\n"
     ]
    },
    {
     "data": {
      "text/html": [
       "<style type=\"text/css\">\n",
       "#T_7b569_row0_col0, #T_7b569_row0_col1, #T_7b569_row0_col2, #T_7b569_row0_col3 {\n",
       "  background-color: #f7d67c;\n",
       "}\n",
       "</style>\n",
       "<table id=\"T_7b569\">\n",
       "  <thead>\n",
       "  </thead>\n",
       "  <tbody>\n",
       "    <tr>\n",
       "      <th id=\"T_7b569_level0_row0\" class=\"row_heading level0 row0\" >98</th>\n",
       "      <td id=\"T_7b569_row0_col0\" class=\"data row0 col0\" >no columns fulfill the condition in \"´c r=.\"</td>\n",
       "      <td id=\"T_7b569_row0_col1\" class=\"data row0 col1\" >df.q()</td>\n",
       "      <td id=\"T_7b569_row0_col2\" class=\"data row0 col2\" >Warning</td>\n",
       "      <td id=\"T_7b569_row0_col3\" class=\"data row0 col3\" >2024-08-05 10:06:51.844102</td>\n",
       "    </tr>\n",
       "  </tbody>\n",
       "</table>\n"
      ],
      "text/plain": [
       "<pandas.io.formats.style.Styler at 0x1d38c79b800>"
      ]
     },
     "metadata": {},
     "output_type": "display_data"
    },
    {
     "name": "stdout",
     "output_type": "stream",
     "text": [
      "passed test for arg: \"r=.\"\n",
      "passed test for arg: \"r=..\"\n",
      "passed test for arg: \"?bp / =diabetes\"\n",
      "passed test for arg: \"?bp / =diabetes / =cholesterol\"\n",
      "passed test for arg: \"?bp / =cholesterol / =diabetes\"\n",
      "passed test for arg: \"?bp & ?systole\"\n",
      "passed test for arg: \"?bp & !?systole\"\n",
      "passed test for arg: \"?i & r=..\"\n",
      "passed test for arg: \"name ´r is str\"\n",
      "passed test for arg: \"name ´r !is str\"\n",
      "passed test for arg: \"name ´r is num\"\n",
      "passed test for arg: \"name ´r !is num\"\n",
      "passed test for arg: \"name ´r is na\"\n",
      "passed test for arg: \"name ´r !is na\"\n",
      "passed test for arg: \"age ´r is na\"\n",
      "passed test for arg: \"cholesterol ´r is na\"\n",
      "passed test for arg: \"weight ´r is num\"\n",
      "passed test for arg: \"weight ´r is num & !is na\"\n",
      "passed test for arg: \"date of birth ´r !is date\"\n",
      "passed test for arg: \"diabetes ´r is yn\"\n",
      "passed test for arg: \"diabetes ´r is na / is yn\"\n",
      "passed test for arg: \"diabetes ´r is yn\"\n",
      "passed test for arg: \"diabetes ´r is yes\"\n",
      "passed test for arg: \"diabetes ´r is no\"\n",
      "passed test for arg: \"ID ´r r=1....\"\n",
      "passed test for arg: \"ID ´r !r=3....\"\n",
      "passed test for arg: \"name ´r r=\\b[A-Z][a-z]*\\s[A-Z][a-z]*\\b\"\n",
      "passed test for arg: \"name ´r r=^[^A-Z]*$\"\n",
      "passed test for arg: \"dose ´r r=^(?=.*[a-zA-Z])(?=.*[0-9]).*$\"\n",
      "passed test for arg: \"bp systole ´r r?m\"\n"
     ]
    },
    {
     "name": "stderr",
     "output_type": "stream",
     "text": [
      "c:\\Users\\MartinVölkl-GouyaIns\\OneDrive - Gouya Insights\\Desktop\\qplib_dev\\qplib\\types.py:97: UserWarning: Parsing dates in %m-%d-%Y format when dayfirst=True was specified. Pass `dayfirst=False` or specify a format to silence this warning.\n",
      "  return pd.to_datetime(x, dayfirst=True).date()\n"
     ]
    },
    {
     "name": "stdout",
     "output_type": "stream",
     "text": [
      "passed test for arg: \"bp systole ´r r?\\D\"\n",
      "passed test for arg: \"bp systole ´r r?\\d\"\n",
      "passed test for arg: \"id / name  ´r ?j\"\n",
      "passed test for arg: \"id / name  ´r ?j / ?n\"\n",
      "passed test for arg: \"id / name  ´r ?j & ?n\"\n",
      "passed test for arg: \"height / weight  ´r is num\"\n",
      "passed test for arg: \"height / weight  ´r any is num\"\n",
      "passed test for arg: \"height / weight  ´r anyis num\"\n",
      "passed test for arg: \"height / weight  ´r all is num\"\n",
      "passed test for arg: \"\n",
      "    height / weight ´m to num\n",
      "    height / weight  ´r all is num\n",
      "    \"\n"
     ]
    },
    {
     "data": {
      "text/html": [
       "<style type=\"text/css\">\n",
       "#T_5c668_row0_col0, #T_5c668_row0_col1, #T_5c668_row0_col2, #T_5c668_row0_col3 {\n",
       "  background-color: #c0e7b0;\n",
       "}\n",
       "</style>\n",
       "<table id=\"T_5c668\">\n",
       "  <thead>\n",
       "  </thead>\n",
       "  <tbody>\n",
       "    <tr>\n",
       "      <th id=\"T_5c668_level0_row0\" class=\"row_heading level0 row0\" >510</th>\n",
       "      <td id=\"T_5c668_row0_col0\" class=\"data row0 col0\" >df was checked. no problems found</td>\n",
       "      <td id=\"T_5c668_row0_col1\" class=\"data row0 col1\" >qp.pd_util._check_df</td>\n",
       "      <td id=\"T_5c668_row0_col2\" class=\"data row0 col2\" >info</td>\n",
       "      <td id=\"T_5c668_row0_col3\" class=\"data row0 col3\" >2024-08-05 10:06:52.173618</td>\n",
       "    </tr>\n",
       "  </tbody>\n",
       "</table>\n"
      ],
      "text/plain": [
       "<pandas.io.formats.style.Styler at 0x1d38c79bad0>"
      ]
     },
     "metadata": {},
     "output_type": "display_data"
    },
    {
     "name": "stdout",
     "output_type": "stream",
     "text": [
      "passed test for arg: \"\n",
      "    height / weight\n",
      "        ´m to num\n",
      "        ´r all is num\n",
      "    \"\n"
     ]
    },
    {
     "data": {
      "text/html": [
       "<style type=\"text/css\">\n",
       "#T_0cf87_row0_col0, #T_0cf87_row0_col1, #T_0cf87_row0_col2, #T_0cf87_row0_col3 {\n",
       "  background-color: #c0e7b0;\n",
       "}\n",
       "</style>\n",
       "<table id=\"T_0cf87\">\n",
       "  <thead>\n",
       "  </thead>\n",
       "  <tbody>\n",
       "    <tr>\n",
       "      <th id=\"T_0cf87_level0_row0\" class=\"row_heading level0 row0\" >527</th>\n",
       "      <td id=\"T_0cf87_row0_col0\" class=\"data row0 col0\" >df was checked. no problems found</td>\n",
       "      <td id=\"T_0cf87_row0_col1\" class=\"data row0 col1\" >qp.pd_util._check_df</td>\n",
       "      <td id=\"T_0cf87_row0_col2\" class=\"data row0 col2\" >info</td>\n",
       "      <td id=\"T_0cf87_row0_col3\" class=\"data row0 col3\" >2024-08-05 10:06:52.194652</td>\n",
       "    </tr>\n",
       "  </tbody>\n",
       "</table>\n"
      ],
      "text/plain": [
       "<pandas.io.formats.style.Styler at 0x1d38c79b170>"
      ]
     },
     "metadata": {},
     "output_type": "display_data"
    },
    {
     "name": "stdout",
     "output_type": "stream",
     "text": [
      "passed test for arg: \"\n",
      "    diabetes ´r is unique\n",
      "    is any\n",
      "    \"\n",
      "passed test for arg: \"age ´r ~ isinstance(x, int)\"\n",
      "passed test for arg: \"\n",
      "    age / height ´m to num\n",
      "    age ´r col~ col < df[\"height\"]\n",
      "    \"\n",
      "passed test for arg: \"\n",
      "    age / height ´m to num\n",
      "    age ´r col~ col == df[\"age\"].max()\n",
      "    age ´m to str\n",
      "    \"\n"
     ]
    }
   ],
   "source": [
    "\n",
    "df = get_df()\n",
    "\n",
    "\n",
    "#col equality\n",
    "\n",
    "result = df.q('date of birth', inplace=True, verbosity=0)\n",
    "compare(result, df.loc[:, ['date of birth']])\n",
    "\n",
    "result = df.q('=date of birth', verbosity=0)\n",
    "compare(result, df.loc[:, ['date of birth']])\n",
    "\n",
    "result = df.q('date of birth / age', verbosity=0)\n",
    "compare(result, df.loc[:, ['date of birth', 'age']])\n",
    "\n",
    "result = df.q('date of birth / =age', verbosity=0)\n",
    "compare(result, df.loc[:, ['date of birth', 'age']])\n",
    "\n",
    "result = df.q('=date of birth / age', verbosity=0)\n",
    "compare(result, df.loc[:, ['date of birth', 'age']])\n",
    "\n",
    "result = df.q('=date of birth / =age', verbosity=0)\n",
    "compare(result, df.loc[:, ['date of birth', 'age']])\n",
    "\n",
    "result = df.q('!=date of birth', verbosity=0)\n",
    "compare(result, df.loc[:, ['ID', 'name', 'age', 'gender', 'height', 'weight', 'bp systole', 'bp diastole', 'cholesterol', 'diabetes', 'dose']])\n",
    "\n",
    "\n",
    "\n",
    "\n",
    "#multi line col equality\n",
    "result = df.q('', verbosity=0)\n",
    "compare(result, df.loc[:, :])\n",
    "\n",
    "result = df.q('=ID', verbosity=0)\n",
    "compare(result, df.loc[:, ['ID']])\n",
    "\n",
    "result = df.q('=ID', '', verbosity=0)\n",
    "compare(result, df.loc[:, ['ID']])\n",
    "\n",
    "result = df.q('=', verbosity=0)\n",
    "compare(result, df.loc[:, []])\n",
    "\n",
    "result = df.q(\n",
    "    r\"\"\"\n",
    "    =ID\n",
    "    ID\n",
    "    \"\"\",\n",
    "    verbosity=0)\n",
    "compare(result, df.loc[:, ['ID']])\n",
    "\n",
    "result = df.q(\n",
    "    r\"\"\"\n",
    "    ID\n",
    "    age\n",
    "    \"\"\",\n",
    "    verbosity=0)\n",
    "compare(result, df.loc[:, ['age']])\n",
    "\n",
    "result = df.q(\n",
    "    r\"\"\"\n",
    "    ID\n",
    "    / age\n",
    "    \"\"\",\n",
    "    verbosity=0)\n",
    "compare(result, df.loc[:, ['ID', 'age']])\n",
    "\n",
    "\n",
    "\n",
    "#col contains\n",
    "result = df.q('?bp', verbosity=0)\n",
    "compare(result, df.loc[:, ['bp systole', 'bp diastole']])\n",
    "\n",
    "result = df.q('?I', verbosity=0)\n",
    "compare(result, df.loc[:, ['ID', 'date of birth', 'height', 'weight', 'bp diastole', 'diabetes']])\n",
    "\n",
    "result = df.q('??I', verbosity=0)\n",
    "compare(result, df.loc[:, ['ID']])\n",
    "\n",
    "\n",
    "\n",
    "\n",
    "#col regex equality\n",
    "result = df.q('r=.', verbosity=0)\n",
    "compare(result, df.loc[:, []])\n",
    "\n",
    "result = df.q('r=..', verbosity=0)\n",
    "compare(result, df.loc[:, ['ID']])\n",
    "\n",
    "\n",
    "\n",
    "#col multiple conditions\n",
    "result = df.q('?bp / =diabetes', verbosity=0)\n",
    "compare(result, df.loc[:, ['bp systole', 'bp diastole', 'diabetes']])\n",
    "\n",
    "result = df.q('?bp / =diabetes / =cholesterol', verbosity=0)\n",
    "compare(result, df.loc[:, ['bp systole', 'bp diastole', 'cholesterol', 'diabetes']])\n",
    "\n",
    "result = df.q('?bp / =cholesterol / =diabetes', verbosity=0)\n",
    "compare(result, df.loc[:, ['bp systole', 'bp diastole', 'cholesterol', 'diabetes']])\n",
    "\n",
    "result = df.q('?bp & ?systole', verbosity=0)\n",
    "compare(result, df.loc[:, ['bp systole']])\n",
    "\n",
    "result = df.q('?bp & !?systole', verbosity=0)\n",
    "compare(result, df.loc[:, ['bp diastole']])\n",
    "\n",
    "result = df.q('?i & r=..', verbosity=0)\n",
    "compare(result, df.loc[:, ['ID']])\n",
    "\n",
    "\n",
    "\n",
    "\n",
    "#row types\n",
    "result = df.q('name ´r is str', verbosity=0)\n",
    "compare(result, df.loc[:, ['name']])\n",
    "\n",
    "result = df.q('name ´r !is str', verbosity=0)\n",
    "compare(result, df.loc[[], ['name']])\n",
    "\n",
    "result = df.q('name ´r is num', verbosity=0)\n",
    "compare(result, df.loc[[], ['name']])\n",
    "\n",
    "result = df.q('name ´r !is num', verbosity=0)\n",
    "compare(result, df.loc[[0,1,2,3,4,5,6,7,8,9,10], ['name']])\n",
    "\n",
    "result = df.q('name ´r is na', verbosity=0)\n",
    "compare(result, df.loc[[], ['name']])\n",
    "\n",
    "result = df.q('name ´r !is na', verbosity=0)\n",
    "compare(result, df.loc[[0,1,2,3,4,5,6,7,8,9,10], ['name']])\n",
    "\n",
    "result = df.q('age ´r is na', verbosity=0)\n",
    "compare(result, df.loc[[2,3,6,8], ['age']])\n",
    "\n",
    "result = df.q('cholesterol ´r is na', verbosity=0)\n",
    "compare(result, df.loc[[2,4,7,9], ['cholesterol']])\n",
    "\n",
    "result = df.q('weight ´r is num', verbosity=0)\n",
    "compare(result, df.loc[[0,1,4,6,7,9,10], ['weight']])\n",
    "\n",
    "result = df.q('weight ´r is num & !is na', verbosity=0)\n",
    "compare(result, df.loc[[0,1,7,9,10], ['weight']])\n",
    "\n",
    "result = df.q('date of birth ´r !is date', verbosity=0)\n",
    "compare(result, df.loc[[7], ['date of birth']])\n",
    "\n",
    "result = df.q('diabetes ´r is yn', verbosity=0)\n",
    "compare(result, df.loc[[0,1,3,4,5,6,9,10], ['diabetes']])\n",
    "\n",
    "result = df.q('diabetes ´r is na / is yn', verbosity=0)\n",
    "compare(result, df.loc[:, ['diabetes']])\n",
    "\n",
    "result = df.q('diabetes ´r is yn', verbosity=0)\n",
    "compare(result, df.loc[[0,1,3,4,5,6,9,10], ['diabetes']])\n",
    "\n",
    "result = df.q('diabetes ´r is yes', verbosity=0)\n",
    "compare(result, df.loc[[1,4,5,10], ['diabetes']])\n",
    "\n",
    "result = df.q('diabetes ´r is no', verbosity=0)\n",
    "compare(result, df.loc[[0,3,6,9], ['diabetes']])\n",
    "\n",
    "\n",
    "\n",
    "#row regex equality\n",
    "result = df.q('ID ´r r=1....', verbosity=0)\n",
    "compare(result, df.loc[[0,1,2], ['ID']])\n",
    "\n",
    "result = df.q('ID ´r !r=3....', verbosity=0)\n",
    "compare(result, df.loc[[0,1,2,3,4,5], ['ID']])\n",
    "\n",
    "#two words with first letter capitalized and separated by a space\n",
    "result = df.q('name ´r r=\\\\b[A-Z][a-z]*\\\\s[A-Z][a-z]*\\\\b', verbosity=0)\n",
    "compare(result, df.loc[[0,1,2,3,7], ['name']])\n",
    "\n",
    "#all lowercase\n",
    "result = df.q('name ´r r=^[^A-Z]*$', verbosity=0)\n",
    "compare(result, df.loc[[4], ['name']])\n",
    "\n",
    "#containing letters and numbers\n",
    "result = df.q('dose ´r r=^(?=.*[a-zA-Z])(?=.*[0-9]).*$', verbosity=0)\n",
    "compare(result, df.loc[[0,2,3,4,5,8,10], ['dose']])\n",
    "\n",
    "\n",
    "#row regex search\n",
    "result = df.q('bp systole ´r r?m', verbosity=0)\n",
    "compare(result, df.loc[[4], ['bp systole']])\n",
    "\n",
    "result = df.q(r'bp systole ´r r?\\D', verbosity=0)\n",
    "compare(result, df.loc[[2,4,6], ['bp systole']])\n",
    "\n",
    "result = df.q('bp systole ´r r?\\d', verbosity=0)\n",
    "compare(result, df.loc[[0,1,3,4,5,7,9,10], ['bp systole']])\n",
    "\n",
    "\n",
    "\n",
    "#filter by multiple columns\n",
    "result = df.q('id / name  ´r ?j', verbosity=0)\n",
    "compare(result, df.loc[[0, 1, 2, 9, 10], ['ID', 'name']])\n",
    "\n",
    "result = df.q('id / name  ´r ?j / ?n', verbosity=0)\n",
    "compare(result, df.loc[[0, 1, 2, 3, 5, 8, 9, 10], ['ID', 'name']])\n",
    "\n",
    "result = df.q('id / name  ´r ?j & ?n', verbosity=0)\n",
    "compare(result, df.loc[[0, 1, 2, 10], ['ID', 'name']])\n",
    "\n",
    "result = df.q('height / weight  ´r is num', verbosity=0)\n",
    "compare(result, df.loc[[0, 1, 2, 3, 4, 5, 6, 7, 8, 9, 10], ['height', 'weight']])\n",
    "\n",
    "result = df.q('height / weight  ´r any is num', verbosity=0)\n",
    "compare(result, df.loc[[0, 1, 2, 3, 4, 5, 6, 7, 8, 9, 10], ['height', 'weight']])\n",
    "\n",
    "result = df.q('height / weight  ´r anyis num', verbosity=0)\n",
    "compare(result, df.loc[[0, 1, 2, 3, 4, 5, 6, 7, 8, 9, 10], ['height', 'weight']])\n",
    "\n",
    "result = df.q('height / weight  ´r all is num', verbosity=0)\n",
    "compare(result, df.loc[[0, 6, 9, 10], ['height', 'weight']])\n",
    "\n",
    "\n",
    "result = df.q(\n",
    "    r\"\"\"\n",
    "    height / weight ´m to num\n",
    "    height / weight  ´r all is num\n",
    "    \"\"\",\n",
    "    inplace=True, verbosity=0)\n",
    "compare(result, df.loc[[0, 1, 2, 3, 4, 5, 6, 7, 8, 9, 10], ['height', 'weight']])\n",
    "df = get_df()\n",
    "\n",
    "result = df.q(\n",
    "    r\"\"\"\n",
    "    height / weight\n",
    "        ´m to num\n",
    "        ´r all is num\n",
    "    \"\"\",\n",
    "    inplace=True, verbosity=0)\n",
    "compare(result, df.loc[[0, 1, 2, 3, 4, 5, 6, 7, 8, 9, 10], ['height', 'weight']])\n",
    "df = get_df()\n",
    "\n",
    "\n",
    "\n",
    "#uniqueness\n",
    "result = df.q(\n",
    "    r\"\"\"\n",
    "    diabetes ´r is unique\n",
    "    is any\n",
    "    \"\"\",\n",
    "    diff=None,\n",
    "    inplace=False,\n",
    "    verbosity=3,\n",
    "    )\n",
    "compare(result, df.loc[[0,1,2,4,5,6,7,8,9], :])\n",
    "\n",
    "\n",
    "#custom python expression evaluation\n",
    "result = df.q('age ´r ~ isinstance(x, int)', verbosity=0)\n",
    "compare(result, df.loc[[0, 10], ['age']])\n",
    "\n",
    "result = df.q(\n",
    "    r\"\"\"\n",
    "    age / height ´m to num\n",
    "    age ´r col~ col < df[\"height\"]\n",
    "    \"\"\",\n",
    "    inplace=False, verbosity=0,\n",
    "    )\n",
    "compare(result, df.loc[[0, 10], ['age']])\n",
    "\n",
    "result = df.q(\n",
    "    r\"\"\"\n",
    "    age / height ´m to num\n",
    "    age ´r col~ col == df[\"age\"].max()\n",
    "    age ´m to str\n",
    "    \"\"\",\n",
    "    inplace=False, verbosity=0,\n",
    "    )\n",
    "compare(result, df.loc[[4], ['age']])\n",
    "\n",
    "\n"
   ]
  },
  {
   "cell_type": "markdown",
   "metadata": {},
   "source": [
    "## complex filtering"
   ]
  },
  {
   "cell_type": "code",
   "execution_count": 13,
   "metadata": {},
   "outputs": [
    {
     "data": {
      "text/html": [
       "<style type=\"text/css\">\n",
       "#T_adb56_row0_col0, #T_adb56_row0_col1, #T_adb56_row0_col2, #T_adb56_row0_col3 {\n",
       "  background-color: #c0e7b0;\n",
       "}\n",
       "</style>\n",
       "<table id=\"T_adb56\">\n",
       "  <thead>\n",
       "  </thead>\n",
       "  <tbody>\n",
       "    <tr>\n",
       "      <th id=\"T_adb56_level0_row0\" class=\"row_heading level0 row0\" >597</th>\n",
       "      <td id=\"T_adb56_row0_col0\" class=\"data row0 col0\" >df was checked. no problems found</td>\n",
       "      <td id=\"T_adb56_row0_col1\" class=\"data row0 col1\" >qp.pd_util._check_df</td>\n",
       "      <td id=\"T_adb56_row0_col2\" class=\"data row0 col2\" >info</td>\n",
       "      <td id=\"T_adb56_row0_col3\" class=\"data row0 col3\" >2024-08-05 10:06:52.305216</td>\n",
       "    </tr>\n",
       "  </tbody>\n",
       "</table>\n"
      ],
      "text/plain": [
       "<pandas.io.formats.style.Styler at 0x1d38c6eac90>"
      ]
     },
     "metadata": {},
     "output_type": "display_data"
    },
    {
     "name": "stdout",
     "output_type": "stream",
     "text": [
      "passed test for arg: \"\n",
      "    ID  ´r r=1....\n",
      "    diabetes ´r is yes\n",
      "    \"\n",
      "passed test for arg: \"\n",
      "    ID  ´r r=1....\n",
      "    diabetes ´r & is yes\n",
      "    ID / diabetes\n",
      "    \"\n",
      "passed test for arg: \"\n",
      "    diabetes ´r is yes\n",
      "    ID  ´r & r=1....\n",
      "    / diabetes\n",
      "    \"\n",
      "passed test for arg: \"\n",
      "    diabetes ´r is yes\n",
      "    / ID  ´r & r=1....\n",
      "    \"\n",
      "passed test for arg: \"\n",
      "    ID  ´r r=1.... / r=2....  ´n @1\n",
      "    gender ´r =m / =male & @1\n",
      "    ID / gender\n",
      "    \"\n",
      "passed test for arg: \"\n",
      "    ID  ´r r=1.... / r=2....  ´n @ 1\n",
      "    gender ´r =m / =male &@1\n",
      "    \"\n",
      "passed test for arg: \"\n",
      "    ID  ´r r=1.... / r=2....  ´n @1\n",
      "    gender ´r =m / =m / =male  / @ 1\n",
      "    \"\n",
      "passed test for arg: \"\n",
      "    ID  ´r r=1.... / r=2....  ´n @1\n",
      "    gender ´r =f / =f / =female  / @ 1\n",
      "    ID\n",
      "    \"\n",
      "passed test for arg: \"\n",
      "    gender ´r =f / =female\n",
      "    age ´r & >30\n",
      "    \"\n",
      "passed test for arg: \"\n",
      "    gender ´r =f / =female  ´n @ a\n",
      "    age ´r >30  & @ a \n",
      "    \"\n",
      "passed test for arg: \"\n",
      "    age ´r >30\n",
      "    age ´r / <18\n",
      "    \"\n",
      "passed test for arg: \"\n",
      "    age ´r >30  ´n @ a\n",
      "    age ´r <18 /@a\n",
      "    \"\n",
      "passed test for arg: \"\n",
      "    age ´r >30 / <18\n",
      "    \"\n",
      "passed test for arg: \"\n",
      "    weight ´r <70 & >40  ´n @ between 40 and 70\n",
      "    diabetes ´r is yes & @between 40 and 70   \n",
      "    \"\n",
      "passed test for arg: \"\n",
      "    weight ´r <70  ´n @ <70\n",
      "    &weight ´r >40  ´n@>40\n",
      "    diabetes ´r is no & @<70 & @ >40\n",
      "    weight / diabetes\n",
      "    \"\n"
     ]
    }
   ],
   "source": [
    "df = get_df()\n",
    "\n",
    "result = df.q(\n",
    "    r\"\"\"\n",
    "    ID  ´r r=1....\n",
    "    diabetes ´r is yes\n",
    "    \"\"\",\n",
    "    verbosity=0)\n",
    "compare(result, df.loc[[1, 4, 5, 10], ['diabetes']])\n",
    "\n",
    "\n",
    "result = df.q(\n",
    "    r\"\"\"\n",
    "    ID  ´r r=1....\n",
    "    diabetes ´r & is yes\n",
    "    ID / diabetes\n",
    "    \"\"\",\n",
    "    verbosity=0)\n",
    "compare(result, df.loc[[1], ['ID', 'diabetes']])\n",
    "\n",
    "\n",
    "result = df.q(\n",
    "    r\"\"\"\n",
    "    diabetes ´r is yes\n",
    "    ID  ´r & r=1....\n",
    "    / diabetes\n",
    "    \"\"\",\n",
    "    verbosity=0)\n",
    "compare(result, df.loc[[1], ['ID', 'diabetes']])\n",
    "\n",
    "\n",
    "result = df.q(\n",
    "    r\"\"\"\n",
    "    diabetes ´r is yes\n",
    "    / ID  ´r & r=1....\n",
    "    \"\"\",\n",
    "    verbosity=0)\n",
    "compare(result, df.loc[[1], ['ID', 'diabetes']])\n",
    "\n",
    "\n",
    "result = df.q(\n",
    "    r\"\"\"\n",
    "    ID  ´r r=1.... / r=2....  ´n @1\n",
    "    gender ´r =m / =male & @1\n",
    "    ID / gender\n",
    "    \"\"\",\n",
    "    verbosity=0)\n",
    "compare(result, df.loc[[0,3,5], ['ID', 'gender']])\n",
    "\n",
    "\n",
    "result = df.q(\n",
    "    r\"\"\"\n",
    "    ID  ´r r=1.... / r=2....  ´n @ 1\n",
    "    gender ´r =m / =male &@1\n",
    "    \"\"\",\n",
    "    verbosity=0)\n",
    "compare(result, df.loc[[0,3,5], ['gender']])\n",
    "\n",
    "\n",
    "result = df.q(\n",
    "    r\"\"\"\n",
    "    ID  ´r r=1.... / r=2....  ´n @1\n",
    "    gender ´r =m / =m / =male  / @ 1\n",
    "    \"\"\",\n",
    "    verbosity=0)\n",
    "compare(result, df.loc[[0,1,2,3,4,5], ['gender']])\n",
    "\n",
    "\n",
    "result = df.q(\n",
    "    r\"\"\"\n",
    "    ID  ´r r=1.... / r=2....  ´n @1\n",
    "    gender ´r =f / =f / =female  / @ 1\n",
    "    ID\n",
    "    \"\"\",\n",
    "    verbosity=0)\n",
    "compare(result, df.loc[[0,1,2,3,4,5,10], ['ID']])\n",
    "\n",
    "\n",
    "result = df.q(\n",
    "    r\"\"\"\n",
    "    gender ´r =f / =female\n",
    "    age ´r & >30\n",
    "    \"\"\",\n",
    "    verbosity=0)\n",
    "compare(result, df.loc[[10], ['age']])\n",
    "\n",
    "\n",
    "result = df.q(\n",
    "    r\"\"\"\n",
    "    gender ´r =f / =female  ´n @ a\n",
    "    age ´r >30  & @ a \n",
    "    \"\"\",\n",
    "    verbosity=0)\n",
    "compare(result, df.loc[[10], ['age']])\n",
    "\n",
    "\n",
    "result = df.q(\n",
    "    r\"\"\"\n",
    "    age ´r >30\n",
    "    age ´r / <18\n",
    "    \"\"\",\n",
    "    verbosity=0)\n",
    "compare(result, df.loc[[0,4,10], ['age']])\n",
    "\n",
    "\n",
    "result = df.q(\n",
    "    r\"\"\"\n",
    "    age ´r >30  ´n @ a\n",
    "    age ´r <18 /@a\n",
    "    \"\"\",\n",
    "    verbosity=0)\n",
    "compare(result, df.loc[[0,4,10], ['age']])\n",
    "\n",
    "\n",
    "result = df.q(\n",
    "    r\"\"\"\n",
    "    age ´r >30 / <18\n",
    "    \"\"\",\n",
    "    verbosity=0)\n",
    "compare(result, df.loc[[0,4,10], ['age']])\n",
    "\n",
    "\n",
    "result = df.q(\n",
    "    r\"\"\"\n",
    "    weight ´r <70 & >40  ´n @ between 40 and 70\n",
    "    diabetes ´r is yes & @between 40 and 70   \n",
    "    \"\"\",\n",
    "    verbosity=0)\n",
    "compare(result, df.loc[[1], ['diabetes']])\n",
    "\n",
    "result = df.q(\n",
    "    r\"\"\"\n",
    "    weight ´r <70  ´n @ <70\n",
    "    &weight ´r >40  ´n@>40\n",
    "    diabetes ´r is no & @<70 & @ >40\n",
    "    weight / diabetes\n",
    "    \"\"\",\n",
    "    verbosity=0)\n",
    "compare(result, df.loc[[], ['weight', 'diabetes']])\n",
    "\n",
    "\n",
    "\n"
   ]
  },
  {
   "cell_type": "markdown",
   "metadata": {},
   "source": [
    "## data modification"
   ]
  },
  {
   "cell_type": "code",
   "execution_count": 14,
   "metadata": {},
   "outputs": [
    {
     "data": {
      "text/html": [
       "<style type=\"text/css\">\n",
       "#T_fbbf2_row0_col0, #T_fbbf2_row0_col1, #T_fbbf2_row0_col2, #T_fbbf2_row0_col3 {\n",
       "  background-color: #c0e7b0;\n",
       "}\n",
       "</style>\n",
       "<table id=\"T_fbbf2\">\n",
       "  <thead>\n",
       "  </thead>\n",
       "  <tbody>\n",
       "    <tr>\n",
       "      <th id=\"T_fbbf2_level0_row0\" class=\"row_heading level0 row0\" >1042</th>\n",
       "      <td id=\"T_fbbf2_row0_col0\" class=\"data row0 col0\" >df was checked. no problems found</td>\n",
       "      <td id=\"T_fbbf2_row0_col1\" class=\"data row0 col1\" >qp.pd_util._check_df</td>\n",
       "      <td id=\"T_fbbf2_row0_col2\" class=\"data row0 col2\" >info</td>\n",
       "      <td id=\"T_fbbf2_row0_col3\" class=\"data row0 col3\" >2024-08-05 10:06:52.888239</td>\n",
       "    </tr>\n",
       "  </tbody>\n",
       "</table>\n"
      ],
      "text/plain": [
       "<pandas.io.formats.style.Styler at 0x1d38bb4a210>"
      ]
     },
     "metadata": {},
     "output_type": "display_data"
    },
    {
     "name": "stdout",
     "output_type": "stream",
     "text": [
      "passed test for arg: \"id ´m col~ df[\"name\"]\"\n"
     ]
    },
    {
     "data": {
      "text/html": [
       "<style type=\"text/css\">\n",
       "#T_a9697_row0_col0, #T_a9697_row0_col1, #T_a9697_row0_col2, #T_a9697_row0_col3 {\n",
       "  background-color: #c0e7b0;\n",
       "}\n",
       "</style>\n",
       "<table id=\"T_a9697\">\n",
       "  <thead>\n",
       "  </thead>\n",
       "  <tbody>\n",
       "    <tr>\n",
       "      <th id=\"T_a9697_level0_row0\" class=\"row_heading level0 row0\" >1050</th>\n",
       "      <td id=\"T_a9697_row0_col0\" class=\"data row0 col0\" >df was checked. no problems found</td>\n",
       "      <td id=\"T_a9697_row0_col1\" class=\"data row0 col1\" >qp.pd_util._check_df</td>\n",
       "      <td id=\"T_a9697_row0_col2\" class=\"data row0 col2\" >info</td>\n",
       "      <td id=\"T_a9697_row0_col3\" class=\"data row0 col3\" >2024-08-05 10:06:52.917183</td>\n",
       "    </tr>\n",
       "  </tbody>\n",
       "</table>\n"
      ],
      "text/plain": [
       "<pandas.io.formats.style.Styler at 0x1d38bb4a1e0>"
      ]
     },
     "metadata": {},
     "output_type": "display_data"
    },
    {
     "name": "stdout",
     "output_type": "stream",
     "text": [
      "passed test for arg: \"\n",
      "    id ´m col~ df[\"name\"]\n",
      "    is any ´r is any\n",
      "    \"\n"
     ]
    },
    {
     "data": {
      "text/html": [
       "<style type=\"text/css\">\n",
       "#T_f1f13_row0_col0, #T_f1f13_row0_col1, #T_f1f13_row0_col2, #T_f1f13_row0_col3 {\n",
       "  background-color: #c0e7b0;\n",
       "}\n",
       "</style>\n",
       "<table id=\"T_f1f13\">\n",
       "  <thead>\n",
       "  </thead>\n",
       "  <tbody>\n",
       "    <tr>\n",
       "      <th id=\"T_f1f13_level0_row0\" class=\"row_heading level0 row0\" >1067</th>\n",
       "      <td id=\"T_f1f13_row0_col0\" class=\"data row0 col0\" >df was checked. no problems found</td>\n",
       "      <td id=\"T_f1f13_row0_col1\" class=\"data row0 col1\" >qp.pd_util._check_df</td>\n",
       "      <td id=\"T_f1f13_row0_col2\" class=\"data row0 col2\" >info</td>\n",
       "      <td id=\"T_f1f13_row0_col3\" class=\"data row0 col3\" >2024-08-05 10:06:52.958158</td>\n",
       "    </tr>\n",
       "  </tbody>\n",
       "</table>\n"
      ],
      "text/plain": [
       "<pandas.io.formats.style.Styler at 0x1d38c3ecf80>"
      ]
     },
     "metadata": {},
     "output_type": "display_data"
    },
    {
     "name": "stdout",
     "output_type": "stream",
     "text": [
      "passed test for arg: \"id / age ´m col~ df[\"name\"]\"\n"
     ]
    },
    {
     "data": {
      "text/html": [
       "<style type=\"text/css\">\n",
       "#T_c0b69_row0_col0, #T_c0b69_row0_col1, #T_c0b69_row0_col2, #T_c0b69_row0_col3 {\n",
       "  background-color: #c0e7b0;\n",
       "}\n",
       "</style>\n",
       "<table id=\"T_c0b69\">\n",
       "  <thead>\n",
       "  </thead>\n",
       "  <tbody>\n",
       "    <tr>\n",
       "      <th id=\"T_c0b69_level0_row0\" class=\"row_heading level0 row0\" >1079</th>\n",
       "      <td id=\"T_c0b69_row0_col0\" class=\"data row0 col0\" >df was checked. no problems found</td>\n",
       "      <td id=\"T_c0b69_row0_col1\" class=\"data row0 col1\" >qp.pd_util._check_df</td>\n",
       "      <td id=\"T_c0b69_row0_col2\" class=\"data row0 col2\" >info</td>\n",
       "      <td id=\"T_c0b69_row0_col3\" class=\"data row0 col3\" >2024-08-05 10:06:52.987372</td>\n",
       "    </tr>\n",
       "  </tbody>\n",
       "</table>\n"
      ],
      "text/plain": [
       "<pandas.io.formats.style.Styler at 0x1d38c804dd0>"
      ]
     },
     "metadata": {},
     "output_type": "display_data"
    },
    {
     "name": "stdout",
     "output_type": "stream",
     "text": [
      "passed test for arg: \"´m col~ df[\"name\"]\"\n"
     ]
    },
    {
     "data": {
      "text/html": [
       "<style type=\"text/css\">\n",
       "#T_e76aa_row0_col0, #T_e76aa_row0_col1, #T_e76aa_row0_col2, #T_e76aa_row0_col3 {\n",
       "  background-color: #c0e7b0;\n",
       "}\n",
       "</style>\n",
       "<table id=\"T_e76aa\">\n",
       "  <thead>\n",
       "  </thead>\n",
       "  <tbody>\n",
       "    <tr>\n",
       "      <th id=\"T_e76aa_level0_row0\" class=\"row_heading level0 row0\" >1083</th>\n",
       "      <td id=\"T_e76aa_row0_col0\" class=\"data row0 col0\" >df was checked. no problems found</td>\n",
       "      <td id=\"T_e76aa_row0_col1\" class=\"data row0 col1\" >qp.pd_util._check_df</td>\n",
       "      <td id=\"T_e76aa_row0_col2\" class=\"data row0 col2\" >info</td>\n",
       "      <td id=\"T_e76aa_row0_col3\" class=\"data row0 col3\" >2024-08-05 10:06:53.007053</td>\n",
       "    </tr>\n",
       "  </tbody>\n",
       "</table>\n"
      ],
      "text/plain": [
       "<pandas.io.formats.style.Styler at 0x1d38c806c30>"
      ]
     },
     "metadata": {},
     "output_type": "display_data"
    },
    {
     "name": "stdout",
     "output_type": "stream",
     "text": [
      "passed test for arg: \"\n",
      "    name ´m ~ x.lower()\n",
      "    is any ´r is any\n",
      "    \"\n"
     ]
    },
    {
     "data": {
      "text/html": [
       "<style type=\"text/css\">\n",
       "#T_32843_row0_col0, #T_32843_row0_col1, #T_32843_row0_col2, #T_32843_row0_col3 {\n",
       "  background-color: #c0e7b0;\n",
       "}\n",
       "</style>\n",
       "<table id=\"T_32843\">\n",
       "  <thead>\n",
       "  </thead>\n",
       "  <tbody>\n",
       "    <tr>\n",
       "      <th id=\"T_32843_level0_row0\" class=\"row_heading level0 row0\" >1100</th>\n",
       "      <td id=\"T_32843_row0_col0\" class=\"data row0 col0\" >df was checked. no problems found</td>\n",
       "      <td id=\"T_32843_row0_col1\" class=\"data row0 col1\" >qp.pd_util._check_df</td>\n",
       "      <td id=\"T_32843_row0_col2\" class=\"data row0 col2\" >info</td>\n",
       "      <td id=\"T_32843_row0_col3\" class=\"data row0 col3\" >2024-08-05 10:06:53.049894</td>\n",
       "    </tr>\n",
       "  </tbody>\n",
       "</table>\n"
      ],
      "text/plain": [
       "<pandas.io.formats.style.Styler at 0x1d38c807350>"
      ]
     },
     "metadata": {},
     "output_type": "display_data"
    },
    {
     "name": "stdout",
     "output_type": "stream",
     "text": [
      "passed test for arg: \"\n",
      "    name  ´r !x? x == x.lower()  ´m ~ x.lower()\n",
      "    is any ´r is any\n",
      "    \"\n"
     ]
    },
    {
     "data": {
      "text/html": [
       "<style type=\"text/css\">\n",
       "#T_be1cb_row0_col0, #T_be1cb_row0_col1, #T_be1cb_row0_col2, #T_be1cb_row0_col3 {\n",
       "  background-color: #c0e7b0;\n",
       "}\n",
       "</style>\n",
       "<table id=\"T_be1cb\">\n",
       "  <thead>\n",
       "  </thead>\n",
       "  <tbody>\n",
       "    <tr>\n",
       "      <th id=\"T_be1cb_level0_row0\" class=\"row_heading level0 row0\" >1122</th>\n",
       "      <td id=\"T_be1cb_row0_col0\" class=\"data row0 col0\" >df was checked. no problems found</td>\n",
       "      <td id=\"T_be1cb_row0_col1\" class=\"data row0 col1\" >qp.pd_util._check_df</td>\n",
       "      <td id=\"T_be1cb_row0_col2\" class=\"data row0 col2\" >info</td>\n",
       "      <td id=\"T_be1cb_row0_col3\" class=\"data row0 col3\" >2024-08-05 10:06:53.095126</td>\n",
       "    </tr>\n",
       "  </tbody>\n",
       "</table>\n"
      ],
      "text/plain": [
       "<pandas.io.formats.style.Styler at 0x1d38c805220>"
      ]
     },
     "metadata": {},
     "output_type": "display_data"
    },
    {
     "name": "stdout",
     "output_type": "stream",
     "text": [
      "passed test for arg: \"\n",
      "    gender ´m to str & ~ x.lower()\n",
      "    is any\n",
      "    \"\n"
     ]
    },
    {
     "data": {
      "text/html": [
       "<style type=\"text/css\">\n",
       "#T_20f00_row0_col0, #T_20f00_row0_col1, #T_20f00_row0_col2, #T_20f00_row0_col3 {\n",
       "  background-color: #c0e7b0;\n",
       "}\n",
       "</style>\n",
       "<table id=\"T_20f00\">\n",
       "  <thead>\n",
       "  </thead>\n",
       "  <tbody>\n",
       "    <tr>\n",
       "      <th id=\"T_20f00_level0_row0\" class=\"row_heading level0 row0\" >1137</th>\n",
       "      <td id=\"T_20f00_row0_col0\" class=\"data row0 col0\" >df was checked. no problems found</td>\n",
       "      <td id=\"T_20f00_row0_col1\" class=\"data row0 col1\" >qp.pd_util._check_df</td>\n",
       "      <td id=\"T_20f00_row0_col2\" class=\"data row0 col2\" >info</td>\n",
       "      <td id=\"T_20f00_row0_col3\" class=\"data row0 col3\" >2024-08-05 10:06:53.131861</td>\n",
       "    </tr>\n",
       "  </tbody>\n",
       "</table>\n"
      ],
      "text/plain": [
       "<pandas.io.formats.style.Styler at 0x1d38c79a5d0>"
      ]
     },
     "metadata": {},
     "output_type": "display_data"
    },
    {
     "name": "stdout",
     "output_type": "stream",
     "text": [
      "passed test for arg: \"\n",
      "    gender ´m to str / ~ x.lower()\n",
      "    is any\n",
      "    \"\n"
     ]
    },
    {
     "data": {
      "text/html": [
       "<style type=\"text/css\">\n",
       "#T_34753_row0_col0, #T_34753_row0_col1, #T_34753_row0_col2, #T_34753_row0_col3 {\n",
       "  background-color: #c0e7b0;\n",
       "}\n",
       "</style>\n",
       "<table id=\"T_34753\">\n",
       "  <thead>\n",
       "  </thead>\n",
       "  <tbody>\n",
       "    <tr>\n",
       "      <th id=\"T_34753_level0_row0\" class=\"row_heading level0 row0\" >1152</th>\n",
       "      <td id=\"T_34753_row0_col0\" class=\"data row0 col0\" >df was checked. no problems found</td>\n",
       "      <td id=\"T_34753_row0_col1\" class=\"data row0 col1\" >qp.pd_util._check_df</td>\n",
       "      <td id=\"T_34753_row0_col2\" class=\"data row0 col2\" >info</td>\n",
       "      <td id=\"T_34753_row0_col3\" class=\"data row0 col3\" >2024-08-05 10:06:53.164065</td>\n",
       "    </tr>\n",
       "  </tbody>\n",
       "</table>\n"
      ],
      "text/plain": [
       "<pandas.io.formats.style.Styler at 0x1d38bc64e90>"
      ]
     },
     "metadata": {},
     "output_type": "display_data"
    },
    {
     "name": "stdout",
     "output_type": "stream",
     "text": [
      "passed test for arg: \"\n",
      "    a ´r >0\n",
      "    b ´m ~ x+1\n",
      "    \"\n",
      "passed test for arg: \"\n",
      "    a ´r >0\n",
      "    b ´m ~ x - 2\n",
      "    \"\n",
      "passed test for arg: \"b  ´m ~x*2\"\n",
      "passed test for arg: \"\n",
      "    a ´r =0\n",
      "    b ´m ~ x`/2\n",
      "    \"\n"
     ]
    }
   ],
   "source": [
    "#set columns\n",
    "\n",
    "df = get_df()\n",
    "df1 = get_df()\n",
    "result = df.q('id ´m col~ df[\"name\"]', verbosity=0)\n",
    "df1['ID'] = df1['name']\n",
    "compare(result, df1.loc[:, ['ID']])\n",
    "\n",
    "\n",
    "df = get_df()\n",
    "df1 = get_df()\n",
    "result = df.q(\n",
    "    r\"\"\"\n",
    "    id ´m col~ df[\"name\"]\n",
    "    is any ´r is any\n",
    "    \"\"\",\n",
    "    verbosity=0)\n",
    "df1['ID'] = df1['name']\n",
    "compare(result, df1.loc[:, :])\n",
    "\n",
    "\n",
    "df = get_df()\n",
    "df1 = get_df()\n",
    "result = df.q('id / age ´m col~ df[\"name\"]' ,verbosity=0)\n",
    "df1['ID'] = df1['name']\n",
    "df1['age'] = df1['name']\n",
    "compare(result, df1.loc[:, ['ID', 'age']])\n",
    "\n",
    "df = get_df()\n",
    "df1 = get_df()\n",
    "result = df.q('´m col~ df[\"name\"]', verbosity=0)\n",
    "for col in df1.columns:\n",
    "    df1[col] = df1['name']\n",
    "compare(result, df1)\n",
    "\n",
    "\n",
    "\n",
    "#set values\n",
    "\n",
    "df = get_df()\n",
    "df1 = get_df()\n",
    "result = df.q(\n",
    "    r\"\"\"\n",
    "    name ´m ~ x.lower()\n",
    "    is any ´r is any\n",
    "    \"\"\",\n",
    "    verbosity=0)\n",
    "df1['name'] = df1['name'].str.lower()\n",
    "compare(result, df1.loc[:, :])\n",
    "\n",
    "df = get_df()\n",
    "df1 = get_df()\n",
    "result = df.q(\n",
    "    r\"\"\"\n",
    "    name  ´r !x? x == x.lower()  ´m ~ x.lower()\n",
    "    is any ´r is any\n",
    "    \"\"\",\n",
    "    verbosity=0)\n",
    "df1['name'] = df1['name'].str.lower()\n",
    "compare(result, df1.loc[:, :])\n",
    "\n",
    "\n",
    "df = get_df()\n",
    "df1 = get_df()\n",
    "result = df.q(\n",
    "    r\"\"\"\n",
    "    gender ´m to str & ~ x.lower()\n",
    "    is any\n",
    "    \"\"\",\n",
    "    verbosity=0)\n",
    "df1['gender'] = df1['gender'].astype(str).str.lower()\n",
    "compare(result, df1.loc[:, :])\n",
    "\n",
    "\n",
    "df = get_df()\n",
    "df1 = get_df()\n",
    "result = df.q(\n",
    "    r\"\"\"\n",
    "    gender ´m to str / ~ x.lower()\n",
    "    is any\n",
    "    \"\"\",\n",
    "    verbosity=0)\n",
    "df1['gender'] = df1['gender'].astype(str).str.lower()\n",
    "compare(result, df1.loc[:, :])\n",
    "\n",
    "\n",
    "\n",
    "\n",
    "\n",
    "df = get_df_simple_tagged()\n",
    "df1 = get_df_simple_tagged()\n",
    "df.q(\n",
    "    r\"\"\"\n",
    "    a ´r >0\n",
    "    b ´m ~ x+1\n",
    "    \"\"\",\n",
    "    inplace=True, verbosity=0,\n",
    "    )\n",
    "df1['b'] = [ 1, 2, 4]\n",
    "compare(df, df1)\n",
    "\n",
    "\n",
    "df.q(\n",
    "    r\"\"\"\n",
    "    a ´r >0\n",
    "    b ´m ~ x - 2\n",
    "    \"\"\",\n",
    "    inplace=True, verbosity=0,\n",
    "    )\n",
    "df1['b'] = [ 1, 2, 2]\n",
    "compare(df, df1)\n",
    "\n",
    "\n",
    "df.q('b  ´m ~x*2', inplace=True, verbosity=0)\n",
    "df1['b'] = [ 2, 4, 4]\n",
    "compare(df, df1)\n",
    "\n",
    "\n",
    "df.q(\n",
    "    r\"\"\"\n",
    "    a ´r =0\n",
    "    b ´m ~ x`/2\n",
    "    \"\"\",\n",
    "    inplace=True, verbosity=0,\n",
    "    )\n",
    "df1['b'] = [ 2, 2, 4]\n",
    "compare(df, df1)\n"
   ]
  },
  {
   "cell_type": "markdown",
   "metadata": {},
   "source": [
    "## metadata modification"
   ]
  },
  {
   "cell_type": "code",
   "execution_count": 15,
   "metadata": {},
   "outputs": [
    {
     "data": {
      "text/html": [
       "<style type=\"text/css\">\n",
       "#T_7feb7_row0_col0, #T_7feb7_row0_col1, #T_7feb7_row0_col2, #T_7feb7_row0_col3 {\n",
       "  background-color: #c0e7b0;\n",
       "}\n",
       "</style>\n",
       "<table id=\"T_7feb7\">\n",
       "  <thead>\n",
       "  </thead>\n",
       "  <tbody>\n",
       "    <tr>\n",
       "      <th id=\"T_7feb7_level0_row0\" class=\"row_heading level0 row0\" >1208</th>\n",
       "      <td id=\"T_7feb7_row0_col0\" class=\"data row0 col0\" >df was checked. no problems found</td>\n",
       "      <td id=\"T_7feb7_row0_col1\" class=\"data row0 col1\" >qp.pd_util._check_df</td>\n",
       "      <td id=\"T_7feb7_row0_col2\" class=\"data row0 col2\" >info</td>\n",
       "      <td id=\"T_7feb7_row0_col3\" class=\"data row0 col3\" >2024-08-05 10:06:53.337422</td>\n",
       "    </tr>\n",
       "  </tbody>\n",
       "</table>\n"
      ],
      "text/plain": [
       "<pandas.io.formats.style.Styler at 0x1d38c805220>"
      ]
     },
     "metadata": {},
     "output_type": "display_data"
    },
    {
     "name": "stdout",
     "output_type": "stream",
     "text": [
      "passed test for arg: \"a ´r >0  ´n meta   ´m += >0\"\n"
     ]
    },
    {
     "data": {
      "text/html": [
       "<style type=\"text/css\">\n",
       "#T_e5799_row0_col0, #T_e5799_row0_col1, #T_e5799_row0_col2, #T_e5799_row0_col3 {\n",
       "  background-color: #c0e7b0;\n",
       "}\n",
       "</style>\n",
       "<table id=\"T_e5799\">\n",
       "  <thead>\n",
       "  </thead>\n",
       "  <tbody>\n",
       "    <tr>\n",
       "      <th id=\"T_e5799_level0_row0\" class=\"row_heading level0 row0\" >1224</th>\n",
       "      <td id=\"T_e5799_row0_col0\" class=\"data row0 col0\" >df was checked. no problems found</td>\n",
       "      <td id=\"T_e5799_row0_col1\" class=\"data row0 col1\" >qp.pd_util._check_df</td>\n",
       "      <td id=\"T_e5799_row0_col2\" class=\"data row0 col2\" >info</td>\n",
       "      <td id=\"T_e5799_row0_col3\" class=\"data row0 col3\" >2024-08-05 10:06:53.374315</td>\n",
       "    </tr>\n",
       "  </tbody>\n",
       "</table>\n"
      ],
      "text/plain": [
       "<pandas.io.formats.style.Styler at 0x1d38c8061e0>"
      ]
     },
     "metadata": {},
     "output_type": "display_data"
    },
    {
     "name": "stdout",
     "output_type": "stream",
     "text": [
      "passed test for arg: \"=a   ´r >0   ´n meta   ´m ~ x + \">0\"\"\n"
     ]
    },
    {
     "data": {
      "text/html": [
       "<style type=\"text/css\">\n",
       "#T_21b9f_row0_col0, #T_21b9f_row0_col1, #T_21b9f_row0_col2, #T_21b9f_row0_col3 {\n",
       "  background-color: #c0e7b0;\n",
       "}\n",
       "</style>\n",
       "<table id=\"T_21b9f\">\n",
       "  <thead>\n",
       "  </thead>\n",
       "  <tbody>\n",
       "    <tr>\n",
       "      <th id=\"T_21b9f_level0_row0\" class=\"row_heading level0 row0\" >1240</th>\n",
       "      <td id=\"T_21b9f_row0_col0\" class=\"data row0 col0\" >df was checked. no problems found</td>\n",
       "      <td id=\"T_21b9f_row0_col1\" class=\"data row0 col1\" >qp.pd_util._check_df</td>\n",
       "      <td id=\"T_21b9f_row0_col2\" class=\"data row0 col2\" >info</td>\n",
       "      <td id=\"T_21b9f_row0_col3\" class=\"data row0 col3\" >2024-08-05 10:06:53.402700</td>\n",
       "    </tr>\n",
       "  </tbody>\n",
       "</table>\n"
      ],
      "text/plain": [
       "<pandas.io.formats.style.Styler at 0x1d38bb2f800>"
      ]
     },
     "metadata": {},
     "output_type": "display_data"
    },
    {
     "name": "stdout",
     "output_type": "stream",
     "text": [
      "passed test for arg: \"=a   ´r >0   ´n  meta ´m +=>0\"\n"
     ]
    },
    {
     "data": {
      "text/html": [
       "<style type=\"text/css\">\n",
       "#T_73090_row0_col0, #T_73090_row0_col1, #T_73090_row0_col2, #T_73090_row0_col3 {\n",
       "  background-color: #c0e7b0;\n",
       "}\n",
       "</style>\n",
       "<table id=\"T_73090\">\n",
       "  <thead>\n",
       "  </thead>\n",
       "  <tbody>\n",
       "    <tr>\n",
       "      <th id=\"T_73090_level0_row0\" class=\"row_heading level0 row0\" >1256</th>\n",
       "      <td id=\"T_73090_row0_col0\" class=\"data row0 col0\" >df was checked. no problems found</td>\n",
       "      <td id=\"T_73090_row0_col1\" class=\"data row0 col1\" >qp.pd_util._check_df</td>\n",
       "      <td id=\"T_73090_row0_col2\" class=\"data row0 col2\" >info</td>\n",
       "      <td id=\"T_73090_row0_col3\" class=\"data row0 col3\" >2024-08-05 10:06:53.435703</td>\n",
       "    </tr>\n",
       "  </tbody>\n",
       "</table>\n"
      ],
      "text/plain": [
       "<pandas.io.formats.style.Styler at 0x1d38c830d10>"
      ]
     },
     "metadata": {},
     "output_type": "display_data"
    },
    {
     "name": "stdout",
     "output_type": "stream",
     "text": [
      "passed test for arg: \"=a´r >0     ´n meta   ´m += >0\"\n"
     ]
    },
    {
     "data": {
      "text/html": [
       "<style type=\"text/css\">\n",
       "#T_f55d7_row0_col0, #T_f55d7_row0_col1, #T_f55d7_row0_col2, #T_f55d7_row0_col3 {\n",
       "  background-color: #c0e7b0;\n",
       "}\n",
       "</style>\n",
       "<table id=\"T_f55d7\">\n",
       "  <thead>\n",
       "  </thead>\n",
       "  <tbody>\n",
       "    <tr>\n",
       "      <th id=\"T_f55d7_level0_row0\" class=\"row_heading level0 row0\" >1272</th>\n",
       "      <td id=\"T_f55d7_row0_col0\" class=\"data row0 col0\" >df was checked. no problems found</td>\n",
       "      <td id=\"T_f55d7_row0_col1\" class=\"data row0 col1\" >qp.pd_util._check_df</td>\n",
       "      <td id=\"T_f55d7_row0_col2\" class=\"data row0 col2\" >info</td>\n",
       "      <td id=\"T_f55d7_row0_col3\" class=\"data row0 col3\" >2024-08-05 10:06:53.467832</td>\n",
       "    </tr>\n",
       "  </tbody>\n",
       "</table>\n"
      ],
      "text/plain": [
       "<pandas.io.formats.style.Styler at 0x1d38bc66930>"
      ]
     },
     "metadata": {},
     "output_type": "display_data"
    },
    {
     "name": "stdout",
     "output_type": "stream",
     "text": [
      "passed test for arg: \"=a  ´r >0   ´n meta   ´m += >0\"\n",
      "passed test for arg: \"=a   ´r >0  ´n meta   ´m += >0\"\n",
      "passed test for arg: \"=a   ´r ==0    ´n meta   ´m += 0\"\n",
      "passed test for arg: \"a   ´r ==0    ´n meta  ´m ~ x.replace(\"0\", \"\")\"\n",
      "passed test for arg: \"=a   ´r >0    ´n meta  ´m ~ x.replace(\"0\", \"\")\"\n",
      "passed test for arg: \"=a     ´n meta   ´m =\"\n"
     ]
    }
   ],
   "source": [
    "\n",
    "#syntax\n",
    "df = get_df_simple_tagged()\n",
    "df1 = get_df_simple_tagged()\n",
    "df.q('a ´r >0  ´n meta   ´m += >0', inplace=True, verbosity=0)\n",
    "df1['meta'] = ['', '', '>0']\n",
    "compare(df, df1)\n",
    "\n",
    "df = get_df_simple_tagged()\n",
    "df1 = get_df_simple_tagged()\n",
    "df.q('=a   ´r >0   ´n meta   ´m ~ x + \">0\"', inplace=True, verbosity=0)\n",
    "df1['meta'] = [ '', '', '>0']\n",
    "compare(df, df1)\n",
    "\n",
    "df = get_df_simple_tagged()\n",
    "df1 = get_df_simple_tagged()\n",
    "df.q('=a   ´r >0   ´n  meta ´m +=>0', inplace=True, verbosity=0)\n",
    "df1['meta'] = [ '', '', '>0']\n",
    "compare(df, df1)\n",
    "\n",
    "df = get_df_simple_tagged()\n",
    "df1 = get_df_simple_tagged()\n",
    "df.q('=a´r >0     ´n meta   ´m += >0', inplace=True, verbosity=0)\n",
    "df1['meta'] = [ '', '', '>0']\n",
    "compare(df, df1)\n",
    "\n",
    "\n",
    "\n",
    "#continous\n",
    "df = get_df_simple_tagged()\n",
    "df1 = get_df_simple_tagged()\n",
    "\n",
    "\n",
    "df.q('=a  ´r >0   ´n meta   ´m += >0', inplace=True, verbosity=0)\n",
    "df1['meta'] = [ '', '', '>0']\n",
    "compare(df, df1)\n",
    "\n",
    "\n",
    "df.q('=a   ´r >0  ´n meta   ´m += >0', inplace=True, verbosity=0)\n",
    "df1['meta'] = [ '', '', '>0>0']\n",
    "compare(df, df1)\n",
    "\n",
    "\n",
    "df.q('=a   ´r ==0    ´n meta   ´m += 0', inplace=True, verbosity=0)\n",
    "df1['meta'] = [ '', '0', '>0>0']\n",
    "compare(df, df1)\n",
    "\n",
    "\n",
    "df.q('a   ´r ==0    ´n meta  ´m ~ x.replace(\"0\", \"\")', inplace=True, verbosity=0)\n",
    "df1['meta'] = [ '', '', '>0>0']\n",
    "compare(df, df1)\n",
    "\n",
    "\n",
    "df.q('=a   ´r >0    ´n meta  ´m ~ x.replace(\"0\", \"\")', inplace=True, verbosity=0)\n",
    "df1['meta'] = [ '', '', '>>']\n",
    "compare(df, df1)\n",
    "\n",
    "\n",
    "df.q('=a     ´n meta   ´m =', inplace=True, verbosity=0)\n",
    "df1['meta'] = [ '', '', '']\n",
    "compare(df, df1)\n",
    "\n",
    "\n",
    "\n"
   ]
  },
  {
   "cell_type": "markdown",
   "metadata": {},
   "source": [
    "## type conversion"
   ]
  },
  {
   "cell_type": "code",
   "execution_count": 16,
   "metadata": {},
   "outputs": [
    {
     "data": {
      "text/html": [
       "<style type=\"text/css\">\n",
       "#T_c681c_row0_col0, #T_c681c_row0_col1, #T_c681c_row0_col2, #T_c681c_row0_col3 {\n",
       "  background-color: #c0e7b0;\n",
       "}\n",
       "</style>\n",
       "<table id=\"T_c681c\">\n",
       "  <thead>\n",
       "  </thead>\n",
       "  <tbody>\n",
       "    <tr>\n",
       "      <th id=\"T_c681c_level0_row0\" class=\"row_heading level0 row0\" >1358</th>\n",
       "      <td id=\"T_c681c_row0_col0\" class=\"data row0 col0\" >df was checked. no problems found</td>\n",
       "      <td id=\"T_c681c_row0_col1\" class=\"data row0 col1\" >qp.pd_util._check_df</td>\n",
       "      <td id=\"T_c681c_row0_col2\" class=\"data row0 col2\" >info</td>\n",
       "      <td id=\"T_c681c_row0_col3\" class=\"data row0 col3\" >2024-08-05 10:06:53.609464</td>\n",
       "    </tr>\n",
       "  </tbody>\n",
       "</table>\n"
      ],
      "text/plain": [
       "<pandas.io.formats.style.Styler at 0x1d38c59aa80>"
      ]
     },
     "metadata": {},
     "output_type": "display_data"
    },
    {
     "name": "stdout",
     "output_type": "stream",
     "text": [
      "passed test for arg: \"age ´m to int\"\n"
     ]
    },
    {
     "data": {
      "text/html": [
       "<style type=\"text/css\">\n",
       "#T_d8b6d_row0_col0, #T_d8b6d_row0_col1, #T_d8b6d_row0_col2, #T_d8b6d_row0_col3 {\n",
       "  background-color: #c0e7b0;\n",
       "}\n",
       "</style>\n",
       "<table id=\"T_d8b6d\">\n",
       "  <thead>\n",
       "  </thead>\n",
       "  <tbody>\n",
       "    <tr>\n",
       "      <th id=\"T_d8b6d_level0_row0\" class=\"row_heading level0 row0\" >1366</th>\n",
       "      <td id=\"T_d8b6d_row0_col0\" class=\"data row0 col0\" >df was checked. no problems found</td>\n",
       "      <td id=\"T_d8b6d_row0_col1\" class=\"data row0 col1\" >qp.pd_util._check_df</td>\n",
       "      <td id=\"T_d8b6d_row0_col2\" class=\"data row0 col2\" >info</td>\n",
       "      <td id=\"T_d8b6d_row0_col3\" class=\"data row0 col3\" >2024-08-05 10:06:53.646686</td>\n",
       "    </tr>\n",
       "  </tbody>\n",
       "</table>\n"
      ],
      "text/plain": [
       "<pandas.io.formats.style.Styler at 0x1d38c6eac90>"
      ]
     },
     "metadata": {},
     "output_type": "display_data"
    },
    {
     "name": "stdout",
     "output_type": "stream",
     "text": [
      "passed test for arg: \"=age  ´m to float\"\n"
     ]
    },
    {
     "data": {
      "text/html": [
       "<style type=\"text/css\">\n",
       "#T_7db75_row0_col0, #T_7db75_row0_col1, #T_7db75_row0_col2, #T_7db75_row0_col3 {\n",
       "  background-color: #c0e7b0;\n",
       "}\n",
       "</style>\n",
       "<table id=\"T_7db75\">\n",
       "  <thead>\n",
       "  </thead>\n",
       "  <tbody>\n",
       "    <tr>\n",
       "      <th id=\"T_7db75_level0_row0\" class=\"row_heading level0 row0\" >1374</th>\n",
       "      <td id=\"T_7db75_row0_col0\" class=\"data row0 col0\" >df was checked. no problems found</td>\n",
       "      <td id=\"T_7db75_row0_col1\" class=\"data row0 col1\" >qp.pd_util._check_df</td>\n",
       "      <td id=\"T_7db75_row0_col2\" class=\"data row0 col2\" >info</td>\n",
       "      <td id=\"T_7db75_row0_col3\" class=\"data row0 col3\" >2024-08-05 10:06:53.716836</td>\n",
       "    </tr>\n",
       "  </tbody>\n",
       "</table>\n"
      ],
      "text/plain": [
       "<pandas.io.formats.style.Styler at 0x1d38c79a630>"
      ]
     },
     "metadata": {},
     "output_type": "display_data"
    },
    {
     "name": "stdout",
     "output_type": "stream",
     "text": [
      "passed test for arg: \"=age   ´m to num\"\n"
     ]
    },
    {
     "data": {
      "text/html": [
       "<style type=\"text/css\">\n",
       "#T_b65a4_row0_col0, #T_b65a4_row0_col1, #T_b65a4_row0_col2, #T_b65a4_row0_col3 {\n",
       "  background-color: #c0e7b0;\n",
       "}\n",
       "</style>\n",
       "<table id=\"T_b65a4\">\n",
       "  <thead>\n",
       "  </thead>\n",
       "  <tbody>\n",
       "    <tr>\n",
       "      <th id=\"T_b65a4_level0_row0\" class=\"row_heading level0 row0\" >1382</th>\n",
       "      <td id=\"T_b65a4_row0_col0\" class=\"data row0 col0\" >df was checked. no problems found</td>\n",
       "      <td id=\"T_b65a4_row0_col1\" class=\"data row0 col1\" >qp.pd_util._check_df</td>\n",
       "      <td id=\"T_b65a4_row0_col2\" class=\"data row0 col2\" >info</td>\n",
       "      <td id=\"T_b65a4_row0_col3\" class=\"data row0 col3\" >2024-08-05 10:06:53.750061</td>\n",
       "    </tr>\n",
       "  </tbody>\n",
       "</table>\n"
      ],
      "text/plain": [
       "<pandas.io.formats.style.Styler at 0x1d38c807200>"
      ]
     },
     "metadata": {},
     "output_type": "display_data"
    },
    {
     "name": "stdout",
     "output_type": "stream",
     "text": [
      "passed test for arg: \"=age   ´m to str\"\n"
     ]
    },
    {
     "data": {
      "text/html": [
       "<style type=\"text/css\">\n",
       "#T_b81a0_row0_col0, #T_b81a0_row0_col1, #T_b81a0_row0_col2, #T_b81a0_row0_col3 {\n",
       "  background-color: #c0e7b0;\n",
       "}\n",
       "</style>\n",
       "<table id=\"T_b81a0\">\n",
       "  <thead>\n",
       "  </thead>\n",
       "  <tbody>\n",
       "    <tr>\n",
       "      <th id=\"T_b81a0_level0_row0\" class=\"row_heading level0 row0\" >1390</th>\n",
       "      <td id=\"T_b81a0_row0_col0\" class=\"data row0 col0\" >df was checked. no problems found</td>\n",
       "      <td id=\"T_b81a0_row0_col1\" class=\"data row0 col1\" >qp.pd_util._check_df</td>\n",
       "      <td id=\"T_b81a0_row0_col2\" class=\"data row0 col2\" >info</td>\n",
       "      <td id=\"T_b81a0_row0_col3\" class=\"data row0 col3\" >2024-08-05 10:06:53.780550</td>\n",
       "    </tr>\n",
       "  </tbody>\n",
       "</table>\n"
      ],
      "text/plain": [
       "<pandas.io.formats.style.Styler at 0x1d38c806d20>"
      ]
     },
     "metadata": {},
     "output_type": "display_data"
    },
    {
     "name": "stdout",
     "output_type": "stream",
     "text": [
      "passed test for arg: \"date of birth   ´m to date\"\n"
     ]
    },
    {
     "name": "stderr",
     "output_type": "stream",
     "text": [
      "c:\\Users\\MartinVölkl-GouyaIns\\OneDrive - Gouya Insights\\Desktop\\qplib_dev\\qplib\\types.py:97: UserWarning: Parsing dates in %m-%d-%Y format when dayfirst=True was specified. Pass `dayfirst=False` or specify a format to silence this warning.\n",
      "  return pd.to_datetime(x, dayfirst=True).date()\n"
     ]
    },
    {
     "data": {
      "text/html": [
       "<style type=\"text/css\">\n",
       "#T_be19a_row0_col0, #T_be19a_row0_col1, #T_be19a_row0_col2, #T_be19a_row0_col3 {\n",
       "  background-color: #c0e7b0;\n",
       "}\n",
       "</style>\n",
       "<table id=\"T_be19a\">\n",
       "  <thead>\n",
       "  </thead>\n",
       "  <tbody>\n",
       "    <tr>\n",
       "      <th id=\"T_be19a_level0_row0\" class=\"row_heading level0 row0\" >1398</th>\n",
       "      <td id=\"T_be19a_row0_col0\" class=\"data row0 col0\" >df was checked. no problems found</td>\n",
       "      <td id=\"T_be19a_row0_col1\" class=\"data row0 col1\" >qp.pd_util._check_df</td>\n",
       "      <td id=\"T_be19a_row0_col2\" class=\"data row0 col2\" >info</td>\n",
       "      <td id=\"T_be19a_row0_col3\" class=\"data row0 col3\" >2024-08-05 10:06:53.831939</td>\n",
       "    </tr>\n",
       "  </tbody>\n",
       "</table>\n"
      ],
      "text/plain": [
       "<pandas.io.formats.style.Styler at 0x1d38c7993a0>"
      ]
     },
     "metadata": {},
     "output_type": "display_data"
    },
    {
     "name": "stdout",
     "output_type": "stream",
     "text": [
      "passed test for arg: \"=age   ´m to na\"\n"
     ]
    },
    {
     "data": {
      "text/html": [
       "<style type=\"text/css\">\n",
       "#T_d4799_row0_col0, #T_d4799_row0_col1, #T_d4799_row0_col2, #T_d4799_row0_col3 {\n",
       "  background-color: #c0e7b0;\n",
       "}\n",
       "</style>\n",
       "<table id=\"T_d4799\">\n",
       "  <thead>\n",
       "  </thead>\n",
       "  <tbody>\n",
       "    <tr>\n",
       "      <th id=\"T_d4799_level0_row0\" class=\"row_heading level0 row0\" >1406</th>\n",
       "      <td id=\"T_d4799_row0_col0\" class=\"data row0 col0\" >df was checked. no problems found</td>\n",
       "      <td id=\"T_d4799_row0_col1\" class=\"data row0 col1\" >qp.pd_util._check_df</td>\n",
       "      <td id=\"T_d4799_row0_col2\" class=\"data row0 col2\" >info</td>\n",
       "      <td id=\"T_d4799_row0_col3\" class=\"data row0 col3\" >2024-08-05 10:06:53.870044</td>\n",
       "    </tr>\n",
       "  </tbody>\n",
       "</table>\n"
      ],
      "text/plain": [
       "<pandas.io.formats.style.Styler at 0x1d38a0b6240>"
      ]
     },
     "metadata": {},
     "output_type": "display_data"
    },
    {
     "name": "stdout",
     "output_type": "stream",
     "text": [
      "passed test for arg: \"=age   ´m to nk\"\n"
     ]
    },
    {
     "data": {
      "text/html": [
       "<style type=\"text/css\">\n",
       "#T_3a8a4_row0_col0, #T_3a8a4_row0_col1, #T_3a8a4_row0_col2, #T_3a8a4_row0_col3 {\n",
       "  background-color: #c0e7b0;\n",
       "}\n",
       "</style>\n",
       "<table id=\"T_3a8a4\">\n",
       "  <thead>\n",
       "  </thead>\n",
       "  <tbody>\n",
       "    <tr>\n",
       "      <th id=\"T_3a8a4_level0_row0\" class=\"row_heading level0 row0\" >1414</th>\n",
       "      <td id=\"T_3a8a4_row0_col0\" class=\"data row0 col0\" >df was checked. no problems found</td>\n",
       "      <td id=\"T_3a8a4_row0_col1\" class=\"data row0 col1\" >qp.pd_util._check_df</td>\n",
       "      <td id=\"T_3a8a4_row0_col2\" class=\"data row0 col2\" >info</td>\n",
       "      <td id=\"T_3a8a4_row0_col3\" class=\"data row0 col3\" >2024-08-05 10:06:53.893365</td>\n",
       "    </tr>\n",
       "  </tbody>\n",
       "</table>\n"
      ],
      "text/plain": [
       "<pandas.io.formats.style.Styler at 0x1d38c807d70>"
      ]
     },
     "metadata": {},
     "output_type": "display_data"
    },
    {
     "name": "stdout",
     "output_type": "stream",
     "text": [
      "passed test for arg: \"=diabetes   ´m to yn\"\n"
     ]
    }
   ],
   "source": [
    "\n",
    "df1 = get_df()\n",
    "df2 = get_df()\n",
    "result = df1.q('age ´m to int', verbosity=0)\n",
    "df2['age'] = [-25, 30, np.nan, np.nan, 40, np.nan, np.nan, np.nan, np.nan, np.nan, 35]\n",
    "df2['age'] = df2['age'].astype('object')\n",
    "compare(result, df2.loc[:,['age']])\n",
    "\n",
    "df1 = get_df()\n",
    "df2 = get_df()\n",
    "result = df1.q('=age  ´m to float', verbosity=0)\n",
    "df2['age'] = [-25.0, 30.0, np.nan, np.nan, 40.0, np.nan, np.nan, np.nan, np.nan, np.nan, 35.0]\n",
    "df2['age'] = df2['age'].astype('object')\n",
    "compare(result, df2.loc[:,['age']])\n",
    "\n",
    "df1 = get_df()\n",
    "df2 = get_df()\n",
    "result = df1.q('=age   ´m to num', verbosity=0)\n",
    "df2['age'] = [-25, 30, np.nan, np.nan, 40, np.nan, np.nan, np.nan, np.nan, np.nan, 35]\n",
    "df2['age'] = df2['age'].astype('object')\n",
    "compare(result, df2.loc[:,['age']])\n",
    "\n",
    "df1 = get_df()\n",
    "df2 = get_df()\n",
    "result = df1.q('=age   ´m to str', verbosity=0)\n",
    "df2['age'] = ['-25', '30', 'nan', 'None', '40.0', 'forty-five', 'nan', 'unk', '', 'unknown', '35']\n",
    "df2['age'] = df2['age'].astype('object')\n",
    "compare(result, df2.loc[:,['age']])\n",
    "\n",
    "df1 = get_df()\n",
    "df2 = get_df()\n",
    "result = df1.q('date of birth   ´m to date', verbosity=0)\n",
    "df2['date of birth'] = [\n",
    "    pd.to_datetime('1995-01-02', dayfirst=False).date(),\n",
    "    pd.to_datetime('1990/09/14', dayfirst=False).date(),\n",
    "    pd.to_datetime('1985.08.23', dayfirst=False).date(),\n",
    "    pd.to_datetime('19800406', dayfirst=False).date(),\n",
    "    pd.to_datetime('05-11-2007', dayfirst=True).date(),\n",
    "    pd.to_datetime('06-30-1983', dayfirst=False).date(),\n",
    "    pd.to_datetime('28-05-1975', dayfirst=True).date(),\n",
    "    pd.NaT,\n",
    "    pd.to_datetime('1955-Jan-09', dayfirst=False).date(),\n",
    "    pd.to_datetime('1950 Sep 10', dayfirst=False).date(),\n",
    "    pd.to_datetime('1945 October 11', dayfirst=False).date(),\n",
    "    ]\n",
    "df2['age'] = df2['age'].astype('object')\n",
    "compare(result, df2.loc[:,['date of birth']])\n",
    "\n",
    "df1 = get_df()\n",
    "df2 = get_df()\n",
    "result = df1.q('=age   ´m to na', verbosity=0)\n",
    "df2['age'] = [-25, '30', None, None, '40.0', 'forty-five', None, 'unk', None, 'unknown', 35]\n",
    "df2['age'] = df2['age'].astype('object')\n",
    "compare(result, df2.loc[:,['age']])\n",
    "\n",
    "df1 = get_df()\n",
    "df2 = get_df()\n",
    "result = df1.q('=age   ´m to nk', verbosity=0)\n",
    "df2['age'] = [-25, '30', np.nan, None, '40.0', 'forty-five', 'nan', 'unknown', '', 'unknown', 35]\n",
    "df2['age'] = df2['age'].astype('object')\n",
    "compare(result, df2.loc[:,['age']])\n",
    "\n",
    "df1 = get_df()\n",
    "df2 = get_df()\n",
    "result = df1.q('=diabetes   ´m to yn', verbosity=0)\n",
    "df2['diabetes'] = ['no', 'yes', None, 'no', 'yes', 'yes', 'no', None, None, 'no', 'yes']\n",
    "df2['age'] = df2['age'].astype('object')\n",
    "compare(result, df2.loc[:,['diabetes']])"
   ]
  },
  {
   "cell_type": "markdown",
   "metadata": {},
   "source": [
    "## adding columns\n"
   ]
  },
  {
   "cell_type": "code",
   "execution_count": 17,
   "metadata": {},
   "outputs": [],
   "source": [
    "#wip"
   ]
  },
  {
   "cell_type": "markdown",
   "metadata": {},
   "source": [
    "# qp.diff()"
   ]
  },
  {
   "cell_type": "code",
   "execution_count": 18,
   "metadata": {},
   "outputs": [
    {
     "data": {
      "text/html": [
       "<style type=\"text/css\">\n",
       "#T_d84c6_row0_col0, #T_d84c6_row0_col1, #T_d84c6_row0_col2, #T_d84c6_row0_col3 {\n",
       "  background-color: #c0e7b0;\n",
       "}\n",
       "</style>\n",
       "<table id=\"T_d84c6\">\n",
       "  <thead>\n",
       "  </thead>\n",
       "  <tbody>\n",
       "    <tr>\n",
       "      <th id=\"T_d84c6_level0_row0\" class=\"row_heading level0 row0\" >1422</th>\n",
       "      <td id=\"T_d84c6_row0_col0\" class=\"data row0 col0\" >adding column \"meta\" at position 0</td>\n",
       "      <td id=\"T_d84c6_row0_col1\" class=\"data row0 col1\" >df.format()</td>\n",
       "      <td id=\"T_d84c6_row0_col2\" class=\"data row0 col2\" >info</td>\n",
       "      <td id=\"T_d84c6_row0_col3\" class=\"data row0 col3\" >2024-08-05 10:06:54.016519</td>\n",
       "    </tr>\n",
       "  </tbody>\n",
       "</table>\n"
      ],
      "text/plain": [
       "<pandas.io.formats.style.Styler at 0x1d38c8336e0>"
      ]
     },
     "metadata": {},
     "output_type": "display_data"
    },
    {
     "data": {
      "text/html": [
       "<style type=\"text/css\">\n",
       "#T_99f03_row0_col0, #T_99f03_row0_col1, #T_99f03_row0_col2, #T_99f03_row0_col3 {\n",
       "  background-color: #c0e7b0;\n",
       "}\n",
       "</style>\n",
       "<table id=\"T_99f03\">\n",
       "  <thead>\n",
       "  </thead>\n",
       "  <tbody>\n",
       "    <tr>\n",
       "      <th id=\"T_99f03_level0_row0\" class=\"row_heading level0 row0\" >1423</th>\n",
       "      <td id=\"T_99f03_row0_col0\" class=\"data row0 col0\" >adding column \"meta\" at position 0</td>\n",
       "      <td id=\"T_99f03_row0_col1\" class=\"data row0 col1\" >df.format()</td>\n",
       "      <td id=\"T_99f03_row0_col2\" class=\"data row0 col2\" >info</td>\n",
       "      <td id=\"T_99f03_row0_col3\" class=\"data row0 col3\" >2024-08-05 10:06:54.029861</td>\n",
       "    </tr>\n",
       "  </tbody>\n",
       "</table>\n"
      ],
      "text/plain": [
       "<pandas.io.formats.style.Styler at 0x1d38c833710>"
      ]
     },
     "metadata": {},
     "output_type": "display_data"
    },
    {
     "data": {
      "text/plain": [
       "{'cols added': 1,\n",
       " 'cols removed': 1,\n",
       " 'rows added': 1,\n",
       " 'rows removed': 1,\n",
       " 'vals added': 1,\n",
       " 'vals removed': 1,\n",
       " 'vals changed': 1}"
      ]
     },
     "metadata": {},
     "output_type": "display_data"
    },
    {
     "data": {
      "text/html": [
       "<style type=\"text/css\">\n",
       "#T_5e114_row0_col1, #T_5e114_row1_col0, #T_5e114_row1_col1, #T_5e114_row1_col2, #T_5e114_row1_col3, #T_5e114_row2_col1 {\n",
       "  background-color: #6dae51;\n",
       "}\n",
       "#T_5e114_row0_col3 {\n",
       "  background-color: #f7d67c;\n",
       "}\n",
       "#T_5e114_row2_col2 {\n",
       "  background-color: #c0e7b0;\n",
       "}\n",
       "#T_5e114_row2_col3 {\n",
       "  background-color: #f7746a;\n",
       "}\n",
       "</style>\n",
       "<table id=\"T_5e114\">\n",
       "  <thead>\n",
       "    <tr>\n",
       "      <th class=\"blank level0\" >&nbsp;</th>\n",
       "      <th id=\"T_5e114_level0_col0\" class=\"col_heading level0 col0\" >meta</th>\n",
       "      <th id=\"T_5e114_level0_col1\" class=\"col_heading level0 col1\" >d</th>\n",
       "      <th id=\"T_5e114_level0_col2\" class=\"col_heading level0 col2\" >b</th>\n",
       "      <th id=\"T_5e114_level0_col3\" class=\"col_heading level0 col3\" >a</th>\n",
       "    </tr>\n",
       "  </thead>\n",
       "  <tbody>\n",
       "    <tr>\n",
       "      <th id=\"T_5e114_level0_row0\" class=\"row_heading level0 row0\" >y</th>\n",
       "      <td id=\"T_5e114_row0_col0\" class=\"data row0 col0\" ><br>vals changed: 1</td>\n",
       "      <td id=\"T_5e114_row0_col1\" class=\"data row0 col1\" >2.000000</td>\n",
       "      <td id=\"T_5e114_row0_col2\" class=\"data row0 col2\" >2.000000</td>\n",
       "      <td id=\"T_5e114_row0_col3\" class=\"data row0 col3\" >0.000000</td>\n",
       "    </tr>\n",
       "    <tr>\n",
       "      <th id=\"T_5e114_level0_row1\" class=\"row_heading level0 row1\" >x2</th>\n",
       "      <td id=\"T_5e114_row1_col0\" class=\"data row1 col0\" >added row</td>\n",
       "      <td id=\"T_5e114_row1_col1\" class=\"data row1 col1\" >1.000000</td>\n",
       "      <td id=\"T_5e114_row1_col2\" class=\"data row1 col2\" >1.000000</td>\n",
       "      <td id=\"T_5e114_row1_col3\" class=\"data row1 col3\" >1.000000</td>\n",
       "    </tr>\n",
       "    <tr>\n",
       "      <th id=\"T_5e114_level0_row2\" class=\"row_heading level0 row2\" >z</th>\n",
       "      <td id=\"T_5e114_row2_col0\" class=\"data row2 col0\" ><br>vals added: 1<br>vals removed: 1</td>\n",
       "      <td id=\"T_5e114_row2_col1\" class=\"data row2 col1\" >3.000000</td>\n",
       "      <td id=\"T_5e114_row2_col2\" class=\"data row2 col2\" >3.000000</td>\n",
       "      <td id=\"T_5e114_row2_col3\" class=\"data row2 col3\" >nan</td>\n",
       "    </tr>\n",
       "  </tbody>\n",
       "</table>\n"
      ],
      "text/plain": [
       "<pandas.io.formats.style.Styler at 0x1d38c76be90>"
      ]
     },
     "metadata": {},
     "output_type": "display_data"
    },
    {
     "data": {
      "text/html": [
       "<style type=\"text/css\">\n",
       "#T_eb7bd_row0_col0, #T_eb7bd_row0_col1, #T_eb7bd_row0_col2, #T_eb7bd_row0_col3 {\n",
       "  background-color: #c0e7b0;\n",
       "}\n",
       "</style>\n",
       "<table id=\"T_eb7bd\">\n",
       "  <thead>\n",
       "  </thead>\n",
       "  <tbody>\n",
       "    <tr>\n",
       "      <th id=\"T_eb7bd_level0_row0\" class=\"row_heading level0 row0\" >1424</th>\n",
       "      <td id=\"T_eb7bd_row0_col0\" class=\"data row0 col0\" >adding column \"meta\" at position 0</td>\n",
       "      <td id=\"T_eb7bd_row0_col1\" class=\"data row0 col1\" >df.format()</td>\n",
       "      <td id=\"T_eb7bd_row0_col2\" class=\"data row0 col2\" >info</td>\n",
       "      <td id=\"T_eb7bd_row0_col3\" class=\"data row0 col3\" >2024-08-05 10:06:54.087653</td>\n",
       "    </tr>\n",
       "  </tbody>\n",
       "</table>\n"
      ],
      "text/plain": [
       "<pandas.io.formats.style.Styler at 0x1d38b73a0f0>"
      ]
     },
     "metadata": {},
     "output_type": "display_data"
    },
    {
     "data": {
      "text/html": [
       "<style type=\"text/css\">\n",
       "#T_432ba_row0_col0, #T_432ba_row0_col1, #T_432ba_row0_col2, #T_432ba_row0_col3 {\n",
       "  background-color: #c0e7b0;\n",
       "}\n",
       "</style>\n",
       "<table id=\"T_432ba\">\n",
       "  <thead>\n",
       "  </thead>\n",
       "  <tbody>\n",
       "    <tr>\n",
       "      <th id=\"T_432ba_level0_row0\" class=\"row_heading level0 row0\" >1425</th>\n",
       "      <td id=\"T_432ba_row0_col0\" class=\"data row0 col0\" >adding column \"meta\" at position 0</td>\n",
       "      <td id=\"T_432ba_row0_col1\" class=\"data row0 col1\" >df.format()</td>\n",
       "      <td id=\"T_432ba_row0_col2\" class=\"data row0 col2\" >info</td>\n",
       "      <td id=\"T_432ba_row0_col3\" class=\"data row0 col3\" >2024-08-05 10:06:54.096801</td>\n",
       "    </tr>\n",
       "  </tbody>\n",
       "</table>\n"
      ],
      "text/plain": [
       "<pandas.io.formats.style.Styler at 0x1d38c8337d0>"
      ]
     },
     "metadata": {},
     "output_type": "display_data"
    },
    {
     "data": {
      "text/plain": [
       "{'cols added': 1,\n",
       " 'cols removed': 1,\n",
       " 'rows added': 1,\n",
       " 'rows removed': 1,\n",
       " 'vals added': 1,\n",
       " 'vals removed': 1,\n",
       " 'vals changed': 1}"
      ]
     },
     "metadata": {},
     "output_type": "display_data"
    },
    {
     "data": {
      "text/html": [
       "<style type=\"text/css\">\n",
       "#T_eb97c_row0_col0, #T_eb97c_row0_col1, #T_eb97c_row0_col2, #T_eb97c_row0_col3, #T_eb97c_row1_col3, #T_eb97c_row2_col3 {\n",
       "  background-color: #f73434;\n",
       "}\n",
       "#T_eb97c_row1_col1 {\n",
       "  background-color: #f7d67c;\n",
       "}\n",
       "#T_eb97c_row2_col1 {\n",
       "  background-color: #f7746a;\n",
       "}\n",
       "#T_eb97c_row2_col2 {\n",
       "  background-color: #c0e7b0;\n",
       "}\n",
       "</style>\n",
       "<table id=\"T_eb97c\">\n",
       "  <thead>\n",
       "    <tr>\n",
       "      <th class=\"blank level0\" >&nbsp;</th>\n",
       "      <th id=\"T_eb97c_level0_col0\" class=\"col_heading level0 col0\" >meta</th>\n",
       "      <th id=\"T_eb97c_level0_col1\" class=\"col_heading level0 col1\" >a</th>\n",
       "      <th id=\"T_eb97c_level0_col2\" class=\"col_heading level0 col2\" >b</th>\n",
       "      <th id=\"T_eb97c_level0_col3\" class=\"col_heading level0 col3\" >c</th>\n",
       "    </tr>\n",
       "  </thead>\n",
       "  <tbody>\n",
       "    <tr>\n",
       "      <th id=\"T_eb97c_level0_row0\" class=\"row_heading level0 row0\" >x</th>\n",
       "      <td id=\"T_eb97c_row0_col0\" class=\"data row0 col0\" >removed row</td>\n",
       "      <td id=\"T_eb97c_row0_col1\" class=\"data row0 col1\" >1.000000</td>\n",
       "      <td id=\"T_eb97c_row0_col2\" class=\"data row0 col2\" >1.000000</td>\n",
       "      <td id=\"T_eb97c_row0_col3\" class=\"data row0 col3\" >1.000000</td>\n",
       "    </tr>\n",
       "    <tr>\n",
       "      <th id=\"T_eb97c_level0_row1\" class=\"row_heading level0 row1\" >y</th>\n",
       "      <td id=\"T_eb97c_row1_col0\" class=\"data row1 col0\" ><br>vals changed: 1</td>\n",
       "      <td id=\"T_eb97c_row1_col1\" class=\"data row1 col1\" >2.000000</td>\n",
       "      <td id=\"T_eb97c_row1_col2\" class=\"data row1 col2\" >2.000000</td>\n",
       "      <td id=\"T_eb97c_row1_col3\" class=\"data row1 col3\" >2.000000</td>\n",
       "    </tr>\n",
       "    <tr>\n",
       "      <th id=\"T_eb97c_level0_row2\" class=\"row_heading level0 row2\" >z</th>\n",
       "      <td id=\"T_eb97c_row2_col0\" class=\"data row2 col0\" ><br>vals added: 1<br>vals removed: 1</td>\n",
       "      <td id=\"T_eb97c_row2_col1\" class=\"data row2 col1\" >3.000000</td>\n",
       "      <td id=\"T_eb97c_row2_col2\" class=\"data row2 col2\" >nan</td>\n",
       "      <td id=\"T_eb97c_row2_col3\" class=\"data row2 col3\" >3.000000</td>\n",
       "    </tr>\n",
       "  </tbody>\n",
       "</table>\n"
      ],
      "text/plain": [
       "<pandas.io.formats.style.Styler at 0x1d38bb49cd0>"
      ]
     },
     "metadata": {},
     "output_type": "display_data"
    },
    {
     "data": {
      "text/html": [
       "<style type=\"text/css\">\n",
       "#T_6c35a_row0_col0, #T_6c35a_row0_col1, #T_6c35a_row0_col2, #T_6c35a_row0_col3 {\n",
       "  background-color: #c0e7b0;\n",
       "}\n",
       "</style>\n",
       "<table id=\"T_6c35a\">\n",
       "  <thead>\n",
       "  </thead>\n",
       "  <tbody>\n",
       "    <tr>\n",
       "      <th id=\"T_6c35a_level0_row0\" class=\"row_heading level0 row0\" >1426</th>\n",
       "      <td id=\"T_6c35a_row0_col0\" class=\"data row0 col0\" >adding column \"meta\" at position 0</td>\n",
       "      <td id=\"T_6c35a_row0_col1\" class=\"data row0 col1\" >df.format()</td>\n",
       "      <td id=\"T_6c35a_row0_col2\" class=\"data row0 col2\" >info</td>\n",
       "      <td id=\"T_6c35a_row0_col3\" class=\"data row0 col3\" >2024-08-05 10:06:54.144981</td>\n",
       "    </tr>\n",
       "  </tbody>\n",
       "</table>\n"
      ],
      "text/plain": [
       "<pandas.io.formats.style.Styler at 0x1d38c831250>"
      ]
     },
     "metadata": {},
     "output_type": "display_data"
    },
    {
     "data": {
      "text/html": [
       "<style type=\"text/css\">\n",
       "#T_fd663_row0_col0, #T_fd663_row0_col1, #T_fd663_row0_col2, #T_fd663_row0_col3 {\n",
       "  background-color: #c0e7b0;\n",
       "}\n",
       "</style>\n",
       "<table id=\"T_fd663\">\n",
       "  <thead>\n",
       "  </thead>\n",
       "  <tbody>\n",
       "    <tr>\n",
       "      <th id=\"T_fd663_level0_row0\" class=\"row_heading level0 row0\" >1427</th>\n",
       "      <td id=\"T_fd663_row0_col0\" class=\"data row0 col0\" >adding column \"meta\" at position 0</td>\n",
       "      <td id=\"T_fd663_row0_col1\" class=\"data row0 col1\" >df.format()</td>\n",
       "      <td id=\"T_fd663_row0_col2\" class=\"data row0 col2\" >info</td>\n",
       "      <td id=\"T_fd663_row0_col3\" class=\"data row0 col3\" >2024-08-05 10:06:54.154184</td>\n",
       "    </tr>\n",
       "  </tbody>\n",
       "</table>\n"
      ],
      "text/plain": [
       "<pandas.io.formats.style.Styler at 0x1d38c8318e0>"
      ]
     },
     "metadata": {},
     "output_type": "display_data"
    },
    {
     "data": {
      "text/plain": [
       "{'cols added': 1,\n",
       " 'cols removed': 1,\n",
       " 'rows added': 1,\n",
       " 'rows removed': 1,\n",
       " 'vals added': 1,\n",
       " 'vals removed': 1,\n",
       " 'vals changed': 1}"
      ]
     },
     "metadata": {},
     "output_type": "display_data"
    },
    {
     "data": {
      "text/html": [
       "<style type=\"text/css\">\n",
       "#T_e19b6_row0_col1, #T_e19b6_row1_col0, #T_e19b6_row1_col1, #T_e19b6_row1_col2, #T_e19b6_row1_col3, #T_e19b6_row1_col4, #T_e19b6_row2_col1 {\n",
       "  background-color: #6dae51;\n",
       "}\n",
       "#T_e19b6_row0_col3 {\n",
       "  background-color: #f7d67c;\n",
       "}\n",
       "#T_e19b6_row0_col4, #T_e19b6_row2_col4, #T_e19b6_row3_col0, #T_e19b6_row3_col1, #T_e19b6_row3_col2, #T_e19b6_row3_col3, #T_e19b6_row3_col4 {\n",
       "  background-color: #f73434;\n",
       "}\n",
       "#T_e19b6_row2_col2 {\n",
       "  background-color: #c0e7b0;\n",
       "}\n",
       "#T_e19b6_row2_col3 {\n",
       "  background-color: #f7746a;\n",
       "}\n",
       "</style>\n",
       "<table id=\"T_e19b6\">\n",
       "  <thead>\n",
       "    <tr>\n",
       "      <th class=\"blank level0\" >&nbsp;</th>\n",
       "      <th id=\"T_e19b6_level0_col0\" class=\"col_heading level0 col0\" >meta</th>\n",
       "      <th id=\"T_e19b6_level0_col1\" class=\"col_heading level0 col1\" >d</th>\n",
       "      <th id=\"T_e19b6_level0_col2\" class=\"col_heading level0 col2\" >b</th>\n",
       "      <th id=\"T_e19b6_level0_col3\" class=\"col_heading level0 col3\" >a</th>\n",
       "      <th id=\"T_e19b6_level0_col4\" class=\"col_heading level0 col4\" >c</th>\n",
       "    </tr>\n",
       "  </thead>\n",
       "  <tbody>\n",
       "    <tr>\n",
       "      <th id=\"T_e19b6_level0_row0\" class=\"row_heading level0 row0\" >y</th>\n",
       "      <td id=\"T_e19b6_row0_col0\" class=\"data row0 col0\" ><br>vals changed: 1</td>\n",
       "      <td id=\"T_e19b6_row0_col1\" class=\"data row0 col1\" >2.000000</td>\n",
       "      <td id=\"T_e19b6_row0_col2\" class=\"data row0 col2\" >2.000000</td>\n",
       "      <td id=\"T_e19b6_row0_col3\" class=\"data row0 col3\" >0.000000</td>\n",
       "      <td id=\"T_e19b6_row0_col4\" class=\"data row0 col4\" >2.000000</td>\n",
       "    </tr>\n",
       "    <tr>\n",
       "      <th id=\"T_e19b6_level0_row1\" class=\"row_heading level0 row1\" >x2</th>\n",
       "      <td id=\"T_e19b6_row1_col0\" class=\"data row1 col0\" >added row</td>\n",
       "      <td id=\"T_e19b6_row1_col1\" class=\"data row1 col1\" >1.000000</td>\n",
       "      <td id=\"T_e19b6_row1_col2\" class=\"data row1 col2\" >1.000000</td>\n",
       "      <td id=\"T_e19b6_row1_col3\" class=\"data row1 col3\" >1.000000</td>\n",
       "      <td id=\"T_e19b6_row1_col4\" class=\"data row1 col4\" >nan</td>\n",
       "    </tr>\n",
       "    <tr>\n",
       "      <th id=\"T_e19b6_level0_row2\" class=\"row_heading level0 row2\" >z</th>\n",
       "      <td id=\"T_e19b6_row2_col0\" class=\"data row2 col0\" ><br>vals added: 1<br>vals removed: 1</td>\n",
       "      <td id=\"T_e19b6_row2_col1\" class=\"data row2 col1\" >3.000000</td>\n",
       "      <td id=\"T_e19b6_row2_col2\" class=\"data row2 col2\" >3.000000</td>\n",
       "      <td id=\"T_e19b6_row2_col3\" class=\"data row2 col3\" >nan</td>\n",
       "      <td id=\"T_e19b6_row2_col4\" class=\"data row2 col4\" >3.000000</td>\n",
       "    </tr>\n",
       "    <tr>\n",
       "      <th id=\"T_e19b6_level0_row3\" class=\"row_heading level0 row3\" >x</th>\n",
       "      <td id=\"T_e19b6_row3_col0\" class=\"data row3 col0\" >removed row</td>\n",
       "      <td id=\"T_e19b6_row3_col1\" class=\"data row3 col1\" >nan</td>\n",
       "      <td id=\"T_e19b6_row3_col2\" class=\"data row3 col2\" >1.000000</td>\n",
       "      <td id=\"T_e19b6_row3_col3\" class=\"data row3 col3\" >1.000000</td>\n",
       "      <td id=\"T_e19b6_row3_col4\" class=\"data row3 col4\" >1.000000</td>\n",
       "    </tr>\n",
       "  </tbody>\n",
       "</table>\n"
      ],
      "text/plain": [
       "<pandas.io.formats.style.Styler at 0x1d38c831e80>"
      ]
     },
     "metadata": {},
     "output_type": "display_data"
    },
    {
     "data": {
      "text/html": [
       "<style type=\"text/css\">\n",
       "#T_e36af_row0_col0, #T_e36af_row0_col1, #T_e36af_row0_col2, #T_e36af_row0_col3 {\n",
       "  background-color: #c0e7b0;\n",
       "}\n",
       "</style>\n",
       "<table id=\"T_e36af\">\n",
       "  <thead>\n",
       "  </thead>\n",
       "  <tbody>\n",
       "    <tr>\n",
       "      <th id=\"T_e36af_level0_row0\" class=\"row_heading level0 row0\" >1428</th>\n",
       "      <td id=\"T_e36af_row0_col0\" class=\"data row0 col0\" >adding column \"meta\" at position 0</td>\n",
       "      <td id=\"T_e36af_row0_col1\" class=\"data row0 col1\" >df.format()</td>\n",
       "      <td id=\"T_e36af_row0_col2\" class=\"data row0 col2\" >info</td>\n",
       "      <td id=\"T_e36af_row0_col3\" class=\"data row0 col3\" >2024-08-05 10:06:54.209959</td>\n",
       "    </tr>\n",
       "  </tbody>\n",
       "</table>\n"
      ],
      "text/plain": [
       "<pandas.io.formats.style.Styler at 0x1d38c832840>"
      ]
     },
     "metadata": {},
     "output_type": "display_data"
    },
    {
     "data": {
      "text/html": [
       "<style type=\"text/css\">\n",
       "#T_0f093_row0_col0, #T_0f093_row0_col1, #T_0f093_row0_col2, #T_0f093_row0_col3 {\n",
       "  background-color: #c0e7b0;\n",
       "}\n",
       "</style>\n",
       "<table id=\"T_0f093\">\n",
       "  <thead>\n",
       "  </thead>\n",
       "  <tbody>\n",
       "    <tr>\n",
       "      <th id=\"T_0f093_level0_row0\" class=\"row_heading level0 row0\" >1429</th>\n",
       "      <td id=\"T_0f093_row0_col0\" class=\"data row0 col0\" >adding column \"meta\" at position 0</td>\n",
       "      <td id=\"T_0f093_row0_col1\" class=\"data row0 col1\" >df.format()</td>\n",
       "      <td id=\"T_0f093_row0_col2\" class=\"data row0 col2\" >info</td>\n",
       "      <td id=\"T_0f093_row0_col3\" class=\"data row0 col3\" >2024-08-05 10:06:54.220859</td>\n",
       "    </tr>\n",
       "  </tbody>\n",
       "</table>\n"
      ],
      "text/plain": [
       "<pandas.io.formats.style.Styler at 0x1d38c830170>"
      ]
     },
     "metadata": {},
     "output_type": "display_data"
    },
    {
     "data": {
      "text/plain": [
       "{'cols added': 1,\n",
       " 'cols removed': 1,\n",
       " 'rows added': 1,\n",
       " 'rows removed': 1,\n",
       " 'vals added': 1,\n",
       " 'vals removed': 1,\n",
       " 'vals changed': 1}"
      ]
     },
     "metadata": {},
     "output_type": "display_data"
    },
    {
     "data": {
      "text/html": [
       "<style type=\"text/css\">\n",
       "#T_4f42e_row0_col1, #T_4f42e_row1_col0, #T_4f42e_row1_col1, #T_4f42e_row1_col2, #T_4f42e_row1_col3, #T_4f42e_row1_col4, #T_4f42e_row1_col5, #T_4f42e_row1_col6, #T_4f42e_row2_col1 {\n",
       "  background-color: #6dae51;\n",
       "}\n",
       "#T_4f42e_row0_col2, #T_4f42e_row0_col4, #T_4f42e_row0_col6, #T_4f42e_row2_col2, #T_4f42e_row2_col4, #T_4f42e_row2_col6 {\n",
       "  font-style: italic;\n",
       "}\n",
       "#T_4f42e_row0_col5 {\n",
       "  background-color: #f7d67c;\n",
       "}\n",
       "#T_4f42e_row2_col3 {\n",
       "  background-color: #c0e7b0;\n",
       "}\n",
       "#T_4f42e_row2_col5 {\n",
       "  background-color: #f7746a;\n",
       "}\n",
       "</style>\n",
       "<table id=\"T_4f42e\">\n",
       "  <thead>\n",
       "    <tr>\n",
       "      <th class=\"blank level0\" >&nbsp;</th>\n",
       "      <th id=\"T_4f42e_level0_col0\" class=\"col_heading level0 col0\" >meta</th>\n",
       "      <th id=\"T_4f42e_level0_col1\" class=\"col_heading level0 col1\" >d</th>\n",
       "      <th id=\"T_4f42e_level0_col2\" class=\"col_heading level0 col2\" >old: d</th>\n",
       "      <th id=\"T_4f42e_level0_col3\" class=\"col_heading level0 col3\" >b</th>\n",
       "      <th id=\"T_4f42e_level0_col4\" class=\"col_heading level0 col4\" >old: b</th>\n",
       "      <th id=\"T_4f42e_level0_col5\" class=\"col_heading level0 col5\" >a</th>\n",
       "      <th id=\"T_4f42e_level0_col6\" class=\"col_heading level0 col6\" >old: a</th>\n",
       "    </tr>\n",
       "  </thead>\n",
       "  <tbody>\n",
       "    <tr>\n",
       "      <th id=\"T_4f42e_level0_row0\" class=\"row_heading level0 row0\" >y</th>\n",
       "      <td id=\"T_4f42e_row0_col0\" class=\"data row0 col0\" ><br>vals changed: 1</td>\n",
       "      <td id=\"T_4f42e_row0_col1\" class=\"data row0 col1\" >2.000000</td>\n",
       "      <td id=\"T_4f42e_row0_col2\" class=\"data row0 col2\" ></td>\n",
       "      <td id=\"T_4f42e_row0_col3\" class=\"data row0 col3\" >2.000000</td>\n",
       "      <td id=\"T_4f42e_row0_col4\" class=\"data row0 col4\" ></td>\n",
       "      <td id=\"T_4f42e_row0_col5\" class=\"data row0 col5\" >0.000000</td>\n",
       "      <td id=\"T_4f42e_row0_col6\" class=\"data row0 col6\" >2.000000</td>\n",
       "    </tr>\n",
       "    <tr>\n",
       "      <th id=\"T_4f42e_level0_row1\" class=\"row_heading level0 row1\" >x2</th>\n",
       "      <td id=\"T_4f42e_row1_col0\" class=\"data row1 col0\" >added row</td>\n",
       "      <td id=\"T_4f42e_row1_col1\" class=\"data row1 col1\" >1.000000</td>\n",
       "      <td id=\"T_4f42e_row1_col2\" class=\"data row1 col2\" ></td>\n",
       "      <td id=\"T_4f42e_row1_col3\" class=\"data row1 col3\" >1.000000</td>\n",
       "      <td id=\"T_4f42e_row1_col4\" class=\"data row1 col4\" ></td>\n",
       "      <td id=\"T_4f42e_row1_col5\" class=\"data row1 col5\" >1.000000</td>\n",
       "      <td id=\"T_4f42e_row1_col6\" class=\"data row1 col6\" ></td>\n",
       "    </tr>\n",
       "    <tr>\n",
       "      <th id=\"T_4f42e_level0_row2\" class=\"row_heading level0 row2\" >z</th>\n",
       "      <td id=\"T_4f42e_row2_col0\" class=\"data row2 col0\" ><br>vals added: 1<br>vals removed: 1</td>\n",
       "      <td id=\"T_4f42e_row2_col1\" class=\"data row2 col1\" >3.000000</td>\n",
       "      <td id=\"T_4f42e_row2_col2\" class=\"data row2 col2\" ></td>\n",
       "      <td id=\"T_4f42e_row2_col3\" class=\"data row2 col3\" >3.000000</td>\n",
       "      <td id=\"T_4f42e_row2_col4\" class=\"data row2 col4\" >None</td>\n",
       "      <td id=\"T_4f42e_row2_col5\" class=\"data row2 col5\" >nan</td>\n",
       "      <td id=\"T_4f42e_row2_col6\" class=\"data row2 col6\" >3.000000</td>\n",
       "    </tr>\n",
       "  </tbody>\n",
       "</table>\n"
      ],
      "text/plain": [
       "<pandas.io.formats.style.Styler at 0x1d38bc64800>"
      ]
     },
     "metadata": {},
     "output_type": "display_data"
    },
    {
     "data": {
      "text/plain": [
       "{'cols added': 1,\n",
       " 'cols removed': 1,\n",
       " 'rows added': 1,\n",
       " 'rows removed': 1,\n",
       " 'vals added': 1,\n",
       " 'vals removed': 1,\n",
       " 'vals changed': 1}"
      ]
     },
     "metadata": {},
     "output_type": "display_data"
    },
    {
     "name": "stdout",
     "output_type": "stream",
     "text": [
      "passed test for mode: \"new\"\n"
     ]
    },
    {
     "data": {
      "text/plain": [
       "{'cols added': 1,\n",
       " 'cols removed': 1,\n",
       " 'rows added': 1,\n",
       " 'rows removed': 1,\n",
       " 'vals added': 1,\n",
       " 'vals removed': 1,\n",
       " 'vals changed': 1}"
      ]
     },
     "metadata": {},
     "output_type": "display_data"
    },
    {
     "name": "stdout",
     "output_type": "stream",
     "text": [
      "passed test for mode: \"old\"\n"
     ]
    },
    {
     "data": {
      "text/plain": [
       "{'cols added': 1,\n",
       " 'cols removed': 1,\n",
       " 'rows added': 1,\n",
       " 'rows removed': 1,\n",
       " 'vals added': 1,\n",
       " 'vals removed': 1,\n",
       " 'vals changed': 1}"
      ]
     },
     "metadata": {},
     "output_type": "display_data"
    },
    {
     "name": "stdout",
     "output_type": "stream",
     "text": [
      "passed test for mode: \"mix\"\n"
     ]
    },
    {
     "data": {
      "text/plain": [
       "{'cols added': 1,\n",
       " 'cols removed': 1,\n",
       " 'rows added': 1,\n",
       " 'rows removed': 1,\n",
       " 'vals added': 1,\n",
       " 'vals removed': 1,\n",
       " 'vals changed': 1}"
      ]
     },
     "metadata": {},
     "output_type": "display_data"
    },
    {
     "name": "stdout",
     "output_type": "stream",
     "text": [
      "passed test for mode: \"new+\"\n"
     ]
    }
   ],
   "source": [
    "def compare(df_new, df_old, expected, mode):\n",
    "    result = qp.diff(df_new, df_old, mode, verbosity=0).data\n",
    "    # display(expected == result)\n",
    "    if result.equals(expected):\n",
    "        print(f'passed test for mode: \"{mode}\"')\n",
    "    else:\n",
    "        print('new:')\n",
    "        display(df_new)\n",
    "        print('old:')\n",
    "        display(df_old)\n",
    "        print('expected:')\n",
    "        display(expected)\n",
    "        print('result:')\n",
    "        display(result)\n",
    "        raise Exception(f'failed test for mode: \"{mode}\"')\n",
    "\n",
    "\n",
    "df_new, df_old = qp.get_dfs()\n",
    "\n",
    "\n",
    "result_new = pd.DataFrame(columns=['meta', 'd', 'b', 'a'], index=['y','x2','z'])\n",
    "\n",
    "\n",
    "result_new.loc['y', 'meta'] = '<br>vals changed: 1'\n",
    "result_new.loc['y', 'd'] = 2.0\n",
    "result_new.loc['y', 'b'] = 2.0\n",
    "result_new.loc['y', 'a'] = 0.0\n",
    "\n",
    "result_new.loc['x2', 'meta'] = 'added row'\n",
    "result_new.loc['x2', 'd'] = 1.0\n",
    "result_new.loc['x2', 'b'] = 1.0\n",
    "result_new.loc['x2', 'a'] = 1.0\n",
    "\n",
    "result_new.loc['z', 'meta'] = '<br>vals added: 1<br>vals removed: 1'\n",
    "result_new.loc['z', 'd'] = 3.0\n",
    "result_new.loc['z', 'b'] = 3.0\n",
    "result_new.loc['z', 'a'] = np.nan\n",
    "\n",
    "\n",
    "\n",
    "result_old = pd.DataFrame(columns=['meta', 'a', 'b', 'c'], index=['x','y','z'])\n",
    "\n",
    "result_old.loc['x', 'meta'] ='removed row'\n",
    "result_old.loc['x', 'a'] = 1.0\n",
    "result_old.loc['x', 'b'] = 1.0\n",
    "result_old.loc['x', 'c'] = 1.0\n",
    "\n",
    "result_old.loc['y', 'meta'] = '<br>vals changed: 1'\n",
    "result_old.loc['y', 'a'] = 2.0\n",
    "result_old.loc['y', 'b'] = 2.0\n",
    "result_old.loc['y', 'c'] = 2.0\n",
    "\n",
    "result_old.loc['z', 'meta'] = '<br>vals added: 1<br>vals removed: 1'\n",
    "result_old.loc['z', 'a'] = 3.0\n",
    "result_old.loc['z', 'b'] = None\n",
    "result_old.loc['z', 'c'] = 3.0\n",
    "\n",
    "\n",
    "\n",
    "result_mix = pd.DataFrame(columns=['meta', 'd', 'b', 'a', 'c'], index=['y', 'x2', 'z', 'x'])\n",
    "\n",
    "result_mix.loc['y', 'meta'] = '<br>vals changed: 1'\n",
    "result_mix.loc['y', 'd'] = 2.0\n",
    "result_mix.loc['y', 'b'] = 2.0\n",
    "result_mix.loc['y', 'a'] = 0.0\n",
    "result_mix.loc['y', 'c'] = 2.0\n",
    "\n",
    "result_mix.loc['x2', 'meta'] = 'added row'\n",
    "result_mix.loc['x2', 'd'] = 1.0\n",
    "result_mix.loc['x2', 'b'] = 1.0\n",
    "result_mix.loc['x2', 'a'] = 1.0\n",
    "result_mix.loc['x2', 'c'] = np.nan\n",
    "\n",
    "result_mix.loc['z', 'meta'] = '<br>vals added: 1<br>vals removed: 1'\n",
    "result_mix.loc['z', 'd'] = 3.0\n",
    "result_mix.loc['z', 'b'] = 3.0\n",
    "result_mix.loc['z', 'a'] = np.nan\n",
    "result_mix.loc['z', 'c'] = 3.0\n",
    "\n",
    "result_mix.loc['x', 'meta'] ='removed row'\n",
    "result_mix.loc['x', 'd'] = None\n",
    "result_mix.loc['x', 'b'] = 1.0\n",
    "result_mix.loc['x', 'a'] = 1.0\n",
    "result_mix.loc['x', 'c'] = 1.0\n",
    "\n",
    "\n",
    "\n",
    "\n",
    "result_new_plus = pd.DataFrame(columns=['meta', 'd', 'old: d', 'b', 'old: b', 'a', 'old: a'], index=['y','x2','z'])\n",
    "\n",
    "\n",
    "result_new_plus.loc['y', 'meta'] = '<br>vals changed: 1'\n",
    "result_new_plus.loc['y', 'd'] = 2.0\n",
    "result_new_plus.loc['y', 'old: d'] = ''\n",
    "result_new_plus.loc['y', 'b'] = 2.0\n",
    "result_new_plus.loc['y', 'old: b'] = ''\n",
    "result_new_plus.loc['y', 'a'] = 0.0\n",
    "result_new_plus.loc['y', 'old: a'] = 2.0\n",
    "\n",
    "result_new_plus.loc['x2', 'meta'] = 'added row'\n",
    "result_new_plus.loc['x2', 'd'] = 1.0\n",
    "result_new_plus.loc['x2', 'old: d'] = ''\n",
    "result_new_plus.loc['x2', 'b'] = 1.0\n",
    "result_new_plus.loc['x2', 'old: b'] = ''\n",
    "result_new_plus.loc['x2', 'a'] = 1.0\n",
    "result_new_plus.loc['x2', 'old: a'] = ''\n",
    "\n",
    "result_new_plus.loc['z', 'meta'] = '<br>vals added: 1<br>vals removed: 1'\n",
    "result_new_plus.loc['z', 'd'] = 3.0\n",
    "result_new_plus.loc['z', 'old: d'] = ''\n",
    "result_new_plus.loc['z', 'b'] = 3.0\n",
    "result_new_plus.loc['z', 'old: b'] = None\n",
    "result_new_plus.loc['z', 'a'] = np.nan\n",
    "result_new_plus.loc['z', 'old: a'] = 3.0\n",
    "\n",
    "\n",
    "display(qp.diff(df_new, df_old, 'new', verbosity=4))\n",
    "display(qp.diff(df_new, df_old, 'old', verbosity=4))\n",
    "display(qp.diff(df_new, df_old, 'mix', verbosity=4))\n",
    "display(qp.diff(df_new, df_old, 'new+', verbosity=4))\n",
    "\n",
    "compare(df_new, df_old, result_new, 'new')\n",
    "compare(df_new, df_old, result_old, 'old')\n",
    "compare(df_new, df_old, result_mix, 'mix')\n",
    "compare(df_new, df_old, result_new_plus, 'new+')\n",
    "\n"
   ]
  },
  {
   "cell_type": "markdown",
   "metadata": {},
   "source": [
    "# df.format()"
   ]
  },
  {
   "cell_type": "code",
   "execution_count": 19,
   "metadata": {},
   "outputs": [
    {
     "name": "stdout",
     "output_type": "stream",
     "text": [
      "passed test for finding all errors in df\n"
     ]
    },
    {
     "data": {
      "text/html": [
       "<div>\n",
       "<style scoped>\n",
       "    .dataframe tbody tr th:only-of-type {\n",
       "        vertical-align: middle;\n",
       "    }\n",
       "\n",
       "    .dataframe tbody tr th {\n",
       "        vertical-align: top;\n",
       "    }\n",
       "\n",
       "    .dataframe thead th {\n",
       "        text-align: right;\n",
       "    }\n",
       "</style>\n",
       "<table border=\"1\" class=\"dataframe\">\n",
       "  <thead>\n",
       "    <tr style=\"text-align: right;\">\n",
       "      <th></th>\n",
       "      <th>a</th>\n",
       "      <th>b</th>\n",
       "      <th>c</th>\n",
       "    </tr>\n",
       "  </thead>\n",
       "  <tbody>\n",
       "  </tbody>\n",
       "</table>\n",
       "</div>"
      ],
      "text/plain": [
       "Empty DataFrame\n",
       "Columns: [a, b, c]\n",
       "Index: []"
      ]
     },
     "metadata": {},
     "output_type": "display_data"
    },
    {
     "name": "stdout",
     "output_type": "stream",
     "text": [
      "passed test for finding all errors in df\n"
     ]
    },
    {
     "data": {
      "text/html": [
       "<div>\n",
       "<style scoped>\n",
       "    .dataframe tbody tr th:only-of-type {\n",
       "        vertical-align: middle;\n",
       "    }\n",
       "\n",
       "    .dataframe tbody tr th {\n",
       "        vertical-align: top;\n",
       "    }\n",
       "\n",
       "    .dataframe thead th {\n",
       "        text-align: right;\n",
       "    }\n",
       "</style>\n",
       "<table border=\"1\" class=\"dataframe\">\n",
       "  <thead>\n",
       "    <tr style=\"text-align: right;\">\n",
       "      <th></th>\n",
       "      <th>meta</th>\n",
       "      <th>a</th>\n",
       "      <th>b</th>\n",
       "      <th>c</th>\n",
       "    </tr>\n",
       "  </thead>\n",
       "  <tbody>\n",
       "  </tbody>\n",
       "</table>\n",
       "</div>"
      ],
      "text/plain": [
       "Empty DataFrame\n",
       "Columns: [meta, a, b, c]\n",
       "Index: []"
      ]
     },
     "metadata": {},
     "output_type": "display_data"
    },
    {
     "name": "stdout",
     "output_type": "stream",
     "text": [
      "passed test for finding all errors in df\n"
     ]
    },
    {
     "data": {
      "text/html": [
       "<div>\n",
       "<style scoped>\n",
       "    .dataframe tbody tr th:only-of-type {\n",
       "        vertical-align: middle;\n",
       "    }\n",
       "\n",
       "    .dataframe tbody tr th {\n",
       "        vertical-align: top;\n",
       "    }\n",
       "\n",
       "    .dataframe thead th {\n",
       "        text-align: right;\n",
       "    }\n",
       "</style>\n",
       "<table border=\"1\" class=\"dataframe\">\n",
       "  <thead>\n",
       "    <tr style=\"text-align: right;\">\n",
       "      <th></th>\n",
       "      <th>a</th>\n",
       "      <th>b</th>\n",
       "      <th>c</th>\n",
       "      <th>a b c</th>\n",
       "    </tr>\n",
       "  </thead>\n",
       "  <tbody>\n",
       "  </tbody>\n",
       "</table>\n",
       "</div>"
      ],
      "text/plain": [
       "Empty DataFrame\n",
       "Columns: [ a, b ,  c , a b c ]\n",
       "Index: []"
      ]
     },
     "metadata": {},
     "output_type": "display_data"
    }
   ],
   "source": [
    "def compare(df, result, expected):\n",
    "    if result.equals(expected):\n",
    "        print(f'passed test for finding all errors in df')\n",
    "        display(df)\n",
    "    else:\n",
    "        print('result:')\n",
    "        display(result)\n",
    "        print('expected:')\n",
    "        display(expected)\n",
    "        raise Exception(f'failed test for finding all errors in df')\n",
    "\n",
    "\n",
    "\n",
    "df = pd.DataFrame(columns=['a', 'b', 'c'])\n",
    "result = df.format(verbosity=0)\n",
    "expected = pd.DataFrame('', columns=['meta', 'a', 'b', 'c'], index=[])\n",
    "compare(df, result, expected)\n",
    "\n",
    "\n",
    "df = pd.DataFrame(columns=['meta', 'a', 'b', 'c'], index=[])\n",
    "result = df.format(verbosity=0)\n",
    "expected = pd.DataFrame('', columns=['meta', 'a', 'b', 'c'], index=[])\n",
    "compare(df, result, expected)\n",
    "\n",
    "\n",
    "df = pd.DataFrame(columns=[' a', 'b ', ' c ', 'a b c '])\n",
    "result = df.format(verbosity=0)\n",
    "expected = pd.DataFrame('', columns=['meta', 'a', 'b', 'c', 'a b c'], index=[])\n",
    "compare(df, result, expected)\n",
    "\n"
   ]
  },
  {
   "cell_type": "markdown",
   "metadata": {},
   "source": [
    "# df.save() and df.load()"
   ]
  },
  {
   "cell_type": "code",
   "execution_count": 20,
   "metadata": {},
   "outputs": [
    {
     "data": {
      "text/html": [
       "<style type=\"text/css\">\n",
       "#T_a78af_row0_col0, #T_a78af_row0_col1, #T_a78af_row0_col2, #T_a78af_row0_col3 {\n",
       "  background-color: #c0e7b0;\n",
       "}\n",
       "</style>\n",
       "<table id=\"T_a78af\">\n",
       "  <thead>\n",
       "  </thead>\n",
       "  <tbody>\n",
       "    <tr>\n",
       "      <th id=\"T_a78af_level0_row0\" class=\"row_heading level0 row0\" >1430</th>\n",
       "      <td id=\"T_a78af_row0_col0\" class=\"data row0 col0\" >saving df to \"df.xlsx\" in sheet \"data1\"</td>\n",
       "      <td id=\"T_a78af_row0_col1\" class=\"data row0 col1\" >df.save()</td>\n",
       "      <td id=\"T_a78af_row0_col2\" class=\"data row0 col2\" >info</td>\n",
       "      <td id=\"T_a78af_row0_col3\" class=\"data row0 col3\" >2024-08-05 10:06:54.634220</td>\n",
       "    </tr>\n",
       "  </tbody>\n",
       "</table>\n"
      ],
      "text/plain": [
       "<pandas.io.formats.style.Styler at 0x1d38c79bd10>"
      ]
     },
     "metadata": {},
     "output_type": "display_data"
    },
    {
     "data": {
      "text/html": [
       "<style type=\"text/css\">\n",
       "#T_09cbd_row0_col0, #T_09cbd_row0_col1, #T_09cbd_row0_col2, #T_09cbd_row0_col3 {\n",
       "  background-color: #c0e7b0;\n",
       "}\n",
       "</style>\n",
       "<table id=\"T_09cbd\">\n",
       "  <thead>\n",
       "  </thead>\n",
       "  <tbody>\n",
       "    <tr>\n",
       "      <th id=\"T_09cbd_level0_row0\" class=\"row_heading level0 row0\" >1431</th>\n",
       "      <td id=\"T_09cbd_row0_col0\" class=\"data row0 col0\" >archiving df to \"c:\\Users\\MartinVölkl-GouyaIns\\OneDrive - Gouya Insights\\Desktop\\qplib_dev/archive/df_2024_08_05.xlsx\" in sheet \"data1\"</td>\n",
       "      <td id=\"T_09cbd_row0_col1\" class=\"data row0 col1\" >df.save()</td>\n",
       "      <td id=\"T_09cbd_row0_col2\" class=\"data row0 col2\" >info</td>\n",
       "      <td id=\"T_09cbd_row0_col3\" class=\"data row0 col3\" >2024-08-05 10:06:55.793413</td>\n",
       "    </tr>\n",
       "  </tbody>\n",
       "</table>\n"
      ],
      "text/plain": [
       "<pandas.io.formats.style.Styler at 0x1d38bb48bf0>"
      ]
     },
     "metadata": {},
     "output_type": "display_data"
    },
    {
     "name": "stdout",
     "output_type": "stream",
     "text": [
      "passed test for default saving behaviour\n",
      "passed test for loading from default file\n"
     ]
    },
    {
     "data": {
      "text/html": [
       "<style type=\"text/css\">\n",
       "#T_ad3ee_row0_col0, #T_ad3ee_row0_col1, #T_ad3ee_row0_col2, #T_ad3ee_row0_col3 {\n",
       "  background-color: #c0e7b0;\n",
       "}\n",
       "</style>\n",
       "<table id=\"T_ad3ee\">\n",
       "  <thead>\n",
       "  </thead>\n",
       "  <tbody>\n",
       "    <tr>\n",
       "      <th id=\"T_ad3ee_level0_row0\" class=\"row_heading level0 row0\" >1432</th>\n",
       "      <td id=\"T_ad3ee_row0_col0\" class=\"data row0 col0\" >saving df to \"df1.xlsx\" in sheet \"data1\"</td>\n",
       "      <td id=\"T_ad3ee_row0_col1\" class=\"data row0 col1\" >df.save()</td>\n",
       "      <td id=\"T_ad3ee_row0_col2\" class=\"data row0 col2\" >info</td>\n",
       "      <td id=\"T_ad3ee_row0_col3\" class=\"data row0 col3\" >2024-08-05 10:06:55.852499</td>\n",
       "    </tr>\n",
       "  </tbody>\n",
       "</table>\n"
      ],
      "text/plain": [
       "<pandas.io.formats.style.Styler at 0x1d38ccc7350>"
      ]
     },
     "metadata": {},
     "output_type": "display_data"
    },
    {
     "data": {
      "text/html": [
       "<style type=\"text/css\">\n",
       "#T_c102b_row0_col0, #T_c102b_row0_col1, #T_c102b_row0_col2, #T_c102b_row0_col3 {\n",
       "  background-color: #c0e7b0;\n",
       "}\n",
       "</style>\n",
       "<table id=\"T_c102b\">\n",
       "  <thead>\n",
       "  </thead>\n",
       "  <tbody>\n",
       "    <tr>\n",
       "      <th id=\"T_c102b_level0_row0\" class=\"row_heading level0 row0\" >1433</th>\n",
       "      <td id=\"T_c102b_row0_col0\" class=\"data row0 col0\" >archiving df to \"c:\\Users\\MartinVölkl-GouyaIns\\OneDrive - Gouya Insights\\Desktop\\qplib_dev/archive/df1_2024_08_05.xlsx\" in sheet \"data1\"</td>\n",
       "      <td id=\"T_c102b_row0_col1\" class=\"data row0 col1\" >df.save()</td>\n",
       "      <td id=\"T_c102b_row0_col2\" class=\"data row0 col2\" >info</td>\n",
       "      <td id=\"T_c102b_row0_col3\" class=\"data row0 col3\" >2024-08-05 10:06:55.886730</td>\n",
       "    </tr>\n",
       "  </tbody>\n",
       "</table>\n"
      ],
      "text/plain": [
       "<pandas.io.formats.style.Styler at 0x1d38cac4560>"
      ]
     },
     "metadata": {},
     "output_type": "display_data"
    },
    {
     "name": "stdout",
     "output_type": "stream",
     "text": [
      "passed test for saving to a specific file\n",
      "passed test for loading from a specific file\n"
     ]
    },
    {
     "data": {
      "text/html": [
       "<style type=\"text/css\">\n",
       "#T_88364_row0_col0, #T_88364_row0_col1, #T_88364_row0_col2, #T_88364_row0_col3 {\n",
       "  background-color: #c0e7b0;\n",
       "}\n",
       "</style>\n",
       "<table id=\"T_88364\">\n",
       "  <thead>\n",
       "  </thead>\n",
       "  <tbody>\n",
       "    <tr>\n",
       "      <th id=\"T_88364_level0_row0\" class=\"row_heading level0 row0\" >1434</th>\n",
       "      <td id=\"T_88364_row0_col0\" class=\"data row0 col0\" >saving df to \"test/df1.xlsx\" in sheet \"data1\"</td>\n",
       "      <td id=\"T_88364_row0_col1\" class=\"data row0 col1\" >df.save()</td>\n",
       "      <td id=\"T_88364_row0_col2\" class=\"data row0 col2\" >info</td>\n",
       "      <td id=\"T_88364_row0_col3\" class=\"data row0 col3\" >2024-08-05 10:06:55.937546</td>\n",
       "    </tr>\n",
       "  </tbody>\n",
       "</table>\n"
      ],
      "text/plain": [
       "<pandas.io.formats.style.Styler at 0x1d38cc39d00>"
      ]
     },
     "metadata": {},
     "output_type": "display_data"
    },
    {
     "data": {
      "text/html": [
       "<style type=\"text/css\">\n",
       "#T_29643_row0_col0, #T_29643_row0_col1, #T_29643_row0_col2, #T_29643_row0_col3 {\n",
       "  background-color: #f7d67c;\n",
       "}\n",
       "</style>\n",
       "<table id=\"T_29643\">\n",
       "  <thead>\n",
       "  </thead>\n",
       "  <tbody>\n",
       "    <tr>\n",
       "      <th id=\"T_29643_level0_row0\" class=\"row_heading level0 row0\" >1435</th>\n",
       "      <td id=\"T_29643_row0_col0\" class=\"data row0 col0\" >did not find archive folder \"test/archive\"</td>\n",
       "      <td id=\"T_29643_row0_col1\" class=\"data row0 col1\" >df.save()</td>\n",
       "      <td id=\"T_29643_row0_col2\" class=\"data row0 col2\" >Warning</td>\n",
       "      <td id=\"T_29643_row0_col3\" class=\"data row0 col3\" >2024-08-05 10:06:55.971852</td>\n",
       "    </tr>\n",
       "  </tbody>\n",
       "</table>\n"
      ],
      "text/plain": [
       "<pandas.io.formats.style.Styler at 0x1d3f58d0ad0>"
      ]
     },
     "metadata": {},
     "output_type": "display_data"
    },
    {
     "name": "stdout",
     "output_type": "stream",
     "text": [
      "passed test for saving to a specific file in folder\n",
      "passed test for loading from a specific file in folder\n"
     ]
    },
    {
     "data": {
      "text/html": [
       "<style type=\"text/css\">\n",
       "#T_32228_row0_col0, #T_32228_row0_col1, #T_32228_row0_col2, #T_32228_row0_col3 {\n",
       "  background-color: #f7d67c;\n",
       "}\n",
       "</style>\n",
       "<table id=\"T_32228\">\n",
       "  <thead>\n",
       "  </thead>\n",
       "  <tbody>\n",
       "    <tr>\n",
       "      <th id=\"T_32228_level0_row0\" class=\"row_heading level0 row0\" >1436</th>\n",
       "      <td id=\"T_32228_row0_col0\" class=\"data row0 col0\" >file \"df1.xlsx\" already exists. data in sheet \"data2\" will be overwritten</td>\n",
       "      <td id=\"T_32228_row0_col1\" class=\"data row0 col1\" >df.save()</td>\n",
       "      <td id=\"T_32228_row0_col2\" class=\"data row0 col2\" >Warning</td>\n",
       "      <td id=\"T_32228_row0_col3\" class=\"data row0 col3\" >2024-08-05 10:06:55.992154</td>\n",
       "    </tr>\n",
       "  </tbody>\n",
       "</table>\n"
      ],
      "text/plain": [
       "<pandas.io.formats.style.Styler at 0x1d38ccdbaa0>"
      ]
     },
     "metadata": {},
     "output_type": "display_data"
    },
    {
     "data": {
      "text/html": [
       "<style type=\"text/css\">\n",
       "#T_95f9c_row0_col0, #T_95f9c_row0_col1, #T_95f9c_row0_col2, #T_95f9c_row0_col3 {\n",
       "  background-color: #f7d67c;\n",
       "}\n",
       "</style>\n",
       "<table id=\"T_95f9c\">\n",
       "  <thead>\n",
       "  </thead>\n",
       "  <tbody>\n",
       "    <tr>\n",
       "      <th id=\"T_95f9c_level0_row0\" class=\"row_heading level0 row0\" >1437</th>\n",
       "      <td id=\"T_95f9c_row0_col0\" class=\"data row0 col0\" >archive file \"c:\\Users\\MartinVölkl-GouyaIns\\OneDrive - Gouya Insights\\Desktop\\qplib_dev/archive/df1_2024_08_05.xlsx\" already exists. data in sheet \"data2\" will be overwritten</td>\n",
       "      <td id=\"T_95f9c_row0_col1\" class=\"data row0 col1\" >df.save()</td>\n",
       "      <td id=\"T_95f9c_row0_col2\" class=\"data row0 col2\" >Warning</td>\n",
       "      <td id=\"T_95f9c_row0_col3\" class=\"data row0 col3\" >2024-08-05 10:06:56.040859</td>\n",
       "    </tr>\n",
       "  </tbody>\n",
       "</table>\n"
      ],
      "text/plain": [
       "<pandas.io.formats.style.Styler at 0x1d38ca89910>"
      ]
     },
     "metadata": {},
     "output_type": "display_data"
    },
    {
     "name": "stdout",
     "output_type": "stream",
     "text": [
      "passed test for saving and loading to and from a specific sheet\n"
     ]
    },
    {
     "data": {
      "text/html": [
       "<style type=\"text/css\">\n",
       "#T_21202_row0_col0, #T_21202_row0_col1, #T_21202_row0_col2, #T_21202_row0_col3 {\n",
       "  background-color: #f7d67c;\n",
       "}\n",
       "</style>\n",
       "<table id=\"T_21202\">\n",
       "  <thead>\n",
       "  </thead>\n",
       "  <tbody>\n",
       "    <tr>\n",
       "      <th id=\"T_21202_level0_row0\" class=\"row_heading level0 row0\" >1438</th>\n",
       "      <td id=\"T_21202_row0_col0\" class=\"data row0 col0\" >file \"df1.xlsx\" already exists. data in sheet \"data1\" will be overwritten</td>\n",
       "      <td id=\"T_21202_row0_col1\" class=\"data row0 col1\" >df.save()</td>\n",
       "      <td id=\"T_21202_row0_col2\" class=\"data row0 col2\" >Warning</td>\n",
       "      <td id=\"T_21202_row0_col3\" class=\"data row0 col3\" >2024-08-05 10:06:56.129317</td>\n",
       "    </tr>\n",
       "  </tbody>\n",
       "</table>\n"
      ],
      "text/plain": [
       "<pandas.io.formats.style.Styler at 0x1d38ca7d550>"
      ]
     },
     "metadata": {},
     "output_type": "display_data"
    },
    {
     "data": {
      "text/html": [
       "<style type=\"text/css\">\n",
       "#T_4c91f_row0_col0, #T_4c91f_row0_col1, #T_4c91f_row0_col2, #T_4c91f_row0_col3 {\n",
       "  background-color: #f7d67c;\n",
       "}\n",
       "</style>\n",
       "<table id=\"T_4c91f\">\n",
       "  <thead>\n",
       "  </thead>\n",
       "  <tbody>\n",
       "    <tr>\n",
       "      <th id=\"T_4c91f_level0_row0\" class=\"row_heading level0 row0\" >1439</th>\n",
       "      <td id=\"T_4c91f_row0_col0\" class=\"data row0 col0\" >archive file \"c:\\Users\\MartinVölkl-GouyaIns\\OneDrive - Gouya Insights\\Desktop\\qplib_dev/archive/df1_2024_08_05.xlsx\" already exists. data in sheet \"data1\" will be overwritten</td>\n",
       "      <td id=\"T_4c91f_row0_col1\" class=\"data row0 col1\" >df.save()</td>\n",
       "      <td id=\"T_4c91f_row0_col2\" class=\"data row0 col2\" >Warning</td>\n",
       "      <td id=\"T_4c91f_row0_col3\" class=\"data row0 col3\" >2024-08-05 10:06:56.182454</td>\n",
       "    </tr>\n",
       "  </tbody>\n",
       "</table>\n"
      ],
      "text/plain": [
       "<pandas.io.formats.style.Styler at 0x1d38bc65400>"
      ]
     },
     "metadata": {},
     "output_type": "display_data"
    },
    {
     "name": "stdout",
     "output_type": "stream",
     "text": [
      "passed test for overwriting sheets\n"
     ]
    },
    {
     "data": {
      "text/html": [
       "<style type=\"text/css\">\n",
       "#T_64c88_row0_col0, #T_64c88_row0_col1, #T_64c88_row0_col2, #T_64c88_row0_col3 {\n",
       "  background-color: #f7d67c;\n",
       "}\n",
       "</style>\n",
       "<table id=\"T_64c88\">\n",
       "  <thead>\n",
       "  </thead>\n",
       "  <tbody>\n",
       "    <tr>\n",
       "      <th id=\"T_64c88_level0_row0\" class=\"row_heading level0 row0\" >1440</th>\n",
       "      <td id=\"T_64c88_row0_col0\" class=\"data row0 col0\" >file \"df1.xlsx\" already exists. data in sheet \"data1\" will be overwritten</td>\n",
       "      <td id=\"T_64c88_row0_col1\" class=\"data row0 col1\" >df.save()</td>\n",
       "      <td id=\"T_64c88_row0_col2\" class=\"data row0 col2\" >Warning</td>\n",
       "      <td id=\"T_64c88_row0_col3\" class=\"data row0 col3\" >2024-08-05 10:06:56.248457</td>\n",
       "    </tr>\n",
       "  </tbody>\n",
       "</table>\n"
      ],
      "text/plain": [
       "<pandas.io.formats.style.Styler at 0x1d38ccda240>"
      ]
     },
     "metadata": {},
     "output_type": "display_data"
    },
    {
     "data": {
      "text/html": [
       "<style type=\"text/css\">\n",
       "#T_7444e_row0_col0, #T_7444e_row0_col1, #T_7444e_row0_col2, #T_7444e_row0_col3 {\n",
       "  background-color: #f7d67c;\n",
       "}\n",
       "</style>\n",
       "<table id=\"T_7444e\">\n",
       "  <thead>\n",
       "  </thead>\n",
       "  <tbody>\n",
       "    <tr>\n",
       "      <th id=\"T_7444e_level0_row0\" class=\"row_heading level0 row0\" >1441</th>\n",
       "      <td id=\"T_7444e_row0_col0\" class=\"data row0 col0\" >archive file \"c:\\Users\\MartinVölkl-GouyaIns\\OneDrive - Gouya Insights\\Desktop\\qplib_dev/archive/df1_2024_08_05.xlsx\" already exists. data in sheet \"data1\" will be overwritten</td>\n",
       "      <td id=\"T_7444e_row0_col1\" class=\"data row0 col1\" >df.save()</td>\n",
       "      <td id=\"T_7444e_row0_col2\" class=\"data row0 col2\" >Warning</td>\n",
       "      <td id=\"T_7444e_row0_col3\" class=\"data row0 col3\" >2024-08-05 10:06:56.291237</td>\n",
       "    </tr>\n",
       "  </tbody>\n",
       "</table>\n"
      ],
      "text/plain": [
       "<pandas.io.formats.style.Styler at 0x1d38ca88ec0>"
      ]
     },
     "metadata": {},
     "output_type": "display_data"
    },
    {
     "data": {
      "text/html": [
       "<style type=\"text/css\">\n",
       "#T_27e95_row0_col0, #T_27e95_row0_col1, #T_27e95_row0_col2, #T_27e95_row0_col3 {\n",
       "  background-color: #f7d67c;\n",
       "}\n",
       "</style>\n",
       "<table id=\"T_27e95\">\n",
       "  <thead>\n",
       "  </thead>\n",
       "  <tbody>\n",
       "    <tr>\n",
       "      <th id=\"T_27e95_level0_row0\" class=\"row_heading level0 row0\" >1442</th>\n",
       "      <td id=\"T_27e95_row0_col0\" class=\"data row0 col0\" >file \"df1.xlsx\" already exists. data in sheet \"data1\" will be overwritten</td>\n",
       "      <td id=\"T_27e95_row0_col1\" class=\"data row0 col1\" >df.save()</td>\n",
       "      <td id=\"T_27e95_row0_col2\" class=\"data row0 col2\" >Warning</td>\n",
       "      <td id=\"T_27e95_row0_col3\" class=\"data row0 col3\" >2024-08-05 10:06:56.335890</td>\n",
       "    </tr>\n",
       "  </tbody>\n",
       "</table>\n"
      ],
      "text/plain": [
       "<pandas.io.formats.style.Styler at 0x1d38ca929f0>"
      ]
     },
     "metadata": {},
     "output_type": "display_data"
    },
    {
     "data": {
      "text/html": [
       "<style type=\"text/css\">\n",
       "#T_25acd_row0_col0, #T_25acd_row0_col1, #T_25acd_row0_col2, #T_25acd_row0_col3 {\n",
       "  background-color: #f7d67c;\n",
       "}\n",
       "</style>\n",
       "<table id=\"T_25acd\">\n",
       "  <thead>\n",
       "  </thead>\n",
       "  <tbody>\n",
       "    <tr>\n",
       "      <th id=\"T_25acd_level0_row0\" class=\"row_heading level0 row0\" >1443</th>\n",
       "      <td id=\"T_25acd_row0_col0\" class=\"data row0 col0\" >archive file \"c:\\Users\\MartinVölkl-GouyaIns\\OneDrive - Gouya Insights\\Desktop\\qplib_dev/archive/df1_2024_08_05.xlsx\" already exists. data in sheet \"data1\" will be overwritten</td>\n",
       "      <td id=\"T_25acd_row0_col1\" class=\"data row0 col1\" >df.save()</td>\n",
       "      <td id=\"T_25acd_row0_col2\" class=\"data row0 col2\" >Warning</td>\n",
       "      <td id=\"T_25acd_row0_col3\" class=\"data row0 col3\" >2024-08-05 10:06:56.380315</td>\n",
       "    </tr>\n",
       "  </tbody>\n",
       "</table>\n"
      ],
      "text/plain": [
       "<pandas.io.formats.style.Styler at 0x1d38dd13e60>"
      ]
     },
     "metadata": {},
     "output_type": "display_data"
    },
    {
     "name": "stdout",
     "output_type": "stream",
     "text": [
      "passed test for archiving file\n"
     ]
    },
    {
     "data": {
      "text/html": [
       "<style type=\"text/css\">\n",
       "#T_186b9_row0_col0, #T_186b9_row0_col1, #T_186b9_row0_col2, #T_186b9_row0_col3 {\n",
       "  background-color: #f7d67c;\n",
       "}\n",
       "</style>\n",
       "<table id=\"T_186b9\">\n",
       "  <thead>\n",
       "  </thead>\n",
       "  <tbody>\n",
       "    <tr>\n",
       "      <th id=\"T_186b9_level0_row0\" class=\"row_heading level0 row0\" >1444</th>\n",
       "      <td id=\"T_186b9_row0_col0\" class=\"data row0 col0\" >file \"test/df1.xlsx\" already exists. data in sheet \"data1\" will be overwritten</td>\n",
       "      <td id=\"T_186b9_row0_col1\" class=\"data row0 col1\" >df.save()</td>\n",
       "      <td id=\"T_186b9_row0_col2\" class=\"data row0 col2\" >Warning</td>\n",
       "      <td id=\"T_186b9_row0_col3\" class=\"data row0 col3\" >2024-08-05 10:06:56.423843</td>\n",
       "    </tr>\n",
       "  </tbody>\n",
       "</table>\n"
      ],
      "text/plain": [
       "<pandas.io.formats.style.Styler at 0x1d38dd13e90>"
      ]
     },
     "metadata": {},
     "output_type": "display_data"
    },
    {
     "data": {
      "text/html": [
       "<style type=\"text/css\">\n",
       "#T_05756_row0_col0, #T_05756_row0_col1, #T_05756_row0_col2, #T_05756_row0_col3 {\n",
       "  background-color: #c0e7b0;\n",
       "}\n",
       "</style>\n",
       "<table id=\"T_05756\">\n",
       "  <thead>\n",
       "  </thead>\n",
       "  <tbody>\n",
       "    <tr>\n",
       "      <th id=\"T_05756_level0_row0\" class=\"row_heading level0 row0\" >1445</th>\n",
       "      <td id=\"T_05756_row0_col0\" class=\"data row0 col0\" >archiving df to \"test/archive/df1_2024_08_05.xlsx\" in sheet \"data1\"</td>\n",
       "      <td id=\"T_05756_row0_col1\" class=\"data row0 col1\" >df.save()</td>\n",
       "      <td id=\"T_05756_row0_col2\" class=\"data row0 col2\" >info</td>\n",
       "      <td id=\"T_05756_row0_col3\" class=\"data row0 col3\" >2024-08-05 10:06:56.457145</td>\n",
       "    </tr>\n",
       "  </tbody>\n",
       "</table>\n"
      ],
      "text/plain": [
       "<pandas.io.formats.style.Styler at 0x1d38ccdb6e0>"
      ]
     },
     "metadata": {},
     "output_type": "display_data"
    },
    {
     "name": "stdout",
     "output_type": "stream",
     "text": [
      "passed test for archiving in nested folder\n"
     ]
    },
    {
     "data": {
      "text/html": [
       "<style type=\"text/css\">\n",
       "#T_ce370_row0_col0, #T_ce370_row0_col1, #T_ce370_row0_col2, #T_ce370_row0_col3 {\n",
       "  background-color: #f7d67c;\n",
       "}\n",
       "</style>\n",
       "<table id=\"T_ce370\">\n",
       "  <thead>\n",
       "  </thead>\n",
       "  <tbody>\n",
       "    <tr>\n",
       "      <th id=\"T_ce370_level0_row0\" class=\"row_heading level0 row0\" >1446</th>\n",
       "      <td id=\"T_ce370_row0_col0\" class=\"data row0 col0\" >file \"test/df1.xlsx\" already exists. data in sheet \"data1\" will be overwritten</td>\n",
       "      <td id=\"T_ce370_row0_col1\" class=\"data row0 col1\" >df.save()</td>\n",
       "      <td id=\"T_ce370_row0_col2\" class=\"data row0 col2\" >Warning</td>\n",
       "      <td id=\"T_ce370_row0_col3\" class=\"data row0 col3\" >2024-08-05 10:06:56.506224</td>\n",
       "    </tr>\n",
       "  </tbody>\n",
       "</table>\n"
      ],
      "text/plain": [
       "<pandas.io.formats.style.Styler at 0x1d38dd42090>"
      ]
     },
     "metadata": {},
     "output_type": "display_data"
    },
    {
     "data": {
      "text/html": [
       "<style type=\"text/css\">\n",
       "#T_7b230_row0_col0, #T_7b230_row0_col1, #T_7b230_row0_col2, #T_7b230_row0_col3 {\n",
       "  background-color: #c0e7b0;\n",
       "}\n",
       "</style>\n",
       "<table id=\"T_7b230\">\n",
       "  <thead>\n",
       "  </thead>\n",
       "  <tbody>\n",
       "    <tr>\n",
       "      <th id=\"T_7b230_level0_row0\" class=\"row_heading level0 row0\" >1447</th>\n",
       "      <td id=\"T_7b230_row0_col0\" class=\"data row0 col0\" >archiving df to \"test/archive/df1_05_08_2024.xlsx\" in sheet \"data1\"</td>\n",
       "      <td id=\"T_7b230_row0_col1\" class=\"data row0 col1\" >df.save()</td>\n",
       "      <td id=\"T_7b230_row0_col2\" class=\"data row0 col2\" >info</td>\n",
       "      <td id=\"T_7b230_row0_col3\" class=\"data row0 col3\" >2024-08-05 10:06:56.549862</td>\n",
       "    </tr>\n",
       "  </tbody>\n",
       "</table>\n"
      ],
      "text/plain": [
       "<pandas.io.formats.style.Styler at 0x1d38dd42ea0>"
      ]
     },
     "metadata": {},
     "output_type": "display_data"
    },
    {
     "name": "stdout",
     "output_type": "stream",
     "text": [
      "passed test for archiving with different date format\n"
     ]
    },
    {
     "data": {
      "text/html": [
       "<style type=\"text/css\">\n",
       "#T_8c0cf_row0_col0, #T_8c0cf_row0_col1, #T_8c0cf_row0_col2, #T_8c0cf_row0_col3 {\n",
       "  background-color: #c0e7b0;\n",
       "}\n",
       "</style>\n",
       "<table id=\"T_8c0cf\">\n",
       "  <thead>\n",
       "  </thead>\n",
       "  <tbody>\n",
       "    <tr>\n",
       "      <th id=\"T_8c0cf_level0_row0\" class=\"row_heading level0 row0\" >1448</th>\n",
       "      <td id=\"T_8c0cf_row0_col0\" class=\"data row0 col0\" >no archive folder found. looking for most recent file in \"archive\" instead</td>\n",
       "      <td id=\"T_8c0cf_row0_col1\" class=\"data row0 col1\" >df.load()</td>\n",
       "      <td id=\"T_8c0cf_row0_col2\" class=\"data row0 col2\" >info</td>\n",
       "      <td id=\"T_8c0cf_row0_col3\" class=\"data row0 col3\" >2024-08-05 10:06:56.965163</td>\n",
       "    </tr>\n",
       "  </tbody>\n",
       "</table>\n"
      ],
      "text/plain": [
       "<pandas.io.formats.style.Styler at 0x1d38dcd99d0>"
      ]
     },
     "metadata": {},
     "output_type": "display_data"
    },
    {
     "data": {
      "text/html": [
       "<style type=\"text/css\">\n",
       "#T_d7e31_row0_col0, #T_d7e31_row0_col1, #T_d7e31_row0_col2, #T_d7e31_row0_col3 {\n",
       "  background-color: #c0e7b0;\n",
       "}\n",
       "</style>\n",
       "<table id=\"T_d7e31\">\n",
       "  <thead>\n",
       "  </thead>\n",
       "  <tbody>\n",
       "    <tr>\n",
       "      <th id=\"T_d7e31_level0_row0\" class=\"row_heading level0 row0\" >1449</th>\n",
       "      <td id=\"T_d7e31_row0_col0\" class=\"data row0 col0\" >loading \"archive/df_2024_08_05.xlsx\"</td>\n",
       "      <td id=\"T_d7e31_row0_col1\" class=\"data row0 col1\" >df.load()</td>\n",
       "      <td id=\"T_d7e31_row0_col2\" class=\"data row0 col2\" >info</td>\n",
       "      <td id=\"T_d7e31_row0_col3\" class=\"data row0 col3\" >2024-08-05 10:06:56.977543</td>\n",
       "    </tr>\n",
       "  </tbody>\n",
       "</table>\n"
      ],
      "text/plain": [
       "<pandas.io.formats.style.Styler at 0x1d38ca8acf0>"
      ]
     },
     "metadata": {},
     "output_type": "display_data"
    },
    {
     "name": "stdout",
     "output_type": "stream",
     "text": [
      "passed test for loading most recent file\n"
     ]
    },
    {
     "data": {
      "text/html": [
       "<style type=\"text/css\">\n",
       "#T_39fa2_row0_col0, #T_39fa2_row0_col1, #T_39fa2_row0_col2, #T_39fa2_row0_col3 {\n",
       "  background-color: #c0e7b0;\n",
       "}\n",
       "</style>\n",
       "<table id=\"T_39fa2\">\n",
       "  <thead>\n",
       "  </thead>\n",
       "  <tbody>\n",
       "    <tr>\n",
       "      <th id=\"T_39fa2_level0_row0\" class=\"row_heading level0 row0\" >1450</th>\n",
       "      <td id=\"T_39fa2_row0_col0\" class=\"data row0 col0\" >no archive folder found. looking for most recent file in \"archive\" instead</td>\n",
       "      <td id=\"T_39fa2_row0_col1\" class=\"data row0 col1\" >df.load()</td>\n",
       "      <td id=\"T_39fa2_row0_col2\" class=\"data row0 col2\" >info</td>\n",
       "      <td id=\"T_39fa2_row0_col3\" class=\"data row0 col3\" >2024-08-05 10:06:56.999403</td>\n",
       "    </tr>\n",
       "  </tbody>\n",
       "</table>\n"
      ],
      "text/plain": [
       "<pandas.io.formats.style.Styler at 0x1d38c6affe0>"
      ]
     },
     "metadata": {},
     "output_type": "display_data"
    },
    {
     "data": {
      "text/html": [
       "<style type=\"text/css\">\n",
       "#T_62afe_row0_col0, #T_62afe_row0_col1, #T_62afe_row0_col2, #T_62afe_row0_col3 {\n",
       "  background-color: #c0e7b0;\n",
       "}\n",
       "</style>\n",
       "<table id=\"T_62afe\">\n",
       "  <thead>\n",
       "  </thead>\n",
       "  <tbody>\n",
       "    <tr>\n",
       "      <th id=\"T_62afe_level0_row0\" class=\"row_heading level0 row0\" >1451</th>\n",
       "      <td id=\"T_62afe_row0_col0\" class=\"data row0 col0\" >loading \"archive/df_2024_08_05.xlsx\"</td>\n",
       "      <td id=\"T_62afe_row0_col1\" class=\"data row0 col1\" >df.load()</td>\n",
       "      <td id=\"T_62afe_row0_col2\" class=\"data row0 col2\" >info</td>\n",
       "      <td id=\"T_62afe_row0_col3\" class=\"data row0 col3\" >2024-08-05 10:06:57.009704</td>\n",
       "    </tr>\n",
       "  </tbody>\n",
       "</table>\n"
      ],
      "text/plain": [
       "<pandas.io.formats.style.Styler at 0x1d38ccda570>"
      ]
     },
     "metadata": {},
     "output_type": "display_data"
    },
    {
     "name": "stdout",
     "output_type": "stream",
     "text": [
      "passed test for loading most recent file explicitly\n"
     ]
    },
    {
     "data": {
      "text/html": [
       "<style type=\"text/css\">\n",
       "#T_c0cbc_row0_col0, #T_c0cbc_row0_col1, #T_c0cbc_row0_col2, #T_c0cbc_row0_col3 {\n",
       "  background-color: #c0e7b0;\n",
       "}\n",
       "</style>\n",
       "<table id=\"T_c0cbc\">\n",
       "  <thead>\n",
       "  </thead>\n",
       "  <tbody>\n",
       "    <tr>\n",
       "      <th id=\"T_c0cbc_level0_row0\" class=\"row_heading level0 row0\" >1452</th>\n",
       "      <td id=\"T_c0cbc_row0_col0\" class=\"data row0 col0\" >no archive folder found. looking for most recent file in \"archive\" instead</td>\n",
       "      <td id=\"T_c0cbc_row0_col1\" class=\"data row0 col1\" >df.load()</td>\n",
       "      <td id=\"T_c0cbc_row0_col2\" class=\"data row0 col2\" >info</td>\n",
       "      <td id=\"T_c0cbc_row0_col3\" class=\"data row0 col3\" >2024-08-05 10:06:57.204699</td>\n",
       "    </tr>\n",
       "  </tbody>\n",
       "</table>\n"
      ],
      "text/plain": [
       "<pandas.io.formats.style.Styler at 0x1d38caa68d0>"
      ]
     },
     "metadata": {},
     "output_type": "display_data"
    },
    {
     "data": {
      "text/html": [
       "<style type=\"text/css\">\n",
       "#T_03d02_row0_col0, #T_03d02_row0_col1, #T_03d02_row0_col2, #T_03d02_row0_col3 {\n",
       "  background-color: #c0e7b0;\n",
       "}\n",
       "</style>\n",
       "<table id=\"T_03d02\">\n",
       "  <thead>\n",
       "  </thead>\n",
       "  <tbody>\n",
       "    <tr>\n",
       "      <th id=\"T_03d02_level0_row0\" class=\"row_heading level0 row0\" >1453</th>\n",
       "      <td id=\"T_03d02_row0_col0\" class=\"data row0 col0\" >loading \"archive/df_05_08_2024.xlsx\"</td>\n",
       "      <td id=\"T_03d02_row0_col1\" class=\"data row0 col1\" >df.load()</td>\n",
       "      <td id=\"T_03d02_row0_col2\" class=\"data row0 col2\" >info</td>\n",
       "      <td id=\"T_03d02_row0_col3\" class=\"data row0 col3\" >2024-08-05 10:06:57.217214</td>\n",
       "    </tr>\n",
       "  </tbody>\n",
       "</table>\n"
      ],
      "text/plain": [
       "<pandas.io.formats.style.Styler at 0x1d38ca57dd0>"
      ]
     },
     "metadata": {},
     "output_type": "display_data"
    },
    {
     "name": "stdout",
     "output_type": "stream",
     "text": [
      "passed test for loading most recent file with different date format\n"
     ]
    },
    {
     "data": {
      "text/html": [
       "<style type=\"text/css\">\n",
       "#T_62b2c_row0_col0, #T_62b2c_row0_col1, #T_62b2c_row0_col2, #T_62b2c_row0_col3 {\n",
       "  background-color: #c0e7b0;\n",
       "}\n",
       "</style>\n",
       "<table id=\"T_62b2c\">\n",
       "  <thead>\n",
       "  </thead>\n",
       "  <tbody>\n",
       "    <tr>\n",
       "      <th id=\"T_62b2c_level0_row0\" class=\"row_heading level0 row0\" >1454</th>\n",
       "      <td id=\"T_62b2c_row0_col0\" class=\"data row0 col0\" >no archive folder found. looking for most recent file in \"archive\" instead</td>\n",
       "      <td id=\"T_62b2c_row0_col1\" class=\"data row0 col1\" >df.load()</td>\n",
       "      <td id=\"T_62b2c_row0_col2\" class=\"data row0 col2\" >info</td>\n",
       "      <td id=\"T_62b2c_row0_col3\" class=\"data row0 col3\" >2024-08-05 10:06:57.338965</td>\n",
       "    </tr>\n",
       "  </tbody>\n",
       "</table>\n"
      ],
      "text/plain": [
       "<pandas.io.formats.style.Styler at 0x1d38ca7de80>"
      ]
     },
     "metadata": {},
     "output_type": "display_data"
    },
    {
     "data": {
      "text/html": [
       "<style type=\"text/css\">\n",
       "#T_5c8fe_row0_col0, #T_5c8fe_row0_col1, #T_5c8fe_row0_col2, #T_5c8fe_row0_col3 {\n",
       "  background-color: #c0e7b0;\n",
       "}\n",
       "</style>\n",
       "<table id=\"T_5c8fe\">\n",
       "  <thead>\n",
       "  </thead>\n",
       "  <tbody>\n",
       "    <tr>\n",
       "      <th id=\"T_5c8fe_level0_row0\" class=\"row_heading level0 row0\" >1455</th>\n",
       "      <td id=\"T_5c8fe_row0_col0\" class=\"data row0 col0\" >loading \"archive/df_2000_01_01.xlsx\"</td>\n",
       "      <td id=\"T_5c8fe_row0_col1\" class=\"data row0 col1\" >df.load()</td>\n",
       "      <td id=\"T_5c8fe_row0_col2\" class=\"data row0 col2\" >info</td>\n",
       "      <td id=\"T_5c8fe_row0_col3\" class=\"data row0 col3\" >2024-08-05 10:06:57.354618</td>\n",
       "    </tr>\n",
       "  </tbody>\n",
       "</table>\n"
      ],
      "text/plain": [
       "<pandas.io.formats.style.Styler at 0x1d38c831f70>"
      ]
     },
     "metadata": {},
     "output_type": "display_data"
    },
    {
     "name": "stdout",
     "output_type": "stream",
     "text": [
      "passed test for loading most recent file from before specific date\n"
     ]
    },
    {
     "data": {
      "text/html": [
       "<style type=\"text/css\">\n",
       "#T_147fd_row0_col0, #T_147fd_row0_col1, #T_147fd_row0_col2, #T_147fd_row0_col3 {\n",
       "  background-color: #c0e7b0;\n",
       "}\n",
       "</style>\n",
       "<table id=\"T_147fd\">\n",
       "  <thead>\n",
       "  </thead>\n",
       "  <tbody>\n",
       "    <tr>\n",
       "      <th id=\"T_147fd_level0_row0\" class=\"row_heading level0 row0\" >1456</th>\n",
       "      <td id=\"T_147fd_row0_col0\" class=\"data row0 col0\" >no archive folder found. looking for most recent file in \"archive\" instead</td>\n",
       "      <td id=\"T_147fd_row0_col1\" class=\"data row0 col1\" >df.load()</td>\n",
       "      <td id=\"T_147fd_row0_col2\" class=\"data row0 col2\" >info</td>\n",
       "      <td id=\"T_147fd_row0_col3\" class=\"data row0 col3\" >2024-08-05 10:06:57.381093</td>\n",
       "    </tr>\n",
       "  </tbody>\n",
       "</table>\n"
      ],
      "text/plain": [
       "<pandas.io.formats.style.Styler at 0x1d38ccc73e0>"
      ]
     },
     "metadata": {},
     "output_type": "display_data"
    },
    {
     "data": {
      "text/html": [
       "<style type=\"text/css\">\n",
       "#T_3ac40_row0_col0, #T_3ac40_row0_col1, #T_3ac40_row0_col2, #T_3ac40_row0_col3 {\n",
       "  background-color: #c0e7b0;\n",
       "}\n",
       "</style>\n",
       "<table id=\"T_3ac40\">\n",
       "  <thead>\n",
       "  </thead>\n",
       "  <tbody>\n",
       "    <tr>\n",
       "      <th id=\"T_3ac40_level0_row0\" class=\"row_heading level0 row0\" >1457</th>\n",
       "      <td id=\"T_3ac40_row0_col0\" class=\"data row0 col0\" >loading \"archive/df_2023_07_02.xlsx\"</td>\n",
       "      <td id=\"T_3ac40_row0_col1\" class=\"data row0 col1\" >df.load()</td>\n",
       "      <td id=\"T_3ac40_row0_col2\" class=\"data row0 col2\" >info</td>\n",
       "      <td id=\"T_3ac40_row0_col3\" class=\"data row0 col3\" >2024-08-05 10:06:57.398781</td>\n",
       "    </tr>\n",
       "  </tbody>\n",
       "</table>\n"
      ],
      "text/plain": [
       "<pandas.io.formats.style.Styler at 0x1d38ca917c0>"
      ]
     },
     "metadata": {},
     "output_type": "display_data"
    },
    {
     "name": "stdout",
     "output_type": "stream",
     "text": [
      "passed test for loading most recent file from before this year\n"
     ]
    },
    {
     "data": {
      "text/html": [
       "<style type=\"text/css\">\n",
       "#T_7ce9d_row0_col0, #T_7ce9d_row0_col1, #T_7ce9d_row0_col2, #T_7ce9d_row0_col3 {\n",
       "  background-color: #c0e7b0;\n",
       "}\n",
       "</style>\n",
       "<table id=\"T_7ce9d\">\n",
       "  <thead>\n",
       "  </thead>\n",
       "  <tbody>\n",
       "    <tr>\n",
       "      <th id=\"T_7ce9d_level0_row0\" class=\"row_heading level0 row0\" >1458</th>\n",
       "      <td id=\"T_7ce9d_row0_col0\" class=\"data row0 col0\" >no archive folder found. looking for most recent file in \"archive\" instead</td>\n",
       "      <td id=\"T_7ce9d_row0_col1\" class=\"data row0 col1\" >df.load()</td>\n",
       "      <td id=\"T_7ce9d_row0_col2\" class=\"data row0 col2\" >info</td>\n",
       "      <td id=\"T_7ce9d_row0_col3\" class=\"data row0 col3\" >2024-08-05 10:06:57.547223</td>\n",
       "    </tr>\n",
       "  </tbody>\n",
       "</table>\n"
      ],
      "text/plain": [
       "<pandas.io.formats.style.Styler at 0x1d3f58d0aa0>"
      ]
     },
     "metadata": {},
     "output_type": "display_data"
    },
    {
     "data": {
      "text/html": [
       "<style type=\"text/css\">\n",
       "#T_124a5_row0_col0, #T_124a5_row0_col1, #T_124a5_row0_col2, #T_124a5_row0_col3 {\n",
       "  background-color: #c0e7b0;\n",
       "}\n",
       "</style>\n",
       "<table id=\"T_124a5\">\n",
       "  <thead>\n",
       "  </thead>\n",
       "  <tbody>\n",
       "    <tr>\n",
       "      <th id=\"T_124a5_level0_row0\" class=\"row_heading level0 row0\" >1459</th>\n",
       "      <td id=\"T_124a5_row0_col0\" class=\"data row0 col0\" >loading \"archive/df_2024_06_26.xlsx\"</td>\n",
       "      <td id=\"T_124a5_row0_col1\" class=\"data row0 col1\" >df.load()</td>\n",
       "      <td id=\"T_124a5_row0_col2\" class=\"data row0 col2\" >info</td>\n",
       "      <td id=\"T_124a5_row0_col3\" class=\"data row0 col3\" >2024-08-05 10:06:57.561304</td>\n",
       "    </tr>\n",
       "  </tbody>\n",
       "</table>\n"
      ],
      "text/plain": [
       "<pandas.io.formats.style.Styler at 0x1d38ca7cf80>"
      ]
     },
     "metadata": {},
     "output_type": "display_data"
    },
    {
     "name": "stdout",
     "output_type": "stream",
     "text": [
      "passed test for loading most recent file from before this month\n"
     ]
    },
    {
     "data": {
      "text/html": [
       "<style type=\"text/css\">\n",
       "#T_35907_row0_col0, #T_35907_row0_col1, #T_35907_row0_col2, #T_35907_row0_col3 {\n",
       "  background-color: #c0e7b0;\n",
       "}\n",
       "</style>\n",
       "<table id=\"T_35907\">\n",
       "  <thead>\n",
       "  </thead>\n",
       "  <tbody>\n",
       "    <tr>\n",
       "      <th id=\"T_35907_level0_row0\" class=\"row_heading level0 row0\" >1460</th>\n",
       "      <td id=\"T_35907_row0_col0\" class=\"data row0 col0\" >no archive folder found. looking for most recent file in \"archive\" instead</td>\n",
       "      <td id=\"T_35907_row0_col1\" class=\"data row0 col1\" >df.load()</td>\n",
       "      <td id=\"T_35907_row0_col2\" class=\"data row0 col2\" >info</td>\n",
       "      <td id=\"T_35907_row0_col3\" class=\"data row0 col3\" >2024-08-05 10:06:57.686567</td>\n",
       "    </tr>\n",
       "  </tbody>\n",
       "</table>\n"
      ],
      "text/plain": [
       "<pandas.io.formats.style.Styler at 0x1d38ca7cf80>"
      ]
     },
     "metadata": {},
     "output_type": "display_data"
    },
    {
     "data": {
      "text/html": [
       "<style type=\"text/css\">\n",
       "#T_3a9de_row0_col0, #T_3a9de_row0_col1, #T_3a9de_row0_col2, #T_3a9de_row0_col3 {\n",
       "  background-color: #c0e7b0;\n",
       "}\n",
       "</style>\n",
       "<table id=\"T_3a9de\">\n",
       "  <thead>\n",
       "  </thead>\n",
       "  <tbody>\n",
       "    <tr>\n",
       "      <th id=\"T_3a9de_level0_row0\" class=\"row_heading level0 row0\" >1461</th>\n",
       "      <td id=\"T_3a9de_row0_col0\" class=\"data row0 col0\" >loading \"archive/df_2024_07_28.xlsx\"</td>\n",
       "      <td id=\"T_3a9de_row0_col1\" class=\"data row0 col1\" >df.load()</td>\n",
       "      <td id=\"T_3a9de_row0_col2\" class=\"data row0 col2\" >info</td>\n",
       "      <td id=\"T_3a9de_row0_col3\" class=\"data row0 col3\" >2024-08-05 10:06:57.704433</td>\n",
       "    </tr>\n",
       "  </tbody>\n",
       "</table>\n"
      ],
      "text/plain": [
       "<pandas.io.formats.style.Styler at 0x1d38ca89c10>"
      ]
     },
     "metadata": {},
     "output_type": "display_data"
    },
    {
     "name": "stdout",
     "output_type": "stream",
     "text": [
      "passed test for loading most recent file from before this week\n"
     ]
    },
    {
     "data": {
      "text/html": [
       "<style type=\"text/css\">\n",
       "#T_06b2c_row0_col0, #T_06b2c_row0_col1, #T_06b2c_row0_col2, #T_06b2c_row0_col3 {\n",
       "  background-color: #c0e7b0;\n",
       "}\n",
       "</style>\n",
       "<table id=\"T_06b2c\">\n",
       "  <thead>\n",
       "  </thead>\n",
       "  <tbody>\n",
       "    <tr>\n",
       "      <th id=\"T_06b2c_level0_row0\" class=\"row_heading level0 row0\" >1462</th>\n",
       "      <td id=\"T_06b2c_row0_col0\" class=\"data row0 col0\" >no archive folder found. looking for most recent file in \"archive\" instead</td>\n",
       "      <td id=\"T_06b2c_row0_col1\" class=\"data row0 col1\" >df.load()</td>\n",
       "      <td id=\"T_06b2c_row0_col2\" class=\"data row0 col2\" >info</td>\n",
       "      <td id=\"T_06b2c_row0_col3\" class=\"data row0 col3\" >2024-08-05 10:06:57.820847</td>\n",
       "    </tr>\n",
       "  </tbody>\n",
       "</table>\n"
      ],
      "text/plain": [
       "<pandas.io.formats.style.Styler at 0x1d38ca88ce0>"
      ]
     },
     "metadata": {},
     "output_type": "display_data"
    },
    {
     "data": {
      "text/html": [
       "<style type=\"text/css\">\n",
       "#T_f3538_row0_col0, #T_f3538_row0_col1, #T_f3538_row0_col2, #T_f3538_row0_col3 {\n",
       "  background-color: #c0e7b0;\n",
       "}\n",
       "</style>\n",
       "<table id=\"T_f3538\">\n",
       "  <thead>\n",
       "  </thead>\n",
       "  <tbody>\n",
       "    <tr>\n",
       "      <th id=\"T_f3538_level0_row0\" class=\"row_heading level0 row0\" >1463</th>\n",
       "      <td id=\"T_f3538_row0_col0\" class=\"data row0 col0\" >loading \"archive/df_2024_08_04.xlsx\"</td>\n",
       "      <td id=\"T_f3538_row0_col1\" class=\"data row0 col1\" >df.load()</td>\n",
       "      <td id=\"T_f3538_row0_col2\" class=\"data row0 col2\" >info</td>\n",
       "      <td id=\"T_f3538_row0_col3\" class=\"data row0 col3\" >2024-08-05 10:06:57.836001</td>\n",
       "    </tr>\n",
       "  </tbody>\n",
       "</table>\n"
      ],
      "text/plain": [
       "<pandas.io.formats.style.Styler at 0x1d38dd3f860>"
      ]
     },
     "metadata": {},
     "output_type": "display_data"
    },
    {
     "name": "stdout",
     "output_type": "stream",
     "text": [
      "passed test for loading most recent file from before this day\n"
     ]
    },
    {
     "data": {
      "text/html": [
       "<style type=\"text/css\">\n",
       "#T_2d178_row0_col0, #T_2d178_row0_col1, #T_2d178_row0_col2, #T_2d178_row0_col3 {\n",
       "  background-color: #c0e7b0;\n",
       "}\n",
       "</style>\n",
       "<table id=\"T_2d178\">\n",
       "  <thead>\n",
       "  </thead>\n",
       "  <tbody>\n",
       "    <tr>\n",
       "      <th id=\"T_2d178_level0_row0\" class=\"row_heading level0 row0\" >1464</th>\n",
       "      <td id=\"T_2d178_row0_col0\" class=\"data row0 col0\" >no archive folder found. looking for most recent file in \"archive\" instead</td>\n",
       "      <td id=\"T_2d178_row0_col1\" class=\"data row0 col1\" >df.load()</td>\n",
       "      <td id=\"T_2d178_row0_col2\" class=\"data row0 col2\" >info</td>\n",
       "      <td id=\"T_2d178_row0_col3\" class=\"data row0 col3\" >2024-08-05 10:06:57.928798</td>\n",
       "    </tr>\n",
       "  </tbody>\n",
       "</table>\n"
      ],
      "text/plain": [
       "<pandas.io.formats.style.Styler at 0x1d38c1847d0>"
      ]
     },
     "metadata": {},
     "output_type": "display_data"
    },
    {
     "data": {
      "text/html": [
       "<style type=\"text/css\">\n",
       "#T_afe26_row0_col0, #T_afe26_row0_col1, #T_afe26_row0_col2, #T_afe26_row0_col3 {\n",
       "  background-color: #c0e7b0;\n",
       "}\n",
       "</style>\n",
       "<table id=\"T_afe26\">\n",
       "  <thead>\n",
       "  </thead>\n",
       "  <tbody>\n",
       "    <tr>\n",
       "      <th id=\"T_afe26_level0_row0\" class=\"row_heading level0 row0\" >1465</th>\n",
       "      <td id=\"T_afe26_row0_col0\" class=\"data row0 col0\" >loading \"archive/df_2024_08_04.xlsx\"</td>\n",
       "      <td id=\"T_afe26_row0_col1\" class=\"data row0 col1\" >df.load()</td>\n",
       "      <td id=\"T_afe26_row0_col2\" class=\"data row0 col2\" >info</td>\n",
       "      <td id=\"T_afe26_row0_col3\" class=\"data row0 col3\" >2024-08-05 10:06:57.952033</td>\n",
       "    </tr>\n",
       "  </tbody>\n",
       "</table>\n"
      ],
      "text/plain": [
       "<pandas.io.formats.style.Styler at 0x1d38dd415e0>"
      ]
     },
     "metadata": {},
     "output_type": "display_data"
    },
    {
     "name": "stdout",
     "output_type": "stream",
     "text": [
      "passed test for loading most recent file from before this day\n"
     ]
    }
   ],
   "source": [
    "#remove old test files\n",
    "today1 = datetime.datetime.now().strftime('%Y_%m_%d')\n",
    "today2 = datetime.datetime.now().strftime('%d_%m_%Y')\n",
    "date0 = qp.date('2000_01_01').strftime('%Y_%m_%d')\n",
    "date1 = (datetime.datetime.now() - datetime.timedelta(days=400)).date().strftime('%Y_%m_%d')\n",
    "date2 = (datetime.datetime.now() - datetime.timedelta(days=40)).date().strftime('%Y_%m_%d')\n",
    "date3 = (datetime.datetime.now() - datetime.timedelta(days=8)).date().strftime('%Y_%m_%d')\n",
    "date4 = (datetime.datetime.now() - datetime.timedelta(days=1)).date().strftime('%Y_%m_%d')\n",
    "\n",
    "def clean():\n",
    "    files = [\n",
    "        'df.xlsx',\n",
    "        'df1.xlsx',\n",
    "\n",
    "        'test/df1.xlsx',\n",
    "        'test/df1b.xlsx',\n",
    "        'test/df2.xlsx',\n",
    "\n",
    "        f'archive/df1_{today1}.xlsx',\n",
    "        f'archive/df1_{today2}.xlsx',\n",
    "        f'archive/df1b_{today1}.xlsx',\n",
    "\n",
    "        f'archive/df_{today1}.xlsx',\n",
    "        f'archive/df_{today2}.xlsx',\n",
    "        f'archive/df_{date0}.xlsx',\n",
    "        f'archive/df_{date1}.xlsx',\n",
    "        f'archive/df_{date2}.xlsx',\n",
    "        f'archive/df_{date3}.xlsx',\n",
    "        f'archive/df_{date4}.xlsx',\n",
    "\n",
    "        f'test/archive/df1_{today1}.xlsx',\n",
    "        f'test/archive/df1b_{today1}.xlsx',\n",
    "        f'test/archive/df2_{today1}.xlsx',\n",
    "        ]\n",
    "\n",
    "    for file in files:\n",
    "        if os.path.isfile(file):\n",
    "            os.remove(file)\n",
    "            # print(f'removed file: {file}')\n",
    "\n",
    "    if os.path.isdir('test/archive'):\n",
    "        shutil.rmtree('test/archive')\n",
    "clean()\n",
    "\n",
    "\n",
    "\n",
    "df1 = pd.DataFrame({'a':[1]})\n",
    "df2 = pd.DataFrame({'a':[2]})\n",
    "df3 = pd.DataFrame({'a':[3]})\n",
    "df4 = pd.DataFrame({'a':[4]})\n",
    "\n",
    "\n",
    "#default\n",
    "df1.save()\n",
    "if qp.isfile('df.xlsx'):\n",
    "    print('passed test for default saving behaviour')\n",
    "else:\n",
    "    raise Exception(f'failed test for default saving behaviour')\n",
    "\n",
    "df1a = qp.load('df.xlsx')\n",
    "if df1a.equals(df1):\n",
    "    print('passed test for loading from default file')\n",
    "else:\n",
    "    raise Exception(f'failed test for loading from default file')\n",
    "\n",
    "\n",
    "\n",
    "\n",
    "#specific file\n",
    "df1.save('df1.xlsx')\n",
    "if qp.isfile('df1.xlsx'):\n",
    "    print('passed test for saving to a specific file')\n",
    "else:\n",
    "    raise Exception(f'failed test for saving to a specific file')\n",
    "\n",
    "df1b = qp.load('df1.xlsx')\n",
    "if df1b.equals(df1):\n",
    "    print('passed test for loading from a specific file')\n",
    "else:\n",
    "    raise Exception(f'failed test for loading from a specific file')\n",
    "\n",
    "\n",
    "\n",
    "\n",
    "#file in folder\n",
    "df1.save('test/df1.xlsx')\n",
    "if qp.isfile('test/df1.xlsx'):\n",
    "    print('passed test for saving to a specific file in folder')\n",
    "else:\n",
    "    raise Exception(f'failed test for saving to a specific file in folder')\n",
    "\n",
    "df1c = qp.load('test/df1.xlsx')\n",
    "if df1c.equals(df1):\n",
    "    print('passed test for loading from a specific file in folder')\n",
    "else:\n",
    "    raise Exception(f'failed test for loading from a specific file in folder')\n",
    "\n",
    "\n",
    "\n",
    "\n",
    "#specific sheet\n",
    "df1.save('df1.xlsx', sheet='data2')\n",
    "df1d = qp.load('df1.xlsx', sheet='data2')\n",
    "if df1d.equals(df1):\n",
    "    print('passed test for saving and loading to and from a specific sheet')\n",
    "else:\n",
    "    raise Exception(f'failed test for saving and loading to and from a specific sheet')\n",
    "\n",
    "\n",
    "\n",
    "\n",
    "#overwriting sheets\n",
    "df1old = qp.load('df1.xlsx')\n",
    "df2.save('df1.xlsx')\n",
    "df1new = qp.load('df1.xlsx')\n",
    "if df1old.loc[0, 'a'] == 1 and df1new.loc[0, 'a'] == 2:\n",
    "    print('passed test for overwriting sheets')\n",
    "else:\n",
    "    raise Exception(f'failed test for overwriting sheets')\n",
    "df1.save('df1.xlsx')  #restore previous state\n",
    "\n",
    "\n",
    "\n",
    "#archiving\n",
    "today = datetime.datetime.now().strftime('%Y_%m_%d')\n",
    "df1.save('df1')\n",
    "if qp.isfile(f'archive/df1_{today}.xlsx'):\n",
    "    print('passed test for archiving file')\n",
    "else:\n",
    "    raise Exception(f'failed test for archiving file')\n",
    "\n",
    "\n",
    "#archiving nested folder\n",
    "os.mkdir('test/archive')\n",
    "df1.save('test/df1')\n",
    "if qp.isfile(f'test/archive/df1_{today}.xlsx'):\n",
    "    print('passed test for archiving in nested folder')\n",
    "else:\n",
    "    raise Exception(f'failed test for archiving nested folder')\n",
    "\n",
    "\n",
    "\n",
    "\n",
    "\n",
    "#archiving with different date format\n",
    "today = datetime.datetime.now().strftime('%d_%m_%Y')\n",
    "df1.save('test/df1.xlsx', sheet='data1', datefmt='%d_%m_%Y')\n",
    "if qp.isfile(f'test/archive/df1_{today}.xlsx'):\n",
    "    print('passed test for archiving with different date format')\n",
    "else:\n",
    "    raise Exception(f'failed test for archiving with different date format')\n",
    "\n",
    "\n",
    "\n",
    "#most recent file\n",
    "if os.path.isfile(f'archive/df_{today2}.xlsx'):\n",
    "    os.remove(f'archive/df_{today2}.xlsx')\n",
    "pd.DataFrame({'a':[today1]}).to_excel(f'archive/df_{today1}.xlsx', index=False)\n",
    "pd.DataFrame({'a':[date1]}).to_excel(f'archive/df_{date1}.xlsx', index=False)\n",
    "\n",
    "if qp.load('archive/df', sheet='Sheet1', index=False).loc[0, 'a'] == today1:\n",
    "    print('passed test for loading most recent file')\n",
    "else:\n",
    "    raise Exception(f'failed test for loading most recent file')\n",
    "\n",
    "\n",
    "\n",
    "#most recent file version 2\n",
    "if qp.load('archive/df', sheet='Sheet1', before='now', index=False).loc[0, 'a'] == today1:\n",
    "    print('passed test for loading most recent file explicitly')\n",
    "else:\n",
    "    raise Exception(f'failed test for loading most recent file explicitly')\n",
    "\n",
    "\n",
    "\n",
    "#most recent file with different date format\n",
    "if os.path.isfile(f'archive/df_{today1}.xlsx'):\n",
    "    os.remove(f'archive/df_{today1}.xlsx')\n",
    "pd.DataFrame({'a':[today2]}).to_excel(f'archive/df_{today2}.xlsx', index=False)\n",
    "pd.DataFrame({'a':[date1]}).to_excel(f'archive/df_{date1}.xlsx', index=False)\n",
    "\n",
    "if qp.load('archive/df', sheet='Sheet1', index=False).loc[0, 'a'] == today2:\n",
    "    print('passed test for loading most recent file with different date format')\n",
    "else:\n",
    "    raise Exception(f'failed test for loading most recent file with different date format')\n",
    "\n",
    "\n",
    "\n",
    "#file before specific date\n",
    "pd.DataFrame({'a':[date0]}).to_excel(f'archive/df_{date0}.xlsx', index=False)\n",
    "if qp.load('archive/df', sheet='Sheet1', before='2000_01_02', index=False).loc[0, 'a'] == date0:\n",
    "    print('passed test for loading most recent file from before specific date')\n",
    "else:\n",
    "    raise Exception(f'failed test for loading most recent file from before specific date')\n",
    "\n",
    "\n",
    "#file before this year\n",
    "if qp.load('archive/df', sheet='Sheet1', before='this year', index=False).loc[0, 'a'] == date1:\n",
    "    print('passed test for loading most recent file from before this year')\n",
    "else:\n",
    "    raise Exception(f'failed test for loading most recent file from before this year')\n",
    "\n",
    "\n",
    "\n",
    "#file before this month\n",
    "pd.DataFrame({'a':[date2]}).to_excel(f'archive/df_{date2}.xlsx', index=False)\n",
    "if qp.load('archive/df', sheet='Sheet1', before='this month', index=False).loc[0, 'a'] == date2:\n",
    "    print('passed test for loading most recent file from before this month')\n",
    "else:\n",
    "    raise Exception(f'failed test for loading most recent file from before this month')\n",
    "\n",
    "\n",
    "\n",
    "#file before this week\n",
    "pd.DataFrame({'a':[date3]}).to_excel(f'archive/df_{date3}.xlsx', index=False)\n",
    "if qp.load('archive/df', sheet='Sheet1', before='this week', index=False).loc[0, 'a'] == date3:\n",
    "    print('passed test for loading most recent file from before this week')\n",
    "else:\n",
    "    raise Exception(f'failed test for loading most recent file from before this week')\n",
    "\n",
    "\n",
    "\n",
    "#file before this day\n",
    "pd.DataFrame({'a':[date4]}).to_excel(f'archive/df_{date4}.xlsx', index=False)\n",
    "if qp.load('archive/df', sheet='Sheet1', before='this day', index=False).loc[0, 'a'] == date4:\n",
    "    print('passed test for loading most recent file from before this day')\n",
    "else:\n",
    "    raise Exception(f'failed test for loading most recent file from before this day')\n",
    "\n",
    "\n",
    "\n",
    "#file before today\n",
    "if qp.load('archive/df', sheet='Sheet1', before='today', index=False).loc[0, 'a'] == date4:\n",
    "    print('passed test for loading most recent file from before this day')\n",
    "else:\n",
    "    raise Exception(f'failed test for loading most recent file from before this day')\n",
    "\n",
    "\n",
    "# df1.save('test/df3.xlsx', sheet='sheet2', archive='source', datefmt='%Y_%m_%d')\n",
    "# df1.save('test/df3.xlsx', sheet='sheet2', archive='destination', datefmt='%Y_%m_%d')\n",
    "# df1.save('df.xlsx', sheet='sheet2', archive='both', datefmt='%Y_%m_%d')"
   ]
  },
  {
   "cell_type": "markdown",
   "metadata": {},
   "source": [
    "# log()"
   ]
  },
  {
   "cell_type": "code",
   "execution_count": 21,
   "metadata": {},
   "outputs": [],
   "source": [
    "#wip"
   ]
  },
  {
   "cell_type": "markdown",
   "metadata": {},
   "source": [
    "# \"bashlike\" wrappers"
   ]
  },
  {
   "cell_type": "code",
   "execution_count": 22,
   "metadata": {},
   "outputs": [
    {
     "name": "stdout",
     "output_type": "stream",
     "text": [
      "passed test for non existing directory\n"
     ]
    },
    {
     "data": {
      "text/html": [
       "<style type=\"text/css\">\n",
       "#T_bad2d_row0_col0, #T_bad2d_row0_col1, #T_bad2d_row0_col2, #T_bad2d_row0_col3 {\n",
       "  background-color: #c0e7b0;\n",
       "}\n",
       "</style>\n",
       "<table id=\"T_bad2d\">\n",
       "  <thead>\n",
       "  </thead>\n",
       "  <tbody>\n",
       "    <tr>\n",
       "      <th id=\"T_bad2d_level0_row0\" class=\"row_heading level0 row0\" >1466</th>\n",
       "      <td id=\"T_bad2d_row0_col0\" class=\"data row0 col0\" >created directory \"test/dir1\"</td>\n",
       "      <td id=\"T_bad2d_row0_col1\" class=\"data row0 col1\" >qp.mkdir(\"test/dir1\")</td>\n",
       "      <td id=\"T_bad2d_row0_col2\" class=\"data row0 col2\" >info</td>\n",
       "      <td id=\"T_bad2d_row0_col3\" class=\"data row0 col3\" >2024-08-05 10:06:58.025991</td>\n",
       "    </tr>\n",
       "  </tbody>\n",
       "</table>\n"
      ],
      "text/plain": [
       "<pandas.io.formats.style.Styler at 0x1d38c870920>"
      ]
     },
     "metadata": {},
     "output_type": "display_data"
    },
    {
     "name": "stdout",
     "output_type": "stream",
     "text": [
      "passed test for creating and checking for existing directory\n"
     ]
    },
    {
     "data": {
      "text/html": [
       "<style type=\"text/css\">\n",
       "#T_271fb_row0_col0, #T_271fb_row0_col1, #T_271fb_row0_col2, #T_271fb_row0_col3 {\n",
       "  background-color: #c0e7b0;\n",
       "}\n",
       "</style>\n",
       "<table id=\"T_271fb\">\n",
       "  <thead>\n",
       "  </thead>\n",
       "  <tbody>\n",
       "    <tr>\n",
       "      <th id=\"T_271fb_level0_row0\" class=\"row_heading level0 row0\" >1467</th>\n",
       "      <td id=\"T_271fb_row0_col0\" class=\"data row0 col0\" >moved from<br>c:\\Users\\MartinVölkl-GouyaIns\\OneDrive - Gouya Insights\\Desktop\\qplib_dev<br>to<br>c:\\Users\\MartinVölkl-GouyaIns\\OneDrive - Gouya Insights\\Desktop\\qplib_dev\\test\\dir1</td>\n",
       "      <td id=\"T_271fb_row0_col1\" class=\"data row0 col1\" >qp.cd(\"test/dir1\")</td>\n",
       "      <td id=\"T_271fb_row0_col2\" class=\"data row0 col2\" >info</td>\n",
       "      <td id=\"T_271fb_row0_col3\" class=\"data row0 col3\" >2024-08-05 10:06:58.039508</td>\n",
       "    </tr>\n",
       "  </tbody>\n",
       "</table>\n"
      ],
      "text/plain": [
       "<pandas.io.formats.style.Styler at 0x1d38ccc73e0>"
      ]
     },
     "metadata": {},
     "output_type": "display_data"
    },
    {
     "name": "stdout",
     "output_type": "stream",
     "text": [
      "passed test for changing directory and finding path to current directory\n"
     ]
    },
    {
     "data": {
      "text/html": [
       "<style type=\"text/css\">\n",
       "#T_0698b_row0_col0, #T_0698b_row0_col1, #T_0698b_row0_col2, #T_0698b_row0_col3 {\n",
       "  background-color: #c0e7b0;\n",
       "}\n",
       "</style>\n",
       "<table id=\"T_0698b\">\n",
       "  <thead>\n",
       "  </thead>\n",
       "  <tbody>\n",
       "    <tr>\n",
       "      <th id=\"T_0698b_level0_row0\" class=\"row_heading level0 row0\" >1468</th>\n",
       "      <td id=\"T_0698b_row0_col0\" class=\"data row0 col0\" >created directory \"dir2\"</td>\n",
       "      <td id=\"T_0698b_row0_col1\" class=\"data row0 col1\" >qp.mkdir(\"dir2\")</td>\n",
       "      <td id=\"T_0698b_row0_col2\" class=\"data row0 col2\" >info</td>\n",
       "      <td id=\"T_0698b_row0_col3\" class=\"data row0 col3\" >2024-08-05 10:06:58.050718</td>\n",
       "    </tr>\n",
       "  </tbody>\n",
       "</table>\n"
      ],
      "text/plain": [
       "<pandas.io.formats.style.Styler at 0x1d3f58d0b00>"
      ]
     },
     "metadata": {},
     "output_type": "display_data"
    },
    {
     "data": {
      "text/html": [
       "<style type=\"text/css\">\n",
       "#T_ec6f0_row0_col0, #T_ec6f0_row0_col1, #T_ec6f0_row0_col2, #T_ec6f0_row0_col3 {\n",
       "  background-color: #c0e7b0;\n",
       "}\n",
       "</style>\n",
       "<table id=\"T_ec6f0\">\n",
       "  <thead>\n",
       "  </thead>\n",
       "  <tbody>\n",
       "    <tr>\n",
       "      <th id=\"T_ec6f0_level0_row0\" class=\"row_heading level0 row0\" >1469</th>\n",
       "      <td id=\"T_ec6f0_row0_col0\" class=\"data row0 col0\" >moved from<br>c:\\Users\\MartinVölkl-GouyaIns\\OneDrive - Gouya Insights\\Desktop\\qplib_dev\\test\\dir1<br>to<br>c:\\Users\\MartinVölkl-GouyaIns\\OneDrive - Gouya Insights\\Desktop\\qplib_dev\\test\\dir1\\dir2</td>\n",
       "      <td id=\"T_ec6f0_row0_col1\" class=\"data row0 col1\" >qp.cd(\"dir2\")</td>\n",
       "      <td id=\"T_ec6f0_row0_col2\" class=\"data row0 col2\" >info</td>\n",
       "      <td id=\"T_ec6f0_row0_col3\" class=\"data row0 col3\" >2024-08-05 10:06:58.063534</td>\n",
       "    </tr>\n",
       "  </tbody>\n",
       "</table>\n"
      ],
      "text/plain": [
       "<pandas.io.formats.style.Styler at 0x1d3f58d0b00>"
      ]
     },
     "metadata": {},
     "output_type": "display_data"
    },
    {
     "data": {
      "text/html": [
       "<style type=\"text/css\">\n",
       "#T_beb8a_row0_col0, #T_beb8a_row0_col1, #T_beb8a_row0_col2, #T_beb8a_row0_col3 {\n",
       "  background-color: #c0e7b0;\n",
       "}\n",
       "</style>\n",
       "<table id=\"T_beb8a\">\n",
       "  <thead>\n",
       "  </thead>\n",
       "  <tbody>\n",
       "    <tr>\n",
       "      <th id=\"T_beb8a_level0_row0\" class=\"row_heading level0 row0\" >1470</th>\n",
       "      <td id=\"T_beb8a_row0_col0\" class=\"data row0 col0\" >moved from<br>c:\\Users\\MartinVölkl-GouyaIns\\OneDrive - Gouya Insights\\Desktop\\qplib_dev\\test\\dir1\\dir2<br>to<br>c:\\Users\\MartinVölkl-GouyaIns\\OneDrive - Gouya Insights\\Desktop\\qplib_dev\\test\\dir1</td>\n",
       "      <td id=\"T_beb8a_row0_col1\" class=\"data row0 col1\" >qp.cd(\"c:\\Users\\MartinVölkl-GouyaIns\\OneDrive - Gouya Insights\\Desktop\\qplib_dev\\test\\dir1\")</td>\n",
       "      <td id=\"T_beb8a_row0_col2\" class=\"data row0 col2\" >info</td>\n",
       "      <td id=\"T_beb8a_row0_col3\" class=\"data row0 col3\" >2024-08-05 10:06:58.071162</td>\n",
       "    </tr>\n",
       "  </tbody>\n",
       "</table>\n"
      ],
      "text/plain": [
       "<pandas.io.formats.style.Styler at 0x1d38ca7cb60>"
      ]
     },
     "metadata": {},
     "output_type": "display_data"
    },
    {
     "name": "stdout",
     "output_type": "stream",
     "text": [
      "passed test for going back and forth in directory structure\n"
     ]
    }
   ],
   "source": [
    "\n",
    "if os.path.isdir('test/dir1') is True:\n",
    "    shutil.rmtree('test/dir1')\n",
    "\n",
    "\n",
    "if qp.isdir('test/dir1') is False:\n",
    "    print(f'passed test for non existing directory')\n",
    "else:\n",
    "    raise Exception(f'failed test for non existing directory')\n",
    "\n",
    "\n",
    "qp.mkdir('test/dir1')\n",
    "if qp.isdir('test/dir1') is True:\n",
    "    print(f'passed test for creating and checking for existing directory')\n",
    "else:\n",
    "    raise Exception(f'failed test for creating and checking for existing directory')\n",
    "\n",
    "\n",
    "qp.cd('test/dir1')\n",
    "if qp.pwd().split('\\\\')[-1] == 'dir1':\n",
    "    print(f'passed test for changing directory and finding path to current directory')\n",
    "else:\n",
    "    raise Exception(f'failed test for changing directory and finding path to current directory')\n",
    "\n",
    "\n",
    "qp.mkdir('dir2')\n",
    "qp.cd('dir2')\n",
    "result1 = qp.pwd().split('\\\\')[-1]\n",
    "\n",
    "qp.cd('..')\n",
    "result2 = qp.pwd().split('\\\\')[-1]\n",
    "\n",
    "if result1 == 'dir2' and result2 == 'dir1':\n",
    "    print(f'passed test for going back and forth in directory structure')\n",
    "else:\n",
    "    raise Exception(f'failed test for going back and forth in directory structure')\n",
    "\n",
    "\n",
    "\n",
    "os.chdir(working_directory)\n",
    "shutil.rmtree('test/dir1')"
   ]
  },
  {
   "cell_type": "markdown",
   "metadata": {},
   "source": [
    "# save results"
   ]
  },
  {
   "cell_type": "code",
   "execution_count": 23,
   "metadata": {},
   "outputs": [],
   "source": [
    "clean()"
   ]
  },
  {
   "cell_type": "code",
   "execution_count": 24,
   "metadata": {},
   "outputs": [],
   "source": [
    "\n",
    "# # create html version of this file for documentation\n",
    "# !jupyter nbconvert --to html testing.ipynb\n",
    "\n",
    "# now = datetime.datetime.now().strftime('%Y_%m_%d')\n",
    "# shutil.move('testing.html', f'test/test_report_{now}.html')\n"
   ]
  },
  {
   "cell_type": "markdown",
   "metadata": {},
   "source": [
    "# temp"
   ]
  },
  {
   "cell_type": "code",
   "execution_count": 25,
   "metadata": {},
   "outputs": [],
   "source": [
    "import pandas as pd\n",
    "import numpy as np\n",
    "import copy\n",
    "import os\n",
    "import sys\n",
    "import shutil\n",
    "import datetime\n",
    "import qplib as qp\n",
    "from qplib import log\n",
    "\n",
    "# if 'cards' not in globals():\n",
    "#     cards = pd.read_csv('data/cards.csv')\n",
    "# cards.qi()\n",
    "\n",
    "\n",
    "# df = qp.get_df().format()\n",
    "# df.qi()\n",
    "\n",
    "\n",
    "\n"
   ]
  }
 ],
 "metadata": {
  "kernelspec": {
   "display_name": "Python 3",
   "language": "python",
   "name": "python3"
  },
  "language_info": {
   "codemirror_mode": {
    "name": "ipython",
    "version": 3
   },
   "file_extension": ".py",
   "mimetype": "text/x-python",
   "name": "python",
   "nbconvert_exporter": "python",
   "pygments_lexer": "ipython3",
   "version": "3.12.3"
  }
 },
 "nbformat": 4,
 "nbformat_minor": 2
}
