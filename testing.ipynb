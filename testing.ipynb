{
 "cells": [
  {
   "cell_type": "markdown",
   "metadata": {},
   "source": [
    "# qplib test suite\n",
    "\n",
    "some of the tests should result in colored info, warning or error logs to be shown. These are expected function behaviour under the test conditions and do not indicate a test was passed or failed. Instead the relevant messages are those starting with \"passed test...\" or \"failed test...\".  \n",
    "if any test fails, the script stops and does not save a test_report."
   ]
  },
  {
   "cell_type": "markdown",
   "metadata": {},
   "source": [
    "# imports"
   ]
  },
  {
   "cell_type": "code",
   "execution_count": 1,
   "metadata": {},
   "outputs": [],
   "source": [
    "import pandas as pd\n",
    "import numpy as np\n",
    "import copy\n",
    "import os\n",
    "import shutil\n",
    "import datetime\n",
    "import qplib as qp\n",
    "from qplib import log\n",
    "\n",
    "working_directory = os.getcwd()\n",
    "\n"
   ]
  },
  {
   "cell_type": "markdown",
   "metadata": {},
   "source": [
    "# types"
   ]
  },
  {
   "cell_type": "code",
   "execution_count": 2,
   "metadata": {},
   "outputs": [],
   "source": [
    "def compare(result, expected):\n",
    "    if result == expected:\n",
    "        print(f'passed test for type conversion to: {expected}')\n",
    "    else:\n",
    "        raise Exception(f'failed test for type conversion to: {expected}')"
   ]
  },
  {
   "cell_type": "markdown",
   "metadata": {},
   "source": [
    "## error raising"
   ]
  },
  {
   "cell_type": "code",
   "execution_count": 3,
   "metadata": {},
   "outputs": [
    {
     "name": "stdout",
     "output_type": "stream",
     "text": [
      "passed test for raising correct error for: qp.qp_na(\"abc\")\n",
      "passed test for raising correct error for: qp.qp_nk(\"abc\")\n",
      "passed test for raising correct error for: qp.qp_num(\"abc\")\n",
      "passed test for raising correct error for: qp.qp_yn(\"abc\")\n",
      "passed test for raising correct error for: qp.qp_date(\"abc\")\n",
      "passed test for raising correct error for: qp.qp_datetime(\"abc\")\n"
     ]
    }
   ],
   "source": [
    "#checking if correct error is raised\n",
    "type_funcs = [\n",
    "    qp.na,\n",
    "    qp.nk,\n",
    "    qp.num,\n",
    "    qp.yn,\n",
    "    qp.date,\n",
    "    qp.datetime,\n",
    "    ]\n",
    "\n",
    "for func in type_funcs:\n",
    "    try:\n",
    "        func('abc', errors='raise')\n",
    "    except ValueError:\n",
    "        func = str(func).split('<function ')[1].split(' at')[0]\n",
    "        print(f'passed test for raising correct error for: qp.{func}(\"abc\")')\n",
    "    except:\n",
    "        raise"
   ]
  },
  {
   "cell_type": "markdown",
   "metadata": {},
   "source": [
    "## num"
   ]
  },
  {
   "cell_type": "code",
   "execution_count": 4,
   "metadata": {},
   "outputs": [
    {
     "name": "stdout",
     "output_type": "stream",
     "text": [
      "passed test for type conversion to: None\n",
      "passed test for type conversion to: abc\n",
      "passed test for type conversion to: test\n",
      "passed test for type conversion to: 1\n",
      "passed test for type conversion to: 1.0\n",
      "passed test for type conversion to: 1.1\n",
      "passed test for type conversion to: 0\n",
      "passed test for type conversion to: 0.0\n",
      "passed test for type conversion to: 0.1\n",
      "passed test for type conversion to: -1\n",
      "passed test for type conversion to: -1.0\n",
      "passed test for type conversion to: -1.1\n",
      "passed test for type conversion to: 1\n",
      "passed test for type conversion to: 1.0\n",
      "passed test for type conversion to: 1.1\n",
      "passed test for type conversion to: 0\n",
      "passed test for type conversion to: 0.0\n",
      "passed test for type conversion to: 0.1\n",
      "passed test for type conversion to: -1\n",
      "passed test for type conversion to: -1.0\n",
      "passed test for type conversion to: -1.1\n"
     ]
    }
   ],
   "source": [
    "#numbers\n",
    "compare(qp.num('abc', errors='coerce', na=None), None)\n",
    "compare(qp.num('abc', errors='ignore'), 'abc')\n",
    "compare(qp.num('abc', errors='test'), 'test')\n",
    "\n",
    "compare(qp.num('1'), 1)\n",
    "compare(qp.num('1.0'), 1.0)\n",
    "compare(qp.num('1.1'), 1.1)\n",
    "\n",
    "compare(qp.num('0'), 0)\n",
    "compare(qp.num('0.0'), 0.0)\n",
    "compare(qp.num('0.1'), 0.1)\n",
    "\n",
    "compare(qp.num('-1'), -1)\n",
    "compare(qp.num('-1.0'), -1.0)\n",
    "compare(qp.num('-1.1'), -1.1)\n",
    "\n",
    "compare(qp.num(1), 1)\n",
    "compare(qp.num(1.0), 1.0)\n",
    "compare(qp.num(1.1), 1.1)\n",
    "\n",
    "compare(qp.num(0), 0)\n",
    "compare(qp.num(0.0), 0.0)\n",
    "compare(qp.num(0.1), 0.1)\n",
    "\n",
    "compare(qp.num(-1), -1)\n",
    "compare(qp.num(-1.0), -1.0)\n",
    "compare(qp.num(-1.1), -1.1)\n"
   ]
  },
  {
   "cell_type": "markdown",
   "metadata": {},
   "source": [
    "## date"
   ]
  },
  {
   "cell_type": "code",
   "execution_count": 5,
   "metadata": {},
   "outputs": [
    {
     "name": "stdout",
     "output_type": "stream",
     "text": [
      "passed test for type conversion to: None\n",
      "passed test for type conversion to: abc\n",
      "passed test for type conversion to: test\n",
      "passed test for type conversion to: 2020-01-01\n",
      "passed test for type conversion to: 2020-01-01\n",
      "passed test for type conversion to: 2020-01-01\n",
      "passed test for type conversion to: 2020-01-01\n",
      "passed test for type conversion to: 2020-01-01\n",
      "passed test for type conversion to: 2020-01-01\n",
      "passed test for type conversion to: 2020-01-01\n",
      "passed test for type conversion to: 2020-01-01\n",
      "passed test for type conversion to: 2020-01-01\n",
      "passed test for type conversion to: 2020-01-01\n",
      "passed test for type conversion to: 2020-01-01\n",
      "passed test for type conversion to: 2020-01-01\n",
      "passed test for type conversion to: 2020-01-01\n",
      "passed test for type conversion to: 2020-01-01\n",
      "passed test for type conversion to: 2020-01-01\n",
      "passed test for type conversion to: 2020-01-01\n",
      "passed test for type conversion to: 2020-01-01\n",
      "passed test for type conversion to: 2020-01-01\n",
      "passed test for type conversion to: 2020-01-01\n",
      "passed test for type conversion to: 2020-01-01\n",
      "passed test for type conversion to: 2020-01-01\n",
      "passed test for type conversion to: 2020-01-01\n",
      "passed test for type conversion to: 2020-01-02\n",
      "passed test for type conversion to: 2020-01-02\n",
      "passed test for type conversion to: 2020-01-02\n",
      "passed test for type conversion to: 2020-01-02\n",
      "passed test for type conversion to: 2020-01-02\n",
      "passed test for type conversion to: 2020-01-02\n",
      "passed test for type conversion to: 2020-01-02\n",
      "passed test for type conversion to: 2020-01-02\n"
     ]
    }
   ],
   "source": [
    "#date\n",
    "\n",
    "compare(qp.date('abc', errors='coerce', na=None), None)\n",
    "compare(qp.date('abc', errors='ignore'), 'abc')\n",
    "compare(qp.date('abc', errors='test'), 'test')\n",
    "\n",
    "compare(qp.date('2020-01-01'), datetime.date(2020, 1, 1))\n",
    "compare(qp.date('2020-01-01 00:00:00'), datetime.date(2020, 1, 1))\n",
    "\n",
    "compare(qp.date('2020.01.01'), datetime.date(2020, 1, 1))\n",
    "compare(qp.date('2020/01/01'), datetime.date(2020, 1, 1))\n",
    "compare(qp.date('2020 01 01'), datetime.date(2020, 1, 1))\n",
    "compare(qp.date('20200101'), datetime.date(2020, 1, 1))\n",
    "\n",
    "compare(qp.date('2020 Jan 01'), datetime.date(2020, 1, 1))\n",
    "compare(qp.date('2020 January 01'), datetime.date(2020, 1, 1))\n",
    "compare(qp.date('2020 Jan 1'), datetime.date(2020, 1, 1))\n",
    "compare(qp.date('2020 January 1'), datetime.date(2020, 1, 1))\n",
    "\n",
    "compare(qp.date('Jan 01 2020'), datetime.date(2020, 1, 1))\n",
    "compare(qp.date('January 01 2020'), datetime.date(2020, 1, 1))\n",
    "compare(qp.date('Jan 1 2020'), datetime.date(2020, 1, 1))\n",
    "compare(qp.date('January 1 2020'), datetime.date(2020, 1, 1))\n",
    "\n",
    "compare(qp.date('01 Jan 2020'), datetime.date(2020, 1, 1))\n",
    "compare(qp.date('01 January 2020'), datetime.date(2020, 1, 1))\n",
    "compare(qp.date('1 Jan 2020'), datetime.date(2020, 1, 1))\n",
    "compare(qp.date('1 January 2020'), datetime.date(2020, 1, 1))\n",
    "\n",
    "compare(qp.date('01-01-2020'), datetime.date(2020, 1, 1))\n",
    "compare(qp.date('01.01.2020'), datetime.date(2020, 1, 1))\n",
    "compare(qp.date('01/01/2020'), datetime.date(2020, 1, 1))\n",
    "compare(qp.date('01 01 2020'), datetime.date(2020, 1, 1))\n",
    "\n",
    "compare(qp.date('02-01-20'), datetime.date(2020, 1, 2))\n",
    "compare(qp.date('02.01.20'), datetime.date(2020, 1, 2))\n",
    "compare(qp.date('02/01/20'), datetime.date(2020, 1, 2))\n",
    "compare(qp.date('02 01 20'), datetime.date(2020, 1, 2))\n",
    "\n",
    "compare(qp.date('2020-01-02'), datetime.date(2020, 1, 2))\n",
    "compare(qp.date('2020.01.02'), datetime.date(2020, 1, 2))\n",
    "compare(qp.date('2020/01/02'), datetime.date(2020, 1, 2))\n",
    "compare(qp.date('2020 01 02'), datetime.date(2020, 1, 2))"
   ]
  },
  {
   "cell_type": "markdown",
   "metadata": {},
   "source": [
    "## datetime"
   ]
  },
  {
   "cell_type": "code",
   "execution_count": 6,
   "metadata": {},
   "outputs": [
    {
     "name": "stdout",
     "output_type": "stream",
     "text": [
      "passed test for type conversion to: None\n",
      "passed test for type conversion to: abc\n",
      "passed test for type conversion to: test\n",
      "passed test for type conversion to: 2020-01-01 00:00:00\n",
      "passed test for type conversion to: 2020-01-01 00:00:00\n",
      "passed test for type conversion to: 2020-01-01 00:00:01\n",
      "passed test for type conversion to: 2020-01-01 00:01:00\n",
      "passed test for type conversion to: 2020-01-01 01:00:00\n",
      "passed test for type conversion to: 2020-01-01 01:01:01\n",
      "passed test for type conversion to: 2020-01-01 00:00:00\n",
      "passed test for type conversion to: 2020-01-01 00:00:00\n",
      "passed test for type conversion to: 2020-01-01 00:00:00\n",
      "passed test for type conversion to: 2020-01-01 00:00:00\n",
      "passed test for type conversion to: 2020-01-01 00:00:00\n",
      "passed test for type conversion to: 2020-01-01 00:00:00\n",
      "passed test for type conversion to: 2020-01-01 00:00:00\n",
      "passed test for type conversion to: 2020-01-01 00:00:00\n",
      "passed test for type conversion to: 2020-01-01 00:00:00\n",
      "passed test for type conversion to: 2020-01-01 00:00:00\n",
      "passed test for type conversion to: 2020-01-01 00:00:00\n",
      "passed test for type conversion to: 2020-01-01 00:00:00\n",
      "passed test for type conversion to: 2020-01-01 00:00:00\n",
      "passed test for type conversion to: 2020-01-01 00:00:00\n",
      "passed test for type conversion to: 2020-01-01 00:00:00\n",
      "passed test for type conversion to: 2020-01-01 00:00:00\n",
      "passed test for type conversion to: 2020-01-01 00:00:00\n",
      "passed test for type conversion to: 2020-01-01 00:00:00\n",
      "passed test for type conversion to: 2020-01-01 00:00:00\n",
      "passed test for type conversion to: 2020-01-02 00:00:00\n",
      "passed test for type conversion to: 2020-01-02 00:00:00\n",
      "passed test for type conversion to: 2020-01-02 00:00:00\n",
      "passed test for type conversion to: 2020-01-02 00:00:00\n",
      "passed test for type conversion to: 2020-01-02 00:00:00\n",
      "passed test for type conversion to: 2020-01-02 00:00:00\n",
      "passed test for type conversion to: 2020-01-02 00:00:00\n",
      "passed test for type conversion to: 2020-01-02 00:00:00\n"
     ]
    }
   ],
   "source": [
    "#datetime\n",
    "\n",
    "compare(qp.datetime('abc', errors='coerce', na=None), None)\n",
    "compare(qp.datetime('abc', errors='ignore'), 'abc')\n",
    "compare(qp.datetime('abc', errors='test'), 'test')\n",
    "\n",
    "compare(qp.datetime('2020-01-01'), datetime.datetime(2020, 1, 1))\n",
    "compare(qp.datetime('2020-01-01 00:00:00'), datetime.datetime(2020, 1, 1))\n",
    "compare(qp.datetime('2020-01-01 00:00:01'), datetime.datetime(2020, 1, 1, 0, 0, 1))\n",
    "compare(qp.datetime('2020-01-01 00:01:00'), datetime.datetime(2020, 1, 1, 0, 1, 0))\n",
    "compare(qp.datetime('2020-01-01 01:00:00'), datetime.datetime(2020, 1, 1, 1, 0, 0))\n",
    "compare(qp.datetime('2020-01-01 01:01:01'), datetime.datetime(2020, 1, 1, 1, 1, 1))\n",
    "\n",
    "compare(qp.datetime('2020.01.01'), datetime.datetime(2020, 1, 1))\n",
    "compare(qp.datetime('2020/01/01'), datetime.datetime(2020, 1, 1))\n",
    "compare(qp.datetime('2020 01 01'), datetime.datetime(2020, 1, 1))\n",
    "compare(qp.datetime('20200101'), datetime.datetime(2020, 1, 1))\n",
    "\n",
    "compare(qp.datetime('2020 Jan 01'), datetime.datetime(2020, 1, 1))\n",
    "compare(qp.datetime('2020 January 01'), datetime.datetime(2020, 1, 1))\n",
    "compare(qp.datetime('2020 Jan 1'), datetime.datetime(2020, 1, 1))\n",
    "compare(qp.datetime('2020 January 1'), datetime.datetime(2020, 1, 1))\n",
    "\n",
    "compare(qp.datetime('Jan 01 2020'), datetime.datetime(2020, 1, 1))\n",
    "compare(qp.datetime('January 01 2020'), datetime.datetime(2020, 1, 1))\n",
    "compare(qp.datetime('Jan 1 2020'), datetime.datetime(2020, 1, 1))\n",
    "compare(qp.datetime('January 1 2020'), datetime.datetime(2020, 1, 1))\n",
    "\n",
    "compare(qp.datetime('01 Jan 2020'), datetime.datetime(2020, 1, 1))\n",
    "compare(qp.datetime('01 January 2020'), datetime.datetime(2020, 1, 1))\n",
    "compare(qp.datetime('1 Jan 2020'), datetime.datetime(2020, 1, 1))\n",
    "compare(qp.datetime('1 January 2020'), datetime.datetime(2020, 1, 1))\n",
    "\n",
    "compare(qp.datetime('01-01-2020'), datetime.datetime(2020, 1, 1))\n",
    "compare(qp.datetime('01.01.2020'), datetime.datetime(2020, 1, 1))\n",
    "compare(qp.datetime('01/01/2020'), datetime.datetime(2020, 1, 1))\n",
    "\n",
    "compare(qp.datetime('02-01-20'), datetime.datetime(2020, 1, 2))\n",
    "compare(qp.datetime('02.01.20'), datetime.datetime(2020, 1, 2))\n",
    "compare(qp.datetime('02/01/20'), datetime.datetime(2020, 1, 2))\n",
    "compare(qp.datetime('02 01 20'), datetime.datetime(2020, 1, 2))\n",
    "\n",
    "compare(qp.datetime('2020-01-02'), datetime.datetime(2020, 1, 2))\n",
    "compare(qp.datetime('2020.01.02'), datetime.datetime(2020, 1, 2))\n",
    "compare(qp.datetime('2020/01/02'), datetime.datetime(2020, 1, 2))\n",
    "compare(qp.datetime('2020 01 02'), datetime.datetime(2020, 1, 2))\n"
   ]
  },
  {
   "cell_type": "markdown",
   "metadata": {},
   "source": [
    "## na"
   ]
  },
  {
   "cell_type": "code",
   "execution_count": 7,
   "metadata": {},
   "outputs": [
    {
     "name": "stdout",
     "output_type": "stream",
     "text": [
      "passed test for type conversion to: None\n",
      "passed test for type conversion to: 1\n",
      "passed test for type conversion to: test\n",
      "passed test for type conversion to: test\n",
      "passed test for type conversion to: None\n",
      "passed test for type conversion to: None\n",
      "passed test for type conversion to: None\n",
      "passed test for type conversion to: None\n",
      "passed test for type conversion to: None\n",
      "passed test for type conversion to: None\n",
      "passed test for type conversion to: None\n",
      "passed test for type conversion to: None\n",
      "passed test for type conversion to: None\n",
      "passed test for type conversion to: None\n",
      "passed test for type conversion to: None\n",
      "passed test for type conversion to: None\n",
      "passed test for type conversion to: None\n",
      "passed test for type conversion to: None\n",
      "passed test for type conversion to: None\n",
      "passed test for type conversion to: None\n",
      "passed test for type conversion to: None\n",
      "passed test for type conversion to: None\n",
      "passed test for type conversion to: None\n",
      "passed test for type conversion to: None\n",
      "passed test for type conversion to: None\n",
      "passed test for type conversion to: None\n",
      "passed test for type conversion to: None\n",
      "passed test for type conversion to: None\n",
      "passed test for type conversion to: None\n",
      "passed test for type conversion to: None\n",
      "passed test for type conversion to: None\n",
      "passed test for type conversion to: None\n",
      "passed test for type conversion to: None\n",
      "passed test for type conversion to: None\n",
      "passed test for type conversion to: None\n",
      "passed test for type conversion to: None\n"
     ]
    }
   ],
   "source": [
    "#not available\n",
    "\n",
    "compare(qp.na(1, errors='coerce'), None)\n",
    "compare(qp.na(1, errors='ignore'), 1)\n",
    "compare(qp.na(1, errors='test'), 'test')\n",
    "compare(qp.na('na', na='test'), 'test')\n",
    "\n",
    "compare(qp.na('na'), None)\n",
    "compare(qp.na('nA'), None)\n",
    "compare(qp.na('Na'), None)\n",
    "compare(qp.na('NA'), None)\n",
    "\n",
    "compare(qp.na('n.a.'), None)\n",
    "compare(qp.na('n.a'), None)\n",
    "compare(qp.na('N.A'), None)\n",
    "compare(qp.na('N.A.'), None)\n",
    "compare(qp.na('n/a'), None)\n",
    "compare(qp.na('N/A'), None)\n",
    "\n",
    "compare(qp.na('nan'), None)\n",
    "compare(qp.na('NaN'), None)\n",
    "compare(qp.na('NAN'), None)\n",
    "compare(qp.na('Nan'), None)\n",
    "compare(qp.na('nAn'), None)\n",
    "compare(qp.na('nAN'), None)\n",
    "compare(qp.na('naN'), None)\n",
    "\n",
    "compare(qp.na('none'), None)\n",
    "compare(qp.na('None'), None)\n",
    "compare(qp.na('NONE'), None)\n",
    "\n",
    "compare(qp.na('null'), None)\n",
    "compare(qp.na('Null'), None)\n",
    "compare(qp.na('NULL'), None)\n",
    "\n",
    "compare(qp.na('nil'), None)\n",
    "compare(qp.na('Nil'), None)\n",
    "compare(qp.na('NIL'), None)\n",
    "\n",
    "compare(qp.na('not available'), None)\n",
    "compare(qp.na('Not Available'), None)\n",
    "compare(qp.na('NOT AVAILABLE'), None)\n",
    "\n",
    "compare(qp.na('not a number'), None)\n",
    "compare(qp.na('Not A Number'), None)\n",
    "compare(qp.na('NOT A NUMBER'), None)\n"
   ]
  },
  {
   "cell_type": "markdown",
   "metadata": {},
   "source": [
    "## nk"
   ]
  },
  {
   "cell_type": "code",
   "execution_count": 8,
   "metadata": {},
   "outputs": [
    {
     "name": "stdout",
     "output_type": "stream",
     "text": [
      "passed test for type conversion to: None\n",
      "passed test for type conversion to: 1\n",
      "passed test for type conversion to: test\n",
      "passed test for type conversion to: test\n",
      "passed test for type conversion to: unknown\n",
      "passed test for type conversion to: unknown\n",
      "passed test for type conversion to: unknown\n",
      "passed test for type conversion to: unknown\n",
      "passed test for type conversion to: unknown\n",
      "passed test for type conversion to: unknown\n",
      "passed test for type conversion to: unknown\n",
      "passed test for type conversion to: unknown\n",
      "passed test for type conversion to: unknown\n",
      "passed test for type conversion to: unknown\n",
      "passed test for type conversion to: unknown\n",
      "passed test for type conversion to: unknown\n",
      "passed test for type conversion to: unknown\n",
      "passed test for type conversion to: unknown\n",
      "passed test for type conversion to: unknown\n",
      "passed test for type conversion to: unknown\n",
      "passed test for type conversion to: unknown\n",
      "passed test for type conversion to: unknown\n",
      "passed test for type conversion to: unknown\n",
      "passed test for type conversion to: unknown\n",
      "passed test for type conversion to: unknown\n",
      "passed test for type conversion to: unknown\n",
      "passed test for type conversion to: unknown\n",
      "passed test for type conversion to: unknown\n",
      "passed test for type conversion to: unknown\n"
     ]
    }
   ],
   "source": [
    "#not known\n",
    "\n",
    "compare(qp.nk(1, errors='coerce'), None)\n",
    "compare(qp.nk(1, errors='ignore'), 1)\n",
    "compare(qp.nk(1, errors='test'), 'test')\n",
    "compare(qp.nk('nk', nk='test'), 'test')\n",
    "\n",
    "compare(qp.nk('nk'), 'unknown')\n",
    "compare(qp.nk('nK'), 'unknown')\n",
    "compare(qp.nk('Nk'), 'unknown')\n",
    "compare(qp.nk('NK'), 'unknown')\n",
    "\n",
    "compare(qp.nk('n.k.'), 'unknown')\n",
    "compare(qp.nk('n.k'), 'unknown')\n",
    "compare(qp.nk('N.K'), 'unknown')\n",
    "compare(qp.nk('N.K.'), 'unknown')\n",
    "compare(qp.nk('n/k'), 'unknown')\n",
    "compare(qp.nk('N/K'), 'unknown')\n",
    "\n",
    "compare(qp.nk('not known'), 'unknown')\n",
    "compare(qp.nk('Not Known'), 'unknown')\n",
    "compare(qp.nk('NOT KNOWN'), 'unknown')\n",
    "\n",
    "compare(qp.nk('not known.'), 'unknown')\n",
    "compare(qp.nk('Not Known.'), 'unknown')\n",
    "compare(qp.nk('NOT KNOWN.'), 'unknown')\n",
    "\n",
    "compare(qp.nk('unknown'), 'unknown')\n",
    "compare(qp.nk('Unknown'), 'unknown')\n",
    "compare(qp.nk('UNKNOWN'), 'unknown')\n",
    "\n",
    "compare(qp.nk('not specified'), 'unknown')\n",
    "compare(qp.nk('Not Specified'), 'unknown')\n",
    "compare(qp.nk('NOT SPECIFIED'), 'unknown')\n",
    "\n",
    "compare(qp.nk('not specified.'), 'unknown')\n",
    "compare(qp.nk('Not Specified.'), 'unknown')\n",
    "compare(qp.nk('NOT SPECIFIED.'), 'unknown')\n"
   ]
  },
  {
   "cell_type": "markdown",
   "metadata": {},
   "source": [
    "## yn"
   ]
  },
  {
   "cell_type": "code",
   "execution_count": 9,
   "metadata": {},
   "outputs": [
    {
     "name": "stdout",
     "output_type": "stream",
     "text": [
      "passed test for type conversion to: None\n",
      "passed test for type conversion to: abc\n",
      "passed test for type conversion to: test\n",
      "passed test for type conversion to: yes\n",
      "passed test for type conversion to: yes\n",
      "passed test for type conversion to: yes\n",
      "passed test for type conversion to: no\n",
      "passed test for type conversion to: no\n",
      "passed test for type conversion to: no\n",
      "passed test for type conversion to: yes\n",
      "passed test for type conversion to: yes\n",
      "passed test for type conversion to: no\n",
      "passed test for type conversion to: no\n",
      "passed test for type conversion to: yes\n",
      "passed test for type conversion to: no\n",
      "passed test for type conversion to: yes\n",
      "passed test for type conversion to: no\n",
      "passed test for type conversion to: yes\n",
      "passed test for type conversion to: yes\n",
      "passed test for type conversion to: yes\n",
      "passed test for type conversion to: no\n",
      "passed test for type conversion to: no\n",
      "passed test for type conversion to: no\n",
      "passed test for type conversion to: yes\n",
      "passed test for type conversion to: yes\n",
      "passed test for type conversion to: yes\n",
      "passed test for type conversion to: no\n",
      "passed test for type conversion to: no\n",
      "passed test for type conversion to: no\n",
      "passed test for type conversion to: yes\n",
      "passed test for type conversion to: yes\n",
      "passed test for type conversion to: yes\n",
      "passed test for type conversion to: no\n",
      "passed test for type conversion to: no\n",
      "passed test for type conversion to: no\n"
     ]
    }
   ],
   "source": [
    "#yes no\n",
    "compare(qp.yn('abc', errors='coerce'), None)\n",
    "compare(qp.yn('abc', errors='ignore'), 'abc')\n",
    "compare(qp.yn('abc', errors='test'), 'test')\n",
    "\n",
    "compare(qp.yn('yes'), 'yes')\n",
    "compare(qp.yn('Yes'), 'yes')\n",
    "compare(qp.yn('YES'), 'yes')\n",
    "\n",
    "compare(qp.yn('no'), 'no')\n",
    "compare(qp.yn('No'), 'no')\n",
    "compare(qp.yn('NO'), 'no')\n",
    "\n",
    "compare(qp.yn('y'), 'yes')\n",
    "compare(qp.yn('Y'), 'yes')\n",
    "\n",
    "compare(qp.yn('n'), 'no')\n",
    "compare(qp.yn('N'), 'no')\n",
    "\n",
    "compare(qp.yn('1'), 'yes')\n",
    "compare(qp.yn('0'), 'no')\n",
    "\n",
    "compare(qp.yn(1), 'yes')\n",
    "compare(qp.yn(0), 'no')\n",
    "\n",
    "compare(qp.yn('true'), 'yes')\n",
    "compare(qp.yn('True'), 'yes')\n",
    "compare(qp.yn('TRUE'), 'yes')\n",
    "\n",
    "compare(qp.yn('false'), 'no')\n",
    "compare(qp.yn('False'), 'no')\n",
    "compare(qp.yn('FALSE'), 'no')\n",
    "\n",
    "compare(qp.yn('pos'), 'yes')\n",
    "compare(qp.yn('Pos'), 'yes')\n",
    "compare(qp.yn('POS'), 'yes')\n",
    "\n",
    "compare(qp.yn('neg'), 'no')\n",
    "compare(qp.yn('Neg'), 'no')\n",
    "compare(qp.yn('NEG'), 'no')\n",
    "\n",
    "compare(qp.yn('positive'), 'yes')\n",
    "compare(qp.yn('Positive'), 'yes')\n",
    "compare(qp.yn('POSITIVE'), 'yes')\n",
    "\n",
    "compare(qp.yn('negative'), 'no')\n",
    "compare(qp.yn('Negative'), 'no')\n",
    "compare(qp.yn('NEGATIVE'), 'no')\n"
   ]
  },
  {
   "cell_type": "markdown",
   "metadata": {},
   "source": [
    "## qp.dict"
   ]
  },
  {
   "cell_type": "code",
   "execution_count": 10,
   "metadata": {},
   "outputs": [
    {
     "name": "stdout",
     "output_type": "stream",
     "text": [
      "passed test for dict.values_flat()\n",
      "passed test for dict.invert()\n"
     ]
    }
   ],
   "source": [
    "#wip\n",
    "\n",
    "dict1 = qp.dict({\n",
    "    'a': [1, 2, 3, 4, 5],\n",
    "    'b': (1, 2, 3, 4, 5),\n",
    "    'c': {'a': 1, 'b': 2, 'c': 3, 'd': 4, 'e': 5},\n",
    "    'd': {1, 2, 3, 4, 5},\n",
    "    'e': np.array([1, 2, 3, 4, 5]),\n",
    "    'f': pd.Series([1, 2, 3, 4, 5]),\n",
    "    })\n",
    "\n",
    "result = dict1.values_flat()\n",
    "expected = [\n",
    "    1, 2, 3, 4, 5, \n",
    "    1, 2, 3, 4, 5, \n",
    "    1, 2, 3, 4, 5, \n",
    "    1, 2, 3, 4, 5, \n",
    "    1, 2, 3, 4, 5, \n",
    "    1, 2, 3, 4, 5,\n",
    "    ]\n",
    "if result == expected:\n",
    "    print('passed test for dict.values_flat()')\n",
    "else:\n",
    "    raise Exception('failed test for dict.values_flat()')\n",
    "\n",
    "\n",
    "dict2 = qp.dict({\n",
    "    'a': '1',\n",
    "    'b': '2',\n",
    "    'c': '3',\n",
    "    })\n",
    "result = dict2.invert()\n",
    "expected = {\n",
    "    '1': 'a',\n",
    "    '2': 'b',\n",
    "    '3': 'c',\n",
    "    }\n",
    "if result == expected:\n",
    "    print('passed test for dict.invert()')\n",
    "else:\n",
    "    raise Exception('failed test for dict.invert()')\n"
   ]
  },
  {
   "cell_type": "markdown",
   "metadata": {},
   "source": [
    "# pd.DataFrame.q()"
   ]
  },
  {
   "cell_type": "code",
   "execution_count": 11,
   "metadata": {},
   "outputs": [],
   "source": [
    "def compare(result, expected_df, text=None):\n",
    "    if not result.equals(expected_df):\n",
    "        print(f'failed test for arg: \"{result.qp.code}\"')\n",
    "\n",
    "        print('result:')\n",
    "        display(result)\n",
    "        print('expected:')\n",
    "        display(expected_df)\n",
    "        if text is None:\n",
    "            raise Exception(f'failed test for arg: \"{result.qp.code}\"')\n",
    "        else:\n",
    "            raise Exception(f'failed test for: {text}')\n",
    "    else:\n",
    "        if text is None:\n",
    "            print(f'passed test for arg: \"{result.qp.code}\"')\n",
    "        else:\n",
    "            print(f'passed test for: {text}')\n",
    "\n",
    "\n",
    "def get_df_simple():\n",
    "    df = pd.DataFrame({\n",
    "        'a': [-1, 0, 1],\n",
    "        'b': [1, 2, 3]\n",
    "        })\n",
    "    return df\n",
    "\n",
    "def get_df_simple_tagged():\n",
    "    df = pd.DataFrame({\n",
    "        'meta': ['', '', ''],\n",
    "        'a': [-1, 0, 1],\n",
    "        'b': [1, 2, 3]\n",
    "        })\n",
    "    df.index = [0, 1, 2]\n",
    "    return df\n",
    "\n",
    "\n",
    "def get_df():\n",
    "    df = pd.DataFrame({\n",
    "        'ID': [10001, 10002, 10003, 20001, 20002, 20003, 30001, 30002, 30003, 30004, 30005],\n",
    "        'name': ['John Doe', 'Jane Smith', 'Alice Johnson', 'Bob Brown', 'eva white', 'Frank miller', 'Grace TAYLOR', 'Harry Clark', 'IVY GREEN', 'JAck Williams', 'john Doe'],\n",
    "        'date of birth': ['1995-01-02', '1990/09/14', '1985.08.23', '19800406', '05-11-2007', '06-30-1983', '28-05-1975', '1960Mar08', '1955-Jan-09', '1950 Sep 10', '1945 October 11'],\n",
    "        'age': [-25, '30', np.nan, None, '40.0', 'forty-five', 'nan', 'unk', '', 'unknown', 35],\n",
    "        'gender': ['M', 'F', 'Female', 'Male', 'Other', 'm', 'ff', 'NaN', None, 'Mal', 'female'],\n",
    "        'height': [170, '175.5cm', None, '280', 'NaN', '185', '1', '6ft 1in', -10, '', 200],\n",
    "        'weight': [70.2, '68', '72.5lb', 'na', '', '75kg', None, '80.3', '130lbs', '82', -65],\n",
    "        'bp systole': ['20', 130, 'NaN', '140', '135mmhg', '125', 'NAN', '122', '', 130, '45'],\n",
    "        'bp diastole': [80, '85', 'nan', '90mmHg', np.nan, '75', 'NaN', None, '95', '0', 'NaN'],\n",
    "        'cholesterol': ['Normal', 'Highe', 'NaN', 'GOOD', 'n.a.', 'High', 'Normal', 'n/a', 'high', '', 'Normal'],\n",
    "        'diabetes': ['No', 'yes', 'N/A', 'No', 'Y', 'Yes', 'NO', None, 'NaN', 'n', 'Yes'],\n",
    "        'dose': ['10kg', 'NaN', '15 mg once a day', '20mg', '20 Mg', '25g', 'NaN', None, '30 MG', '35', '40ml']\n",
    "        })\n",
    "    return df\n",
    "\n",
    "def get_df_tagged():\n",
    "    df1 = get_df()\n",
    "    df2 = pd.DataFrame('', index=df1.index, columns=['meta', *df1.columns])\n",
    "    df2.iloc[:, 1:] = df1.loc[:, :]\n",
    "    return df2"
   ]
  },
  {
   "cell_type": "markdown",
   "metadata": {},
   "source": [
    "## filtering"
   ]
  },
  {
   "cell_type": "code",
   "execution_count": 12,
   "metadata": {},
   "outputs": [
    {
     "name": "stderr",
     "output_type": "stream",
     "text": [
      "<>:191: SyntaxWarning: invalid escape sequence '\\d'\n",
      "<>:191: SyntaxWarning: invalid escape sequence '\\d'\n",
      "C:\\Users\\MartinVölkl-GouyaIns\\AppData\\Local\\Temp\\ipykernel_35584\\245970109.py:191: SyntaxWarning: invalid escape sequence '\\d'\n",
      "  result = df.q('bp systole ´r ~\\d', verbosity=0)\n"
     ]
    },
    {
     "data": {
      "text/html": [
       "<style type=\"text/css\">\n",
       "#T_85795_row0_col0, #T_85795_row0_col1, #T_85795_row0_col2, #T_85795_row0_col3 {\n",
       "  background-color: #c0e7b0;\n",
       "}\n",
       "</style>\n",
       "<table id=\"T_85795\">\n",
       "  <thead>\n",
       "  </thead>\n",
       "  <tbody>\n",
       "    <tr>\n",
       "      <th id=\"T_85795_level0_row0\" class=\"row_heading level0 row0\" >0</th>\n",
       "      <td id=\"T_85795_row0_col0\" class=\"data row0 col0\" >df was checked. no problems found</td>\n",
       "      <td id=\"T_85795_row0_col1\" class=\"data row0 col1\" >qp.pd_util._check_df</td>\n",
       "      <td id=\"T_85795_row0_col2\" class=\"data row0 col2\" >info</td>\n",
       "      <td id=\"T_85795_row0_col3\" class=\"data row0 col3\" >2024-07-25 11:30:33.591170</td>\n",
       "    </tr>\n",
       "  </tbody>\n",
       "</table>\n"
      ],
      "text/plain": [
       "<pandas.io.formats.style.Styler at 0x287d00965d0>"
      ]
     },
     "metadata": {},
     "output_type": "display_data"
    },
    {
     "name": "stdout",
     "output_type": "stream",
     "text": [
      "passed test for arg: \"date of birth\"\n",
      "passed test for arg: \"=date of birth\"\n",
      "passed test for arg: \"date of birth / age\"\n",
      "passed test for arg: \"date of birth / =age\"\n",
      "passed test for arg: \"=date of birth / age\"\n",
      "passed test for arg: \"=date of birth / =age\"\n",
      "passed test for arg: \"!=date of birth\"\n",
      "passed test for arg: \"\"\n",
      "passed test for arg: \"=ID\"\n",
      "passed test for arg: \"=ID\"\n",
      "passed test for arg: \"=\"\n",
      "passed test for arg: \"\n",
      "    =ID\n",
      "    ID\n",
      "    \"\n",
      "passed test for arg: \"\n",
      "    ID\n",
      "    age\n",
      "    \"\n",
      "passed test for arg: \"\n",
      "    ID\n",
      "    / age\n",
      "    \"\n",
      "passed test for arg: \"()bp\"\n",
      "passed test for arg: \"()I\"\n",
      "passed test for arg: \"(())I\"\n",
      "passed test for arg: \"~~.\"\n",
      "passed test for arg: \"~~..\"\n",
      "passed test for arg: \"()bp / =diabetes\"\n",
      "passed test for arg: \"()bp / =diabetes / =cholesterol\"\n",
      "passed test for arg: \"()bp / =cholesterol / =diabetes\"\n",
      "passed test for arg: \"()bp & ()systole\"\n",
      "passed test for arg: \"()bp & !()systole\"\n",
      "passed test for arg: \"()i & ~~..\"\n",
      "passed test for arg: \"name ´r is str\"\n",
      "passed test for arg: \"name ´r !is str\"\n",
      "passed test for arg: \"name ´r is num\"\n",
      "passed test for arg: \"name ´r !is num\"\n",
      "passed test for arg: \"name ´r is na\"\n",
      "passed test for arg: \"name ´r !is na\"\n",
      "passed test for arg: \"age ´r is na\"\n",
      "passed test for arg: \"cholesterol ´r is na\"\n",
      "passed test for arg: \"weight ´r is num\"\n",
      "passed test for arg: \"weight ´r is num & !is na\"\n",
      "passed test for arg: \"date of birth ´r !is date\"\n",
      "passed test for arg: \"diabetes ´r is yn\"\n",
      "passed test for arg: \"diabetes ´r is na / is yn\"\n",
      "passed test for arg: \"diabetes ´r is yn\"\n",
      "passed test for arg: \"diabetes ´r is yes\"\n",
      "passed test for arg: \"diabetes ´r is no\"\n",
      "passed test for arg: \"ID ´r ~~1....\"\n",
      "passed test for arg: \"ID ´r !~~3....\"\n",
      "passed test for arg: \"name ´r ~~\\b[A-Z][a-z]*\\s[A-Z][a-z]*\\b\"\n",
      "passed test for arg: \"name ´r ~~^[^A-Z]*$\"\n",
      "passed test for arg: \"dose ´r ~~^(?=.*[a-zA-Z])(?=.*[0-9]).*$\"\n",
      "passed test for arg: \"bp systole ´r ~m\"\n",
      "passed test for arg: \"bp systole ´r ~\\D\"\n",
      "passed test for arg: \"bp systole ´r ~\\d\"\n",
      "passed test for arg: \"id / name  ´r ()j\"\n",
      "passed test for arg: \"id / name  ´r ()j / ()n\"\n",
      "passed test for arg: \"id / name  ´r ()j & ()n\"\n",
      "passed test for arg: \"height / weight  ´r is num\"\n",
      "passed test for arg: \"height / weight  ´r any is num\"\n",
      "passed test for arg: \"height / weight  ´r anyis num\"\n",
      "passed test for arg: \"height / weight  ´r all is num\"\n",
      "passed test for arg: \"\n",
      "    height / weight ´m to num\n",
      "    height / weight  ´r all is num\n",
      "    \"\n"
     ]
    },
    {
     "name": "stderr",
     "output_type": "stream",
     "text": [
      "c:\\Users\\MartinVölkl-GouyaIns\\OneDrive - Gouya Insights\\Desktop\\qplib_dev\\qplib\\types.py:97: UserWarning: Parsing dates in %m-%d-%Y format when dayfirst=True was specified. Pass `dayfirst=False` or specify a format to silence this warning.\n",
      "  return pd.to_datetime(x, dayfirst=True).date()\n"
     ]
    },
    {
     "data": {
      "text/html": [
       "<style type=\"text/css\">\n",
       "#T_26898_row0_col0, #T_26898_row0_col1, #T_26898_row0_col2, #T_26898_row0_col3 {\n",
       "  background-color: #c0e7b0;\n",
       "}\n",
       "</style>\n",
       "<table id=\"T_26898\">\n",
       "  <thead>\n",
       "  </thead>\n",
       "  <tbody>\n",
       "    <tr>\n",
       "      <th id=\"T_26898_level0_row0\" class=\"row_heading level0 row0\" >1</th>\n",
       "      <td id=\"T_26898_row0_col0\" class=\"data row0 col0\" >df was checked. no problems found</td>\n",
       "      <td id=\"T_26898_row0_col1\" class=\"data row0 col1\" >qp.pd_util._check_df</td>\n",
       "      <td id=\"T_26898_row0_col2\" class=\"data row0 col2\" >info</td>\n",
       "      <td id=\"T_26898_row0_col3\" class=\"data row0 col3\" >2024-07-25 11:30:34.573161</td>\n",
       "    </tr>\n",
       "  </tbody>\n",
       "</table>\n"
      ],
      "text/plain": [
       "<pandas.io.formats.style.Styler at 0x287de6178c0>"
      ]
     },
     "metadata": {},
     "output_type": "display_data"
    },
    {
     "name": "stdout",
     "output_type": "stream",
     "text": [
      "passed test for arg: \"\n",
      "    height / weight\n",
      "        ´m to num\n",
      "        ´r all is num\n",
      "    \"\n"
     ]
    },
    {
     "data": {
      "text/html": [
       "<style type=\"text/css\">\n",
       "#T_d21e8_row0_col0, #T_d21e8_row0_col1, #T_d21e8_row0_col2, #T_d21e8_row0_col3 {\n",
       "  background-color: #c0e7b0;\n",
       "}\n",
       "</style>\n",
       "<table id=\"T_d21e8\">\n",
       "  <thead>\n",
       "  </thead>\n",
       "  <tbody>\n",
       "    <tr>\n",
       "      <th id=\"T_d21e8_level0_row0\" class=\"row_heading level0 row0\" >2</th>\n",
       "      <td id=\"T_d21e8_row0_col0\" class=\"data row0 col0\" >df was checked. no problems found</td>\n",
       "      <td id=\"T_d21e8_row0_col1\" class=\"data row0 col1\" >qp.pd_util._check_df</td>\n",
       "      <td id=\"T_d21e8_row0_col2\" class=\"data row0 col2\" >info</td>\n",
       "      <td id=\"T_d21e8_row0_col3\" class=\"data row0 col3\" >2024-07-25 11:30:34.588444</td>\n",
       "    </tr>\n",
       "  </tbody>\n",
       "</table>\n"
      ],
      "text/plain": [
       "<pandas.io.formats.style.Styler at 0x287e0bea630>"
      ]
     },
     "metadata": {},
     "output_type": "display_data"
    },
    {
     "name": "stdout",
     "output_type": "stream",
     "text": [
      "passed test for arg: \"\n",
      "    diabetes ´r is unique\n",
      "    is any\n",
      "    \"\n",
      "passed test for arg: \"age ´r x? isinstance(x, int)\"\n",
      "passed test for arg: \"\n",
      "    age / height ´m to num\n",
      "    age ´r col? col < df[\"height\"]\n",
      "    \"\n",
      "passed test for arg: \"\n",
      "    age / height ´m to num\n",
      "    age ´r col? col == df[\"age\"].max()\n",
      "    age ´m to str\n",
      "    \"\n"
     ]
    }
   ],
   "source": [
    "\n",
    "df = get_df()\n",
    "\n",
    "\n",
    "#col equality\n",
    "\n",
    "result = df.q('date of birth', inplace=True, verbosity=0)\n",
    "compare(result, df.loc[:, ['date of birth']])\n",
    "\n",
    "result = df.q('=date of birth', verbosity=0)\n",
    "compare(result, df.loc[:, ['date of birth']])\n",
    "\n",
    "result = df.q('date of birth / age', verbosity=0)\n",
    "compare(result, df.loc[:, ['date of birth', 'age']])\n",
    "\n",
    "result = df.q('date of birth / =age', verbosity=0)\n",
    "compare(result, df.loc[:, ['date of birth', 'age']])\n",
    "\n",
    "result = df.q('=date of birth / age', verbosity=0)\n",
    "compare(result, df.loc[:, ['date of birth', 'age']])\n",
    "\n",
    "result = df.q('=date of birth / =age', verbosity=0)\n",
    "compare(result, df.loc[:, ['date of birth', 'age']])\n",
    "\n",
    "result = df.q('!=date of birth', verbosity=0)\n",
    "compare(result, df.loc[:, ['ID', 'name', 'age', 'gender', 'height', 'weight', 'bp systole', 'bp diastole', 'cholesterol', 'diabetes', 'dose']])\n",
    "\n",
    "\n",
    "\n",
    "\n",
    "#multi line col equality\n",
    "result = df.q('', verbosity=0)\n",
    "compare(result, df.loc[:, :])\n",
    "\n",
    "result = df.q('=ID', verbosity=0)\n",
    "compare(result, df.loc[:, ['ID']])\n",
    "\n",
    "result = df.q('=ID', '', verbosity=0)\n",
    "compare(result, df.loc[:, ['ID']])\n",
    "\n",
    "result = df.q('=', verbosity=0)\n",
    "compare(result, df.loc[:, []])\n",
    "\n",
    "result = df.q(\n",
    "    r\"\"\"\n",
    "    =ID\n",
    "    ID\n",
    "    \"\"\",\n",
    "    verbosity=0)\n",
    "compare(result, df.loc[:, ['ID']])\n",
    "\n",
    "result = df.q(\n",
    "    r\"\"\"\n",
    "    ID\n",
    "    age\n",
    "    \"\"\",\n",
    "    verbosity=0)\n",
    "compare(result, df.loc[:, ['age']])\n",
    "\n",
    "result = df.q(\n",
    "    r\"\"\"\n",
    "    ID\n",
    "    / age\n",
    "    \"\"\",\n",
    "    verbosity=0)\n",
    "compare(result, df.loc[:, ['ID', 'age']])\n",
    "\n",
    "\n",
    "\n",
    "#col contains\n",
    "result = df.q('()bp', verbosity=0)\n",
    "compare(result, df.loc[:, ['bp systole', 'bp diastole']])\n",
    "\n",
    "result = df.q('()I', verbosity=0)\n",
    "compare(result, df.loc[:, ['ID', 'date of birth', 'height', 'weight', 'bp diastole', 'diabetes']])\n",
    "\n",
    "result = df.q('(())I', verbosity=0)\n",
    "compare(result, df.loc[:, ['ID']])\n",
    "\n",
    "\n",
    "\n",
    "\n",
    "#col regex equality\n",
    "result = df.q('~~.', verbosity=0)\n",
    "compare(result, df.loc[:, []])\n",
    "\n",
    "result = df.q('~~..', verbosity=0)\n",
    "compare(result, df.loc[:, ['ID']])\n",
    "\n",
    "\n",
    "\n",
    "#col multiple conditions\n",
    "result = df.q('()bp / =diabetes', verbosity=0)\n",
    "compare(result, df.loc[:, ['bp systole', 'bp diastole', 'diabetes']])\n",
    "\n",
    "result = df.q('()bp / =diabetes / =cholesterol', verbosity=0)\n",
    "compare(result, df.loc[:, ['bp systole', 'bp diastole', 'cholesterol', 'diabetes']])\n",
    "\n",
    "result = df.q('()bp / =cholesterol / =diabetes', verbosity=0)\n",
    "compare(result, df.loc[:, ['bp systole', 'bp diastole', 'cholesterol', 'diabetes']])\n",
    "\n",
    "result = df.q('()bp & ()systole', verbosity=0)\n",
    "compare(result, df.loc[:, ['bp systole']])\n",
    "\n",
    "result = df.q('()bp & !()systole', verbosity=0)\n",
    "compare(result, df.loc[:, ['bp diastole']])\n",
    "\n",
    "result = df.q('()i & ~~..', verbosity=0)\n",
    "compare(result, df.loc[:, ['ID']])\n",
    "\n",
    "\n",
    "\n",
    "\n",
    "#row types\n",
    "result = df.q('name ´r is str', verbosity=0)\n",
    "compare(result, df.loc[:, ['name']])\n",
    "\n",
    "result = df.q('name ´r !is str', verbosity=0)\n",
    "compare(result, df.loc[[], ['name']])\n",
    "\n",
    "result = df.q('name ´r is num', verbosity=0)\n",
    "compare(result, df.loc[[], ['name']])\n",
    "\n",
    "result = df.q('name ´r !is num', verbosity=0)\n",
    "compare(result, df.loc[[0,1,2,3,4,5,6,7,8,9,10], ['name']])\n",
    "\n",
    "result = df.q('name ´r is na', verbosity=0)\n",
    "compare(result, df.loc[[], ['name']])\n",
    "\n",
    "result = df.q('name ´r !is na', verbosity=0)\n",
    "compare(result, df.loc[[0,1,2,3,4,5,6,7,8,9,10], ['name']])\n",
    "\n",
    "result = df.q('age ´r is na', verbosity=0)\n",
    "compare(result, df.loc[[2,3,6,8], ['age']])\n",
    "\n",
    "result = df.q('cholesterol ´r is na', verbosity=0)\n",
    "compare(result, df.loc[[2,4,7,9], ['cholesterol']])\n",
    "\n",
    "result = df.q('weight ´r is num', verbosity=0)\n",
    "compare(result, df.loc[[0,1,4,6,7,9,10], ['weight']])\n",
    "\n",
    "result = df.q('weight ´r is num & !is na', verbosity=0)\n",
    "compare(result, df.loc[[0,1,7,9,10], ['weight']])\n",
    "\n",
    "result = df.q('date of birth ´r !is date', verbosity=0)\n",
    "compare(result, df.loc[[7], ['date of birth']])\n",
    "\n",
    "result = df.q('diabetes ´r is yn', verbosity=0)\n",
    "compare(result, df.loc[[0,1,3,4,5,6,9,10], ['diabetes']])\n",
    "\n",
    "result = df.q('diabetes ´r is na / is yn', verbosity=0)\n",
    "compare(result, df.loc[:, ['diabetes']])\n",
    "\n",
    "result = df.q('diabetes ´r is yn', verbosity=0)\n",
    "compare(result, df.loc[[0,1,3,4,5,6,9,10], ['diabetes']])\n",
    "\n",
    "result = df.q('diabetes ´r is yes', verbosity=0)\n",
    "compare(result, df.loc[[1,4,5,10], ['diabetes']])\n",
    "\n",
    "result = df.q('diabetes ´r is no', verbosity=0)\n",
    "compare(result, df.loc[[0,3,6,9], ['diabetes']])\n",
    "\n",
    "\n",
    "\n",
    "#row regex equality\n",
    "result = df.q('ID ´r ~~1....', verbosity=0)\n",
    "compare(result, df.loc[[0,1,2], ['ID']])\n",
    "\n",
    "result = df.q('ID ´r !~~3....', verbosity=0)\n",
    "compare(result, df.loc[[0,1,2,3,4,5], ['ID']])\n",
    "\n",
    "#two words with first letter capitalized and separated by a space\n",
    "result = df.q('name ´r ~~\\\\b[A-Z][a-z]*\\\\s[A-Z][a-z]*\\\\b', verbosity=0)\n",
    "compare(result, df.loc[[0,1,2,3,7], ['name']])\n",
    "\n",
    "#all lowercase\n",
    "result = df.q('name ´r ~~^[^A-Z]*$', verbosity=0)\n",
    "compare(result, df.loc[[4], ['name']])\n",
    "\n",
    "#containing letters and numbers\n",
    "result = df.q('dose ´r ~~^(?=.*[a-zA-Z])(?=.*[0-9]).*$', verbosity=0)\n",
    "compare(result, df.loc[[0,2,3,4,5,8,10], ['dose']])\n",
    "\n",
    "\n",
    "#row regex search\n",
    "result = df.q('bp systole ´r ~m', verbosity=0)\n",
    "compare(result, df.loc[[4], ['bp systole']])\n",
    "\n",
    "result = df.q(r'bp systole ´r ~\\D', verbosity=0)\n",
    "compare(result, df.loc[[2,4,6], ['bp systole']])\n",
    "\n",
    "result = df.q('bp systole ´r ~\\d', verbosity=0)\n",
    "compare(result, df.loc[[0,1,3,4,5,7,9,10], ['bp systole']])\n",
    "\n",
    "\n",
    "\n",
    "#filter by multiple columns\n",
    "result = df.q('id / name  ´r ()j', verbosity=0)\n",
    "compare(result, df.loc[[0, 1, 2, 9, 10], ['ID', 'name']])\n",
    "\n",
    "result = df.q('id / name  ´r ()j / ()n', verbosity=0)\n",
    "compare(result, df.loc[[0, 1, 2, 3, 5, 8, 9, 10], ['ID', 'name']])\n",
    "\n",
    "result = df.q('id / name  ´r ()j & ()n', verbosity=0)\n",
    "compare(result, df.loc[[0, 1, 2, 10], ['ID', 'name']])\n",
    "\n",
    "result = df.q('height / weight  ´r is num', verbosity=0)\n",
    "compare(result, df.loc[[0, 1, 2, 3, 4, 5, 6, 7, 8, 9, 10], ['height', 'weight']])\n",
    "\n",
    "result = df.q('height / weight  ´r any is num', verbosity=0)\n",
    "compare(result, df.loc[[0, 1, 2, 3, 4, 5, 6, 7, 8, 9, 10], ['height', 'weight']])\n",
    "\n",
    "result = df.q('height / weight  ´r anyis num', verbosity=0)\n",
    "compare(result, df.loc[[0, 1, 2, 3, 4, 5, 6, 7, 8, 9, 10], ['height', 'weight']])\n",
    "\n",
    "result = df.q('height / weight  ´r all is num', verbosity=0)\n",
    "compare(result, df.loc[[0, 6, 9, 10], ['height', 'weight']])\n",
    "\n",
    "\n",
    "result = df.q(\n",
    "    r\"\"\"\n",
    "    height / weight ´m to num\n",
    "    height / weight  ´r all is num\n",
    "    \"\"\",\n",
    "    inplace=True, verbosity=0)\n",
    "compare(result, df.loc[[0, 1, 2, 3, 4, 5, 6, 7, 8, 9, 10], ['height', 'weight']])\n",
    "df = get_df()\n",
    "\n",
    "result = df.q(\n",
    "    r\"\"\"\n",
    "    height / weight\n",
    "        ´m to num\n",
    "        ´r all is num\n",
    "    \"\"\",\n",
    "    inplace=True, verbosity=0)\n",
    "compare(result, df.loc[[0, 1, 2, 3, 4, 5, 6, 7, 8, 9, 10], ['height', 'weight']])\n",
    "df = get_df()\n",
    "\n",
    "\n",
    "\n",
    "#uniqueness\n",
    "result = df.q(\n",
    "    r\"\"\"\n",
    "    diabetes ´r is unique\n",
    "    is any\n",
    "    \"\"\",\n",
    "    diff=None,\n",
    "    inplace=False,\n",
    "    verbosity=3,\n",
    "    )\n",
    "compare(result, df.loc[[0,1,2,4,5,6,7,8,9], :])\n",
    "\n",
    "\n",
    "#custom python expression evaluation\n",
    "result = df.q('age ´r x? isinstance(x, int)', verbosity=0)\n",
    "compare(result, df.loc[[0, 10], ['age']])\n",
    "\n",
    "result = df.q(\n",
    "    r\"\"\"\n",
    "    age / height ´m to num\n",
    "    age ´r col? col < df[\"height\"]\n",
    "    \"\"\",\n",
    "    inplace=False, verbosity=0,\n",
    "    )\n",
    "compare(result, df.loc[[0, 10], ['age']])\n",
    "\n",
    "result = df.q(\n",
    "    r\"\"\"\n",
    "    age / height ´m to num\n",
    "    age ´r col? col == df[\"age\"].max()\n",
    "    age ´m to str\n",
    "    \"\"\",\n",
    "    inplace=False, verbosity=0,\n",
    "    )\n",
    "compare(result, df.loc[[4], ['age']])\n",
    "\n",
    "\n"
   ]
  },
  {
   "cell_type": "markdown",
   "metadata": {},
   "source": [
    "## complex filtering"
   ]
  },
  {
   "cell_type": "code",
   "execution_count": 13,
   "metadata": {},
   "outputs": [
    {
     "data": {
      "text/html": [
       "<style type=\"text/css\">\n",
       "#T_1b0b2_row0_col0, #T_1b0b2_row0_col1, #T_1b0b2_row0_col2, #T_1b0b2_row0_col3 {\n",
       "  background-color: #c0e7b0;\n",
       "}\n",
       "</style>\n",
       "<table id=\"T_1b0b2\">\n",
       "  <thead>\n",
       "  </thead>\n",
       "  <tbody>\n",
       "    <tr>\n",
       "      <th id=\"T_1b0b2_level0_row0\" class=\"row_heading level0 row0\" >19</th>\n",
       "      <td id=\"T_1b0b2_row0_col0\" class=\"data row0 col0\" >df was checked. no problems found</td>\n",
       "      <td id=\"T_1b0b2_row0_col1\" class=\"data row0 col1\" >qp.pd_util._check_df</td>\n",
       "      <td id=\"T_1b0b2_row0_col2\" class=\"data row0 col2\" >info</td>\n",
       "      <td id=\"T_1b0b2_row0_col3\" class=\"data row0 col3\" >2024-07-25 11:30:34.652589</td>\n",
       "    </tr>\n",
       "  </tbody>\n",
       "</table>\n"
      ],
      "text/plain": [
       "<pandas.io.formats.style.Styler at 0x287e0dbb530>"
      ]
     },
     "metadata": {},
     "output_type": "display_data"
    },
    {
     "name": "stdout",
     "output_type": "stream",
     "text": [
      "passed test for arg: \"\n",
      "    ID  ´r ~~1....\n",
      "    diabetes ´r is yes\n",
      "    \"\n",
      "passed test for arg: \"\n",
      "    ID  ´r ~~1....\n",
      "    diabetes ´r & is yes\n",
      "    ID / diabetes\n",
      "    \"\n",
      "passed test for arg: \"\n",
      "    diabetes ´r is yes\n",
      "    ID  ´r & ~~1....\n",
      "    / diabetes\n",
      "    \"\n",
      "passed test for arg: \"\n",
      "    diabetes ´r is yes\n",
      "    / ID  ´r & ~~1....\n",
      "    \"\n",
      "passed test for arg: \"\n",
      "    ID  ´r ~~1.... / ~~2....  ´n @1\n",
      "    gender ´r =m / =male & @1\n",
      "    ID / gender\n",
      "    \"\n",
      "passed test for arg: \"\n",
      "    ID  ´r ~~1.... / ~~2....  ´n @ 1\n",
      "    gender ´r =m / =male &@1\n",
      "    \"\n",
      "passed test for arg: \"\n",
      "    ID  ´r ~~1.... / ~~2....  ´n @1\n",
      "    gender ´r =m / =m / =male  / @ 1\n",
      "    \"\n",
      "passed test for arg: \"\n",
      "    ID  ´r ~~1.... / ~~2....  ´n @1\n",
      "    gender ´r =f / =f / =female  / @ 1\n",
      "    ID\n",
      "    \"\n",
      "passed test for arg: \"\n",
      "    gender ´r =f / =female\n",
      "    age ´r & >30\n",
      "    \"\n",
      "passed test for arg: \"\n",
      "    gender ´r =f / =female  ´n @ a\n",
      "    age ´r >30  & @ a \n",
      "    \"\n",
      "passed test for arg: \"\n",
      "    age ´r >30\n",
      "    age ´r / <18\n",
      "    \"\n",
      "passed test for arg: \"\n",
      "    age ´r >30  ´n @ a\n",
      "    age ´r <18 /@a\n",
      "    \"\n",
      "passed test for arg: \"\n",
      "    age ´r >30 / <18\n",
      "    \"\n",
      "passed test for arg: \"\n",
      "    weight ´r <70 & >40  ´n @ between 40 and 70\n",
      "    diabetes ´r is yes & @between 40 and 70   \n",
      "    \"\n",
      "passed test for arg: \"\n",
      "    weight ´r <70  ´n @ <70\n",
      "    &weight ´r >40  ´n@>40\n",
      "    diabetes ´r is no & @<70 & @ >40\n",
      "    weight / diabetes\n",
      "    \"\n"
     ]
    }
   ],
   "source": [
    "df = get_df()\n",
    "\n",
    "result = df.q(\n",
    "    r\"\"\"\n",
    "    ID  ´r ~~1....\n",
    "    diabetes ´r is yes\n",
    "    \"\"\",\n",
    "    verbosity=0)\n",
    "compare(result, df.loc[[1, 4, 5, 10], ['diabetes']])\n",
    "\n",
    "\n",
    "result = df.q(\n",
    "    r\"\"\"\n",
    "    ID  ´r ~~1....\n",
    "    diabetes ´r & is yes\n",
    "    ID / diabetes\n",
    "    \"\"\",\n",
    "    verbosity=0)\n",
    "compare(result, df.loc[[1], ['ID', 'diabetes']])\n",
    "\n",
    "\n",
    "result = df.q(\n",
    "    r\"\"\"\n",
    "    diabetes ´r is yes\n",
    "    ID  ´r & ~~1....\n",
    "    / diabetes\n",
    "    \"\"\",\n",
    "    verbosity=0)\n",
    "compare(result, df.loc[[1], ['ID', 'diabetes']])\n",
    "\n",
    "\n",
    "result = df.q(\n",
    "    r\"\"\"\n",
    "    diabetes ´r is yes\n",
    "    / ID  ´r & ~~1....\n",
    "    \"\"\",\n",
    "    verbosity=0)\n",
    "compare(result, df.loc[[1], ['ID', 'diabetes']])\n",
    "\n",
    "\n",
    "result = df.q(\n",
    "    r\"\"\"\n",
    "    ID  ´r ~~1.... / ~~2....  ´n @1\n",
    "    gender ´r =m / =male & @1\n",
    "    ID / gender\n",
    "    \"\"\",\n",
    "    verbosity=0)\n",
    "compare(result, df.loc[[0,3,5], ['ID', 'gender']])\n",
    "\n",
    "\n",
    "result = df.q(\n",
    "    r\"\"\"\n",
    "    ID  ´r ~~1.... / ~~2....  ´n @ 1\n",
    "    gender ´r =m / =male &@1\n",
    "    \"\"\",\n",
    "    verbosity=0)\n",
    "compare(result, df.loc[[0,3,5], ['gender']])\n",
    "\n",
    "\n",
    "result = df.q(\n",
    "    r\"\"\"\n",
    "    ID  ´r ~~1.... / ~~2....  ´n @1\n",
    "    gender ´r =m / =m / =male  / @ 1\n",
    "    \"\"\",\n",
    "    verbosity=0)\n",
    "compare(result, df.loc[[0,1,2,3,4,5], ['gender']])\n",
    "\n",
    "\n",
    "result = df.q(\n",
    "    r\"\"\"\n",
    "    ID  ´r ~~1.... / ~~2....  ´n @1\n",
    "    gender ´r =f / =f / =female  / @ 1\n",
    "    ID\n",
    "    \"\"\",\n",
    "    verbosity=0)\n",
    "compare(result, df.loc[[0,1,2,3,4,5,10], ['ID']])\n",
    "\n",
    "\n",
    "result = df.q(\n",
    "    r\"\"\"\n",
    "    gender ´r =f / =female\n",
    "    age ´r & >30\n",
    "    \"\"\",\n",
    "    verbosity=0)\n",
    "compare(result, df.loc[[10], ['age']])\n",
    "\n",
    "\n",
    "result = df.q(\n",
    "    r\"\"\"\n",
    "    gender ´r =f / =female  ´n @ a\n",
    "    age ´r >30  & @ a \n",
    "    \"\"\",\n",
    "    verbosity=0)\n",
    "compare(result, df.loc[[10], ['age']])\n",
    "\n",
    "\n",
    "result = df.q(\n",
    "    r\"\"\"\n",
    "    age ´r >30\n",
    "    age ´r / <18\n",
    "    \"\"\",\n",
    "    verbosity=0)\n",
    "compare(result, df.loc[[0,4,10], ['age']])\n",
    "\n",
    "\n",
    "result = df.q(\n",
    "    r\"\"\"\n",
    "    age ´r >30  ´n @ a\n",
    "    age ´r <18 /@a\n",
    "    \"\"\",\n",
    "    verbosity=0)\n",
    "compare(result, df.loc[[0,4,10], ['age']])\n",
    "\n",
    "\n",
    "result = df.q(\n",
    "    r\"\"\"\n",
    "    age ´r >30 / <18\n",
    "    \"\"\",\n",
    "    verbosity=0)\n",
    "compare(result, df.loc[[0,4,10], ['age']])\n",
    "\n",
    "\n",
    "result = df.q(\n",
    "    r\"\"\"\n",
    "    weight ´r <70 & >40  ´n @ between 40 and 70\n",
    "    diabetes ´r is yes & @between 40 and 70   \n",
    "    \"\"\",\n",
    "    verbosity=0)\n",
    "compare(result, df.loc[[1], ['diabetes']])\n",
    "\n",
    "result = df.q(\n",
    "    r\"\"\"\n",
    "    weight ´r <70  ´n @ <70\n",
    "    &weight ´r >40  ´n@>40\n",
    "    diabetes ´r is no & @<70 & @ >40\n",
    "    weight / diabetes\n",
    "    \"\"\",\n",
    "    verbosity=0)\n",
    "compare(result, df.loc[[], ['weight', 'diabetes']])\n",
    "\n",
    "\n",
    "\n"
   ]
  },
  {
   "cell_type": "markdown",
   "metadata": {},
   "source": [
    "## data modification"
   ]
  },
  {
   "cell_type": "code",
   "execution_count": 14,
   "metadata": {},
   "outputs": [
    {
     "data": {
      "text/html": [
       "<style type=\"text/css\">\n",
       "#T_a6ae2_row0_col0, #T_a6ae2_row0_col1, #T_a6ae2_row0_col2, #T_a6ae2_row0_col3 {\n",
       "  background-color: #c0e7b0;\n",
       "}\n",
       "</style>\n",
       "<table id=\"T_a6ae2\">\n",
       "  <thead>\n",
       "  </thead>\n",
       "  <tbody>\n",
       "    <tr>\n",
       "      <th id=\"T_a6ae2_level0_row0\" class=\"row_heading level0 row0\" >20</th>\n",
       "      <td id=\"T_a6ae2_row0_col0\" class=\"data row0 col0\" >df was checked. no problems found</td>\n",
       "      <td id=\"T_a6ae2_row0_col1\" class=\"data row0 col1\" >qp.pd_util._check_df</td>\n",
       "      <td id=\"T_a6ae2_row0_col2\" class=\"data row0 col2\" >info</td>\n",
       "      <td id=\"T_a6ae2_row0_col3\" class=\"data row0 col3\" >2024-07-25 11:30:34.782833</td>\n",
       "    </tr>\n",
       "  </tbody>\n",
       "</table>\n"
      ],
      "text/plain": [
       "<pandas.io.formats.style.Styler at 0x287e01e0aa0>"
      ]
     },
     "metadata": {},
     "output_type": "display_data"
    },
    {
     "name": "stdout",
     "output_type": "stream",
     "text": [
      "passed test for arg: \"id ´m col= df[\"name\"]\"\n"
     ]
    },
    {
     "data": {
      "text/html": [
       "<style type=\"text/css\">\n",
       "#T_a9ff1_row0_col0, #T_a9ff1_row0_col1, #T_a9ff1_row0_col2, #T_a9ff1_row0_col3 {\n",
       "  background-color: #c0e7b0;\n",
       "}\n",
       "</style>\n",
       "<table id=\"T_a9ff1\">\n",
       "  <thead>\n",
       "  </thead>\n",
       "  <tbody>\n",
       "    <tr>\n",
       "      <th id=\"T_a9ff1_level0_row0\" class=\"row_heading level0 row0\" >21</th>\n",
       "      <td id=\"T_a9ff1_row0_col0\" class=\"data row0 col0\" >df was checked. no problems found</td>\n",
       "      <td id=\"T_a9ff1_row0_col1\" class=\"data row0 col1\" >qp.pd_util._check_df</td>\n",
       "      <td id=\"T_a9ff1_row0_col2\" class=\"data row0 col2\" >info</td>\n",
       "      <td id=\"T_a9ff1_row0_col3\" class=\"data row0 col3\" >2024-07-25 11:30:34.801002</td>\n",
       "    </tr>\n",
       "  </tbody>\n",
       "</table>\n"
      ],
      "text/plain": [
       "<pandas.io.formats.style.Styler at 0x287e017a990>"
      ]
     },
     "metadata": {},
     "output_type": "display_data"
    },
    {
     "name": "stdout",
     "output_type": "stream",
     "text": [
      "passed test for arg: \"\n",
      "    id ´m col= df[\"name\"]\n",
      "    is any ´r is any\n",
      "    \"\n"
     ]
    },
    {
     "data": {
      "text/html": [
       "<style type=\"text/css\">\n",
       "#T_561e5_row0_col0, #T_561e5_row0_col1, #T_561e5_row0_col2, #T_561e5_row0_col3 {\n",
       "  background-color: #c0e7b0;\n",
       "}\n",
       "</style>\n",
       "<table id=\"T_561e5\">\n",
       "  <thead>\n",
       "  </thead>\n",
       "  <tbody>\n",
       "    <tr>\n",
       "      <th id=\"T_561e5_level0_row0\" class=\"row_heading level0 row0\" >22</th>\n",
       "      <td id=\"T_561e5_row0_col0\" class=\"data row0 col0\" >df was checked. no problems found</td>\n",
       "      <td id=\"T_561e5_row0_col1\" class=\"data row0 col1\" >qp.pd_util._check_df</td>\n",
       "      <td id=\"T_561e5_row0_col2\" class=\"data row0 col2\" >info</td>\n",
       "      <td id=\"T_561e5_row0_col3\" class=\"data row0 col3\" >2024-07-25 11:30:34.836529</td>\n",
       "    </tr>\n",
       "  </tbody>\n",
       "</table>\n"
      ],
      "text/plain": [
       "<pandas.io.formats.style.Styler at 0x287e0b9eba0>"
      ]
     },
     "metadata": {},
     "output_type": "display_data"
    },
    {
     "name": "stdout",
     "output_type": "stream",
     "text": [
      "passed test for arg: \"id / age ´m col= df[\"name\"]\"\n"
     ]
    },
    {
     "data": {
      "text/html": [
       "<style type=\"text/css\">\n",
       "#T_e971c_row0_col0, #T_e971c_row0_col1, #T_e971c_row0_col2, #T_e971c_row0_col3 {\n",
       "  background-color: #c0e7b0;\n",
       "}\n",
       "</style>\n",
       "<table id=\"T_e971c\">\n",
       "  <thead>\n",
       "  </thead>\n",
       "  <tbody>\n",
       "    <tr>\n",
       "      <th id=\"T_e971c_level0_row0\" class=\"row_heading level0 row0\" >23</th>\n",
       "      <td id=\"T_e971c_row0_col0\" class=\"data row0 col0\" >df was checked. no problems found</td>\n",
       "      <td id=\"T_e971c_row0_col1\" class=\"data row0 col1\" >qp.pd_util._check_df</td>\n",
       "      <td id=\"T_e971c_row0_col2\" class=\"data row0 col2\" >info</td>\n",
       "      <td id=\"T_e971c_row0_col3\" class=\"data row0 col3\" >2024-07-25 11:30:34.892322</td>\n",
       "    </tr>\n",
       "  </tbody>\n",
       "</table>\n"
      ],
      "text/plain": [
       "<pandas.io.formats.style.Styler at 0x287de6178c0>"
      ]
     },
     "metadata": {},
     "output_type": "display_data"
    },
    {
     "name": "stdout",
     "output_type": "stream",
     "text": [
      "passed test for arg: \"´m col= df[\"name\"]\"\n"
     ]
    },
    {
     "data": {
      "text/html": [
       "<style type=\"text/css\">\n",
       "#T_d74ef_row0_col0, #T_d74ef_row0_col1, #T_d74ef_row0_col2, #T_d74ef_row0_col3 {\n",
       "  background-color: #c0e7b0;\n",
       "}\n",
       "</style>\n",
       "<table id=\"T_d74ef\">\n",
       "  <thead>\n",
       "  </thead>\n",
       "  <tbody>\n",
       "    <tr>\n",
       "      <th id=\"T_d74ef_level0_row0\" class=\"row_heading level0 row0\" >24</th>\n",
       "      <td id=\"T_d74ef_row0_col0\" class=\"data row0 col0\" >df was checked. no problems found</td>\n",
       "      <td id=\"T_d74ef_row0_col1\" class=\"data row0 col1\" >qp.pd_util._check_df</td>\n",
       "      <td id=\"T_d74ef_row0_col2\" class=\"data row0 col2\" >info</td>\n",
       "      <td id=\"T_d74ef_row0_col3\" class=\"data row0 col3\" >2024-07-25 11:30:34.932819</td>\n",
       "    </tr>\n",
       "  </tbody>\n",
       "</table>\n"
      ],
      "text/plain": [
       "<pandas.io.formats.style.Styler at 0x287e0dea5d0>"
      ]
     },
     "metadata": {},
     "output_type": "display_data"
    },
    {
     "name": "stdout",
     "output_type": "stream",
     "text": [
      "passed test for arg: \"\n",
      "    name ´m x= x.lower()\n",
      "    is any ´r is any\n",
      "    \"\n"
     ]
    },
    {
     "data": {
      "text/html": [
       "<style type=\"text/css\">\n",
       "#T_def98_row0_col0, #T_def98_row0_col1, #T_def98_row0_col2, #T_def98_row0_col3 {\n",
       "  background-color: #c0e7b0;\n",
       "}\n",
       "</style>\n",
       "<table id=\"T_def98\">\n",
       "  <thead>\n",
       "  </thead>\n",
       "  <tbody>\n",
       "    <tr>\n",
       "      <th id=\"T_def98_level0_row0\" class=\"row_heading level0 row0\" >25</th>\n",
       "      <td id=\"T_def98_row0_col0\" class=\"data row0 col0\" >df was checked. no problems found</td>\n",
       "      <td id=\"T_def98_row0_col1\" class=\"data row0 col1\" >qp.pd_util._check_df</td>\n",
       "      <td id=\"T_def98_row0_col2\" class=\"data row0 col2\" >info</td>\n",
       "      <td id=\"T_def98_row0_col3\" class=\"data row0 col3\" >2024-07-25 11:30:34.960420</td>\n",
       "    </tr>\n",
       "  </tbody>\n",
       "</table>\n"
      ],
      "text/plain": [
       "<pandas.io.formats.style.Styler at 0x287e0e2e3c0>"
      ]
     },
     "metadata": {},
     "output_type": "display_data"
    },
    {
     "name": "stdout",
     "output_type": "stream",
     "text": [
      "passed test for arg: \"\n",
      "    name  ´r !x? x == x.lower()  ´m x= x.lower()\n",
      "    is any ´r is any\n",
      "    \"\n"
     ]
    },
    {
     "data": {
      "text/html": [
       "<style type=\"text/css\">\n",
       "#T_053a6_row0_col0, #T_053a6_row0_col1, #T_053a6_row0_col2, #T_053a6_row0_col3 {\n",
       "  background-color: #c0e7b0;\n",
       "}\n",
       "</style>\n",
       "<table id=\"T_053a6\">\n",
       "  <thead>\n",
       "  </thead>\n",
       "  <tbody>\n",
       "    <tr>\n",
       "      <th id=\"T_053a6_level0_row0\" class=\"row_heading level0 row0\" >26</th>\n",
       "      <td id=\"T_053a6_row0_col0\" class=\"data row0 col0\" >df was checked. no problems found</td>\n",
       "      <td id=\"T_053a6_row0_col1\" class=\"data row0 col1\" >qp.pd_util._check_df</td>\n",
       "      <td id=\"T_053a6_row0_col2\" class=\"data row0 col2\" >info</td>\n",
       "      <td id=\"T_053a6_row0_col3\" class=\"data row0 col3\" >2024-07-25 11:30:34.983797</td>\n",
       "    </tr>\n",
       "  </tbody>\n",
       "</table>\n"
      ],
      "text/plain": [
       "<pandas.io.formats.style.Styler at 0x287e0e2e330>"
      ]
     },
     "metadata": {},
     "output_type": "display_data"
    },
    {
     "name": "stdout",
     "output_type": "stream",
     "text": [
      "passed test for arg: \"\n",
      "    gender ´m to str & x= x.lower()\n",
      "    is any\n",
      "    \"\n"
     ]
    },
    {
     "data": {
      "text/html": [
       "<style type=\"text/css\">\n",
       "#T_af61a_row0_col0, #T_af61a_row0_col1, #T_af61a_row0_col2, #T_af61a_row0_col3 {\n",
       "  background-color: #c0e7b0;\n",
       "}\n",
       "</style>\n",
       "<table id=\"T_af61a\">\n",
       "  <thead>\n",
       "  </thead>\n",
       "  <tbody>\n",
       "    <tr>\n",
       "      <th id=\"T_af61a_level0_row0\" class=\"row_heading level0 row0\" >27</th>\n",
       "      <td id=\"T_af61a_row0_col0\" class=\"data row0 col0\" >df was checked. no problems found</td>\n",
       "      <td id=\"T_af61a_row0_col1\" class=\"data row0 col1\" >qp.pd_util._check_df</td>\n",
       "      <td id=\"T_af61a_row0_col2\" class=\"data row0 col2\" >info</td>\n",
       "      <td id=\"T_af61a_row0_col3\" class=\"data row0 col3\" >2024-07-25 11:30:34.999007</td>\n",
       "    </tr>\n",
       "  </tbody>\n",
       "</table>\n"
      ],
      "text/plain": [
       "<pandas.io.formats.style.Styler at 0x287e0e2e780>"
      ]
     },
     "metadata": {},
     "output_type": "display_data"
    },
    {
     "name": "stdout",
     "output_type": "stream",
     "text": [
      "passed test for arg: \"\n",
      "    gender ´m to str / x= x.lower()\n",
      "    is any\n",
      "    \"\n"
     ]
    },
    {
     "data": {
      "text/html": [
       "<style type=\"text/css\">\n",
       "#T_7214f_row0_col0, #T_7214f_row0_col1, #T_7214f_row0_col2, #T_7214f_row0_col3 {\n",
       "  background-color: #c0e7b0;\n",
       "}\n",
       "</style>\n",
       "<table id=\"T_7214f\">\n",
       "  <thead>\n",
       "  </thead>\n",
       "  <tbody>\n",
       "    <tr>\n",
       "      <th id=\"T_7214f_level0_row0\" class=\"row_heading level0 row0\" >28</th>\n",
       "      <td id=\"T_7214f_row0_col0\" class=\"data row0 col0\" >df was checked. no problems found</td>\n",
       "      <td id=\"T_7214f_row0_col1\" class=\"data row0 col1\" >qp.pd_util._check_df</td>\n",
       "      <td id=\"T_7214f_row0_col2\" class=\"data row0 col2\" >info</td>\n",
       "      <td id=\"T_7214f_row0_col3\" class=\"data row0 col3\" >2024-07-25 11:30:35.014140</td>\n",
       "    </tr>\n",
       "  </tbody>\n",
       "</table>\n"
      ],
      "text/plain": [
       "<pandas.io.formats.style.Styler at 0x287e02249e0>"
      ]
     },
     "metadata": {},
     "output_type": "display_data"
    },
    {
     "name": "stdout",
     "output_type": "stream",
     "text": [
      "passed test for arg: \"\n",
      "    a ´r >0\n",
      "    b ´m x= x+1\n",
      "    \"\n",
      "passed test for arg: \"\n",
      "    a ´r >0\n",
      "    b ´m x= x - 2\n",
      "    \"\n",
      "passed test for arg: \"b  ´m x=x*2\"\n",
      "passed test for arg: \"\n",
      "    a ´r =0\n",
      "    b ´m x= x`/2\n",
      "    \"\n"
     ]
    }
   ],
   "source": [
    "#set columns\n",
    "\n",
    "df = get_df()\n",
    "df1 = get_df()\n",
    "result = df.q('id ´m col= df[\"name\"]', verbosity=0)\n",
    "df1['ID'] = df1['name']\n",
    "compare(result, df1.loc[:, ['ID']])\n",
    "\n",
    "\n",
    "df = get_df()\n",
    "df1 = get_df()\n",
    "result = df.q(\n",
    "    r\"\"\"\n",
    "    id ´m col= df[\"name\"]\n",
    "    is any ´r is any\n",
    "    \"\"\",\n",
    "    verbosity=0)\n",
    "df1['ID'] = df1['name']\n",
    "compare(result, df1.loc[:, :])\n",
    "\n",
    "\n",
    "df = get_df()\n",
    "df1 = get_df()\n",
    "result = df.q('id / age ´m col= df[\"name\"]' ,verbosity=0)\n",
    "df1['ID'] = df1['name']\n",
    "df1['age'] = df1['name']\n",
    "compare(result, df1.loc[:, ['ID', 'age']])\n",
    "\n",
    "df = get_df()\n",
    "df1 = get_df()\n",
    "result = df.q('´m col= df[\"name\"]', verbosity=0)\n",
    "for col in df1.columns:\n",
    "    df1[col] = df1['name']\n",
    "compare(result, df1)\n",
    "\n",
    "\n",
    "\n",
    "#set values\n",
    "\n",
    "df = get_df()\n",
    "df1 = get_df()\n",
    "result = df.q(\n",
    "    r\"\"\"\n",
    "    name ´m x= x.lower()\n",
    "    is any ´r is any\n",
    "    \"\"\",\n",
    "    verbosity=0)\n",
    "df1['name'] = df1['name'].str.lower()\n",
    "compare(result, df1.loc[:, :])\n",
    "\n",
    "df = get_df()\n",
    "df1 = get_df()\n",
    "result = df.q(\n",
    "    r\"\"\"\n",
    "    name  ´r !x? x == x.lower()  ´m x= x.lower()\n",
    "    is any ´r is any\n",
    "    \"\"\",\n",
    "    verbosity=0)\n",
    "df1['name'] = df1['name'].str.lower()\n",
    "compare(result, df1.loc[:, :])\n",
    "\n",
    "\n",
    "df = get_df()\n",
    "df1 = get_df()\n",
    "result = df.q(\n",
    "    r\"\"\"\n",
    "    gender ´m to str & x= x.lower()\n",
    "    is any\n",
    "    \"\"\",\n",
    "    verbosity=0)\n",
    "df1['gender'] = df1['gender'].astype(str).str.lower()\n",
    "compare(result, df1.loc[:, :])\n",
    "\n",
    "\n",
    "df = get_df()\n",
    "df1 = get_df()\n",
    "result = df.q(\n",
    "    r\"\"\"\n",
    "    gender ´m to str / x= x.lower()\n",
    "    is any\n",
    "    \"\"\",\n",
    "    verbosity=0)\n",
    "df1['gender'] = df1['gender'].astype(str).str.lower()\n",
    "compare(result, df1.loc[:, :])\n",
    "\n",
    "\n",
    "\n",
    "\n",
    "\n",
    "df = get_df_simple_tagged()\n",
    "df1 = get_df_simple_tagged()\n",
    "df.q(\n",
    "    r\"\"\"\n",
    "    a ´r >0\n",
    "    b ´m x= x+1\n",
    "    \"\"\",\n",
    "    inplace=True, verbosity=0,\n",
    "    )\n",
    "df1['b'] = [ 1, 2, 4]\n",
    "compare(df, df1)\n",
    "\n",
    "\n",
    "df.q(\n",
    "    r\"\"\"\n",
    "    a ´r >0\n",
    "    b ´m x= x - 2\n",
    "    \"\"\",\n",
    "    inplace=True, verbosity=0,\n",
    "    )\n",
    "df1['b'] = [ 1, 2, 2]\n",
    "compare(df, df1)\n",
    "\n",
    "\n",
    "df.q('b  ´m x=x*2', inplace=True, verbosity=0)\n",
    "df1['b'] = [ 2, 4, 4]\n",
    "compare(df, df1)\n",
    "\n",
    "\n",
    "df.q(\n",
    "    r\"\"\"\n",
    "    a ´r =0\n",
    "    b ´m x= x`/2\n",
    "    \"\"\",\n",
    "    inplace=True, verbosity=0,\n",
    "    )\n",
    "df1['b'] = [ 2, 2, 4]\n",
    "compare(df, df1)\n"
   ]
  },
  {
   "cell_type": "markdown",
   "metadata": {},
   "source": [
    "## metadata modification"
   ]
  },
  {
   "cell_type": "code",
   "execution_count": 15,
   "metadata": {},
   "outputs": [
    {
     "data": {
      "text/html": [
       "<style type=\"text/css\">\n",
       "#T_f1126_row0_col0, #T_f1126_row0_col1, #T_f1126_row0_col2, #T_f1126_row0_col3 {\n",
       "  background-color: #c0e7b0;\n",
       "}\n",
       "</style>\n",
       "<table id=\"T_f1126\">\n",
       "  <thead>\n",
       "  </thead>\n",
       "  <tbody>\n",
       "    <tr>\n",
       "      <th id=\"T_f1126_level0_row0\" class=\"row_heading level0 row0\" >29</th>\n",
       "      <td id=\"T_f1126_row0_col0\" class=\"data row0 col0\" >df was checked. no problems found</td>\n",
       "      <td id=\"T_f1126_row0_col1\" class=\"data row0 col1\" >qp.pd_util._check_df</td>\n",
       "      <td id=\"T_f1126_row0_col2\" class=\"data row0 col2\" >info</td>\n",
       "      <td id=\"T_f1126_row0_col3\" class=\"data row0 col3\" >2024-07-25 11:30:35.065431</td>\n",
       "    </tr>\n",
       "  </tbody>\n",
       "</table>\n"
      ],
      "text/plain": [
       "<pandas.io.formats.style.Styler at 0x287e0debb90>"
      ]
     },
     "metadata": {},
     "output_type": "display_data"
    },
    {
     "name": "stdout",
     "output_type": "stream",
     "text": [
      "passed test for arg: \"a ´r >0  ´n meta   ´m += >0\"\n"
     ]
    },
    {
     "data": {
      "text/html": [
       "<style type=\"text/css\">\n",
       "#T_c87ae_row0_col0, #T_c87ae_row0_col1, #T_c87ae_row0_col2, #T_c87ae_row0_col3 {\n",
       "  background-color: #c0e7b0;\n",
       "}\n",
       "</style>\n",
       "<table id=\"T_c87ae\">\n",
       "  <thead>\n",
       "  </thead>\n",
       "  <tbody>\n",
       "    <tr>\n",
       "      <th id=\"T_c87ae_level0_row0\" class=\"row_heading level0 row0\" >30</th>\n",
       "      <td id=\"T_c87ae_row0_col0\" class=\"data row0 col0\" >df was checked. no problems found</td>\n",
       "      <td id=\"T_c87ae_row0_col1\" class=\"data row0 col1\" >qp.pd_util._check_df</td>\n",
       "      <td id=\"T_c87ae_row0_col2\" class=\"data row0 col2\" >info</td>\n",
       "      <td id=\"T_c87ae_row0_col3\" class=\"data row0 col3\" >2024-07-25 11:30:35.083032</td>\n",
       "    </tr>\n",
       "  </tbody>\n",
       "</table>\n"
      ],
      "text/plain": [
       "<pandas.io.formats.style.Styler at 0x287e0dea600>"
      ]
     },
     "metadata": {},
     "output_type": "display_data"
    },
    {
     "name": "stdout",
     "output_type": "stream",
     "text": [
      "passed test for arg: \"=a   ´r >0   ´n meta   ´m x= x + \">0\"\"\n"
     ]
    },
    {
     "data": {
      "text/html": [
       "<style type=\"text/css\">\n",
       "#T_b0341_row0_col0, #T_b0341_row0_col1, #T_b0341_row0_col2, #T_b0341_row0_col3 {\n",
       "  background-color: #c0e7b0;\n",
       "}\n",
       "</style>\n",
       "<table id=\"T_b0341\">\n",
       "  <thead>\n",
       "  </thead>\n",
       "  <tbody>\n",
       "    <tr>\n",
       "      <th id=\"T_b0341_level0_row0\" class=\"row_heading level0 row0\" >31</th>\n",
       "      <td id=\"T_b0341_row0_col0\" class=\"data row0 col0\" >df was checked. no problems found</td>\n",
       "      <td id=\"T_b0341_row0_col1\" class=\"data row0 col1\" >qp.pd_util._check_df</td>\n",
       "      <td id=\"T_b0341_row0_col2\" class=\"data row0 col2\" >info</td>\n",
       "      <td id=\"T_b0341_row0_col3\" class=\"data row0 col3\" >2024-07-25 11:30:35.101611</td>\n",
       "    </tr>\n",
       "  </tbody>\n",
       "</table>\n"
      ],
      "text/plain": [
       "<pandas.io.formats.style.Styler at 0x287e0dea360>"
      ]
     },
     "metadata": {},
     "output_type": "display_data"
    },
    {
     "name": "stdout",
     "output_type": "stream",
     "text": [
      "passed test for arg: \"=a   ´r >0   ´n  meta ´m +=>0\"\n"
     ]
    },
    {
     "data": {
      "text/html": [
       "<style type=\"text/css\">\n",
       "#T_9e6b0_row0_col0, #T_9e6b0_row0_col1, #T_9e6b0_row0_col2, #T_9e6b0_row0_col3 {\n",
       "  background-color: #c0e7b0;\n",
       "}\n",
       "</style>\n",
       "<table id=\"T_9e6b0\">\n",
       "  <thead>\n",
       "  </thead>\n",
       "  <tbody>\n",
       "    <tr>\n",
       "      <th id=\"T_9e6b0_level0_row0\" class=\"row_heading level0 row0\" >32</th>\n",
       "      <td id=\"T_9e6b0_row0_col0\" class=\"data row0 col0\" >df was checked. no problems found</td>\n",
       "      <td id=\"T_9e6b0_row0_col1\" class=\"data row0 col1\" >qp.pd_util._check_df</td>\n",
       "      <td id=\"T_9e6b0_row0_col2\" class=\"data row0 col2\" >info</td>\n",
       "      <td id=\"T_9e6b0_row0_col3\" class=\"data row0 col3\" >2024-07-25 11:30:35.116631</td>\n",
       "    </tr>\n",
       "  </tbody>\n",
       "</table>\n"
      ],
      "text/plain": [
       "<pandas.io.formats.style.Styler at 0x287e0de9f10>"
      ]
     },
     "metadata": {},
     "output_type": "display_data"
    },
    {
     "name": "stdout",
     "output_type": "stream",
     "text": [
      "passed test for arg: \"=a´r >0     ´n meta   ´m += >0\"\n"
     ]
    },
    {
     "data": {
      "text/html": [
       "<style type=\"text/css\">\n",
       "#T_f828d_row0_col0, #T_f828d_row0_col1, #T_f828d_row0_col2, #T_f828d_row0_col3 {\n",
       "  background-color: #c0e7b0;\n",
       "}\n",
       "</style>\n",
       "<table id=\"T_f828d\">\n",
       "  <thead>\n",
       "  </thead>\n",
       "  <tbody>\n",
       "    <tr>\n",
       "      <th id=\"T_f828d_level0_row0\" class=\"row_heading level0 row0\" >33</th>\n",
       "      <td id=\"T_f828d_row0_col0\" class=\"data row0 col0\" >df was checked. no problems found</td>\n",
       "      <td id=\"T_f828d_row0_col1\" class=\"data row0 col1\" >qp.pd_util._check_df</td>\n",
       "      <td id=\"T_f828d_row0_col2\" class=\"data row0 col2\" >info</td>\n",
       "      <td id=\"T_f828d_row0_col3\" class=\"data row0 col3\" >2024-07-25 11:30:35.129665</td>\n",
       "    </tr>\n",
       "  </tbody>\n",
       "</table>\n"
      ],
      "text/plain": [
       "<pandas.io.formats.style.Styler at 0x287e0227a10>"
      ]
     },
     "metadata": {},
     "output_type": "display_data"
    },
    {
     "name": "stdout",
     "output_type": "stream",
     "text": [
      "passed test for arg: \"=a  ´r >0   ´n meta   ´m += >0\"\n",
      "passed test for arg: \"=a   ´r >0  ´n meta   ´m += >0\"\n",
      "passed test for arg: \"=a   ´r ==0    ´n meta   ´m += 0\"\n",
      "passed test for arg: \"a   ´r ==0    ´n meta  ´m x= x.replace(\"0\", \"\")\"\n",
      "passed test for arg: \"=a   ´r >0    ´n meta  ´m x= x.replace(\"0\", \"\")\"\n",
      "passed test for arg: \"=a     ´n meta   ´m =\"\n"
     ]
    }
   ],
   "source": [
    "\n",
    "#syntax\n",
    "df = get_df_simple_tagged()\n",
    "df1 = get_df_simple_tagged()\n",
    "df.q('a ´r >0  ´n meta   ´m += >0', inplace=True, verbosity=0)\n",
    "df1['meta'] = ['', '', '>0']\n",
    "compare(df, df1)\n",
    "\n",
    "df = get_df_simple_tagged()\n",
    "df1 = get_df_simple_tagged()\n",
    "df.q('=a   ´r >0   ´n meta   ´m x= x + \">0\"', inplace=True, verbosity=0)\n",
    "df1['meta'] = [ '', '', '>0']\n",
    "compare(df, df1)\n",
    "\n",
    "df = get_df_simple_tagged()\n",
    "df1 = get_df_simple_tagged()\n",
    "df.q('=a   ´r >0   ´n  meta ´m +=>0', inplace=True, verbosity=0)\n",
    "df1['meta'] = [ '', '', '>0']\n",
    "compare(df, df1)\n",
    "\n",
    "df = get_df_simple_tagged()\n",
    "df1 = get_df_simple_tagged()\n",
    "df.q('=a´r >0     ´n meta   ´m += >0', inplace=True, verbosity=0)\n",
    "df1['meta'] = [ '', '', '>0']\n",
    "compare(df, df1)\n",
    "\n",
    "\n",
    "\n",
    "#continous\n",
    "df = get_df_simple_tagged()\n",
    "df1 = get_df_simple_tagged()\n",
    "\n",
    "\n",
    "df.q('=a  ´r >0   ´n meta   ´m += >0', inplace=True, verbosity=0)\n",
    "df1['meta'] = [ '', '', '>0']\n",
    "compare(df, df1)\n",
    "\n",
    "\n",
    "df.q('=a   ´r >0  ´n meta   ´m += >0', inplace=True, verbosity=0)\n",
    "df1['meta'] = [ '', '', '>0>0']\n",
    "compare(df, df1)\n",
    "\n",
    "\n",
    "df.q('=a   ´r ==0    ´n meta   ´m += 0', inplace=True, verbosity=0)\n",
    "df1['meta'] = [ '', '0', '>0>0']\n",
    "compare(df, df1)\n",
    "\n",
    "\n",
    "df.q('a   ´r ==0    ´n meta  ´m x= x.replace(\"0\", \"\")', inplace=True, verbosity=0)\n",
    "df1['meta'] = [ '', '', '>0>0']\n",
    "compare(df, df1)\n",
    "\n",
    "\n",
    "df.q('=a   ´r >0    ´n meta  ´m x= x.replace(\"0\", \"\")', inplace=True, verbosity=0)\n",
    "df1['meta'] = [ '', '', '>>']\n",
    "compare(df, df1)\n",
    "\n",
    "\n",
    "df.q('=a     ´n meta   ´m =', inplace=True, verbosity=0)\n",
    "df1['meta'] = [ '', '', '']\n",
    "compare(df, df1)\n",
    "\n",
    "\n",
    "\n"
   ]
  },
  {
   "cell_type": "markdown",
   "metadata": {},
   "source": [
    "## type conversion"
   ]
  },
  {
   "cell_type": "code",
   "execution_count": 16,
   "metadata": {},
   "outputs": [
    {
     "data": {
      "text/html": [
       "<style type=\"text/css\">\n",
       "#T_ba855_row0_col0, #T_ba855_row0_col1, #T_ba855_row0_col2, #T_ba855_row0_col3 {\n",
       "  background-color: #c0e7b0;\n",
       "}\n",
       "</style>\n",
       "<table id=\"T_ba855\">\n",
       "  <thead>\n",
       "  </thead>\n",
       "  <tbody>\n",
       "    <tr>\n",
       "      <th id=\"T_ba855_level0_row0\" class=\"row_heading level0 row0\" >34</th>\n",
       "      <td id=\"T_ba855_row0_col0\" class=\"data row0 col0\" >df was checked. no problems found</td>\n",
       "      <td id=\"T_ba855_row0_col1\" class=\"data row0 col1\" >qp.pd_util._check_df</td>\n",
       "      <td id=\"T_ba855_row0_col2\" class=\"data row0 col2\" >info</td>\n",
       "      <td id=\"T_ba855_row0_col3\" class=\"data row0 col3\" >2024-07-25 11:30:35.190868</td>\n",
       "    </tr>\n",
       "  </tbody>\n",
       "</table>\n"
      ],
      "text/plain": [
       "<pandas.io.formats.style.Styler at 0x287e0227380>"
      ]
     },
     "metadata": {},
     "output_type": "display_data"
    },
    {
     "name": "stdout",
     "output_type": "stream",
     "text": [
      "passed test for arg: \"age ´m to int\"\n"
     ]
    },
    {
     "data": {
      "text/html": [
       "<style type=\"text/css\">\n",
       "#T_f3b13_row0_col0, #T_f3b13_row0_col1, #T_f3b13_row0_col2, #T_f3b13_row0_col3 {\n",
       "  background-color: #c0e7b0;\n",
       "}\n",
       "</style>\n",
       "<table id=\"T_f3b13\">\n",
       "  <thead>\n",
       "  </thead>\n",
       "  <tbody>\n",
       "    <tr>\n",
       "      <th id=\"T_f3b13_level0_row0\" class=\"row_heading level0 row0\" >35</th>\n",
       "      <td id=\"T_f3b13_row0_col0\" class=\"data row0 col0\" >df was checked. no problems found</td>\n",
       "      <td id=\"T_f3b13_row0_col1\" class=\"data row0 col1\" >qp.pd_util._check_df</td>\n",
       "      <td id=\"T_f3b13_row0_col2\" class=\"data row0 col2\" >info</td>\n",
       "      <td id=\"T_f3b13_row0_col3\" class=\"data row0 col3\" >2024-07-25 11:30:35.208760</td>\n",
       "    </tr>\n",
       "  </tbody>\n",
       "</table>\n"
      ],
      "text/plain": [
       "<pandas.io.formats.style.Styler at 0x287e0225d90>"
      ]
     },
     "metadata": {},
     "output_type": "display_data"
    },
    {
     "name": "stdout",
     "output_type": "stream",
     "text": [
      "passed test for arg: \"=age  ´m to float\"\n"
     ]
    },
    {
     "data": {
      "text/html": [
       "<style type=\"text/css\">\n",
       "#T_ce859_row0_col0, #T_ce859_row0_col1, #T_ce859_row0_col2, #T_ce859_row0_col3 {\n",
       "  background-color: #c0e7b0;\n",
       "}\n",
       "</style>\n",
       "<table id=\"T_ce859\">\n",
       "  <thead>\n",
       "  </thead>\n",
       "  <tbody>\n",
       "    <tr>\n",
       "      <th id=\"T_ce859_level0_row0\" class=\"row_heading level0 row0\" >36</th>\n",
       "      <td id=\"T_ce859_row0_col0\" class=\"data row0 col0\" >df was checked. no problems found</td>\n",
       "      <td id=\"T_ce859_row0_col1\" class=\"data row0 col1\" >qp.pd_util._check_df</td>\n",
       "      <td id=\"T_ce859_row0_col2\" class=\"data row0 col2\" >info</td>\n",
       "      <td id=\"T_ce859_row0_col3\" class=\"data row0 col3\" >2024-07-25 11:30:35.225518</td>\n",
       "    </tr>\n",
       "  </tbody>\n",
       "</table>\n"
      ],
      "text/plain": [
       "<pandas.io.formats.style.Styler at 0x287e0226b40>"
      ]
     },
     "metadata": {},
     "output_type": "display_data"
    },
    {
     "name": "stdout",
     "output_type": "stream",
     "text": [
      "passed test for arg: \"=age   ´m to num\"\n"
     ]
    },
    {
     "data": {
      "text/html": [
       "<style type=\"text/css\">\n",
       "#T_bb026_row0_col0, #T_bb026_row0_col1, #T_bb026_row0_col2, #T_bb026_row0_col3 {\n",
       "  background-color: #c0e7b0;\n",
       "}\n",
       "</style>\n",
       "<table id=\"T_bb026\">\n",
       "  <thead>\n",
       "  </thead>\n",
       "  <tbody>\n",
       "    <tr>\n",
       "      <th id=\"T_bb026_level0_row0\" class=\"row_heading level0 row0\" >37</th>\n",
       "      <td id=\"T_bb026_row0_col0\" class=\"data row0 col0\" >df was checked. no problems found</td>\n",
       "      <td id=\"T_bb026_row0_col1\" class=\"data row0 col1\" >qp.pd_util._check_df</td>\n",
       "      <td id=\"T_bb026_row0_col2\" class=\"data row0 col2\" >info</td>\n",
       "      <td id=\"T_bb026_row0_col3\" class=\"data row0 col3\" >2024-07-25 11:30:35.241927</td>\n",
       "    </tr>\n",
       "  </tbody>\n",
       "</table>\n"
      ],
      "text/plain": [
       "<pandas.io.formats.style.Styler at 0x287e0e2e330>"
      ]
     },
     "metadata": {},
     "output_type": "display_data"
    },
    {
     "name": "stdout",
     "output_type": "stream",
     "text": [
      "passed test for arg: \"=age   ´m to str\"\n"
     ]
    },
    {
     "data": {
      "text/html": [
       "<style type=\"text/css\">\n",
       "#T_9f9b7_row0_col0, #T_9f9b7_row0_col1, #T_9f9b7_row0_col2, #T_9f9b7_row0_col3 {\n",
       "  background-color: #c0e7b0;\n",
       "}\n",
       "</style>\n",
       "<table id=\"T_9f9b7\">\n",
       "  <thead>\n",
       "  </thead>\n",
       "  <tbody>\n",
       "    <tr>\n",
       "      <th id=\"T_9f9b7_level0_row0\" class=\"row_heading level0 row0\" >38</th>\n",
       "      <td id=\"T_9f9b7_row0_col0\" class=\"data row0 col0\" >df was checked. no problems found</td>\n",
       "      <td id=\"T_9f9b7_row0_col1\" class=\"data row0 col1\" >qp.pd_util._check_df</td>\n",
       "      <td id=\"T_9f9b7_row0_col2\" class=\"data row0 col2\" >info</td>\n",
       "      <td id=\"T_9f9b7_row0_col3\" class=\"data row0 col3\" >2024-07-25 11:30:35.257120</td>\n",
       "    </tr>\n",
       "  </tbody>\n",
       "</table>\n"
      ],
      "text/plain": [
       "<pandas.io.formats.style.Styler at 0x287e0225b50>"
      ]
     },
     "metadata": {},
     "output_type": "display_data"
    },
    {
     "name": "stdout",
     "output_type": "stream",
     "text": [
      "passed test for arg: \"date of birth   ´m to date\"\n"
     ]
    },
    {
     "name": "stderr",
     "output_type": "stream",
     "text": [
      "c:\\Users\\MartinVölkl-GouyaIns\\OneDrive - Gouya Insights\\Desktop\\qplib_dev\\qplib\\types.py:97: UserWarning: Parsing dates in %m-%d-%Y format when dayfirst=True was specified. Pass `dayfirst=False` or specify a format to silence this warning.\n",
      "  return pd.to_datetime(x, dayfirst=True).date()\n"
     ]
    },
    {
     "data": {
      "text/html": [
       "<style type=\"text/css\">\n",
       "#T_4d70a_row0_col0, #T_4d70a_row0_col1, #T_4d70a_row0_col2, #T_4d70a_row0_col3 {\n",
       "  background-color: #c0e7b0;\n",
       "}\n",
       "</style>\n",
       "<table id=\"T_4d70a\">\n",
       "  <thead>\n",
       "  </thead>\n",
       "  <tbody>\n",
       "    <tr>\n",
       "      <th id=\"T_4d70a_level0_row0\" class=\"row_heading level0 row0\" >39</th>\n",
       "      <td id=\"T_4d70a_row0_col0\" class=\"data row0 col0\" >df was checked. no problems found</td>\n",
       "      <td id=\"T_4d70a_row0_col1\" class=\"data row0 col1\" >qp.pd_util._check_df</td>\n",
       "      <td id=\"T_4d70a_row0_col2\" class=\"data row0 col2\" >info</td>\n",
       "      <td id=\"T_4d70a_row0_col3\" class=\"data row0 col3\" >2024-07-25 11:30:35.283561</td>\n",
       "    </tr>\n",
       "  </tbody>\n",
       "</table>\n"
      ],
      "text/plain": [
       "<pandas.io.formats.style.Styler at 0x287e0225940>"
      ]
     },
     "metadata": {},
     "output_type": "display_data"
    },
    {
     "name": "stdout",
     "output_type": "stream",
     "text": [
      "passed test for arg: \"=age   ´m to na\"\n"
     ]
    },
    {
     "data": {
      "text/html": [
       "<style type=\"text/css\">\n",
       "#T_7892e_row0_col0, #T_7892e_row0_col1, #T_7892e_row0_col2, #T_7892e_row0_col3 {\n",
       "  background-color: #c0e7b0;\n",
       "}\n",
       "</style>\n",
       "<table id=\"T_7892e\">\n",
       "  <thead>\n",
       "  </thead>\n",
       "  <tbody>\n",
       "    <tr>\n",
       "      <th id=\"T_7892e_level0_row0\" class=\"row_heading level0 row0\" >40</th>\n",
       "      <td id=\"T_7892e_row0_col0\" class=\"data row0 col0\" >df was checked. no problems found</td>\n",
       "      <td id=\"T_7892e_row0_col1\" class=\"data row0 col1\" >qp.pd_util._check_df</td>\n",
       "      <td id=\"T_7892e_row0_col2\" class=\"data row0 col2\" >info</td>\n",
       "      <td id=\"T_7892e_row0_col3\" class=\"data row0 col3\" >2024-07-25 11:30:35.295697</td>\n",
       "    </tr>\n",
       "  </tbody>\n",
       "</table>\n"
      ],
      "text/plain": [
       "<pandas.io.formats.style.Styler at 0x287e0224860>"
      ]
     },
     "metadata": {},
     "output_type": "display_data"
    },
    {
     "name": "stdout",
     "output_type": "stream",
     "text": [
      "passed test for arg: \"=age   ´m to nk\"\n"
     ]
    },
    {
     "data": {
      "text/html": [
       "<style type=\"text/css\">\n",
       "#T_2931c_row0_col0, #T_2931c_row0_col1, #T_2931c_row0_col2, #T_2931c_row0_col3 {\n",
       "  background-color: #c0e7b0;\n",
       "}\n",
       "</style>\n",
       "<table id=\"T_2931c\">\n",
       "  <thead>\n",
       "  </thead>\n",
       "  <tbody>\n",
       "    <tr>\n",
       "      <th id=\"T_2931c_level0_row0\" class=\"row_heading level0 row0\" >41</th>\n",
       "      <td id=\"T_2931c_row0_col0\" class=\"data row0 col0\" >df was checked. no problems found</td>\n",
       "      <td id=\"T_2931c_row0_col1\" class=\"data row0 col1\" >qp.pd_util._check_df</td>\n",
       "      <td id=\"T_2931c_row0_col2\" class=\"data row0 col2\" >info</td>\n",
       "      <td id=\"T_2931c_row0_col3\" class=\"data row0 col3\" >2024-07-25 11:30:35.310890</td>\n",
       "    </tr>\n",
       "  </tbody>\n",
       "</table>\n"
      ],
      "text/plain": [
       "<pandas.io.formats.style.Styler at 0x287e0225850>"
      ]
     },
     "metadata": {},
     "output_type": "display_data"
    },
    {
     "name": "stdout",
     "output_type": "stream",
     "text": [
      "passed test for arg: \"=diabetes   ´m to yn\"\n"
     ]
    }
   ],
   "source": [
    "\n",
    "df1 = get_df()\n",
    "df2 = get_df()\n",
    "result = df1.q('age ´m to int', verbosity=0)\n",
    "df2['age'] = [-25, 30, np.nan, np.nan, 40, np.nan, np.nan, np.nan, np.nan, np.nan, 35]\n",
    "df2['age'] = df2['age'].astype('object')\n",
    "compare(result, df2.loc[:,['age']])\n",
    "\n",
    "df1 = get_df()\n",
    "df2 = get_df()\n",
    "result = df1.q('=age  ´m to float', verbosity=0)\n",
    "df2['age'] = [-25.0, 30.0, np.nan, np.nan, 40.0, np.nan, np.nan, np.nan, np.nan, np.nan, 35.0]\n",
    "df2['age'] = df2['age'].astype('object')\n",
    "compare(result, df2.loc[:,['age']])\n",
    "\n",
    "df1 = get_df()\n",
    "df2 = get_df()\n",
    "result = df1.q('=age   ´m to num', verbosity=0)\n",
    "df2['age'] = [-25, 30, np.nan, np.nan, 40, np.nan, np.nan, np.nan, np.nan, np.nan, 35]\n",
    "df2['age'] = df2['age'].astype('object')\n",
    "compare(result, df2.loc[:,['age']])\n",
    "\n",
    "df1 = get_df()\n",
    "df2 = get_df()\n",
    "result = df1.q('=age   ´m to str', verbosity=0)\n",
    "df2['age'] = ['-25', '30', 'nan', 'None', '40.0', 'forty-five', 'nan', 'unk', '', 'unknown', '35']\n",
    "df2['age'] = df2['age'].astype('object')\n",
    "compare(result, df2.loc[:,['age']])\n",
    "\n",
    "df1 = get_df()\n",
    "df2 = get_df()\n",
    "result = df1.q('date of birth   ´m to date', verbosity=0)\n",
    "df2['date of birth'] = [\n",
    "    pd.to_datetime('1995-01-02', dayfirst=False).date(),\n",
    "    pd.to_datetime('1990/09/14', dayfirst=False).date(),\n",
    "    pd.to_datetime('1985.08.23', dayfirst=False).date(),\n",
    "    pd.to_datetime('19800406', dayfirst=False).date(),\n",
    "    pd.to_datetime('05-11-2007', dayfirst=True).date(),\n",
    "    pd.to_datetime('06-30-1983', dayfirst=False).date(),\n",
    "    pd.to_datetime('28-05-1975', dayfirst=True).date(),\n",
    "    pd.NaT,\n",
    "    pd.to_datetime('1955-Jan-09', dayfirst=False).date(),\n",
    "    pd.to_datetime('1950 Sep 10', dayfirst=False).date(),\n",
    "    pd.to_datetime('1945 October 11', dayfirst=False).date(),\n",
    "    ]\n",
    "df2['age'] = df2['age'].astype('object')\n",
    "compare(result, df2.loc[:,['date of birth']])\n",
    "\n",
    "df1 = get_df()\n",
    "df2 = get_df()\n",
    "result = df1.q('=age   ´m to na', verbosity=0)\n",
    "df2['age'] = [-25, '30', None, None, '40.0', 'forty-five', None, 'unk', None, 'unknown', 35]\n",
    "df2['age'] = df2['age'].astype('object')\n",
    "compare(result, df2.loc[:,['age']])\n",
    "\n",
    "df1 = get_df()\n",
    "df2 = get_df()\n",
    "result = df1.q('=age   ´m to nk', verbosity=0)\n",
    "df2['age'] = [-25, '30', np.nan, None, '40.0', 'forty-five', 'nan', 'unknown', '', 'unknown', 35]\n",
    "df2['age'] = df2['age'].astype('object')\n",
    "compare(result, df2.loc[:,['age']])\n",
    "\n",
    "df1 = get_df()\n",
    "df2 = get_df()\n",
    "result = df1.q('=diabetes   ´m to yn', verbosity=0)\n",
    "df2['diabetes'] = ['no', 'yes', None, 'no', 'yes', 'yes', 'no', None, None, 'no', 'yes']\n",
    "df2['age'] = df2['age'].astype('object')\n",
    "compare(result, df2.loc[:,['diabetes']])"
   ]
  },
  {
   "cell_type": "markdown",
   "metadata": {},
   "source": [
    "## adding columns\n"
   ]
  },
  {
   "cell_type": "code",
   "execution_count": 17,
   "metadata": {},
   "outputs": [],
   "source": [
    "#wip"
   ]
  },
  {
   "cell_type": "markdown",
   "metadata": {},
   "source": [
    "# qp.diff()"
   ]
  },
  {
   "cell_type": "code",
   "execution_count": 18,
   "metadata": {},
   "outputs": [
    {
     "data": {
      "text/html": [
       "<style type=\"text/css\">\n",
       "#T_eb5de_row0_col0, #T_eb5de_row0_col1, #T_eb5de_row0_col2, #T_eb5de_row0_col3 {\n",
       "  background-color: #c0e7b0;\n",
       "}\n",
       "</style>\n",
       "<table id=\"T_eb5de\">\n",
       "  <thead>\n",
       "  </thead>\n",
       "  <tbody>\n",
       "    <tr>\n",
       "      <th id=\"T_eb5de_level0_row0\" class=\"row_heading level0 row0\" >42</th>\n",
       "      <td id=\"T_eb5de_row0_col0\" class=\"data row0 col0\" >adding column \"meta\" at position 0</td>\n",
       "      <td id=\"T_eb5de_row0_col1\" class=\"data row0 col1\" >df.format()</td>\n",
       "      <td id=\"T_eb5de_row0_col2\" class=\"data row0 col2\" >info</td>\n",
       "      <td id=\"T_eb5de_row0_col3\" class=\"data row0 col3\" >2024-07-25 11:30:35.440682</td>\n",
       "    </tr>\n",
       "  </tbody>\n",
       "</table>\n"
      ],
      "text/plain": [
       "<pandas.io.formats.style.Styler at 0x287de6178c0>"
      ]
     },
     "metadata": {},
     "output_type": "display_data"
    },
    {
     "data": {
      "text/html": [
       "<style type=\"text/css\">\n",
       "#T_5f657_row0_col0, #T_5f657_row0_col1, #T_5f657_row0_col2, #T_5f657_row0_col3 {\n",
       "  background-color: #c0e7b0;\n",
       "}\n",
       "</style>\n",
       "<table id=\"T_5f657\">\n",
       "  <thead>\n",
       "  </thead>\n",
       "  <tbody>\n",
       "    <tr>\n",
       "      <th id=\"T_5f657_level0_row0\" class=\"row_heading level0 row0\" >43</th>\n",
       "      <td id=\"T_5f657_row0_col0\" class=\"data row0 col0\" >adding column \"meta\" at position 0</td>\n",
       "      <td id=\"T_5f657_row0_col1\" class=\"data row0 col1\" >df.format()</td>\n",
       "      <td id=\"T_5f657_row0_col2\" class=\"data row0 col2\" >info</td>\n",
       "      <td id=\"T_5f657_row0_col3\" class=\"data row0 col3\" >2024-07-25 11:30:35.452484</td>\n",
       "    </tr>\n",
       "  </tbody>\n",
       "</table>\n"
      ],
      "text/plain": [
       "<pandas.io.formats.style.Styler at 0x287dfbad910>"
      ]
     },
     "metadata": {},
     "output_type": "display_data"
    },
    {
     "data": {
      "text/plain": [
       "{'cols added': 1,\n",
       " 'cols removed': 1,\n",
       " 'rows added': 1,\n",
       " 'rows removed': 1,\n",
       " 'vals added': 1,\n",
       " 'vals removed': 1,\n",
       " 'vals changed': 1}"
      ]
     },
     "metadata": {},
     "output_type": "display_data"
    },
    {
     "data": {
      "text/html": [
       "<style type=\"text/css\">\n",
       "#T_768f4_row0_col1, #T_768f4_row1_col0, #T_768f4_row1_col1, #T_768f4_row1_col2, #T_768f4_row1_col3, #T_768f4_row2_col1 {\n",
       "  background-color: #6dae51;\n",
       "}\n",
       "#T_768f4_row0_col3 {\n",
       "  background-color: #f7d67c;\n",
       "}\n",
       "#T_768f4_row2_col2 {\n",
       "  background-color: #c0e7b0;\n",
       "}\n",
       "#T_768f4_row2_col3 {\n",
       "  background-color: #f7746a;\n",
       "}\n",
       "</style>\n",
       "<table id=\"T_768f4\">\n",
       "  <thead>\n",
       "    <tr>\n",
       "      <th class=\"blank level0\" >&nbsp;</th>\n",
       "      <th id=\"T_768f4_level0_col0\" class=\"col_heading level0 col0\" >meta</th>\n",
       "      <th id=\"T_768f4_level0_col1\" class=\"col_heading level0 col1\" >d</th>\n",
       "      <th id=\"T_768f4_level0_col2\" class=\"col_heading level0 col2\" >b</th>\n",
       "      <th id=\"T_768f4_level0_col3\" class=\"col_heading level0 col3\" >a</th>\n",
       "    </tr>\n",
       "  </thead>\n",
       "  <tbody>\n",
       "    <tr>\n",
       "      <th id=\"T_768f4_level0_row0\" class=\"row_heading level0 row0\" >y</th>\n",
       "      <td id=\"T_768f4_row0_col0\" class=\"data row0 col0\" ><br>vals changed: 1</td>\n",
       "      <td id=\"T_768f4_row0_col1\" class=\"data row0 col1\" >2.000000</td>\n",
       "      <td id=\"T_768f4_row0_col2\" class=\"data row0 col2\" >2.000000</td>\n",
       "      <td id=\"T_768f4_row0_col3\" class=\"data row0 col3\" >0.000000</td>\n",
       "    </tr>\n",
       "    <tr>\n",
       "      <th id=\"T_768f4_level0_row1\" class=\"row_heading level0 row1\" >x2</th>\n",
       "      <td id=\"T_768f4_row1_col0\" class=\"data row1 col0\" >added row</td>\n",
       "      <td id=\"T_768f4_row1_col1\" class=\"data row1 col1\" >1.000000</td>\n",
       "      <td id=\"T_768f4_row1_col2\" class=\"data row1 col2\" >1.000000</td>\n",
       "      <td id=\"T_768f4_row1_col3\" class=\"data row1 col3\" >1.000000</td>\n",
       "    </tr>\n",
       "    <tr>\n",
       "      <th id=\"T_768f4_level0_row2\" class=\"row_heading level0 row2\" >z</th>\n",
       "      <td id=\"T_768f4_row2_col0\" class=\"data row2 col0\" ><br>vals added: 1<br>vals removed: 1</td>\n",
       "      <td id=\"T_768f4_row2_col1\" class=\"data row2 col1\" >3.000000</td>\n",
       "      <td id=\"T_768f4_row2_col2\" class=\"data row2 col2\" >3.000000</td>\n",
       "      <td id=\"T_768f4_row2_col3\" class=\"data row2 col3\" >nan</td>\n",
       "    </tr>\n",
       "  </tbody>\n",
       "</table>\n"
      ],
      "text/plain": [
       "<pandas.io.formats.style.Styler at 0x287e017abd0>"
      ]
     },
     "metadata": {},
     "output_type": "display_data"
    },
    {
     "data": {
      "text/html": [
       "<style type=\"text/css\">\n",
       "#T_62280_row0_col0, #T_62280_row0_col1, #T_62280_row0_col2, #T_62280_row0_col3 {\n",
       "  background-color: #c0e7b0;\n",
       "}\n",
       "</style>\n",
       "<table id=\"T_62280\">\n",
       "  <thead>\n",
       "  </thead>\n",
       "  <tbody>\n",
       "    <tr>\n",
       "      <th id=\"T_62280_level0_row0\" class=\"row_heading level0 row0\" >44</th>\n",
       "      <td id=\"T_62280_row0_col0\" class=\"data row0 col0\" >adding column \"meta\" at position 0</td>\n",
       "      <td id=\"T_62280_row0_col1\" class=\"data row0 col1\" >df.format()</td>\n",
       "      <td id=\"T_62280_row0_col2\" class=\"data row0 col2\" >info</td>\n",
       "      <td id=\"T_62280_row0_col3\" class=\"data row0 col3\" >2024-07-25 11:30:35.520567</td>\n",
       "    </tr>\n",
       "  </tbody>\n",
       "</table>\n"
      ],
      "text/plain": [
       "<pandas.io.formats.style.Styler at 0x287e0e2de20>"
      ]
     },
     "metadata": {},
     "output_type": "display_data"
    },
    {
     "data": {
      "text/html": [
       "<style type=\"text/css\">\n",
       "#T_4836e_row0_col0, #T_4836e_row0_col1, #T_4836e_row0_col2, #T_4836e_row0_col3 {\n",
       "  background-color: #c0e7b0;\n",
       "}\n",
       "</style>\n",
       "<table id=\"T_4836e\">\n",
       "  <thead>\n",
       "  </thead>\n",
       "  <tbody>\n",
       "    <tr>\n",
       "      <th id=\"T_4836e_level0_row0\" class=\"row_heading level0 row0\" >45</th>\n",
       "      <td id=\"T_4836e_row0_col0\" class=\"data row0 col0\" >adding column \"meta\" at position 0</td>\n",
       "      <td id=\"T_4836e_row0_col1\" class=\"data row0 col1\" >df.format()</td>\n",
       "      <td id=\"T_4836e_row0_col2\" class=\"data row0 col2\" >info</td>\n",
       "      <td id=\"T_4836e_row0_col3\" class=\"data row0 col3\" >2024-07-25 11:30:35.526598</td>\n",
       "    </tr>\n",
       "  </tbody>\n",
       "</table>\n"
      ],
      "text/plain": [
       "<pandas.io.formats.style.Styler at 0x287e0e2c740>"
      ]
     },
     "metadata": {},
     "output_type": "display_data"
    },
    {
     "data": {
      "text/plain": [
       "{'cols added': 1,\n",
       " 'cols removed': 1,\n",
       " 'rows added': 1,\n",
       " 'rows removed': 1,\n",
       " 'vals added': 1,\n",
       " 'vals removed': 1,\n",
       " 'vals changed': 1}"
      ]
     },
     "metadata": {},
     "output_type": "display_data"
    },
    {
     "data": {
      "text/html": [
       "<style type=\"text/css\">\n",
       "#T_63568_row0_col0, #T_63568_row0_col1, #T_63568_row0_col2, #T_63568_row0_col3, #T_63568_row1_col3, #T_63568_row2_col3 {\n",
       "  background-color: #f73434;\n",
       "}\n",
       "#T_63568_row1_col1 {\n",
       "  background-color: #f7d67c;\n",
       "}\n",
       "#T_63568_row2_col1 {\n",
       "  background-color: #f7746a;\n",
       "}\n",
       "#T_63568_row2_col2 {\n",
       "  background-color: #c0e7b0;\n",
       "}\n",
       "</style>\n",
       "<table id=\"T_63568\">\n",
       "  <thead>\n",
       "    <tr>\n",
       "      <th class=\"blank level0\" >&nbsp;</th>\n",
       "      <th id=\"T_63568_level0_col0\" class=\"col_heading level0 col0\" >meta</th>\n",
       "      <th id=\"T_63568_level0_col1\" class=\"col_heading level0 col1\" >a</th>\n",
       "      <th id=\"T_63568_level0_col2\" class=\"col_heading level0 col2\" >b</th>\n",
       "      <th id=\"T_63568_level0_col3\" class=\"col_heading level0 col3\" >c</th>\n",
       "    </tr>\n",
       "  </thead>\n",
       "  <tbody>\n",
       "    <tr>\n",
       "      <th id=\"T_63568_level0_row0\" class=\"row_heading level0 row0\" >x</th>\n",
       "      <td id=\"T_63568_row0_col0\" class=\"data row0 col0\" >removed row</td>\n",
       "      <td id=\"T_63568_row0_col1\" class=\"data row0 col1\" >1.000000</td>\n",
       "      <td id=\"T_63568_row0_col2\" class=\"data row0 col2\" >1.000000</td>\n",
       "      <td id=\"T_63568_row0_col3\" class=\"data row0 col3\" >1.000000</td>\n",
       "    </tr>\n",
       "    <tr>\n",
       "      <th id=\"T_63568_level0_row1\" class=\"row_heading level0 row1\" >y</th>\n",
       "      <td id=\"T_63568_row1_col0\" class=\"data row1 col0\" ><br>vals changed: 1</td>\n",
       "      <td id=\"T_63568_row1_col1\" class=\"data row1 col1\" >2.000000</td>\n",
       "      <td id=\"T_63568_row1_col2\" class=\"data row1 col2\" >2.000000</td>\n",
       "      <td id=\"T_63568_row1_col3\" class=\"data row1 col3\" >2.000000</td>\n",
       "    </tr>\n",
       "    <tr>\n",
       "      <th id=\"T_63568_level0_row2\" class=\"row_heading level0 row2\" >z</th>\n",
       "      <td id=\"T_63568_row2_col0\" class=\"data row2 col0\" ><br>vals added: 1<br>vals removed: 1</td>\n",
       "      <td id=\"T_63568_row2_col1\" class=\"data row2 col1\" >3.000000</td>\n",
       "      <td id=\"T_63568_row2_col2\" class=\"data row2 col2\" >nan</td>\n",
       "      <td id=\"T_63568_row2_col3\" class=\"data row2 col3\" >3.000000</td>\n",
       "    </tr>\n",
       "  </tbody>\n",
       "</table>\n"
      ],
      "text/plain": [
       "<pandas.io.formats.style.Styler at 0x287e01af0b0>"
      ]
     },
     "metadata": {},
     "output_type": "display_data"
    },
    {
     "data": {
      "text/html": [
       "<style type=\"text/css\">\n",
       "#T_606a0_row0_col0, #T_606a0_row0_col1, #T_606a0_row0_col2, #T_606a0_row0_col3 {\n",
       "  background-color: #c0e7b0;\n",
       "}\n",
       "</style>\n",
       "<table id=\"T_606a0\">\n",
       "  <thead>\n",
       "  </thead>\n",
       "  <tbody>\n",
       "    <tr>\n",
       "      <th id=\"T_606a0_level0_row0\" class=\"row_heading level0 row0\" >46</th>\n",
       "      <td id=\"T_606a0_row0_col0\" class=\"data row0 col0\" >adding column \"meta\" at position 0</td>\n",
       "      <td id=\"T_606a0_row0_col1\" class=\"data row0 col1\" >df.format()</td>\n",
       "      <td id=\"T_606a0_row0_col2\" class=\"data row0 col2\" >info</td>\n",
       "      <td id=\"T_606a0_row0_col3\" class=\"data row0 col3\" >2024-07-25 11:30:35.567141</td>\n",
       "    </tr>\n",
       "  </tbody>\n",
       "</table>\n"
      ],
      "text/plain": [
       "<pandas.io.formats.style.Styler at 0x287e0deb500>"
      ]
     },
     "metadata": {},
     "output_type": "display_data"
    },
    {
     "data": {
      "text/html": [
       "<style type=\"text/css\">\n",
       "#T_d0652_row0_col0, #T_d0652_row0_col1, #T_d0652_row0_col2, #T_d0652_row0_col3 {\n",
       "  background-color: #c0e7b0;\n",
       "}\n",
       "</style>\n",
       "<table id=\"T_d0652\">\n",
       "  <thead>\n",
       "  </thead>\n",
       "  <tbody>\n",
       "    <tr>\n",
       "      <th id=\"T_d0652_level0_row0\" class=\"row_heading level0 row0\" >47</th>\n",
       "      <td id=\"T_d0652_row0_col0\" class=\"data row0 col0\" >adding column \"meta\" at position 0</td>\n",
       "      <td id=\"T_d0652_row0_col1\" class=\"data row0 col1\" >df.format()</td>\n",
       "      <td id=\"T_d0652_row0_col2\" class=\"data row0 col2\" >info</td>\n",
       "      <td id=\"T_d0652_row0_col3\" class=\"data row0 col3\" >2024-07-25 11:30:35.573059</td>\n",
       "    </tr>\n",
       "  </tbody>\n",
       "</table>\n"
      ],
      "text/plain": [
       "<pandas.io.formats.style.Styler at 0x287e0dea300>"
      ]
     },
     "metadata": {},
     "output_type": "display_data"
    },
    {
     "data": {
      "text/plain": [
       "{'cols added': 1,\n",
       " 'cols removed': 1,\n",
       " 'rows added': 1,\n",
       " 'rows removed': 1,\n",
       " 'vals added': 1,\n",
       " 'vals removed': 1,\n",
       " 'vals changed': 1}"
      ]
     },
     "metadata": {},
     "output_type": "display_data"
    },
    {
     "data": {
      "text/html": [
       "<style type=\"text/css\">\n",
       "#T_a8ac1_row0_col1, #T_a8ac1_row1_col0, #T_a8ac1_row1_col1, #T_a8ac1_row1_col2, #T_a8ac1_row1_col3, #T_a8ac1_row1_col4, #T_a8ac1_row2_col1 {\n",
       "  background-color: #6dae51;\n",
       "}\n",
       "#T_a8ac1_row0_col3 {\n",
       "  background-color: #f7d67c;\n",
       "}\n",
       "#T_a8ac1_row0_col4, #T_a8ac1_row2_col4, #T_a8ac1_row3_col0, #T_a8ac1_row3_col1, #T_a8ac1_row3_col2, #T_a8ac1_row3_col3, #T_a8ac1_row3_col4 {\n",
       "  background-color: #f73434;\n",
       "}\n",
       "#T_a8ac1_row2_col2 {\n",
       "  background-color: #c0e7b0;\n",
       "}\n",
       "#T_a8ac1_row2_col3 {\n",
       "  background-color: #f7746a;\n",
       "}\n",
       "</style>\n",
       "<table id=\"T_a8ac1\">\n",
       "  <thead>\n",
       "    <tr>\n",
       "      <th class=\"blank level0\" >&nbsp;</th>\n",
       "      <th id=\"T_a8ac1_level0_col0\" class=\"col_heading level0 col0\" >meta</th>\n",
       "      <th id=\"T_a8ac1_level0_col1\" class=\"col_heading level0 col1\" >d</th>\n",
       "      <th id=\"T_a8ac1_level0_col2\" class=\"col_heading level0 col2\" >b</th>\n",
       "      <th id=\"T_a8ac1_level0_col3\" class=\"col_heading level0 col3\" >a</th>\n",
       "      <th id=\"T_a8ac1_level0_col4\" class=\"col_heading level0 col4\" >c</th>\n",
       "    </tr>\n",
       "  </thead>\n",
       "  <tbody>\n",
       "    <tr>\n",
       "      <th id=\"T_a8ac1_level0_row0\" class=\"row_heading level0 row0\" >y</th>\n",
       "      <td id=\"T_a8ac1_row0_col0\" class=\"data row0 col0\" ><br>vals changed: 1</td>\n",
       "      <td id=\"T_a8ac1_row0_col1\" class=\"data row0 col1\" >2.000000</td>\n",
       "      <td id=\"T_a8ac1_row0_col2\" class=\"data row0 col2\" >2.000000</td>\n",
       "      <td id=\"T_a8ac1_row0_col3\" class=\"data row0 col3\" >0.000000</td>\n",
       "      <td id=\"T_a8ac1_row0_col4\" class=\"data row0 col4\" >2.000000</td>\n",
       "    </tr>\n",
       "    <tr>\n",
       "      <th id=\"T_a8ac1_level0_row1\" class=\"row_heading level0 row1\" >x2</th>\n",
       "      <td id=\"T_a8ac1_row1_col0\" class=\"data row1 col0\" >added row</td>\n",
       "      <td id=\"T_a8ac1_row1_col1\" class=\"data row1 col1\" >1.000000</td>\n",
       "      <td id=\"T_a8ac1_row1_col2\" class=\"data row1 col2\" >1.000000</td>\n",
       "      <td id=\"T_a8ac1_row1_col3\" class=\"data row1 col3\" >1.000000</td>\n",
       "      <td id=\"T_a8ac1_row1_col4\" class=\"data row1 col4\" >nan</td>\n",
       "    </tr>\n",
       "    <tr>\n",
       "      <th id=\"T_a8ac1_level0_row2\" class=\"row_heading level0 row2\" >z</th>\n",
       "      <td id=\"T_a8ac1_row2_col0\" class=\"data row2 col0\" ><br>vals added: 1<br>vals removed: 1</td>\n",
       "      <td id=\"T_a8ac1_row2_col1\" class=\"data row2 col1\" >3.000000</td>\n",
       "      <td id=\"T_a8ac1_row2_col2\" class=\"data row2 col2\" >3.000000</td>\n",
       "      <td id=\"T_a8ac1_row2_col3\" class=\"data row2 col3\" >nan</td>\n",
       "      <td id=\"T_a8ac1_row2_col4\" class=\"data row2 col4\" >3.000000</td>\n",
       "    </tr>\n",
       "    <tr>\n",
       "      <th id=\"T_a8ac1_level0_row3\" class=\"row_heading level0 row3\" >x</th>\n",
       "      <td id=\"T_a8ac1_row3_col0\" class=\"data row3 col0\" >removed row</td>\n",
       "      <td id=\"T_a8ac1_row3_col1\" class=\"data row3 col1\" >nan</td>\n",
       "      <td id=\"T_a8ac1_row3_col2\" class=\"data row3 col2\" >1.000000</td>\n",
       "      <td id=\"T_a8ac1_row3_col3\" class=\"data row3 col3\" >1.000000</td>\n",
       "      <td id=\"T_a8ac1_row3_col4\" class=\"data row3 col4\" >1.000000</td>\n",
       "    </tr>\n",
       "  </tbody>\n",
       "</table>\n"
      ],
      "text/plain": [
       "<pandas.io.formats.style.Styler at 0x287e0e2cfe0>"
      ]
     },
     "metadata": {},
     "output_type": "display_data"
    },
    {
     "data": {
      "text/html": [
       "<style type=\"text/css\">\n",
       "#T_210ad_row0_col0, #T_210ad_row0_col1, #T_210ad_row0_col2, #T_210ad_row0_col3 {\n",
       "  background-color: #c0e7b0;\n",
       "}\n",
       "</style>\n",
       "<table id=\"T_210ad\">\n",
       "  <thead>\n",
       "  </thead>\n",
       "  <tbody>\n",
       "    <tr>\n",
       "      <th id=\"T_210ad_level0_row0\" class=\"row_heading level0 row0\" >48</th>\n",
       "      <td id=\"T_210ad_row0_col0\" class=\"data row0 col0\" >adding column \"meta\" at position 0</td>\n",
       "      <td id=\"T_210ad_row0_col1\" class=\"data row0 col1\" >df.format()</td>\n",
       "      <td id=\"T_210ad_row0_col2\" class=\"data row0 col2\" >info</td>\n",
       "      <td id=\"T_210ad_row0_col3\" class=\"data row0 col3\" >2024-07-25 11:30:35.619720</td>\n",
       "    </tr>\n",
       "  </tbody>\n",
       "</table>\n"
      ],
      "text/plain": [
       "<pandas.io.formats.style.Styler at 0x287e0deba40>"
      ]
     },
     "metadata": {},
     "output_type": "display_data"
    },
    {
     "data": {
      "text/html": [
       "<style type=\"text/css\">\n",
       "#T_50051_row0_col0, #T_50051_row0_col1, #T_50051_row0_col2, #T_50051_row0_col3 {\n",
       "  background-color: #c0e7b0;\n",
       "}\n",
       "</style>\n",
       "<table id=\"T_50051\">\n",
       "  <thead>\n",
       "  </thead>\n",
       "  <tbody>\n",
       "    <tr>\n",
       "      <th id=\"T_50051_level0_row0\" class=\"row_heading level0 row0\" >49</th>\n",
       "      <td id=\"T_50051_row0_col0\" class=\"data row0 col0\" >adding column \"meta\" at position 0</td>\n",
       "      <td id=\"T_50051_row0_col1\" class=\"data row0 col1\" >df.format()</td>\n",
       "      <td id=\"T_50051_row0_col2\" class=\"data row0 col2\" >info</td>\n",
       "      <td id=\"T_50051_row0_col3\" class=\"data row0 col3\" >2024-07-25 11:30:35.625781</td>\n",
       "    </tr>\n",
       "  </tbody>\n",
       "</table>\n"
      ],
      "text/plain": [
       "<pandas.io.formats.style.Styler at 0x287e0deb650>"
      ]
     },
     "metadata": {},
     "output_type": "display_data"
    },
    {
     "data": {
      "text/plain": [
       "{'cols added': 1,\n",
       " 'cols removed': 1,\n",
       " 'rows added': 1,\n",
       " 'rows removed': 1,\n",
       " 'vals added': 1,\n",
       " 'vals removed': 1,\n",
       " 'vals changed': 1}"
      ]
     },
     "metadata": {},
     "output_type": "display_data"
    },
    {
     "data": {
      "text/html": [
       "<style type=\"text/css\">\n",
       "#T_ba1d1_row0_col1, #T_ba1d1_row1_col0, #T_ba1d1_row1_col1, #T_ba1d1_row1_col2, #T_ba1d1_row1_col3, #T_ba1d1_row1_col4, #T_ba1d1_row1_col5, #T_ba1d1_row1_col6, #T_ba1d1_row2_col1 {\n",
       "  background-color: #6dae51;\n",
       "}\n",
       "#T_ba1d1_row0_col2, #T_ba1d1_row0_col4, #T_ba1d1_row0_col6, #T_ba1d1_row2_col2, #T_ba1d1_row2_col4, #T_ba1d1_row2_col6 {\n",
       "  font-style: italic;\n",
       "}\n",
       "#T_ba1d1_row0_col5 {\n",
       "  background-color: #f7d67c;\n",
       "}\n",
       "#T_ba1d1_row2_col3 {\n",
       "  background-color: #c0e7b0;\n",
       "}\n",
       "#T_ba1d1_row2_col5 {\n",
       "  background-color: #f7746a;\n",
       "}\n",
       "</style>\n",
       "<table id=\"T_ba1d1\">\n",
       "  <thead>\n",
       "    <tr>\n",
       "      <th class=\"blank level0\" >&nbsp;</th>\n",
       "      <th id=\"T_ba1d1_level0_col0\" class=\"col_heading level0 col0\" >meta</th>\n",
       "      <th id=\"T_ba1d1_level0_col1\" class=\"col_heading level0 col1\" >d</th>\n",
       "      <th id=\"T_ba1d1_level0_col2\" class=\"col_heading level0 col2\" >old: d</th>\n",
       "      <th id=\"T_ba1d1_level0_col3\" class=\"col_heading level0 col3\" >b</th>\n",
       "      <th id=\"T_ba1d1_level0_col4\" class=\"col_heading level0 col4\" >old: b</th>\n",
       "      <th id=\"T_ba1d1_level0_col5\" class=\"col_heading level0 col5\" >a</th>\n",
       "      <th id=\"T_ba1d1_level0_col6\" class=\"col_heading level0 col6\" >old: a</th>\n",
       "    </tr>\n",
       "  </thead>\n",
       "  <tbody>\n",
       "    <tr>\n",
       "      <th id=\"T_ba1d1_level0_row0\" class=\"row_heading level0 row0\" >y</th>\n",
       "      <td id=\"T_ba1d1_row0_col0\" class=\"data row0 col0\" ><br>vals changed: 1</td>\n",
       "      <td id=\"T_ba1d1_row0_col1\" class=\"data row0 col1\" >2.000000</td>\n",
       "      <td id=\"T_ba1d1_row0_col2\" class=\"data row0 col2\" ></td>\n",
       "      <td id=\"T_ba1d1_row0_col3\" class=\"data row0 col3\" >2.000000</td>\n",
       "      <td id=\"T_ba1d1_row0_col4\" class=\"data row0 col4\" ></td>\n",
       "      <td id=\"T_ba1d1_row0_col5\" class=\"data row0 col5\" >0.000000</td>\n",
       "      <td id=\"T_ba1d1_row0_col6\" class=\"data row0 col6\" >2.000000</td>\n",
       "    </tr>\n",
       "    <tr>\n",
       "      <th id=\"T_ba1d1_level0_row1\" class=\"row_heading level0 row1\" >x2</th>\n",
       "      <td id=\"T_ba1d1_row1_col0\" class=\"data row1 col0\" >added row</td>\n",
       "      <td id=\"T_ba1d1_row1_col1\" class=\"data row1 col1\" >1.000000</td>\n",
       "      <td id=\"T_ba1d1_row1_col2\" class=\"data row1 col2\" ></td>\n",
       "      <td id=\"T_ba1d1_row1_col3\" class=\"data row1 col3\" >1.000000</td>\n",
       "      <td id=\"T_ba1d1_row1_col4\" class=\"data row1 col4\" ></td>\n",
       "      <td id=\"T_ba1d1_row1_col5\" class=\"data row1 col5\" >1.000000</td>\n",
       "      <td id=\"T_ba1d1_row1_col6\" class=\"data row1 col6\" ></td>\n",
       "    </tr>\n",
       "    <tr>\n",
       "      <th id=\"T_ba1d1_level0_row2\" class=\"row_heading level0 row2\" >z</th>\n",
       "      <td id=\"T_ba1d1_row2_col0\" class=\"data row2 col0\" ><br>vals added: 1<br>vals removed: 1</td>\n",
       "      <td id=\"T_ba1d1_row2_col1\" class=\"data row2 col1\" >3.000000</td>\n",
       "      <td id=\"T_ba1d1_row2_col2\" class=\"data row2 col2\" ></td>\n",
       "      <td id=\"T_ba1d1_row2_col3\" class=\"data row2 col3\" >3.000000</td>\n",
       "      <td id=\"T_ba1d1_row2_col4\" class=\"data row2 col4\" >None</td>\n",
       "      <td id=\"T_ba1d1_row2_col5\" class=\"data row2 col5\" >nan</td>\n",
       "      <td id=\"T_ba1d1_row2_col6\" class=\"data row2 col6\" >3.000000</td>\n",
       "    </tr>\n",
       "  </tbody>\n",
       "</table>\n"
      ],
      "text/plain": [
       "<pandas.io.formats.style.Styler at 0x287d0096990>"
      ]
     },
     "metadata": {},
     "output_type": "display_data"
    },
    {
     "data": {
      "text/plain": [
       "{'cols added': 1,\n",
       " 'cols removed': 1,\n",
       " 'rows added': 1,\n",
       " 'rows removed': 1,\n",
       " 'vals added': 1,\n",
       " 'vals removed': 1,\n",
       " 'vals changed': 1}"
      ]
     },
     "metadata": {},
     "output_type": "display_data"
    },
    {
     "name": "stdout",
     "output_type": "stream",
     "text": [
      "passed test for mode: \"new\"\n"
     ]
    },
    {
     "data": {
      "text/plain": [
       "{'cols added': 1,\n",
       " 'cols removed': 1,\n",
       " 'rows added': 1,\n",
       " 'rows removed': 1,\n",
       " 'vals added': 1,\n",
       " 'vals removed': 1,\n",
       " 'vals changed': 1}"
      ]
     },
     "metadata": {},
     "output_type": "display_data"
    },
    {
     "name": "stdout",
     "output_type": "stream",
     "text": [
      "passed test for mode: \"old\"\n"
     ]
    },
    {
     "data": {
      "text/plain": [
       "{'cols added': 1,\n",
       " 'cols removed': 1,\n",
       " 'rows added': 1,\n",
       " 'rows removed': 1,\n",
       " 'vals added': 1,\n",
       " 'vals removed': 1,\n",
       " 'vals changed': 1}"
      ]
     },
     "metadata": {},
     "output_type": "display_data"
    },
    {
     "name": "stdout",
     "output_type": "stream",
     "text": [
      "passed test for mode: \"mix\"\n"
     ]
    },
    {
     "data": {
      "text/plain": [
       "{'cols added': 1,\n",
       " 'cols removed': 1,\n",
       " 'rows added': 1,\n",
       " 'rows removed': 1,\n",
       " 'vals added': 1,\n",
       " 'vals removed': 1,\n",
       " 'vals changed': 1}"
      ]
     },
     "metadata": {},
     "output_type": "display_data"
    },
    {
     "name": "stdout",
     "output_type": "stream",
     "text": [
      "passed test for mode: \"new+\"\n"
     ]
    }
   ],
   "source": [
    "def compare(df_new, df_old, expected, mode):\n",
    "    result = qp.diff(df_new, df_old, mode, verbosity=0).data\n",
    "    # display(expected == result)\n",
    "    if result.equals(expected):\n",
    "        print(f'passed test for mode: \"{mode}\"')\n",
    "    else:\n",
    "        print('new:')\n",
    "        display(df_new)\n",
    "        print('old:')\n",
    "        display(df_old)\n",
    "        print('expected:')\n",
    "        display(expected)\n",
    "        print('result:')\n",
    "        display(result)\n",
    "        raise Exception(f'failed test for mode: \"{mode}\"')\n",
    "\n",
    "\n",
    "df_new, df_old = qp.get_dfs()\n",
    "\n",
    "\n",
    "result_new = pd.DataFrame(columns=['meta', 'd', 'b', 'a'], index=['y','x2','z'])\n",
    "\n",
    "\n",
    "result_new.loc['y', 'meta'] = '<br>vals changed: 1'\n",
    "result_new.loc['y', 'd'] = 2.0\n",
    "result_new.loc['y', 'b'] = 2.0\n",
    "result_new.loc['y', 'a'] = 0.0\n",
    "\n",
    "result_new.loc['x2', 'meta'] = 'added row'\n",
    "result_new.loc['x2', 'd'] = 1.0\n",
    "result_new.loc['x2', 'b'] = 1.0\n",
    "result_new.loc['x2', 'a'] = 1.0\n",
    "\n",
    "result_new.loc['z', 'meta'] = '<br>vals added: 1<br>vals removed: 1'\n",
    "result_new.loc['z', 'd'] = 3.0\n",
    "result_new.loc['z', 'b'] = 3.0\n",
    "result_new.loc['z', 'a'] = np.nan\n",
    "\n",
    "\n",
    "\n",
    "result_old = pd.DataFrame(columns=['meta', 'a', 'b', 'c'], index=['x','y','z'])\n",
    "\n",
    "result_old.loc['x', 'meta'] ='removed row'\n",
    "result_old.loc['x', 'a'] = 1.0\n",
    "result_old.loc['x', 'b'] = 1.0\n",
    "result_old.loc['x', 'c'] = 1.0\n",
    "\n",
    "result_old.loc['y', 'meta'] = '<br>vals changed: 1'\n",
    "result_old.loc['y', 'a'] = 2.0\n",
    "result_old.loc['y', 'b'] = 2.0\n",
    "result_old.loc['y', 'c'] = 2.0\n",
    "\n",
    "result_old.loc['z', 'meta'] = '<br>vals added: 1<br>vals removed: 1'\n",
    "result_old.loc['z', 'a'] = 3.0\n",
    "result_old.loc['z', 'b'] = None\n",
    "result_old.loc['z', 'c'] = 3.0\n",
    "\n",
    "\n",
    "\n",
    "result_mix = pd.DataFrame(columns=['meta', 'd', 'b', 'a', 'c'], index=['y', 'x2', 'z', 'x'])\n",
    "\n",
    "result_mix.loc['y', 'meta'] = '<br>vals changed: 1'\n",
    "result_mix.loc['y', 'd'] = 2.0\n",
    "result_mix.loc['y', 'b'] = 2.0\n",
    "result_mix.loc['y', 'a'] = 0.0\n",
    "result_mix.loc['y', 'c'] = 2.0\n",
    "\n",
    "result_mix.loc['x2', 'meta'] = 'added row'\n",
    "result_mix.loc['x2', 'd'] = 1.0\n",
    "result_mix.loc['x2', 'b'] = 1.0\n",
    "result_mix.loc['x2', 'a'] = 1.0\n",
    "result_mix.loc['x2', 'c'] = np.nan\n",
    "\n",
    "result_mix.loc['z', 'meta'] = '<br>vals added: 1<br>vals removed: 1'\n",
    "result_mix.loc['z', 'd'] = 3.0\n",
    "result_mix.loc['z', 'b'] = 3.0\n",
    "result_mix.loc['z', 'a'] = np.nan\n",
    "result_mix.loc['z', 'c'] = 3.0\n",
    "\n",
    "result_mix.loc['x', 'meta'] ='removed row'\n",
    "result_mix.loc['x', 'd'] = None\n",
    "result_mix.loc['x', 'b'] = 1.0\n",
    "result_mix.loc['x', 'a'] = 1.0\n",
    "result_mix.loc['x', 'c'] = 1.0\n",
    "\n",
    "\n",
    "\n",
    "\n",
    "result_new_plus = pd.DataFrame(columns=['meta', 'd', 'old: d', 'b', 'old: b', 'a', 'old: a'], index=['y','x2','z'])\n",
    "\n",
    "\n",
    "result_new_plus.loc['y', 'meta'] = '<br>vals changed: 1'\n",
    "result_new_plus.loc['y', 'd'] = 2.0\n",
    "result_new_plus.loc['y', 'old: d'] = ''\n",
    "result_new_plus.loc['y', 'b'] = 2.0\n",
    "result_new_plus.loc['y', 'old: b'] = ''\n",
    "result_new_plus.loc['y', 'a'] = 0.0\n",
    "result_new_plus.loc['y', 'old: a'] = 2.0\n",
    "\n",
    "result_new_plus.loc['x2', 'meta'] = 'added row'\n",
    "result_new_plus.loc['x2', 'd'] = 1.0\n",
    "result_new_plus.loc['x2', 'old: d'] = ''\n",
    "result_new_plus.loc['x2', 'b'] = 1.0\n",
    "result_new_plus.loc['x2', 'old: b'] = ''\n",
    "result_new_plus.loc['x2', 'a'] = 1.0\n",
    "result_new_plus.loc['x2', 'old: a'] = ''\n",
    "\n",
    "result_new_plus.loc['z', 'meta'] = '<br>vals added: 1<br>vals removed: 1'\n",
    "result_new_plus.loc['z', 'd'] = 3.0\n",
    "result_new_plus.loc['z', 'old: d'] = ''\n",
    "result_new_plus.loc['z', 'b'] = 3.0\n",
    "result_new_plus.loc['z', 'old: b'] = None\n",
    "result_new_plus.loc['z', 'a'] = np.nan\n",
    "result_new_plus.loc['z', 'old: a'] = 3.0\n",
    "\n",
    "\n",
    "display(qp.diff(df_new, df_old, 'new', verbosity=4))\n",
    "display(qp.diff(df_new, df_old, 'old', verbosity=4))\n",
    "display(qp.diff(df_new, df_old, 'mix', verbosity=4))\n",
    "display(qp.diff(df_new, df_old, 'new+', verbosity=4))\n",
    "\n",
    "compare(df_new, df_old, result_new, 'new')\n",
    "compare(df_new, df_old, result_old, 'old')\n",
    "compare(df_new, df_old, result_mix, 'mix')\n",
    "compare(df_new, df_old, result_new_plus, 'new+')\n",
    "\n"
   ]
  },
  {
   "cell_type": "markdown",
   "metadata": {},
   "source": [
    "# df.format()"
   ]
  },
  {
   "cell_type": "code",
   "execution_count": 19,
   "metadata": {},
   "outputs": [
    {
     "name": "stdout",
     "output_type": "stream",
     "text": [
      "passed test for finding all errors in df\n"
     ]
    },
    {
     "data": {
      "text/html": [
       "<div>\n",
       "<style scoped>\n",
       "    .dataframe tbody tr th:only-of-type {\n",
       "        vertical-align: middle;\n",
       "    }\n",
       "\n",
       "    .dataframe tbody tr th {\n",
       "        vertical-align: top;\n",
       "    }\n",
       "\n",
       "    .dataframe thead th {\n",
       "        text-align: right;\n",
       "    }\n",
       "</style>\n",
       "<table border=\"1\" class=\"dataframe\">\n",
       "  <thead>\n",
       "    <tr style=\"text-align: right;\">\n",
       "      <th></th>\n",
       "      <th>a</th>\n",
       "      <th>b</th>\n",
       "      <th>c</th>\n",
       "    </tr>\n",
       "  </thead>\n",
       "  <tbody>\n",
       "  </tbody>\n",
       "</table>\n",
       "</div>"
      ],
      "text/plain": [
       "Empty DataFrame\n",
       "Columns: [a, b, c]\n",
       "Index: []"
      ]
     },
     "metadata": {},
     "output_type": "display_data"
    },
    {
     "name": "stdout",
     "output_type": "stream",
     "text": [
      "passed test for finding all errors in df\n"
     ]
    },
    {
     "data": {
      "text/html": [
       "<div>\n",
       "<style scoped>\n",
       "    .dataframe tbody tr th:only-of-type {\n",
       "        vertical-align: middle;\n",
       "    }\n",
       "\n",
       "    .dataframe tbody tr th {\n",
       "        vertical-align: top;\n",
       "    }\n",
       "\n",
       "    .dataframe thead th {\n",
       "        text-align: right;\n",
       "    }\n",
       "</style>\n",
       "<table border=\"1\" class=\"dataframe\">\n",
       "  <thead>\n",
       "    <tr style=\"text-align: right;\">\n",
       "      <th></th>\n",
       "      <th>meta</th>\n",
       "      <th>a</th>\n",
       "      <th>b</th>\n",
       "      <th>c</th>\n",
       "    </tr>\n",
       "  </thead>\n",
       "  <tbody>\n",
       "  </tbody>\n",
       "</table>\n",
       "</div>"
      ],
      "text/plain": [
       "Empty DataFrame\n",
       "Columns: [meta, a, b, c]\n",
       "Index: []"
      ]
     },
     "metadata": {},
     "output_type": "display_data"
    },
    {
     "name": "stdout",
     "output_type": "stream",
     "text": [
      "passed test for finding all errors in df\n"
     ]
    },
    {
     "data": {
      "text/html": [
       "<div>\n",
       "<style scoped>\n",
       "    .dataframe tbody tr th:only-of-type {\n",
       "        vertical-align: middle;\n",
       "    }\n",
       "\n",
       "    .dataframe tbody tr th {\n",
       "        vertical-align: top;\n",
       "    }\n",
       "\n",
       "    .dataframe thead th {\n",
       "        text-align: right;\n",
       "    }\n",
       "</style>\n",
       "<table border=\"1\" class=\"dataframe\">\n",
       "  <thead>\n",
       "    <tr style=\"text-align: right;\">\n",
       "      <th></th>\n",
       "      <th>a</th>\n",
       "      <th>b</th>\n",
       "      <th>c</th>\n",
       "      <th>a b c</th>\n",
       "    </tr>\n",
       "  </thead>\n",
       "  <tbody>\n",
       "  </tbody>\n",
       "</table>\n",
       "</div>"
      ],
      "text/plain": [
       "Empty DataFrame\n",
       "Columns: [ a, b ,  c , a b c ]\n",
       "Index: []"
      ]
     },
     "metadata": {},
     "output_type": "display_data"
    }
   ],
   "source": [
    "def compare(df, result, expected):\n",
    "    if result.equals(expected):\n",
    "        print(f'passed test for finding all errors in df')\n",
    "        display(df)\n",
    "    else:\n",
    "        print('result:')\n",
    "        display(result)\n",
    "        print('expected:')\n",
    "        display(expected)\n",
    "        raise Exception(f'failed test for finding all errors in df')\n",
    "\n",
    "\n",
    "\n",
    "df = pd.DataFrame(columns=['a', 'b', 'c'])\n",
    "result = df.format(verbosity=0)\n",
    "expected = pd.DataFrame('', columns=['meta', 'a', 'b', 'c'], index=[])\n",
    "compare(df, result, expected)\n",
    "\n",
    "\n",
    "df = pd.DataFrame(columns=['meta', 'a', 'b', 'c'], index=[])\n",
    "result = df.format(verbosity=0)\n",
    "expected = pd.DataFrame('', columns=['meta', 'a', 'b', 'c'], index=[])\n",
    "compare(df, result, expected)\n",
    "\n",
    "\n",
    "df = pd.DataFrame(columns=[' a', 'b ', ' c ', 'a b c '])\n",
    "result = df.format(verbosity=0)\n",
    "expected = pd.DataFrame('', columns=['meta', 'a', 'b', 'c', 'a b c'], index=[])\n",
    "compare(df, result, expected)\n",
    "\n"
   ]
  },
  {
   "cell_type": "markdown",
   "metadata": {},
   "source": [
    "# df.save() and df.load()"
   ]
  },
  {
   "cell_type": "code",
   "execution_count": 20,
   "metadata": {},
   "outputs": [
    {
     "data": {
      "text/html": [
       "<style type=\"text/css\">\n",
       "#T_917b7_row0_col0, #T_917b7_row0_col1, #T_917b7_row0_col2, #T_917b7_row0_col3 {\n",
       "  background-color: #f7d67c;\n",
       "}\n",
       "</style>\n",
       "<table id=\"T_917b7\">\n",
       "  <thead>\n",
       "  </thead>\n",
       "  <tbody>\n",
       "    <tr>\n",
       "      <th id=\"T_917b7_level0_row0\" class=\"row_heading level0 row0\" >50</th>\n",
       "      <td id=\"T_917b7_row0_col0\" class=\"data row0 col0\" >saving df to \"df.xlsx\" in sheet \"data1\"</td>\n",
       "      <td id=\"T_917b7_row0_col1\" class=\"data row0 col1\" >df.save()</td>\n",
       "      <td id=\"T_917b7_row0_col2\" class=\"data row0 col2\" >Warning</td>\n",
       "      <td id=\"T_917b7_row0_col3\" class=\"data row0 col3\" >2024-07-25 11:30:35.894775</td>\n",
       "    </tr>\n",
       "  </tbody>\n",
       "</table>\n"
      ],
      "text/plain": [
       "<pandas.io.formats.style.Styler at 0x287e0dea8d0>"
      ]
     },
     "metadata": {},
     "output_type": "display_data"
    },
    {
     "data": {
      "text/html": [
       "<style type=\"text/css\">\n",
       "#T_81648_row0_col0, #T_81648_row0_col1, #T_81648_row0_col2, #T_81648_row0_col3 {\n",
       "  background-color: #c0e7b0;\n",
       "}\n",
       "</style>\n",
       "<table id=\"T_81648\">\n",
       "  <thead>\n",
       "  </thead>\n",
       "  <tbody>\n",
       "    <tr>\n",
       "      <th id=\"T_81648_level0_row0\" class=\"row_heading level0 row0\" >51</th>\n",
       "      <td id=\"T_81648_row0_col0\" class=\"data row0 col0\" >archiving df to \"c:\\Users\\MartinVölkl-GouyaIns\\OneDrive - Gouya Insights\\Desktop\\qplib_dev/archive/df_2024_07_25.xlsx\" in sheet \"data1\"</td>\n",
       "      <td id=\"T_81648_row0_col1\" class=\"data row0 col1\" >df.save()</td>\n",
       "      <td id=\"T_81648_row0_col2\" class=\"data row0 col2\" >info</td>\n",
       "      <td id=\"T_81648_row0_col3\" class=\"data row0 col3\" >2024-07-25 11:30:36.471551</td>\n",
       "    </tr>\n",
       "  </tbody>\n",
       "</table>\n"
      ],
      "text/plain": [
       "<pandas.io.formats.style.Styler at 0x287e0be9f40>"
      ]
     },
     "metadata": {},
     "output_type": "display_data"
    },
    {
     "name": "stdout",
     "output_type": "stream",
     "text": [
      "passed test for default saving behaviour\n",
      "passed test for loading from default file\n"
     ]
    },
    {
     "data": {
      "text/html": [
       "<style type=\"text/css\">\n",
       "#T_b40c2_row0_col0, #T_b40c2_row0_col1, #T_b40c2_row0_col2, #T_b40c2_row0_col3 {\n",
       "  background-color: #f7d67c;\n",
       "}\n",
       "</style>\n",
       "<table id=\"T_b40c2\">\n",
       "  <thead>\n",
       "  </thead>\n",
       "  <tbody>\n",
       "    <tr>\n",
       "      <th id=\"T_b40c2_level0_row0\" class=\"row_heading level0 row0\" >52</th>\n",
       "      <td id=\"T_b40c2_row0_col0\" class=\"data row0 col0\" >saving df to \"df1.xlsx\" in sheet \"data1\"</td>\n",
       "      <td id=\"T_b40c2_row0_col1\" class=\"data row0 col1\" >df.save()</td>\n",
       "      <td id=\"T_b40c2_row0_col2\" class=\"data row0 col2\" >Warning</td>\n",
       "      <td id=\"T_b40c2_row0_col3\" class=\"data row0 col3\" >2024-07-25 11:30:36.513214</td>\n",
       "    </tr>\n",
       "  </tbody>\n",
       "</table>\n"
      ],
      "text/plain": [
       "<pandas.io.formats.style.Styler at 0x287e1295520>"
      ]
     },
     "metadata": {},
     "output_type": "display_data"
    },
    {
     "data": {
      "text/html": [
       "<style type=\"text/css\">\n",
       "#T_81221_row0_col0, #T_81221_row0_col1, #T_81221_row0_col2, #T_81221_row0_col3 {\n",
       "  background-color: #c0e7b0;\n",
       "}\n",
       "</style>\n",
       "<table id=\"T_81221\">\n",
       "  <thead>\n",
       "  </thead>\n",
       "  <tbody>\n",
       "    <tr>\n",
       "      <th id=\"T_81221_level0_row0\" class=\"row_heading level0 row0\" >53</th>\n",
       "      <td id=\"T_81221_row0_col0\" class=\"data row0 col0\" >archiving df to \"c:\\Users\\MartinVölkl-GouyaIns\\OneDrive - Gouya Insights\\Desktop\\qplib_dev/archive/df1_2024_07_25.xlsx\" in sheet \"data1\"</td>\n",
       "      <td id=\"T_81221_row0_col1\" class=\"data row0 col1\" >df.save()</td>\n",
       "      <td id=\"T_81221_row0_col2\" class=\"data row0 col2\" >info</td>\n",
       "      <td id=\"T_81221_row0_col3\" class=\"data row0 col3\" >2024-07-25 11:30:36.539486</td>\n",
       "    </tr>\n",
       "  </tbody>\n",
       "</table>\n"
      ],
      "text/plain": [
       "<pandas.io.formats.style.Styler at 0x287e1230350>"
      ]
     },
     "metadata": {},
     "output_type": "display_data"
    },
    {
     "name": "stdout",
     "output_type": "stream",
     "text": [
      "passed test for saving to a specific file\n",
      "passed test for loading from a specific file\n"
     ]
    },
    {
     "data": {
      "text/html": [
       "<style type=\"text/css\">\n",
       "#T_fa47c_row0_col0, #T_fa47c_row0_col1, #T_fa47c_row0_col2, #T_fa47c_row0_col3 {\n",
       "  background-color: #f7d67c;\n",
       "}\n",
       "</style>\n",
       "<table id=\"T_fa47c\">\n",
       "  <thead>\n",
       "  </thead>\n",
       "  <tbody>\n",
       "    <tr>\n",
       "      <th id=\"T_fa47c_level0_row0\" class=\"row_heading level0 row0\" >54</th>\n",
       "      <td id=\"T_fa47c_row0_col0\" class=\"data row0 col0\" >saving df to \"test/df1.xlsx\" in sheet \"data1\"</td>\n",
       "      <td id=\"T_fa47c_row0_col1\" class=\"data row0 col1\" >df.save()</td>\n",
       "      <td id=\"T_fa47c_row0_col2\" class=\"data row0 col2\" >Warning</td>\n",
       "      <td id=\"T_fa47c_row0_col3\" class=\"data row0 col3\" >2024-07-25 11:30:36.575884</td>\n",
       "    </tr>\n",
       "  </tbody>\n",
       "</table>\n"
      ],
      "text/plain": [
       "<pandas.io.formats.style.Styler at 0x287e10b5460>"
      ]
     },
     "metadata": {},
     "output_type": "display_data"
    },
    {
     "data": {
      "text/html": [
       "<style type=\"text/css\">\n",
       "#T_2f597_row0_col0, #T_2f597_row0_col1, #T_2f597_row0_col2, #T_2f597_row0_col3 {\n",
       "  background-color: #f7d67c;\n",
       "}\n",
       "</style>\n",
       "<table id=\"T_2f597\">\n",
       "  <thead>\n",
       "  </thead>\n",
       "  <tbody>\n",
       "    <tr>\n",
       "      <th id=\"T_2f597_level0_row0\" class=\"row_heading level0 row0\" >55</th>\n",
       "      <td id=\"T_2f597_row0_col0\" class=\"data row0 col0\" >did not find archive folder \"test/archive\"</td>\n",
       "      <td id=\"T_2f597_row0_col1\" class=\"data row0 col1\" >df.save()</td>\n",
       "      <td id=\"T_2f597_row0_col2\" class=\"data row0 col2\" >Warning</td>\n",
       "      <td id=\"T_2f597_row0_col3\" class=\"data row0 col3\" >2024-07-25 11:30:36.600765</td>\n",
       "    </tr>\n",
       "  </tbody>\n",
       "</table>\n"
      ],
      "text/plain": [
       "<pandas.io.formats.style.Styler at 0x287c9ed0b60>"
      ]
     },
     "metadata": {},
     "output_type": "display_data"
    },
    {
     "name": "stdout",
     "output_type": "stream",
     "text": [
      "passed test for saving to a specific file in folder\n",
      "passed test for loading from a specific file in folder\n"
     ]
    },
    {
     "data": {
      "text/html": [
       "<style type=\"text/css\">\n",
       "#T_98b75_row0_col0, #T_98b75_row0_col1, #T_98b75_row0_col2, #T_98b75_row0_col3 {\n",
       "  background-color: #f7d67c;\n",
       "}\n",
       "</style>\n",
       "<table id=\"T_98b75\">\n",
       "  <thead>\n",
       "  </thead>\n",
       "  <tbody>\n",
       "    <tr>\n",
       "      <th id=\"T_98b75_level0_row0\" class=\"row_heading level0 row0\" >56</th>\n",
       "      <td id=\"T_98b75_row0_col0\" class=\"data row0 col0\" >file \"df1.xlsx\" already exists. data in sheet \"data2\" will be overwritten</td>\n",
       "      <td id=\"T_98b75_row0_col1\" class=\"data row0 col1\" >df.save()</td>\n",
       "      <td id=\"T_98b75_row0_col2\" class=\"data row0 col2\" >Warning</td>\n",
       "      <td id=\"T_98b75_row0_col3\" class=\"data row0 col3\" >2024-07-25 11:30:36.617210</td>\n",
       "    </tr>\n",
       "  </tbody>\n",
       "</table>\n"
      ],
      "text/plain": [
       "<pandas.io.formats.style.Styler at 0x287e1243680>"
      ]
     },
     "metadata": {},
     "output_type": "display_data"
    },
    {
     "data": {
      "text/html": [
       "<style type=\"text/css\">\n",
       "#T_fa037_row0_col0, #T_fa037_row0_col1, #T_fa037_row0_col2, #T_fa037_row0_col3 {\n",
       "  background-color: #f7d67c;\n",
       "}\n",
       "</style>\n",
       "<table id=\"T_fa037\">\n",
       "  <thead>\n",
       "  </thead>\n",
       "  <tbody>\n",
       "    <tr>\n",
       "      <th id=\"T_fa037_level0_row0\" class=\"row_heading level0 row0\" >57</th>\n",
       "      <td id=\"T_fa037_row0_col0\" class=\"data row0 col0\" >archive file \"c:\\Users\\MartinVölkl-GouyaIns\\OneDrive - Gouya Insights\\Desktop\\qplib_dev/archive/df1_2024_07_25.xlsx\" already exists. data in sheet \"data2\" will be overwritten</td>\n",
       "      <td id=\"T_fa037_row0_col1\" class=\"data row0 col1\" >df.save()</td>\n",
       "      <td id=\"T_fa037_row0_col2\" class=\"data row0 col2\" >Warning</td>\n",
       "      <td id=\"T_fa037_row0_col3\" class=\"data row0 col3\" >2024-07-25 11:30:36.648076</td>\n",
       "    </tr>\n",
       "  </tbody>\n",
       "</table>\n"
      ],
      "text/plain": [
       "<pandas.io.formats.style.Styler at 0x287c9ed0b60>"
      ]
     },
     "metadata": {},
     "output_type": "display_data"
    },
    {
     "name": "stdout",
     "output_type": "stream",
     "text": [
      "passed test for saving and loading to and from a specific sheet\n"
     ]
    },
    {
     "data": {
      "text/html": [
       "<style type=\"text/css\">\n",
       "#T_dae34_row0_col0, #T_dae34_row0_col1, #T_dae34_row0_col2, #T_dae34_row0_col3 {\n",
       "  background-color: #f7d67c;\n",
       "}\n",
       "</style>\n",
       "<table id=\"T_dae34\">\n",
       "  <thead>\n",
       "  </thead>\n",
       "  <tbody>\n",
       "    <tr>\n",
       "      <th id=\"T_dae34_level0_row0\" class=\"row_heading level0 row0\" >58</th>\n",
       "      <td id=\"T_dae34_row0_col0\" class=\"data row0 col0\" >file \"df1.xlsx\" already exists. data in sheet \"data1\" will be overwritten</td>\n",
       "      <td id=\"T_dae34_row0_col1\" class=\"data row0 col1\" >df.save()</td>\n",
       "      <td id=\"T_dae34_row0_col2\" class=\"data row0 col2\" >Warning</td>\n",
       "      <td id=\"T_dae34_row0_col3\" class=\"data row0 col3\" >2024-07-25 11:30:36.707526</td>\n",
       "    </tr>\n",
       "  </tbody>\n",
       "</table>\n"
      ],
      "text/plain": [
       "<pandas.io.formats.style.Styler at 0x287c9ed0d10>"
      ]
     },
     "metadata": {},
     "output_type": "display_data"
    },
    {
     "data": {
      "text/html": [
       "<style type=\"text/css\">\n",
       "#T_dea7d_row0_col0, #T_dea7d_row0_col1, #T_dea7d_row0_col2, #T_dea7d_row0_col3 {\n",
       "  background-color: #f7d67c;\n",
       "}\n",
       "</style>\n",
       "<table id=\"T_dea7d\">\n",
       "  <thead>\n",
       "  </thead>\n",
       "  <tbody>\n",
       "    <tr>\n",
       "      <th id=\"T_dea7d_level0_row0\" class=\"row_heading level0 row0\" >59</th>\n",
       "      <td id=\"T_dea7d_row0_col0\" class=\"data row0 col0\" >archive file \"c:\\Users\\MartinVölkl-GouyaIns\\OneDrive - Gouya Insights\\Desktop\\qplib_dev/archive/df1_2024_07_25.xlsx\" already exists. data in sheet \"data1\" will be overwritten</td>\n",
       "      <td id=\"T_dea7d_row0_col1\" class=\"data row0 col1\" >df.save()</td>\n",
       "      <td id=\"T_dea7d_row0_col2\" class=\"data row0 col2\" >Warning</td>\n",
       "      <td id=\"T_dea7d_row0_col3\" class=\"data row0 col3\" >2024-07-25 11:30:36.744852</td>\n",
       "    </tr>\n",
       "  </tbody>\n",
       "</table>\n"
      ],
      "text/plain": [
       "<pandas.io.formats.style.Styler at 0x287e1315d00>"
      ]
     },
     "metadata": {},
     "output_type": "display_data"
    },
    {
     "name": "stdout",
     "output_type": "stream",
     "text": [
      "passed test for overwriting sheets\n"
     ]
    },
    {
     "data": {
      "text/html": [
       "<style type=\"text/css\">\n",
       "#T_f46c6_row0_col0, #T_f46c6_row0_col1, #T_f46c6_row0_col2, #T_f46c6_row0_col3 {\n",
       "  background-color: #f7d67c;\n",
       "}\n",
       "</style>\n",
       "<table id=\"T_f46c6\">\n",
       "  <thead>\n",
       "  </thead>\n",
       "  <tbody>\n",
       "    <tr>\n",
       "      <th id=\"T_f46c6_level0_row0\" class=\"row_heading level0 row0\" >60</th>\n",
       "      <td id=\"T_f46c6_row0_col0\" class=\"data row0 col0\" >file \"df1.xlsx\" already exists. data in sheet \"data1\" will be overwritten</td>\n",
       "      <td id=\"T_f46c6_row0_col1\" class=\"data row0 col1\" >df.save()</td>\n",
       "      <td id=\"T_f46c6_row0_col2\" class=\"data row0 col2\" >Warning</td>\n",
       "      <td id=\"T_f46c6_row0_col3\" class=\"data row0 col3\" >2024-07-25 11:30:36.803009</td>\n",
       "    </tr>\n",
       "  </tbody>\n",
       "</table>\n"
      ],
      "text/plain": [
       "<pandas.io.formats.style.Styler at 0x287e1316b70>"
      ]
     },
     "metadata": {},
     "output_type": "display_data"
    },
    {
     "data": {
      "text/html": [
       "<style type=\"text/css\">\n",
       "#T_3c8f8_row0_col0, #T_3c8f8_row0_col1, #T_3c8f8_row0_col2, #T_3c8f8_row0_col3 {\n",
       "  background-color: #f7d67c;\n",
       "}\n",
       "</style>\n",
       "<table id=\"T_3c8f8\">\n",
       "  <thead>\n",
       "  </thead>\n",
       "  <tbody>\n",
       "    <tr>\n",
       "      <th id=\"T_3c8f8_level0_row0\" class=\"row_heading level0 row0\" >61</th>\n",
       "      <td id=\"T_3c8f8_row0_col0\" class=\"data row0 col0\" >archive file \"c:\\Users\\MartinVölkl-GouyaIns\\OneDrive - Gouya Insights\\Desktop\\qplib_dev/archive/df1_2024_07_25.xlsx\" already exists. data in sheet \"data1\" will be overwritten</td>\n",
       "      <td id=\"T_3c8f8_row0_col1\" class=\"data row0 col1\" >df.save()</td>\n",
       "      <td id=\"T_3c8f8_row0_col2\" class=\"data row0 col2\" >Warning</td>\n",
       "      <td id=\"T_3c8f8_row0_col3\" class=\"data row0 col3\" >2024-07-25 11:30:36.839487</td>\n",
       "    </tr>\n",
       "  </tbody>\n",
       "</table>\n"
      ],
      "text/plain": [
       "<pandas.io.formats.style.Styler at 0x287e1317110>"
      ]
     },
     "metadata": {},
     "output_type": "display_data"
    },
    {
     "data": {
      "text/html": [
       "<style type=\"text/css\">\n",
       "#T_c5535_row0_col0, #T_c5535_row0_col1, #T_c5535_row0_col2, #T_c5535_row0_col3 {\n",
       "  background-color: #f7d67c;\n",
       "}\n",
       "</style>\n",
       "<table id=\"T_c5535\">\n",
       "  <thead>\n",
       "  </thead>\n",
       "  <tbody>\n",
       "    <tr>\n",
       "      <th id=\"T_c5535_level0_row0\" class=\"row_heading level0 row0\" >62</th>\n",
       "      <td id=\"T_c5535_row0_col0\" class=\"data row0 col0\" >file \"df1.xlsx\" already exists. data in sheet \"data1\" will be overwritten</td>\n",
       "      <td id=\"T_c5535_row0_col1\" class=\"data row0 col1\" >df.save()</td>\n",
       "      <td id=\"T_c5535_row0_col2\" class=\"data row0 col2\" >Warning</td>\n",
       "      <td id=\"T_c5535_row0_col3\" class=\"data row0 col3\" >2024-07-25 11:30:36.871585</td>\n",
       "    </tr>\n",
       "  </tbody>\n",
       "</table>\n"
      ],
      "text/plain": [
       "<pandas.io.formats.style.Styler at 0x287e13170e0>"
      ]
     },
     "metadata": {},
     "output_type": "display_data"
    },
    {
     "data": {
      "text/html": [
       "<style type=\"text/css\">\n",
       "#T_0189c_row0_col0, #T_0189c_row0_col1, #T_0189c_row0_col2, #T_0189c_row0_col3 {\n",
       "  background-color: #f7d67c;\n",
       "}\n",
       "</style>\n",
       "<table id=\"T_0189c\">\n",
       "  <thead>\n",
       "  </thead>\n",
       "  <tbody>\n",
       "    <tr>\n",
       "      <th id=\"T_0189c_level0_row0\" class=\"row_heading level0 row0\" >63</th>\n",
       "      <td id=\"T_0189c_row0_col0\" class=\"data row0 col0\" >archive file \"c:\\Users\\MartinVölkl-GouyaIns\\OneDrive - Gouya Insights\\Desktop\\qplib_dev/archive/df1_2024_07_25.xlsx\" already exists. data in sheet \"data1\" will be overwritten</td>\n",
       "      <td id=\"T_0189c_row0_col1\" class=\"data row0 col1\" >df.save()</td>\n",
       "      <td id=\"T_0189c_row0_col2\" class=\"data row0 col2\" >Warning</td>\n",
       "      <td id=\"T_0189c_row0_col3\" class=\"data row0 col3\" >2024-07-25 11:30:36.903969</td>\n",
       "    </tr>\n",
       "  </tbody>\n",
       "</table>\n"
      ],
      "text/plain": [
       "<pandas.io.formats.style.Styler at 0x287e1084320>"
      ]
     },
     "metadata": {},
     "output_type": "display_data"
    },
    {
     "name": "stdout",
     "output_type": "stream",
     "text": [
      "passed test for archiving file\n"
     ]
    },
    {
     "data": {
      "text/html": [
       "<style type=\"text/css\">\n",
       "#T_3f73e_row0_col0, #T_3f73e_row0_col1, #T_3f73e_row0_col2, #T_3f73e_row0_col3 {\n",
       "  background-color: #f7d67c;\n",
       "}\n",
       "</style>\n",
       "<table id=\"T_3f73e\">\n",
       "  <thead>\n",
       "  </thead>\n",
       "  <tbody>\n",
       "    <tr>\n",
       "      <th id=\"T_3f73e_level0_row0\" class=\"row_heading level0 row0\" >64</th>\n",
       "      <td id=\"T_3f73e_row0_col0\" class=\"data row0 col0\" >file \"test/df1.xlsx\" already exists. data in sheet \"data1\" will be overwritten</td>\n",
       "      <td id=\"T_3f73e_row0_col1\" class=\"data row0 col1\" >df.save()</td>\n",
       "      <td id=\"T_3f73e_row0_col2\" class=\"data row0 col2\" >Warning</td>\n",
       "      <td id=\"T_3f73e_row0_col3\" class=\"data row0 col3\" >2024-07-25 11:30:36.939159</td>\n",
       "    </tr>\n",
       "  </tbody>\n",
       "</table>\n"
      ],
      "text/plain": [
       "<pandas.io.formats.style.Styler at 0x287e12b1460>"
      ]
     },
     "metadata": {},
     "output_type": "display_data"
    },
    {
     "data": {
      "text/html": [
       "<style type=\"text/css\">\n",
       "#T_132d4_row0_col0, #T_132d4_row0_col1, #T_132d4_row0_col2, #T_132d4_row0_col3 {\n",
       "  background-color: #c0e7b0;\n",
       "}\n",
       "</style>\n",
       "<table id=\"T_132d4\">\n",
       "  <thead>\n",
       "  </thead>\n",
       "  <tbody>\n",
       "    <tr>\n",
       "      <th id=\"T_132d4_level0_row0\" class=\"row_heading level0 row0\" >65</th>\n",
       "      <td id=\"T_132d4_row0_col0\" class=\"data row0 col0\" >archiving df to \"test/archive/df1_2024_07_25.xlsx\" in sheet \"data1\"</td>\n",
       "      <td id=\"T_132d4_row0_col1\" class=\"data row0 col1\" >df.save()</td>\n",
       "      <td id=\"T_132d4_row0_col2\" class=\"data row0 col2\" >info</td>\n",
       "      <td id=\"T_132d4_row0_col3\" class=\"data row0 col3\" >2024-07-25 11:30:36.968007</td>\n",
       "    </tr>\n",
       "  </tbody>\n",
       "</table>\n"
      ],
      "text/plain": [
       "<pandas.io.formats.style.Styler at 0x287e1314c20>"
      ]
     },
     "metadata": {},
     "output_type": "display_data"
    },
    {
     "name": "stdout",
     "output_type": "stream",
     "text": [
      "passed test for archiving in nested folder\n"
     ]
    },
    {
     "data": {
      "text/html": [
       "<style type=\"text/css\">\n",
       "#T_f9c91_row0_col0, #T_f9c91_row0_col1, #T_f9c91_row0_col2, #T_f9c91_row0_col3 {\n",
       "  background-color: #f7d67c;\n",
       "}\n",
       "</style>\n",
       "<table id=\"T_f9c91\">\n",
       "  <thead>\n",
       "  </thead>\n",
       "  <tbody>\n",
       "    <tr>\n",
       "      <th id=\"T_f9c91_level0_row0\" class=\"row_heading level0 row0\" >66</th>\n",
       "      <td id=\"T_f9c91_row0_col0\" class=\"data row0 col0\" >file \"test/df1.xlsx\" already exists. data in sheet \"data1\" will be overwritten</td>\n",
       "      <td id=\"T_f9c91_row0_col1\" class=\"data row0 col1\" >df.save()</td>\n",
       "      <td id=\"T_f9c91_row0_col2\" class=\"data row0 col2\" >Warning</td>\n",
       "      <td id=\"T_f9c91_row0_col3\" class=\"data row0 col3\" >2024-07-25 11:30:36.994762</td>\n",
       "    </tr>\n",
       "  </tbody>\n",
       "</table>\n"
      ],
      "text/plain": [
       "<pandas.io.formats.style.Styler at 0x287e132d250>"
      ]
     },
     "metadata": {},
     "output_type": "display_data"
    },
    {
     "data": {
      "text/html": [
       "<style type=\"text/css\">\n",
       "#T_050cf_row0_col0, #T_050cf_row0_col1, #T_050cf_row0_col2, #T_050cf_row0_col3 {\n",
       "  background-color: #c0e7b0;\n",
       "}\n",
       "</style>\n",
       "<table id=\"T_050cf\">\n",
       "  <thead>\n",
       "  </thead>\n",
       "  <tbody>\n",
       "    <tr>\n",
       "      <th id=\"T_050cf_level0_row0\" class=\"row_heading level0 row0\" >67</th>\n",
       "      <td id=\"T_050cf_row0_col0\" class=\"data row0 col0\" >archiving df to \"test/archive/df1_25_07_2024.xlsx\" in sheet \"data1\"</td>\n",
       "      <td id=\"T_050cf_row0_col1\" class=\"data row0 col1\" >df.save()</td>\n",
       "      <td id=\"T_050cf_row0_col2\" class=\"data row0 col2\" >info</td>\n",
       "      <td id=\"T_050cf_row0_col3\" class=\"data row0 col3\" >2024-07-25 11:30:37.027021</td>\n",
       "    </tr>\n",
       "  </tbody>\n",
       "</table>\n"
      ],
      "text/plain": [
       "<pandas.io.formats.style.Styler at 0x287e136dd00>"
      ]
     },
     "metadata": {},
     "output_type": "display_data"
    },
    {
     "name": "stdout",
     "output_type": "stream",
     "text": [
      "passed test for archiving with different date format\n"
     ]
    },
    {
     "data": {
      "text/html": [
       "<style type=\"text/css\">\n",
       "#T_47c00_row0_col0, #T_47c00_row0_col1, #T_47c00_row0_col2, #T_47c00_row0_col3 {\n",
       "  background-color: #c0e7b0;\n",
       "}\n",
       "</style>\n",
       "<table id=\"T_47c00\">\n",
       "  <thead>\n",
       "  </thead>\n",
       "  <tbody>\n",
       "    <tr>\n",
       "      <th id=\"T_47c00_level0_row0\" class=\"row_heading level0 row0\" >68</th>\n",
       "      <td id=\"T_47c00_row0_col0\" class=\"data row0 col0\" >no archive folder found. looking for most recent file in \"archive\" instead</td>\n",
       "      <td id=\"T_47c00_row0_col1\" class=\"data row0 col1\" >df.load()</td>\n",
       "      <td id=\"T_47c00_row0_col2\" class=\"data row0 col2\" >info</td>\n",
       "      <td id=\"T_47c00_row0_col3\" class=\"data row0 col3\" >2024-07-25 11:30:37.270156</td>\n",
       "    </tr>\n",
       "  </tbody>\n",
       "</table>\n"
      ],
      "text/plain": [
       "<pandas.io.formats.style.Styler at 0x287e12b37a0>"
      ]
     },
     "metadata": {},
     "output_type": "display_data"
    },
    {
     "data": {
      "text/html": [
       "<style type=\"text/css\">\n",
       "#T_0c3d6_row0_col0, #T_0c3d6_row0_col1, #T_0c3d6_row0_col2, #T_0c3d6_row0_col3 {\n",
       "  background-color: #c0e7b0;\n",
       "}\n",
       "</style>\n",
       "<table id=\"T_0c3d6\">\n",
       "  <thead>\n",
       "  </thead>\n",
       "  <tbody>\n",
       "    <tr>\n",
       "      <th id=\"T_0c3d6_level0_row0\" class=\"row_heading level0 row0\" >69</th>\n",
       "      <td id=\"T_0c3d6_row0_col0\" class=\"data row0 col0\" >loading \"archive/df_2024_07_25.xlsx\"</td>\n",
       "      <td id=\"T_0c3d6_row0_col1\" class=\"data row0 col1\" >df.load()</td>\n",
       "      <td id=\"T_0c3d6_row0_col2\" class=\"data row0 col2\" >info</td>\n",
       "      <td id=\"T_0c3d6_row0_col3\" class=\"data row0 col3\" >2024-07-25 11:30:37.279204</td>\n",
       "    </tr>\n",
       "  </tbody>\n",
       "</table>\n"
      ],
      "text/plain": [
       "<pandas.io.formats.style.Styler at 0x287e0d2cbc0>"
      ]
     },
     "metadata": {},
     "output_type": "display_data"
    },
    {
     "name": "stdout",
     "output_type": "stream",
     "text": [
      "passed test for loading most recent file\n"
     ]
    },
    {
     "data": {
      "text/html": [
       "<style type=\"text/css\">\n",
       "#T_638ef_row0_col0, #T_638ef_row0_col1, #T_638ef_row0_col2, #T_638ef_row0_col3 {\n",
       "  background-color: #c0e7b0;\n",
       "}\n",
       "</style>\n",
       "<table id=\"T_638ef\">\n",
       "  <thead>\n",
       "  </thead>\n",
       "  <tbody>\n",
       "    <tr>\n",
       "      <th id=\"T_638ef_level0_row0\" class=\"row_heading level0 row0\" >70</th>\n",
       "      <td id=\"T_638ef_row0_col0\" class=\"data row0 col0\" >no archive folder found. looking for most recent file in \"archive\" instead</td>\n",
       "      <td id=\"T_638ef_row0_col1\" class=\"data row0 col1\" >df.load()</td>\n",
       "      <td id=\"T_638ef_row0_col2\" class=\"data row0 col2\" >info</td>\n",
       "      <td id=\"T_638ef_row0_col3\" class=\"data row0 col3\" >2024-07-25 11:30:37.294101</td>\n",
       "    </tr>\n",
       "  </tbody>\n",
       "</table>\n"
      ],
      "text/plain": [
       "<pandas.io.formats.style.Styler at 0x287e1088650>"
      ]
     },
     "metadata": {},
     "output_type": "display_data"
    },
    {
     "data": {
      "text/html": [
       "<style type=\"text/css\">\n",
       "#T_cb7bf_row0_col0, #T_cb7bf_row0_col1, #T_cb7bf_row0_col2, #T_cb7bf_row0_col3 {\n",
       "  background-color: #c0e7b0;\n",
       "}\n",
       "</style>\n",
       "<table id=\"T_cb7bf\">\n",
       "  <thead>\n",
       "  </thead>\n",
       "  <tbody>\n",
       "    <tr>\n",
       "      <th id=\"T_cb7bf_level0_row0\" class=\"row_heading level0 row0\" >71</th>\n",
       "      <td id=\"T_cb7bf_row0_col0\" class=\"data row0 col0\" >loading \"archive/df_2024_07_25.xlsx\"</td>\n",
       "      <td id=\"T_cb7bf_row0_col1\" class=\"data row0 col1\" >df.load()</td>\n",
       "      <td id=\"T_cb7bf_row0_col2\" class=\"data row0 col2\" >info</td>\n",
       "      <td id=\"T_cb7bf_row0_col3\" class=\"data row0 col3\" >2024-07-25 11:30:37.302901</td>\n",
       "    </tr>\n",
       "  </tbody>\n",
       "</table>\n"
      ],
      "text/plain": [
       "<pandas.io.formats.style.Styler at 0x287e11f0560>"
      ]
     },
     "metadata": {},
     "output_type": "display_data"
    },
    {
     "name": "stdout",
     "output_type": "stream",
     "text": [
      "passed test for loading most recent file explicitly\n"
     ]
    },
    {
     "data": {
      "text/html": [
       "<style type=\"text/css\">\n",
       "#T_c9b7e_row0_col0, #T_c9b7e_row0_col1, #T_c9b7e_row0_col2, #T_c9b7e_row0_col3 {\n",
       "  background-color: #c0e7b0;\n",
       "}\n",
       "</style>\n",
       "<table id=\"T_c9b7e\">\n",
       "  <thead>\n",
       "  </thead>\n",
       "  <tbody>\n",
       "    <tr>\n",
       "      <th id=\"T_c9b7e_level0_row0\" class=\"row_heading level0 row0\" >72</th>\n",
       "      <td id=\"T_c9b7e_row0_col0\" class=\"data row0 col0\" >no archive folder found. looking for most recent file in \"archive\" instead</td>\n",
       "      <td id=\"T_c9b7e_row0_col1\" class=\"data row0 col1\" >df.load()</td>\n",
       "      <td id=\"T_c9b7e_row0_col2\" class=\"data row0 col2\" >info</td>\n",
       "      <td id=\"T_c9b7e_row0_col3\" class=\"data row0 col3\" >2024-07-25 11:30:37.453691</td>\n",
       "    </tr>\n",
       "  </tbody>\n",
       "</table>\n"
      ],
      "text/plain": [
       "<pandas.io.formats.style.Styler at 0x287e1233e90>"
      ]
     },
     "metadata": {},
     "output_type": "display_data"
    },
    {
     "data": {
      "text/html": [
       "<style type=\"text/css\">\n",
       "#T_33929_row0_col0, #T_33929_row0_col1, #T_33929_row0_col2, #T_33929_row0_col3 {\n",
       "  background-color: #c0e7b0;\n",
       "}\n",
       "</style>\n",
       "<table id=\"T_33929\">\n",
       "  <thead>\n",
       "  </thead>\n",
       "  <tbody>\n",
       "    <tr>\n",
       "      <th id=\"T_33929_level0_row0\" class=\"row_heading level0 row0\" >73</th>\n",
       "      <td id=\"T_33929_row0_col0\" class=\"data row0 col0\" >loading \"archive/df_25_07_2024.xlsx\"</td>\n",
       "      <td id=\"T_33929_row0_col1\" class=\"data row0 col1\" >df.load()</td>\n",
       "      <td id=\"T_33929_row0_col2\" class=\"data row0 col2\" >info</td>\n",
       "      <td id=\"T_33929_row0_col3\" class=\"data row0 col3\" >2024-07-25 11:30:37.462605</td>\n",
       "    </tr>\n",
       "  </tbody>\n",
       "</table>\n"
      ],
      "text/plain": [
       "<pandas.io.formats.style.Styler at 0x287e12d73e0>"
      ]
     },
     "metadata": {},
     "output_type": "display_data"
    },
    {
     "name": "stdout",
     "output_type": "stream",
     "text": [
      "passed test for loading most recent file with different date format\n"
     ]
    },
    {
     "data": {
      "text/html": [
       "<style type=\"text/css\">\n",
       "#T_82d6e_row0_col0, #T_82d6e_row0_col1, #T_82d6e_row0_col2, #T_82d6e_row0_col3 {\n",
       "  background-color: #c0e7b0;\n",
       "}\n",
       "</style>\n",
       "<table id=\"T_82d6e\">\n",
       "  <thead>\n",
       "  </thead>\n",
       "  <tbody>\n",
       "    <tr>\n",
       "      <th id=\"T_82d6e_level0_row0\" class=\"row_heading level0 row0\" >74</th>\n",
       "      <td id=\"T_82d6e_row0_col0\" class=\"data row0 col0\" >no archive folder found. looking for most recent file in \"archive\" instead</td>\n",
       "      <td id=\"T_82d6e_row0_col1\" class=\"data row0 col1\" >df.load()</td>\n",
       "      <td id=\"T_82d6e_row0_col2\" class=\"data row0 col2\" >info</td>\n",
       "      <td id=\"T_82d6e_row0_col3\" class=\"data row0 col3\" >2024-07-25 11:30:37.628179</td>\n",
       "    </tr>\n",
       "  </tbody>\n",
       "</table>\n"
      ],
      "text/plain": [
       "<pandas.io.formats.style.Styler at 0x287e12f8800>"
      ]
     },
     "metadata": {},
     "output_type": "display_data"
    },
    {
     "data": {
      "text/html": [
       "<style type=\"text/css\">\n",
       "#T_af020_row0_col0, #T_af020_row0_col1, #T_af020_row0_col2, #T_af020_row0_col3 {\n",
       "  background-color: #c0e7b0;\n",
       "}\n",
       "</style>\n",
       "<table id=\"T_af020\">\n",
       "  <thead>\n",
       "  </thead>\n",
       "  <tbody>\n",
       "    <tr>\n",
       "      <th id=\"T_af020_level0_row0\" class=\"row_heading level0 row0\" >75</th>\n",
       "      <td id=\"T_af020_row0_col0\" class=\"data row0 col0\" >loading \"archive/df_2000_01_01.xlsx\"</td>\n",
       "      <td id=\"T_af020_row0_col1\" class=\"data row0 col1\" >df.load()</td>\n",
       "      <td id=\"T_af020_row0_col2\" class=\"data row0 col2\" >info</td>\n",
       "      <td id=\"T_af020_row0_col3\" class=\"data row0 col3\" >2024-07-25 11:30:37.644895</td>\n",
       "    </tr>\n",
       "  </tbody>\n",
       "</table>\n"
      ],
      "text/plain": [
       "<pandas.io.formats.style.Styler at 0x287e1023e60>"
      ]
     },
     "metadata": {},
     "output_type": "display_data"
    },
    {
     "name": "stdout",
     "output_type": "stream",
     "text": [
      "passed test for loading most recent file from before specific date\n"
     ]
    },
    {
     "data": {
      "text/html": [
       "<style type=\"text/css\">\n",
       "#T_515f3_row0_col0, #T_515f3_row0_col1, #T_515f3_row0_col2, #T_515f3_row0_col3 {\n",
       "  background-color: #c0e7b0;\n",
       "}\n",
       "</style>\n",
       "<table id=\"T_515f3\">\n",
       "  <thead>\n",
       "  </thead>\n",
       "  <tbody>\n",
       "    <tr>\n",
       "      <th id=\"T_515f3_level0_row0\" class=\"row_heading level0 row0\" >76</th>\n",
       "      <td id=\"T_515f3_row0_col0\" class=\"data row0 col0\" >no archive folder found. looking for most recent file in \"archive\" instead</td>\n",
       "      <td id=\"T_515f3_row0_col1\" class=\"data row0 col1\" >df.load()</td>\n",
       "      <td id=\"T_515f3_row0_col2\" class=\"data row0 col2\" >info</td>\n",
       "      <td id=\"T_515f3_row0_col3\" class=\"data row0 col3\" >2024-07-25 11:30:37.672788</td>\n",
       "    </tr>\n",
       "  </tbody>\n",
       "</table>\n"
      ],
      "text/plain": [
       "<pandas.io.formats.style.Styler at 0x287e134b350>"
      ]
     },
     "metadata": {},
     "output_type": "display_data"
    },
    {
     "data": {
      "text/html": [
       "<style type=\"text/css\">\n",
       "#T_a83a2_row0_col0, #T_a83a2_row0_col1, #T_a83a2_row0_col2, #T_a83a2_row0_col3 {\n",
       "  background-color: #c0e7b0;\n",
       "}\n",
       "</style>\n",
       "<table id=\"T_a83a2\">\n",
       "  <thead>\n",
       "  </thead>\n",
       "  <tbody>\n",
       "    <tr>\n",
       "      <th id=\"T_a83a2_level0_row0\" class=\"row_heading level0 row0\" >77</th>\n",
       "      <td id=\"T_a83a2_row0_col0\" class=\"data row0 col0\" >loading \"archive/df_2023_06_21.xlsx\"</td>\n",
       "      <td id=\"T_a83a2_row0_col1\" class=\"data row0 col1\" >df.load()</td>\n",
       "      <td id=\"T_a83a2_row0_col2\" class=\"data row0 col2\" >info</td>\n",
       "      <td id=\"T_a83a2_row0_col3\" class=\"data row0 col3\" >2024-07-25 11:30:37.689101</td>\n",
       "    </tr>\n",
       "  </tbody>\n",
       "</table>\n"
      ],
      "text/plain": [
       "<pandas.io.formats.style.Styler at 0x287e1232d50>"
      ]
     },
     "metadata": {},
     "output_type": "display_data"
    },
    {
     "name": "stdout",
     "output_type": "stream",
     "text": [
      "passed test for loading most recent file from before this year\n"
     ]
    },
    {
     "data": {
      "text/html": [
       "<style type=\"text/css\">\n",
       "#T_f921e_row0_col0, #T_f921e_row0_col1, #T_f921e_row0_col2, #T_f921e_row0_col3 {\n",
       "  background-color: #c0e7b0;\n",
       "}\n",
       "</style>\n",
       "<table id=\"T_f921e\">\n",
       "  <thead>\n",
       "  </thead>\n",
       "  <tbody>\n",
       "    <tr>\n",
       "      <th id=\"T_f921e_level0_row0\" class=\"row_heading level0 row0\" >78</th>\n",
       "      <td id=\"T_f921e_row0_col0\" class=\"data row0 col0\" >no archive folder found. looking for most recent file in \"archive\" instead</td>\n",
       "      <td id=\"T_f921e_row0_col1\" class=\"data row0 col1\" >df.load()</td>\n",
       "      <td id=\"T_f921e_row0_col2\" class=\"data row0 col2\" >info</td>\n",
       "      <td id=\"T_f921e_row0_col3\" class=\"data row0 col3\" >2024-07-25 11:30:37.811456</td>\n",
       "    </tr>\n",
       "  </tbody>\n",
       "</table>\n"
      ],
      "text/plain": [
       "<pandas.io.formats.style.Styler at 0x287e107dfd0>"
      ]
     },
     "metadata": {},
     "output_type": "display_data"
    },
    {
     "data": {
      "text/html": [
       "<style type=\"text/css\">\n",
       "#T_0539e_row0_col0, #T_0539e_row0_col1, #T_0539e_row0_col2, #T_0539e_row0_col3 {\n",
       "  background-color: #c0e7b0;\n",
       "}\n",
       "</style>\n",
       "<table id=\"T_0539e\">\n",
       "  <thead>\n",
       "  </thead>\n",
       "  <tbody>\n",
       "    <tr>\n",
       "      <th id=\"T_0539e_level0_row0\" class=\"row_heading level0 row0\" >79</th>\n",
       "      <td id=\"T_0539e_row0_col0\" class=\"data row0 col0\" >loading \"archive/df_2024_06_15.xlsx\"</td>\n",
       "      <td id=\"T_0539e_row0_col1\" class=\"data row0 col1\" >df.load()</td>\n",
       "      <td id=\"T_0539e_row0_col2\" class=\"data row0 col2\" >info</td>\n",
       "      <td id=\"T_0539e_row0_col3\" class=\"data row0 col3\" >2024-07-25 11:30:37.825390</td>\n",
       "    </tr>\n",
       "  </tbody>\n",
       "</table>\n"
      ],
      "text/plain": [
       "<pandas.io.formats.style.Styler at 0x287e0deaf90>"
      ]
     },
     "metadata": {},
     "output_type": "display_data"
    },
    {
     "name": "stdout",
     "output_type": "stream",
     "text": [
      "passed test for loading most recent file from before this month\n"
     ]
    },
    {
     "data": {
      "text/html": [
       "<style type=\"text/css\">\n",
       "#T_fb8bf_row0_col0, #T_fb8bf_row0_col1, #T_fb8bf_row0_col2, #T_fb8bf_row0_col3 {\n",
       "  background-color: #c0e7b0;\n",
       "}\n",
       "</style>\n",
       "<table id=\"T_fb8bf\">\n",
       "  <thead>\n",
       "  </thead>\n",
       "  <tbody>\n",
       "    <tr>\n",
       "      <th id=\"T_fb8bf_level0_row0\" class=\"row_heading level0 row0\" >80</th>\n",
       "      <td id=\"T_fb8bf_row0_col0\" class=\"data row0 col0\" >no archive folder found. looking for most recent file in \"archive\" instead</td>\n",
       "      <td id=\"T_fb8bf_row0_col1\" class=\"data row0 col1\" >df.load()</td>\n",
       "      <td id=\"T_fb8bf_row0_col2\" class=\"data row0 col2\" >info</td>\n",
       "      <td id=\"T_fb8bf_row0_col3\" class=\"data row0 col3\" >2024-07-25 11:30:37.946971</td>\n",
       "    </tr>\n",
       "  </tbody>\n",
       "</table>\n"
      ],
      "text/plain": [
       "<pandas.io.formats.style.Styler at 0x287e10989e0>"
      ]
     },
     "metadata": {},
     "output_type": "display_data"
    },
    {
     "data": {
      "text/html": [
       "<style type=\"text/css\">\n",
       "#T_b8d67_row0_col0, #T_b8d67_row0_col1, #T_b8d67_row0_col2, #T_b8d67_row0_col3 {\n",
       "  background-color: #c0e7b0;\n",
       "}\n",
       "</style>\n",
       "<table id=\"T_b8d67\">\n",
       "  <thead>\n",
       "  </thead>\n",
       "  <tbody>\n",
       "    <tr>\n",
       "      <th id=\"T_b8d67_level0_row0\" class=\"row_heading level0 row0\" >81</th>\n",
       "      <td id=\"T_b8d67_row0_col0\" class=\"data row0 col0\" >loading \"archive/df_2024_07_17.xlsx\"</td>\n",
       "      <td id=\"T_b8d67_row0_col1\" class=\"data row0 col1\" >df.load()</td>\n",
       "      <td id=\"T_b8d67_row0_col2\" class=\"data row0 col2\" >info</td>\n",
       "      <td id=\"T_b8d67_row0_col3\" class=\"data row0 col3\" >2024-07-25 11:30:37.959913</td>\n",
       "    </tr>\n",
       "  </tbody>\n",
       "</table>\n"
      ],
      "text/plain": [
       "<pandas.io.formats.style.Styler at 0x287e1052270>"
      ]
     },
     "metadata": {},
     "output_type": "display_data"
    },
    {
     "name": "stdout",
     "output_type": "stream",
     "text": [
      "passed test for loading most recent file from before this week\n"
     ]
    },
    {
     "data": {
      "text/html": [
       "<style type=\"text/css\">\n",
       "#T_609a7_row0_col0, #T_609a7_row0_col1, #T_609a7_row0_col2, #T_609a7_row0_col3 {\n",
       "  background-color: #c0e7b0;\n",
       "}\n",
       "</style>\n",
       "<table id=\"T_609a7\">\n",
       "  <thead>\n",
       "  </thead>\n",
       "  <tbody>\n",
       "    <tr>\n",
       "      <th id=\"T_609a7_level0_row0\" class=\"row_heading level0 row0\" >82</th>\n",
       "      <td id=\"T_609a7_row0_col0\" class=\"data row0 col0\" >no archive folder found. looking for most recent file in \"archive\" instead</td>\n",
       "      <td id=\"T_609a7_row0_col1\" class=\"data row0 col1\" >df.load()</td>\n",
       "      <td id=\"T_609a7_row0_col2\" class=\"data row0 col2\" >info</td>\n",
       "      <td id=\"T_609a7_row0_col3\" class=\"data row0 col3\" >2024-07-25 11:30:38.066776</td>\n",
       "    </tr>\n",
       "  </tbody>\n",
       "</table>\n"
      ],
      "text/plain": [
       "<pandas.io.formats.style.Styler at 0x287e12b2540>"
      ]
     },
     "metadata": {},
     "output_type": "display_data"
    },
    {
     "data": {
      "text/html": [
       "<style type=\"text/css\">\n",
       "#T_1d3e0_row0_col0, #T_1d3e0_row0_col1, #T_1d3e0_row0_col2, #T_1d3e0_row0_col3 {\n",
       "  background-color: #c0e7b0;\n",
       "}\n",
       "</style>\n",
       "<table id=\"T_1d3e0\">\n",
       "  <thead>\n",
       "  </thead>\n",
       "  <tbody>\n",
       "    <tr>\n",
       "      <th id=\"T_1d3e0_level0_row0\" class=\"row_heading level0 row0\" >83</th>\n",
       "      <td id=\"T_1d3e0_row0_col0\" class=\"data row0 col0\" >loading \"archive/df_2024_07_24.xlsx\"</td>\n",
       "      <td id=\"T_1d3e0_row0_col1\" class=\"data row0 col1\" >df.load()</td>\n",
       "      <td id=\"T_1d3e0_row0_col2\" class=\"data row0 col2\" >info</td>\n",
       "      <td id=\"T_1d3e0_row0_col3\" class=\"data row0 col3\" >2024-07-25 11:30:38.082159</td>\n",
       "    </tr>\n",
       "  </tbody>\n",
       "</table>\n"
      ],
      "text/plain": [
       "<pandas.io.formats.style.Styler at 0x287e11f0560>"
      ]
     },
     "metadata": {},
     "output_type": "display_data"
    },
    {
     "name": "stdout",
     "output_type": "stream",
     "text": [
      "passed test for loading most recent file from before this day\n"
     ]
    },
    {
     "data": {
      "text/html": [
       "<style type=\"text/css\">\n",
       "#T_d5835_row0_col0, #T_d5835_row0_col1, #T_d5835_row0_col2, #T_d5835_row0_col3 {\n",
       "  background-color: #c0e7b0;\n",
       "}\n",
       "</style>\n",
       "<table id=\"T_d5835\">\n",
       "  <thead>\n",
       "  </thead>\n",
       "  <tbody>\n",
       "    <tr>\n",
       "      <th id=\"T_d5835_level0_row0\" class=\"row_heading level0 row0\" >84</th>\n",
       "      <td id=\"T_d5835_row0_col0\" class=\"data row0 col0\" >no archive folder found. looking for most recent file in \"archive\" instead</td>\n",
       "      <td id=\"T_d5835_row0_col1\" class=\"data row0 col1\" >df.load()</td>\n",
       "      <td id=\"T_d5835_row0_col2\" class=\"data row0 col2\" >info</td>\n",
       "      <td id=\"T_d5835_row0_col3\" class=\"data row0 col3\" >2024-07-25 11:30:38.099308</td>\n",
       "    </tr>\n",
       "  </tbody>\n",
       "</table>\n"
      ],
      "text/plain": [
       "<pandas.io.formats.style.Styler at 0x287e11f0560>"
      ]
     },
     "metadata": {},
     "output_type": "display_data"
    },
    {
     "data": {
      "text/html": [
       "<style type=\"text/css\">\n",
       "#T_c9be2_row0_col0, #T_c9be2_row0_col1, #T_c9be2_row0_col2, #T_c9be2_row0_col3 {\n",
       "  background-color: #c0e7b0;\n",
       "}\n",
       "</style>\n",
       "<table id=\"T_c9be2\">\n",
       "  <thead>\n",
       "  </thead>\n",
       "  <tbody>\n",
       "    <tr>\n",
       "      <th id=\"T_c9be2_level0_row0\" class=\"row_heading level0 row0\" >85</th>\n",
       "      <td id=\"T_c9be2_row0_col0\" class=\"data row0 col0\" >loading \"archive/df_2024_07_24.xlsx\"</td>\n",
       "      <td id=\"T_c9be2_row0_col1\" class=\"data row0 col1\" >df.load()</td>\n",
       "      <td id=\"T_c9be2_row0_col2\" class=\"data row0 col2\" >info</td>\n",
       "      <td id=\"T_c9be2_row0_col3\" class=\"data row0 col3\" >2024-07-25 11:30:38.113114</td>\n",
       "    </tr>\n",
       "  </tbody>\n",
       "</table>\n"
      ],
      "text/plain": [
       "<pandas.io.formats.style.Styler at 0x287e1023e60>"
      ]
     },
     "metadata": {},
     "output_type": "display_data"
    },
    {
     "name": "stdout",
     "output_type": "stream",
     "text": [
      "passed test for loading most recent file from before this day\n"
     ]
    }
   ],
   "source": [
    "#remove old test files\n",
    "today1 = datetime.datetime.now().strftime('%Y_%m_%d')\n",
    "today2 = datetime.datetime.now().strftime('%d_%m_%Y')\n",
    "date0 = qp.date('2000_01_01').strftime('%Y_%m_%d')\n",
    "date1 = (datetime.datetime.now() - datetime.timedelta(days=400)).date().strftime('%Y_%m_%d')\n",
    "date2 = (datetime.datetime.now() - datetime.timedelta(days=40)).date().strftime('%Y_%m_%d')\n",
    "date3 = (datetime.datetime.now() - datetime.timedelta(days=8)).date().strftime('%Y_%m_%d')\n",
    "date4 = (datetime.datetime.now() - datetime.timedelta(days=1)).date().strftime('%Y_%m_%d')\n",
    "\n",
    "def clean():\n",
    "    files = [\n",
    "        'df.xlsx',\n",
    "        'df1.xlsx',\n",
    "\n",
    "        'test/df1.xlsx',\n",
    "        'test/df1b.xlsx',\n",
    "        'test/df2.xlsx',\n",
    "\n",
    "        f'archive/df1_{today1}.xlsx',\n",
    "        f'archive/df1_{today2}.xlsx',\n",
    "        f'archive/df1b_{today1}.xlsx',\n",
    "\n",
    "        f'archive/df_{today1}.xlsx',\n",
    "        f'archive/df_{today2}.xlsx',\n",
    "        f'archive/df_{date0}.xlsx',\n",
    "        f'archive/df_{date1}.xlsx',\n",
    "        f'archive/df_{date2}.xlsx',\n",
    "        f'archive/df_{date3}.xlsx',\n",
    "        f'archive/df_{date4}.xlsx',\n",
    "\n",
    "        f'test/archive/df1_{today1}.xlsx',\n",
    "        f'test/archive/df1b_{today1}.xlsx',\n",
    "        f'test/archive/df2_{today1}.xlsx',\n",
    "        ]\n",
    "\n",
    "    for file in files:\n",
    "        if os.path.isfile(file):\n",
    "            os.remove(file)\n",
    "            # print(f'removed file: {file}')\n",
    "\n",
    "    if os.path.isdir('test/archive'):\n",
    "        shutil.rmtree('test/archive')\n",
    "clean()\n",
    "\n",
    "\n",
    "\n",
    "df1 = pd.DataFrame({'a':[1]})\n",
    "df2 = pd.DataFrame({'a':[2]})\n",
    "df3 = pd.DataFrame({'a':[3]})\n",
    "df4 = pd.DataFrame({'a':[4]})\n",
    "\n",
    "\n",
    "#default\n",
    "df1.save()\n",
    "if qp.isfile('df.xlsx'):\n",
    "    print('passed test for default saving behaviour')\n",
    "else:\n",
    "    raise Exception(f'failed test for default saving behaviour')\n",
    "\n",
    "df1a = qp.load('df.xlsx')\n",
    "if df1a.equals(df1):\n",
    "    print('passed test for loading from default file')\n",
    "else:\n",
    "    raise Exception(f'failed test for loading from default file')\n",
    "\n",
    "\n",
    "\n",
    "\n",
    "#specific file\n",
    "df1.save('df1.xlsx')\n",
    "if qp.isfile('df1.xlsx'):\n",
    "    print('passed test for saving to a specific file')\n",
    "else:\n",
    "    raise Exception(f'failed test for saving to a specific file')\n",
    "\n",
    "df1b = qp.load('df1.xlsx')\n",
    "if df1b.equals(df1):\n",
    "    print('passed test for loading from a specific file')\n",
    "else:\n",
    "    raise Exception(f'failed test for loading from a specific file')\n",
    "\n",
    "\n",
    "\n",
    "\n",
    "#file in folder\n",
    "df1.save('test/df1.xlsx')\n",
    "if qp.isfile('test/df1.xlsx'):\n",
    "    print('passed test for saving to a specific file in folder')\n",
    "else:\n",
    "    raise Exception(f'failed test for saving to a specific file in folder')\n",
    "\n",
    "df1c = qp.load('test/df1.xlsx')\n",
    "if df1c.equals(df1):\n",
    "    print('passed test for loading from a specific file in folder')\n",
    "else:\n",
    "    raise Exception(f'failed test for loading from a specific file in folder')\n",
    "\n",
    "\n",
    "\n",
    "\n",
    "#specific sheet\n",
    "df1.save('df1.xlsx', sheet='data2')\n",
    "df1d = qp.load('df1.xlsx', sheet='data2')\n",
    "if df1d.equals(df1):\n",
    "    print('passed test for saving and loading to and from a specific sheet')\n",
    "else:\n",
    "    raise Exception(f'failed test for saving and loading to and from a specific sheet')\n",
    "\n",
    "\n",
    "\n",
    "\n",
    "#overwriting sheets\n",
    "df1old = qp.load('df1.xlsx')\n",
    "df2.save('df1.xlsx')\n",
    "df1new = qp.load('df1.xlsx')\n",
    "if df1old.loc[0, 'a'] == 1 and df1new.loc[0, 'a'] == 2:\n",
    "    print('passed test for overwriting sheets')\n",
    "else:\n",
    "    raise Exception(f'failed test for overwriting sheets')\n",
    "df1.save('df1.xlsx')  #restore previous state\n",
    "\n",
    "\n",
    "\n",
    "#archiving\n",
    "today = datetime.datetime.now().strftime('%Y_%m_%d')\n",
    "df1.save('df1')\n",
    "if qp.isfile(f'archive/df1_{today}.xlsx'):\n",
    "    print('passed test for archiving file')\n",
    "else:\n",
    "    raise Exception(f'failed test for archiving file')\n",
    "\n",
    "\n",
    "#archiving nested folder\n",
    "os.mkdir('test/archive')\n",
    "df1.save('test/df1')\n",
    "if qp.isfile(f'test/archive/df1_{today}.xlsx'):\n",
    "    print('passed test for archiving in nested folder')\n",
    "else:\n",
    "    raise Exception(f'failed test for archiving nested folder')\n",
    "\n",
    "\n",
    "\n",
    "\n",
    "\n",
    "#archiving with different date format\n",
    "today = datetime.datetime.now().strftime('%d_%m_%Y')\n",
    "df1.save('test/df1.xlsx', sheet='data1', datefmt='%d_%m_%Y')\n",
    "if qp.isfile(f'test/archive/df1_{today}.xlsx'):\n",
    "    print('passed test for archiving with different date format')\n",
    "else:\n",
    "    raise Exception(f'failed test for archiving with different date format')\n",
    "\n",
    "\n",
    "\n",
    "#most recent file\n",
    "if os.path.isfile(f'archive/df_{today2}.xlsx'):\n",
    "    os.remove(f'archive/df_{today2}.xlsx')\n",
    "pd.DataFrame({'a':[today1]}).to_excel(f'archive/df_{today1}.xlsx', index=False)\n",
    "pd.DataFrame({'a':[date1]}).to_excel(f'archive/df_{date1}.xlsx', index=False)\n",
    "\n",
    "if qp.load('archive/df', sheet='Sheet1', index=False).loc[0, 'a'] == today1:\n",
    "    print('passed test for loading most recent file')\n",
    "else:\n",
    "    raise Exception(f'failed test for loading most recent file')\n",
    "\n",
    "\n",
    "\n",
    "#most recent file version 2\n",
    "if qp.load('archive/df', sheet='Sheet1', before='now', index=False).loc[0, 'a'] == today1:\n",
    "    print('passed test for loading most recent file explicitly')\n",
    "else:\n",
    "    raise Exception(f'failed test for loading most recent file explicitly')\n",
    "\n",
    "\n",
    "\n",
    "#most recent file with different date format\n",
    "if os.path.isfile(f'archive/df_{today1}.xlsx'):\n",
    "    os.remove(f'archive/df_{today1}.xlsx')\n",
    "pd.DataFrame({'a':[today2]}).to_excel(f'archive/df_{today2}.xlsx', index=False)\n",
    "pd.DataFrame({'a':[date1]}).to_excel(f'archive/df_{date1}.xlsx', index=False)\n",
    "\n",
    "if qp.load('archive/df', sheet='Sheet1', index=False).loc[0, 'a'] == today2:\n",
    "    print('passed test for loading most recent file with different date format')\n",
    "else:\n",
    "    raise Exception(f'failed test for loading most recent file with different date format')\n",
    "\n",
    "\n",
    "\n",
    "#file before specific date\n",
    "pd.DataFrame({'a':[date0]}).to_excel(f'archive/df_{date0}.xlsx', index=False)\n",
    "if qp.load('archive/df', sheet='Sheet1', before='2000_01_02', index=False).loc[0, 'a'] == date0:\n",
    "    print('passed test for loading most recent file from before specific date')\n",
    "else:\n",
    "    raise Exception(f'failed test for loading most recent file from before specific date')\n",
    "\n",
    "\n",
    "#file before this year\n",
    "if qp.load('archive/df', sheet='Sheet1', before='this year', index=False).loc[0, 'a'] == date1:\n",
    "    print('passed test for loading most recent file from before this year')\n",
    "else:\n",
    "    raise Exception(f'failed test for loading most recent file from before this year')\n",
    "\n",
    "\n",
    "\n",
    "#file before this month\n",
    "pd.DataFrame({'a':[date2]}).to_excel(f'archive/df_{date2}.xlsx', index=False)\n",
    "if qp.load('archive/df', sheet='Sheet1', before='this month', index=False).loc[0, 'a'] == date2:\n",
    "    print('passed test for loading most recent file from before this month')\n",
    "else:\n",
    "    raise Exception(f'failed test for loading most recent file from before this month')\n",
    "\n",
    "\n",
    "\n",
    "#file before this week\n",
    "pd.DataFrame({'a':[date3]}).to_excel(f'archive/df_{date3}.xlsx', index=False)\n",
    "if qp.load('archive/df', sheet='Sheet1', before='this week', index=False).loc[0, 'a'] == date3:\n",
    "    print('passed test for loading most recent file from before this week')\n",
    "else:\n",
    "    raise Exception(f'failed test for loading most recent file from before this week')\n",
    "\n",
    "\n",
    "\n",
    "#file before this day\n",
    "pd.DataFrame({'a':[date4]}).to_excel(f'archive/df_{date4}.xlsx', index=False)\n",
    "if qp.load('archive/df', sheet='Sheet1', before='this day', index=False).loc[0, 'a'] == date4:\n",
    "    print('passed test for loading most recent file from before this day')\n",
    "else:\n",
    "    raise Exception(f'failed test for loading most recent file from before this day')\n",
    "\n",
    "\n",
    "\n",
    "#file before today\n",
    "if qp.load('archive/df', sheet='Sheet1', before='today', index=False).loc[0, 'a'] == date4:\n",
    "    print('passed test for loading most recent file from before this day')\n",
    "else:\n",
    "    raise Exception(f'failed test for loading most recent file from before this day')\n",
    "\n",
    "\n",
    "# df1.save('test/df3.xlsx', sheet='sheet2', archive='source', datefmt='%Y_%m_%d')\n",
    "# df1.save('test/df3.xlsx', sheet='sheet2', archive='destination', datefmt='%Y_%m_%d')\n",
    "# df1.save('df.xlsx', sheet='sheet2', archive='both', datefmt='%Y_%m_%d')"
   ]
  },
  {
   "cell_type": "markdown",
   "metadata": {},
   "source": [
    "# log()"
   ]
  },
  {
   "cell_type": "code",
   "execution_count": 21,
   "metadata": {},
   "outputs": [],
   "source": [
    "#wip"
   ]
  },
  {
   "cell_type": "markdown",
   "metadata": {},
   "source": [
    "# \"bashlike\" wrappers"
   ]
  },
  {
   "cell_type": "code",
   "execution_count": 22,
   "metadata": {},
   "outputs": [
    {
     "name": "stdout",
     "output_type": "stream",
     "text": [
      "passed test for non existing directory\n"
     ]
    },
    {
     "data": {
      "text/html": [
       "<style type=\"text/css\">\n",
       "#T_1d5a6_row0_col0, #T_1d5a6_row0_col1, #T_1d5a6_row0_col2, #T_1d5a6_row0_col3 {\n",
       "  background-color: #c0e7b0;\n",
       "}\n",
       "</style>\n",
       "<table id=\"T_1d5a6\">\n",
       "  <thead>\n",
       "  </thead>\n",
       "  <tbody>\n",
       "    <tr>\n",
       "      <th id=\"T_1d5a6_level0_row0\" class=\"row_heading level0 row0\" >86</th>\n",
       "      <td id=\"T_1d5a6_row0_col0\" class=\"data row0 col0\" >created directory \"test/dir1\"</td>\n",
       "      <td id=\"T_1d5a6_row0_col1\" class=\"data row0 col1\" >qp.mkdir(\"test/dir1\")</td>\n",
       "      <td id=\"T_1d5a6_row0_col2\" class=\"data row0 col2\" >info</td>\n",
       "      <td id=\"T_1d5a6_row0_col3\" class=\"data row0 col3\" >2024-07-25 11:30:38.171532</td>\n",
       "    </tr>\n",
       "  </tbody>\n",
       "</table>\n"
      ],
      "text/plain": [
       "<pandas.io.formats.style.Styler at 0x287e1052270>"
      ]
     },
     "metadata": {},
     "output_type": "display_data"
    },
    {
     "name": "stdout",
     "output_type": "stream",
     "text": [
      "passed test for creating and checking for existing directory\n"
     ]
    },
    {
     "data": {
      "text/html": [
       "<style type=\"text/css\">\n",
       "#T_68676_row0_col0, #T_68676_row0_col1, #T_68676_row0_col2, #T_68676_row0_col3 {\n",
       "  background-color: #c0e7b0;\n",
       "}\n",
       "</style>\n",
       "<table id=\"T_68676\">\n",
       "  <thead>\n",
       "  </thead>\n",
       "  <tbody>\n",
       "    <tr>\n",
       "      <th id=\"T_68676_level0_row0\" class=\"row_heading level0 row0\" >87</th>\n",
       "      <td id=\"T_68676_row0_col0\" class=\"data row0 col0\" >moved from<br>c:\\Users\\MartinVölkl-GouyaIns\\OneDrive - Gouya Insights\\Desktop\\qplib_dev<br>to<br>c:\\Users\\MartinVölkl-GouyaIns\\OneDrive - Gouya Insights\\Desktop\\qplib_dev\\test\\dir1</td>\n",
       "      <td id=\"T_68676_row0_col1\" class=\"data row0 col1\" >qp.cd(\"test/dir1\")</td>\n",
       "      <td id=\"T_68676_row0_col2\" class=\"data row0 col2\" >info</td>\n",
       "      <td id=\"T_68676_row0_col3\" class=\"data row0 col3\" >2024-07-25 11:30:38.182059</td>\n",
       "    </tr>\n",
       "  </tbody>\n",
       "</table>\n"
      ],
      "text/plain": [
       "<pandas.io.formats.style.Styler at 0x287c9ed0b30>"
      ]
     },
     "metadata": {},
     "output_type": "display_data"
    },
    {
     "name": "stdout",
     "output_type": "stream",
     "text": [
      "passed test for changing directory and finding path to current directory\n"
     ]
    },
    {
     "data": {
      "text/html": [
       "<style type=\"text/css\">\n",
       "#T_1418e_row0_col0, #T_1418e_row0_col1, #T_1418e_row0_col2, #T_1418e_row0_col3 {\n",
       "  background-color: #c0e7b0;\n",
       "}\n",
       "</style>\n",
       "<table id=\"T_1418e\">\n",
       "  <thead>\n",
       "  </thead>\n",
       "  <tbody>\n",
       "    <tr>\n",
       "      <th id=\"T_1418e_level0_row0\" class=\"row_heading level0 row0\" >88</th>\n",
       "      <td id=\"T_1418e_row0_col0\" class=\"data row0 col0\" >created directory \"dir2\"</td>\n",
       "      <td id=\"T_1418e_row0_col1\" class=\"data row0 col1\" >qp.mkdir(\"dir2\")</td>\n",
       "      <td id=\"T_1418e_row0_col2\" class=\"data row0 col2\" >info</td>\n",
       "      <td id=\"T_1418e_row0_col3\" class=\"data row0 col3\" >2024-07-25 11:30:38.191196</td>\n",
       "    </tr>\n",
       "  </tbody>\n",
       "</table>\n"
      ],
      "text/plain": [
       "<pandas.io.formats.style.Styler at 0x287e0e44440>"
      ]
     },
     "metadata": {},
     "output_type": "display_data"
    },
    {
     "data": {
      "text/html": [
       "<style type=\"text/css\">\n",
       "#T_e8560_row0_col0, #T_e8560_row0_col1, #T_e8560_row0_col2, #T_e8560_row0_col3 {\n",
       "  background-color: #c0e7b0;\n",
       "}\n",
       "</style>\n",
       "<table id=\"T_e8560\">\n",
       "  <thead>\n",
       "  </thead>\n",
       "  <tbody>\n",
       "    <tr>\n",
       "      <th id=\"T_e8560_level0_row0\" class=\"row_heading level0 row0\" >89</th>\n",
       "      <td id=\"T_e8560_row0_col0\" class=\"data row0 col0\" >moved from<br>c:\\Users\\MartinVölkl-GouyaIns\\OneDrive - Gouya Insights\\Desktop\\qplib_dev\\test\\dir1<br>to<br>c:\\Users\\MartinVölkl-GouyaIns\\OneDrive - Gouya Insights\\Desktop\\qplib_dev\\test\\dir1\\dir2</td>\n",
       "      <td id=\"T_e8560_row0_col1\" class=\"data row0 col1\" >qp.cd(\"dir2\")</td>\n",
       "      <td id=\"T_e8560_row0_col2\" class=\"data row0 col2\" >info</td>\n",
       "      <td id=\"T_e8560_row0_col3\" class=\"data row0 col3\" >2024-07-25 11:30:38.200678</td>\n",
       "    </tr>\n",
       "  </tbody>\n",
       "</table>\n"
      ],
      "text/plain": [
       "<pandas.io.formats.style.Styler at 0x287e0e44440>"
      ]
     },
     "metadata": {},
     "output_type": "display_data"
    },
    {
     "data": {
      "text/html": [
       "<style type=\"text/css\">\n",
       "#T_5ce36_row0_col0, #T_5ce36_row0_col1, #T_5ce36_row0_col2, #T_5ce36_row0_col3 {\n",
       "  background-color: #c0e7b0;\n",
       "}\n",
       "</style>\n",
       "<table id=\"T_5ce36\">\n",
       "  <thead>\n",
       "  </thead>\n",
       "  <tbody>\n",
       "    <tr>\n",
       "      <th id=\"T_5ce36_level0_row0\" class=\"row_heading level0 row0\" >90</th>\n",
       "      <td id=\"T_5ce36_row0_col0\" class=\"data row0 col0\" >moved from<br>c:\\Users\\MartinVölkl-GouyaIns\\OneDrive - Gouya Insights\\Desktop\\qplib_dev\\test\\dir1\\dir2<br>to<br>c:\\Users\\MartinVölkl-GouyaIns\\OneDrive - Gouya Insights\\Desktop\\qplib_dev\\test\\dir1</td>\n",
       "      <td id=\"T_5ce36_row0_col1\" class=\"data row0 col1\" >qp.cd(\"c:\\Users\\MartinVölkl-GouyaIns\\OneDrive - Gouya Insights\\Desktop\\qplib_dev\\test\\dir1\")</td>\n",
       "      <td id=\"T_5ce36_row0_col2\" class=\"data row0 col2\" >info</td>\n",
       "      <td id=\"T_5ce36_row0_col3\" class=\"data row0 col3\" >2024-07-25 11:30:38.209982</td>\n",
       "    </tr>\n",
       "  </tbody>\n",
       "</table>\n"
      ],
      "text/plain": [
       "<pandas.io.formats.style.Styler at 0x287e124cc20>"
      ]
     },
     "metadata": {},
     "output_type": "display_data"
    },
    {
     "name": "stdout",
     "output_type": "stream",
     "text": [
      "passed test for going back and forth in directory structure\n"
     ]
    }
   ],
   "source": [
    "\n",
    "if os.path.isdir('test/dir1') is True:\n",
    "    shutil.rmtree('test/dir1')\n",
    "\n",
    "\n",
    "if qp.isdir('test/dir1') is False:\n",
    "    print(f'passed test for non existing directory')\n",
    "else:\n",
    "    raise Exception(f'failed test for non existing directory')\n",
    "\n",
    "\n",
    "qp.mkdir('test/dir1')\n",
    "if qp.isdir('test/dir1') is True:\n",
    "    print(f'passed test for creating and checking for existing directory')\n",
    "else:\n",
    "    raise Exception(f'failed test for creating and checking for existing directory')\n",
    "\n",
    "\n",
    "qp.cd('test/dir1')\n",
    "if qp.pwd().split('\\\\')[-1] == 'dir1':\n",
    "    print(f'passed test for changing directory and finding path to current directory')\n",
    "else:\n",
    "    raise Exception(f'failed test for changing directory and finding path to current directory')\n",
    "\n",
    "\n",
    "qp.mkdir('dir2')\n",
    "qp.cd('dir2')\n",
    "result1 = qp.pwd().split('\\\\')[-1]\n",
    "\n",
    "qp.cd('..')\n",
    "result2 = qp.pwd().split('\\\\')[-1]\n",
    "\n",
    "if result1 == 'dir2' and result2 == 'dir1':\n",
    "    print(f'passed test for going back and forth in directory structure')\n",
    "else:\n",
    "    raise Exception(f'failed test for going back and forth in directory structure')\n",
    "\n",
    "\n",
    "\n",
    "os.chdir(working_directory)\n",
    "shutil.rmtree('test/dir1')"
   ]
  },
  {
   "cell_type": "markdown",
   "metadata": {},
   "source": [
    "# save results"
   ]
  },
  {
   "cell_type": "code",
   "execution_count": 23,
   "metadata": {},
   "outputs": [],
   "source": [
    "clean()"
   ]
  },
  {
   "cell_type": "code",
   "execution_count": 24,
   "metadata": {},
   "outputs": [
    {
     "name": "stderr",
     "output_type": "stream",
     "text": [
      "[NbConvertApp] Converting notebook testing.ipynb to html\n",
      "[NbConvertApp] Writing 688726 bytes to testing.html\n"
     ]
    },
    {
     "data": {
      "text/plain": [
       "'test/test_report_2024_07_25.html'"
      ]
     },
     "execution_count": 24,
     "metadata": {},
     "output_type": "execute_result"
    }
   ],
   "source": [
    "\n",
    "# create html version of this file for documentation\n",
    "!jupyter nbconvert --to html testing.ipynb\n",
    "\n",
    "now = datetime.datetime.now().strftime('%Y_%m_%d')\n",
    "shutil.move('testing.html', f'test/test_report_{now}.html')\n"
   ]
  },
  {
   "cell_type": "markdown",
   "metadata": {},
   "source": [
    "# temp"
   ]
  },
  {
   "cell_type": "code",
   "execution_count": 25,
   "metadata": {},
   "outputs": [],
   "source": [
    "import pandas as pd\n",
    "import numpy as np\n",
    "import copy\n",
    "import os\n",
    "import sys\n",
    "import shutil\n",
    "import datetime\n",
    "import qplib as qp\n",
    "from qplib import log\n",
    "\n",
    "# if 'cards' not in globals():\n",
    "#     cards = pd.read_csv('data/cards.csv')\n",
    "# cards.qi()\n",
    "\n",
    "\n",
    "# df = qp.get_df().format()\n",
    "# df.qi()\n",
    "\n",
    "\n",
    "\n"
   ]
  }
 ],
 "metadata": {
  "kernelspec": {
   "display_name": "Python 3",
   "language": "python",
   "name": "python3"
  },
  "language_info": {
   "codemirror_mode": {
    "name": "ipython",
    "version": 3
   },
   "file_extension": ".py",
   "mimetype": "text/x-python",
   "name": "python",
   "nbconvert_exporter": "python",
   "pygments_lexer": "ipython3",
   "version": "3.12.3"
  }
 },
 "nbformat": 4,
 "nbformat_minor": 2
}
