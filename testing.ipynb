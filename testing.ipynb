{
 "cells": [
  {
   "cell_type": "markdown",
   "metadata": {},
   "source": [
    "# qplib test suite\n",
    "\n",
    "some of the tests should result in colored info, warning or error logs to be shown. These are expected function behaviour under the test conditions and do not indicate a test was passed or failed. Instead the relevant messages are those starting with \"passed test...\" or \"failed test...\".  \n",
    "if any test fails, the script stops and does not save a test_report."
   ]
  },
  {
   "cell_type": "markdown",
   "metadata": {},
   "source": [
    "# imports"
   ]
  },
  {
   "cell_type": "code",
   "execution_count": 15,
   "metadata": {},
   "outputs": [],
   "source": [
    "import pandas as pd\n",
    "import numpy as np\n",
    "import copy\n",
    "import os\n",
    "import shutil\n",
    "import datetime\n",
    "import qplib as qp\n",
    "from qplib import log\n",
    "\n",
    "working_directory = os.getcwd()\n",
    "\n"
   ]
  },
  {
   "cell_type": "markdown",
   "metadata": {},
   "source": [
    "# types"
   ]
  },
  {
   "cell_type": "code",
   "execution_count": 16,
   "metadata": {},
   "outputs": [],
   "source": [
    "def compare(result, expected):\n",
    "    if result == expected:\n",
    "        print(f'passed test for type conversion to: {expected}')\n",
    "    else:\n",
    "        raise Exception(f'failed test for type conversion to: {expected}')"
   ]
  },
  {
   "cell_type": "markdown",
   "metadata": {},
   "source": [
    "## error raising"
   ]
  },
  {
   "cell_type": "code",
   "execution_count": 17,
   "metadata": {},
   "outputs": [
    {
     "name": "stdout",
     "output_type": "stream",
     "text": [
      "passed test for raising correct error for: qp.qp_na(\"abc\")\n",
      "passed test for raising correct error for: qp.qp_nk(\"abc\")\n",
      "passed test for raising correct error for: qp.qp_num(\"abc\")\n",
      "passed test for raising correct error for: qp.qp_yn(\"abc\")\n",
      "passed test for raising correct error for: qp.qp_date(\"abc\")\n",
      "passed test for raising correct error for: qp.qp_datetime(\"abc\")\n"
     ]
    }
   ],
   "source": [
    "#checking if correct error is raised\n",
    "type_funcs = [\n",
    "    qp.na,\n",
    "    qp.nk,\n",
    "    qp.num,\n",
    "    qp.yn,\n",
    "    qp.date,\n",
    "    qp.datetime,\n",
    "    ]\n",
    "\n",
    "for func in type_funcs:\n",
    "    try:\n",
    "        func('abc', errors='raise')\n",
    "    except ValueError:\n",
    "        func = str(func).split('<function ')[1].split(' at')[0]\n",
    "        print(f'passed test for raising correct error for: qp.{func}(\"abc\")')\n",
    "    except:\n",
    "        raise"
   ]
  },
  {
   "cell_type": "markdown",
   "metadata": {},
   "source": [
    "## num"
   ]
  },
  {
   "cell_type": "code",
   "execution_count": 18,
   "metadata": {},
   "outputs": [
    {
     "name": "stdout",
     "output_type": "stream",
     "text": [
      "passed test for type conversion to: None\n",
      "passed test for type conversion to: abc\n",
      "passed test for type conversion to: test\n",
      "passed test for type conversion to: 1\n",
      "passed test for type conversion to: 1.0\n",
      "passed test for type conversion to: 1.1\n",
      "passed test for type conversion to: 0\n",
      "passed test for type conversion to: 0.0\n",
      "passed test for type conversion to: 0.1\n",
      "passed test for type conversion to: -1\n",
      "passed test for type conversion to: -1.0\n",
      "passed test for type conversion to: -1.1\n",
      "passed test for type conversion to: 1\n",
      "passed test for type conversion to: 1.0\n",
      "passed test for type conversion to: 1.1\n",
      "passed test for type conversion to: 0\n",
      "passed test for type conversion to: 0.0\n",
      "passed test for type conversion to: 0.1\n",
      "passed test for type conversion to: -1\n",
      "passed test for type conversion to: -1.0\n",
      "passed test for type conversion to: -1.1\n"
     ]
    }
   ],
   "source": [
    "#numbers\n",
    "compare(qp.num('abc', errors='coerce', na=None), None)\n",
    "compare(qp.num('abc', errors='ignore'), 'abc')\n",
    "compare(qp.num('abc', errors='test'), 'test')\n",
    "\n",
    "compare(qp.num('1'), 1)\n",
    "compare(qp.num('1.0'), 1.0)\n",
    "compare(qp.num('1.1'), 1.1)\n",
    "\n",
    "compare(qp.num('0'), 0)\n",
    "compare(qp.num('0.0'), 0.0)\n",
    "compare(qp.num('0.1'), 0.1)\n",
    "\n",
    "compare(qp.num('-1'), -1)\n",
    "compare(qp.num('-1.0'), -1.0)\n",
    "compare(qp.num('-1.1'), -1.1)\n",
    "\n",
    "compare(qp.num(1), 1)\n",
    "compare(qp.num(1.0), 1.0)\n",
    "compare(qp.num(1.1), 1.1)\n",
    "\n",
    "compare(qp.num(0), 0)\n",
    "compare(qp.num(0.0), 0.0)\n",
    "compare(qp.num(0.1), 0.1)\n",
    "\n",
    "compare(qp.num(-1), -1)\n",
    "compare(qp.num(-1.0), -1.0)\n",
    "compare(qp.num(-1.1), -1.1)\n"
   ]
  },
  {
   "cell_type": "markdown",
   "metadata": {},
   "source": [
    "## date"
   ]
  },
  {
   "cell_type": "code",
   "execution_count": 19,
   "metadata": {},
   "outputs": [
    {
     "name": "stdout",
     "output_type": "stream",
     "text": [
      "passed test for type conversion to: None\n",
      "passed test for type conversion to: abc\n",
      "passed test for type conversion to: test\n",
      "passed test for type conversion to: 2020-01-01\n",
      "passed test for type conversion to: 2020-01-01\n",
      "passed test for type conversion to: 2020-01-01\n",
      "passed test for type conversion to: 2020-01-01\n",
      "passed test for type conversion to: 2020-01-01\n",
      "passed test for type conversion to: 2020-01-01\n",
      "passed test for type conversion to: 2020-01-01\n",
      "passed test for type conversion to: 2020-01-01\n",
      "passed test for type conversion to: 2020-01-01\n",
      "passed test for type conversion to: 2020-01-01\n",
      "passed test for type conversion to: 2020-01-01\n",
      "passed test for type conversion to: 2020-01-01\n",
      "passed test for type conversion to: 2020-01-01\n",
      "passed test for type conversion to: 2020-01-01\n",
      "passed test for type conversion to: 2020-01-01\n",
      "passed test for type conversion to: 2020-01-01\n",
      "passed test for type conversion to: 2020-01-01\n",
      "passed test for type conversion to: 2020-01-01\n",
      "passed test for type conversion to: 2020-01-01\n",
      "passed test for type conversion to: 2020-01-01\n",
      "passed test for type conversion to: 2020-01-01\n",
      "passed test for type conversion to: 2020-01-01\n",
      "passed test for type conversion to: 2020-01-02\n",
      "passed test for type conversion to: 2020-01-02\n",
      "passed test for type conversion to: 2020-01-02\n",
      "passed test for type conversion to: 2020-01-02\n",
      "passed test for type conversion to: 2020-01-02\n",
      "passed test for type conversion to: 2020-01-02\n",
      "passed test for type conversion to: 2020-01-02\n",
      "passed test for type conversion to: 2020-01-02\n"
     ]
    }
   ],
   "source": [
    "#date\n",
    "\n",
    "compare(qp.date('abc', errors='coerce', na=None), None)\n",
    "compare(qp.date('abc', errors='ignore'), 'abc')\n",
    "compare(qp.date('abc', errors='test'), 'test')\n",
    "\n",
    "compare(qp.date('2020-01-01'), datetime.date(2020, 1, 1))\n",
    "compare(qp.date('2020-01-01 00:00:00'), datetime.date(2020, 1, 1))\n",
    "\n",
    "compare(qp.date('2020.01.01'), datetime.date(2020, 1, 1))\n",
    "compare(qp.date('2020/01/01'), datetime.date(2020, 1, 1))\n",
    "compare(qp.date('2020 01 01'), datetime.date(2020, 1, 1))\n",
    "compare(qp.date('20200101'), datetime.date(2020, 1, 1))\n",
    "\n",
    "compare(qp.date('2020 Jan 01'), datetime.date(2020, 1, 1))\n",
    "compare(qp.date('2020 January 01'), datetime.date(2020, 1, 1))\n",
    "compare(qp.date('2020 Jan 1'), datetime.date(2020, 1, 1))\n",
    "compare(qp.date('2020 January 1'), datetime.date(2020, 1, 1))\n",
    "\n",
    "compare(qp.date('Jan 01 2020'), datetime.date(2020, 1, 1))\n",
    "compare(qp.date('January 01 2020'), datetime.date(2020, 1, 1))\n",
    "compare(qp.date('Jan 1 2020'), datetime.date(2020, 1, 1))\n",
    "compare(qp.date('January 1 2020'), datetime.date(2020, 1, 1))\n",
    "\n",
    "compare(qp.date('01 Jan 2020'), datetime.date(2020, 1, 1))\n",
    "compare(qp.date('01 January 2020'), datetime.date(2020, 1, 1))\n",
    "compare(qp.date('1 Jan 2020'), datetime.date(2020, 1, 1))\n",
    "compare(qp.date('1 January 2020'), datetime.date(2020, 1, 1))\n",
    "\n",
    "compare(qp.date('01-01-2020'), datetime.date(2020, 1, 1))\n",
    "compare(qp.date('01.01.2020'), datetime.date(2020, 1, 1))\n",
    "compare(qp.date('01/01/2020'), datetime.date(2020, 1, 1))\n",
    "compare(qp.date('01 01 2020'), datetime.date(2020, 1, 1))\n",
    "\n",
    "compare(qp.date('02-01-20'), datetime.date(2020, 1, 2))\n",
    "compare(qp.date('02.01.20'), datetime.date(2020, 1, 2))\n",
    "compare(qp.date('02/01/20'), datetime.date(2020, 1, 2))\n",
    "compare(qp.date('02 01 20'), datetime.date(2020, 1, 2))\n",
    "\n",
    "compare(qp.date('2020-01-02'), datetime.date(2020, 1, 2))\n",
    "compare(qp.date('2020.01.02'), datetime.date(2020, 1, 2))\n",
    "compare(qp.date('2020/01/02'), datetime.date(2020, 1, 2))\n",
    "compare(qp.date('2020 01 02'), datetime.date(2020, 1, 2))"
   ]
  },
  {
   "cell_type": "markdown",
   "metadata": {},
   "source": [
    "## datetime"
   ]
  },
  {
   "cell_type": "code",
   "execution_count": 20,
   "metadata": {},
   "outputs": [
    {
     "name": "stdout",
     "output_type": "stream",
     "text": [
      "passed test for type conversion to: None\n",
      "passed test for type conversion to: abc\n",
      "passed test for type conversion to: test\n",
      "passed test for type conversion to: 2020-01-01 00:00:00\n",
      "passed test for type conversion to: 2020-01-01 00:00:00\n",
      "passed test for type conversion to: 2020-01-01 00:00:01\n",
      "passed test for type conversion to: 2020-01-01 00:01:00\n",
      "passed test for type conversion to: 2020-01-01 01:00:00\n",
      "passed test for type conversion to: 2020-01-01 01:01:01\n",
      "passed test for type conversion to: 2020-01-01 00:00:00\n",
      "passed test for type conversion to: 2020-01-01 00:00:00\n",
      "passed test for type conversion to: 2020-01-01 00:00:00\n",
      "passed test for type conversion to: 2020-01-01 00:00:00\n",
      "passed test for type conversion to: 2020-01-01 00:00:00\n",
      "passed test for type conversion to: 2020-01-01 00:00:00\n",
      "passed test for type conversion to: 2020-01-01 00:00:00\n",
      "passed test for type conversion to: 2020-01-01 00:00:00\n",
      "passed test for type conversion to: 2020-01-01 00:00:00\n",
      "passed test for type conversion to: 2020-01-01 00:00:00\n",
      "passed test for type conversion to: 2020-01-01 00:00:00\n",
      "passed test for type conversion to: 2020-01-01 00:00:00\n",
      "passed test for type conversion to: 2020-01-01 00:00:00\n",
      "passed test for type conversion to: 2020-01-01 00:00:00\n",
      "passed test for type conversion to: 2020-01-01 00:00:00\n",
      "passed test for type conversion to: 2020-01-01 00:00:00\n",
      "passed test for type conversion to: 2020-01-01 00:00:00\n",
      "passed test for type conversion to: 2020-01-01 00:00:00\n",
      "passed test for type conversion to: 2020-01-01 00:00:00\n",
      "passed test for type conversion to: 2020-01-02 00:00:00\n",
      "passed test for type conversion to: 2020-01-02 00:00:00\n",
      "passed test for type conversion to: 2020-01-02 00:00:00\n",
      "passed test for type conversion to: 2020-01-02 00:00:00\n",
      "passed test for type conversion to: 2020-01-02 00:00:00\n",
      "passed test for type conversion to: 2020-01-02 00:00:00\n",
      "passed test for type conversion to: 2020-01-02 00:00:00\n",
      "passed test for type conversion to: 2020-01-02 00:00:00\n"
     ]
    }
   ],
   "source": [
    "#datetime\n",
    "\n",
    "compare(qp.datetime('abc', errors='coerce', na=None), None)\n",
    "compare(qp.datetime('abc', errors='ignore'), 'abc')\n",
    "compare(qp.datetime('abc', errors='test'), 'test')\n",
    "\n",
    "compare(qp.datetime('2020-01-01'), datetime.datetime(2020, 1, 1))\n",
    "compare(qp.datetime('2020-01-01 00:00:00'), datetime.datetime(2020, 1, 1))\n",
    "compare(qp.datetime('2020-01-01 00:00:01'), datetime.datetime(2020, 1, 1, 0, 0, 1))\n",
    "compare(qp.datetime('2020-01-01 00:01:00'), datetime.datetime(2020, 1, 1, 0, 1, 0))\n",
    "compare(qp.datetime('2020-01-01 01:00:00'), datetime.datetime(2020, 1, 1, 1, 0, 0))\n",
    "compare(qp.datetime('2020-01-01 01:01:01'), datetime.datetime(2020, 1, 1, 1, 1, 1))\n",
    "\n",
    "compare(qp.datetime('2020.01.01'), datetime.datetime(2020, 1, 1))\n",
    "compare(qp.datetime('2020/01/01'), datetime.datetime(2020, 1, 1))\n",
    "compare(qp.datetime('2020 01 01'), datetime.datetime(2020, 1, 1))\n",
    "compare(qp.datetime('20200101'), datetime.datetime(2020, 1, 1))\n",
    "\n",
    "compare(qp.datetime('2020 Jan 01'), datetime.datetime(2020, 1, 1))\n",
    "compare(qp.datetime('2020 January 01'), datetime.datetime(2020, 1, 1))\n",
    "compare(qp.datetime('2020 Jan 1'), datetime.datetime(2020, 1, 1))\n",
    "compare(qp.datetime('2020 January 1'), datetime.datetime(2020, 1, 1))\n",
    "\n",
    "compare(qp.datetime('Jan 01 2020'), datetime.datetime(2020, 1, 1))\n",
    "compare(qp.datetime('January 01 2020'), datetime.datetime(2020, 1, 1))\n",
    "compare(qp.datetime('Jan 1 2020'), datetime.datetime(2020, 1, 1))\n",
    "compare(qp.datetime('January 1 2020'), datetime.datetime(2020, 1, 1))\n",
    "\n",
    "compare(qp.datetime('01 Jan 2020'), datetime.datetime(2020, 1, 1))\n",
    "compare(qp.datetime('01 January 2020'), datetime.datetime(2020, 1, 1))\n",
    "compare(qp.datetime('1 Jan 2020'), datetime.datetime(2020, 1, 1))\n",
    "compare(qp.datetime('1 January 2020'), datetime.datetime(2020, 1, 1))\n",
    "\n",
    "compare(qp.datetime('01-01-2020'), datetime.datetime(2020, 1, 1))\n",
    "compare(qp.datetime('01.01.2020'), datetime.datetime(2020, 1, 1))\n",
    "compare(qp.datetime('01/01/2020'), datetime.datetime(2020, 1, 1))\n",
    "\n",
    "compare(qp.datetime('02-01-20'), datetime.datetime(2020, 1, 2))\n",
    "compare(qp.datetime('02.01.20'), datetime.datetime(2020, 1, 2))\n",
    "compare(qp.datetime('02/01/20'), datetime.datetime(2020, 1, 2))\n",
    "compare(qp.datetime('02 01 20'), datetime.datetime(2020, 1, 2))\n",
    "\n",
    "compare(qp.datetime('2020-01-02'), datetime.datetime(2020, 1, 2))\n",
    "compare(qp.datetime('2020.01.02'), datetime.datetime(2020, 1, 2))\n",
    "compare(qp.datetime('2020/01/02'), datetime.datetime(2020, 1, 2))\n",
    "compare(qp.datetime('2020 01 02'), datetime.datetime(2020, 1, 2))\n"
   ]
  },
  {
   "cell_type": "markdown",
   "metadata": {},
   "source": [
    "## na"
   ]
  },
  {
   "cell_type": "code",
   "execution_count": 21,
   "metadata": {},
   "outputs": [
    {
     "name": "stdout",
     "output_type": "stream",
     "text": [
      "passed test for type conversion to: None\n",
      "passed test for type conversion to: 1\n",
      "passed test for type conversion to: test\n",
      "passed test for type conversion to: test\n",
      "passed test for type conversion to: None\n",
      "passed test for type conversion to: None\n",
      "passed test for type conversion to: None\n",
      "passed test for type conversion to: None\n",
      "passed test for type conversion to: None\n",
      "passed test for type conversion to: None\n",
      "passed test for type conversion to: None\n",
      "passed test for type conversion to: None\n",
      "passed test for type conversion to: None\n",
      "passed test for type conversion to: None\n",
      "passed test for type conversion to: None\n",
      "passed test for type conversion to: None\n",
      "passed test for type conversion to: None\n",
      "passed test for type conversion to: None\n",
      "passed test for type conversion to: None\n",
      "passed test for type conversion to: None\n",
      "passed test for type conversion to: None\n",
      "passed test for type conversion to: None\n",
      "passed test for type conversion to: None\n",
      "passed test for type conversion to: None\n",
      "passed test for type conversion to: None\n",
      "passed test for type conversion to: None\n",
      "passed test for type conversion to: None\n",
      "passed test for type conversion to: None\n",
      "passed test for type conversion to: None\n",
      "passed test for type conversion to: None\n",
      "passed test for type conversion to: None\n",
      "passed test for type conversion to: None\n",
      "passed test for type conversion to: None\n",
      "passed test for type conversion to: None\n",
      "passed test for type conversion to: None\n",
      "passed test for type conversion to: None\n"
     ]
    }
   ],
   "source": [
    "#not available\n",
    "\n",
    "compare(qp.na(1, errors='coerce'), None)\n",
    "compare(qp.na(1, errors='ignore'), 1)\n",
    "compare(qp.na(1, errors='test'), 'test')\n",
    "compare(qp.na('na', na='test'), 'test')\n",
    "\n",
    "compare(qp.na('na'), None)\n",
    "compare(qp.na('nA'), None)\n",
    "compare(qp.na('Na'), None)\n",
    "compare(qp.na('NA'), None)\n",
    "\n",
    "compare(qp.na('n.a.'), None)\n",
    "compare(qp.na('n.a'), None)\n",
    "compare(qp.na('N.A'), None)\n",
    "compare(qp.na('N.A.'), None)\n",
    "compare(qp.na('n/a'), None)\n",
    "compare(qp.na('N/A'), None)\n",
    "\n",
    "compare(qp.na('nan'), None)\n",
    "compare(qp.na('NaN'), None)\n",
    "compare(qp.na('NAN'), None)\n",
    "compare(qp.na('Nan'), None)\n",
    "compare(qp.na('nAn'), None)\n",
    "compare(qp.na('nAN'), None)\n",
    "compare(qp.na('naN'), None)\n",
    "\n",
    "compare(qp.na('none'), None)\n",
    "compare(qp.na('None'), None)\n",
    "compare(qp.na('NONE'), None)\n",
    "\n",
    "compare(qp.na('null'), None)\n",
    "compare(qp.na('Null'), None)\n",
    "compare(qp.na('NULL'), None)\n",
    "\n",
    "compare(qp.na('nil'), None)\n",
    "compare(qp.na('Nil'), None)\n",
    "compare(qp.na('NIL'), None)\n",
    "\n",
    "compare(qp.na('not available'), None)\n",
    "compare(qp.na('Not Available'), None)\n",
    "compare(qp.na('NOT AVAILABLE'), None)\n",
    "\n",
    "compare(qp.na('not a number'), None)\n",
    "compare(qp.na('Not A Number'), None)\n",
    "compare(qp.na('NOT A NUMBER'), None)\n"
   ]
  },
  {
   "cell_type": "markdown",
   "metadata": {},
   "source": [
    "## nk"
   ]
  },
  {
   "cell_type": "code",
   "execution_count": 22,
   "metadata": {},
   "outputs": [
    {
     "name": "stdout",
     "output_type": "stream",
     "text": [
      "passed test for type conversion to: None\n",
      "passed test for type conversion to: 1\n",
      "passed test for type conversion to: test\n",
      "passed test for type conversion to: test\n",
      "passed test for type conversion to: unknown\n",
      "passed test for type conversion to: unknown\n",
      "passed test for type conversion to: unknown\n",
      "passed test for type conversion to: unknown\n",
      "passed test for type conversion to: unknown\n",
      "passed test for type conversion to: unknown\n",
      "passed test for type conversion to: unknown\n",
      "passed test for type conversion to: unknown\n",
      "passed test for type conversion to: unknown\n",
      "passed test for type conversion to: unknown\n",
      "passed test for type conversion to: unknown\n",
      "passed test for type conversion to: unknown\n",
      "passed test for type conversion to: unknown\n",
      "passed test for type conversion to: unknown\n",
      "passed test for type conversion to: unknown\n",
      "passed test for type conversion to: unknown\n",
      "passed test for type conversion to: unknown\n",
      "passed test for type conversion to: unknown\n",
      "passed test for type conversion to: unknown\n",
      "passed test for type conversion to: unknown\n",
      "passed test for type conversion to: unknown\n",
      "passed test for type conversion to: unknown\n",
      "passed test for type conversion to: unknown\n",
      "passed test for type conversion to: unknown\n",
      "passed test for type conversion to: unknown\n"
     ]
    }
   ],
   "source": [
    "#not known\n",
    "\n",
    "compare(qp.nk(1, errors='coerce'), None)\n",
    "compare(qp.nk(1, errors='ignore'), 1)\n",
    "compare(qp.nk(1, errors='test'), 'test')\n",
    "compare(qp.nk('nk', nk='test'), 'test')\n",
    "\n",
    "compare(qp.nk('nk'), 'unknown')\n",
    "compare(qp.nk('nK'), 'unknown')\n",
    "compare(qp.nk('Nk'), 'unknown')\n",
    "compare(qp.nk('NK'), 'unknown')\n",
    "\n",
    "compare(qp.nk('n.k.'), 'unknown')\n",
    "compare(qp.nk('n.k'), 'unknown')\n",
    "compare(qp.nk('N.K'), 'unknown')\n",
    "compare(qp.nk('N.K.'), 'unknown')\n",
    "compare(qp.nk('n/k'), 'unknown')\n",
    "compare(qp.nk('N/K'), 'unknown')\n",
    "\n",
    "compare(qp.nk('not known'), 'unknown')\n",
    "compare(qp.nk('Not Known'), 'unknown')\n",
    "compare(qp.nk('NOT KNOWN'), 'unknown')\n",
    "\n",
    "compare(qp.nk('not known.'), 'unknown')\n",
    "compare(qp.nk('Not Known.'), 'unknown')\n",
    "compare(qp.nk('NOT KNOWN.'), 'unknown')\n",
    "\n",
    "compare(qp.nk('unknown'), 'unknown')\n",
    "compare(qp.nk('Unknown'), 'unknown')\n",
    "compare(qp.nk('UNKNOWN'), 'unknown')\n",
    "\n",
    "compare(qp.nk('not specified'), 'unknown')\n",
    "compare(qp.nk('Not Specified'), 'unknown')\n",
    "compare(qp.nk('NOT SPECIFIED'), 'unknown')\n",
    "\n",
    "compare(qp.nk('not specified.'), 'unknown')\n",
    "compare(qp.nk('Not Specified.'), 'unknown')\n",
    "compare(qp.nk('NOT SPECIFIED.'), 'unknown')\n"
   ]
  },
  {
   "cell_type": "markdown",
   "metadata": {},
   "source": [
    "## yn"
   ]
  },
  {
   "cell_type": "code",
   "execution_count": 23,
   "metadata": {},
   "outputs": [
    {
     "name": "stdout",
     "output_type": "stream",
     "text": [
      "passed test for type conversion to: None\n",
      "passed test for type conversion to: abc\n",
      "passed test for type conversion to: test\n",
      "passed test for type conversion to: yes\n",
      "passed test for type conversion to: yes\n",
      "passed test for type conversion to: yes\n",
      "passed test for type conversion to: no\n",
      "passed test for type conversion to: no\n",
      "passed test for type conversion to: no\n",
      "passed test for type conversion to: yes\n",
      "passed test for type conversion to: yes\n",
      "passed test for type conversion to: no\n",
      "passed test for type conversion to: no\n",
      "passed test for type conversion to: yes\n",
      "passed test for type conversion to: no\n",
      "passed test for type conversion to: yes\n",
      "passed test for type conversion to: no\n",
      "passed test for type conversion to: yes\n",
      "passed test for type conversion to: yes\n",
      "passed test for type conversion to: yes\n",
      "passed test for type conversion to: no\n",
      "passed test for type conversion to: no\n",
      "passed test for type conversion to: no\n",
      "passed test for type conversion to: yes\n",
      "passed test for type conversion to: yes\n",
      "passed test for type conversion to: yes\n",
      "passed test for type conversion to: no\n",
      "passed test for type conversion to: no\n",
      "passed test for type conversion to: no\n",
      "passed test for type conversion to: yes\n",
      "passed test for type conversion to: yes\n",
      "passed test for type conversion to: yes\n",
      "passed test for type conversion to: no\n",
      "passed test for type conversion to: no\n",
      "passed test for type conversion to: no\n"
     ]
    }
   ],
   "source": [
    "#yes no\n",
    "compare(qp.yn('abc', errors='coerce'), None)\n",
    "compare(qp.yn('abc', errors='ignore'), 'abc')\n",
    "compare(qp.yn('abc', errors='test'), 'test')\n",
    "\n",
    "compare(qp.yn('yes'), 'yes')\n",
    "compare(qp.yn('Yes'), 'yes')\n",
    "compare(qp.yn('YES'), 'yes')\n",
    "\n",
    "compare(qp.yn('no'), 'no')\n",
    "compare(qp.yn('No'), 'no')\n",
    "compare(qp.yn('NO'), 'no')\n",
    "\n",
    "compare(qp.yn('y'), 'yes')\n",
    "compare(qp.yn('Y'), 'yes')\n",
    "\n",
    "compare(qp.yn('n'), 'no')\n",
    "compare(qp.yn('N'), 'no')\n",
    "\n",
    "compare(qp.yn('1'), 'yes')\n",
    "compare(qp.yn('0'), 'no')\n",
    "\n",
    "compare(qp.yn(1), 'yes')\n",
    "compare(qp.yn(0), 'no')\n",
    "\n",
    "compare(qp.yn('true'), 'yes')\n",
    "compare(qp.yn('True'), 'yes')\n",
    "compare(qp.yn('TRUE'), 'yes')\n",
    "\n",
    "compare(qp.yn('false'), 'no')\n",
    "compare(qp.yn('False'), 'no')\n",
    "compare(qp.yn('FALSE'), 'no')\n",
    "\n",
    "compare(qp.yn('pos'), 'yes')\n",
    "compare(qp.yn('Pos'), 'yes')\n",
    "compare(qp.yn('POS'), 'yes')\n",
    "\n",
    "compare(qp.yn('neg'), 'no')\n",
    "compare(qp.yn('Neg'), 'no')\n",
    "compare(qp.yn('NEG'), 'no')\n",
    "\n",
    "compare(qp.yn('positive'), 'yes')\n",
    "compare(qp.yn('Positive'), 'yes')\n",
    "compare(qp.yn('POSITIVE'), 'yes')\n",
    "\n",
    "compare(qp.yn('negative'), 'no')\n",
    "compare(qp.yn('Negative'), 'no')\n",
    "compare(qp.yn('NEGATIVE'), 'no')\n"
   ]
  },
  {
   "cell_type": "markdown",
   "metadata": {},
   "source": [
    "## qp.dict"
   ]
  },
  {
   "cell_type": "code",
   "execution_count": 24,
   "metadata": {},
   "outputs": [
    {
     "name": "stdout",
     "output_type": "stream",
     "text": [
      "passed test for dict.values_flat()\n",
      "passed test for dict.invert()\n"
     ]
    }
   ],
   "source": [
    "#wip\n",
    "\n",
    "dict1 = qp.dict({\n",
    "    'a': [1, 2, 3, 4, 5],\n",
    "    'b': (1, 2, 3, 4, 5),\n",
    "    'c': {'a': 1, 'b': 2, 'c': 3, 'd': 4, 'e': 5},\n",
    "    'd': {1, 2, 3, 4, 5},\n",
    "    'e': np.array([1, 2, 3, 4, 5]),\n",
    "    'f': pd.Series([1, 2, 3, 4, 5]),\n",
    "    })\n",
    "\n",
    "result = dict1.values_flat()\n",
    "expected = [\n",
    "    1, 2, 3, 4, 5, \n",
    "    1, 2, 3, 4, 5, \n",
    "    1, 2, 3, 4, 5, \n",
    "    1, 2, 3, 4, 5, \n",
    "    1, 2, 3, 4, 5, \n",
    "    1, 2, 3, 4, 5,\n",
    "    ]\n",
    "if result == expected:\n",
    "    print('passed test for dict.values_flat()')\n",
    "else:\n",
    "    raise Exception('failed test for dict.values_flat()')\n",
    "\n",
    "\n",
    "dict2 = qp.dict({\n",
    "    'a': '1',\n",
    "    'b': '2',\n",
    "    'c': '3',\n",
    "    })\n",
    "result = dict2.invert()\n",
    "expected = {\n",
    "    '1': 'a',\n",
    "    '2': 'b',\n",
    "    '3': 'c',\n",
    "    }\n",
    "if result == expected:\n",
    "    print('passed test for dict.invert()')\n",
    "else:\n",
    "    raise Exception('failed test for dict.invert()')\n"
   ]
  },
  {
   "cell_type": "markdown",
   "metadata": {},
   "source": [
    "# pd.DataFrame.q()"
   ]
  },
  {
   "cell_type": "code",
   "execution_count": 25,
   "metadata": {},
   "outputs": [],
   "source": [
    "def compare(result, expected_df, text=None):\n",
    "    if not result.equals(expected_df):\n",
    "        print(f'failed test for arg: \"{result.qp.code}\"')\n",
    "\n",
    "        print('result:')\n",
    "        display(result)\n",
    "        print('expected:')\n",
    "        display(expected_df)\n",
    "        if text is None:\n",
    "            raise Exception(f'failed test for arg: \"{result.qp.code}\"')\n",
    "        else:\n",
    "            raise Exception(f'failed test for: {text}')\n",
    "    else:\n",
    "        if text is None:\n",
    "            print(f'passed test for arg: \"{result.qp.code}\"')\n",
    "        else:\n",
    "            print(f'passed test for: {text}')\n",
    "\n",
    "\n",
    "def get_df_simple():\n",
    "    df = pd.DataFrame({\n",
    "        'a': [-1, 0, 1],\n",
    "        'b': [1, 2, 3]\n",
    "        })\n",
    "    return df\n",
    "\n",
    "def get_df_simple_tagged():\n",
    "    df = pd.DataFrame({\n",
    "        'meta': ['', '', ''],\n",
    "        'a': [-1, 0, 1],\n",
    "        'b': [1, 2, 3]\n",
    "        })\n",
    "    df.index = [0, 1, 2]\n",
    "    return df\n",
    "\n",
    "\n",
    "def get_df():\n",
    "    df = pd.DataFrame({\n",
    "        'ID': [10001, 10002, 10003, 20001, 20002, 20003, 30001, 30002, 30003, 30004, 30005],\n",
    "        'name': ['John Doe', 'Jane Smith', 'Alice Johnson', 'Bob Brown', 'eva white', 'Frank miller', 'Grace TAYLOR', 'Harry Clark', 'IVY GREEN', 'JAck Williams', 'john Doe'],\n",
    "        'date of birth': ['1995-01-02', '1990/09/14', '1985.08.23', '19800406', '05-11-2007', '06-30-1983', '28-05-1975', '1960Mar08', '1955-Jan-09', '1950 Sep 10', '1945 October 11'],\n",
    "        'age': [-25, '30', np.nan, None, '40.0', 'forty-five', 'nan', 'unk', '', 'unknown', 35],\n",
    "        'gender': ['M', 'F', 'Female', 'Male', 'Other', 'm', 'ff', 'NaN', None, 'Mal', 'female'],\n",
    "        'height': [170, '175.5cm', None, '280', 'NaN', '185', '1', '6ft 1in', -10, '', 200],\n",
    "        'weight': [70.2, '68', '72.5lb', 'na', '', '75kg', None, '80.3', '130lbs', '82', -65],\n",
    "        'bp systole': ['20', 130, 'NaN', '140', '135mmhg', '125', 'NAN', '122', '', 130, '45'],\n",
    "        'bp diastole': [80, '85', 'nan', '90mmHg', np.nan, '75', 'NaN', None, '95', '0', 'NaN'],\n",
    "        'cholesterol': ['Normal', 'Highe', 'NaN', 'GOOD', 'n.a.', 'High', 'Normal', 'n/a', 'high', '', 'Normal'],\n",
    "        'diabetes': ['No', 'yes', 'N/A', 'No', 'Y', 'Yes', 'NO', None, 'NaN', 'n', 'Yes'],\n",
    "        'dose': ['10kg', 'NaN', '15 mg once a day', '20mg', '20 Mg', '25g', 'NaN', None, '30 MG', '35', '40ml']\n",
    "        })\n",
    "    return df\n",
    "\n",
    "def get_df_tagged():\n",
    "    df1 = get_df()\n",
    "    df2 = pd.DataFrame('', index=df1.index, columns=['meta', *df1.columns])\n",
    "    df2.iloc[:, 1:] = df1.loc[:, :]\n",
    "    return df2"
   ]
  },
  {
   "cell_type": "markdown",
   "metadata": {},
   "source": [
    "## filtering"
   ]
  },
  {
   "cell_type": "code",
   "execution_count": 26,
   "metadata": {},
   "outputs": [
    {
     "name": "stderr",
     "output_type": "stream",
     "text": [
      "<>:191: SyntaxWarning: invalid escape sequence '\\d'\n",
      "<>:191: SyntaxWarning: invalid escape sequence '\\d'\n",
      "C:\\Users\\MartinVölkl-GouyaIns\\AppData\\Local\\Temp\\ipykernel_30820\\1179431868.py:191: SyntaxWarning: invalid escape sequence '\\d'\n",
      "  result = df.q('bp systole ´r ~\\d', verbosity=0)\n"
     ]
    },
    {
     "data": {
      "text/html": [
       "<style type=\"text/css\">\n",
       "#T_70170_row0_col0, #T_70170_row0_col1, #T_70170_row0_col2, #T_70170_row0_col3 {\n",
       "  background-color: #c0e7b0;\n",
       "}\n",
       "</style>\n",
       "<table id=\"T_70170\">\n",
       "  <thead>\n",
       "  </thead>\n",
       "  <tbody>\n",
       "    <tr>\n",
       "      <th id=\"T_70170_level0_row0\" class=\"row_heading level0 row0\" >5</th>\n",
       "      <td id=\"T_70170_row0_col0\" class=\"data row0 col0\" >df was checked. no problems found</td>\n",
       "      <td id=\"T_70170_row0_col1\" class=\"data row0 col1\" >qp.pd_util._check_df</td>\n",
       "      <td id=\"T_70170_row0_col2\" class=\"data row0 col2\" >info</td>\n",
       "      <td id=\"T_70170_row0_col3\" class=\"data row0 col3\" >2024-07-16 11:07:49.671898</td>\n",
       "    </tr>\n",
       "  </tbody>\n",
       "</table>\n"
      ],
      "text/plain": [
       "<pandas.io.formats.style.Styler at 0x2bebb2d23f0>"
      ]
     },
     "metadata": {},
     "output_type": "display_data"
    },
    {
     "name": "stdout",
     "output_type": "stream",
     "text": [
      "passed test for arg: \"date of birth\"\n",
      "passed test for arg: \"=date of birth\"\n",
      "passed test for arg: \"date of birth / age\"\n",
      "passed test for arg: \"date of birth / =age\"\n",
      "passed test for arg: \"=date of birth / age\"\n",
      "passed test for arg: \"=date of birth / =age\"\n",
      "passed test for arg: \"!=date of birth\"\n",
      "passed test for arg: \"\"\n",
      "passed test for arg: \"=ID\"\n",
      "passed test for arg: \"=ID\"\n",
      "passed test for arg: \"=\"\n",
      "passed test for arg: \"\n",
      "    =ID\n",
      "    ID\n",
      "    \"\n",
      "passed test for arg: \"\n",
      "    ID\n",
      "    age\n",
      "    \"\n",
      "passed test for arg: \"\n",
      "    ID\n",
      "    / age\n",
      "    \"\n",
      "passed test for arg: \"()bp\"\n",
      "passed test for arg: \"()I\"\n",
      "passed test for arg: \"(())I\"\n",
      "passed test for arg: \"~~.\"\n",
      "passed test for arg: \"~~..\"\n",
      "passed test for arg: \"()bp / =diabetes\"\n",
      "passed test for arg: \"()bp / =diabetes / =cholesterol\"\n",
      "passed test for arg: \"()bp / =cholesterol / =diabetes\"\n",
      "passed test for arg: \"()bp & ()systole\"\n",
      "passed test for arg: \"()bp & !()systole\"\n",
      "passed test for arg: \"()i & ~~..\"\n",
      "passed test for arg: \"name ´r is str\"\n",
      "passed test for arg: \"name ´r !is str\"\n",
      "passed test for arg: \"name ´r is num\"\n",
      "passed test for arg: \"name ´r !is num\"\n",
      "passed test for arg: \"name ´r is na\"\n",
      "passed test for arg: \"name ´r !is na\"\n",
      "passed test for arg: \"age ´r is na\"\n",
      "passed test for arg: \"cholesterol ´r is na\"\n",
      "passed test for arg: \"weight ´r is num\"\n",
      "passed test for arg: \"weight ´r is num & !is na\"\n",
      "passed test for arg: \"date of birth ´r !is date\"\n",
      "passed test for arg: \"diabetes ´r is yn\"\n",
      "passed test for arg: \"diabetes ´r is na / is yn\"\n",
      "passed test for arg: \"diabetes ´r is yn\"\n",
      "passed test for arg: \"diabetes ´r is yes\"\n",
      "passed test for arg: \"diabetes ´r is no\"\n",
      "passed test for arg: \"ID ´r ~~1....\"\n",
      "passed test for arg: \"ID ´r !~~3....\"\n",
      "passed test for arg: \"name ´r ~~\\b[A-Z][a-z]*\\s[A-Z][a-z]*\\b\"\n",
      "passed test for arg: \"name ´r ~~^[^A-Z]*$\"\n",
      "passed test for arg: \"dose ´r ~~^(?=.*[a-zA-Z])(?=.*[0-9]).*$\"\n",
      "passed test for arg: \"bp systole ´r ~m\"\n",
      "passed test for arg: \"bp systole ´r ~\\D\"\n",
      "passed test for arg: \"bp systole ´r ~\\d\"\n",
      "passed test for arg: \"id / name  ´r ()j\"\n",
      "passed test for arg: \"id / name  ´r ()j / ()n\"\n",
      "passed test for arg: \"id / name  ´r ()j & ()n\"\n",
      "passed test for arg: \"height / weight  ´r is num\"\n",
      "passed test for arg: \"height / weight  ´r any is num\"\n",
      "passed test for arg: \"height / weight  ´r anyis num\"\n",
      "passed test for arg: \"height / weight  ´r all is num\"\n",
      "passed test for arg: \"\n",
      "    height / weight ´m to num\n",
      "    height / weight  ´r all is num\n",
      "    \"\n"
     ]
    },
    {
     "name": "stderr",
     "output_type": "stream",
     "text": [
      "c:\\Users\\MartinVölkl-GouyaIns\\OneDrive - Gouya Insights\\Desktop\\qplib_dev\\qplib\\types.py:97: UserWarning: Parsing dates in %m-%d-%Y format when dayfirst=True was specified. Pass `dayfirst=False` or specify a format to silence this warning.\n",
      "  return pd.to_datetime(x, dayfirst=True).date()\n"
     ]
    },
    {
     "data": {
      "text/html": [
       "<style type=\"text/css\">\n",
       "#T_ce884_row0_col0, #T_ce884_row0_col1, #T_ce884_row0_col2, #T_ce884_row0_col3 {\n",
       "  background-color: #c0e7b0;\n",
       "}\n",
       "</style>\n",
       "<table id=\"T_ce884\">\n",
       "  <thead>\n",
       "  </thead>\n",
       "  <tbody>\n",
       "    <tr>\n",
       "      <th id=\"T_ce884_level0_row0\" class=\"row_heading level0 row0\" >6</th>\n",
       "      <td id=\"T_ce884_row0_col0\" class=\"data row0 col0\" >df was checked. no problems found</td>\n",
       "      <td id=\"T_ce884_row0_col1\" class=\"data row0 col1\" >qp.pd_util._check_df</td>\n",
       "      <td id=\"T_ce884_row0_col2\" class=\"data row0 col2\" >info</td>\n",
       "      <td id=\"T_ce884_row0_col3\" class=\"data row0 col3\" >2024-07-16 11:07:49.833114</td>\n",
       "    </tr>\n",
       "  </tbody>\n",
       "</table>\n"
      ],
      "text/plain": [
       "<pandas.io.formats.style.Styler at 0x2bebb2fa3f0>"
      ]
     },
     "metadata": {},
     "output_type": "display_data"
    },
    {
     "name": "stdout",
     "output_type": "stream",
     "text": [
      "passed test for arg: \"\n",
      "    height / weight\n",
      "        ´m to num\n",
      "        ´r all is num\n",
      "    \"\n"
     ]
    },
    {
     "data": {
      "text/html": [
       "<style type=\"text/css\">\n",
       "#T_2055d_row0_col0, #T_2055d_row0_col1, #T_2055d_row0_col2, #T_2055d_row0_col3 {\n",
       "  background-color: #c0e7b0;\n",
       "}\n",
       "</style>\n",
       "<table id=\"T_2055d\">\n",
       "  <thead>\n",
       "  </thead>\n",
       "  <tbody>\n",
       "    <tr>\n",
       "      <th id=\"T_2055d_level0_row0\" class=\"row_heading level0 row0\" >7</th>\n",
       "      <td id=\"T_2055d_row0_col0\" class=\"data row0 col0\" >df was checked. no problems found</td>\n",
       "      <td id=\"T_2055d_row0_col1\" class=\"data row0 col1\" >qp.pd_util._check_df</td>\n",
       "      <td id=\"T_2055d_row0_col2\" class=\"data row0 col2\" >info</td>\n",
       "      <td id=\"T_2055d_row0_col3\" class=\"data row0 col3\" >2024-07-16 11:07:49.843458</td>\n",
       "    </tr>\n",
       "  </tbody>\n",
       "</table>\n"
      ],
      "text/plain": [
       "<pandas.io.formats.style.Styler at 0x2beba613cb0>"
      ]
     },
     "metadata": {},
     "output_type": "display_data"
    },
    {
     "name": "stdout",
     "output_type": "stream",
     "text": [
      "passed test for arg: \"age ´r x? isinstance(x, int)\"\n",
      "passed test for arg: \"\n",
      "    age / height ´m to num\n",
      "    age ´r col? col < df[\"height\"]\n",
      "    \"\n",
      "passed test for arg: \"\n",
      "    age / height ´m to num\n",
      "    age ´r col? col == df[\"age\"].max()\n",
      "    age ´m to str\n",
      "    \"\n"
     ]
    }
   ],
   "source": [
    "\n",
    "df = get_df()\n",
    "\n",
    "\n",
    "#col equality\n",
    "\n",
    "result = df.q('date of birth', inplace=True, verbosity=0)\n",
    "compare(result, df.loc[:, ['date of birth']])\n",
    "\n",
    "result = df.q('=date of birth', verbosity=0)\n",
    "compare(result, df.loc[:, ['date of birth']])\n",
    "\n",
    "result = df.q('date of birth / age', verbosity=0)\n",
    "compare(result, df.loc[:, ['date of birth', 'age']])\n",
    "\n",
    "result = df.q('date of birth / =age', verbosity=0)\n",
    "compare(result, df.loc[:, ['date of birth', 'age']])\n",
    "\n",
    "result = df.q('=date of birth / age', verbosity=0)\n",
    "compare(result, df.loc[:, ['date of birth', 'age']])\n",
    "\n",
    "result = df.q('=date of birth / =age', verbosity=0)\n",
    "compare(result, df.loc[:, ['date of birth', 'age']])\n",
    "\n",
    "result = df.q('!=date of birth', verbosity=0)\n",
    "compare(result, df.loc[:, ['ID', 'name', 'age', 'gender', 'height', 'weight', 'bp systole', 'bp diastole', 'cholesterol', 'diabetes', 'dose']])\n",
    "\n",
    "\n",
    "\n",
    "\n",
    "#multi line col equality\n",
    "result = df.q('', verbosity=0)\n",
    "compare(result, df.loc[:, :])\n",
    "\n",
    "result = df.q('=ID', verbosity=0)\n",
    "compare(result, df.loc[:, ['ID']])\n",
    "\n",
    "result = df.q('=ID', '', verbosity=0)\n",
    "compare(result, df.loc[:, ['ID']])\n",
    "\n",
    "result = df.q('=', verbosity=0)\n",
    "compare(result, df.loc[:, []])\n",
    "\n",
    "result = df.q(\n",
    "    r\"\"\"\n",
    "    =ID\n",
    "    ID\n",
    "    \"\"\",\n",
    "    verbosity=0)\n",
    "compare(result, df.loc[:, ['ID']])\n",
    "\n",
    "result = df.q(\n",
    "    r\"\"\"\n",
    "    ID\n",
    "    age\n",
    "    \"\"\",\n",
    "    verbosity=0)\n",
    "compare(result, df.loc[:, ['age']])\n",
    "\n",
    "result = df.q(\n",
    "    r\"\"\"\n",
    "    ID\n",
    "    / age\n",
    "    \"\"\",\n",
    "    verbosity=0)\n",
    "compare(result, df.loc[:, ['ID', 'age']])\n",
    "\n",
    "\n",
    "\n",
    "#col contains\n",
    "result = df.q('()bp', verbosity=0)\n",
    "compare(result, df.loc[:, ['bp systole', 'bp diastole']])\n",
    "\n",
    "result = df.q('()I', verbosity=0)\n",
    "compare(result, df.loc[:, ['ID', 'date of birth', 'height', 'weight', 'bp diastole', 'diabetes']])\n",
    "\n",
    "result = df.q('(())I', verbosity=0)\n",
    "compare(result, df.loc[:, ['ID']])\n",
    "\n",
    "\n",
    "\n",
    "\n",
    "#col regex equality\n",
    "result = df.q('~~.', verbosity=0)\n",
    "compare(result, df.loc[:, []])\n",
    "\n",
    "result = df.q('~~..', verbosity=0)\n",
    "compare(result, df.loc[:, ['ID']])\n",
    "\n",
    "\n",
    "\n",
    "#col multiple conditions\n",
    "result = df.q('()bp / =diabetes', verbosity=0)\n",
    "compare(result, df.loc[:, ['bp systole', 'bp diastole', 'diabetes']])\n",
    "\n",
    "result = df.q('()bp / =diabetes / =cholesterol', verbosity=0)\n",
    "compare(result, df.loc[:, ['bp systole', 'bp diastole', 'cholesterol', 'diabetes']])\n",
    "\n",
    "result = df.q('()bp / =cholesterol / =diabetes', verbosity=0)\n",
    "compare(result, df.loc[:, ['bp systole', 'bp diastole', 'cholesterol', 'diabetes']])\n",
    "\n",
    "result = df.q('()bp & ()systole', verbosity=0)\n",
    "compare(result, df.loc[:, ['bp systole']])\n",
    "\n",
    "result = df.q('()bp & !()systole', verbosity=0)\n",
    "compare(result, df.loc[:, ['bp diastole']])\n",
    "\n",
    "result = df.q('()i & ~~..', verbosity=0)\n",
    "compare(result, df.loc[:, ['ID']])\n",
    "\n",
    "\n",
    "\n",
    "\n",
    "#row types\n",
    "result = df.q('name ´r is str', verbosity=0)\n",
    "compare(result, df.loc[:, ['name']])\n",
    "\n",
    "result = df.q('name ´r !is str', verbosity=0)\n",
    "compare(result, df.loc[[], ['name']])\n",
    "\n",
    "result = df.q('name ´r is num', verbosity=0)\n",
    "compare(result, df.loc[[], ['name']])\n",
    "\n",
    "result = df.q('name ´r !is num', verbosity=0)\n",
    "compare(result, df.loc[[0,1,2,3,4,5,6,7,8,9,10], ['name']])\n",
    "\n",
    "result = df.q('name ´r is na', verbosity=0)\n",
    "compare(result, df.loc[[], ['name']])\n",
    "\n",
    "result = df.q('name ´r !is na', verbosity=0)\n",
    "compare(result, df.loc[[0,1,2,3,4,5,6,7,8,9,10], ['name']])\n",
    "\n",
    "result = df.q('age ´r is na', verbosity=0)\n",
    "compare(result, df.loc[[2,3,6,8], ['age']])\n",
    "\n",
    "result = df.q('cholesterol ´r is na', verbosity=0)\n",
    "compare(result, df.loc[[2,4,7,9], ['cholesterol']])\n",
    "\n",
    "result = df.q('weight ´r is num', verbosity=0)\n",
    "compare(result, df.loc[[0,1,4,6,7,9,10], ['weight']])\n",
    "\n",
    "result = df.q('weight ´r is num & !is na', verbosity=0)\n",
    "compare(result, df.loc[[0,1,7,9,10], ['weight']])\n",
    "\n",
    "result = df.q('date of birth ´r !is date', verbosity=0)\n",
    "compare(result, df.loc[[7], ['date of birth']])\n",
    "\n",
    "result = df.q('diabetes ´r is yn', verbosity=0)\n",
    "compare(result, df.loc[[0,1,3,4,5,6,9,10], ['diabetes']])\n",
    "\n",
    "result = df.q('diabetes ´r is na / is yn', verbosity=0)\n",
    "compare(result, df.loc[:, ['diabetes']])\n",
    "\n",
    "result = df.q('diabetes ´r is yn', verbosity=0)\n",
    "compare(result, df.loc[[0,1,3,4,5,6,9,10], ['diabetes']])\n",
    "\n",
    "result = df.q('diabetes ´r is yes', verbosity=0)\n",
    "compare(result, df.loc[[1,4,5,10], ['diabetes']])\n",
    "\n",
    "result = df.q('diabetes ´r is no', verbosity=0)\n",
    "compare(result, df.loc[[0,3,6,9], ['diabetes']])\n",
    "\n",
    "\n",
    "\n",
    "#row regex equality\n",
    "result = df.q('ID ´r ~~1....', verbosity=0)\n",
    "compare(result, df.loc[[0,1,2], ['ID']])\n",
    "\n",
    "result = df.q('ID ´r !~~3....', verbosity=0)\n",
    "compare(result, df.loc[[0,1,2,3,4,5], ['ID']])\n",
    "\n",
    "#two words with first letter capitalized and separated by a space\n",
    "result = df.q('name ´r ~~\\\\b[A-Z][a-z]*\\\\s[A-Z][a-z]*\\\\b', verbosity=0)\n",
    "compare(result, df.loc[[0,1,2,3,7], ['name']])\n",
    "\n",
    "#all lowercase\n",
    "result = df.q('name ´r ~~^[^A-Z]*$', verbosity=0)\n",
    "compare(result, df.loc[[4], ['name']])\n",
    "\n",
    "#containing letters and numbers\n",
    "result = df.q('dose ´r ~~^(?=.*[a-zA-Z])(?=.*[0-9]).*$', verbosity=0)\n",
    "compare(result, df.loc[[0,2,3,4,5,8,10], ['dose']])\n",
    "\n",
    "\n",
    "#row regex search\n",
    "result = df.q('bp systole ´r ~m', verbosity=0)\n",
    "compare(result, df.loc[[4], ['bp systole']])\n",
    "\n",
    "result = df.q(r'bp systole ´r ~\\D', verbosity=0)\n",
    "compare(result, df.loc[[2,4,6], ['bp systole']])\n",
    "\n",
    "result = df.q('bp systole ´r ~\\d', verbosity=0)\n",
    "compare(result, df.loc[[0,1,3,4,5,7,9,10], ['bp systole']])\n",
    "\n",
    "\n",
    "\n",
    "#filter by multiple columns\n",
    "result = df.q('id / name  ´r ()j', verbosity=0)\n",
    "compare(result, df.loc[[0, 1, 2, 9, 10], ['ID', 'name']])\n",
    "\n",
    "result = df.q('id / name  ´r ()j / ()n', verbosity=0)\n",
    "compare(result, df.loc[[0, 1, 2, 3, 5, 8, 9, 10], ['ID', 'name']])\n",
    "\n",
    "result = df.q('id / name  ´r ()j & ()n', verbosity=0)\n",
    "compare(result, df.loc[[0, 1, 2, 10], ['ID', 'name']])\n",
    "\n",
    "result = df.q('height / weight  ´r is num', verbosity=0)\n",
    "compare(result, df.loc[[0, 1, 2, 3, 4, 5, 6, 7, 8, 9, 10], ['height', 'weight']])\n",
    "\n",
    "result = df.q('height / weight  ´r any is num', verbosity=0)\n",
    "compare(result, df.loc[[0, 1, 2, 3, 4, 5, 6, 7, 8, 9, 10], ['height', 'weight']])\n",
    "\n",
    "result = df.q('height / weight  ´r anyis num', verbosity=0)\n",
    "compare(result, df.loc[[0, 1, 2, 3, 4, 5, 6, 7, 8, 9, 10], ['height', 'weight']])\n",
    "\n",
    "result = df.q('height / weight  ´r all is num', verbosity=0)\n",
    "compare(result, df.loc[[0, 6, 9, 10], ['height', 'weight']])\n",
    "\n",
    "\n",
    "result = df.q(\n",
    "    r\"\"\"\n",
    "    height / weight ´m to num\n",
    "    height / weight  ´r all is num\n",
    "    \"\"\",\n",
    "    inplace=True, verbosity=0)\n",
    "compare(result, df.loc[[0, 1, 2, 3, 4, 5, 6, 7, 8, 9, 10], ['height', 'weight']])\n",
    "df = get_df()\n",
    "\n",
    "result = df.q(\n",
    "    r\"\"\"\n",
    "    height / weight\n",
    "        ´m to num\n",
    "        ´r all is num\n",
    "    \"\"\",\n",
    "    inplace=True, verbosity=0)\n",
    "compare(result, df.loc[[0, 1, 2, 3, 4, 5, 6, 7, 8, 9, 10], ['height', 'weight']])\n",
    "df = get_df()\n",
    "\n",
    "\n",
    "\n",
    "\n",
    "#custom python expression evaluation\n",
    "result = df.q('age ´r x? isinstance(x, int)', verbosity=0)\n",
    "compare(result, df.loc[[0, 10], ['age']])\n",
    "\n",
    "result = df.q(\n",
    "    r\"\"\"\n",
    "    age / height ´m to num\n",
    "    age ´r col? col < df[\"height\"]\n",
    "    \"\"\",\n",
    "    inplace=False, verbosity=0,\n",
    "    )\n",
    "compare(result, df.loc[[0, 10], ['age']])\n",
    "\n",
    "result = df.q(\n",
    "    r\"\"\"\n",
    "    age / height ´m to num\n",
    "    age ´r col? col == df[\"age\"].max()\n",
    "    age ´m to str\n",
    "    \"\"\",\n",
    "    inplace=False, verbosity=0,\n",
    "    )\n",
    "compare(result, df.loc[[4], ['age']])\n",
    "\n",
    "\n"
   ]
  },
  {
   "cell_type": "markdown",
   "metadata": {},
   "source": [
    "## complex filtering"
   ]
  },
  {
   "cell_type": "code",
   "execution_count": 27,
   "metadata": {},
   "outputs": [
    {
     "data": {
      "text/html": [
       "<style type=\"text/css\">\n",
       "#T_aee3e_row0_col0, #T_aee3e_row0_col1, #T_aee3e_row0_col2, #T_aee3e_row0_col3 {\n",
       "  background-color: #c0e7b0;\n",
       "}\n",
       "</style>\n",
       "<table id=\"T_aee3e\">\n",
       "  <thead>\n",
       "  </thead>\n",
       "  <tbody>\n",
       "    <tr>\n",
       "      <th id=\"T_aee3e_level0_row0\" class=\"row_heading level0 row0\" >8</th>\n",
       "      <td id=\"T_aee3e_row0_col0\" class=\"data row0 col0\" >df was checked. no problems found</td>\n",
       "      <td id=\"T_aee3e_row0_col1\" class=\"data row0 col1\" >qp.pd_util._check_df</td>\n",
       "      <td id=\"T_aee3e_row0_col2\" class=\"data row0 col2\" >info</td>\n",
       "      <td id=\"T_aee3e_row0_col3\" class=\"data row0 col3\" >2024-07-16 11:07:49.882064</td>\n",
       "    </tr>\n",
       "  </tbody>\n",
       "</table>\n"
      ],
      "text/plain": [
       "<pandas.io.formats.style.Styler at 0x2beba6113a0>"
      ]
     },
     "metadata": {},
     "output_type": "display_data"
    },
    {
     "name": "stdout",
     "output_type": "stream",
     "text": [
      "passed test for arg: \"\n",
      "    ID  ´r ~~1....\n",
      "    diabetes ´r is yes\n",
      "    \"\n",
      "passed test for arg: \"\n",
      "    ID  ´r ~~1....  ´n §1\n",
      "    diabetes ´r is yes & §1\n",
      "    ID / diabetes\n",
      "    \"\n",
      "passed test for arg: \"\n",
      "    ID  ´r ~~1.... / ~~2....  ´n §1\n",
      "    gender ´r =m / =male & §1\n",
      "    ID / gender\n",
      "    \"\n",
      "passed test for arg: \"\n",
      "    ID  ´r ~~1.... / ~~2....  ´n § 1\n",
      "    gender ´r =m / =male &§1\n",
      "    \"\n",
      "passed test for arg: \"\n",
      "    ID  ´r ~~1.... / ~~2....  ´n §1\n",
      "    gender ´r =m / =m / =male  / § 1\n",
      "    \"\n",
      "passed test for arg: \"\n",
      "    ID  ´r ~~1.... / ~~2....  ´n §1\n",
      "    gender ´r =f / =f / =female  / § 1\n",
      "    ID\n",
      "    \"\n",
      "passed test for arg: \"\n",
      "    gender ´r =f / =female  ´n § a\n",
      "    age ´r >30  & § a \n",
      "    \"\n",
      "passed test for arg: \"\n",
      "    age ´r >30  ´n § a\n",
      "    age ´r <18 /§a\n",
      "    \"\n",
      "passed test for arg: \"\n",
      "    age ´r >30 / <18\n",
      "    \"\n",
      "passed test for arg: \"\n",
      "    weight ´r <70 & >40  ´n § between 40 and 70\n",
      "    diabetes ´r is yes & §between 40 and 70   \n",
      "    \"\n",
      "passed test for arg: \"\n",
      "    weight ´r <70  ´n § <70\n",
      "    &weight ´r >40  ´n§>40\n",
      "    diabetes ´r is no & §<70 & § >40\n",
      "    weight / diabetes\n",
      "    \"\n"
     ]
    }
   ],
   "source": [
    "df = get_df()\n",
    "\n",
    "result = df.q(\n",
    "    r\"\"\"\n",
    "    ID  ´r ~~1....\n",
    "    diabetes ´r is yes\n",
    "    \"\"\",\n",
    "    verbosity=0)\n",
    "compare(result, df.loc[[1, 4, 5, 10], ['diabetes']])\n",
    "\n",
    "\n",
    "result = df.q(\n",
    "    r\"\"\"\n",
    "    ID  ´r ~~1....  ´n §1\n",
    "    diabetes ´r is yes & §1\n",
    "    ID / diabetes\n",
    "    \"\"\",\n",
    "    verbosity=0)\n",
    "compare(result, df.loc[[1], ['ID', 'diabetes']])\n",
    "\n",
    "\n",
    "result = df.q(\n",
    "    r\"\"\"\n",
    "    ID  ´r ~~1.... / ~~2....  ´n §1\n",
    "    gender ´r =m / =male & §1\n",
    "    ID / gender\n",
    "    \"\"\",\n",
    "    verbosity=0)\n",
    "compare(result, df.loc[[0,3,5], ['ID', 'gender']])\n",
    "\n",
    "\n",
    "result = df.q(\n",
    "    r\"\"\"\n",
    "    ID  ´r ~~1.... / ~~2....  ´n § 1\n",
    "    gender ´r =m / =male &§1\n",
    "    \"\"\",\n",
    "    verbosity=0)\n",
    "compare(result, df.loc[[0,3,5], ['gender']])\n",
    "\n",
    "\n",
    "result = df.q(\n",
    "    r\"\"\"\n",
    "    ID  ´r ~~1.... / ~~2....  ´n §1\n",
    "    gender ´r =m / =m / =male  / § 1\n",
    "    \"\"\",\n",
    "    verbosity=0)\n",
    "compare(result, df.loc[[0,1,2,3,4,5], ['gender']])\n",
    "\n",
    "\n",
    "result = df.q(\n",
    "    r\"\"\"\n",
    "    ID  ´r ~~1.... / ~~2....  ´n §1\n",
    "    gender ´r =f / =f / =female  / § 1\n",
    "    ID\n",
    "    \"\"\",\n",
    "    verbosity=0)\n",
    "compare(result, df.loc[[0,1,2,3,4,5,10], ['ID']])\n",
    "\n",
    "\n",
    "result = df.q(\n",
    "    r\"\"\"\n",
    "    gender ´r =f / =female  ´n § a\n",
    "    age ´r >30  & § a \n",
    "    \"\"\",\n",
    "    verbosity=0)\n",
    "compare(result, df.loc[[10], ['age']])\n",
    "\n",
    "\n",
    "\n",
    "result = df.q(\n",
    "    r\"\"\"\n",
    "    age ´r >30  ´n § a\n",
    "    age ´r <18 /§a\n",
    "    \"\"\",\n",
    "    verbosity=0)\n",
    "compare(result, df.loc[[0,4,10], ['age']])\n",
    "\n",
    "\n",
    "result = df.q(\n",
    "    r\"\"\"\n",
    "    age ´r >30 / <18\n",
    "    \"\"\",\n",
    "    verbosity=0)\n",
    "compare(result, df.loc[[0,4,10], ['age']])\n",
    "\n",
    "\n",
    "result = df.q(\n",
    "    r\"\"\"\n",
    "    weight ´r <70 & >40  ´n § between 40 and 70\n",
    "    diabetes ´r is yes & §between 40 and 70   \n",
    "    \"\"\",\n",
    "    verbosity=0)\n",
    "compare(result, df.loc[[1], ['diabetes']])\n",
    "\n",
    "result = df.q(\n",
    "    r\"\"\"\n",
    "    weight ´r <70  ´n § <70\n",
    "    &weight ´r >40  ´n§>40\n",
    "    diabetes ´r is no & §<70 & § >40\n",
    "    weight / diabetes\n",
    "    \"\"\",\n",
    "    verbosity=0)\n",
    "compare(result, df.loc[[], ['weight', 'diabetes']])\n",
    "\n",
    "\n",
    "\n"
   ]
  },
  {
   "cell_type": "markdown",
   "metadata": {},
   "source": [
    "## data modification"
   ]
  },
  {
   "cell_type": "code",
   "execution_count": 28,
   "metadata": {},
   "outputs": [
    {
     "data": {
      "text/html": [
       "<style type=\"text/css\">\n",
       "#T_42d46_row0_col0, #T_42d46_row0_col1, #T_42d46_row0_col2, #T_42d46_row0_col3 {\n",
       "  background-color: #c0e7b0;\n",
       "}\n",
       "</style>\n",
       "<table id=\"T_42d46\">\n",
       "  <thead>\n",
       "  </thead>\n",
       "  <tbody>\n",
       "    <tr>\n",
       "      <th id=\"T_42d46_level0_row0\" class=\"row_heading level0 row0\" >9</th>\n",
       "      <td id=\"T_42d46_row0_col0\" class=\"data row0 col0\" >df was checked. no problems found</td>\n",
       "      <td id=\"T_42d46_row0_col1\" class=\"data row0 col1\" >qp.pd_util._check_df</td>\n",
       "      <td id=\"T_42d46_row0_col2\" class=\"data row0 col2\" >info</td>\n",
       "      <td id=\"T_42d46_row0_col3\" class=\"data row0 col3\" >2024-07-16 11:07:50.103200</td>\n",
       "    </tr>\n",
       "  </tbody>\n",
       "</table>\n"
      ],
      "text/plain": [
       "<pandas.io.formats.style.Styler at 0x2bebb29e480>"
      ]
     },
     "metadata": {},
     "output_type": "display_data"
    },
    {
     "name": "stdout",
     "output_type": "stream",
     "text": [
      "passed test for arg: \"id ´m col= df[\"name\"]\"\n"
     ]
    },
    {
     "data": {
      "text/html": [
       "<style type=\"text/css\">\n",
       "#T_c9b13_row0_col0, #T_c9b13_row0_col1, #T_c9b13_row0_col2, #T_c9b13_row0_col3 {\n",
       "  background-color: #c0e7b0;\n",
       "}\n",
       "</style>\n",
       "<table id=\"T_c9b13\">\n",
       "  <thead>\n",
       "  </thead>\n",
       "  <tbody>\n",
       "    <tr>\n",
       "      <th id=\"T_c9b13_level0_row0\" class=\"row_heading level0 row0\" >10</th>\n",
       "      <td id=\"T_c9b13_row0_col0\" class=\"data row0 col0\" >df was checked. no problems found</td>\n",
       "      <td id=\"T_c9b13_row0_col1\" class=\"data row0 col1\" >qp.pd_util._check_df</td>\n",
       "      <td id=\"T_c9b13_row0_col2\" class=\"data row0 col2\" >info</td>\n",
       "      <td id=\"T_c9b13_row0_col3\" class=\"data row0 col3\" >2024-07-16 11:07:50.117847</td>\n",
       "    </tr>\n",
       "  </tbody>\n",
       "</table>\n"
      ],
      "text/plain": [
       "<pandas.io.formats.style.Styler at 0x2bebb3e8e30>"
      ]
     },
     "metadata": {},
     "output_type": "display_data"
    },
    {
     "name": "stdout",
     "output_type": "stream",
     "text": [
      "passed test for arg: \"\n",
      "    id ´m col= df[\"name\"]\n",
      "    is any ´r is any\n",
      "    \"\n"
     ]
    },
    {
     "data": {
      "text/html": [
       "<style type=\"text/css\">\n",
       "#T_f709c_row0_col0, #T_f709c_row0_col1, #T_f709c_row0_col2, #T_f709c_row0_col3 {\n",
       "  background-color: #c0e7b0;\n",
       "}\n",
       "</style>\n",
       "<table id=\"T_f709c\">\n",
       "  <thead>\n",
       "  </thead>\n",
       "  <tbody>\n",
       "    <tr>\n",
       "      <th id=\"T_f709c_level0_row0\" class=\"row_heading level0 row0\" >11</th>\n",
       "      <td id=\"T_f709c_row0_col0\" class=\"data row0 col0\" >df was checked. no problems found</td>\n",
       "      <td id=\"T_f709c_row0_col1\" class=\"data row0 col1\" >qp.pd_util._check_df</td>\n",
       "      <td id=\"T_f709c_row0_col2\" class=\"data row0 col2\" >info</td>\n",
       "      <td id=\"T_f709c_row0_col3\" class=\"data row0 col3\" >2024-07-16 11:07:50.140603</td>\n",
       "    </tr>\n",
       "  </tbody>\n",
       "</table>\n"
      ],
      "text/plain": [
       "<pandas.io.formats.style.Styler at 0x2bebb405ee0>"
      ]
     },
     "metadata": {},
     "output_type": "display_data"
    },
    {
     "name": "stdout",
     "output_type": "stream",
     "text": [
      "passed test for arg: \"id // age ´m col= df[\"name\"]\"\n"
     ]
    },
    {
     "data": {
      "text/html": [
       "<style type=\"text/css\">\n",
       "#T_6dfc3_row0_col0, #T_6dfc3_row0_col1, #T_6dfc3_row0_col2, #T_6dfc3_row0_col3 {\n",
       "  background-color: #c0e7b0;\n",
       "}\n",
       "</style>\n",
       "<table id=\"T_6dfc3\">\n",
       "  <thead>\n",
       "  </thead>\n",
       "  <tbody>\n",
       "    <tr>\n",
       "      <th id=\"T_6dfc3_level0_row0\" class=\"row_heading level0 row0\" >12</th>\n",
       "      <td id=\"T_6dfc3_row0_col0\" class=\"data row0 col0\" >df was checked. no problems found</td>\n",
       "      <td id=\"T_6dfc3_row0_col1\" class=\"data row0 col1\" >qp.pd_util._check_df</td>\n",
       "      <td id=\"T_6dfc3_row0_col2\" class=\"data row0 col2\" >info</td>\n",
       "      <td id=\"T_6dfc3_row0_col3\" class=\"data row0 col3\" >2024-07-16 11:07:50.160045</td>\n",
       "    </tr>\n",
       "  </tbody>\n",
       "</table>\n"
      ],
      "text/plain": [
       "<pandas.io.formats.style.Styler at 0x2bebb2d0350>"
      ]
     },
     "metadata": {},
     "output_type": "display_data"
    },
    {
     "name": "stdout",
     "output_type": "stream",
     "text": [
      "passed test for arg: \"´m col= df[\"name\"]\"\n"
     ]
    },
    {
     "data": {
      "text/html": [
       "<style type=\"text/css\">\n",
       "#T_d33f4_row0_col0, #T_d33f4_row0_col1, #T_d33f4_row0_col2, #T_d33f4_row0_col3 {\n",
       "  background-color: #c0e7b0;\n",
       "}\n",
       "</style>\n",
       "<table id=\"T_d33f4\">\n",
       "  <thead>\n",
       "  </thead>\n",
       "  <tbody>\n",
       "    <tr>\n",
       "      <th id=\"T_d33f4_level0_row0\" class=\"row_heading level0 row0\" >13</th>\n",
       "      <td id=\"T_d33f4_row0_col0\" class=\"data row0 col0\" >df was checked. no problems found</td>\n",
       "      <td id=\"T_d33f4_row0_col1\" class=\"data row0 col1\" >qp.pd_util._check_df</td>\n",
       "      <td id=\"T_d33f4_row0_col2\" class=\"data row0 col2\" >info</td>\n",
       "      <td id=\"T_d33f4_row0_col3\" class=\"data row0 col3\" >2024-07-16 11:07:50.181182</td>\n",
       "    </tr>\n",
       "  </tbody>\n",
       "</table>\n"
      ],
      "text/plain": [
       "<pandas.io.formats.style.Styler at 0x2bebb407aa0>"
      ]
     },
     "metadata": {},
     "output_type": "display_data"
    },
    {
     "name": "stdout",
     "output_type": "stream",
     "text": [
      "passed test for arg: \"\n",
      "    name ´m x= x.lower()\n",
      "    is any ´r is any\n",
      "    \"\n"
     ]
    },
    {
     "data": {
      "text/html": [
       "<style type=\"text/css\">\n",
       "#T_a3f3e_row0_col0, #T_a3f3e_row0_col1, #T_a3f3e_row0_col2, #T_a3f3e_row0_col3 {\n",
       "  background-color: #c0e7b0;\n",
       "}\n",
       "</style>\n",
       "<table id=\"T_a3f3e\">\n",
       "  <thead>\n",
       "  </thead>\n",
       "  <tbody>\n",
       "    <tr>\n",
       "      <th id=\"T_a3f3e_level0_row0\" class=\"row_heading level0 row0\" >14</th>\n",
       "      <td id=\"T_a3f3e_row0_col0\" class=\"data row0 col0\" >df was checked. no problems found</td>\n",
       "      <td id=\"T_a3f3e_row0_col1\" class=\"data row0 col1\" >qp.pd_util._check_df</td>\n",
       "      <td id=\"T_a3f3e_row0_col2\" class=\"data row0 col2\" >info</td>\n",
       "      <td id=\"T_a3f3e_row0_col3\" class=\"data row0 col3\" >2024-07-16 11:07:50.207725</td>\n",
       "    </tr>\n",
       "  </tbody>\n",
       "</table>\n"
      ],
      "text/plain": [
       "<pandas.io.formats.style.Styler at 0x2bebb3ea630>"
      ]
     },
     "metadata": {},
     "output_type": "display_data"
    },
    {
     "name": "stdout",
     "output_type": "stream",
     "text": [
      "passed test for arg: \"\n",
      "    name  ´r !x? x == x.lower()  ´m x= x.lower()\n",
      "    is any ´r is any\n",
      "    \"\n"
     ]
    },
    {
     "data": {
      "text/html": [
       "<style type=\"text/css\">\n",
       "#T_f7b2f_row0_col0, #T_f7b2f_row0_col1, #T_f7b2f_row0_col2, #T_f7b2f_row0_col3 {\n",
       "  background-color: #c0e7b0;\n",
       "}\n",
       "</style>\n",
       "<table id=\"T_f7b2f\">\n",
       "  <thead>\n",
       "  </thead>\n",
       "  <tbody>\n",
       "    <tr>\n",
       "      <th id=\"T_f7b2f_level0_row0\" class=\"row_heading level0 row0\" >15</th>\n",
       "      <td id=\"T_f7b2f_row0_col0\" class=\"data row0 col0\" >df was checked. no problems found</td>\n",
       "      <td id=\"T_f7b2f_row0_col1\" class=\"data row0 col1\" >qp.pd_util._check_df</td>\n",
       "      <td id=\"T_f7b2f_row0_col2\" class=\"data row0 col2\" >info</td>\n",
       "      <td id=\"T_f7b2f_row0_col3\" class=\"data row0 col3\" >2024-07-16 11:07:50.228168</td>\n",
       "    </tr>\n",
       "  </tbody>\n",
       "</table>\n"
      ],
      "text/plain": [
       "<pandas.io.formats.style.Styler at 0x2bebb42ae40>"
      ]
     },
     "metadata": {},
     "output_type": "display_data"
    },
    {
     "name": "stdout",
     "output_type": "stream",
     "text": [
      "passed test for arg: \"\n",
      "    a ´r >0\n",
      "    b ´m x= x+1\n",
      "    \"\n",
      "passed test for arg: \"\n",
      "    a ´r >0\n",
      "    b ´m x= x - 2\n",
      "    \"\n",
      "passed test for arg: \"b  ´m x=x*2\"\n",
      "passed test for arg: \"\n",
      "    a ´r =0\n",
      "    b ´m x= x`/2\n",
      "    \"\n"
     ]
    }
   ],
   "source": [
    "#set columns\n",
    "\n",
    "df = get_df()\n",
    "df1 = get_df()\n",
    "result = df.q('id ´m col= df[\"name\"]', verbosity=0)\n",
    "df1['ID'] = df1['name']\n",
    "compare(result, df1.loc[:, ['ID']])\n",
    "\n",
    "\n",
    "df = get_df()\n",
    "df1 = get_df()\n",
    "result = df.q(\n",
    "    r\"\"\"\n",
    "    id ´m col= df[\"name\"]\n",
    "    is any ´r is any\n",
    "    \"\"\",\n",
    "    verbosity=0)\n",
    "df1['ID'] = df1['name']\n",
    "compare(result, df1.loc[:, :])\n",
    "\n",
    "\n",
    "df = get_df()\n",
    "df1 = get_df()\n",
    "result = df.q('id // age ´m col= df[\"name\"]' ,verbosity=0)\n",
    "df1['ID'] = df1['name']\n",
    "df1['age'] = df1['name']\n",
    "compare(result, df1.loc[:, ['ID', 'age']])\n",
    "\n",
    "df = get_df()\n",
    "df1 = get_df()\n",
    "result = df.q('´m col= df[\"name\"]', verbosity=0)\n",
    "for col in df1.columns:\n",
    "    df1[col] = df1['name']\n",
    "compare(result, df1)\n",
    "\n",
    "\n",
    "\n",
    "#set values\n",
    "\n",
    "df = get_df()\n",
    "df1 = get_df()\n",
    "result = df.q(\n",
    "    r\"\"\"\n",
    "    name ´m x= x.lower()\n",
    "    is any ´r is any\n",
    "    \"\"\",\n",
    "    verbosity=0)\n",
    "df1['name'] = df1['name'].str.lower()\n",
    "compare(result, df1.loc[:, :])\n",
    "\n",
    "df = get_df()\n",
    "df1 = get_df()\n",
    "result = df.q(\n",
    "    r\"\"\"\n",
    "    name  ´r !x? x == x.lower()  ´m x= x.lower()\n",
    "    is any ´r is any\n",
    "    \"\"\",\n",
    "    verbosity=0)\n",
    "df1['name'] = df1['name'].str.lower()\n",
    "compare(result, df1.loc[:, :])\n",
    "\n",
    "\n",
    "\n",
    "df = get_df_simple_tagged()\n",
    "df1 = get_df_simple_tagged()\n",
    "df.q(\n",
    "    r\"\"\"\n",
    "    a ´r >0\n",
    "    b ´m x= x+1\n",
    "    \"\"\",\n",
    "    inplace=True, verbosity=0,\n",
    "    )\n",
    "df1['b'] = [ 1, 2, 4]\n",
    "compare(df, df1)\n",
    "\n",
    "\n",
    "df.q(\n",
    "    r\"\"\"\n",
    "    a ´r >0\n",
    "    b ´m x= x - 2\n",
    "    \"\"\",\n",
    "    inplace=True, verbosity=0,\n",
    "    )\n",
    "df1['b'] = [ 1, 2, 2]\n",
    "compare(df, df1)\n",
    "\n",
    "\n",
    "df.q('b  ´m x=x*2', inplace=True, verbosity=0)\n",
    "df1['b'] = [ 2, 4, 4]\n",
    "compare(df, df1)\n",
    "\n",
    "\n",
    "df.q(\n",
    "    r\"\"\"\n",
    "    a ´r =0\n",
    "    b ´m x= x`/2\n",
    "    \"\"\",\n",
    "    inplace=True, verbosity=0,\n",
    "    )\n",
    "df1['b'] = [ 2, 2, 4]\n",
    "compare(df, df1)\n"
   ]
  },
  {
   "cell_type": "markdown",
   "metadata": {},
   "source": [
    "## metadata modification"
   ]
  },
  {
   "cell_type": "code",
   "execution_count": 29,
   "metadata": {},
   "outputs": [
    {
     "data": {
      "text/html": [
       "<style type=\"text/css\">\n",
       "#T_f53f5_row0_col0, #T_f53f5_row0_col1, #T_f53f5_row0_col2, #T_f53f5_row0_col3 {\n",
       "  background-color: #c0e7b0;\n",
       "}\n",
       "</style>\n",
       "<table id=\"T_f53f5\">\n",
       "  <thead>\n",
       "  </thead>\n",
       "  <tbody>\n",
       "    <tr>\n",
       "      <th id=\"T_f53f5_level0_row0\" class=\"row_heading level0 row0\" >16</th>\n",
       "      <td id=\"T_f53f5_row0_col0\" class=\"data row0 col0\" >df was checked. no problems found</td>\n",
       "      <td id=\"T_f53f5_row0_col1\" class=\"data row0 col1\" >qp.pd_util._check_df</td>\n",
       "      <td id=\"T_f53f5_row0_col2\" class=\"data row0 col2\" >info</td>\n",
       "      <td id=\"T_f53f5_row0_col3\" class=\"data row0 col3\" >2024-07-16 11:07:50.285137</td>\n",
       "    </tr>\n",
       "  </tbody>\n",
       "</table>\n"
      ],
      "text/plain": [
       "<pandas.io.formats.style.Styler at 0x2bebb42bb60>"
      ]
     },
     "metadata": {},
     "output_type": "display_data"
    },
    {
     "name": "stdout",
     "output_type": "stream",
     "text": [
      "passed test for arg: \"a ´r >0  ´n meta   ´m += >0\"\n"
     ]
    },
    {
     "data": {
      "text/html": [
       "<style type=\"text/css\">\n",
       "#T_27386_row0_col0, #T_27386_row0_col1, #T_27386_row0_col2, #T_27386_row0_col3 {\n",
       "  background-color: #c0e7b0;\n",
       "}\n",
       "</style>\n",
       "<table id=\"T_27386\">\n",
       "  <thead>\n",
       "  </thead>\n",
       "  <tbody>\n",
       "    <tr>\n",
       "      <th id=\"T_27386_level0_row0\" class=\"row_heading level0 row0\" >17</th>\n",
       "      <td id=\"T_27386_row0_col0\" class=\"data row0 col0\" >df was checked. no problems found</td>\n",
       "      <td id=\"T_27386_row0_col1\" class=\"data row0 col1\" >qp.pd_util._check_df</td>\n",
       "      <td id=\"T_27386_row0_col2\" class=\"data row0 col2\" >info</td>\n",
       "      <td id=\"T_27386_row0_col3\" class=\"data row0 col3\" >2024-07-16 11:07:50.302497</td>\n",
       "    </tr>\n",
       "  </tbody>\n",
       "</table>\n"
      ],
      "text/plain": [
       "<pandas.io.formats.style.Styler at 0x2bebb42b800>"
      ]
     },
     "metadata": {},
     "output_type": "display_data"
    },
    {
     "name": "stdout",
     "output_type": "stream",
     "text": [
      "passed test for arg: \"=a   ´r >0   ´n meta   ´m x= x + \">0\"\"\n"
     ]
    },
    {
     "data": {
      "text/html": [
       "<style type=\"text/css\">\n",
       "#T_72398_row0_col0, #T_72398_row0_col1, #T_72398_row0_col2, #T_72398_row0_col3 {\n",
       "  background-color: #c0e7b0;\n",
       "}\n",
       "</style>\n",
       "<table id=\"T_72398\">\n",
       "  <thead>\n",
       "  </thead>\n",
       "  <tbody>\n",
       "    <tr>\n",
       "      <th id=\"T_72398_level0_row0\" class=\"row_heading level0 row0\" >18</th>\n",
       "      <td id=\"T_72398_row0_col0\" class=\"data row0 col0\" >df was checked. no problems found</td>\n",
       "      <td id=\"T_72398_row0_col1\" class=\"data row0 col1\" >qp.pd_util._check_df</td>\n",
       "      <td id=\"T_72398_row0_col2\" class=\"data row0 col2\" >info</td>\n",
       "      <td id=\"T_72398_row0_col3\" class=\"data row0 col3\" >2024-07-16 11:07:50.320844</td>\n",
       "    </tr>\n",
       "  </tbody>\n",
       "</table>\n"
      ],
      "text/plain": [
       "<pandas.io.formats.style.Styler at 0x2bebb42bb90>"
      ]
     },
     "metadata": {},
     "output_type": "display_data"
    },
    {
     "name": "stdout",
     "output_type": "stream",
     "text": [
      "passed test for arg: \"=a   ´r >0   ´n  meta ´m +=>0\"\n"
     ]
    },
    {
     "data": {
      "text/html": [
       "<style type=\"text/css\">\n",
       "#T_d3ef9_row0_col0, #T_d3ef9_row0_col1, #T_d3ef9_row0_col2, #T_d3ef9_row0_col3 {\n",
       "  background-color: #c0e7b0;\n",
       "}\n",
       "</style>\n",
       "<table id=\"T_d3ef9\">\n",
       "  <thead>\n",
       "  </thead>\n",
       "  <tbody>\n",
       "    <tr>\n",
       "      <th id=\"T_d3ef9_level0_row0\" class=\"row_heading level0 row0\" >19</th>\n",
       "      <td id=\"T_d3ef9_row0_col0\" class=\"data row0 col0\" >df was checked. no problems found</td>\n",
       "      <td id=\"T_d3ef9_row0_col1\" class=\"data row0 col1\" >qp.pd_util._check_df</td>\n",
       "      <td id=\"T_d3ef9_row0_col2\" class=\"data row0 col2\" >info</td>\n",
       "      <td id=\"T_d3ef9_row0_col3\" class=\"data row0 col3\" >2024-07-16 11:07:50.333648</td>\n",
       "    </tr>\n",
       "  </tbody>\n",
       "</table>\n"
      ],
      "text/plain": [
       "<pandas.io.formats.style.Styler at 0x2bebb42b620>"
      ]
     },
     "metadata": {},
     "output_type": "display_data"
    },
    {
     "name": "stdout",
     "output_type": "stream",
     "text": [
      "passed test for arg: \"=a´r >0     ´n meta   ´m += >0\"\n"
     ]
    },
    {
     "data": {
      "text/html": [
       "<style type=\"text/css\">\n",
       "#T_3b862_row0_col0, #T_3b862_row0_col1, #T_3b862_row0_col2, #T_3b862_row0_col3 {\n",
       "  background-color: #c0e7b0;\n",
       "}\n",
       "</style>\n",
       "<table id=\"T_3b862\">\n",
       "  <thead>\n",
       "  </thead>\n",
       "  <tbody>\n",
       "    <tr>\n",
       "      <th id=\"T_3b862_level0_row0\" class=\"row_heading level0 row0\" >20</th>\n",
       "      <td id=\"T_3b862_row0_col0\" class=\"data row0 col0\" >df was checked. no problems found</td>\n",
       "      <td id=\"T_3b862_row0_col1\" class=\"data row0 col1\" >qp.pd_util._check_df</td>\n",
       "      <td id=\"T_3b862_row0_col2\" class=\"data row0 col2\" >info</td>\n",
       "      <td id=\"T_3b862_row0_col3\" class=\"data row0 col3\" >2024-07-16 11:07:50.350670</td>\n",
       "    </tr>\n",
       "  </tbody>\n",
       "</table>\n"
      ],
      "text/plain": [
       "<pandas.io.formats.style.Styler at 0x2bebb42d6d0>"
      ]
     },
     "metadata": {},
     "output_type": "display_data"
    },
    {
     "name": "stdout",
     "output_type": "stream",
     "text": [
      "passed test for arg: \"=a  ´r >0   ´n meta   ´m += >0\"\n",
      "passed test for arg: \"=a   ´r >0  ´n meta   ´m += >0\"\n",
      "passed test for arg: \"=a   ´r ==0    ´n meta   ´m += 0\"\n",
      "passed test for arg: \"a   ´r ==0    ´n meta  ´m x= x.replace(\"0\", \"\")\"\n",
      "passed test for arg: \"=a   ´r >0    ´n meta  ´m x= x.replace(\"0\", \"\")\"\n",
      "passed test for arg: \"=a     ´n meta   ´m =\"\n"
     ]
    }
   ],
   "source": [
    "\n",
    "#syntax\n",
    "df = get_df_simple_tagged()\n",
    "df1 = get_df_simple_tagged()\n",
    "df.q('a ´r >0  ´n meta   ´m += >0', inplace=True, verbosity=0)\n",
    "df1['meta'] = ['', '', '>0']\n",
    "compare(df, df1)\n",
    "\n",
    "df = get_df_simple_tagged()\n",
    "df1 = get_df_simple_tagged()\n",
    "df.q('=a   ´r >0   ´n meta   ´m x= x + \">0\"', inplace=True, verbosity=0)\n",
    "df1['meta'] = [ '', '', '>0']\n",
    "compare(df, df1)\n",
    "\n",
    "df = get_df_simple_tagged()\n",
    "df1 = get_df_simple_tagged()\n",
    "df.q('=a   ´r >0   ´n  meta ´m +=>0', inplace=True, verbosity=0)\n",
    "df1['meta'] = [ '', '', '>0']\n",
    "compare(df, df1)\n",
    "\n",
    "df = get_df_simple_tagged()\n",
    "df1 = get_df_simple_tagged()\n",
    "df.q('=a´r >0     ´n meta   ´m += >0', inplace=True, verbosity=0)\n",
    "df1['meta'] = [ '', '', '>0']\n",
    "compare(df, df1)\n",
    "\n",
    "\n",
    "\n",
    "#continous\n",
    "df = get_df_simple_tagged()\n",
    "df1 = get_df_simple_tagged()\n",
    "\n",
    "\n",
    "df.q('=a  ´r >0   ´n meta   ´m += >0', inplace=True, verbosity=0)\n",
    "df1['meta'] = [ '', '', '>0']\n",
    "compare(df, df1)\n",
    "\n",
    "\n",
    "df.q('=a   ´r >0  ´n meta   ´m += >0', inplace=True, verbosity=0)\n",
    "df1['meta'] = [ '', '', '>0>0']\n",
    "compare(df, df1)\n",
    "\n",
    "\n",
    "df.q('=a   ´r ==0    ´n meta   ´m += 0', inplace=True, verbosity=0)\n",
    "df1['meta'] = [ '', '0', '>0>0']\n",
    "compare(df, df1)\n",
    "\n",
    "\n",
    "df.q('a   ´r ==0    ´n meta  ´m x= x.replace(\"0\", \"\")', inplace=True, verbosity=0)\n",
    "df1['meta'] = [ '', '', '>0>0']\n",
    "compare(df, df1)\n",
    "\n",
    "\n",
    "df.q('=a   ´r >0    ´n meta  ´m x= x.replace(\"0\", \"\")', inplace=True, verbosity=0)\n",
    "df1['meta'] = [ '', '', '>>']\n",
    "compare(df, df1)\n",
    "\n",
    "\n",
    "df.q('=a     ´n meta   ´m =', inplace=True, verbosity=0)\n",
    "df1['meta'] = [ '', '', '']\n",
    "compare(df, df1)\n",
    "\n",
    "\n",
    "\n"
   ]
  },
  {
   "cell_type": "markdown",
   "metadata": {},
   "source": [
    "## type conversion"
   ]
  },
  {
   "cell_type": "code",
   "execution_count": 30,
   "metadata": {},
   "outputs": [
    {
     "data": {
      "text/html": [
       "<style type=\"text/css\">\n",
       "#T_d1212_row0_col0, #T_d1212_row0_col1, #T_d1212_row0_col2, #T_d1212_row0_col3 {\n",
       "  background-color: #c0e7b0;\n",
       "}\n",
       "</style>\n",
       "<table id=\"T_d1212\">\n",
       "  <thead>\n",
       "  </thead>\n",
       "  <tbody>\n",
       "    <tr>\n",
       "      <th id=\"T_d1212_level0_row0\" class=\"row_heading level0 row0\" >21</th>\n",
       "      <td id=\"T_d1212_row0_col0\" class=\"data row0 col0\" >df was checked. no problems found</td>\n",
       "      <td id=\"T_d1212_row0_col1\" class=\"data row0 col1\" >qp.pd_util._check_df</td>\n",
       "      <td id=\"T_d1212_row0_col2\" class=\"data row0 col2\" >info</td>\n",
       "      <td id=\"T_d1212_row0_col3\" class=\"data row0 col3\" >2024-07-16 11:07:50.432591</td>\n",
       "    </tr>\n",
       "  </tbody>\n",
       "</table>\n"
      ],
      "text/plain": [
       "<pandas.io.formats.style.Styler at 0x2bebb42a630>"
      ]
     },
     "metadata": {},
     "output_type": "display_data"
    },
    {
     "name": "stdout",
     "output_type": "stream",
     "text": [
      "passed test for arg: \"age ´m to int\"\n"
     ]
    },
    {
     "data": {
      "text/html": [
       "<style type=\"text/css\">\n",
       "#T_7102b_row0_col0, #T_7102b_row0_col1, #T_7102b_row0_col2, #T_7102b_row0_col3 {\n",
       "  background-color: #c0e7b0;\n",
       "}\n",
       "</style>\n",
       "<table id=\"T_7102b\">\n",
       "  <thead>\n",
       "  </thead>\n",
       "  <tbody>\n",
       "    <tr>\n",
       "      <th id=\"T_7102b_level0_row0\" class=\"row_heading level0 row0\" >22</th>\n",
       "      <td id=\"T_7102b_row0_col0\" class=\"data row0 col0\" >df was checked. no problems found</td>\n",
       "      <td id=\"T_7102b_row0_col1\" class=\"data row0 col1\" >qp.pd_util._check_df</td>\n",
       "      <td id=\"T_7102b_row0_col2\" class=\"data row0 col2\" >info</td>\n",
       "      <td id=\"T_7102b_row0_col3\" class=\"data row0 col3\" >2024-07-16 11:07:50.467868</td>\n",
       "    </tr>\n",
       "  </tbody>\n",
       "</table>\n"
      ],
      "text/plain": [
       "<pandas.io.formats.style.Styler at 0x2beba613020>"
      ]
     },
     "metadata": {},
     "output_type": "display_data"
    },
    {
     "name": "stdout",
     "output_type": "stream",
     "text": [
      "passed test for arg: \"=age  ´m to float\"\n"
     ]
    },
    {
     "data": {
      "text/html": [
       "<style type=\"text/css\">\n",
       "#T_59ce1_row0_col0, #T_59ce1_row0_col1, #T_59ce1_row0_col2, #T_59ce1_row0_col3 {\n",
       "  background-color: #c0e7b0;\n",
       "}\n",
       "</style>\n",
       "<table id=\"T_59ce1\">\n",
       "  <thead>\n",
       "  </thead>\n",
       "  <tbody>\n",
       "    <tr>\n",
       "      <th id=\"T_59ce1_level0_row0\" class=\"row_heading level0 row0\" >23</th>\n",
       "      <td id=\"T_59ce1_row0_col0\" class=\"data row0 col0\" >df was checked. no problems found</td>\n",
       "      <td id=\"T_59ce1_row0_col1\" class=\"data row0 col1\" >qp.pd_util._check_df</td>\n",
       "      <td id=\"T_59ce1_row0_col2\" class=\"data row0 col2\" >info</td>\n",
       "      <td id=\"T_59ce1_row0_col3\" class=\"data row0 col3\" >2024-07-16 11:07:50.515101</td>\n",
       "    </tr>\n",
       "  </tbody>\n",
       "</table>\n"
      ],
      "text/plain": [
       "<pandas.io.formats.style.Styler at 0x2beba606db0>"
      ]
     },
     "metadata": {},
     "output_type": "display_data"
    },
    {
     "name": "stdout",
     "output_type": "stream",
     "text": [
      "passed test for arg: \"=age   ´m to num\"\n"
     ]
    },
    {
     "data": {
      "text/html": [
       "<style type=\"text/css\">\n",
       "#T_46cac_row0_col0, #T_46cac_row0_col1, #T_46cac_row0_col2, #T_46cac_row0_col3 {\n",
       "  background-color: #c0e7b0;\n",
       "}\n",
       "</style>\n",
       "<table id=\"T_46cac\">\n",
       "  <thead>\n",
       "  </thead>\n",
       "  <tbody>\n",
       "    <tr>\n",
       "      <th id=\"T_46cac_level0_row0\" class=\"row_heading level0 row0\" >24</th>\n",
       "      <td id=\"T_46cac_row0_col0\" class=\"data row0 col0\" >df was checked. no problems found</td>\n",
       "      <td id=\"T_46cac_row0_col1\" class=\"data row0 col1\" >qp.pd_util._check_df</td>\n",
       "      <td id=\"T_46cac_row0_col2\" class=\"data row0 col2\" >info</td>\n",
       "      <td id=\"T_46cac_row0_col3\" class=\"data row0 col3\" >2024-07-16 11:07:50.538097</td>\n",
       "    </tr>\n",
       "  </tbody>\n",
       "</table>\n"
      ],
      "text/plain": [
       "<pandas.io.formats.style.Styler at 0x2bebb42a5a0>"
      ]
     },
     "metadata": {},
     "output_type": "display_data"
    },
    {
     "name": "stdout",
     "output_type": "stream",
     "text": [
      "passed test for arg: \"=age   ´m to str\"\n"
     ]
    },
    {
     "data": {
      "text/html": [
       "<style type=\"text/css\">\n",
       "#T_170db_row0_col0, #T_170db_row0_col1, #T_170db_row0_col2, #T_170db_row0_col3 {\n",
       "  background-color: #c0e7b0;\n",
       "}\n",
       "</style>\n",
       "<table id=\"T_170db\">\n",
       "  <thead>\n",
       "  </thead>\n",
       "  <tbody>\n",
       "    <tr>\n",
       "      <th id=\"T_170db_level0_row0\" class=\"row_heading level0 row0\" >25</th>\n",
       "      <td id=\"T_170db_row0_col0\" class=\"data row0 col0\" >df was checked. no problems found</td>\n",
       "      <td id=\"T_170db_row0_col1\" class=\"data row0 col1\" >qp.pd_util._check_df</td>\n",
       "      <td id=\"T_170db_row0_col2\" class=\"data row0 col2\" >info</td>\n",
       "      <td id=\"T_170db_row0_col3\" class=\"data row0 col3\" >2024-07-16 11:07:50.578754</td>\n",
       "    </tr>\n",
       "  </tbody>\n",
       "</table>\n"
      ],
      "text/plain": [
       "<pandas.io.formats.style.Styler at 0x2bebb42a210>"
      ]
     },
     "metadata": {},
     "output_type": "display_data"
    },
    {
     "name": "stdout",
     "output_type": "stream",
     "text": [
      "passed test for arg: \"date of birth   ´m to date\"\n"
     ]
    },
    {
     "name": "stderr",
     "output_type": "stream",
     "text": [
      "c:\\Users\\MartinVölkl-GouyaIns\\OneDrive - Gouya Insights\\Desktop\\qplib_dev\\qplib\\types.py:97: UserWarning: Parsing dates in %m-%d-%Y format when dayfirst=True was specified. Pass `dayfirst=False` or specify a format to silence this warning.\n",
      "  return pd.to_datetime(x, dayfirst=True).date()\n"
     ]
    },
    {
     "data": {
      "text/html": [
       "<style type=\"text/css\">\n",
       "#T_03a75_row0_col0, #T_03a75_row0_col1, #T_03a75_row0_col2, #T_03a75_row0_col3 {\n",
       "  background-color: #c0e7b0;\n",
       "}\n",
       "</style>\n",
       "<table id=\"T_03a75\">\n",
       "  <thead>\n",
       "  </thead>\n",
       "  <tbody>\n",
       "    <tr>\n",
       "      <th id=\"T_03a75_level0_row0\" class=\"row_heading level0 row0\" >26</th>\n",
       "      <td id=\"T_03a75_row0_col0\" class=\"data row0 col0\" >df was checked. no problems found</td>\n",
       "      <td id=\"T_03a75_row0_col1\" class=\"data row0 col1\" >qp.pd_util._check_df</td>\n",
       "      <td id=\"T_03a75_row0_col2\" class=\"data row0 col2\" >info</td>\n",
       "      <td id=\"T_03a75_row0_col3\" class=\"data row0 col3\" >2024-07-16 11:07:50.633587</td>\n",
       "    </tr>\n",
       "  </tbody>\n",
       "</table>\n"
      ],
      "text/plain": [
       "<pandas.io.formats.style.Styler at 0x2bebb42aff0>"
      ]
     },
     "metadata": {},
     "output_type": "display_data"
    },
    {
     "name": "stdout",
     "output_type": "stream",
     "text": [
      "passed test for arg: \"=age   ´m to na\"\n"
     ]
    },
    {
     "data": {
      "text/html": [
       "<style type=\"text/css\">\n",
       "#T_67575_row0_col0, #T_67575_row0_col1, #T_67575_row0_col2, #T_67575_row0_col3 {\n",
       "  background-color: #c0e7b0;\n",
       "}\n",
       "</style>\n",
       "<table id=\"T_67575\">\n",
       "  <thead>\n",
       "  </thead>\n",
       "  <tbody>\n",
       "    <tr>\n",
       "      <th id=\"T_67575_level0_row0\" class=\"row_heading level0 row0\" >27</th>\n",
       "      <td id=\"T_67575_row0_col0\" class=\"data row0 col0\" >df was checked. no problems found</td>\n",
       "      <td id=\"T_67575_row0_col1\" class=\"data row0 col1\" >qp.pd_util._check_df</td>\n",
       "      <td id=\"T_67575_row0_col2\" class=\"data row0 col2\" >info</td>\n",
       "      <td id=\"T_67575_row0_col3\" class=\"data row0 col3\" >2024-07-16 11:07:50.651877</td>\n",
       "    </tr>\n",
       "  </tbody>\n",
       "</table>\n"
      ],
      "text/plain": [
       "<pandas.io.formats.style.Styler at 0x2bebb42b9e0>"
      ]
     },
     "metadata": {},
     "output_type": "display_data"
    },
    {
     "name": "stdout",
     "output_type": "stream",
     "text": [
      "passed test for arg: \"=age   ´m to nk\"\n"
     ]
    },
    {
     "data": {
      "text/html": [
       "<style type=\"text/css\">\n",
       "#T_5df63_row0_col0, #T_5df63_row0_col1, #T_5df63_row0_col2, #T_5df63_row0_col3 {\n",
       "  background-color: #c0e7b0;\n",
       "}\n",
       "</style>\n",
       "<table id=\"T_5df63\">\n",
       "  <thead>\n",
       "  </thead>\n",
       "  <tbody>\n",
       "    <tr>\n",
       "      <th id=\"T_5df63_level0_row0\" class=\"row_heading level0 row0\" >28</th>\n",
       "      <td id=\"T_5df63_row0_col0\" class=\"data row0 col0\" >df was checked. no problems found</td>\n",
       "      <td id=\"T_5df63_row0_col1\" class=\"data row0 col1\" >qp.pd_util._check_df</td>\n",
       "      <td id=\"T_5df63_row0_col2\" class=\"data row0 col2\" >info</td>\n",
       "      <td id=\"T_5df63_row0_col3\" class=\"data row0 col3\" >2024-07-16 11:07:50.668138</td>\n",
       "    </tr>\n",
       "  </tbody>\n",
       "</table>\n"
      ],
      "text/plain": [
       "<pandas.io.formats.style.Styler at 0x2bebb2fb200>"
      ]
     },
     "metadata": {},
     "output_type": "display_data"
    },
    {
     "name": "stdout",
     "output_type": "stream",
     "text": [
      "passed test for arg: \"=diabetes   ´m to yn\"\n"
     ]
    }
   ],
   "source": [
    "\n",
    "df1 = get_df()\n",
    "df2 = get_df()\n",
    "result = df1.q('age ´m to int', verbosity=0)\n",
    "df2['age'] = [-25, 30, np.nan, np.nan, 40, np.nan, np.nan, np.nan, np.nan, np.nan, 35]\n",
    "df2['age'] = df2['age'].astype('object')\n",
    "compare(result, df2.loc[:,['age']])\n",
    "\n",
    "df1 = get_df()\n",
    "df2 = get_df()\n",
    "result = df1.q('=age  ´m to float', verbosity=0)\n",
    "df2['age'] = [-25.0, 30.0, np.nan, np.nan, 40.0, np.nan, np.nan, np.nan, np.nan, np.nan, 35.0]\n",
    "df2['age'] = df2['age'].astype('object')\n",
    "compare(result, df2.loc[:,['age']])\n",
    "\n",
    "df1 = get_df()\n",
    "df2 = get_df()\n",
    "result = df1.q('=age   ´m to num', verbosity=0)\n",
    "df2['age'] = [-25, 30, np.nan, np.nan, 40, np.nan, np.nan, np.nan, np.nan, np.nan, 35]\n",
    "df2['age'] = df2['age'].astype('object')\n",
    "compare(result, df2.loc[:,['age']])\n",
    "\n",
    "df1 = get_df()\n",
    "df2 = get_df()\n",
    "result = df1.q('=age   ´m to str', verbosity=0)\n",
    "df2['age'] = ['-25', '30', 'nan', 'None', '40.0', 'forty-five', 'nan', 'unk', '', 'unknown', '35']\n",
    "df2['age'] = df2['age'].astype('object')\n",
    "compare(result, df2.loc[:,['age']])\n",
    "\n",
    "df1 = get_df()\n",
    "df2 = get_df()\n",
    "result = df1.q('date of birth   ´m to date', verbosity=0)\n",
    "df2['date of birth'] = [\n",
    "    pd.to_datetime('1995-01-02', dayfirst=False).date(),\n",
    "    pd.to_datetime('1990/09/14', dayfirst=False).date(),\n",
    "    pd.to_datetime('1985.08.23', dayfirst=False).date(),\n",
    "    pd.to_datetime('19800406', dayfirst=False).date(),\n",
    "    pd.to_datetime('05-11-2007', dayfirst=True).date(),\n",
    "    pd.to_datetime('06-30-1983', dayfirst=False).date(),\n",
    "    pd.to_datetime('28-05-1975', dayfirst=True).date(),\n",
    "    pd.NaT,\n",
    "    pd.to_datetime('1955-Jan-09', dayfirst=False).date(),\n",
    "    pd.to_datetime('1950 Sep 10', dayfirst=False).date(),\n",
    "    pd.to_datetime('1945 October 11', dayfirst=False).date(),\n",
    "    ]\n",
    "df2['age'] = df2['age'].astype('object')\n",
    "compare(result, df2.loc[:,['date of birth']])\n",
    "\n",
    "df1 = get_df()\n",
    "df2 = get_df()\n",
    "result = df1.q('=age   ´m to na', verbosity=0)\n",
    "df2['age'] = [-25, '30', None, None, '40.0', 'forty-five', None, 'unk', None, 'unknown', 35]\n",
    "df2['age'] = df2['age'].astype('object')\n",
    "compare(result, df2.loc[:,['age']])\n",
    "\n",
    "df1 = get_df()\n",
    "df2 = get_df()\n",
    "result = df1.q('=age   ´m to nk', verbosity=0)\n",
    "df2['age'] = [-25, '30', np.nan, None, '40.0', 'forty-five', 'nan', 'unknown', '', 'unknown', 35]\n",
    "df2['age'] = df2['age'].astype('object')\n",
    "compare(result, df2.loc[:,['age']])\n",
    "\n",
    "df1 = get_df()\n",
    "df2 = get_df()\n",
    "result = df1.q('=diabetes   ´m to yn', verbosity=0)\n",
    "df2['diabetes'] = ['no', 'yes', None, 'no', 'yes', 'yes', 'no', None, None, 'no', 'yes']\n",
    "df2['age'] = df2['age'].astype('object')\n",
    "compare(result, df2.loc[:,['diabetes']])"
   ]
  },
  {
   "cell_type": "markdown",
   "metadata": {},
   "source": [
    "## adding columns\n"
   ]
  },
  {
   "cell_type": "code",
   "execution_count": 31,
   "metadata": {},
   "outputs": [],
   "source": [
    "#wip"
   ]
  },
  {
   "cell_type": "markdown",
   "metadata": {},
   "source": [
    "# qp.diff()"
   ]
  },
  {
   "cell_type": "code",
   "execution_count": 32,
   "metadata": {},
   "outputs": [
    {
     "data": {
      "text/html": [
       "<style type=\"text/css\">\n",
       "#T_5a3dd_row0_col0, #T_5a3dd_row0_col1, #T_5a3dd_row0_col2, #T_5a3dd_row0_col3 {\n",
       "  background-color: #c0e7b0;\n",
       "}\n",
       "</style>\n",
       "<table id=\"T_5a3dd\">\n",
       "  <thead>\n",
       "  </thead>\n",
       "  <tbody>\n",
       "    <tr>\n",
       "      <th id=\"T_5a3dd_level0_row0\" class=\"row_heading level0 row0\" >29</th>\n",
       "      <td id=\"T_5a3dd_row0_col0\" class=\"data row0 col0\" >adding column \"meta\" at position 0</td>\n",
       "      <td id=\"T_5a3dd_row0_col1\" class=\"data row0 col1\" >df.format()</td>\n",
       "      <td id=\"T_5a3dd_row0_col2\" class=\"data row0 col2\" >info</td>\n",
       "      <td id=\"T_5a3dd_row0_col3\" class=\"data row0 col3\" >2024-07-16 11:07:50.814344</td>\n",
       "    </tr>\n",
       "  </tbody>\n",
       "</table>\n"
      ],
      "text/plain": [
       "<pandas.io.formats.style.Styler at 0x2bebb3eb1a0>"
      ]
     },
     "metadata": {},
     "output_type": "display_data"
    },
    {
     "data": {
      "text/html": [
       "<style type=\"text/css\">\n",
       "#T_97a19_row0_col0, #T_97a19_row0_col1, #T_97a19_row0_col2, #T_97a19_row0_col3 {\n",
       "  background-color: #c0e7b0;\n",
       "}\n",
       "</style>\n",
       "<table id=\"T_97a19\">\n",
       "  <thead>\n",
       "  </thead>\n",
       "  <tbody>\n",
       "    <tr>\n",
       "      <th id=\"T_97a19_level0_row0\" class=\"row_heading level0 row0\" >30</th>\n",
       "      <td id=\"T_97a19_row0_col0\" class=\"data row0 col0\" >adding column \"meta\" at position 0</td>\n",
       "      <td id=\"T_97a19_row0_col1\" class=\"data row0 col1\" >df.format()</td>\n",
       "      <td id=\"T_97a19_row0_col2\" class=\"data row0 col2\" >info</td>\n",
       "      <td id=\"T_97a19_row0_col3\" class=\"data row0 col3\" >2024-07-16 11:07:50.826624</td>\n",
       "    </tr>\n",
       "  </tbody>\n",
       "</table>\n"
      ],
      "text/plain": [
       "<pandas.io.formats.style.Styler at 0x2bebb3eb500>"
      ]
     },
     "metadata": {},
     "output_type": "display_data"
    },
    {
     "data": {
      "text/plain": [
       "{'cols added': 1,\n",
       " 'cols removed': 1,\n",
       " 'rows added': 1,\n",
       " 'rows removed': 1,\n",
       " 'vals added': 1,\n",
       " 'vals removed': 1,\n",
       " 'vals changed': 1}"
      ]
     },
     "metadata": {},
     "output_type": "display_data"
    },
    {
     "data": {
      "text/html": [
       "<style type=\"text/css\">\n",
       "#T_40eea_row0_col1, #T_40eea_row1_col0, #T_40eea_row1_col1, #T_40eea_row1_col2, #T_40eea_row1_col3, #T_40eea_row2_col1 {\n",
       "  background-color: #6dae51;\n",
       "}\n",
       "#T_40eea_row0_col3 {\n",
       "  background-color: #f7d67c;\n",
       "}\n",
       "#T_40eea_row2_col2 {\n",
       "  background-color: #c0e7b0;\n",
       "}\n",
       "#T_40eea_row2_col3 {\n",
       "  background-color: #f7746a;\n",
       "}\n",
       "</style>\n",
       "<table id=\"T_40eea\">\n",
       "  <thead>\n",
       "    <tr>\n",
       "      <th class=\"blank level0\" >&nbsp;</th>\n",
       "      <th id=\"T_40eea_level0_col0\" class=\"col_heading level0 col0\" >meta</th>\n",
       "      <th id=\"T_40eea_level0_col1\" class=\"col_heading level0 col1\" >d</th>\n",
       "      <th id=\"T_40eea_level0_col2\" class=\"col_heading level0 col2\" >b</th>\n",
       "      <th id=\"T_40eea_level0_col3\" class=\"col_heading level0 col3\" >a</th>\n",
       "    </tr>\n",
       "  </thead>\n",
       "  <tbody>\n",
       "    <tr>\n",
       "      <th id=\"T_40eea_level0_row0\" class=\"row_heading level0 row0\" >y</th>\n",
       "      <td id=\"T_40eea_row0_col0\" class=\"data row0 col0\" ><br>vals changed: 1</td>\n",
       "      <td id=\"T_40eea_row0_col1\" class=\"data row0 col1\" >2.000000</td>\n",
       "      <td id=\"T_40eea_row0_col2\" class=\"data row0 col2\" >2.000000</td>\n",
       "      <td id=\"T_40eea_row0_col3\" class=\"data row0 col3\" >0.000000</td>\n",
       "    </tr>\n",
       "    <tr>\n",
       "      <th id=\"T_40eea_level0_row1\" class=\"row_heading level0 row1\" >x2</th>\n",
       "      <td id=\"T_40eea_row1_col0\" class=\"data row1 col0\" >added row</td>\n",
       "      <td id=\"T_40eea_row1_col1\" class=\"data row1 col1\" >1.000000</td>\n",
       "      <td id=\"T_40eea_row1_col2\" class=\"data row1 col2\" >1.000000</td>\n",
       "      <td id=\"T_40eea_row1_col3\" class=\"data row1 col3\" >1.000000</td>\n",
       "    </tr>\n",
       "    <tr>\n",
       "      <th id=\"T_40eea_level0_row2\" class=\"row_heading level0 row2\" >z</th>\n",
       "      <td id=\"T_40eea_row2_col0\" class=\"data row2 col0\" ><br>vals added: 1<br>vals removed: 1</td>\n",
       "      <td id=\"T_40eea_row2_col1\" class=\"data row2 col1\" >3.000000</td>\n",
       "      <td id=\"T_40eea_row2_col2\" class=\"data row2 col2\" >3.000000</td>\n",
       "      <td id=\"T_40eea_row2_col3\" class=\"data row2 col3\" >nan</td>\n",
       "    </tr>\n",
       "  </tbody>\n",
       "</table>\n"
      ],
      "text/plain": [
       "<pandas.io.formats.style.Styler at 0x2beb8af6ff0>"
      ]
     },
     "metadata": {},
     "output_type": "display_data"
    },
    {
     "data": {
      "text/html": [
       "<style type=\"text/css\">\n",
       "#T_1e44b_row0_col0, #T_1e44b_row0_col1, #T_1e44b_row0_col2, #T_1e44b_row0_col3 {\n",
       "  background-color: #c0e7b0;\n",
       "}\n",
       "</style>\n",
       "<table id=\"T_1e44b\">\n",
       "  <thead>\n",
       "  </thead>\n",
       "  <tbody>\n",
       "    <tr>\n",
       "      <th id=\"T_1e44b_level0_row0\" class=\"row_heading level0 row0\" >31</th>\n",
       "      <td id=\"T_1e44b_row0_col0\" class=\"data row0 col0\" >adding column \"meta\" at position 0</td>\n",
       "      <td id=\"T_1e44b_row0_col1\" class=\"data row0 col1\" >df.format()</td>\n",
       "      <td id=\"T_1e44b_row0_col2\" class=\"data row0 col2\" >info</td>\n",
       "      <td id=\"T_1e44b_row0_col3\" class=\"data row0 col3\" >2024-07-16 11:07:50.964798</td>\n",
       "    </tr>\n",
       "  </tbody>\n",
       "</table>\n"
      ],
      "text/plain": [
       "<pandas.io.formats.style.Styler at 0x2bebb29f7a0>"
      ]
     },
     "metadata": {},
     "output_type": "display_data"
    },
    {
     "data": {
      "text/html": [
       "<style type=\"text/css\">\n",
       "#T_31511_row0_col0, #T_31511_row0_col1, #T_31511_row0_col2, #T_31511_row0_col3 {\n",
       "  background-color: #c0e7b0;\n",
       "}\n",
       "</style>\n",
       "<table id=\"T_31511\">\n",
       "  <thead>\n",
       "  </thead>\n",
       "  <tbody>\n",
       "    <tr>\n",
       "      <th id=\"T_31511_level0_row0\" class=\"row_heading level0 row0\" >32</th>\n",
       "      <td id=\"T_31511_row0_col0\" class=\"data row0 col0\" >adding column \"meta\" at position 0</td>\n",
       "      <td id=\"T_31511_row0_col1\" class=\"data row0 col1\" >df.format()</td>\n",
       "      <td id=\"T_31511_row0_col2\" class=\"data row0 col2\" >info</td>\n",
       "      <td id=\"T_31511_row0_col3\" class=\"data row0 col3\" >2024-07-16 11:07:50.975319</td>\n",
       "    </tr>\n",
       "  </tbody>\n",
       "</table>\n"
      ],
      "text/plain": [
       "<pandas.io.formats.style.Styler at 0x2bebb2f9160>"
      ]
     },
     "metadata": {},
     "output_type": "display_data"
    },
    {
     "data": {
      "text/plain": [
       "{'cols added': 1,\n",
       " 'cols removed': 1,\n",
       " 'rows added': 1,\n",
       " 'rows removed': 1,\n",
       " 'vals added': 1,\n",
       " 'vals removed': 1,\n",
       " 'vals changed': 1}"
      ]
     },
     "metadata": {},
     "output_type": "display_data"
    },
    {
     "data": {
      "text/html": [
       "<style type=\"text/css\">\n",
       "#T_a952c_row0_col0, #T_a952c_row0_col1, #T_a952c_row0_col2, #T_a952c_row0_col3, #T_a952c_row1_col3, #T_a952c_row2_col3 {\n",
       "  background-color: #f73434;\n",
       "}\n",
       "#T_a952c_row1_col1 {\n",
       "  background-color: #f7d67c;\n",
       "}\n",
       "#T_a952c_row2_col1 {\n",
       "  background-color: #f7746a;\n",
       "}\n",
       "#T_a952c_row2_col2 {\n",
       "  background-color: #c0e7b0;\n",
       "}\n",
       "</style>\n",
       "<table id=\"T_a952c\">\n",
       "  <thead>\n",
       "    <tr>\n",
       "      <th class=\"blank level0\" >&nbsp;</th>\n",
       "      <th id=\"T_a952c_level0_col0\" class=\"col_heading level0 col0\" >meta</th>\n",
       "      <th id=\"T_a952c_level0_col1\" class=\"col_heading level0 col1\" >a</th>\n",
       "      <th id=\"T_a952c_level0_col2\" class=\"col_heading level0 col2\" >b</th>\n",
       "      <th id=\"T_a952c_level0_col3\" class=\"col_heading level0 col3\" >c</th>\n",
       "    </tr>\n",
       "  </thead>\n",
       "  <tbody>\n",
       "    <tr>\n",
       "      <th id=\"T_a952c_level0_row0\" class=\"row_heading level0 row0\" >x</th>\n",
       "      <td id=\"T_a952c_row0_col0\" class=\"data row0 col0\" >removed row</td>\n",
       "      <td id=\"T_a952c_row0_col1\" class=\"data row0 col1\" >1.000000</td>\n",
       "      <td id=\"T_a952c_row0_col2\" class=\"data row0 col2\" >1.000000</td>\n",
       "      <td id=\"T_a952c_row0_col3\" class=\"data row0 col3\" >1.000000</td>\n",
       "    </tr>\n",
       "    <tr>\n",
       "      <th id=\"T_a952c_level0_row1\" class=\"row_heading level0 row1\" >y</th>\n",
       "      <td id=\"T_a952c_row1_col0\" class=\"data row1 col0\" ><br>vals changed: 1</td>\n",
       "      <td id=\"T_a952c_row1_col1\" class=\"data row1 col1\" >2.000000</td>\n",
       "      <td id=\"T_a952c_row1_col2\" class=\"data row1 col2\" >2.000000</td>\n",
       "      <td id=\"T_a952c_row1_col3\" class=\"data row1 col3\" >2.000000</td>\n",
       "    </tr>\n",
       "    <tr>\n",
       "      <th id=\"T_a952c_level0_row2\" class=\"row_heading level0 row2\" >z</th>\n",
       "      <td id=\"T_a952c_row2_col0\" class=\"data row2 col0\" ><br>vals added: 1<br>vals removed: 1</td>\n",
       "      <td id=\"T_a952c_row2_col1\" class=\"data row2 col1\" >3.000000</td>\n",
       "      <td id=\"T_a952c_row2_col2\" class=\"data row2 col2\" >nan</td>\n",
       "      <td id=\"T_a952c_row2_col3\" class=\"data row2 col3\" >3.000000</td>\n",
       "    </tr>\n",
       "  </tbody>\n",
       "</table>\n"
      ],
      "text/plain": [
       "<pandas.io.formats.style.Styler at 0x2bebb2f9d90>"
      ]
     },
     "metadata": {},
     "output_type": "display_data"
    },
    {
     "data": {
      "text/html": [
       "<style type=\"text/css\">\n",
       "#T_da491_row0_col0, #T_da491_row0_col1, #T_da491_row0_col2, #T_da491_row0_col3 {\n",
       "  background-color: #c0e7b0;\n",
       "}\n",
       "</style>\n",
       "<table id=\"T_da491\">\n",
       "  <thead>\n",
       "  </thead>\n",
       "  <tbody>\n",
       "    <tr>\n",
       "      <th id=\"T_da491_level0_row0\" class=\"row_heading level0 row0\" >33</th>\n",
       "      <td id=\"T_da491_row0_col0\" class=\"data row0 col0\" >adding column \"meta\" at position 0</td>\n",
       "      <td id=\"T_da491_row0_col1\" class=\"data row0 col1\" >df.format()</td>\n",
       "      <td id=\"T_da491_row0_col2\" class=\"data row0 col2\" >info</td>\n",
       "      <td id=\"T_da491_row0_col3\" class=\"data row0 col3\" >2024-07-16 11:07:51.113407</td>\n",
       "    </tr>\n",
       "  </tbody>\n",
       "</table>\n"
      ],
      "text/plain": [
       "<pandas.io.formats.style.Styler at 0x2bebb42a0f0>"
      ]
     },
     "metadata": {},
     "output_type": "display_data"
    },
    {
     "data": {
      "text/html": [
       "<style type=\"text/css\">\n",
       "#T_91805_row0_col0, #T_91805_row0_col1, #T_91805_row0_col2, #T_91805_row0_col3 {\n",
       "  background-color: #c0e7b0;\n",
       "}\n",
       "</style>\n",
       "<table id=\"T_91805\">\n",
       "  <thead>\n",
       "  </thead>\n",
       "  <tbody>\n",
       "    <tr>\n",
       "      <th id=\"T_91805_level0_row0\" class=\"row_heading level0 row0\" >34</th>\n",
       "      <td id=\"T_91805_row0_col0\" class=\"data row0 col0\" >adding column \"meta\" at position 0</td>\n",
       "      <td id=\"T_91805_row0_col1\" class=\"data row0 col1\" >df.format()</td>\n",
       "      <td id=\"T_91805_row0_col2\" class=\"data row0 col2\" >info</td>\n",
       "      <td id=\"T_91805_row0_col3\" class=\"data row0 col3\" >2024-07-16 11:07:51.126432</td>\n",
       "    </tr>\n",
       "  </tbody>\n",
       "</table>\n"
      ],
      "text/plain": [
       "<pandas.io.formats.style.Styler at 0x2bebb42a330>"
      ]
     },
     "metadata": {},
     "output_type": "display_data"
    },
    {
     "data": {
      "text/plain": [
       "{'cols added': 1,\n",
       " 'cols removed': 1,\n",
       " 'rows added': 1,\n",
       " 'rows removed': 1,\n",
       " 'vals added': 1,\n",
       " 'vals removed': 1,\n",
       " 'vals changed': 1}"
      ]
     },
     "metadata": {},
     "output_type": "display_data"
    },
    {
     "data": {
      "text/html": [
       "<style type=\"text/css\">\n",
       "#T_007a9_row0_col1, #T_007a9_row1_col0, #T_007a9_row1_col1, #T_007a9_row1_col2, #T_007a9_row1_col3, #T_007a9_row1_col4, #T_007a9_row2_col1 {\n",
       "  background-color: #6dae51;\n",
       "}\n",
       "#T_007a9_row0_col3 {\n",
       "  background-color: #f7d67c;\n",
       "}\n",
       "#T_007a9_row0_col4, #T_007a9_row2_col4, #T_007a9_row3_col0, #T_007a9_row3_col1, #T_007a9_row3_col2, #T_007a9_row3_col3, #T_007a9_row3_col4 {\n",
       "  background-color: #f73434;\n",
       "}\n",
       "#T_007a9_row2_col2 {\n",
       "  background-color: #c0e7b0;\n",
       "}\n",
       "#T_007a9_row2_col3 {\n",
       "  background-color: #f7746a;\n",
       "}\n",
       "</style>\n",
       "<table id=\"T_007a9\">\n",
       "  <thead>\n",
       "    <tr>\n",
       "      <th class=\"blank level0\" >&nbsp;</th>\n",
       "      <th id=\"T_007a9_level0_col0\" class=\"col_heading level0 col0\" >meta</th>\n",
       "      <th id=\"T_007a9_level0_col1\" class=\"col_heading level0 col1\" >d</th>\n",
       "      <th id=\"T_007a9_level0_col2\" class=\"col_heading level0 col2\" >b</th>\n",
       "      <th id=\"T_007a9_level0_col3\" class=\"col_heading level0 col3\" >a</th>\n",
       "      <th id=\"T_007a9_level0_col4\" class=\"col_heading level0 col4\" >c</th>\n",
       "    </tr>\n",
       "  </thead>\n",
       "  <tbody>\n",
       "    <tr>\n",
       "      <th id=\"T_007a9_level0_row0\" class=\"row_heading level0 row0\" >y</th>\n",
       "      <td id=\"T_007a9_row0_col0\" class=\"data row0 col0\" ><br>vals changed: 1</td>\n",
       "      <td id=\"T_007a9_row0_col1\" class=\"data row0 col1\" >2.000000</td>\n",
       "      <td id=\"T_007a9_row0_col2\" class=\"data row0 col2\" >2.000000</td>\n",
       "      <td id=\"T_007a9_row0_col3\" class=\"data row0 col3\" >0.000000</td>\n",
       "      <td id=\"T_007a9_row0_col4\" class=\"data row0 col4\" >2.000000</td>\n",
       "    </tr>\n",
       "    <tr>\n",
       "      <th id=\"T_007a9_level0_row1\" class=\"row_heading level0 row1\" >x2</th>\n",
       "      <td id=\"T_007a9_row1_col0\" class=\"data row1 col0\" >added row</td>\n",
       "      <td id=\"T_007a9_row1_col1\" class=\"data row1 col1\" >1.000000</td>\n",
       "      <td id=\"T_007a9_row1_col2\" class=\"data row1 col2\" >1.000000</td>\n",
       "      <td id=\"T_007a9_row1_col3\" class=\"data row1 col3\" >1.000000</td>\n",
       "      <td id=\"T_007a9_row1_col4\" class=\"data row1 col4\" >nan</td>\n",
       "    </tr>\n",
       "    <tr>\n",
       "      <th id=\"T_007a9_level0_row2\" class=\"row_heading level0 row2\" >z</th>\n",
       "      <td id=\"T_007a9_row2_col0\" class=\"data row2 col0\" ><br>vals added: 1<br>vals removed: 1</td>\n",
       "      <td id=\"T_007a9_row2_col1\" class=\"data row2 col1\" >3.000000</td>\n",
       "      <td id=\"T_007a9_row2_col2\" class=\"data row2 col2\" >3.000000</td>\n",
       "      <td id=\"T_007a9_row2_col3\" class=\"data row2 col3\" >nan</td>\n",
       "      <td id=\"T_007a9_row2_col4\" class=\"data row2 col4\" >3.000000</td>\n",
       "    </tr>\n",
       "    <tr>\n",
       "      <th id=\"T_007a9_level0_row3\" class=\"row_heading level0 row3\" >x</th>\n",
       "      <td id=\"T_007a9_row3_col0\" class=\"data row3 col0\" >removed row</td>\n",
       "      <td id=\"T_007a9_row3_col1\" class=\"data row3 col1\" >nan</td>\n",
       "      <td id=\"T_007a9_row3_col2\" class=\"data row3 col2\" >1.000000</td>\n",
       "      <td id=\"T_007a9_row3_col3\" class=\"data row3 col3\" >1.000000</td>\n",
       "      <td id=\"T_007a9_row3_col4\" class=\"data row3 col4\" >1.000000</td>\n",
       "    </tr>\n",
       "  </tbody>\n",
       "</table>\n"
      ],
      "text/plain": [
       "<pandas.io.formats.style.Styler at 0x2beba55aae0>"
      ]
     },
     "metadata": {},
     "output_type": "display_data"
    },
    {
     "data": {
      "text/html": [
       "<style type=\"text/css\">\n",
       "#T_dfb40_row0_col0, #T_dfb40_row0_col1, #T_dfb40_row0_col2, #T_dfb40_row0_col3 {\n",
       "  background-color: #c0e7b0;\n",
       "}\n",
       "</style>\n",
       "<table id=\"T_dfb40\">\n",
       "  <thead>\n",
       "  </thead>\n",
       "  <tbody>\n",
       "    <tr>\n",
       "      <th id=\"T_dfb40_level0_row0\" class=\"row_heading level0 row0\" >35</th>\n",
       "      <td id=\"T_dfb40_row0_col0\" class=\"data row0 col0\" >adding column \"meta\" at position 0</td>\n",
       "      <td id=\"T_dfb40_row0_col1\" class=\"data row0 col1\" >df.format()</td>\n",
       "      <td id=\"T_dfb40_row0_col2\" class=\"data row0 col2\" >info</td>\n",
       "      <td id=\"T_dfb40_row0_col3\" class=\"data row0 col3\" >2024-07-16 11:07:51.244351</td>\n",
       "    </tr>\n",
       "  </tbody>\n",
       "</table>\n"
      ],
      "text/plain": [
       "<pandas.io.formats.style.Styler at 0x2bebb2f9160>"
      ]
     },
     "metadata": {},
     "output_type": "display_data"
    },
    {
     "data": {
      "text/html": [
       "<style type=\"text/css\">\n",
       "#T_96480_row0_col0, #T_96480_row0_col1, #T_96480_row0_col2, #T_96480_row0_col3 {\n",
       "  background-color: #c0e7b0;\n",
       "}\n",
       "</style>\n",
       "<table id=\"T_96480\">\n",
       "  <thead>\n",
       "  </thead>\n",
       "  <tbody>\n",
       "    <tr>\n",
       "      <th id=\"T_96480_level0_row0\" class=\"row_heading level0 row0\" >36</th>\n",
       "      <td id=\"T_96480_row0_col0\" class=\"data row0 col0\" >adding column \"meta\" at position 0</td>\n",
       "      <td id=\"T_96480_row0_col1\" class=\"data row0 col1\" >df.format()</td>\n",
       "      <td id=\"T_96480_row0_col2\" class=\"data row0 col2\" >info</td>\n",
       "      <td id=\"T_96480_row0_col3\" class=\"data row0 col3\" >2024-07-16 11:07:51.262706</td>\n",
       "    </tr>\n",
       "  </tbody>\n",
       "</table>\n"
      ],
      "text/plain": [
       "<pandas.io.formats.style.Styler at 0x2bebb406e10>"
      ]
     },
     "metadata": {},
     "output_type": "display_data"
    },
    {
     "data": {
      "text/plain": [
       "{'cols added': 1,\n",
       " 'cols removed': 1,\n",
       " 'rows added': 1,\n",
       " 'rows removed': 1,\n",
       " 'vals added': 1,\n",
       " 'vals removed': 1,\n",
       " 'vals changed': 1}"
      ]
     },
     "metadata": {},
     "output_type": "display_data"
    },
    {
     "data": {
      "text/html": [
       "<style type=\"text/css\">\n",
       "#T_e4929_row0_col1, #T_e4929_row1_col0, #T_e4929_row1_col1, #T_e4929_row1_col2, #T_e4929_row1_col3, #T_e4929_row1_col4, #T_e4929_row1_col5, #T_e4929_row1_col6, #T_e4929_row2_col1 {\n",
       "  background-color: #6dae51;\n",
       "}\n",
       "#T_e4929_row0_col2, #T_e4929_row0_col4, #T_e4929_row0_col6, #T_e4929_row2_col2, #T_e4929_row2_col4, #T_e4929_row2_col6 {\n",
       "  font-style: italic;\n",
       "}\n",
       "#T_e4929_row0_col5 {\n",
       "  background-color: #f7d67c;\n",
       "}\n",
       "#T_e4929_row2_col3 {\n",
       "  background-color: #c0e7b0;\n",
       "}\n",
       "#T_e4929_row2_col5 {\n",
       "  background-color: #f7746a;\n",
       "}\n",
       "</style>\n",
       "<table id=\"T_e4929\">\n",
       "  <thead>\n",
       "    <tr>\n",
       "      <th class=\"blank level0\" >&nbsp;</th>\n",
       "      <th id=\"T_e4929_level0_col0\" class=\"col_heading level0 col0\" >meta</th>\n",
       "      <th id=\"T_e4929_level0_col1\" class=\"col_heading level0 col1\" >d</th>\n",
       "      <th id=\"T_e4929_level0_col2\" class=\"col_heading level0 col2\" >meta: d</th>\n",
       "      <th id=\"T_e4929_level0_col3\" class=\"col_heading level0 col3\" >b</th>\n",
       "      <th id=\"T_e4929_level0_col4\" class=\"col_heading level0 col4\" >meta: b</th>\n",
       "      <th id=\"T_e4929_level0_col5\" class=\"col_heading level0 col5\" >a</th>\n",
       "      <th id=\"T_e4929_level0_col6\" class=\"col_heading level0 col6\" >meta: a</th>\n",
       "    </tr>\n",
       "  </thead>\n",
       "  <tbody>\n",
       "    <tr>\n",
       "      <th id=\"T_e4929_level0_row0\" class=\"row_heading level0 row0\" >y</th>\n",
       "      <td id=\"T_e4929_row0_col0\" class=\"data row0 col0\" ><br>vals changed: 1</td>\n",
       "      <td id=\"T_e4929_row0_col1\" class=\"data row0 col1\" >2.000000</td>\n",
       "      <td id=\"T_e4929_row0_col2\" class=\"data row0 col2\" ></td>\n",
       "      <td id=\"T_e4929_row0_col3\" class=\"data row0 col3\" >2.000000</td>\n",
       "      <td id=\"T_e4929_row0_col4\" class=\"data row0 col4\" ></td>\n",
       "      <td id=\"T_e4929_row0_col5\" class=\"data row0 col5\" >0.000000</td>\n",
       "      <td id=\"T_e4929_row0_col6\" class=\"data row0 col6\" ><br>old: 2.0</td>\n",
       "    </tr>\n",
       "    <tr>\n",
       "      <th id=\"T_e4929_level0_row1\" class=\"row_heading level0 row1\" >x2</th>\n",
       "      <td id=\"T_e4929_row1_col0\" class=\"data row1 col0\" >added row</td>\n",
       "      <td id=\"T_e4929_row1_col1\" class=\"data row1 col1\" >1.000000</td>\n",
       "      <td id=\"T_e4929_row1_col2\" class=\"data row1 col2\" ></td>\n",
       "      <td id=\"T_e4929_row1_col3\" class=\"data row1 col3\" >1.000000</td>\n",
       "      <td id=\"T_e4929_row1_col4\" class=\"data row1 col4\" ></td>\n",
       "      <td id=\"T_e4929_row1_col5\" class=\"data row1 col5\" >1.000000</td>\n",
       "      <td id=\"T_e4929_row1_col6\" class=\"data row1 col6\" ></td>\n",
       "    </tr>\n",
       "    <tr>\n",
       "      <th id=\"T_e4929_level0_row2\" class=\"row_heading level0 row2\" >z</th>\n",
       "      <td id=\"T_e4929_row2_col0\" class=\"data row2 col0\" ><br>vals added: 1<br>vals removed: 1</td>\n",
       "      <td id=\"T_e4929_row2_col1\" class=\"data row2 col1\" >3.000000</td>\n",
       "      <td id=\"T_e4929_row2_col2\" class=\"data row2 col2\" ></td>\n",
       "      <td id=\"T_e4929_row2_col3\" class=\"data row2 col3\" >3.000000</td>\n",
       "      <td id=\"T_e4929_row2_col4\" class=\"data row2 col4\" ><br>old: None</td>\n",
       "      <td id=\"T_e4929_row2_col5\" class=\"data row2 col5\" >nan</td>\n",
       "      <td id=\"T_e4929_row2_col6\" class=\"data row2 col6\" ><br>old: 3.0</td>\n",
       "    </tr>\n",
       "  </tbody>\n",
       "</table>\n"
      ],
      "text/plain": [
       "<pandas.io.formats.style.Styler at 0x2bebb404500>"
      ]
     },
     "metadata": {},
     "output_type": "display_data"
    },
    {
     "name": "stdout",
     "output_type": "stream",
     "text": [
      "passed test for mode: \"new\"\n",
      "passed test for mode: \"old\"\n",
      "passed test for mode: \"mix\"\n",
      "passed test for mode: \"new+\"\n"
     ]
    }
   ],
   "source": [
    "def compare(df_new, df_old, expected, mode):\n",
    "    result = qp.diff(df_new, df_old, mode, verbosity=0).data\n",
    "    if result.equals(expected):\n",
    "        print(f'passed test for mode: \"{mode}\"')\n",
    "    else:\n",
    "        print('new:')\n",
    "        display(df_new)\n",
    "        print('old:')\n",
    "        display(df_old)\n",
    "        print('expected:')\n",
    "        display(expected)\n",
    "        print('result:')\n",
    "        display(result)\n",
    "        raise Exception(f'failed test for mode: \"{mode}\"')\n",
    "\n",
    "\n",
    "df_new, df_old = qp.get_dfs()\n",
    "\n",
    "\n",
    "result_new = pd.DataFrame(columns=['meta', 'd', 'b', 'a'], index=['y','x2','z'])\n",
    "\n",
    "\n",
    "result_new.loc['y', 'meta'] = '<br>vals changed: 1'\n",
    "result_new.loc['y', 'd'] = 2.0\n",
    "result_new.loc['y', 'b'] = 2.0\n",
    "result_new.loc['y', 'a'] = 0.0\n",
    "\n",
    "result_new.loc['x2', 'meta'] = 'added row'\n",
    "result_new.loc['x2', 'd'] = 1.0\n",
    "result_new.loc['x2', 'b'] = 1.0\n",
    "result_new.loc['x2', 'a'] = 1.0\n",
    "\n",
    "result_new.loc['z', 'meta'] = '<br>vals added: 1<br>vals removed: 1'\n",
    "result_new.loc['z', 'd'] = 3.0\n",
    "result_new.loc['z', 'b'] = 3.0\n",
    "result_new.loc['z', 'a'] = np.nan\n",
    "\n",
    "\n",
    "\n",
    "result_old = pd.DataFrame(columns=['meta', 'a', 'b', 'c'], index=['x','y','z'])\n",
    "\n",
    "result_old.loc['x', 'meta'] ='removed row'\n",
    "result_old.loc['x', 'a'] = 1.0\n",
    "result_old.loc['x', 'b'] = 1.0\n",
    "result_old.loc['x', 'c'] = 1.0\n",
    "\n",
    "result_old.loc['y', 'meta'] = '<br>vals changed: 1'\n",
    "result_old.loc['y', 'a'] = 2.0\n",
    "result_old.loc['y', 'b'] = 2.0\n",
    "result_old.loc['y', 'c'] = 2.0\n",
    "\n",
    "result_old.loc['z', 'meta'] = '<br>vals added: 1<br>vals removed: 1'\n",
    "result_old.loc['z', 'a'] = 3.0\n",
    "result_old.loc['z', 'b'] = None\n",
    "result_old.loc['z', 'c'] = 3.0\n",
    "\n",
    "\n",
    "\n",
    "result_mix = pd.DataFrame(columns=['meta', 'd', 'b', 'a', 'c'], index=['y', 'x2', 'z', 'x'])\n",
    "\n",
    "result_mix.loc['y', 'meta'] = '<br>vals changed: 1'\n",
    "result_mix.loc['y', 'd'] = 2.0\n",
    "result_mix.loc['y', 'b'] = 2.0\n",
    "result_mix.loc['y', 'a'] = 0.0\n",
    "result_mix.loc['y', 'c'] = 2.0\n",
    "\n",
    "result_mix.loc['x2', 'meta'] = 'added row'\n",
    "result_mix.loc['x2', 'd'] = 1.0\n",
    "result_mix.loc['x2', 'b'] = 1.0\n",
    "result_mix.loc['x2', 'a'] = 1.0\n",
    "result_mix.loc['x2', 'c'] = np.nan\n",
    "\n",
    "result_mix.loc['z', 'meta'] = '<br>vals added: 1<br>vals removed: 1'\n",
    "result_mix.loc['z', 'd'] = 3.0\n",
    "result_mix.loc['z', 'b'] = 3.0\n",
    "result_mix.loc['z', 'a'] = np.nan\n",
    "result_mix.loc['z', 'c'] = 3.0\n",
    "\n",
    "result_mix.loc['x', 'meta'] ='removed row'\n",
    "result_mix.loc['x', 'd'] = None\n",
    "result_mix.loc['x', 'b'] = 1.0\n",
    "result_mix.loc['x', 'a'] = 1.0\n",
    "result_mix.loc['x', 'c'] = 1.0\n",
    "\n",
    "\n",
    "\n",
    "\n",
    "result_new_plus = pd.DataFrame(columns=['meta', 'd', 'meta: d', 'b', 'meta: b', 'a', 'meta: a'], index=['y','x2','z'])\n",
    "\n",
    "\n",
    "result_new_plus.loc['y', 'meta'] = '<br>vals changed: 1'\n",
    "result_new_plus.loc['y', 'd'] = 2.0\n",
    "result_new_plus.loc['y', 'meta: d'] = ''\n",
    "result_new_plus.loc['y', 'b'] = 2.0\n",
    "result_new_plus.loc['y', 'meta: b'] = ''\n",
    "result_new_plus.loc['y', 'a'] = 0.0\n",
    "result_new_plus.loc['y', 'meta: a'] = '<br>old: 2.0'\n",
    "\n",
    "result_new_plus.loc['x2', 'meta'] = 'added row'\n",
    "result_new_plus.loc['x2', 'd'] = 1.0\n",
    "result_new_plus.loc['x2', 'meta: d'] = ''\n",
    "result_new_plus.loc['x2', 'b'] = 1.0\n",
    "result_new_plus.loc['x2', 'meta: b'] = ''\n",
    "result_new_plus.loc['x2', 'a'] = 1.0\n",
    "result_new_plus.loc['x2', 'meta: a'] = ''\n",
    "\n",
    "result_new_plus.loc['z', 'meta'] = '<br>vals added: 1<br>vals removed: 1'\n",
    "result_new_plus.loc['z', 'd'] = 3.0\n",
    "result_new_plus.loc['z', 'meta: d'] = ''\n",
    "result_new_plus.loc['z', 'b'] = 3.0\n",
    "result_new_plus.loc['z', 'meta: b'] = '<br>old: None'\n",
    "result_new_plus.loc['z', 'a'] = np.nan\n",
    "result_new_plus.loc['z', 'meta: a'] = '<br>old: 3.0'\n",
    "\n",
    "\n",
    "display(qp.diff(df_new, df_old, 'new', verbosity=4))\n",
    "display(qp.diff(df_new, df_old, 'old', verbosity=4))\n",
    "display(qp.diff(df_new, df_old, 'mix', verbosity=4))\n",
    "display(qp.diff(df_new, df_old, 'new+', verbosity=4))\n",
    "\n",
    "compare(df_new, df_old, result_new, 'new')\n",
    "compare(df_new, df_old, result_old, 'old')\n",
    "compare(df_new, df_old, result_mix, 'mix')\n",
    "compare(df_new, df_old, result_new_plus, 'new+')\n",
    "\n"
   ]
  },
  {
   "cell_type": "markdown",
   "metadata": {},
   "source": [
    "# df.format()"
   ]
  },
  {
   "cell_type": "code",
   "execution_count": 33,
   "metadata": {},
   "outputs": [
    {
     "name": "stdout",
     "output_type": "stream",
     "text": [
      "passed test for finding all errors in df\n"
     ]
    },
    {
     "data": {
      "text/html": [
       "<div>\n",
       "<style scoped>\n",
       "    .dataframe tbody tr th:only-of-type {\n",
       "        vertical-align: middle;\n",
       "    }\n",
       "\n",
       "    .dataframe tbody tr th {\n",
       "        vertical-align: top;\n",
       "    }\n",
       "\n",
       "    .dataframe thead th {\n",
       "        text-align: right;\n",
       "    }\n",
       "</style>\n",
       "<table border=\"1\" class=\"dataframe\">\n",
       "  <thead>\n",
       "    <tr style=\"text-align: right;\">\n",
       "      <th></th>\n",
       "      <th>a</th>\n",
       "      <th>b</th>\n",
       "      <th>c</th>\n",
       "    </tr>\n",
       "  </thead>\n",
       "  <tbody>\n",
       "  </tbody>\n",
       "</table>\n",
       "</div>"
      ],
      "text/plain": [
       "Empty DataFrame\n",
       "Columns: [a, b, c]\n",
       "Index: []"
      ]
     },
     "metadata": {},
     "output_type": "display_data"
    },
    {
     "name": "stdout",
     "output_type": "stream",
     "text": [
      "passed test for finding all errors in df\n"
     ]
    },
    {
     "data": {
      "text/html": [
       "<div>\n",
       "<style scoped>\n",
       "    .dataframe tbody tr th:only-of-type {\n",
       "        vertical-align: middle;\n",
       "    }\n",
       "\n",
       "    .dataframe tbody tr th {\n",
       "        vertical-align: top;\n",
       "    }\n",
       "\n",
       "    .dataframe thead th {\n",
       "        text-align: right;\n",
       "    }\n",
       "</style>\n",
       "<table border=\"1\" class=\"dataframe\">\n",
       "  <thead>\n",
       "    <tr style=\"text-align: right;\">\n",
       "      <th></th>\n",
       "      <th>meta</th>\n",
       "      <th>a</th>\n",
       "      <th>b</th>\n",
       "      <th>c</th>\n",
       "    </tr>\n",
       "  </thead>\n",
       "  <tbody>\n",
       "  </tbody>\n",
       "</table>\n",
       "</div>"
      ],
      "text/plain": [
       "Empty DataFrame\n",
       "Columns: [meta, a, b, c]\n",
       "Index: []"
      ]
     },
     "metadata": {},
     "output_type": "display_data"
    },
    {
     "name": "stdout",
     "output_type": "stream",
     "text": [
      "passed test for finding all errors in df\n"
     ]
    },
    {
     "data": {
      "text/html": [
       "<div>\n",
       "<style scoped>\n",
       "    .dataframe tbody tr th:only-of-type {\n",
       "        vertical-align: middle;\n",
       "    }\n",
       "\n",
       "    .dataframe tbody tr th {\n",
       "        vertical-align: top;\n",
       "    }\n",
       "\n",
       "    .dataframe thead th {\n",
       "        text-align: right;\n",
       "    }\n",
       "</style>\n",
       "<table border=\"1\" class=\"dataframe\">\n",
       "  <thead>\n",
       "    <tr style=\"text-align: right;\">\n",
       "      <th></th>\n",
       "      <th>a</th>\n",
       "      <th>b</th>\n",
       "      <th>c</th>\n",
       "      <th>a b c</th>\n",
       "    </tr>\n",
       "  </thead>\n",
       "  <tbody>\n",
       "  </tbody>\n",
       "</table>\n",
       "</div>"
      ],
      "text/plain": [
       "Empty DataFrame\n",
       "Columns: [ a, b ,  c , a b c ]\n",
       "Index: []"
      ]
     },
     "metadata": {},
     "output_type": "display_data"
    },
    {
     "name": "stdout",
     "output_type": "stream",
     "text": [
      "passed test for finding all errors in df\n"
     ]
    },
    {
     "data": {
      "text/html": [
       "<div>\n",
       "<style scoped>\n",
       "    .dataframe tbody tr th:only-of-type {\n",
       "        vertical-align: middle;\n",
       "    }\n",
       "\n",
       "    .dataframe tbody tr th {\n",
       "        vertical-align: top;\n",
       "    }\n",
       "\n",
       "    .dataframe thead th {\n",
       "        text-align: right;\n",
       "    }\n",
       "</style>\n",
       "<table border=\"1\" class=\"dataframe\">\n",
       "  <thead>\n",
       "    <tr style=\"text-align: right;\">\n",
       "      <th></th>\n",
       "      <th>&amp;&amp;a</th>\n",
       "      <th>b&amp;&amp;</th>\n",
       "      <th>&amp;&amp;c&amp;&amp;</th>\n",
       "      <th>a&amp;&amp;b&amp;&amp;c&amp;&amp;</th>\n",
       "    </tr>\n",
       "  </thead>\n",
       "  <tbody>\n",
       "  </tbody>\n",
       "</table>\n",
       "</div>"
      ],
      "text/plain": [
       "Empty DataFrame\n",
       "Columns: [&&a, b&&, &&c&&, a&&b&&c&&]\n",
       "Index: []"
      ]
     },
     "metadata": {},
     "output_type": "display_data"
    },
    {
     "name": "stdout",
     "output_type": "stream",
     "text": [
      "passed test for finding all errors in df\n"
     ]
    },
    {
     "data": {
      "text/html": [
       "<div>\n",
       "<style scoped>\n",
       "    .dataframe tbody tr th:only-of-type {\n",
       "        vertical-align: middle;\n",
       "    }\n",
       "\n",
       "    .dataframe tbody tr th {\n",
       "        vertical-align: top;\n",
       "    }\n",
       "\n",
       "    .dataframe thead th {\n",
       "        text-align: right;\n",
       "    }\n",
       "</style>\n",
       "<table border=\"1\" class=\"dataframe\">\n",
       "  <thead>\n",
       "    <tr style=\"text-align: right;\">\n",
       "      <th></th>\n",
       "      <th>//a</th>\n",
       "      <th>b//</th>\n",
       "      <th>//c//</th>\n",
       "      <th>a//b//c//</th>\n",
       "    </tr>\n",
       "  </thead>\n",
       "  <tbody>\n",
       "  </tbody>\n",
       "</table>\n",
       "</div>"
      ],
      "text/plain": [
       "Empty DataFrame\n",
       "Columns: [//a, b//, //c//, a//b//c//]\n",
       "Index: []"
      ]
     },
     "metadata": {},
     "output_type": "display_data"
    },
    {
     "name": "stdout",
     "output_type": "stream",
     "text": [
      "passed test for finding all errors in df\n"
     ]
    },
    {
     "data": {
      "text/html": [
       "<div>\n",
       "<style scoped>\n",
       "    .dataframe tbody tr th:only-of-type {\n",
       "        vertical-align: middle;\n",
       "    }\n",
       "\n",
       "    .dataframe tbody tr th {\n",
       "        vertical-align: top;\n",
       "    }\n",
       "\n",
       "    .dataframe thead th {\n",
       "        text-align: right;\n",
       "    }\n",
       "</style>\n",
       "<table border=\"1\" class=\"dataframe\">\n",
       "  <thead>\n",
       "    <tr style=\"text-align: right;\">\n",
       "      <th></th>\n",
       "      <th>´a</th>\n",
       "      <th>b´´´</th>\n",
       "      <th>´´c´</th>\n",
       "      <th>a´b´´c´</th>\n",
       "    </tr>\n",
       "  </thead>\n",
       "  <tbody>\n",
       "  </tbody>\n",
       "</table>\n",
       "</div>"
      ],
      "text/plain": [
       "Empty DataFrame\n",
       "Columns: [´a, b´´´, ´´c´, a´b´´c´]\n",
       "Index: []"
      ]
     },
     "metadata": {},
     "output_type": "display_data"
    }
   ],
   "source": [
    "def compare(df, result, expected):\n",
    "    if result.equals(expected):\n",
    "        print(f'passed test for finding all errors in df')\n",
    "        display(df)\n",
    "    else:\n",
    "        print('result:')\n",
    "        display(result)\n",
    "        print('expected:')\n",
    "        display(expected)\n",
    "        raise Exception(f'failed test for finding all errors in df')\n",
    "\n",
    "\n",
    "\n",
    "df = pd.DataFrame(columns=['a', 'b', 'c'])\n",
    "result = df.format(verbosity=0)\n",
    "expected = pd.DataFrame('', columns=['meta', 'a', 'b', 'c'], index=[])\n",
    "compare(df, result, expected)\n",
    "\n",
    "\n",
    "df = pd.DataFrame(columns=['meta', 'a', 'b', 'c'], index=[])\n",
    "result = df.format(verbosity=0)\n",
    "expected = pd.DataFrame('', columns=['meta', 'a', 'b', 'c'], index=[])\n",
    "compare(df, result, expected)\n",
    "\n",
    "\n",
    "df = pd.DataFrame(columns=[' a', 'b ', ' c ', 'a b c '])\n",
    "result = df.format(verbosity=0)\n",
    "expected = pd.DataFrame('', columns=['meta', 'a', 'b', 'c', 'a b c'], index=[])\n",
    "compare(df, result, expected)\n",
    "\n",
    "\n",
    "df = pd.DataFrame(columns=['&&a', 'b&&', '&&c&&', 'a&&b&&c&&'])\n",
    "result = df.format(verbosity=0)\n",
    "expected = pd.DataFrame('', columns=['meta', '& &a', 'b& &', '& &c& &', 'a& &b& &c& &'], index=[])\n",
    "compare(df, result, expected)\n",
    "\n",
    "\n",
    "df = pd.DataFrame(columns=['//a', 'b//', '//c//', 'a//b//c//'])\n",
    "result = df.format(verbosity=0)\n",
    "expected = pd.DataFrame('', columns=['meta', '/ /a', 'b/ /', '/ /c/ /', 'a/ /b/ /c/ /'], index=[])\n",
    "compare(df, result, expected)\n",
    "\n",
    "\n",
    "df = pd.DataFrame(columns=['´a', 'b´´´', '´´c´', 'a´b´´c´'])\n",
    "result = df.format(verbosity=0)\n",
    "expected = pd.DataFrame('', columns=['meta', '`a', 'b```', '``c`', 'a`b``c`'], index=[])\n",
    "compare(df, result, expected)"
   ]
  },
  {
   "cell_type": "markdown",
   "metadata": {},
   "source": [
    "# df.save() and df.load()"
   ]
  },
  {
   "cell_type": "code",
   "execution_count": 34,
   "metadata": {},
   "outputs": [
    {
     "data": {
      "text/html": [
       "<style type=\"text/css\">\n",
       "#T_d2270_row0_col0, #T_d2270_row0_col1, #T_d2270_row0_col2, #T_d2270_row0_col3 {\n",
       "  background-color: #f7d67c;\n",
       "}\n",
       "</style>\n",
       "<table id=\"T_d2270\">\n",
       "  <thead>\n",
       "  </thead>\n",
       "  <tbody>\n",
       "    <tr>\n",
       "      <th id=\"T_d2270_level0_row0\" class=\"row_heading level0 row0\" >37</th>\n",
       "      <td id=\"T_d2270_row0_col0\" class=\"data row0 col0\" >saving df to \"df.xlsx\" in sheet \"data1\"</td>\n",
       "      <td id=\"T_d2270_row0_col1\" class=\"data row0 col1\" >df.save()</td>\n",
       "      <td id=\"T_d2270_row0_col2\" class=\"data row0 col2\" >Warning</td>\n",
       "      <td id=\"T_d2270_row0_col3\" class=\"data row0 col3\" >2024-07-16 11:07:51.805912</td>\n",
       "    </tr>\n",
       "  </tbody>\n",
       "</table>\n"
      ],
      "text/plain": [
       "<pandas.io.formats.style.Styler at 0x2bebb2d35c0>"
      ]
     },
     "metadata": {},
     "output_type": "display_data"
    },
    {
     "data": {
      "text/html": [
       "<style type=\"text/css\">\n",
       "#T_86d3f_row0_col0, #T_86d3f_row0_col1, #T_86d3f_row0_col2, #T_86d3f_row0_col3 {\n",
       "  background-color: #c0e7b0;\n",
       "}\n",
       "</style>\n",
       "<table id=\"T_86d3f\">\n",
       "  <thead>\n",
       "  </thead>\n",
       "  <tbody>\n",
       "    <tr>\n",
       "      <th id=\"T_86d3f_level0_row0\" class=\"row_heading level0 row0\" >38</th>\n",
       "      <td id=\"T_86d3f_row0_col0\" class=\"data row0 col0\" >archiving df to \"c:\\Users\\MartinVölkl-GouyaIns\\OneDrive - Gouya Insights\\Desktop\\qplib_dev/archive/df_2024_07_16.xlsx\" in sheet \"data1\"</td>\n",
       "      <td id=\"T_86d3f_row0_col1\" class=\"data row0 col1\" >df.save()</td>\n",
       "      <td id=\"T_86d3f_row0_col2\" class=\"data row0 col2\" >info</td>\n",
       "      <td id=\"T_86d3f_row0_col3\" class=\"data row0 col3\" >2024-07-16 11:07:52.709968</td>\n",
       "    </tr>\n",
       "  </tbody>\n",
       "</table>\n"
      ],
      "text/plain": [
       "<pandas.io.formats.style.Styler at 0x2bebcd035c0>"
      ]
     },
     "metadata": {},
     "output_type": "display_data"
    },
    {
     "name": "stdout",
     "output_type": "stream",
     "text": [
      "passed test for default saving behaviour\n",
      "passed test for loading from default file\n"
     ]
    },
    {
     "data": {
      "text/html": [
       "<style type=\"text/css\">\n",
       "#T_469fd_row0_col0, #T_469fd_row0_col1, #T_469fd_row0_col2, #T_469fd_row0_col3 {\n",
       "  background-color: #f7d67c;\n",
       "}\n",
       "</style>\n",
       "<table id=\"T_469fd\">\n",
       "  <thead>\n",
       "  </thead>\n",
       "  <tbody>\n",
       "    <tr>\n",
       "      <th id=\"T_469fd_level0_row0\" class=\"row_heading level0 row0\" >39</th>\n",
       "      <td id=\"T_469fd_row0_col0\" class=\"data row0 col0\" >saving df to \"df1.xlsx\" in sheet \"data1\"</td>\n",
       "      <td id=\"T_469fd_row0_col1\" class=\"data row0 col1\" >df.save()</td>\n",
       "      <td id=\"T_469fd_row0_col2\" class=\"data row0 col2\" >Warning</td>\n",
       "      <td id=\"T_469fd_row0_col3\" class=\"data row0 col3\" >2024-07-16 11:07:52.763054</td>\n",
       "    </tr>\n",
       "  </tbody>\n",
       "</table>\n"
      ],
      "text/plain": [
       "<pandas.io.formats.style.Styler at 0x2bebcb75bb0>"
      ]
     },
     "metadata": {},
     "output_type": "display_data"
    },
    {
     "data": {
      "text/html": [
       "<style type=\"text/css\">\n",
       "#T_1e2ee_row0_col0, #T_1e2ee_row0_col1, #T_1e2ee_row0_col2, #T_1e2ee_row0_col3 {\n",
       "  background-color: #c0e7b0;\n",
       "}\n",
       "</style>\n",
       "<table id=\"T_1e2ee\">\n",
       "  <thead>\n",
       "  </thead>\n",
       "  <tbody>\n",
       "    <tr>\n",
       "      <th id=\"T_1e2ee_level0_row0\" class=\"row_heading level0 row0\" >40</th>\n",
       "      <td id=\"T_1e2ee_row0_col0\" class=\"data row0 col0\" >archiving df to \"c:\\Users\\MartinVölkl-GouyaIns\\OneDrive - Gouya Insights\\Desktop\\qplib_dev/archive/df1_2024_07_16.xlsx\" in sheet \"data1\"</td>\n",
       "      <td id=\"T_1e2ee_row0_col1\" class=\"data row0 col1\" >df.save()</td>\n",
       "      <td id=\"T_1e2ee_row0_col2\" class=\"data row0 col2\" >info</td>\n",
       "      <td id=\"T_1e2ee_row0_col3\" class=\"data row0 col3\" >2024-07-16 11:07:52.792671</td>\n",
       "    </tr>\n",
       "  </tbody>\n",
       "</table>\n"
      ],
      "text/plain": [
       "<pandas.io.formats.style.Styler at 0x2bebb3e9a30>"
      ]
     },
     "metadata": {},
     "output_type": "display_data"
    },
    {
     "name": "stdout",
     "output_type": "stream",
     "text": [
      "passed test for saving to a specific file\n",
      "passed test for loading from a specific file\n"
     ]
    },
    {
     "data": {
      "text/html": [
       "<style type=\"text/css\">\n",
       "#T_f880a_row0_col0, #T_f880a_row0_col1, #T_f880a_row0_col2, #T_f880a_row0_col3 {\n",
       "  background-color: #f7d67c;\n",
       "}\n",
       "</style>\n",
       "<table id=\"T_f880a\">\n",
       "  <thead>\n",
       "  </thead>\n",
       "  <tbody>\n",
       "    <tr>\n",
       "      <th id=\"T_f880a_level0_row0\" class=\"row_heading level0 row0\" >41</th>\n",
       "      <td id=\"T_f880a_row0_col0\" class=\"data row0 col0\" >saving df to \"test/df1.xlsx\" in sheet \"data1\"</td>\n",
       "      <td id=\"T_f880a_row0_col1\" class=\"data row0 col1\" >df.save()</td>\n",
       "      <td id=\"T_f880a_row0_col2\" class=\"data row0 col2\" >Warning</td>\n",
       "      <td id=\"T_f880a_row0_col3\" class=\"data row0 col3\" >2024-07-16 11:07:52.836527</td>\n",
       "    </tr>\n",
       "  </tbody>\n",
       "</table>\n"
      ],
      "text/plain": [
       "<pandas.io.formats.style.Styler at 0x2bebcc92c30>"
      ]
     },
     "metadata": {},
     "output_type": "display_data"
    },
    {
     "data": {
      "text/html": [
       "<style type=\"text/css\">\n",
       "#T_962fc_row0_col0, #T_962fc_row0_col1, #T_962fc_row0_col2, #T_962fc_row0_col3 {\n",
       "  background-color: #f7d67c;\n",
       "}\n",
       "</style>\n",
       "<table id=\"T_962fc\">\n",
       "  <thead>\n",
       "  </thead>\n",
       "  <tbody>\n",
       "    <tr>\n",
       "      <th id=\"T_962fc_level0_row0\" class=\"row_heading level0 row0\" >42</th>\n",
       "      <td id=\"T_962fc_row0_col0\" class=\"data row0 col0\" >did not find archive folder \"test/archive\"</td>\n",
       "      <td id=\"T_962fc_row0_col1\" class=\"data row0 col1\" >df.save()</td>\n",
       "      <td id=\"T_962fc_row0_col2\" class=\"data row0 col2\" >Warning</td>\n",
       "      <td id=\"T_962fc_row0_col3\" class=\"data row0 col3\" >2024-07-16 11:07:52.867489</td>\n",
       "    </tr>\n",
       "  </tbody>\n",
       "</table>\n"
      ],
      "text/plain": [
       "<pandas.io.formats.style.Styler at 0x2bebcafbe30>"
      ]
     },
     "metadata": {},
     "output_type": "display_data"
    },
    {
     "name": "stdout",
     "output_type": "stream",
     "text": [
      "passed test for saving to a specific file in folder\n",
      "passed test for loading from a specific file in folder\n"
     ]
    },
    {
     "data": {
      "text/html": [
       "<style type=\"text/css\">\n",
       "#T_72b58_row0_col0, #T_72b58_row0_col1, #T_72b58_row0_col2, #T_72b58_row0_col3 {\n",
       "  background-color: #f7d67c;\n",
       "}\n",
       "</style>\n",
       "<table id=\"T_72b58\">\n",
       "  <thead>\n",
       "  </thead>\n",
       "  <tbody>\n",
       "    <tr>\n",
       "      <th id=\"T_72b58_level0_row0\" class=\"row_heading level0 row0\" >43</th>\n",
       "      <td id=\"T_72b58_row0_col0\" class=\"data row0 col0\" >file \"df1.xlsx\" already exists. data in sheet \"data2\" will be overwritten</td>\n",
       "      <td id=\"T_72b58_row0_col1\" class=\"data row0 col1\" >df.save()</td>\n",
       "      <td id=\"T_72b58_row0_col2\" class=\"data row0 col2\" >Warning</td>\n",
       "      <td id=\"T_72b58_row0_col3\" class=\"data row0 col3\" >2024-07-16 11:07:52.884688</td>\n",
       "    </tr>\n",
       "  </tbody>\n",
       "</table>\n"
      ],
      "text/plain": [
       "<pandas.io.formats.style.Styler at 0x2bebcad5190>"
      ]
     },
     "metadata": {},
     "output_type": "display_data"
    },
    {
     "data": {
      "text/html": [
       "<style type=\"text/css\">\n",
       "#T_81de4_row0_col0, #T_81de4_row0_col1, #T_81de4_row0_col2, #T_81de4_row0_col3 {\n",
       "  background-color: #f7d67c;\n",
       "}\n",
       "</style>\n",
       "<table id=\"T_81de4\">\n",
       "  <thead>\n",
       "  </thead>\n",
       "  <tbody>\n",
       "    <tr>\n",
       "      <th id=\"T_81de4_level0_row0\" class=\"row_heading level0 row0\" >44</th>\n",
       "      <td id=\"T_81de4_row0_col0\" class=\"data row0 col0\" >archive file \"c:\\Users\\MartinVölkl-GouyaIns\\OneDrive - Gouya Insights\\Desktop\\qplib_dev/archive/df1_2024_07_16.xlsx\" already exists. data in sheet \"data2\" will be overwritten</td>\n",
       "      <td id=\"T_81de4_row0_col1\" class=\"data row0 col1\" >df.save()</td>\n",
       "      <td id=\"T_81de4_row0_col2\" class=\"data row0 col2\" >Warning</td>\n",
       "      <td id=\"T_81de4_row0_col3\" class=\"data row0 col3\" >2024-07-16 11:07:52.921220</td>\n",
       "    </tr>\n",
       "  </tbody>\n",
       "</table>\n"
      ],
      "text/plain": [
       "<pandas.io.formats.style.Styler at 0x2bebcaf8170>"
      ]
     },
     "metadata": {},
     "output_type": "display_data"
    },
    {
     "name": "stdout",
     "output_type": "stream",
     "text": [
      "passed test for saving and loading to and from a specific sheet\n"
     ]
    },
    {
     "data": {
      "text/html": [
       "<style type=\"text/css\">\n",
       "#T_7cdf5_row0_col0, #T_7cdf5_row0_col1, #T_7cdf5_row0_col2, #T_7cdf5_row0_col3 {\n",
       "  background-color: #f7d67c;\n",
       "}\n",
       "</style>\n",
       "<table id=\"T_7cdf5\">\n",
       "  <thead>\n",
       "  </thead>\n",
       "  <tbody>\n",
       "    <tr>\n",
       "      <th id=\"T_7cdf5_level0_row0\" class=\"row_heading level0 row0\" >45</th>\n",
       "      <td id=\"T_7cdf5_row0_col0\" class=\"data row0 col0\" >file \"df1.xlsx\" already exists. data in sheet \"data1\" will be overwritten</td>\n",
       "      <td id=\"T_7cdf5_row0_col1\" class=\"data row0 col1\" >df.save()</td>\n",
       "      <td id=\"T_7cdf5_row0_col2\" class=\"data row0 col2\" >Warning</td>\n",
       "      <td id=\"T_7cdf5_row0_col3\" class=\"data row0 col3\" >2024-07-16 11:07:52.987588</td>\n",
       "    </tr>\n",
       "  </tbody>\n",
       "</table>\n"
      ],
      "text/plain": [
       "<pandas.io.formats.style.Styler at 0x2bebcb75bb0>"
      ]
     },
     "metadata": {},
     "output_type": "display_data"
    },
    {
     "data": {
      "text/html": [
       "<style type=\"text/css\">\n",
       "#T_650aa_row0_col0, #T_650aa_row0_col1, #T_650aa_row0_col2, #T_650aa_row0_col3 {\n",
       "  background-color: #f7d67c;\n",
       "}\n",
       "</style>\n",
       "<table id=\"T_650aa\">\n",
       "  <thead>\n",
       "  </thead>\n",
       "  <tbody>\n",
       "    <tr>\n",
       "      <th id=\"T_650aa_level0_row0\" class=\"row_heading level0 row0\" >46</th>\n",
       "      <td id=\"T_650aa_row0_col0\" class=\"data row0 col0\" >archive file \"c:\\Users\\MartinVölkl-GouyaIns\\OneDrive - Gouya Insights\\Desktop\\qplib_dev/archive/df1_2024_07_16.xlsx\" already exists. data in sheet \"data1\" will be overwritten</td>\n",
       "      <td id=\"T_650aa_row0_col1\" class=\"data row0 col1\" >df.save()</td>\n",
       "      <td id=\"T_650aa_row0_col2\" class=\"data row0 col2\" >Warning</td>\n",
       "      <td id=\"T_650aa_row0_col3\" class=\"data row0 col3\" >2024-07-16 11:07:53.029982</td>\n",
       "    </tr>\n",
       "  </tbody>\n",
       "</table>\n"
      ],
      "text/plain": [
       "<pandas.io.formats.style.Styler at 0x2bebcd4b590>"
      ]
     },
     "metadata": {},
     "output_type": "display_data"
    },
    {
     "name": "stdout",
     "output_type": "stream",
     "text": [
      "passed test for overwriting sheets\n"
     ]
    },
    {
     "data": {
      "text/html": [
       "<style type=\"text/css\">\n",
       "#T_b4ece_row0_col0, #T_b4ece_row0_col1, #T_b4ece_row0_col2, #T_b4ece_row0_col3 {\n",
       "  background-color: #f7d67c;\n",
       "}\n",
       "</style>\n",
       "<table id=\"T_b4ece\">\n",
       "  <thead>\n",
       "  </thead>\n",
       "  <tbody>\n",
       "    <tr>\n",
       "      <th id=\"T_b4ece_level0_row0\" class=\"row_heading level0 row0\" >47</th>\n",
       "      <td id=\"T_b4ece_row0_col0\" class=\"data row0 col0\" >file \"df1.xlsx\" already exists. data in sheet \"data1\" will be overwritten</td>\n",
       "      <td id=\"T_b4ece_row0_col1\" class=\"data row0 col1\" >df.save()</td>\n",
       "      <td id=\"T_b4ece_row0_col2\" class=\"data row0 col2\" >Warning</td>\n",
       "      <td id=\"T_b4ece_row0_col3\" class=\"data row0 col3\" >2024-07-16 11:07:53.085979</td>\n",
       "    </tr>\n",
       "  </tbody>\n",
       "</table>\n"
      ],
      "text/plain": [
       "<pandas.io.formats.style.Styler at 0x2bebcd4b0b0>"
      ]
     },
     "metadata": {},
     "output_type": "display_data"
    },
    {
     "data": {
      "text/html": [
       "<style type=\"text/css\">\n",
       "#T_380b1_row0_col0, #T_380b1_row0_col1, #T_380b1_row0_col2, #T_380b1_row0_col3 {\n",
       "  background-color: #f7d67c;\n",
       "}\n",
       "</style>\n",
       "<table id=\"T_380b1\">\n",
       "  <thead>\n",
       "  </thead>\n",
       "  <tbody>\n",
       "    <tr>\n",
       "      <th id=\"T_380b1_level0_row0\" class=\"row_heading level0 row0\" >48</th>\n",
       "      <td id=\"T_380b1_row0_col0\" class=\"data row0 col0\" >archive file \"c:\\Users\\MartinVölkl-GouyaIns\\OneDrive - Gouya Insights\\Desktop\\qplib_dev/archive/df1_2024_07_16.xlsx\" already exists. data in sheet \"data1\" will be overwritten</td>\n",
       "      <td id=\"T_380b1_row0_col1\" class=\"data row0 col1\" >df.save()</td>\n",
       "      <td id=\"T_380b1_row0_col2\" class=\"data row0 col2\" >Warning</td>\n",
       "      <td id=\"T_380b1_row0_col3\" class=\"data row0 col3\" >2024-07-16 11:07:53.122553</td>\n",
       "    </tr>\n",
       "  </tbody>\n",
       "</table>\n"
      ],
      "text/plain": [
       "<pandas.io.formats.style.Styler at 0x2bebcd4b4d0>"
      ]
     },
     "metadata": {},
     "output_type": "display_data"
    },
    {
     "data": {
      "text/html": [
       "<style type=\"text/css\">\n",
       "#T_1a84f_row0_col0, #T_1a84f_row0_col1, #T_1a84f_row0_col2, #T_1a84f_row0_col3 {\n",
       "  background-color: #f7d67c;\n",
       "}\n",
       "</style>\n",
       "<table id=\"T_1a84f\">\n",
       "  <thead>\n",
       "  </thead>\n",
       "  <tbody>\n",
       "    <tr>\n",
       "      <th id=\"T_1a84f_level0_row0\" class=\"row_heading level0 row0\" >49</th>\n",
       "      <td id=\"T_1a84f_row0_col0\" class=\"data row0 col0\" >file \"df1.xlsx\" already exists. data in sheet \"data1\" will be overwritten</td>\n",
       "      <td id=\"T_1a84f_row0_col1\" class=\"data row0 col1\" >df.save()</td>\n",
       "      <td id=\"T_1a84f_row0_col2\" class=\"data row0 col2\" >Warning</td>\n",
       "      <td id=\"T_1a84f_row0_col3\" class=\"data row0 col3\" >2024-07-16 11:07:53.167949</td>\n",
       "    </tr>\n",
       "  </tbody>\n",
       "</table>\n"
      ],
      "text/plain": [
       "<pandas.io.formats.style.Styler at 0x2bebcad3170>"
      ]
     },
     "metadata": {},
     "output_type": "display_data"
    },
    {
     "data": {
      "text/html": [
       "<style type=\"text/css\">\n",
       "#T_b5e5b_row0_col0, #T_b5e5b_row0_col1, #T_b5e5b_row0_col2, #T_b5e5b_row0_col3 {\n",
       "  background-color: #f7d67c;\n",
       "}\n",
       "</style>\n",
       "<table id=\"T_b5e5b\">\n",
       "  <thead>\n",
       "  </thead>\n",
       "  <tbody>\n",
       "    <tr>\n",
       "      <th id=\"T_b5e5b_level0_row0\" class=\"row_heading level0 row0\" >50</th>\n",
       "      <td id=\"T_b5e5b_row0_col0\" class=\"data row0 col0\" >archive file \"c:\\Users\\MartinVölkl-GouyaIns\\OneDrive - Gouya Insights\\Desktop\\qplib_dev/archive/df1_2024_07_16.xlsx\" already exists. data in sheet \"data1\" will be overwritten</td>\n",
       "      <td id=\"T_b5e5b_row0_col1\" class=\"data row0 col1\" >df.save()</td>\n",
       "      <td id=\"T_b5e5b_row0_col2\" class=\"data row0 col2\" >Warning</td>\n",
       "      <td id=\"T_b5e5b_row0_col3\" class=\"data row0 col3\" >2024-07-16 11:07:53.210832</td>\n",
       "    </tr>\n",
       "  </tbody>\n",
       "</table>\n"
      ],
      "text/plain": [
       "<pandas.io.formats.style.Styler at 0x2bebcaf4c50>"
      ]
     },
     "metadata": {},
     "output_type": "display_data"
    },
    {
     "name": "stdout",
     "output_type": "stream",
     "text": [
      "passed test for archiving file\n"
     ]
    },
    {
     "data": {
      "text/html": [
       "<style type=\"text/css\">\n",
       "#T_1cad9_row0_col0, #T_1cad9_row0_col1, #T_1cad9_row0_col2, #T_1cad9_row0_col3 {\n",
       "  background-color: #f7d67c;\n",
       "}\n",
       "</style>\n",
       "<table id=\"T_1cad9\">\n",
       "  <thead>\n",
       "  </thead>\n",
       "  <tbody>\n",
       "    <tr>\n",
       "      <th id=\"T_1cad9_level0_row0\" class=\"row_heading level0 row0\" >51</th>\n",
       "      <td id=\"T_1cad9_row0_col0\" class=\"data row0 col0\" >file \"test/df1.xlsx\" already exists. data in sheet \"data1\" will be overwritten</td>\n",
       "      <td id=\"T_1cad9_row0_col1\" class=\"data row0 col1\" >df.save()</td>\n",
       "      <td id=\"T_1cad9_row0_col2\" class=\"data row0 col2\" >Warning</td>\n",
       "      <td id=\"T_1cad9_row0_col3\" class=\"data row0 col3\" >2024-07-16 11:07:53.254105</td>\n",
       "    </tr>\n",
       "  </tbody>\n",
       "</table>\n"
      ],
      "text/plain": [
       "<pandas.io.formats.style.Styler at 0x2bebcd34e30>"
      ]
     },
     "metadata": {},
     "output_type": "display_data"
    },
    {
     "data": {
      "text/html": [
       "<style type=\"text/css\">\n",
       "#T_d946e_row0_col0, #T_d946e_row0_col1, #T_d946e_row0_col2, #T_d946e_row0_col3 {\n",
       "  background-color: #c0e7b0;\n",
       "}\n",
       "</style>\n",
       "<table id=\"T_d946e\">\n",
       "  <thead>\n",
       "  </thead>\n",
       "  <tbody>\n",
       "    <tr>\n",
       "      <th id=\"T_d946e_level0_row0\" class=\"row_heading level0 row0\" >52</th>\n",
       "      <td id=\"T_d946e_row0_col0\" class=\"data row0 col0\" >archiving df to \"test/archive/df1_2024_07_16.xlsx\" in sheet \"data1\"</td>\n",
       "      <td id=\"T_d946e_row0_col1\" class=\"data row0 col1\" >df.save()</td>\n",
       "      <td id=\"T_d946e_row0_col2\" class=\"data row0 col2\" >info</td>\n",
       "      <td id=\"T_d946e_row0_col3\" class=\"data row0 col3\" >2024-07-16 11:07:53.284795</td>\n",
       "    </tr>\n",
       "  </tbody>\n",
       "</table>\n"
      ],
      "text/plain": [
       "<pandas.io.formats.style.Styler at 0x2bebcb041d0>"
      ]
     },
     "metadata": {},
     "output_type": "display_data"
    },
    {
     "name": "stdout",
     "output_type": "stream",
     "text": [
      "passed test for archiving in nested folder\n"
     ]
    },
    {
     "data": {
      "text/html": [
       "<style type=\"text/css\">\n",
       "#T_35ac9_row0_col0, #T_35ac9_row0_col1, #T_35ac9_row0_col2, #T_35ac9_row0_col3 {\n",
       "  background-color: #f7d67c;\n",
       "}\n",
       "</style>\n",
       "<table id=\"T_35ac9\">\n",
       "  <thead>\n",
       "  </thead>\n",
       "  <tbody>\n",
       "    <tr>\n",
       "      <th id=\"T_35ac9_level0_row0\" class=\"row_heading level0 row0\" >53</th>\n",
       "      <td id=\"T_35ac9_row0_col0\" class=\"data row0 col0\" >file \"test/df1.xlsx\" already exists. data in sheet \"data1\" will be overwritten</td>\n",
       "      <td id=\"T_35ac9_row0_col1\" class=\"data row0 col1\" >df.save()</td>\n",
       "      <td id=\"T_35ac9_row0_col2\" class=\"data row0 col2\" >Warning</td>\n",
       "      <td id=\"T_35ac9_row0_col3\" class=\"data row0 col3\" >2024-07-16 11:07:53.322404</td>\n",
       "    </tr>\n",
       "  </tbody>\n",
       "</table>\n"
      ],
      "text/plain": [
       "<pandas.io.formats.style.Styler at 0x2bebcad2a80>"
      ]
     },
     "metadata": {},
     "output_type": "display_data"
    },
    {
     "data": {
      "text/html": [
       "<style type=\"text/css\">\n",
       "#T_71f90_row0_col0, #T_71f90_row0_col1, #T_71f90_row0_col2, #T_71f90_row0_col3 {\n",
       "  background-color: #c0e7b0;\n",
       "}\n",
       "</style>\n",
       "<table id=\"T_71f90\">\n",
       "  <thead>\n",
       "  </thead>\n",
       "  <tbody>\n",
       "    <tr>\n",
       "      <th id=\"T_71f90_level0_row0\" class=\"row_heading level0 row0\" >54</th>\n",
       "      <td id=\"T_71f90_row0_col0\" class=\"data row0 col0\" >archiving df to \"test/archive/df1_16_07_2024.xlsx\" in sheet \"data1\"</td>\n",
       "      <td id=\"T_71f90_row0_col1\" class=\"data row0 col1\" >df.save()</td>\n",
       "      <td id=\"T_71f90_row0_col2\" class=\"data row0 col2\" >info</td>\n",
       "      <td id=\"T_71f90_row0_col3\" class=\"data row0 col3\" >2024-07-16 11:07:53.361545</td>\n",
       "    </tr>\n",
       "  </tbody>\n",
       "</table>\n"
      ],
      "text/plain": [
       "<pandas.io.formats.style.Styler at 0x2bebcd83560>"
      ]
     },
     "metadata": {},
     "output_type": "display_data"
    },
    {
     "name": "stdout",
     "output_type": "stream",
     "text": [
      "passed test for archiving with different date format\n"
     ]
    },
    {
     "data": {
      "text/html": [
       "<style type=\"text/css\">\n",
       "#T_ca812_row0_col0, #T_ca812_row0_col1, #T_ca812_row0_col2, #T_ca812_row0_col3 {\n",
       "  background-color: #c0e7b0;\n",
       "}\n",
       "</style>\n",
       "<table id=\"T_ca812\">\n",
       "  <thead>\n",
       "  </thead>\n",
       "  <tbody>\n",
       "    <tr>\n",
       "      <th id=\"T_ca812_level0_row0\" class=\"row_heading level0 row0\" >55</th>\n",
       "      <td id=\"T_ca812_row0_col0\" class=\"data row0 col0\" >no archive folder found. looking for most recent file in \"archive\" instead</td>\n",
       "      <td id=\"T_ca812_row0_col1\" class=\"data row0 col1\" >df.load()</td>\n",
       "      <td id=\"T_ca812_row0_col2\" class=\"data row0 col2\" >info</td>\n",
       "      <td id=\"T_ca812_row0_col3\" class=\"data row0 col3\" >2024-07-16 11:07:53.594370</td>\n",
       "    </tr>\n",
       "  </tbody>\n",
       "</table>\n"
      ],
      "text/plain": [
       "<pandas.io.formats.style.Styler at 0x2bebcad2120>"
      ]
     },
     "metadata": {},
     "output_type": "display_data"
    },
    {
     "data": {
      "text/html": [
       "<style type=\"text/css\">\n",
       "#T_adc17_row0_col0, #T_adc17_row0_col1, #T_adc17_row0_col2, #T_adc17_row0_col3 {\n",
       "  background-color: #c0e7b0;\n",
       "}\n",
       "</style>\n",
       "<table id=\"T_adc17\">\n",
       "  <thead>\n",
       "  </thead>\n",
       "  <tbody>\n",
       "    <tr>\n",
       "      <th id=\"T_adc17_level0_row0\" class=\"row_heading level0 row0\" >56</th>\n",
       "      <td id=\"T_adc17_row0_col0\" class=\"data row0 col0\" >loading \"archive/df_2024_07_16.xlsx\"</td>\n",
       "      <td id=\"T_adc17_row0_col1\" class=\"data row0 col1\" >df.load()</td>\n",
       "      <td id=\"T_adc17_row0_col2\" class=\"data row0 col2\" >info</td>\n",
       "      <td id=\"T_adc17_row0_col3\" class=\"data row0 col3\" >2024-07-16 11:07:53.603885</td>\n",
       "    </tr>\n",
       "  </tbody>\n",
       "</table>\n"
      ],
      "text/plain": [
       "<pandas.io.formats.style.Styler at 0x2bebcad2120>"
      ]
     },
     "metadata": {},
     "output_type": "display_data"
    },
    {
     "name": "stdout",
     "output_type": "stream",
     "text": [
      "passed test for loading most recent file\n"
     ]
    },
    {
     "data": {
      "text/html": [
       "<style type=\"text/css\">\n",
       "#T_fb152_row0_col0, #T_fb152_row0_col1, #T_fb152_row0_col2, #T_fb152_row0_col3 {\n",
       "  background-color: #c0e7b0;\n",
       "}\n",
       "</style>\n",
       "<table id=\"T_fb152\">\n",
       "  <thead>\n",
       "  </thead>\n",
       "  <tbody>\n",
       "    <tr>\n",
       "      <th id=\"T_fb152_level0_row0\" class=\"row_heading level0 row0\" >57</th>\n",
       "      <td id=\"T_fb152_row0_col0\" class=\"data row0 col0\" >no archive folder found. looking for most recent file in \"archive\" instead</td>\n",
       "      <td id=\"T_fb152_row0_col1\" class=\"data row0 col1\" >df.load()</td>\n",
       "      <td id=\"T_fb152_row0_col2\" class=\"data row0 col2\" >info</td>\n",
       "      <td id=\"T_fb152_row0_col3\" class=\"data row0 col3\" >2024-07-16 11:07:53.620966</td>\n",
       "    </tr>\n",
       "  </tbody>\n",
       "</table>\n"
      ],
      "text/plain": [
       "<pandas.io.formats.style.Styler at 0x2bebb42bf20>"
      ]
     },
     "metadata": {},
     "output_type": "display_data"
    },
    {
     "data": {
      "text/html": [
       "<style type=\"text/css\">\n",
       "#T_6e260_row0_col0, #T_6e260_row0_col1, #T_6e260_row0_col2, #T_6e260_row0_col3 {\n",
       "  background-color: #c0e7b0;\n",
       "}\n",
       "</style>\n",
       "<table id=\"T_6e260\">\n",
       "  <thead>\n",
       "  </thead>\n",
       "  <tbody>\n",
       "    <tr>\n",
       "      <th id=\"T_6e260_level0_row0\" class=\"row_heading level0 row0\" >58</th>\n",
       "      <td id=\"T_6e260_row0_col0\" class=\"data row0 col0\" >loading \"archive/df_2024_07_16.xlsx\"</td>\n",
       "      <td id=\"T_6e260_row0_col1\" class=\"data row0 col1\" >df.load()</td>\n",
       "      <td id=\"T_6e260_row0_col2\" class=\"data row0 col2\" >info</td>\n",
       "      <td id=\"T_6e260_row0_col3\" class=\"data row0 col3\" >2024-07-16 11:07:53.628414</td>\n",
       "    </tr>\n",
       "  </tbody>\n",
       "</table>\n"
      ],
      "text/plain": [
       "<pandas.io.formats.style.Styler at 0x2bebcd34230>"
      ]
     },
     "metadata": {},
     "output_type": "display_data"
    },
    {
     "name": "stdout",
     "output_type": "stream",
     "text": [
      "passed test for loading most recent file explicitly\n"
     ]
    },
    {
     "data": {
      "text/html": [
       "<style type=\"text/css\">\n",
       "#T_29d54_row0_col0, #T_29d54_row0_col1, #T_29d54_row0_col2, #T_29d54_row0_col3 {\n",
       "  background-color: #c0e7b0;\n",
       "}\n",
       "</style>\n",
       "<table id=\"T_29d54\">\n",
       "  <thead>\n",
       "  </thead>\n",
       "  <tbody>\n",
       "    <tr>\n",
       "      <th id=\"T_29d54_level0_row0\" class=\"row_heading level0 row0\" >59</th>\n",
       "      <td id=\"T_29d54_row0_col0\" class=\"data row0 col0\" >no archive folder found. looking for most recent file in \"archive\" instead</td>\n",
       "      <td id=\"T_29d54_row0_col1\" class=\"data row0 col1\" >df.load()</td>\n",
       "      <td id=\"T_29d54_row0_col2\" class=\"data row0 col2\" >info</td>\n",
       "      <td id=\"T_29d54_row0_col3\" class=\"data row0 col3\" >2024-07-16 11:07:53.778062</td>\n",
       "    </tr>\n",
       "  </tbody>\n",
       "</table>\n"
      ],
      "text/plain": [
       "<pandas.io.formats.style.Styler at 0x2bebccb4fb0>"
      ]
     },
     "metadata": {},
     "output_type": "display_data"
    },
    {
     "data": {
      "text/html": [
       "<style type=\"text/css\">\n",
       "#T_b18a7_row0_col0, #T_b18a7_row0_col1, #T_b18a7_row0_col2, #T_b18a7_row0_col3 {\n",
       "  background-color: #c0e7b0;\n",
       "}\n",
       "</style>\n",
       "<table id=\"T_b18a7\">\n",
       "  <thead>\n",
       "  </thead>\n",
       "  <tbody>\n",
       "    <tr>\n",
       "      <th id=\"T_b18a7_level0_row0\" class=\"row_heading level0 row0\" >60</th>\n",
       "      <td id=\"T_b18a7_row0_col0\" class=\"data row0 col0\" >loading \"archive/df_16_07_2024.xlsx\"</td>\n",
       "      <td id=\"T_b18a7_row0_col1\" class=\"data row0 col1\" >df.load()</td>\n",
       "      <td id=\"T_b18a7_row0_col2\" class=\"data row0 col2\" >info</td>\n",
       "      <td id=\"T_b18a7_row0_col3\" class=\"data row0 col3\" >2024-07-16 11:07:53.789072</td>\n",
       "    </tr>\n",
       "  </tbody>\n",
       "</table>\n"
      ],
      "text/plain": [
       "<pandas.io.formats.style.Styler at 0x2bebcbd97f0>"
      ]
     },
     "metadata": {},
     "output_type": "display_data"
    },
    {
     "name": "stdout",
     "output_type": "stream",
     "text": [
      "passed test for loading most recent file with different date format\n"
     ]
    },
    {
     "data": {
      "text/html": [
       "<style type=\"text/css\">\n",
       "#T_45819_row0_col0, #T_45819_row0_col1, #T_45819_row0_col2, #T_45819_row0_col3 {\n",
       "  background-color: #c0e7b0;\n",
       "}\n",
       "</style>\n",
       "<table id=\"T_45819\">\n",
       "  <thead>\n",
       "  </thead>\n",
       "  <tbody>\n",
       "    <tr>\n",
       "      <th id=\"T_45819_level0_row0\" class=\"row_heading level0 row0\" >61</th>\n",
       "      <td id=\"T_45819_row0_col0\" class=\"data row0 col0\" >no archive folder found. looking for most recent file in \"archive\" instead</td>\n",
       "      <td id=\"T_45819_row0_col1\" class=\"data row0 col1\" >df.load()</td>\n",
       "      <td id=\"T_45819_row0_col2\" class=\"data row0 col2\" >info</td>\n",
       "      <td id=\"T_45819_row0_col3\" class=\"data row0 col3\" >2024-07-16 11:07:53.876045</td>\n",
       "    </tr>\n",
       "  </tbody>\n",
       "</table>\n"
      ],
      "text/plain": [
       "<pandas.io.formats.style.Styler at 0x2bebcbd97f0>"
      ]
     },
     "metadata": {},
     "output_type": "display_data"
    },
    {
     "data": {
      "text/html": [
       "<style type=\"text/css\">\n",
       "#T_f82a7_row0_col0, #T_f82a7_row0_col1, #T_f82a7_row0_col2, #T_f82a7_row0_col3 {\n",
       "  background-color: #c0e7b0;\n",
       "}\n",
       "</style>\n",
       "<table id=\"T_f82a7\">\n",
       "  <thead>\n",
       "  </thead>\n",
       "  <tbody>\n",
       "    <tr>\n",
       "      <th id=\"T_f82a7_level0_row0\" class=\"row_heading level0 row0\" >62</th>\n",
       "      <td id=\"T_f82a7_row0_col0\" class=\"data row0 col0\" >loading \"archive/df_2000_01_01.xlsx\"</td>\n",
       "      <td id=\"T_f82a7_row0_col1\" class=\"data row0 col1\" >df.load()</td>\n",
       "      <td id=\"T_f82a7_row0_col2\" class=\"data row0 col2\" >info</td>\n",
       "      <td id=\"T_f82a7_row0_col3\" class=\"data row0 col3\" >2024-07-16 11:07:53.884683</td>\n",
       "    </tr>\n",
       "  </tbody>\n",
       "</table>\n"
      ],
      "text/plain": [
       "<pandas.io.formats.style.Styler at 0x2bebcd8ca40>"
      ]
     },
     "metadata": {},
     "output_type": "display_data"
    },
    {
     "name": "stdout",
     "output_type": "stream",
     "text": [
      "passed test for loading most recent file from before specific date\n"
     ]
    },
    {
     "data": {
      "text/html": [
       "<style type=\"text/css\">\n",
       "#T_3bc35_row0_col0, #T_3bc35_row0_col1, #T_3bc35_row0_col2, #T_3bc35_row0_col3 {\n",
       "  background-color: #c0e7b0;\n",
       "}\n",
       "</style>\n",
       "<table id=\"T_3bc35\">\n",
       "  <thead>\n",
       "  </thead>\n",
       "  <tbody>\n",
       "    <tr>\n",
       "      <th id=\"T_3bc35_level0_row0\" class=\"row_heading level0 row0\" >63</th>\n",
       "      <td id=\"T_3bc35_row0_col0\" class=\"data row0 col0\" >no archive folder found. looking for most recent file in \"archive\" instead</td>\n",
       "      <td id=\"T_3bc35_row0_col1\" class=\"data row0 col1\" >df.load()</td>\n",
       "      <td id=\"T_3bc35_row0_col2\" class=\"data row0 col2\" >info</td>\n",
       "      <td id=\"T_3bc35_row0_col3\" class=\"data row0 col3\" >2024-07-16 11:07:53.899864</td>\n",
       "    </tr>\n",
       "  </tbody>\n",
       "</table>\n"
      ],
      "text/plain": [
       "<pandas.io.formats.style.Styler at 0x2bebb2fb6e0>"
      ]
     },
     "metadata": {},
     "output_type": "display_data"
    },
    {
     "data": {
      "text/html": [
       "<style type=\"text/css\">\n",
       "#T_e3878_row0_col0, #T_e3878_row0_col1, #T_e3878_row0_col2, #T_e3878_row0_col3 {\n",
       "  background-color: #c0e7b0;\n",
       "}\n",
       "</style>\n",
       "<table id=\"T_e3878\">\n",
       "  <thead>\n",
       "  </thead>\n",
       "  <tbody>\n",
       "    <tr>\n",
       "      <th id=\"T_e3878_level0_row0\" class=\"row_heading level0 row0\" >64</th>\n",
       "      <td id=\"T_e3878_row0_col0\" class=\"data row0 col0\" >loading \"archive/df_2023_06_12.xlsx\"</td>\n",
       "      <td id=\"T_e3878_row0_col1\" class=\"data row0 col1\" >df.load()</td>\n",
       "      <td id=\"T_e3878_row0_col2\" class=\"data row0 col2\" >info</td>\n",
       "      <td id=\"T_e3878_row0_col3\" class=\"data row0 col3\" >2024-07-16 11:07:53.908496</td>\n",
       "    </tr>\n",
       "  </tbody>\n",
       "</table>\n"
      ],
      "text/plain": [
       "<pandas.io.formats.style.Styler at 0x2bebcd1f980>"
      ]
     },
     "metadata": {},
     "output_type": "display_data"
    },
    {
     "name": "stdout",
     "output_type": "stream",
     "text": [
      "passed test for loading most recent file from before this year\n"
     ]
    },
    {
     "data": {
      "text/html": [
       "<style type=\"text/css\">\n",
       "#T_b3056_row0_col0, #T_b3056_row0_col1, #T_b3056_row0_col2, #T_b3056_row0_col3 {\n",
       "  background-color: #c0e7b0;\n",
       "}\n",
       "</style>\n",
       "<table id=\"T_b3056\">\n",
       "  <thead>\n",
       "  </thead>\n",
       "  <tbody>\n",
       "    <tr>\n",
       "      <th id=\"T_b3056_level0_row0\" class=\"row_heading level0 row0\" >65</th>\n",
       "      <td id=\"T_b3056_row0_col0\" class=\"data row0 col0\" >no archive folder found. looking for most recent file in \"archive\" instead</td>\n",
       "      <td id=\"T_b3056_row0_col1\" class=\"data row0 col1\" >df.load()</td>\n",
       "      <td id=\"T_b3056_row0_col2\" class=\"data row0 col2\" >info</td>\n",
       "      <td id=\"T_b3056_row0_col3\" class=\"data row0 col3\" >2024-07-16 11:07:53.990589</td>\n",
       "    </tr>\n",
       "  </tbody>\n",
       "</table>\n"
      ],
      "text/plain": [
       "<pandas.io.formats.style.Styler at 0x2bebcaf8230>"
      ]
     },
     "metadata": {},
     "output_type": "display_data"
    },
    {
     "data": {
      "text/html": [
       "<style type=\"text/css\">\n",
       "#T_d6611_row0_col0, #T_d6611_row0_col1, #T_d6611_row0_col2, #T_d6611_row0_col3 {\n",
       "  background-color: #c0e7b0;\n",
       "}\n",
       "</style>\n",
       "<table id=\"T_d6611\">\n",
       "  <thead>\n",
       "  </thead>\n",
       "  <tbody>\n",
       "    <tr>\n",
       "      <th id=\"T_d6611_level0_row0\" class=\"row_heading level0 row0\" >66</th>\n",
       "      <td id=\"T_d6611_row0_col0\" class=\"data row0 col0\" >loading \"archive/df_2024_06_06.xlsx\"</td>\n",
       "      <td id=\"T_d6611_row0_col1\" class=\"data row0 col1\" >df.load()</td>\n",
       "      <td id=\"T_d6611_row0_col2\" class=\"data row0 col2\" >info</td>\n",
       "      <td id=\"T_d6611_row0_col3\" class=\"data row0 col3\" >2024-07-16 11:07:54.001256</td>\n",
       "    </tr>\n",
       "  </tbody>\n",
       "</table>\n"
      ],
      "text/plain": [
       "<pandas.io.formats.style.Styler at 0x2bebcaf8230>"
      ]
     },
     "metadata": {},
     "output_type": "display_data"
    },
    {
     "name": "stdout",
     "output_type": "stream",
     "text": [
      "passed test for loading most recent file from before this month\n"
     ]
    },
    {
     "data": {
      "text/html": [
       "<style type=\"text/css\">\n",
       "#T_3e01e_row0_col0, #T_3e01e_row0_col1, #T_3e01e_row0_col2, #T_3e01e_row0_col3 {\n",
       "  background-color: #c0e7b0;\n",
       "}\n",
       "</style>\n",
       "<table id=\"T_3e01e\">\n",
       "  <thead>\n",
       "  </thead>\n",
       "  <tbody>\n",
       "    <tr>\n",
       "      <th id=\"T_3e01e_level0_row0\" class=\"row_heading level0 row0\" >67</th>\n",
       "      <td id=\"T_3e01e_row0_col0\" class=\"data row0 col0\" >no archive folder found. looking for most recent file in \"archive\" instead</td>\n",
       "      <td id=\"T_3e01e_row0_col1\" class=\"data row0 col1\" >df.load()</td>\n",
       "      <td id=\"T_3e01e_row0_col2\" class=\"data row0 col2\" >info</td>\n",
       "      <td id=\"T_3e01e_row0_col3\" class=\"data row0 col3\" >2024-07-16 11:07:54.083266</td>\n",
       "    </tr>\n",
       "  </tbody>\n",
       "</table>\n"
      ],
      "text/plain": [
       "<pandas.io.formats.style.Styler at 0x2bebca9fb60>"
      ]
     },
     "metadata": {},
     "output_type": "display_data"
    },
    {
     "data": {
      "text/html": [
       "<style type=\"text/css\">\n",
       "#T_3f469_row0_col0, #T_3f469_row0_col1, #T_3f469_row0_col2, #T_3f469_row0_col3 {\n",
       "  background-color: #c0e7b0;\n",
       "}\n",
       "</style>\n",
       "<table id=\"T_3f469\">\n",
       "  <thead>\n",
       "  </thead>\n",
       "  <tbody>\n",
       "    <tr>\n",
       "      <th id=\"T_3f469_level0_row0\" class=\"row_heading level0 row0\" >68</th>\n",
       "      <td id=\"T_3f469_row0_col0\" class=\"data row0 col0\" >loading \"archive/df_2024_07_08.xlsx\"</td>\n",
       "      <td id=\"T_3f469_row0_col1\" class=\"data row0 col1\" >df.load()</td>\n",
       "      <td id=\"T_3f469_row0_col2\" class=\"data row0 col2\" >info</td>\n",
       "      <td id=\"T_3f469_row0_col3\" class=\"data row0 col3\" >2024-07-16 11:07:54.093510</td>\n",
       "    </tr>\n",
       "  </tbody>\n",
       "</table>\n"
      ],
      "text/plain": [
       "<pandas.io.formats.style.Styler at 0x2bebcd8f410>"
      ]
     },
     "metadata": {},
     "output_type": "display_data"
    },
    {
     "name": "stdout",
     "output_type": "stream",
     "text": [
      "passed test for loading most recent file from before this week\n"
     ]
    },
    {
     "data": {
      "text/html": [
       "<style type=\"text/css\">\n",
       "#T_91091_row0_col0, #T_91091_row0_col1, #T_91091_row0_col2, #T_91091_row0_col3 {\n",
       "  background-color: #c0e7b0;\n",
       "}\n",
       "</style>\n",
       "<table id=\"T_91091\">\n",
       "  <thead>\n",
       "  </thead>\n",
       "  <tbody>\n",
       "    <tr>\n",
       "      <th id=\"T_91091_level0_row0\" class=\"row_heading level0 row0\" >69</th>\n",
       "      <td id=\"T_91091_row0_col0\" class=\"data row0 col0\" >no archive folder found. looking for most recent file in \"archive\" instead</td>\n",
       "      <td id=\"T_91091_row0_col1\" class=\"data row0 col1\" >df.load()</td>\n",
       "      <td id=\"T_91091_row0_col2\" class=\"data row0 col2\" >info</td>\n",
       "      <td id=\"T_91091_row0_col3\" class=\"data row0 col3\" >2024-07-16 11:07:54.180485</td>\n",
       "    </tr>\n",
       "  </tbody>\n",
       "</table>\n"
      ],
      "text/plain": [
       "<pandas.io.formats.style.Styler at 0x2bebcd49f70>"
      ]
     },
     "metadata": {},
     "output_type": "display_data"
    },
    {
     "data": {
      "text/html": [
       "<style type=\"text/css\">\n",
       "#T_8575c_row0_col0, #T_8575c_row0_col1, #T_8575c_row0_col2, #T_8575c_row0_col3 {\n",
       "  background-color: #c0e7b0;\n",
       "}\n",
       "</style>\n",
       "<table id=\"T_8575c\">\n",
       "  <thead>\n",
       "  </thead>\n",
       "  <tbody>\n",
       "    <tr>\n",
       "      <th id=\"T_8575c_level0_row0\" class=\"row_heading level0 row0\" >70</th>\n",
       "      <td id=\"T_8575c_row0_col0\" class=\"data row0 col0\" >loading \"archive/df_2024_07_15.xlsx\"</td>\n",
       "      <td id=\"T_8575c_row0_col1\" class=\"data row0 col1\" >df.load()</td>\n",
       "      <td id=\"T_8575c_row0_col2\" class=\"data row0 col2\" >info</td>\n",
       "      <td id=\"T_8575c_row0_col3\" class=\"data row0 col3\" >2024-07-16 11:07:54.191743</td>\n",
       "    </tr>\n",
       "  </tbody>\n",
       "</table>\n"
      ],
      "text/plain": [
       "<pandas.io.formats.style.Styler at 0x2bebccd4230>"
      ]
     },
     "metadata": {},
     "output_type": "display_data"
    },
    {
     "name": "stdout",
     "output_type": "stream",
     "text": [
      "passed test for loading most recent file from before this day\n"
     ]
    },
    {
     "data": {
      "text/html": [
       "<style type=\"text/css\">\n",
       "#T_bcb6c_row0_col0, #T_bcb6c_row0_col1, #T_bcb6c_row0_col2, #T_bcb6c_row0_col3 {\n",
       "  background-color: #c0e7b0;\n",
       "}\n",
       "</style>\n",
       "<table id=\"T_bcb6c\">\n",
       "  <thead>\n",
       "  </thead>\n",
       "  <tbody>\n",
       "    <tr>\n",
       "      <th id=\"T_bcb6c_level0_row0\" class=\"row_heading level0 row0\" >71</th>\n",
       "      <td id=\"T_bcb6c_row0_col0\" class=\"data row0 col0\" >no archive folder found. looking for most recent file in \"archive\" instead</td>\n",
       "      <td id=\"T_bcb6c_row0_col1\" class=\"data row0 col1\" >df.load()</td>\n",
       "      <td id=\"T_bcb6c_row0_col2\" class=\"data row0 col2\" >info</td>\n",
       "      <td id=\"T_bcb6c_row0_col3\" class=\"data row0 col3\" >2024-07-16 11:07:54.206982</td>\n",
       "    </tr>\n",
       "  </tbody>\n",
       "</table>\n"
      ],
      "text/plain": [
       "<pandas.io.formats.style.Styler at 0x2bebcaf7770>"
      ]
     },
     "metadata": {},
     "output_type": "display_data"
    },
    {
     "data": {
      "text/html": [
       "<style type=\"text/css\">\n",
       "#T_6c4cd_row0_col0, #T_6c4cd_row0_col1, #T_6c4cd_row0_col2, #T_6c4cd_row0_col3 {\n",
       "  background-color: #c0e7b0;\n",
       "}\n",
       "</style>\n",
       "<table id=\"T_6c4cd\">\n",
       "  <thead>\n",
       "  </thead>\n",
       "  <tbody>\n",
       "    <tr>\n",
       "      <th id=\"T_6c4cd_level0_row0\" class=\"row_heading level0 row0\" >72</th>\n",
       "      <td id=\"T_6c4cd_row0_col0\" class=\"data row0 col0\" >loading \"archive/df_2024_07_15.xlsx\"</td>\n",
       "      <td id=\"T_6c4cd_row0_col1\" class=\"data row0 col1\" >df.load()</td>\n",
       "      <td id=\"T_6c4cd_row0_col2\" class=\"data row0 col2\" >info</td>\n",
       "      <td id=\"T_6c4cd_row0_col3\" class=\"data row0 col3\" >2024-07-16 11:07:54.219702</td>\n",
       "    </tr>\n",
       "  </tbody>\n",
       "</table>\n"
      ],
      "text/plain": [
       "<pandas.io.formats.style.Styler at 0x2bebcad7290>"
      ]
     },
     "metadata": {},
     "output_type": "display_data"
    },
    {
     "name": "stdout",
     "output_type": "stream",
     "text": [
      "passed test for loading most recent file from before this day\n"
     ]
    }
   ],
   "source": [
    "#remove old test files\n",
    "today1 = datetime.datetime.now().strftime('%Y_%m_%d')\n",
    "today2 = datetime.datetime.now().strftime('%d_%m_%Y')\n",
    "date0 = qp.date('2000_01_01').strftime('%Y_%m_%d')\n",
    "date1 = (datetime.datetime.now() - datetime.timedelta(days=400)).date().strftime('%Y_%m_%d')\n",
    "date2 = (datetime.datetime.now() - datetime.timedelta(days=40)).date().strftime('%Y_%m_%d')\n",
    "date3 = (datetime.datetime.now() - datetime.timedelta(days=8)).date().strftime('%Y_%m_%d')\n",
    "date4 = (datetime.datetime.now() - datetime.timedelta(days=1)).date().strftime('%Y_%m_%d')\n",
    "\n",
    "def clean():\n",
    "    files = [\n",
    "        'df.xlsx',\n",
    "        'df1.xlsx',\n",
    "\n",
    "        'test/df1.xlsx',\n",
    "        'test/df1b.xlsx',\n",
    "        'test/df2.xlsx',\n",
    "\n",
    "        f'archive/df1_{today1}.xlsx',\n",
    "        f'archive/df1_{today2}.xlsx',\n",
    "        f'archive/df1b_{today1}.xlsx',\n",
    "\n",
    "        f'archive/df_{today1}.xlsx',\n",
    "        f'archive/df_{today2}.xlsx',\n",
    "        f'archive/df_{date0}.xlsx',\n",
    "        f'archive/df_{date1}.xlsx',\n",
    "        f'archive/df_{date2}.xlsx',\n",
    "        f'archive/df_{date3}.xlsx',\n",
    "        f'archive/df_{date4}.xlsx',\n",
    "\n",
    "        f'test/archive/df1_{today1}.xlsx',\n",
    "        f'test/archive/df1b_{today1}.xlsx',\n",
    "        f'test/archive/df2_{today1}.xlsx',\n",
    "        ]\n",
    "\n",
    "    for file in files:\n",
    "        if os.path.isfile(file):\n",
    "            os.remove(file)\n",
    "            # print(f'removed file: {file}')\n",
    "\n",
    "    if os.path.isdir('test/archive'):\n",
    "        shutil.rmtree('test/archive')\n",
    "clean()\n",
    "\n",
    "\n",
    "\n",
    "df1 = pd.DataFrame({'a':[1]})\n",
    "df2 = pd.DataFrame({'a':[2]})\n",
    "df3 = pd.DataFrame({'a':[3]})\n",
    "df4 = pd.DataFrame({'a':[4]})\n",
    "\n",
    "\n",
    "#default\n",
    "df1.save()\n",
    "if qp.isfile('df.xlsx'):\n",
    "    print('passed test for default saving behaviour')\n",
    "else:\n",
    "    raise Exception(f'failed test for default saving behaviour')\n",
    "\n",
    "df1a = qp.load('df.xlsx')\n",
    "if df1a.equals(df1):\n",
    "    print('passed test for loading from default file')\n",
    "else:\n",
    "    raise Exception(f'failed test for loading from default file')\n",
    "\n",
    "\n",
    "\n",
    "\n",
    "#specific file\n",
    "df1.save('df1.xlsx')\n",
    "if qp.isfile('df1.xlsx'):\n",
    "    print('passed test for saving to a specific file')\n",
    "else:\n",
    "    raise Exception(f'failed test for saving to a specific file')\n",
    "\n",
    "df1b = qp.load('df1.xlsx')\n",
    "if df1b.equals(df1):\n",
    "    print('passed test for loading from a specific file')\n",
    "else:\n",
    "    raise Exception(f'failed test for loading from a specific file')\n",
    "\n",
    "\n",
    "\n",
    "\n",
    "#file in folder\n",
    "df1.save('test/df1.xlsx')\n",
    "if qp.isfile('test/df1.xlsx'):\n",
    "    print('passed test for saving to a specific file in folder')\n",
    "else:\n",
    "    raise Exception(f'failed test for saving to a specific file in folder')\n",
    "\n",
    "df1c = qp.load('test/df1.xlsx')\n",
    "if df1c.equals(df1):\n",
    "    print('passed test for loading from a specific file in folder')\n",
    "else:\n",
    "    raise Exception(f'failed test for loading from a specific file in folder')\n",
    "\n",
    "\n",
    "\n",
    "\n",
    "#specific sheet\n",
    "df1.save('df1.xlsx', sheet='data2')\n",
    "df1d = qp.load('df1.xlsx', sheet='data2')\n",
    "if df1d.equals(df1):\n",
    "    print('passed test for saving and loading to and from a specific sheet')\n",
    "else:\n",
    "    raise Exception(f'failed test for saving and loading to and from a specific sheet')\n",
    "\n",
    "\n",
    "\n",
    "\n",
    "#overwriting sheets\n",
    "df1old = qp.load('df1.xlsx')\n",
    "df2.save('df1.xlsx')\n",
    "df1new = qp.load('df1.xlsx')\n",
    "if df1old.loc[0, 'a'] == 1 and df1new.loc[0, 'a'] == 2:\n",
    "    print('passed test for overwriting sheets')\n",
    "else:\n",
    "    raise Exception(f'failed test for overwriting sheets')\n",
    "df1.save('df1.xlsx')  #restore previous state\n",
    "\n",
    "\n",
    "\n",
    "#archiving\n",
    "today = datetime.datetime.now().strftime('%Y_%m_%d')\n",
    "df1.save('df1')\n",
    "if qp.isfile(f'archive/df1_{today}.xlsx'):\n",
    "    print('passed test for archiving file')\n",
    "else:\n",
    "    raise Exception(f'failed test for archiving file')\n",
    "\n",
    "\n",
    "#archiving nested folder\n",
    "os.mkdir('test/archive')\n",
    "df1.save('test/df1')\n",
    "if qp.isfile(f'test/archive/df1_{today}.xlsx'):\n",
    "    print('passed test for archiving in nested folder')\n",
    "else:\n",
    "    raise Exception(f'failed test for archiving nested folder')\n",
    "\n",
    "\n",
    "\n",
    "\n",
    "\n",
    "#archiving with different date format\n",
    "today = datetime.datetime.now().strftime('%d_%m_%Y')\n",
    "df1.save('test/df1.xlsx', sheet='data1', datefmt='%d_%m_%Y')\n",
    "if qp.isfile(f'test/archive/df1_{today}.xlsx'):\n",
    "    print('passed test for archiving with different date format')\n",
    "else:\n",
    "    raise Exception(f'failed test for archiving with different date format')\n",
    "\n",
    "\n",
    "\n",
    "#most recent file\n",
    "if os.path.isfile(f'archive/df_{today2}.xlsx'):\n",
    "    os.remove(f'archive/df_{today2}.xlsx')\n",
    "pd.DataFrame({'a':[today1]}).to_excel(f'archive/df_{today1}.xlsx', index=False)\n",
    "pd.DataFrame({'a':[date1]}).to_excel(f'archive/df_{date1}.xlsx', index=False)\n",
    "\n",
    "if qp.load('archive/df', sheet='Sheet1', index=False).loc[0, 'a'] == today1:\n",
    "    print('passed test for loading most recent file')\n",
    "else:\n",
    "    raise Exception(f'failed test for loading most recent file')\n",
    "\n",
    "\n",
    "\n",
    "#most recent file version 2\n",
    "if qp.load('archive/df', sheet='Sheet1', before='now', index=False).loc[0, 'a'] == today1:\n",
    "    print('passed test for loading most recent file explicitly')\n",
    "else:\n",
    "    raise Exception(f'failed test for loading most recent file explicitly')\n",
    "\n",
    "\n",
    "\n",
    "#most recent file with different date format\n",
    "if os.path.isfile(f'archive/df_{today1}.xlsx'):\n",
    "    os.remove(f'archive/df_{today1}.xlsx')\n",
    "pd.DataFrame({'a':[today2]}).to_excel(f'archive/df_{today2}.xlsx', index=False)\n",
    "pd.DataFrame({'a':[date1]}).to_excel(f'archive/df_{date1}.xlsx', index=False)\n",
    "\n",
    "if qp.load('archive/df', sheet='Sheet1', index=False).loc[0, 'a'] == today2:\n",
    "    print('passed test for loading most recent file with different date format')\n",
    "else:\n",
    "    raise Exception(f'failed test for loading most recent file with different date format')\n",
    "\n",
    "\n",
    "\n",
    "#file before specific date\n",
    "pd.DataFrame({'a':[date0]}).to_excel(f'archive/df_{date0}.xlsx', index=False)\n",
    "if qp.load('archive/df', sheet='Sheet1', before='2000_01_02', index=False).loc[0, 'a'] == date0:\n",
    "    print('passed test for loading most recent file from before specific date')\n",
    "else:\n",
    "    raise Exception(f'failed test for loading most recent file from before specific date')\n",
    "\n",
    "\n",
    "#file before this year\n",
    "if qp.load('archive/df', sheet='Sheet1', before='this year', index=False).loc[0, 'a'] == date1:\n",
    "    print('passed test for loading most recent file from before this year')\n",
    "else:\n",
    "    raise Exception(f'failed test for loading most recent file from before this year')\n",
    "\n",
    "\n",
    "\n",
    "#file before this month\n",
    "pd.DataFrame({'a':[date2]}).to_excel(f'archive/df_{date2}.xlsx', index=False)\n",
    "if qp.load('archive/df', sheet='Sheet1', before='this month', index=False).loc[0, 'a'] == date2:\n",
    "    print('passed test for loading most recent file from before this month')\n",
    "else:\n",
    "    raise Exception(f'failed test for loading most recent file from before this month')\n",
    "\n",
    "\n",
    "\n",
    "#file before this week\n",
    "pd.DataFrame({'a':[date3]}).to_excel(f'archive/df_{date3}.xlsx', index=False)\n",
    "if qp.load('archive/df', sheet='Sheet1', before='this week', index=False).loc[0, 'a'] == date3:\n",
    "    print('passed test for loading most recent file from before this week')\n",
    "else:\n",
    "    raise Exception(f'failed test for loading most recent file from before this week')\n",
    "\n",
    "\n",
    "\n",
    "#file before this day\n",
    "pd.DataFrame({'a':[date4]}).to_excel(f'archive/df_{date4}.xlsx', index=False)\n",
    "if qp.load('archive/df', sheet='Sheet1', before='this day', index=False).loc[0, 'a'] == date4:\n",
    "    print('passed test for loading most recent file from before this day')\n",
    "else:\n",
    "    raise Exception(f'failed test for loading most recent file from before this day')\n",
    "\n",
    "\n",
    "\n",
    "#file before today\n",
    "if qp.load('archive/df', sheet='Sheet1', before='today', index=False).loc[0, 'a'] == date4:\n",
    "    print('passed test for loading most recent file from before this day')\n",
    "else:\n",
    "    raise Exception(f'failed test for loading most recent file from before this day')\n",
    "\n",
    "\n",
    "# df1.save('test/df3.xlsx', sheet='sheet2', archive='source', datefmt='%Y_%m_%d')\n",
    "# df1.save('test/df3.xlsx', sheet='sheet2', archive='destination', datefmt='%Y_%m_%d')\n",
    "# df1.save('df.xlsx', sheet='sheet2', archive='both', datefmt='%Y_%m_%d')"
   ]
  },
  {
   "cell_type": "markdown",
   "metadata": {},
   "source": [
    "# log()"
   ]
  },
  {
   "cell_type": "code",
   "execution_count": 35,
   "metadata": {},
   "outputs": [],
   "source": [
    "#wip"
   ]
  },
  {
   "cell_type": "markdown",
   "metadata": {},
   "source": [
    "# \"bashlike\" wrappers"
   ]
  },
  {
   "cell_type": "code",
   "execution_count": 36,
   "metadata": {},
   "outputs": [
    {
     "name": "stdout",
     "output_type": "stream",
     "text": [
      "passed test for non existing directory\n"
     ]
    },
    {
     "data": {
      "text/html": [
       "<style type=\"text/css\">\n",
       "#T_a99ae_row0_col0, #T_a99ae_row0_col1, #T_a99ae_row0_col2, #T_a99ae_row0_col3 {\n",
       "  background-color: #c0e7b0;\n",
       "}\n",
       "</style>\n",
       "<table id=\"T_a99ae\">\n",
       "  <thead>\n",
       "  </thead>\n",
       "  <tbody>\n",
       "    <tr>\n",
       "      <th id=\"T_a99ae_level0_row0\" class=\"row_heading level0 row0\" >73</th>\n",
       "      <td id=\"T_a99ae_row0_col0\" class=\"data row0 col0\" >created directory \"test/dir1\"</td>\n",
       "      <td id=\"T_a99ae_row0_col1\" class=\"data row0 col1\" >qp.mkdir(\"test/dir1\")</td>\n",
       "      <td id=\"T_a99ae_row0_col2\" class=\"data row0 col2\" >info</td>\n",
       "      <td id=\"T_a99ae_row0_col3\" class=\"data row0 col3\" >2024-07-16 11:07:54.275376</td>\n",
       "    </tr>\n",
       "  </tbody>\n",
       "</table>\n"
      ],
      "text/plain": [
       "<pandas.io.formats.style.Styler at 0x2bebb42d7c0>"
      ]
     },
     "metadata": {},
     "output_type": "display_data"
    },
    {
     "name": "stdout",
     "output_type": "stream",
     "text": [
      "passed test for creating and checking for existing directory\n"
     ]
    },
    {
     "data": {
      "text/html": [
       "<style type=\"text/css\">\n",
       "#T_6ac9a_row0_col0, #T_6ac9a_row0_col1, #T_6ac9a_row0_col2, #T_6ac9a_row0_col3 {\n",
       "  background-color: #c0e7b0;\n",
       "}\n",
       "</style>\n",
       "<table id=\"T_6ac9a\">\n",
       "  <thead>\n",
       "  </thead>\n",
       "  <tbody>\n",
       "    <tr>\n",
       "      <th id=\"T_6ac9a_level0_row0\" class=\"row_heading level0 row0\" >74</th>\n",
       "      <td id=\"T_6ac9a_row0_col0\" class=\"data row0 col0\" >moved from<br>c:\\Users\\MartinVölkl-GouyaIns\\OneDrive - Gouya Insights\\Desktop\\qplib_dev<br>to<br>c:\\Users\\MartinVölkl-GouyaIns\\OneDrive - Gouya Insights\\Desktop\\qplib_dev\\test\\dir1</td>\n",
       "      <td id=\"T_6ac9a_row0_col1\" class=\"data row0 col1\" >qp.cd(\"test/dir1\")</td>\n",
       "      <td id=\"T_6ac9a_row0_col2\" class=\"data row0 col2\" >info</td>\n",
       "      <td id=\"T_6ac9a_row0_col3\" class=\"data row0 col3\" >2024-07-16 11:07:54.285534</td>\n",
       "    </tr>\n",
       "  </tbody>\n",
       "</table>\n"
      ],
      "text/plain": [
       "<pandas.io.formats.style.Styler at 0x2beaa5e0140>"
      ]
     },
     "metadata": {},
     "output_type": "display_data"
    },
    {
     "name": "stdout",
     "output_type": "stream",
     "text": [
      "passed test for changing directory and finding path to current directory\n"
     ]
    },
    {
     "data": {
      "text/html": [
       "<style type=\"text/css\">\n",
       "#T_7e9ca_row0_col0, #T_7e9ca_row0_col1, #T_7e9ca_row0_col2, #T_7e9ca_row0_col3 {\n",
       "  background-color: #c0e7b0;\n",
       "}\n",
       "</style>\n",
       "<table id=\"T_7e9ca\">\n",
       "  <thead>\n",
       "  </thead>\n",
       "  <tbody>\n",
       "    <tr>\n",
       "      <th id=\"T_7e9ca_level0_row0\" class=\"row_heading level0 row0\" >75</th>\n",
       "      <td id=\"T_7e9ca_row0_col0\" class=\"data row0 col0\" >created directory \"dir2\"</td>\n",
       "      <td id=\"T_7e9ca_row0_col1\" class=\"data row0 col1\" >qp.mkdir(\"dir2\")</td>\n",
       "      <td id=\"T_7e9ca_row0_col2\" class=\"data row0 col2\" >info</td>\n",
       "      <td id=\"T_7e9ca_row0_col3\" class=\"data row0 col3\" >2024-07-16 11:07:54.294232</td>\n",
       "    </tr>\n",
       "  </tbody>\n",
       "</table>\n"
      ],
      "text/plain": [
       "<pandas.io.formats.style.Styler at 0x2bebcd50ef0>"
      ]
     },
     "metadata": {},
     "output_type": "display_data"
    },
    {
     "data": {
      "text/html": [
       "<style type=\"text/css\">\n",
       "#T_7cd0c_row0_col0, #T_7cd0c_row0_col1, #T_7cd0c_row0_col2, #T_7cd0c_row0_col3 {\n",
       "  background-color: #c0e7b0;\n",
       "}\n",
       "</style>\n",
       "<table id=\"T_7cd0c\">\n",
       "  <thead>\n",
       "  </thead>\n",
       "  <tbody>\n",
       "    <tr>\n",
       "      <th id=\"T_7cd0c_level0_row0\" class=\"row_heading level0 row0\" >76</th>\n",
       "      <td id=\"T_7cd0c_row0_col0\" class=\"data row0 col0\" >moved from<br>c:\\Users\\MartinVölkl-GouyaIns\\OneDrive - Gouya Insights\\Desktop\\qplib_dev\\test\\dir1<br>to<br>c:\\Users\\MartinVölkl-GouyaIns\\OneDrive - Gouya Insights\\Desktop\\qplib_dev\\test\\dir1\\dir2</td>\n",
       "      <td id=\"T_7cd0c_row0_col1\" class=\"data row0 col1\" >qp.cd(\"dir2\")</td>\n",
       "      <td id=\"T_7cd0c_row0_col2\" class=\"data row0 col2\" >info</td>\n",
       "      <td id=\"T_7cd0c_row0_col3\" class=\"data row0 col3\" >2024-07-16 11:07:54.306955</td>\n",
       "    </tr>\n",
       "  </tbody>\n",
       "</table>\n"
      ],
      "text/plain": [
       "<pandas.io.formats.style.Styler at 0x2bebb3e8950>"
      ]
     },
     "metadata": {},
     "output_type": "display_data"
    },
    {
     "data": {
      "text/html": [
       "<style type=\"text/css\">\n",
       "#T_5d332_row0_col0, #T_5d332_row0_col1, #T_5d332_row0_col2, #T_5d332_row0_col3 {\n",
       "  background-color: #c0e7b0;\n",
       "}\n",
       "</style>\n",
       "<table id=\"T_5d332\">\n",
       "  <thead>\n",
       "  </thead>\n",
       "  <tbody>\n",
       "    <tr>\n",
       "      <th id=\"T_5d332_level0_row0\" class=\"row_heading level0 row0\" >77</th>\n",
       "      <td id=\"T_5d332_row0_col0\" class=\"data row0 col0\" >moved from<br>c:\\Users\\MartinVölkl-GouyaIns\\OneDrive - Gouya Insights\\Desktop\\qplib_dev\\test\\dir1\\dir2<br>to<br>c:\\Users\\MartinVölkl-GouyaIns\\OneDrive - Gouya Insights\\Desktop\\qplib_dev\\test\\dir1</td>\n",
       "      <td id=\"T_5d332_row0_col1\" class=\"data row0 col1\" >qp.cd(\"c:\\Users\\MartinVölkl-GouyaIns\\OneDrive - Gouya Insights\\Desktop\\qplib_dev\\test\\dir1\")</td>\n",
       "      <td id=\"T_5d332_row0_col2\" class=\"data row0 col2\" >info</td>\n",
       "      <td id=\"T_5d332_row0_col3\" class=\"data row0 col3\" >2024-07-16 11:07:54.316302</td>\n",
       "    </tr>\n",
       "  </tbody>\n",
       "</table>\n"
      ],
      "text/plain": [
       "<pandas.io.formats.style.Styler at 0x2bebcaecfb0>"
      ]
     },
     "metadata": {},
     "output_type": "display_data"
    },
    {
     "name": "stdout",
     "output_type": "stream",
     "text": [
      "passed test for going back and forth in directory structure\n"
     ]
    }
   ],
   "source": [
    "\n",
    "if os.path.isdir('test/dir1') is True:\n",
    "    shutil.rmtree('test/dir1')\n",
    "\n",
    "\n",
    "if qp.isdir('test/dir1') is False:\n",
    "    print(f'passed test for non existing directory')\n",
    "else:\n",
    "    raise Exception(f'failed test for non existing directory')\n",
    "\n",
    "\n",
    "qp.mkdir('test/dir1')\n",
    "if qp.isdir('test/dir1') is True:\n",
    "    print(f'passed test for creating and checking for existing directory')\n",
    "else:\n",
    "    raise Exception(f'failed test for creating and checking for existing directory')\n",
    "\n",
    "\n",
    "qp.cd('test/dir1')\n",
    "if qp.pwd().split('\\\\')[-1] == 'dir1':\n",
    "    print(f'passed test for changing directory and finding path to current directory')\n",
    "else:\n",
    "    raise Exception(f'failed test for changing directory and finding path to current directory')\n",
    "\n",
    "\n",
    "qp.mkdir('dir2')\n",
    "qp.cd('dir2')\n",
    "result1 = qp.pwd().split('\\\\')[-1]\n",
    "\n",
    "qp.cd('..')\n",
    "result2 = qp.pwd().split('\\\\')[-1]\n",
    "\n",
    "if result1 == 'dir2' and result2 == 'dir1':\n",
    "    print(f'passed test for going back and forth in directory structure')\n",
    "else:\n",
    "    raise Exception(f'failed test for going back and forth in directory structure')\n",
    "\n",
    "\n",
    "\n",
    "os.chdir(working_directory)\n",
    "shutil.rmtree('test/dir1')"
   ]
  },
  {
   "cell_type": "markdown",
   "metadata": {},
   "source": [
    "# save results"
   ]
  },
  {
   "cell_type": "code",
   "execution_count": 37,
   "metadata": {},
   "outputs": [],
   "source": [
    "clean()"
   ]
  },
  {
   "cell_type": "code",
   "execution_count": 38,
   "metadata": {},
   "outputs": [],
   "source": [
    "\n",
    "# # create html version of this file for documentation\n",
    "# !jupyter nbconvert --to html testing.ipynb\n",
    "\n",
    "# now = datetime.datetime.now().strftime('%Y_%m_%d')\n",
    "# shutil.move('testing.html', f'test/test_report_{now}.html')\n"
   ]
  },
  {
   "cell_type": "markdown",
   "metadata": {},
   "source": [
    "# temp"
   ]
  },
  {
   "cell_type": "code",
   "execution_count": 39,
   "metadata": {},
   "outputs": [],
   "source": [
    "import pandas as pd\n",
    "import numpy as np\n",
    "import copy\n",
    "import os\n",
    "import sys\n",
    "import shutil\n",
    "import datetime\n",
    "import qplib as qp\n",
    "from qplib import log\n",
    "\n",
    "# if 'cards' not in globals():\n",
    "#     cards = pd.read_csv('data/cards.csv')\n",
    "# cards.qi()\n",
    "\n",
    "\n",
    "# df = qp.get_df().format()\n",
    "# df.qi()\n",
    "\n",
    "\n",
    "\n"
   ]
  }
 ],
 "metadata": {
  "kernelspec": {
   "display_name": "Python 3",
   "language": "python",
   "name": "python3"
  },
  "language_info": {
   "codemirror_mode": {
    "name": "ipython",
    "version": 3
   },
   "file_extension": ".py",
   "mimetype": "text/x-python",
   "name": "python",
   "nbconvert_exporter": "python",
   "pygments_lexer": "ipython3",
   "version": "3.12.3"
  }
 },
 "nbformat": 4,
 "nbformat_minor": 2
}
