{
 "cells": [
  {
   "cell_type": "markdown",
   "metadata": {},
   "source": [
    "# qplib test suite\n",
    "\n",
    "some of the tests should result in colored info, warning or error logs to be shown. These are expected function behaviour under the test conditions and do not indicate a test was passed or failed. Instead the relevant messages are those starting with \"passed test...\" or \"failed test...\".  \n",
    "if any test fails, the script stops and does not save a test_report."
   ]
  },
  {
   "cell_type": "markdown",
   "metadata": {},
   "source": [
    "# imports"
   ]
  },
  {
   "cell_type": "code",
   "execution_count": 1,
   "metadata": {},
   "outputs": [],
   "source": [
    "import pandas as pd\n",
    "import numpy as np\n",
    "import copy\n",
    "import os\n",
    "import shutil\n",
    "import datetime\n",
    "import qplib as qp\n",
    "from qplib import log\n",
    "\n",
    "working_directory = os.getcwd()\n",
    "\n"
   ]
  },
  {
   "cell_type": "markdown",
   "metadata": {},
   "source": [
    "# types"
   ]
  },
  {
   "cell_type": "code",
   "execution_count": 2,
   "metadata": {},
   "outputs": [],
   "source": [
    "def compare(result, expected):\n",
    "    if result == expected:\n",
    "        print(f'passed test for type conversion to: {expected}')\n",
    "    else:\n",
    "        raise Exception(f'failed test for type conversion to: {expected}')"
   ]
  },
  {
   "cell_type": "markdown",
   "metadata": {},
   "source": [
    "## error raising"
   ]
  },
  {
   "cell_type": "code",
   "execution_count": 3,
   "metadata": {},
   "outputs": [
    {
     "name": "stdout",
     "output_type": "stream",
     "text": [
      "passed test for raising correct error for: qp.qp_na(\"abc\")\n",
      "passed test for raising correct error for: qp.qp_nk(\"abc\")\n",
      "passed test for raising correct error for: qp.qp_num(\"abc\")\n",
      "passed test for raising correct error for: qp.qp_yn(\"abc\")\n",
      "passed test for raising correct error for: qp.qp_date(\"abc\")\n",
      "passed test for raising correct error for: qp.qp_datetime(\"abc\")\n"
     ]
    }
   ],
   "source": [
    "#checking if correct error is raised\n",
    "type_funcs = [\n",
    "    qp.na,\n",
    "    qp.nk,\n",
    "    qp.num,\n",
    "    qp.yn,\n",
    "    qp.date,\n",
    "    qp.datetime,\n",
    "    ]\n",
    "\n",
    "for func in type_funcs:\n",
    "    try:\n",
    "        func('abc', errors='raise')\n",
    "    except ValueError:\n",
    "        func = str(func).split('<function ')[1].split(' at')[0]\n",
    "        print(f'passed test for raising correct error for: qp.{func}(\"abc\")')\n",
    "    except:\n",
    "        raise"
   ]
  },
  {
   "cell_type": "markdown",
   "metadata": {},
   "source": [
    "## num"
   ]
  },
  {
   "cell_type": "code",
   "execution_count": 4,
   "metadata": {},
   "outputs": [
    {
     "name": "stdout",
     "output_type": "stream",
     "text": [
      "passed test for type conversion to: None\n",
      "passed test for type conversion to: abc\n",
      "passed test for type conversion to: test\n",
      "passed test for type conversion to: 1\n",
      "passed test for type conversion to: 1.0\n",
      "passed test for type conversion to: 1.1\n",
      "passed test for type conversion to: 0\n",
      "passed test for type conversion to: 0.0\n",
      "passed test for type conversion to: 0.1\n",
      "passed test for type conversion to: -1\n",
      "passed test for type conversion to: -1.0\n",
      "passed test for type conversion to: -1.1\n",
      "passed test for type conversion to: 1\n",
      "passed test for type conversion to: 1.0\n",
      "passed test for type conversion to: 1.1\n",
      "passed test for type conversion to: 0\n",
      "passed test for type conversion to: 0.0\n",
      "passed test for type conversion to: 0.1\n",
      "passed test for type conversion to: -1\n",
      "passed test for type conversion to: -1.0\n",
      "passed test for type conversion to: -1.1\n"
     ]
    }
   ],
   "source": [
    "#numbers\n",
    "compare(qp.num('abc', errors='coerce', na=None), None)\n",
    "compare(qp.num('abc', errors='ignore'), 'abc')\n",
    "compare(qp.num('abc', errors='test'), 'test')\n",
    "\n",
    "compare(qp.num('1'), 1)\n",
    "compare(qp.num('1.0'), 1.0)\n",
    "compare(qp.num('1.1'), 1.1)\n",
    "\n",
    "compare(qp.num('0'), 0)\n",
    "compare(qp.num('0.0'), 0.0)\n",
    "compare(qp.num('0.1'), 0.1)\n",
    "\n",
    "compare(qp.num('-1'), -1)\n",
    "compare(qp.num('-1.0'), -1.0)\n",
    "compare(qp.num('-1.1'), -1.1)\n",
    "\n",
    "compare(qp.num(1), 1)\n",
    "compare(qp.num(1.0), 1.0)\n",
    "compare(qp.num(1.1), 1.1)\n",
    "\n",
    "compare(qp.num(0), 0)\n",
    "compare(qp.num(0.0), 0.0)\n",
    "compare(qp.num(0.1), 0.1)\n",
    "\n",
    "compare(qp.num(-1), -1)\n",
    "compare(qp.num(-1.0), -1.0)\n",
    "compare(qp.num(-1.1), -1.1)\n"
   ]
  },
  {
   "cell_type": "markdown",
   "metadata": {},
   "source": [
    "## date"
   ]
  },
  {
   "cell_type": "code",
   "execution_count": 5,
   "metadata": {},
   "outputs": [
    {
     "name": "stdout",
     "output_type": "stream",
     "text": [
      "passed test for type conversion to: None\n",
      "passed test for type conversion to: abc\n",
      "passed test for type conversion to: test\n",
      "passed test for type conversion to: 2020-01-01\n",
      "passed test for type conversion to: 2020-01-01\n",
      "passed test for type conversion to: 2020-01-01\n",
      "passed test for type conversion to: 2020-01-01\n",
      "passed test for type conversion to: 2020-01-01\n",
      "passed test for type conversion to: 2020-01-01\n",
      "passed test for type conversion to: 2020-01-01\n",
      "passed test for type conversion to: 2020-01-01\n",
      "passed test for type conversion to: 2020-01-01\n",
      "passed test for type conversion to: 2020-01-01\n",
      "passed test for type conversion to: 2020-01-01\n",
      "passed test for type conversion to: 2020-01-01\n",
      "passed test for type conversion to: 2020-01-01\n",
      "passed test for type conversion to: 2020-01-01\n",
      "passed test for type conversion to: 2020-01-01\n",
      "passed test for type conversion to: 2020-01-01\n",
      "passed test for type conversion to: 2020-01-01\n",
      "passed test for type conversion to: 2020-01-01\n",
      "passed test for type conversion to: 2020-01-01\n",
      "passed test for type conversion to: 2020-01-01\n",
      "passed test for type conversion to: 2020-01-01\n",
      "passed test for type conversion to: 2020-01-01\n",
      "passed test for type conversion to: 2020-01-02\n",
      "passed test for type conversion to: 2020-01-02\n",
      "passed test for type conversion to: 2020-01-02\n",
      "passed test for type conversion to: 2020-01-02\n",
      "passed test for type conversion to: 2020-01-02\n",
      "passed test for type conversion to: 2020-01-02\n",
      "passed test for type conversion to: 2020-01-02\n",
      "passed test for type conversion to: 2020-01-02\n"
     ]
    }
   ],
   "source": [
    "#date\n",
    "\n",
    "compare(qp.date('abc', errors='coerce', na=None), None)\n",
    "compare(qp.date('abc', errors='ignore'), 'abc')\n",
    "compare(qp.date('abc', errors='test'), 'test')\n",
    "\n",
    "compare(qp.date('2020-01-01'), datetime.date(2020, 1, 1))\n",
    "compare(qp.date('2020-01-01 00:00:00'), datetime.date(2020, 1, 1))\n",
    "\n",
    "compare(qp.date('2020.01.01'), datetime.date(2020, 1, 1))\n",
    "compare(qp.date('2020/01/01'), datetime.date(2020, 1, 1))\n",
    "compare(qp.date('2020 01 01'), datetime.date(2020, 1, 1))\n",
    "compare(qp.date('20200101'), datetime.date(2020, 1, 1))\n",
    "\n",
    "compare(qp.date('2020 Jan 01'), datetime.date(2020, 1, 1))\n",
    "compare(qp.date('2020 January 01'), datetime.date(2020, 1, 1))\n",
    "compare(qp.date('2020 Jan 1'), datetime.date(2020, 1, 1))\n",
    "compare(qp.date('2020 January 1'), datetime.date(2020, 1, 1))\n",
    "\n",
    "compare(qp.date('Jan 01 2020'), datetime.date(2020, 1, 1))\n",
    "compare(qp.date('January 01 2020'), datetime.date(2020, 1, 1))\n",
    "compare(qp.date('Jan 1 2020'), datetime.date(2020, 1, 1))\n",
    "compare(qp.date('January 1 2020'), datetime.date(2020, 1, 1))\n",
    "\n",
    "compare(qp.date('01 Jan 2020'), datetime.date(2020, 1, 1))\n",
    "compare(qp.date('01 January 2020'), datetime.date(2020, 1, 1))\n",
    "compare(qp.date('1 Jan 2020'), datetime.date(2020, 1, 1))\n",
    "compare(qp.date('1 January 2020'), datetime.date(2020, 1, 1))\n",
    "\n",
    "compare(qp.date('01-01-2020'), datetime.date(2020, 1, 1))\n",
    "compare(qp.date('01.01.2020'), datetime.date(2020, 1, 1))\n",
    "compare(qp.date('01/01/2020'), datetime.date(2020, 1, 1))\n",
    "compare(qp.date('01 01 2020'), datetime.date(2020, 1, 1))\n",
    "\n",
    "compare(qp.date('02-01-20'), datetime.date(2020, 1, 2))\n",
    "compare(qp.date('02.01.20'), datetime.date(2020, 1, 2))\n",
    "compare(qp.date('02/01/20'), datetime.date(2020, 1, 2))\n",
    "compare(qp.date('02 01 20'), datetime.date(2020, 1, 2))\n",
    "\n",
    "compare(qp.date('2020-01-02'), datetime.date(2020, 1, 2))\n",
    "compare(qp.date('2020.01.02'), datetime.date(2020, 1, 2))\n",
    "compare(qp.date('2020/01/02'), datetime.date(2020, 1, 2))\n",
    "compare(qp.date('2020 01 02'), datetime.date(2020, 1, 2))"
   ]
  },
  {
   "cell_type": "markdown",
   "metadata": {},
   "source": [
    "## datetime"
   ]
  },
  {
   "cell_type": "code",
   "execution_count": 6,
   "metadata": {},
   "outputs": [
    {
     "name": "stdout",
     "output_type": "stream",
     "text": [
      "passed test for type conversion to: None\n",
      "passed test for type conversion to: abc\n",
      "passed test for type conversion to: test\n",
      "passed test for type conversion to: 2020-01-01 00:00:00\n",
      "passed test for type conversion to: 2020-01-01 00:00:00\n",
      "passed test for type conversion to: 2020-01-01 00:00:01\n",
      "passed test for type conversion to: 2020-01-01 00:01:00\n",
      "passed test for type conversion to: 2020-01-01 01:00:00\n",
      "passed test for type conversion to: 2020-01-01 01:01:01\n",
      "passed test for type conversion to: 2020-01-01 00:00:00\n",
      "passed test for type conversion to: 2020-01-01 00:00:00\n",
      "passed test for type conversion to: 2020-01-01 00:00:00\n",
      "passed test for type conversion to: 2020-01-01 00:00:00\n",
      "passed test for type conversion to: 2020-01-01 00:00:00\n",
      "passed test for type conversion to: 2020-01-01 00:00:00\n",
      "passed test for type conversion to: 2020-01-01 00:00:00\n",
      "passed test for type conversion to: 2020-01-01 00:00:00\n",
      "passed test for type conversion to: 2020-01-01 00:00:00\n",
      "passed test for type conversion to: 2020-01-01 00:00:00\n",
      "passed test for type conversion to: 2020-01-01 00:00:00\n",
      "passed test for type conversion to: 2020-01-01 00:00:00\n",
      "passed test for type conversion to: 2020-01-01 00:00:00\n",
      "passed test for type conversion to: 2020-01-01 00:00:00\n",
      "passed test for type conversion to: 2020-01-01 00:00:00\n",
      "passed test for type conversion to: 2020-01-01 00:00:00\n",
      "passed test for type conversion to: 2020-01-01 00:00:00\n",
      "passed test for type conversion to: 2020-01-01 00:00:00\n",
      "passed test for type conversion to: 2020-01-01 00:00:00\n",
      "passed test for type conversion to: 2020-01-02 00:00:00\n",
      "passed test for type conversion to: 2020-01-02 00:00:00\n",
      "passed test for type conversion to: 2020-01-02 00:00:00\n",
      "passed test for type conversion to: 2020-01-02 00:00:00\n",
      "passed test for type conversion to: 2020-01-02 00:00:00\n",
      "passed test for type conversion to: 2020-01-02 00:00:00\n",
      "passed test for type conversion to: 2020-01-02 00:00:00\n",
      "passed test for type conversion to: 2020-01-02 00:00:00\n"
     ]
    }
   ],
   "source": [
    "#datetime\n",
    "\n",
    "compare(qp.datetime('abc', errors='coerce', na=None), None)\n",
    "compare(qp.datetime('abc', errors='ignore'), 'abc')\n",
    "compare(qp.datetime('abc', errors='test'), 'test')\n",
    "\n",
    "compare(qp.datetime('2020-01-01'), datetime.datetime(2020, 1, 1))\n",
    "compare(qp.datetime('2020-01-01 00:00:00'), datetime.datetime(2020, 1, 1))\n",
    "compare(qp.datetime('2020-01-01 00:00:01'), datetime.datetime(2020, 1, 1, 0, 0, 1))\n",
    "compare(qp.datetime('2020-01-01 00:01:00'), datetime.datetime(2020, 1, 1, 0, 1, 0))\n",
    "compare(qp.datetime('2020-01-01 01:00:00'), datetime.datetime(2020, 1, 1, 1, 0, 0))\n",
    "compare(qp.datetime('2020-01-01 01:01:01'), datetime.datetime(2020, 1, 1, 1, 1, 1))\n",
    "\n",
    "compare(qp.datetime('2020.01.01'), datetime.datetime(2020, 1, 1))\n",
    "compare(qp.datetime('2020/01/01'), datetime.datetime(2020, 1, 1))\n",
    "compare(qp.datetime('2020 01 01'), datetime.datetime(2020, 1, 1))\n",
    "compare(qp.datetime('20200101'), datetime.datetime(2020, 1, 1))\n",
    "\n",
    "compare(qp.datetime('2020 Jan 01'), datetime.datetime(2020, 1, 1))\n",
    "compare(qp.datetime('2020 January 01'), datetime.datetime(2020, 1, 1))\n",
    "compare(qp.datetime('2020 Jan 1'), datetime.datetime(2020, 1, 1))\n",
    "compare(qp.datetime('2020 January 1'), datetime.datetime(2020, 1, 1))\n",
    "\n",
    "compare(qp.datetime('Jan 01 2020'), datetime.datetime(2020, 1, 1))\n",
    "compare(qp.datetime('January 01 2020'), datetime.datetime(2020, 1, 1))\n",
    "compare(qp.datetime('Jan 1 2020'), datetime.datetime(2020, 1, 1))\n",
    "compare(qp.datetime('January 1 2020'), datetime.datetime(2020, 1, 1))\n",
    "\n",
    "compare(qp.datetime('01 Jan 2020'), datetime.datetime(2020, 1, 1))\n",
    "compare(qp.datetime('01 January 2020'), datetime.datetime(2020, 1, 1))\n",
    "compare(qp.datetime('1 Jan 2020'), datetime.datetime(2020, 1, 1))\n",
    "compare(qp.datetime('1 January 2020'), datetime.datetime(2020, 1, 1))\n",
    "\n",
    "compare(qp.datetime('01-01-2020'), datetime.datetime(2020, 1, 1))\n",
    "compare(qp.datetime('01.01.2020'), datetime.datetime(2020, 1, 1))\n",
    "compare(qp.datetime('01/01/2020'), datetime.datetime(2020, 1, 1))\n",
    "\n",
    "compare(qp.datetime('02-01-20'), datetime.datetime(2020, 1, 2))\n",
    "compare(qp.datetime('02.01.20'), datetime.datetime(2020, 1, 2))\n",
    "compare(qp.datetime('02/01/20'), datetime.datetime(2020, 1, 2))\n",
    "compare(qp.datetime('02 01 20'), datetime.datetime(2020, 1, 2))\n",
    "\n",
    "compare(qp.datetime('2020-01-02'), datetime.datetime(2020, 1, 2))\n",
    "compare(qp.datetime('2020.01.02'), datetime.datetime(2020, 1, 2))\n",
    "compare(qp.datetime('2020/01/02'), datetime.datetime(2020, 1, 2))\n",
    "compare(qp.datetime('2020 01 02'), datetime.datetime(2020, 1, 2))\n"
   ]
  },
  {
   "cell_type": "markdown",
   "metadata": {},
   "source": [
    "## na"
   ]
  },
  {
   "cell_type": "code",
   "execution_count": 7,
   "metadata": {},
   "outputs": [
    {
     "name": "stdout",
     "output_type": "stream",
     "text": [
      "passed test for type conversion to: None\n",
      "passed test for type conversion to: 1\n",
      "passed test for type conversion to: test\n",
      "passed test for type conversion to: test\n",
      "passed test for type conversion to: None\n",
      "passed test for type conversion to: None\n",
      "passed test for type conversion to: None\n",
      "passed test for type conversion to: None\n",
      "passed test for type conversion to: None\n",
      "passed test for type conversion to: None\n",
      "passed test for type conversion to: None\n",
      "passed test for type conversion to: None\n",
      "passed test for type conversion to: None\n",
      "passed test for type conversion to: None\n",
      "passed test for type conversion to: None\n",
      "passed test for type conversion to: None\n",
      "passed test for type conversion to: None\n",
      "passed test for type conversion to: None\n",
      "passed test for type conversion to: None\n",
      "passed test for type conversion to: None\n",
      "passed test for type conversion to: None\n",
      "passed test for type conversion to: None\n",
      "passed test for type conversion to: None\n",
      "passed test for type conversion to: None\n",
      "passed test for type conversion to: None\n",
      "passed test for type conversion to: None\n",
      "passed test for type conversion to: None\n",
      "passed test for type conversion to: None\n",
      "passed test for type conversion to: None\n",
      "passed test for type conversion to: None\n",
      "passed test for type conversion to: None\n",
      "passed test for type conversion to: None\n",
      "passed test for type conversion to: None\n",
      "passed test for type conversion to: None\n",
      "passed test for type conversion to: None\n",
      "passed test for type conversion to: None\n"
     ]
    }
   ],
   "source": [
    "#not available\n",
    "\n",
    "compare(qp.na(1, errors='coerce'), None)\n",
    "compare(qp.na(1, errors='ignore'), 1)\n",
    "compare(qp.na(1, errors='test'), 'test')\n",
    "compare(qp.na('na', na='test'), 'test')\n",
    "\n",
    "compare(qp.na('na'), None)\n",
    "compare(qp.na('nA'), None)\n",
    "compare(qp.na('Na'), None)\n",
    "compare(qp.na('NA'), None)\n",
    "\n",
    "compare(qp.na('n.a.'), None)\n",
    "compare(qp.na('n.a'), None)\n",
    "compare(qp.na('N.A'), None)\n",
    "compare(qp.na('N.A.'), None)\n",
    "compare(qp.na('n/a'), None)\n",
    "compare(qp.na('N/A'), None)\n",
    "\n",
    "compare(qp.na('nan'), None)\n",
    "compare(qp.na('NaN'), None)\n",
    "compare(qp.na('NAN'), None)\n",
    "compare(qp.na('Nan'), None)\n",
    "compare(qp.na('nAn'), None)\n",
    "compare(qp.na('nAN'), None)\n",
    "compare(qp.na('naN'), None)\n",
    "\n",
    "compare(qp.na('none'), None)\n",
    "compare(qp.na('None'), None)\n",
    "compare(qp.na('NONE'), None)\n",
    "\n",
    "compare(qp.na('null'), None)\n",
    "compare(qp.na('Null'), None)\n",
    "compare(qp.na('NULL'), None)\n",
    "\n",
    "compare(qp.na('nil'), None)\n",
    "compare(qp.na('Nil'), None)\n",
    "compare(qp.na('NIL'), None)\n",
    "\n",
    "compare(qp.na('not available'), None)\n",
    "compare(qp.na('Not Available'), None)\n",
    "compare(qp.na('NOT AVAILABLE'), None)\n",
    "\n",
    "compare(qp.na('not a number'), None)\n",
    "compare(qp.na('Not A Number'), None)\n",
    "compare(qp.na('NOT A NUMBER'), None)\n"
   ]
  },
  {
   "cell_type": "markdown",
   "metadata": {},
   "source": [
    "## nk"
   ]
  },
  {
   "cell_type": "code",
   "execution_count": 8,
   "metadata": {},
   "outputs": [
    {
     "name": "stdout",
     "output_type": "stream",
     "text": [
      "passed test for type conversion to: None\n",
      "passed test for type conversion to: 1\n",
      "passed test for type conversion to: test\n",
      "passed test for type conversion to: test\n",
      "passed test for type conversion to: unknown\n",
      "passed test for type conversion to: unknown\n",
      "passed test for type conversion to: unknown\n",
      "passed test for type conversion to: unknown\n",
      "passed test for type conversion to: unknown\n",
      "passed test for type conversion to: unknown\n",
      "passed test for type conversion to: unknown\n",
      "passed test for type conversion to: unknown\n",
      "passed test for type conversion to: unknown\n",
      "passed test for type conversion to: unknown\n",
      "passed test for type conversion to: unknown\n",
      "passed test for type conversion to: unknown\n",
      "passed test for type conversion to: unknown\n",
      "passed test for type conversion to: unknown\n",
      "passed test for type conversion to: unknown\n",
      "passed test for type conversion to: unknown\n",
      "passed test for type conversion to: unknown\n",
      "passed test for type conversion to: unknown\n",
      "passed test for type conversion to: unknown\n",
      "passed test for type conversion to: unknown\n",
      "passed test for type conversion to: unknown\n",
      "passed test for type conversion to: unknown\n",
      "passed test for type conversion to: unknown\n",
      "passed test for type conversion to: unknown\n",
      "passed test for type conversion to: unknown\n"
     ]
    }
   ],
   "source": [
    "#not known\n",
    "\n",
    "compare(qp.nk(1, errors='coerce'), None)\n",
    "compare(qp.nk(1, errors='ignore'), 1)\n",
    "compare(qp.nk(1, errors='test'), 'test')\n",
    "compare(qp.nk('nk', nk='test'), 'test')\n",
    "\n",
    "compare(qp.nk('nk'), 'unknown')\n",
    "compare(qp.nk('nK'), 'unknown')\n",
    "compare(qp.nk('Nk'), 'unknown')\n",
    "compare(qp.nk('NK'), 'unknown')\n",
    "\n",
    "compare(qp.nk('n.k.'), 'unknown')\n",
    "compare(qp.nk('n.k'), 'unknown')\n",
    "compare(qp.nk('N.K'), 'unknown')\n",
    "compare(qp.nk('N.K.'), 'unknown')\n",
    "compare(qp.nk('n/k'), 'unknown')\n",
    "compare(qp.nk('N/K'), 'unknown')\n",
    "\n",
    "compare(qp.nk('not known'), 'unknown')\n",
    "compare(qp.nk('Not Known'), 'unknown')\n",
    "compare(qp.nk('NOT KNOWN'), 'unknown')\n",
    "\n",
    "compare(qp.nk('not known.'), 'unknown')\n",
    "compare(qp.nk('Not Known.'), 'unknown')\n",
    "compare(qp.nk('NOT KNOWN.'), 'unknown')\n",
    "\n",
    "compare(qp.nk('unknown'), 'unknown')\n",
    "compare(qp.nk('Unknown'), 'unknown')\n",
    "compare(qp.nk('UNKNOWN'), 'unknown')\n",
    "\n",
    "compare(qp.nk('not specified'), 'unknown')\n",
    "compare(qp.nk('Not Specified'), 'unknown')\n",
    "compare(qp.nk('NOT SPECIFIED'), 'unknown')\n",
    "\n",
    "compare(qp.nk('not specified.'), 'unknown')\n",
    "compare(qp.nk('Not Specified.'), 'unknown')\n",
    "compare(qp.nk('NOT SPECIFIED.'), 'unknown')\n"
   ]
  },
  {
   "cell_type": "markdown",
   "metadata": {},
   "source": [
    "## yn"
   ]
  },
  {
   "cell_type": "code",
   "execution_count": 9,
   "metadata": {},
   "outputs": [
    {
     "name": "stdout",
     "output_type": "stream",
     "text": [
      "passed test for type conversion to: None\n",
      "passed test for type conversion to: abc\n",
      "passed test for type conversion to: test\n",
      "passed test for type conversion to: yes\n",
      "passed test for type conversion to: yes\n",
      "passed test for type conversion to: yes\n",
      "passed test for type conversion to: no\n",
      "passed test for type conversion to: no\n",
      "passed test for type conversion to: no\n",
      "passed test for type conversion to: yes\n",
      "passed test for type conversion to: yes\n",
      "passed test for type conversion to: no\n",
      "passed test for type conversion to: no\n",
      "passed test for type conversion to: yes\n",
      "passed test for type conversion to: no\n",
      "passed test for type conversion to: yes\n",
      "passed test for type conversion to: no\n",
      "passed test for type conversion to: yes\n",
      "passed test for type conversion to: yes\n",
      "passed test for type conversion to: yes\n",
      "passed test for type conversion to: no\n",
      "passed test for type conversion to: no\n",
      "passed test for type conversion to: no\n",
      "passed test for type conversion to: yes\n",
      "passed test for type conversion to: yes\n",
      "passed test for type conversion to: yes\n",
      "passed test for type conversion to: no\n",
      "passed test for type conversion to: no\n",
      "passed test for type conversion to: no\n",
      "passed test for type conversion to: yes\n",
      "passed test for type conversion to: yes\n",
      "passed test for type conversion to: yes\n",
      "passed test for type conversion to: no\n",
      "passed test for type conversion to: no\n",
      "passed test for type conversion to: no\n"
     ]
    }
   ],
   "source": [
    "#yes no\n",
    "compare(qp.yn('abc', errors='coerce'), None)\n",
    "compare(qp.yn('abc', errors='ignore'), 'abc')\n",
    "compare(qp.yn('abc', errors='test'), 'test')\n",
    "\n",
    "compare(qp.yn('yes'), 'yes')\n",
    "compare(qp.yn('Yes'), 'yes')\n",
    "compare(qp.yn('YES'), 'yes')\n",
    "\n",
    "compare(qp.yn('no'), 'no')\n",
    "compare(qp.yn('No'), 'no')\n",
    "compare(qp.yn('NO'), 'no')\n",
    "\n",
    "compare(qp.yn('y'), 'yes')\n",
    "compare(qp.yn('Y'), 'yes')\n",
    "\n",
    "compare(qp.yn('n'), 'no')\n",
    "compare(qp.yn('N'), 'no')\n",
    "\n",
    "compare(qp.yn('1'), 'yes')\n",
    "compare(qp.yn('0'), 'no')\n",
    "\n",
    "compare(qp.yn(1), 'yes')\n",
    "compare(qp.yn(0), 'no')\n",
    "\n",
    "compare(qp.yn('true'), 'yes')\n",
    "compare(qp.yn('True'), 'yes')\n",
    "compare(qp.yn('TRUE'), 'yes')\n",
    "\n",
    "compare(qp.yn('false'), 'no')\n",
    "compare(qp.yn('False'), 'no')\n",
    "compare(qp.yn('FALSE'), 'no')\n",
    "\n",
    "compare(qp.yn('pos'), 'yes')\n",
    "compare(qp.yn('Pos'), 'yes')\n",
    "compare(qp.yn('POS'), 'yes')\n",
    "\n",
    "compare(qp.yn('neg'), 'no')\n",
    "compare(qp.yn('Neg'), 'no')\n",
    "compare(qp.yn('NEG'), 'no')\n",
    "\n",
    "compare(qp.yn('positive'), 'yes')\n",
    "compare(qp.yn('Positive'), 'yes')\n",
    "compare(qp.yn('POSITIVE'), 'yes')\n",
    "\n",
    "compare(qp.yn('negative'), 'no')\n",
    "compare(qp.yn('Negative'), 'no')\n",
    "compare(qp.yn('NEGATIVE'), 'no')\n"
   ]
  },
  {
   "cell_type": "markdown",
   "metadata": {},
   "source": [
    "## qp.dict"
   ]
  },
  {
   "cell_type": "code",
   "execution_count": 10,
   "metadata": {},
   "outputs": [
    {
     "name": "stdout",
     "output_type": "stream",
     "text": [
      "passed test for dict.values_flat()\n",
      "passed test for dict.invert()\n"
     ]
    }
   ],
   "source": [
    "#wip\n",
    "\n",
    "dict1 = qp.dict({\n",
    "    'a': [1, 2, 3, 4, 5],\n",
    "    'b': (1, 2, 3, 4, 5),\n",
    "    'c': {'a': 1, 'b': 2, 'c': 3, 'd': 4, 'e': 5},\n",
    "    'd': {1, 2, 3, 4, 5},\n",
    "    'e': np.array([1, 2, 3, 4, 5]),\n",
    "    'f': pd.Series([1, 2, 3, 4, 5]),\n",
    "    })\n",
    "\n",
    "result = dict1.values_flat()\n",
    "expected = [\n",
    "    1, 2, 3, 4, 5, \n",
    "    1, 2, 3, 4, 5, \n",
    "    1, 2, 3, 4, 5, \n",
    "    1, 2, 3, 4, 5, \n",
    "    1, 2, 3, 4, 5, \n",
    "    1, 2, 3, 4, 5,\n",
    "    ]\n",
    "if result == expected:\n",
    "    print('passed test for dict.values_flat()')\n",
    "else:\n",
    "    raise Exception('failed test for dict.values_flat()')\n",
    "\n",
    "\n",
    "dict2 = qp.dict({\n",
    "    'a': '1',\n",
    "    'b': '2',\n",
    "    'c': '3',\n",
    "    })\n",
    "result = dict2.invert()\n",
    "expected = {\n",
    "    '1': 'a',\n",
    "    '2': 'b',\n",
    "    '3': 'c',\n",
    "    }\n",
    "if result == expected:\n",
    "    print('passed test for dict.invert()')\n",
    "else:\n",
    "    raise Exception('failed test for dict.invert()')\n"
   ]
  },
  {
   "cell_type": "markdown",
   "metadata": {},
   "source": [
    "# pd.DataFrame.q()"
   ]
  },
  {
   "cell_type": "code",
   "execution_count": 11,
   "metadata": {},
   "outputs": [],
   "source": [
    "def compare(result, expected_df, text=None):\n",
    "    if not result.equals(expected_df):\n",
    "        print(f'failed test for arg: \"{result.qp.code}\"')\n",
    "\n",
    "        print('result:')\n",
    "        display(result)\n",
    "        print('expected:')\n",
    "        display(expected_df)\n",
    "        if text is None:\n",
    "            raise Exception(f'failed test for arg: \"{result.qp.code}\"')\n",
    "        else:\n",
    "            raise Exception(f'failed test for: {text}')\n",
    "    else:\n",
    "        if text is None:\n",
    "            print(f'passed test for arg: \"{result.qp.code}\"')\n",
    "        else:\n",
    "            print(f'passed test for: {text}')\n",
    "\n",
    "\n",
    "def get_df_simple():\n",
    "    df = pd.DataFrame({\n",
    "        'a': [-1, 0, 1],\n",
    "        'b': [1, 2, 3]\n",
    "        })\n",
    "    return df\n",
    "\n",
    "def get_df_simple_tagged():\n",
    "    df = pd.DataFrame({\n",
    "        'meta': ['', '', ''],\n",
    "        'a': [-1, 0, 1],\n",
    "        'b': [1, 2, 3]\n",
    "        })\n",
    "    df.index = [0, 1, 2]\n",
    "    return df\n",
    "\n",
    "\n",
    "def get_df():\n",
    "    df = pd.DataFrame({\n",
    "        'ID': [10001, 10002, 10003, 20001, 20002, 20003, 30001, 30002, 30003, 30004, 30005],\n",
    "        'name': ['John Doe', 'Jane Smith', 'Alice Johnson', 'Bob Brown', 'eva white', 'Frank miller', 'Grace TAYLOR', 'Harry Clark', 'IVY GREEN', 'JAck Williams', 'john Doe'],\n",
    "        'date of birth': ['1995-01-02', '1990/09/14', '1985.08.23', '19800406', '05-11-2007', '06-30-1983', '28-05-1975', '1960Mar08', '1955-Jan-09', '1950 Sep 10', '1945 October 11'],\n",
    "        'age': [-25, '30', np.nan, None, '40.0', 'forty-five', 'nan', 'unk', '', 'unknown', 35],\n",
    "        'gender': ['M', 'F', 'Female', 'Male', 'Other', 'm', 'ff', 'NaN', None, 'Mal', 'female'],\n",
    "        'height': [170, '175.5cm', None, '280', 'NaN', '185', '1', '6ft 1in', -10, '', 200],\n",
    "        'weight': [70.2, '68', '72.5lb', 'na', '', '75kg', None, '80.3', '130lbs', '82', -65],\n",
    "        'bp systole': ['20', 130, 'NaN', '140', '135mmhg', '125', 'NAN', '122', '', 130, '45'],\n",
    "        'bp diastole': [80, '85', 'nan', '90mmHg', np.nan, '75', 'NaN', None, '95', '0', 'NaN'],\n",
    "        'cholesterol': ['Normal', 'Highe', 'NaN', 'GOOD', 'n.a.', 'High', 'Normal', 'n/a', 'high', '', 'Normal'],\n",
    "        'diabetes': ['No', 'yes', 'N/A', 'No', 'Y', 'Yes', 'NO', None, 'NaN', 'n', 'Yes'],\n",
    "        'dose': ['10kg', 'NaN', '15 mg once a day', '20mg', '20 Mg', '25g', 'NaN', None, '30 MG', '35', '40ml']\n",
    "        })\n",
    "    return df\n",
    "\n",
    "def get_df_tagged():\n",
    "    df1 = get_df()\n",
    "    df2 = pd.DataFrame('', index=df1.index, columns=['meta', *df1.columns])\n",
    "    df2.iloc[:, 1:] = df1.loc[:, :]\n",
    "    return df2"
   ]
  },
  {
   "cell_type": "markdown",
   "metadata": {},
   "source": [
    "## filtering"
   ]
  },
  {
   "cell_type": "code",
   "execution_count": 12,
   "metadata": {},
   "outputs": [
    {
     "name": "stderr",
     "output_type": "stream",
     "text": [
      "<>:191: SyntaxWarning: invalid escape sequence '\\d'\n",
      "<>:191: SyntaxWarning: invalid escape sequence '\\d'\n",
      "C:\\Users\\MartinVölkl-GouyaIns\\AppData\\Local\\Temp\\ipykernel_27340\\1179431868.py:191: SyntaxWarning: invalid escape sequence '\\d'\n",
      "  result = df.q('bp systole ´r ~\\d', verbosity=0)\n"
     ]
    },
    {
     "data": {
      "text/html": [
       "<style type=\"text/css\">\n",
       "#T_325df_row0_col0, #T_325df_row0_col1, #T_325df_row0_col2, #T_325df_row0_col3 {\n",
       "  background-color: #c0e7b0;\n",
       "}\n",
       "</style>\n",
       "<table id=\"T_325df\">\n",
       "  <thead>\n",
       "  </thead>\n",
       "  <tbody>\n",
       "    <tr>\n",
       "      <th id=\"T_325df_level0_row0\" class=\"row_heading level0 row0\" >0</th>\n",
       "      <td id=\"T_325df_row0_col0\" class=\"data row0 col0\" >df was checked. no problems found</td>\n",
       "      <td id=\"T_325df_row0_col1\" class=\"data row0 col1\" >qp.pd_util._check_df</td>\n",
       "      <td id=\"T_325df_row0_col2\" class=\"data row0 col2\" >info</td>\n",
       "      <td id=\"T_325df_row0_col3\" class=\"data row0 col3\" >2024-07-15 15:37:56.147057</td>\n",
       "    </tr>\n",
       "  </tbody>\n",
       "</table>\n"
      ],
      "text/plain": [
       "<pandas.io.formats.style.Styler at 0x1acb2006ae0>"
      ]
     },
     "metadata": {},
     "output_type": "display_data"
    },
    {
     "name": "stdout",
     "output_type": "stream",
     "text": [
      "passed test for arg: \"date of birth\"\n",
      "passed test for arg: \"=date of birth\"\n",
      "passed test for arg: \"date of birth / age\"\n",
      "passed test for arg: \"date of birth / =age\"\n",
      "passed test for arg: \"=date of birth / age\"\n",
      "passed test for arg: \"=date of birth / =age\"\n",
      "passed test for arg: \"!=date of birth\"\n",
      "passed test for arg: \"\"\n",
      "passed test for arg: \"=ID\"\n",
      "passed test for arg: \"=ID\"\n",
      "passed test for arg: \"=\"\n",
      "passed test for arg: \"\n",
      "    =ID\n",
      "    ID\n",
      "    \"\n",
      "passed test for arg: \"\n",
      "    ID\n",
      "    age\n",
      "    \"\n",
      "passed test for arg: \"\n",
      "    ID\n",
      "    / age\n",
      "    \"\n",
      "passed test for arg: \"()bp\"\n",
      "passed test for arg: \"()I\"\n",
      "passed test for arg: \"(())I\"\n",
      "passed test for arg: \"~~.\"\n",
      "passed test for arg: \"~~..\"\n",
      "passed test for arg: \"()bp / =diabetes\"\n",
      "passed test for arg: \"()bp / =diabetes / =cholesterol\"\n",
      "passed test for arg: \"()bp / =cholesterol / =diabetes\"\n",
      "passed test for arg: \"()bp & ()systole\"\n",
      "passed test for arg: \"()bp & !()systole\"\n",
      "passed test for arg: \"()i & ~~..\"\n",
      "passed test for arg: \"name ´r is str\"\n",
      "passed test for arg: \"name ´r !is str\"\n",
      "passed test for arg: \"name ´r is num\"\n",
      "passed test for arg: \"name ´r !is num\"\n",
      "passed test for arg: \"name ´r is na\"\n",
      "passed test for arg: \"name ´r !is na\"\n",
      "passed test for arg: \"age ´r is na\"\n",
      "passed test for arg: \"cholesterol ´r is na\"\n",
      "passed test for arg: \"weight ´r is num\"\n",
      "passed test for arg: \"weight ´r is num & !is na\"\n",
      "passed test for arg: \"date of birth ´r !is date\"\n",
      "passed test for arg: \"diabetes ´r is yn\"\n",
      "passed test for arg: \"diabetes ´r is na / is yn\"\n",
      "passed test for arg: \"diabetes ´r is yn\"\n",
      "passed test for arg: \"diabetes ´r is yes\"\n",
      "passed test for arg: \"diabetes ´r is no\"\n",
      "passed test for arg: \"ID ´r ~~1....\"\n",
      "passed test for arg: \"ID ´r !~~3....\"\n",
      "passed test for arg: \"name ´r ~~\\b[A-Z][a-z]*\\s[A-Z][a-z]*\\b\"\n",
      "passed test for arg: \"name ´r ~~^[^A-Z]*$\"\n",
      "passed test for arg: \"dose ´r ~~^(?=.*[a-zA-Z])(?=.*[0-9]).*$\"\n",
      "passed test for arg: \"bp systole ´r ~m\"\n",
      "passed test for arg: \"bp systole ´r ~\\D\"\n",
      "passed test for arg: \"bp systole ´r ~\\d\"\n",
      "passed test for arg: \"id / name  ´r ()j\"\n",
      "passed test for arg: \"id / name  ´r ()j / ()n\"\n",
      "passed test for arg: \"id / name  ´r ()j & ()n\"\n",
      "passed test for arg: \"height / weight  ´r is num\"\n",
      "passed test for arg: \"height / weight  ´r any is num\"\n",
      "passed test for arg: \"height / weight  ´r anyis num\"\n",
      "passed test for arg: \"height / weight  ´r all is num\"\n",
      "passed test for arg: \"\n",
      "    height / weight ´m to num\n",
      "    height / weight  ´r all is num\n",
      "    \"\n"
     ]
    },
    {
     "name": "stderr",
     "output_type": "stream",
     "text": [
      "c:\\Users\\MartinVölkl-GouyaIns\\OneDrive - Gouya Insights\\Desktop\\qplib_dev\\qplib\\types.py:97: UserWarning: Parsing dates in %m-%d-%Y format when dayfirst=True was specified. Pass `dayfirst=False` or specify a format to silence this warning.\n",
      "  return pd.to_datetime(x, dayfirst=True).date()\n"
     ]
    },
    {
     "data": {
      "text/html": [
       "<style type=\"text/css\">\n",
       "#T_509bf_row0_col0, #T_509bf_row0_col1, #T_509bf_row0_col2, #T_509bf_row0_col3 {\n",
       "  background-color: #c0e7b0;\n",
       "}\n",
       "</style>\n",
       "<table id=\"T_509bf\">\n",
       "  <thead>\n",
       "  </thead>\n",
       "  <tbody>\n",
       "    <tr>\n",
       "      <th id=\"T_509bf_level0_row0\" class=\"row_heading level0 row0\" >1</th>\n",
       "      <td id=\"T_509bf_row0_col0\" class=\"data row0 col0\" >df was checked. no problems found</td>\n",
       "      <td id=\"T_509bf_row0_col1\" class=\"data row0 col1\" >qp.pd_util._check_df</td>\n",
       "      <td id=\"T_509bf_row0_col2\" class=\"data row0 col2\" >info</td>\n",
       "      <td id=\"T_509bf_row0_col3\" class=\"data row0 col3\" >2024-07-15 15:37:57.207775</td>\n",
       "    </tr>\n",
       "  </tbody>\n",
       "</table>\n"
      ],
      "text/plain": [
       "<pandas.io.formats.style.Styler at 0x1acb1ee6f30>"
      ]
     },
     "metadata": {},
     "output_type": "display_data"
    },
    {
     "name": "stdout",
     "output_type": "stream",
     "text": [
      "passed test for arg: \"\n",
      "    height / weight\n",
      "        ´m to num\n",
      "        ´r all is num\n",
      "    \"\n"
     ]
    },
    {
     "data": {
      "text/html": [
       "<style type=\"text/css\">\n",
       "#T_d1281_row0_col0, #T_d1281_row0_col1, #T_d1281_row0_col2, #T_d1281_row0_col3 {\n",
       "  background-color: #c0e7b0;\n",
       "}\n",
       "</style>\n",
       "<table id=\"T_d1281\">\n",
       "  <thead>\n",
       "  </thead>\n",
       "  <tbody>\n",
       "    <tr>\n",
       "      <th id=\"T_d1281_level0_row0\" class=\"row_heading level0 row0\" >2</th>\n",
       "      <td id=\"T_d1281_row0_col0\" class=\"data row0 col0\" >df was checked. no problems found</td>\n",
       "      <td id=\"T_d1281_row0_col1\" class=\"data row0 col1\" >qp.pd_util._check_df</td>\n",
       "      <td id=\"T_d1281_row0_col2\" class=\"data row0 col2\" >info</td>\n",
       "      <td id=\"T_d1281_row0_col3\" class=\"data row0 col3\" >2024-07-15 15:37:57.220396</td>\n",
       "    </tr>\n",
       "  </tbody>\n",
       "</table>\n"
      ],
      "text/plain": [
       "<pandas.io.formats.style.Styler at 0x1acb2e8b8c0>"
      ]
     },
     "metadata": {},
     "output_type": "display_data"
    },
    {
     "name": "stdout",
     "output_type": "stream",
     "text": [
      "passed test for arg: \"age ´r x? isinstance(x, int)\"\n",
      "passed test for arg: \"\n",
      "    age / height ´m to num\n",
      "    age ´r col? col < df[\"height\"]\n",
      "    \"\n",
      "passed test for arg: \"\n",
      "    age / height ´m to num\n",
      "    age ´r col? col == df[\"age\"].max()\n",
      "    age ´m to str\n",
      "    \"\n"
     ]
    }
   ],
   "source": [
    "\n",
    "df = get_df()\n",
    "\n",
    "\n",
    "#col equality\n",
    "\n",
    "result = df.q('date of birth', inplace=True, verbosity=0)\n",
    "compare(result, df.loc[:, ['date of birth']])\n",
    "\n",
    "result = df.q('=date of birth', verbosity=0)\n",
    "compare(result, df.loc[:, ['date of birth']])\n",
    "\n",
    "result = df.q('date of birth / age', verbosity=0)\n",
    "compare(result, df.loc[:, ['date of birth', 'age']])\n",
    "\n",
    "result = df.q('date of birth / =age', verbosity=0)\n",
    "compare(result, df.loc[:, ['date of birth', 'age']])\n",
    "\n",
    "result = df.q('=date of birth / age', verbosity=0)\n",
    "compare(result, df.loc[:, ['date of birth', 'age']])\n",
    "\n",
    "result = df.q('=date of birth / =age', verbosity=0)\n",
    "compare(result, df.loc[:, ['date of birth', 'age']])\n",
    "\n",
    "result = df.q('!=date of birth', verbosity=0)\n",
    "compare(result, df.loc[:, ['ID', 'name', 'age', 'gender', 'height', 'weight', 'bp systole', 'bp diastole', 'cholesterol', 'diabetes', 'dose']])\n",
    "\n",
    "\n",
    "\n",
    "\n",
    "#multi line col equality\n",
    "result = df.q('', verbosity=0)\n",
    "compare(result, df.loc[:, :])\n",
    "\n",
    "result = df.q('=ID', verbosity=0)\n",
    "compare(result, df.loc[:, ['ID']])\n",
    "\n",
    "result = df.q('=ID', '', verbosity=0)\n",
    "compare(result, df.loc[:, ['ID']])\n",
    "\n",
    "result = df.q('=', verbosity=0)\n",
    "compare(result, df.loc[:, []])\n",
    "\n",
    "result = df.q(\n",
    "    r\"\"\"\n",
    "    =ID\n",
    "    ID\n",
    "    \"\"\",\n",
    "    verbosity=0)\n",
    "compare(result, df.loc[:, ['ID']])\n",
    "\n",
    "result = df.q(\n",
    "    r\"\"\"\n",
    "    ID\n",
    "    age\n",
    "    \"\"\",\n",
    "    verbosity=0)\n",
    "compare(result, df.loc[:, ['age']])\n",
    "\n",
    "result = df.q(\n",
    "    r\"\"\"\n",
    "    ID\n",
    "    / age\n",
    "    \"\"\",\n",
    "    verbosity=0)\n",
    "compare(result, df.loc[:, ['ID', 'age']])\n",
    "\n",
    "\n",
    "\n",
    "#col contains\n",
    "result = df.q('()bp', verbosity=0)\n",
    "compare(result, df.loc[:, ['bp systole', 'bp diastole']])\n",
    "\n",
    "result = df.q('()I', verbosity=0)\n",
    "compare(result, df.loc[:, ['ID', 'date of birth', 'height', 'weight', 'bp diastole', 'diabetes']])\n",
    "\n",
    "result = df.q('(())I', verbosity=0)\n",
    "compare(result, df.loc[:, ['ID']])\n",
    "\n",
    "\n",
    "\n",
    "\n",
    "#col regex equality\n",
    "result = df.q('~~.', verbosity=0)\n",
    "compare(result, df.loc[:, []])\n",
    "\n",
    "result = df.q('~~..', verbosity=0)\n",
    "compare(result, df.loc[:, ['ID']])\n",
    "\n",
    "\n",
    "\n",
    "#col multiple conditions\n",
    "result = df.q('()bp / =diabetes', verbosity=0)\n",
    "compare(result, df.loc[:, ['bp systole', 'bp diastole', 'diabetes']])\n",
    "\n",
    "result = df.q('()bp / =diabetes / =cholesterol', verbosity=0)\n",
    "compare(result, df.loc[:, ['bp systole', 'bp diastole', 'cholesterol', 'diabetes']])\n",
    "\n",
    "result = df.q('()bp / =cholesterol / =diabetes', verbosity=0)\n",
    "compare(result, df.loc[:, ['bp systole', 'bp diastole', 'cholesterol', 'diabetes']])\n",
    "\n",
    "result = df.q('()bp & ()systole', verbosity=0)\n",
    "compare(result, df.loc[:, ['bp systole']])\n",
    "\n",
    "result = df.q('()bp & !()systole', verbosity=0)\n",
    "compare(result, df.loc[:, ['bp diastole']])\n",
    "\n",
    "result = df.q('()i & ~~..', verbosity=0)\n",
    "compare(result, df.loc[:, ['ID']])\n",
    "\n",
    "\n",
    "\n",
    "\n",
    "#row types\n",
    "result = df.q('name ´r is str', verbosity=0)\n",
    "compare(result, df.loc[:, ['name']])\n",
    "\n",
    "result = df.q('name ´r !is str', verbosity=0)\n",
    "compare(result, df.loc[[], ['name']])\n",
    "\n",
    "result = df.q('name ´r is num', verbosity=0)\n",
    "compare(result, df.loc[[], ['name']])\n",
    "\n",
    "result = df.q('name ´r !is num', verbosity=0)\n",
    "compare(result, df.loc[[0,1,2,3,4,5,6,7,8,9,10], ['name']])\n",
    "\n",
    "result = df.q('name ´r is na', verbosity=0)\n",
    "compare(result, df.loc[[], ['name']])\n",
    "\n",
    "result = df.q('name ´r !is na', verbosity=0)\n",
    "compare(result, df.loc[[0,1,2,3,4,5,6,7,8,9,10], ['name']])\n",
    "\n",
    "result = df.q('age ´r is na', verbosity=0)\n",
    "compare(result, df.loc[[2,3,6,8], ['age']])\n",
    "\n",
    "result = df.q('cholesterol ´r is na', verbosity=0)\n",
    "compare(result, df.loc[[2,4,7,9], ['cholesterol']])\n",
    "\n",
    "result = df.q('weight ´r is num', verbosity=0)\n",
    "compare(result, df.loc[[0,1,4,6,7,9,10], ['weight']])\n",
    "\n",
    "result = df.q('weight ´r is num & !is na', verbosity=0)\n",
    "compare(result, df.loc[[0,1,7,9,10], ['weight']])\n",
    "\n",
    "result = df.q('date of birth ´r !is date', verbosity=0)\n",
    "compare(result, df.loc[[7], ['date of birth']])\n",
    "\n",
    "result = df.q('diabetes ´r is yn', verbosity=0)\n",
    "compare(result, df.loc[[0,1,3,4,5,6,9,10], ['diabetes']])\n",
    "\n",
    "result = df.q('diabetes ´r is na / is yn', verbosity=0)\n",
    "compare(result, df.loc[:, ['diabetes']])\n",
    "\n",
    "result = df.q('diabetes ´r is yn', verbosity=0)\n",
    "compare(result, df.loc[[0,1,3,4,5,6,9,10], ['diabetes']])\n",
    "\n",
    "result = df.q('diabetes ´r is yes', verbosity=0)\n",
    "compare(result, df.loc[[1,4,5,10], ['diabetes']])\n",
    "\n",
    "result = df.q('diabetes ´r is no', verbosity=0)\n",
    "compare(result, df.loc[[0,3,6,9], ['diabetes']])\n",
    "\n",
    "\n",
    "\n",
    "#row regex equality\n",
    "result = df.q('ID ´r ~~1....', verbosity=0)\n",
    "compare(result, df.loc[[0,1,2], ['ID']])\n",
    "\n",
    "result = df.q('ID ´r !~~3....', verbosity=0)\n",
    "compare(result, df.loc[[0,1,2,3,4,5], ['ID']])\n",
    "\n",
    "#two words with first letter capitalized and separated by a space\n",
    "result = df.q('name ´r ~~\\\\b[A-Z][a-z]*\\\\s[A-Z][a-z]*\\\\b', verbosity=0)\n",
    "compare(result, df.loc[[0,1,2,3,7], ['name']])\n",
    "\n",
    "#all lowercase\n",
    "result = df.q('name ´r ~~^[^A-Z]*$', verbosity=0)\n",
    "compare(result, df.loc[[4], ['name']])\n",
    "\n",
    "#containing letters and numbers\n",
    "result = df.q('dose ´r ~~^(?=.*[a-zA-Z])(?=.*[0-9]).*$', verbosity=0)\n",
    "compare(result, df.loc[[0,2,3,4,5,8,10], ['dose']])\n",
    "\n",
    "\n",
    "#row regex search\n",
    "result = df.q('bp systole ´r ~m', verbosity=0)\n",
    "compare(result, df.loc[[4], ['bp systole']])\n",
    "\n",
    "result = df.q(r'bp systole ´r ~\\D', verbosity=0)\n",
    "compare(result, df.loc[[2,4,6], ['bp systole']])\n",
    "\n",
    "result = df.q('bp systole ´r ~\\d', verbosity=0)\n",
    "compare(result, df.loc[[0,1,3,4,5,7,9,10], ['bp systole']])\n",
    "\n",
    "\n",
    "\n",
    "#filter by multiple columns\n",
    "result = df.q('id / name  ´r ()j', verbosity=0)\n",
    "compare(result, df.loc[[0, 1, 2, 9, 10], ['ID', 'name']])\n",
    "\n",
    "result = df.q('id / name  ´r ()j / ()n', verbosity=0)\n",
    "compare(result, df.loc[[0, 1, 2, 3, 5, 8, 9, 10], ['ID', 'name']])\n",
    "\n",
    "result = df.q('id / name  ´r ()j & ()n', verbosity=0)\n",
    "compare(result, df.loc[[0, 1, 2, 10], ['ID', 'name']])\n",
    "\n",
    "result = df.q('height / weight  ´r is num', verbosity=0)\n",
    "compare(result, df.loc[[0, 1, 2, 3, 4, 5, 6, 7, 8, 9, 10], ['height', 'weight']])\n",
    "\n",
    "result = df.q('height / weight  ´r any is num', verbosity=0)\n",
    "compare(result, df.loc[[0, 1, 2, 3, 4, 5, 6, 7, 8, 9, 10], ['height', 'weight']])\n",
    "\n",
    "result = df.q('height / weight  ´r anyis num', verbosity=0)\n",
    "compare(result, df.loc[[0, 1, 2, 3, 4, 5, 6, 7, 8, 9, 10], ['height', 'weight']])\n",
    "\n",
    "result = df.q('height / weight  ´r all is num', verbosity=0)\n",
    "compare(result, df.loc[[0, 6, 9, 10], ['height', 'weight']])\n",
    "\n",
    "\n",
    "result = df.q(\n",
    "    r\"\"\"\n",
    "    height / weight ´m to num\n",
    "    height / weight  ´r all is num\n",
    "    \"\"\",\n",
    "    inplace=True, verbosity=0)\n",
    "compare(result, df.loc[[0, 1, 2, 3, 4, 5, 6, 7, 8, 9, 10], ['height', 'weight']])\n",
    "df = get_df()\n",
    "\n",
    "result = df.q(\n",
    "    r\"\"\"\n",
    "    height / weight\n",
    "        ´m to num\n",
    "        ´r all is num\n",
    "    \"\"\",\n",
    "    inplace=True, verbosity=0)\n",
    "compare(result, df.loc[[0, 1, 2, 3, 4, 5, 6, 7, 8, 9, 10], ['height', 'weight']])\n",
    "df = get_df()\n",
    "\n",
    "\n",
    "\n",
    "\n",
    "#custom python expression evaluation\n",
    "result = df.q('age ´r x? isinstance(x, int)', verbosity=0)\n",
    "compare(result, df.loc[[0, 10], ['age']])\n",
    "\n",
    "result = df.q(\n",
    "    r\"\"\"\n",
    "    age / height ´m to num\n",
    "    age ´r col? col < df[\"height\"]\n",
    "    \"\"\",\n",
    "    inplace=False, verbosity=0,\n",
    "    )\n",
    "compare(result, df.loc[[0, 10], ['age']])\n",
    "\n",
    "result = df.q(\n",
    "    r\"\"\"\n",
    "    age / height ´m to num\n",
    "    age ´r col? col == df[\"age\"].max()\n",
    "    age ´m to str\n",
    "    \"\"\",\n",
    "    inplace=False, verbosity=0,\n",
    "    )\n",
    "compare(result, df.loc[[4], ['age']])\n",
    "\n",
    "\n"
   ]
  },
  {
   "cell_type": "markdown",
   "metadata": {},
   "source": [
    "## complex filtering"
   ]
  },
  {
   "cell_type": "code",
   "execution_count": 13,
   "metadata": {},
   "outputs": [
    {
     "data": {
      "text/html": [
       "<style type=\"text/css\">\n",
       "#T_1a8d1_row0_col0, #T_1a8d1_row0_col1, #T_1a8d1_row0_col2, #T_1a8d1_row0_col3 {\n",
       "  background-color: #c0e7b0;\n",
       "}\n",
       "</style>\n",
       "<table id=\"T_1a8d1\">\n",
       "  <thead>\n",
       "  </thead>\n",
       "  <tbody>\n",
       "    <tr>\n",
       "      <th id=\"T_1a8d1_level0_row0\" class=\"row_heading level0 row0\" >3</th>\n",
       "      <td id=\"T_1a8d1_row0_col0\" class=\"data row0 col0\" >df was checked. no problems found</td>\n",
       "      <td id=\"T_1a8d1_row0_col1\" class=\"data row0 col1\" >qp.pd_util._check_df</td>\n",
       "      <td id=\"T_1a8d1_row0_col2\" class=\"data row0 col2\" >info</td>\n",
       "      <td id=\"T_1a8d1_row0_col3\" class=\"data row0 col3\" >2024-07-15 15:37:57.269591</td>\n",
       "    </tr>\n",
       "  </tbody>\n",
       "</table>\n"
      ],
      "text/plain": [
       "<pandas.io.formats.style.Styler at 0x1acb2e8bd70>"
      ]
     },
     "metadata": {},
     "output_type": "display_data"
    },
    {
     "name": "stdout",
     "output_type": "stream",
     "text": [
      "passed test for arg: \"\n",
      "    ID  ´r ~~1....\n",
      "    diabetes ´r is yes\n",
      "    \"\n",
      "passed test for arg: \"\n",
      "    ID  ´r ~~1....  ´n $1\n",
      "    diabetes ´r is yes & $1\n",
      "    ID / diabetes\n",
      "    \"\n",
      "passed test for arg: \"\n",
      "    ID  ´r ~~1.... / ~~2....  ´n $1\n",
      "    gender ´r =m / =male & $1\n",
      "    ID / gender\n",
      "    \"\n",
      "passed test for arg: \"\n",
      "    ID  ´r ~~1.... / ~~2....  ´n $ 1\n",
      "    gender ´r =m / =male &$1\n",
      "    \"\n",
      "passed test for arg: \"\n",
      "    ID  ´r ~~1.... / ~~2....  ´n $1\n",
      "    gender ´r =m / =m / =male  / $ 1\n",
      "    \"\n",
      "passed test for arg: \"\n",
      "    ID  ´r ~~1.... / ~~2....  ´n $1\n",
      "    gender ´r =f / =f / =female  / $ 1\n",
      "    ID\n",
      "    \"\n",
      "passed test for arg: \"\n",
      "    gender ´r =f / =female  ´n $ a\n",
      "    age ´r >30  & $ a \n",
      "    \"\n",
      "passed test for arg: \"\n",
      "    age ´r >30  ´n $ a\n",
      "    age ´r <18 /$a\n",
      "    \"\n",
      "passed test for arg: \"\n",
      "    age ´r >30 / <18\n",
      "    \"\n",
      "passed test for arg: \"\n",
      "    weight ´r <70 & >40  ´n $ between 40 and 70\n",
      "    diabetes ´r is yes & $between 40 and 70   \n",
      "    \"\n",
      "passed test for arg: \"\n",
      "    weight ´r <70  ´n $ <70\n",
      "    &weight ´r >40  ´n$>40\n",
      "    diabetes ´r is no & $<70 & $ >40\n",
      "    weight / diabetes\n",
      "    \"\n"
     ]
    }
   ],
   "source": [
    "df = get_df()\n",
    "\n",
    "result = df.q(\n",
    "    r\"\"\"\n",
    "    ID  ´r ~~1....\n",
    "    diabetes ´r is yes\n",
    "    \"\"\",\n",
    "    verbosity=0)\n",
    "compare(result, df.loc[[1, 4, 5, 10], ['diabetes']])\n",
    "\n",
    "\n",
    "result = df.q(\n",
    "    r\"\"\"\n",
    "    ID  ´r ~~1....  ´n $1\n",
    "    diabetes ´r is yes & $1\n",
    "    ID / diabetes\n",
    "    \"\"\",\n",
    "    verbosity=0)\n",
    "compare(result, df.loc[[1], ['ID', 'diabetes']])\n",
    "\n",
    "\n",
    "result = df.q(\n",
    "    r\"\"\"\n",
    "    ID  ´r ~~1.... / ~~2....  ´n $1\n",
    "    gender ´r =m / =male & $1\n",
    "    ID / gender\n",
    "    \"\"\",\n",
    "    verbosity=0)\n",
    "compare(result, df.loc[[0,3,5], ['ID', 'gender']])\n",
    "\n",
    "\n",
    "result = df.q(\n",
    "    r\"\"\"\n",
    "    ID  ´r ~~1.... / ~~2....  ´n $ 1\n",
    "    gender ´r =m / =male &$1\n",
    "    \"\"\",\n",
    "    verbosity=0)\n",
    "compare(result, df.loc[[0,3,5], ['gender']])\n",
    "\n",
    "\n",
    "result = df.q(\n",
    "    r\"\"\"\n",
    "    ID  ´r ~~1.... / ~~2....  ´n $1\n",
    "    gender ´r =m / =m / =male  / $ 1\n",
    "    \"\"\",\n",
    "    verbosity=0)\n",
    "compare(result, df.loc[[0,1,2,3,4,5], ['gender']])\n",
    "\n",
    "\n",
    "result = df.q(\n",
    "    r\"\"\"\n",
    "    ID  ´r ~~1.... / ~~2....  ´n $1\n",
    "    gender ´r =f / =f / =female  / $ 1\n",
    "    ID\n",
    "    \"\"\",\n",
    "    verbosity=0)\n",
    "compare(result, df.loc[[0,1,2,3,4,5,10], ['ID']])\n",
    "\n",
    "\n",
    "result = df.q(\n",
    "    r\"\"\"\n",
    "    gender ´r =f / =female  ´n $ a\n",
    "    age ´r >30  & $ a \n",
    "    \"\"\",\n",
    "    verbosity=0)\n",
    "compare(result, df.loc[[10], ['age']])\n",
    "\n",
    "\n",
    "\n",
    "result = df.q(\n",
    "    r\"\"\"\n",
    "    age ´r >30  ´n $ a\n",
    "    age ´r <18 /$a\n",
    "    \"\"\",\n",
    "    verbosity=0)\n",
    "compare(result, df.loc[[0,4,10], ['age']])\n",
    "\n",
    "\n",
    "result = df.q(\n",
    "    r\"\"\"\n",
    "    age ´r >30 / <18\n",
    "    \"\"\",\n",
    "    verbosity=0)\n",
    "compare(result, df.loc[[0,4,10], ['age']])\n",
    "\n",
    "\n",
    "result = df.q(\n",
    "    r\"\"\"\n",
    "    weight ´r <70 & >40  ´n $ between 40 and 70\n",
    "    diabetes ´r is yes & $between 40 and 70   \n",
    "    \"\"\",\n",
    "    verbosity=0)\n",
    "compare(result, df.loc[[1], ['diabetes']])\n",
    "\n",
    "result = df.q(\n",
    "    r\"\"\"\n",
    "    weight ´r <70  ´n $ <70\n",
    "    &weight ´r >40  ´n$>40\n",
    "    diabetes ´r is no & $<70 & $ >40\n",
    "    weight / diabetes\n",
    "    \"\"\",\n",
    "    verbosity=0)\n",
    "compare(result, df.loc[[], ['weight', 'diabetes']])\n",
    "\n",
    "\n",
    "\n"
   ]
  },
  {
   "cell_type": "markdown",
   "metadata": {},
   "source": [
    "## data modification"
   ]
  },
  {
   "cell_type": "code",
   "execution_count": 14,
   "metadata": {},
   "outputs": [
    {
     "data": {
      "text/html": [
       "<style type=\"text/css\">\n",
       "#T_05560_row0_col0, #T_05560_row0_col1, #T_05560_row0_col2, #T_05560_row0_col3 {\n",
       "  background-color: #c0e7b0;\n",
       "}\n",
       "</style>\n",
       "<table id=\"T_05560\">\n",
       "  <thead>\n",
       "  </thead>\n",
       "  <tbody>\n",
       "    <tr>\n",
       "      <th id=\"T_05560_level0_row0\" class=\"row_heading level0 row0\" >4</th>\n",
       "      <td id=\"T_05560_row0_col0\" class=\"data row0 col0\" >df was checked. no problems found</td>\n",
       "      <td id=\"T_05560_row0_col1\" class=\"data row0 col1\" >qp.pd_util._check_df</td>\n",
       "      <td id=\"T_05560_row0_col2\" class=\"data row0 col2\" >info</td>\n",
       "      <td id=\"T_05560_row0_col3\" class=\"data row0 col3\" >2024-07-15 15:37:57.404784</td>\n",
       "    </tr>\n",
       "  </tbody>\n",
       "</table>\n"
      ],
      "text/plain": [
       "<pandas.io.formats.style.Styler at 0x1acb2e8b0e0>"
      ]
     },
     "metadata": {},
     "output_type": "display_data"
    },
    {
     "name": "stdout",
     "output_type": "stream",
     "text": [
      "passed test for arg: \"id ´m col= df[\"name\"]\"\n"
     ]
    },
    {
     "data": {
      "text/html": [
       "<style type=\"text/css\">\n",
       "#T_f0bab_row0_col0, #T_f0bab_row0_col1, #T_f0bab_row0_col2, #T_f0bab_row0_col3 {\n",
       "  background-color: #c0e7b0;\n",
       "}\n",
       "</style>\n",
       "<table id=\"T_f0bab\">\n",
       "  <thead>\n",
       "  </thead>\n",
       "  <tbody>\n",
       "    <tr>\n",
       "      <th id=\"T_f0bab_level0_row0\" class=\"row_heading level0 row0\" >5</th>\n",
       "      <td id=\"T_f0bab_row0_col0\" class=\"data row0 col0\" >df was checked. no problems found</td>\n",
       "      <td id=\"T_f0bab_row0_col1\" class=\"data row0 col1\" >qp.pd_util._check_df</td>\n",
       "      <td id=\"T_f0bab_row0_col2\" class=\"data row0 col2\" >info</td>\n",
       "      <td id=\"T_f0bab_row0_col3\" class=\"data row0 col3\" >2024-07-15 15:37:57.420100</td>\n",
       "    </tr>\n",
       "  </tbody>\n",
       "</table>\n"
      ],
      "text/plain": [
       "<pandas.io.formats.style.Styler at 0x1acb21f3020>"
      ]
     },
     "metadata": {},
     "output_type": "display_data"
    },
    {
     "name": "stdout",
     "output_type": "stream",
     "text": [
      "passed test for arg: \"\n",
      "    id ´m col= df[\"name\"]\n",
      "    is any ´r is any\n",
      "    \"\n"
     ]
    },
    {
     "data": {
      "text/html": [
       "<style type=\"text/css\">\n",
       "#T_c1af2_row0_col0, #T_c1af2_row0_col1, #T_c1af2_row0_col2, #T_c1af2_row0_col3 {\n",
       "  background-color: #c0e7b0;\n",
       "}\n",
       "</style>\n",
       "<table id=\"T_c1af2\">\n",
       "  <thead>\n",
       "  </thead>\n",
       "  <tbody>\n",
       "    <tr>\n",
       "      <th id=\"T_c1af2_level0_row0\" class=\"row_heading level0 row0\" >6</th>\n",
       "      <td id=\"T_c1af2_row0_col0\" class=\"data row0 col0\" >df was checked. no problems found</td>\n",
       "      <td id=\"T_c1af2_row0_col1\" class=\"data row0 col1\" >qp.pd_util._check_df</td>\n",
       "      <td id=\"T_c1af2_row0_col2\" class=\"data row0 col2\" >info</td>\n",
       "      <td id=\"T_c1af2_row0_col3\" class=\"data row0 col3\" >2024-07-15 15:37:57.436442</td>\n",
       "    </tr>\n",
       "  </tbody>\n",
       "</table>\n"
      ],
      "text/plain": [
       "<pandas.io.formats.style.Styler at 0x1acb2e8b1d0>"
      ]
     },
     "metadata": {},
     "output_type": "display_data"
    },
    {
     "name": "stdout",
     "output_type": "stream",
     "text": [
      "passed test for arg: \"id // age ´m col= df[\"name\"]\"\n"
     ]
    },
    {
     "data": {
      "text/html": [
       "<style type=\"text/css\">\n",
       "#T_0b270_row0_col0, #T_0b270_row0_col1, #T_0b270_row0_col2, #T_0b270_row0_col3 {\n",
       "  background-color: #c0e7b0;\n",
       "}\n",
       "</style>\n",
       "<table id=\"T_0b270\">\n",
       "  <thead>\n",
       "  </thead>\n",
       "  <tbody>\n",
       "    <tr>\n",
       "      <th id=\"T_0b270_level0_row0\" class=\"row_heading level0 row0\" >7</th>\n",
       "      <td id=\"T_0b270_row0_col0\" class=\"data row0 col0\" >df was checked. no problems found</td>\n",
       "      <td id=\"T_0b270_row0_col1\" class=\"data row0 col1\" >qp.pd_util._check_df</td>\n",
       "      <td id=\"T_0b270_row0_col2\" class=\"data row0 col2\" >info</td>\n",
       "      <td id=\"T_0b270_row0_col3\" class=\"data row0 col3\" >2024-07-15 15:37:57.452580</td>\n",
       "    </tr>\n",
       "  </tbody>\n",
       "</table>\n"
      ],
      "text/plain": [
       "<pandas.io.formats.style.Styler at 0x1acb2e49c70>"
      ]
     },
     "metadata": {},
     "output_type": "display_data"
    },
    {
     "name": "stdout",
     "output_type": "stream",
     "text": [
      "passed test for arg: \"´m col= df[\"name\"]\"\n"
     ]
    },
    {
     "data": {
      "text/html": [
       "<style type=\"text/css\">\n",
       "#T_6b615_row0_col0, #T_6b615_row0_col1, #T_6b615_row0_col2, #T_6b615_row0_col3 {\n",
       "  background-color: #c0e7b0;\n",
       "}\n",
       "</style>\n",
       "<table id=\"T_6b615\">\n",
       "  <thead>\n",
       "  </thead>\n",
       "  <tbody>\n",
       "    <tr>\n",
       "      <th id=\"T_6b615_level0_row0\" class=\"row_heading level0 row0\" >8</th>\n",
       "      <td id=\"T_6b615_row0_col0\" class=\"data row0 col0\" >df was checked. no problems found</td>\n",
       "      <td id=\"T_6b615_row0_col1\" class=\"data row0 col1\" >qp.pd_util._check_df</td>\n",
       "      <td id=\"T_6b615_row0_col2\" class=\"data row0 col2\" >info</td>\n",
       "      <td id=\"T_6b615_row0_col3\" class=\"data row0 col3\" >2024-07-15 15:37:57.467453</td>\n",
       "    </tr>\n",
       "  </tbody>\n",
       "</table>\n"
      ],
      "text/plain": [
       "<pandas.io.formats.style.Styler at 0x1acb2eba6f0>"
      ]
     },
     "metadata": {},
     "output_type": "display_data"
    },
    {
     "name": "stdout",
     "output_type": "stream",
     "text": [
      "passed test for arg: \"\n",
      "    name ´m x= x.lower()\n",
      "    is any ´r is any\n",
      "    \"\n"
     ]
    },
    {
     "data": {
      "text/html": [
       "<style type=\"text/css\">\n",
       "#T_37c36_row0_col0, #T_37c36_row0_col1, #T_37c36_row0_col2, #T_37c36_row0_col3 {\n",
       "  background-color: #c0e7b0;\n",
       "}\n",
       "</style>\n",
       "<table id=\"T_37c36\">\n",
       "  <thead>\n",
       "  </thead>\n",
       "  <tbody>\n",
       "    <tr>\n",
       "      <th id=\"T_37c36_level0_row0\" class=\"row_heading level0 row0\" >9</th>\n",
       "      <td id=\"T_37c36_row0_col0\" class=\"data row0 col0\" >df was checked. no problems found</td>\n",
       "      <td id=\"T_37c36_row0_col1\" class=\"data row0 col1\" >qp.pd_util._check_df</td>\n",
       "      <td id=\"T_37c36_row0_col2\" class=\"data row0 col2\" >info</td>\n",
       "      <td id=\"T_37c36_row0_col3\" class=\"data row0 col3\" >2024-07-15 15:37:57.488825</td>\n",
       "    </tr>\n",
       "  </tbody>\n",
       "</table>\n"
      ],
      "text/plain": [
       "<pandas.io.formats.style.Styler at 0x1acb223c560>"
      ]
     },
     "metadata": {},
     "output_type": "display_data"
    },
    {
     "name": "stdout",
     "output_type": "stream",
     "text": [
      "passed test for arg: \"\n",
      "    name  ´r !x? x == x.lower()  ´m x= x.lower()\n",
      "    is any ´r is any\n",
      "    \"\n"
     ]
    },
    {
     "data": {
      "text/html": [
       "<style type=\"text/css\">\n",
       "#T_dee8c_row0_col0, #T_dee8c_row0_col1, #T_dee8c_row0_col2, #T_dee8c_row0_col3 {\n",
       "  background-color: #c0e7b0;\n",
       "}\n",
       "</style>\n",
       "<table id=\"T_dee8c\">\n",
       "  <thead>\n",
       "  </thead>\n",
       "  <tbody>\n",
       "    <tr>\n",
       "      <th id=\"T_dee8c_level0_row0\" class=\"row_heading level0 row0\" >10</th>\n",
       "      <td id=\"T_dee8c_row0_col0\" class=\"data row0 col0\" >df was checked. no problems found</td>\n",
       "      <td id=\"T_dee8c_row0_col1\" class=\"data row0 col1\" >qp.pd_util._check_df</td>\n",
       "      <td id=\"T_dee8c_row0_col2\" class=\"data row0 col2\" >info</td>\n",
       "      <td id=\"T_dee8c_row0_col3\" class=\"data row0 col3\" >2024-07-15 15:37:57.508391</td>\n",
       "    </tr>\n",
       "  </tbody>\n",
       "</table>\n"
      ],
      "text/plain": [
       "<pandas.io.formats.style.Styler at 0x1acb2202330>"
      ]
     },
     "metadata": {},
     "output_type": "display_data"
    },
    {
     "name": "stdout",
     "output_type": "stream",
     "text": [
      "passed test for arg: \"\n",
      "    a ´r >0\n",
      "    b ´m x= x+1\n",
      "    \"\n",
      "passed test for arg: \"\n",
      "    a ´r >0\n",
      "    b ´m x= x - 2\n",
      "    \"\n",
      "passed test for arg: \"b  ´m x=x*2\"\n",
      "passed test for arg: \"\n",
      "    a ´r =0\n",
      "    b ´m x= x`/2\n",
      "    \"\n"
     ]
    }
   ],
   "source": [
    "#set columns\n",
    "\n",
    "df = get_df()\n",
    "df1 = get_df()\n",
    "result = df.q('id ´m col= df[\"name\"]', verbosity=0)\n",
    "df1['ID'] = df1['name']\n",
    "compare(result, df1.loc[:, ['ID']])\n",
    "\n",
    "\n",
    "df = get_df()\n",
    "df1 = get_df()\n",
    "result = df.q(\n",
    "    r\"\"\"\n",
    "    id ´m col= df[\"name\"]\n",
    "    is any ´r is any\n",
    "    \"\"\",\n",
    "    verbosity=0)\n",
    "df1['ID'] = df1['name']\n",
    "compare(result, df1.loc[:, :])\n",
    "\n",
    "\n",
    "df = get_df()\n",
    "df1 = get_df()\n",
    "result = df.q('id // age ´m col= df[\"name\"]' ,verbosity=0)\n",
    "df1['ID'] = df1['name']\n",
    "df1['age'] = df1['name']\n",
    "compare(result, df1.loc[:, ['ID', 'age']])\n",
    "\n",
    "df = get_df()\n",
    "df1 = get_df()\n",
    "result = df.q('´m col= df[\"name\"]', verbosity=0)\n",
    "for col in df1.columns:\n",
    "    df1[col] = df1['name']\n",
    "compare(result, df1)\n",
    "\n",
    "\n",
    "\n",
    "#set values\n",
    "\n",
    "df = get_df()\n",
    "df1 = get_df()\n",
    "result = df.q(\n",
    "    r\"\"\"\n",
    "    name ´m x= x.lower()\n",
    "    is any ´r is any\n",
    "    \"\"\",\n",
    "    verbosity=0)\n",
    "df1['name'] = df1['name'].str.lower()\n",
    "compare(result, df1.loc[:, :])\n",
    "\n",
    "df = get_df()\n",
    "df1 = get_df()\n",
    "result = df.q(\n",
    "    r\"\"\"\n",
    "    name  ´r !x? x == x.lower()  ´m x= x.lower()\n",
    "    is any ´r is any\n",
    "    \"\"\",\n",
    "    verbosity=0)\n",
    "df1['name'] = df1['name'].str.lower()\n",
    "compare(result, df1.loc[:, :])\n",
    "\n",
    "\n",
    "\n",
    "df = get_df_simple_tagged()\n",
    "df1 = get_df_simple_tagged()\n",
    "df.q(\n",
    "    r\"\"\"\n",
    "    a ´r >0\n",
    "    b ´m x= x+1\n",
    "    \"\"\",\n",
    "    inplace=True, verbosity=0,\n",
    "    )\n",
    "df1['b'] = [ 1, 2, 4]\n",
    "compare(df, df1)\n",
    "\n",
    "\n",
    "df.q(\n",
    "    r\"\"\"\n",
    "    a ´r >0\n",
    "    b ´m x= x - 2\n",
    "    \"\"\",\n",
    "    inplace=True, verbosity=0,\n",
    "    )\n",
    "df1['b'] = [ 1, 2, 2]\n",
    "compare(df, df1)\n",
    "\n",
    "\n",
    "df.q('b  ´m x=x*2', inplace=True, verbosity=0)\n",
    "df1['b'] = [ 2, 4, 4]\n",
    "compare(df, df1)\n",
    "\n",
    "\n",
    "df.q(\n",
    "    r\"\"\"\n",
    "    a ´r =0\n",
    "    b ´m x= x`/2\n",
    "    \"\"\",\n",
    "    inplace=True, verbosity=0,\n",
    "    )\n",
    "df1['b'] = [ 2, 2, 4]\n",
    "compare(df, df1)\n"
   ]
  },
  {
   "cell_type": "markdown",
   "metadata": {},
   "source": [
    "## metadata modification"
   ]
  },
  {
   "cell_type": "code",
   "execution_count": 15,
   "metadata": {},
   "outputs": [
    {
     "data": {
      "text/html": [
       "<style type=\"text/css\">\n",
       "#T_ea9a8_row0_col0, #T_ea9a8_row0_col1, #T_ea9a8_row0_col2, #T_ea9a8_row0_col3 {\n",
       "  background-color: #c0e7b0;\n",
       "}\n",
       "</style>\n",
       "<table id=\"T_ea9a8\">\n",
       "  <thead>\n",
       "  </thead>\n",
       "  <tbody>\n",
       "    <tr>\n",
       "      <th id=\"T_ea9a8_level0_row0\" class=\"row_heading level0 row0\" >11</th>\n",
       "      <td id=\"T_ea9a8_row0_col0\" class=\"data row0 col0\" >df was checked. no problems found</td>\n",
       "      <td id=\"T_ea9a8_row0_col1\" class=\"data row0 col1\" >qp.pd_util._check_df</td>\n",
       "      <td id=\"T_ea9a8_row0_col2\" class=\"data row0 col2\" >info</td>\n",
       "      <td id=\"T_ea9a8_row0_col3\" class=\"data row0 col3\" >2024-07-15 15:37:57.702184</td>\n",
       "    </tr>\n",
       "  </tbody>\n",
       "</table>\n"
      ],
      "text/plain": [
       "<pandas.io.formats.style.Styler at 0x1acb2e1b0b0>"
      ]
     },
     "metadata": {},
     "output_type": "display_data"
    },
    {
     "name": "stdout",
     "output_type": "stream",
     "text": [
      "passed test for arg: \"a ´r >0  ´n meta   ´m += >0\"\n"
     ]
    },
    {
     "data": {
      "text/html": [
       "<style type=\"text/css\">\n",
       "#T_0df39_row0_col0, #T_0df39_row0_col1, #T_0df39_row0_col2, #T_0df39_row0_col3 {\n",
       "  background-color: #c0e7b0;\n",
       "}\n",
       "</style>\n",
       "<table id=\"T_0df39\">\n",
       "  <thead>\n",
       "  </thead>\n",
       "  <tbody>\n",
       "    <tr>\n",
       "      <th id=\"T_0df39_level0_row0\" class=\"row_heading level0 row0\" >12</th>\n",
       "      <td id=\"T_0df39_row0_col0\" class=\"data row0 col0\" >df was checked. no problems found</td>\n",
       "      <td id=\"T_0df39_row0_col1\" class=\"data row0 col1\" >qp.pd_util._check_df</td>\n",
       "      <td id=\"T_0df39_row0_col2\" class=\"data row0 col2\" >info</td>\n",
       "      <td id=\"T_0df39_row0_col3\" class=\"data row0 col3\" >2024-07-15 15:37:57.716346</td>\n",
       "    </tr>\n",
       "  </tbody>\n",
       "</table>\n"
      ],
      "text/plain": [
       "<pandas.io.formats.style.Styler at 0x1acb2ebafc0>"
      ]
     },
     "metadata": {},
     "output_type": "display_data"
    },
    {
     "name": "stdout",
     "output_type": "stream",
     "text": [
      "passed test for arg: \"=a   ´r >0   ´n meta   ´m x= x + \">0\"\"\n"
     ]
    },
    {
     "data": {
      "text/html": [
       "<style type=\"text/css\">\n",
       "#T_4b995_row0_col0, #T_4b995_row0_col1, #T_4b995_row0_col2, #T_4b995_row0_col3 {\n",
       "  background-color: #c0e7b0;\n",
       "}\n",
       "</style>\n",
       "<table id=\"T_4b995\">\n",
       "  <thead>\n",
       "  </thead>\n",
       "  <tbody>\n",
       "    <tr>\n",
       "      <th id=\"T_4b995_level0_row0\" class=\"row_heading level0 row0\" >13</th>\n",
       "      <td id=\"T_4b995_row0_col0\" class=\"data row0 col0\" >df was checked. no problems found</td>\n",
       "      <td id=\"T_4b995_row0_col1\" class=\"data row0 col1\" >qp.pd_util._check_df</td>\n",
       "      <td id=\"T_4b995_row0_col2\" class=\"data row0 col2\" >info</td>\n",
       "      <td id=\"T_4b995_row0_col3\" class=\"data row0 col3\" >2024-07-15 15:37:57.729193</td>\n",
       "    </tr>\n",
       "  </tbody>\n",
       "</table>\n"
      ],
      "text/plain": [
       "<pandas.io.formats.style.Styler at 0x1acb2ebb3e0>"
      ]
     },
     "metadata": {},
     "output_type": "display_data"
    },
    {
     "name": "stdout",
     "output_type": "stream",
     "text": [
      "passed test for arg: \"=a   ´r >0   ´n  meta ´m +=>0\"\n"
     ]
    },
    {
     "data": {
      "text/html": [
       "<style type=\"text/css\">\n",
       "#T_49f3a_row0_col0, #T_49f3a_row0_col1, #T_49f3a_row0_col2, #T_49f3a_row0_col3 {\n",
       "  background-color: #c0e7b0;\n",
       "}\n",
       "</style>\n",
       "<table id=\"T_49f3a\">\n",
       "  <thead>\n",
       "  </thead>\n",
       "  <tbody>\n",
       "    <tr>\n",
       "      <th id=\"T_49f3a_level0_row0\" class=\"row_heading level0 row0\" >14</th>\n",
       "      <td id=\"T_49f3a_row0_col0\" class=\"data row0 col0\" >df was checked. no problems found</td>\n",
       "      <td id=\"T_49f3a_row0_col1\" class=\"data row0 col1\" >qp.pd_util._check_df</td>\n",
       "      <td id=\"T_49f3a_row0_col2\" class=\"data row0 col2\" >info</td>\n",
       "      <td id=\"T_49f3a_row0_col3\" class=\"data row0 col3\" >2024-07-15 15:37:57.747942</td>\n",
       "    </tr>\n",
       "  </tbody>\n",
       "</table>\n"
      ],
      "text/plain": [
       "<pandas.io.formats.style.Styler at 0x1acb2eb90d0>"
      ]
     },
     "metadata": {},
     "output_type": "display_data"
    },
    {
     "name": "stdout",
     "output_type": "stream",
     "text": [
      "passed test for arg: \"=a´r >0     ´n meta   ´m += >0\"\n"
     ]
    },
    {
     "data": {
      "text/html": [
       "<style type=\"text/css\">\n",
       "#T_9de84_row0_col0, #T_9de84_row0_col1, #T_9de84_row0_col2, #T_9de84_row0_col3 {\n",
       "  background-color: #c0e7b0;\n",
       "}\n",
       "</style>\n",
       "<table id=\"T_9de84\">\n",
       "  <thead>\n",
       "  </thead>\n",
       "  <tbody>\n",
       "    <tr>\n",
       "      <th id=\"T_9de84_level0_row0\" class=\"row_heading level0 row0\" >15</th>\n",
       "      <td id=\"T_9de84_row0_col0\" class=\"data row0 col0\" >df was checked. no problems found</td>\n",
       "      <td id=\"T_9de84_row0_col1\" class=\"data row0 col1\" >qp.pd_util._check_df</td>\n",
       "      <td id=\"T_9de84_row0_col2\" class=\"data row0 col2\" >info</td>\n",
       "      <td id=\"T_9de84_row0_col3\" class=\"data row0 col3\" >2024-07-15 15:37:57.760775</td>\n",
       "    </tr>\n",
       "  </tbody>\n",
       "</table>\n"
      ],
      "text/plain": [
       "<pandas.io.formats.style.Styler at 0x1acb2eb9fd0>"
      ]
     },
     "metadata": {},
     "output_type": "display_data"
    },
    {
     "name": "stdout",
     "output_type": "stream",
     "text": [
      "passed test for arg: \"=a  ´r >0   ´n meta   ´m += >0\"\n",
      "passed test for arg: \"=a   ´r >0  ´n meta   ´m += >0\"\n",
      "passed test for arg: \"=a   ´r ==0    ´n meta   ´m += 0\"\n",
      "passed test for arg: \"a   ´r ==0    ´n meta  ´m x= x.replace(\"0\", \"\")\"\n",
      "passed test for arg: \"=a   ´r >0    ´n meta  ´m x= x.replace(\"0\", \"\")\"\n",
      "passed test for arg: \"=a     ´n meta   ´m =\"\n"
     ]
    }
   ],
   "source": [
    "\n",
    "#syntax\n",
    "df = get_df_simple_tagged()\n",
    "df1 = get_df_simple_tagged()\n",
    "df.q('a ´r >0  ´n meta   ´m += >0', inplace=True, verbosity=0)\n",
    "df1['meta'] = ['', '', '>0']\n",
    "compare(df, df1)\n",
    "\n",
    "df = get_df_simple_tagged()\n",
    "df1 = get_df_simple_tagged()\n",
    "df.q('=a   ´r >0   ´n meta   ´m x= x + \">0\"', inplace=True, verbosity=0)\n",
    "df1['meta'] = [ '', '', '>0']\n",
    "compare(df, df1)\n",
    "\n",
    "df = get_df_simple_tagged()\n",
    "df1 = get_df_simple_tagged()\n",
    "df.q('=a   ´r >0   ´n  meta ´m +=>0', inplace=True, verbosity=0)\n",
    "df1['meta'] = [ '', '', '>0']\n",
    "compare(df, df1)\n",
    "\n",
    "df = get_df_simple_tagged()\n",
    "df1 = get_df_simple_tagged()\n",
    "df.q('=a´r >0     ´n meta   ´m += >0', inplace=True, verbosity=0)\n",
    "df1['meta'] = [ '', '', '>0']\n",
    "compare(df, df1)\n",
    "\n",
    "\n",
    "\n",
    "#continous\n",
    "df = get_df_simple_tagged()\n",
    "df1 = get_df_simple_tagged()\n",
    "\n",
    "\n",
    "df.q('=a  ´r >0   ´n meta   ´m += >0', inplace=True, verbosity=0)\n",
    "df1['meta'] = [ '', '', '>0']\n",
    "compare(df, df1)\n",
    "\n",
    "\n",
    "df.q('=a   ´r >0  ´n meta   ´m += >0', inplace=True, verbosity=0)\n",
    "df1['meta'] = [ '', '', '>0>0']\n",
    "compare(df, df1)\n",
    "\n",
    "\n",
    "df.q('=a   ´r ==0    ´n meta   ´m += 0', inplace=True, verbosity=0)\n",
    "df1['meta'] = [ '', '0', '>0>0']\n",
    "compare(df, df1)\n",
    "\n",
    "\n",
    "df.q('a   ´r ==0    ´n meta  ´m x= x.replace(\"0\", \"\")', inplace=True, verbosity=0)\n",
    "df1['meta'] = [ '', '', '>0>0']\n",
    "compare(df, df1)\n",
    "\n",
    "\n",
    "df.q('=a   ´r >0    ´n meta  ´m x= x.replace(\"0\", \"\")', inplace=True, verbosity=0)\n",
    "df1['meta'] = [ '', '', '>>']\n",
    "compare(df, df1)\n",
    "\n",
    "\n",
    "df.q('=a     ´n meta   ´m =', inplace=True, verbosity=0)\n",
    "df1['meta'] = [ '', '', '']\n",
    "compare(df, df1)\n",
    "\n",
    "\n",
    "\n"
   ]
  },
  {
   "cell_type": "markdown",
   "metadata": {},
   "source": [
    "## type conversion"
   ]
  },
  {
   "cell_type": "code",
   "execution_count": 16,
   "metadata": {},
   "outputs": [
    {
     "data": {
      "text/html": [
       "<style type=\"text/css\">\n",
       "#T_4ad0c_row0_col0, #T_4ad0c_row0_col1, #T_4ad0c_row0_col2, #T_4ad0c_row0_col3 {\n",
       "  background-color: #c0e7b0;\n",
       "}\n",
       "</style>\n",
       "<table id=\"T_4ad0c\">\n",
       "  <thead>\n",
       "  </thead>\n",
       "  <tbody>\n",
       "    <tr>\n",
       "      <th id=\"T_4ad0c_level0_row0\" class=\"row_heading level0 row0\" >16</th>\n",
       "      <td id=\"T_4ad0c_row0_col0\" class=\"data row0 col0\" >df was checked. no problems found</td>\n",
       "      <td id=\"T_4ad0c_row0_col1\" class=\"data row0 col1\" >qp.pd_util._check_df</td>\n",
       "      <td id=\"T_4ad0c_row0_col2\" class=\"data row0 col2\" >info</td>\n",
       "      <td id=\"T_4ad0c_row0_col3\" class=\"data row0 col3\" >2024-07-15 15:37:57.828178</td>\n",
       "    </tr>\n",
       "  </tbody>\n",
       "</table>\n"
      ],
      "text/plain": [
       "<pandas.io.formats.style.Styler at 0x1acb2eb92e0>"
      ]
     },
     "metadata": {},
     "output_type": "display_data"
    },
    {
     "name": "stdout",
     "output_type": "stream",
     "text": [
      "passed test for arg: \"age ´m to int\"\n"
     ]
    },
    {
     "data": {
      "text/html": [
       "<style type=\"text/css\">\n",
       "#T_e37e8_row0_col0, #T_e37e8_row0_col1, #T_e37e8_row0_col2, #T_e37e8_row0_col3 {\n",
       "  background-color: #c0e7b0;\n",
       "}\n",
       "</style>\n",
       "<table id=\"T_e37e8\">\n",
       "  <thead>\n",
       "  </thead>\n",
       "  <tbody>\n",
       "    <tr>\n",
       "      <th id=\"T_e37e8_level0_row0\" class=\"row_heading level0 row0\" >17</th>\n",
       "      <td id=\"T_e37e8_row0_col0\" class=\"data row0 col0\" >df was checked. no problems found</td>\n",
       "      <td id=\"T_e37e8_row0_col1\" class=\"data row0 col1\" >qp.pd_util._check_df</td>\n",
       "      <td id=\"T_e37e8_row0_col2\" class=\"data row0 col2\" >info</td>\n",
       "      <td id=\"T_e37e8_row0_col3\" class=\"data row0 col3\" >2024-07-15 15:37:57.848511</td>\n",
       "    </tr>\n",
       "  </tbody>\n",
       "</table>\n"
      ],
      "text/plain": [
       "<pandas.io.formats.style.Styler at 0x1acb2eb80b0>"
      ]
     },
     "metadata": {},
     "output_type": "display_data"
    },
    {
     "name": "stdout",
     "output_type": "stream",
     "text": [
      "passed test for arg: \"=age  ´m to float\"\n"
     ]
    },
    {
     "data": {
      "text/html": [
       "<style type=\"text/css\">\n",
       "#T_94686_row0_col0, #T_94686_row0_col1, #T_94686_row0_col2, #T_94686_row0_col3 {\n",
       "  background-color: #c0e7b0;\n",
       "}\n",
       "</style>\n",
       "<table id=\"T_94686\">\n",
       "  <thead>\n",
       "  </thead>\n",
       "  <tbody>\n",
       "    <tr>\n",
       "      <th id=\"T_94686_level0_row0\" class=\"row_heading level0 row0\" >18</th>\n",
       "      <td id=\"T_94686_row0_col0\" class=\"data row0 col0\" >df was checked. no problems found</td>\n",
       "      <td id=\"T_94686_row0_col1\" class=\"data row0 col1\" >qp.pd_util._check_df</td>\n",
       "      <td id=\"T_94686_row0_col2\" class=\"data row0 col2\" >info</td>\n",
       "      <td id=\"T_94686_row0_col3\" class=\"data row0 col3\" >2024-07-15 15:37:57.895512</td>\n",
       "    </tr>\n",
       "  </tbody>\n",
       "</table>\n"
      ],
      "text/plain": [
       "<pandas.io.formats.style.Styler at 0x1acb2eb8b90>"
      ]
     },
     "metadata": {},
     "output_type": "display_data"
    },
    {
     "name": "stdout",
     "output_type": "stream",
     "text": [
      "passed test for arg: \"=age   ´m to num\"\n"
     ]
    },
    {
     "data": {
      "text/html": [
       "<style type=\"text/css\">\n",
       "#T_9064b_row0_col0, #T_9064b_row0_col1, #T_9064b_row0_col2, #T_9064b_row0_col3 {\n",
       "  background-color: #c0e7b0;\n",
       "}\n",
       "</style>\n",
       "<table id=\"T_9064b\">\n",
       "  <thead>\n",
       "  </thead>\n",
       "  <tbody>\n",
       "    <tr>\n",
       "      <th id=\"T_9064b_level0_row0\" class=\"row_heading level0 row0\" >19</th>\n",
       "      <td id=\"T_9064b_row0_col0\" class=\"data row0 col0\" >df was checked. no problems found</td>\n",
       "      <td id=\"T_9064b_row0_col1\" class=\"data row0 col1\" >qp.pd_util._check_df</td>\n",
       "      <td id=\"T_9064b_row0_col2\" class=\"data row0 col2\" >info</td>\n",
       "      <td id=\"T_9064b_row0_col3\" class=\"data row0 col3\" >2024-07-15 15:37:57.909769</td>\n",
       "    </tr>\n",
       "  </tbody>\n",
       "</table>\n"
      ],
      "text/plain": [
       "<pandas.io.formats.style.Styler at 0x1acb2eb9c10>"
      ]
     },
     "metadata": {},
     "output_type": "display_data"
    },
    {
     "name": "stdout",
     "output_type": "stream",
     "text": [
      "passed test for arg: \"=age   ´m to str\"\n"
     ]
    },
    {
     "data": {
      "text/html": [
       "<style type=\"text/css\">\n",
       "#T_e6250_row0_col0, #T_e6250_row0_col1, #T_e6250_row0_col2, #T_e6250_row0_col3 {\n",
       "  background-color: #c0e7b0;\n",
       "}\n",
       "</style>\n",
       "<table id=\"T_e6250\">\n",
       "  <thead>\n",
       "  </thead>\n",
       "  <tbody>\n",
       "    <tr>\n",
       "      <th id=\"T_e6250_level0_row0\" class=\"row_heading level0 row0\" >20</th>\n",
       "      <td id=\"T_e6250_row0_col0\" class=\"data row0 col0\" >df was checked. no problems found</td>\n",
       "      <td id=\"T_e6250_row0_col1\" class=\"data row0 col1\" >qp.pd_util._check_df</td>\n",
       "      <td id=\"T_e6250_row0_col2\" class=\"data row0 col2\" >info</td>\n",
       "      <td id=\"T_e6250_row0_col3\" class=\"data row0 col3\" >2024-07-15 15:37:57.926768</td>\n",
       "    </tr>\n",
       "  </tbody>\n",
       "</table>\n"
      ],
      "text/plain": [
       "<pandas.io.formats.style.Styler at 0x1acb2eb8170>"
      ]
     },
     "metadata": {},
     "output_type": "display_data"
    },
    {
     "name": "stdout",
     "output_type": "stream",
     "text": [
      "passed test for arg: \"date of birth   ´m to date\"\n"
     ]
    },
    {
     "name": "stderr",
     "output_type": "stream",
     "text": [
      "c:\\Users\\MartinVölkl-GouyaIns\\OneDrive - Gouya Insights\\Desktop\\qplib_dev\\qplib\\types.py:97: UserWarning: Parsing dates in %m-%d-%Y format when dayfirst=True was specified. Pass `dayfirst=False` or specify a format to silence this warning.\n",
      "  return pd.to_datetime(x, dayfirst=True).date()\n"
     ]
    },
    {
     "data": {
      "text/html": [
       "<style type=\"text/css\">\n",
       "#T_a01fe_row0_col0, #T_a01fe_row0_col1, #T_a01fe_row0_col2, #T_a01fe_row0_col3 {\n",
       "  background-color: #c0e7b0;\n",
       "}\n",
       "</style>\n",
       "<table id=\"T_a01fe\">\n",
       "  <thead>\n",
       "  </thead>\n",
       "  <tbody>\n",
       "    <tr>\n",
       "      <th id=\"T_a01fe_level0_row0\" class=\"row_heading level0 row0\" >21</th>\n",
       "      <td id=\"T_a01fe_row0_col0\" class=\"data row0 col0\" >df was checked. no problems found</td>\n",
       "      <td id=\"T_a01fe_row0_col1\" class=\"data row0 col1\" >qp.pd_util._check_df</td>\n",
       "      <td id=\"T_a01fe_row0_col2\" class=\"data row0 col2\" >info</td>\n",
       "      <td id=\"T_a01fe_row0_col3\" class=\"data row0 col3\" >2024-07-15 15:37:57.956472</td>\n",
       "    </tr>\n",
       "  </tbody>\n",
       "</table>\n"
      ],
      "text/plain": [
       "<pandas.io.formats.style.Styler at 0x1acb2e8bec0>"
      ]
     },
     "metadata": {},
     "output_type": "display_data"
    },
    {
     "name": "stdout",
     "output_type": "stream",
     "text": [
      "passed test for arg: \"=age   ´m to na\"\n"
     ]
    },
    {
     "data": {
      "text/html": [
       "<style type=\"text/css\">\n",
       "#T_39f04_row0_col0, #T_39f04_row0_col1, #T_39f04_row0_col2, #T_39f04_row0_col3 {\n",
       "  background-color: #c0e7b0;\n",
       "}\n",
       "</style>\n",
       "<table id=\"T_39f04\">\n",
       "  <thead>\n",
       "  </thead>\n",
       "  <tbody>\n",
       "    <tr>\n",
       "      <th id=\"T_39f04_level0_row0\" class=\"row_heading level0 row0\" >22</th>\n",
       "      <td id=\"T_39f04_row0_col0\" class=\"data row0 col0\" >df was checked. no problems found</td>\n",
       "      <td id=\"T_39f04_row0_col1\" class=\"data row0 col1\" >qp.pd_util._check_df</td>\n",
       "      <td id=\"T_39f04_row0_col2\" class=\"data row0 col2\" >info</td>\n",
       "      <td id=\"T_39f04_row0_col3\" class=\"data row0 col3\" >2024-07-15 15:37:57.969439</td>\n",
       "    </tr>\n",
       "  </tbody>\n",
       "</table>\n"
      ],
      "text/plain": [
       "<pandas.io.formats.style.Styler at 0x1acb2eb8170>"
      ]
     },
     "metadata": {},
     "output_type": "display_data"
    },
    {
     "name": "stdout",
     "output_type": "stream",
     "text": [
      "passed test for arg: \"=age   ´m to nk\"\n"
     ]
    },
    {
     "data": {
      "text/html": [
       "<style type=\"text/css\">\n",
       "#T_af82c_row0_col0, #T_af82c_row0_col1, #T_af82c_row0_col2, #T_af82c_row0_col3 {\n",
       "  background-color: #c0e7b0;\n",
       "}\n",
       "</style>\n",
       "<table id=\"T_af82c\">\n",
       "  <thead>\n",
       "  </thead>\n",
       "  <tbody>\n",
       "    <tr>\n",
       "      <th id=\"T_af82c_level0_row0\" class=\"row_heading level0 row0\" >23</th>\n",
       "      <td id=\"T_af82c_row0_col0\" class=\"data row0 col0\" >df was checked. no problems found</td>\n",
       "      <td id=\"T_af82c_row0_col1\" class=\"data row0 col1\" >qp.pd_util._check_df</td>\n",
       "      <td id=\"T_af82c_row0_col2\" class=\"data row0 col2\" >info</td>\n",
       "      <td id=\"T_af82c_row0_col3\" class=\"data row0 col3\" >2024-07-15 15:37:57.980863</td>\n",
       "    </tr>\n",
       "  </tbody>\n",
       "</table>\n"
      ],
      "text/plain": [
       "<pandas.io.formats.style.Styler at 0x1acb2e8b7d0>"
      ]
     },
     "metadata": {},
     "output_type": "display_data"
    },
    {
     "name": "stdout",
     "output_type": "stream",
     "text": [
      "passed test for arg: \"=diabetes   ´m to yn\"\n"
     ]
    }
   ],
   "source": [
    "\n",
    "df1 = get_df()\n",
    "df2 = get_df()\n",
    "result = df1.q('age ´m to int', verbosity=0)\n",
    "df2['age'] = [-25, 30, np.nan, np.nan, 40, np.nan, np.nan, np.nan, np.nan, np.nan, 35]\n",
    "df2['age'] = df2['age'].astype('object')\n",
    "compare(result, df2.loc[:,['age']])\n",
    "\n",
    "df1 = get_df()\n",
    "df2 = get_df()\n",
    "result = df1.q('=age  ´m to float', verbosity=0)\n",
    "df2['age'] = [-25.0, 30.0, np.nan, np.nan, 40.0, np.nan, np.nan, np.nan, np.nan, np.nan, 35.0]\n",
    "df2['age'] = df2['age'].astype('object')\n",
    "compare(result, df2.loc[:,['age']])\n",
    "\n",
    "df1 = get_df()\n",
    "df2 = get_df()\n",
    "result = df1.q('=age   ´m to num', verbosity=0)\n",
    "df2['age'] = [-25, 30, np.nan, np.nan, 40, np.nan, np.nan, np.nan, np.nan, np.nan, 35]\n",
    "df2['age'] = df2['age'].astype('object')\n",
    "compare(result, df2.loc[:,['age']])\n",
    "\n",
    "df1 = get_df()\n",
    "df2 = get_df()\n",
    "result = df1.q('=age   ´m to str', verbosity=0)\n",
    "df2['age'] = ['-25', '30', 'nan', 'None', '40.0', 'forty-five', 'nan', 'unk', '', 'unknown', '35']\n",
    "df2['age'] = df2['age'].astype('object')\n",
    "compare(result, df2.loc[:,['age']])\n",
    "\n",
    "df1 = get_df()\n",
    "df2 = get_df()\n",
    "result = df1.q('date of birth   ´m to date', verbosity=0)\n",
    "df2['date of birth'] = [\n",
    "    pd.to_datetime('1995-01-02', dayfirst=False).date(),\n",
    "    pd.to_datetime('1990/09/14', dayfirst=False).date(),\n",
    "    pd.to_datetime('1985.08.23', dayfirst=False).date(),\n",
    "    pd.to_datetime('19800406', dayfirst=False).date(),\n",
    "    pd.to_datetime('05-11-2007', dayfirst=True).date(),\n",
    "    pd.to_datetime('06-30-1983', dayfirst=False).date(),\n",
    "    pd.to_datetime('28-05-1975', dayfirst=True).date(),\n",
    "    pd.NaT,\n",
    "    pd.to_datetime('1955-Jan-09', dayfirst=False).date(),\n",
    "    pd.to_datetime('1950 Sep 10', dayfirst=False).date(),\n",
    "    pd.to_datetime('1945 October 11', dayfirst=False).date(),\n",
    "    ]\n",
    "df2['age'] = df2['age'].astype('object')\n",
    "compare(result, df2.loc[:,['date of birth']])\n",
    "\n",
    "df1 = get_df()\n",
    "df2 = get_df()\n",
    "result = df1.q('=age   ´m to na', verbosity=0)\n",
    "df2['age'] = [-25, '30', None, None, '40.0', 'forty-five', None, 'unk', None, 'unknown', 35]\n",
    "df2['age'] = df2['age'].astype('object')\n",
    "compare(result, df2.loc[:,['age']])\n",
    "\n",
    "df1 = get_df()\n",
    "df2 = get_df()\n",
    "result = df1.q('=age   ´m to nk', verbosity=0)\n",
    "df2['age'] = [-25, '30', np.nan, None, '40.0', 'forty-five', 'nan', 'unknown', '', 'unknown', 35]\n",
    "df2['age'] = df2['age'].astype('object')\n",
    "compare(result, df2.loc[:,['age']])\n",
    "\n",
    "df1 = get_df()\n",
    "df2 = get_df()\n",
    "result = df1.q('=diabetes   ´m to yn', verbosity=0)\n",
    "df2['diabetes'] = ['no', 'yes', None, 'no', 'yes', 'yes', 'no', None, None, 'no', 'yes']\n",
    "df2['age'] = df2['age'].astype('object')\n",
    "compare(result, df2.loc[:,['diabetes']])"
   ]
  },
  {
   "cell_type": "markdown",
   "metadata": {},
   "source": [
    "## adding columns\n"
   ]
  },
  {
   "cell_type": "code",
   "execution_count": 17,
   "metadata": {},
   "outputs": [],
   "source": [
    "#wip"
   ]
  },
  {
   "cell_type": "markdown",
   "metadata": {},
   "source": [
    "# qp.diff()"
   ]
  },
  {
   "cell_type": "code",
   "execution_count": 18,
   "metadata": {},
   "outputs": [
    {
     "data": {
      "text/html": [
       "<style type=\"text/css\">\n",
       "#T_02c54_row0_col0, #T_02c54_row0_col1, #T_02c54_row0_col2, #T_02c54_row0_col3 {\n",
       "  background-color: #c0e7b0;\n",
       "}\n",
       "</style>\n",
       "<table id=\"T_02c54\">\n",
       "  <thead>\n",
       "  </thead>\n",
       "  <tbody>\n",
       "    <tr>\n",
       "      <th id=\"T_02c54_level0_row0\" class=\"row_heading level0 row0\" >24</th>\n",
       "      <td id=\"T_02c54_row0_col0\" class=\"data row0 col0\" >adding column \"meta\" at position 0</td>\n",
       "      <td id=\"T_02c54_row0_col1\" class=\"data row0 col1\" >df.format()</td>\n",
       "      <td id=\"T_02c54_row0_col2\" class=\"data row0 col2\" >info</td>\n",
       "      <td id=\"T_02c54_row0_col3\" class=\"data row0 col3\" >2024-07-15 15:37:58.069397</td>\n",
       "    </tr>\n",
       "  </tbody>\n",
       "</table>\n"
      ],
      "text/plain": [
       "<pandas.io.formats.style.Styler at 0x1acb2200920>"
      ]
     },
     "metadata": {},
     "output_type": "display_data"
    },
    {
     "data": {
      "text/html": [
       "<style type=\"text/css\">\n",
       "#T_bd3cc_row0_col0, #T_bd3cc_row0_col1, #T_bd3cc_row0_col2, #T_bd3cc_row0_col3 {\n",
       "  background-color: #c0e7b0;\n",
       "}\n",
       "</style>\n",
       "<table id=\"T_bd3cc\">\n",
       "  <thead>\n",
       "  </thead>\n",
       "  <tbody>\n",
       "    <tr>\n",
       "      <th id=\"T_bd3cc_level0_row0\" class=\"row_heading level0 row0\" >25</th>\n",
       "      <td id=\"T_bd3cc_row0_col0\" class=\"data row0 col0\" >adding column \"meta\" at position 0</td>\n",
       "      <td id=\"T_bd3cc_row0_col1\" class=\"data row0 col1\" >df.format()</td>\n",
       "      <td id=\"T_bd3cc_row0_col2\" class=\"data row0 col2\" >info</td>\n",
       "      <td id=\"T_bd3cc_row0_col3\" class=\"data row0 col3\" >2024-07-15 15:37:58.073914</td>\n",
       "    </tr>\n",
       "  </tbody>\n",
       "</table>\n"
      ],
      "text/plain": [
       "<pandas.io.formats.style.Styler at 0x1acb2e8b0b0>"
      ]
     },
     "metadata": {},
     "output_type": "display_data"
    },
    {
     "data": {
      "text/plain": [
       "{'cols added': 1,\n",
       " 'cols removed': 1,\n",
       " 'rows added': 1,\n",
       " 'rows removed': 1,\n",
       " 'vals added': 1,\n",
       " 'vals removed': 1,\n",
       " 'vals changed': 1}"
      ]
     },
     "metadata": {},
     "output_type": "display_data"
    },
    {
     "data": {
      "text/html": [
       "<style type=\"text/css\">\n",
       "#T_e2cad_row0_col1, #T_e2cad_row1_col0, #T_e2cad_row1_col1, #T_e2cad_row1_col2, #T_e2cad_row1_col3, #T_e2cad_row2_col1 {\n",
       "  background-color: #6dae51;\n",
       "}\n",
       "#T_e2cad_row0_col3 {\n",
       "  background-color: #f7d67c;\n",
       "}\n",
       "#T_e2cad_row2_col2 {\n",
       "  background-color: #c0e7b0;\n",
       "}\n",
       "#T_e2cad_row2_col3 {\n",
       "  background-color: #f7746a;\n",
       "}\n",
       "</style>\n",
       "<table id=\"T_e2cad\">\n",
       "  <thead>\n",
       "    <tr>\n",
       "      <th class=\"blank level0\" >&nbsp;</th>\n",
       "      <th id=\"T_e2cad_level0_col0\" class=\"col_heading level0 col0\" >meta</th>\n",
       "      <th id=\"T_e2cad_level0_col1\" class=\"col_heading level0 col1\" >d</th>\n",
       "      <th id=\"T_e2cad_level0_col2\" class=\"col_heading level0 col2\" >b</th>\n",
       "      <th id=\"T_e2cad_level0_col3\" class=\"col_heading level0 col3\" >a</th>\n",
       "    </tr>\n",
       "  </thead>\n",
       "  <tbody>\n",
       "    <tr>\n",
       "      <th id=\"T_e2cad_level0_row0\" class=\"row_heading level0 row0\" >y</th>\n",
       "      <td id=\"T_e2cad_row0_col0\" class=\"data row0 col0\" ><br>vals changed: 1</td>\n",
       "      <td id=\"T_e2cad_row0_col1\" class=\"data row0 col1\" >2.000000</td>\n",
       "      <td id=\"T_e2cad_row0_col2\" class=\"data row0 col2\" >2.000000</td>\n",
       "      <td id=\"T_e2cad_row0_col3\" class=\"data row0 col3\" >0.000000</td>\n",
       "    </tr>\n",
       "    <tr>\n",
       "      <th id=\"T_e2cad_level0_row1\" class=\"row_heading level0 row1\" >x2</th>\n",
       "      <td id=\"T_e2cad_row1_col0\" class=\"data row1 col0\" >added row</td>\n",
       "      <td id=\"T_e2cad_row1_col1\" class=\"data row1 col1\" >1.000000</td>\n",
       "      <td id=\"T_e2cad_row1_col2\" class=\"data row1 col2\" >1.000000</td>\n",
       "      <td id=\"T_e2cad_row1_col3\" class=\"data row1 col3\" >1.000000</td>\n",
       "    </tr>\n",
       "    <tr>\n",
       "      <th id=\"T_e2cad_level0_row2\" class=\"row_heading level0 row2\" >z</th>\n",
       "      <td id=\"T_e2cad_row2_col0\" class=\"data row2 col0\" ><br>vals added: 1<br>vals removed: 1</td>\n",
       "      <td id=\"T_e2cad_row2_col1\" class=\"data row2 col1\" >3.000000</td>\n",
       "      <td id=\"T_e2cad_row2_col2\" class=\"data row2 col2\" >3.000000</td>\n",
       "      <td id=\"T_e2cad_row2_col3\" class=\"data row2 col3\" >nan</td>\n",
       "    </tr>\n",
       "  </tbody>\n",
       "</table>\n"
      ],
      "text/plain": [
       "<pandas.io.formats.style.Styler at 0x1acb2c75b50>"
      ]
     },
     "metadata": {},
     "output_type": "display_data"
    },
    {
     "data": {
      "text/html": [
       "<style type=\"text/css\">\n",
       "#T_e423d_row0_col0, #T_e423d_row0_col1, #T_e423d_row0_col2, #T_e423d_row0_col3 {\n",
       "  background-color: #c0e7b0;\n",
       "}\n",
       "</style>\n",
       "<table id=\"T_e423d\">\n",
       "  <thead>\n",
       "  </thead>\n",
       "  <tbody>\n",
       "    <tr>\n",
       "      <th id=\"T_e423d_level0_row0\" class=\"row_heading level0 row0\" >26</th>\n",
       "      <td id=\"T_e423d_row0_col0\" class=\"data row0 col0\" >adding column \"meta\" at position 0</td>\n",
       "      <td id=\"T_e423d_row0_col1\" class=\"data row0 col1\" >df.format()</td>\n",
       "      <td id=\"T_e423d_row0_col2\" class=\"data row0 col2\" >info</td>\n",
       "      <td id=\"T_e423d_row0_col3\" class=\"data row0 col3\" >2024-07-15 15:37:58.121427</td>\n",
       "    </tr>\n",
       "  </tbody>\n",
       "</table>\n"
      ],
      "text/plain": [
       "<pandas.io.formats.style.Styler at 0x1acb2e8b680>"
      ]
     },
     "metadata": {},
     "output_type": "display_data"
    },
    {
     "data": {
      "text/html": [
       "<style type=\"text/css\">\n",
       "#T_0f1e9_row0_col0, #T_0f1e9_row0_col1, #T_0f1e9_row0_col2, #T_0f1e9_row0_col3 {\n",
       "  background-color: #c0e7b0;\n",
       "}\n",
       "</style>\n",
       "<table id=\"T_0f1e9\">\n",
       "  <thead>\n",
       "  </thead>\n",
       "  <tbody>\n",
       "    <tr>\n",
       "      <th id=\"T_0f1e9_level0_row0\" class=\"row_heading level0 row0\" >27</th>\n",
       "      <td id=\"T_0f1e9_row0_col0\" class=\"data row0 col0\" >adding column \"meta\" at position 0</td>\n",
       "      <td id=\"T_0f1e9_row0_col1\" class=\"data row0 col1\" >df.format()</td>\n",
       "      <td id=\"T_0f1e9_row0_col2\" class=\"data row0 col2\" >info</td>\n",
       "      <td id=\"T_0f1e9_row0_col3\" class=\"data row0 col3\" >2024-07-15 15:37:58.125958</td>\n",
       "    </tr>\n",
       "  </tbody>\n",
       "</table>\n"
      ],
      "text/plain": [
       "<pandas.io.formats.style.Styler at 0x1acb2e8bbf0>"
      ]
     },
     "metadata": {},
     "output_type": "display_data"
    },
    {
     "data": {
      "text/plain": [
       "{'cols added': 1,\n",
       " 'cols removed': 1,\n",
       " 'rows added': 1,\n",
       " 'rows removed': 1,\n",
       " 'vals added': 1,\n",
       " 'vals removed': 1,\n",
       " 'vals changed': 1}"
      ]
     },
     "metadata": {},
     "output_type": "display_data"
    },
    {
     "data": {
      "text/html": [
       "<style type=\"text/css\">\n",
       "#T_c8a13_row0_col0, #T_c8a13_row0_col1, #T_c8a13_row0_col2, #T_c8a13_row0_col3, #T_c8a13_row1_col3, #T_c8a13_row2_col3 {\n",
       "  background-color: #f73434;\n",
       "}\n",
       "#T_c8a13_row1_col1 {\n",
       "  background-color: #f7d67c;\n",
       "}\n",
       "#T_c8a13_row2_col1 {\n",
       "  background-color: #f7746a;\n",
       "}\n",
       "#T_c8a13_row2_col2 {\n",
       "  background-color: #c0e7b0;\n",
       "}\n",
       "</style>\n",
       "<table id=\"T_c8a13\">\n",
       "  <thead>\n",
       "    <tr>\n",
       "      <th class=\"blank level0\" >&nbsp;</th>\n",
       "      <th id=\"T_c8a13_level0_col0\" class=\"col_heading level0 col0\" >meta</th>\n",
       "      <th id=\"T_c8a13_level0_col1\" class=\"col_heading level0 col1\" >a</th>\n",
       "      <th id=\"T_c8a13_level0_col2\" class=\"col_heading level0 col2\" >b</th>\n",
       "      <th id=\"T_c8a13_level0_col3\" class=\"col_heading level0 col3\" >c</th>\n",
       "    </tr>\n",
       "  </thead>\n",
       "  <tbody>\n",
       "    <tr>\n",
       "      <th id=\"T_c8a13_level0_row0\" class=\"row_heading level0 row0\" >x</th>\n",
       "      <td id=\"T_c8a13_row0_col0\" class=\"data row0 col0\" >removed row</td>\n",
       "      <td id=\"T_c8a13_row0_col1\" class=\"data row0 col1\" >1.000000</td>\n",
       "      <td id=\"T_c8a13_row0_col2\" class=\"data row0 col2\" >1.000000</td>\n",
       "      <td id=\"T_c8a13_row0_col3\" class=\"data row0 col3\" >1.000000</td>\n",
       "    </tr>\n",
       "    <tr>\n",
       "      <th id=\"T_c8a13_level0_row1\" class=\"row_heading level0 row1\" >y</th>\n",
       "      <td id=\"T_c8a13_row1_col0\" class=\"data row1 col0\" ><br>vals changed: 1</td>\n",
       "      <td id=\"T_c8a13_row1_col1\" class=\"data row1 col1\" >2.000000</td>\n",
       "      <td id=\"T_c8a13_row1_col2\" class=\"data row1 col2\" >2.000000</td>\n",
       "      <td id=\"T_c8a13_row1_col3\" class=\"data row1 col3\" >2.000000</td>\n",
       "    </tr>\n",
       "    <tr>\n",
       "      <th id=\"T_c8a13_level0_row2\" class=\"row_heading level0 row2\" >z</th>\n",
       "      <td id=\"T_c8a13_row2_col0\" class=\"data row2 col0\" ><br>vals added: 1<br>vals removed: 1</td>\n",
       "      <td id=\"T_c8a13_row2_col1\" class=\"data row2 col1\" >3.000000</td>\n",
       "      <td id=\"T_c8a13_row2_col2\" class=\"data row2 col2\" >nan</td>\n",
       "      <td id=\"T_c8a13_row2_col3\" class=\"data row2 col3\" >3.000000</td>\n",
       "    </tr>\n",
       "  </tbody>\n",
       "</table>\n"
      ],
      "text/plain": [
       "<pandas.io.formats.style.Styler at 0x1acb2a256d0>"
      ]
     },
     "metadata": {},
     "output_type": "display_data"
    },
    {
     "data": {
      "text/html": [
       "<style type=\"text/css\">\n",
       "#T_56a5c_row0_col0, #T_56a5c_row0_col1, #T_56a5c_row0_col2, #T_56a5c_row0_col3 {\n",
       "  background-color: #c0e7b0;\n",
       "}\n",
       "</style>\n",
       "<table id=\"T_56a5c\">\n",
       "  <thead>\n",
       "  </thead>\n",
       "  <tbody>\n",
       "    <tr>\n",
       "      <th id=\"T_56a5c_level0_row0\" class=\"row_heading level0 row0\" >28</th>\n",
       "      <td id=\"T_56a5c_row0_col0\" class=\"data row0 col0\" >adding column \"meta\" at position 0</td>\n",
       "      <td id=\"T_56a5c_row0_col1\" class=\"data row0 col1\" >df.format()</td>\n",
       "      <td id=\"T_56a5c_row0_col2\" class=\"data row0 col2\" >info</td>\n",
       "      <td id=\"T_56a5c_row0_col3\" class=\"data row0 col3\" >2024-07-15 15:37:58.159672</td>\n",
       "    </tr>\n",
       "  </tbody>\n",
       "</table>\n"
      ],
      "text/plain": [
       "<pandas.io.formats.style.Styler at 0x1acb2e8b0b0>"
      ]
     },
     "metadata": {},
     "output_type": "display_data"
    },
    {
     "data": {
      "text/html": [
       "<style type=\"text/css\">\n",
       "#T_136e9_row0_col0, #T_136e9_row0_col1, #T_136e9_row0_col2, #T_136e9_row0_col3 {\n",
       "  background-color: #c0e7b0;\n",
       "}\n",
       "</style>\n",
       "<table id=\"T_136e9\">\n",
       "  <thead>\n",
       "  </thead>\n",
       "  <tbody>\n",
       "    <tr>\n",
       "      <th id=\"T_136e9_level0_row0\" class=\"row_heading level0 row0\" >29</th>\n",
       "      <td id=\"T_136e9_row0_col0\" class=\"data row0 col0\" >adding column \"meta\" at position 0</td>\n",
       "      <td id=\"T_136e9_row0_col1\" class=\"data row0 col1\" >df.format()</td>\n",
       "      <td id=\"T_136e9_row0_col2\" class=\"data row0 col2\" >info</td>\n",
       "      <td id=\"T_136e9_row0_col3\" class=\"data row0 col3\" >2024-07-15 15:37:58.165190</td>\n",
       "    </tr>\n",
       "  </tbody>\n",
       "</table>\n"
      ],
      "text/plain": [
       "<pandas.io.formats.style.Styler at 0x1acb229ec60>"
      ]
     },
     "metadata": {},
     "output_type": "display_data"
    },
    {
     "data": {
      "text/plain": [
       "{'cols added': 1,\n",
       " 'cols removed': 1,\n",
       " 'rows added': 1,\n",
       " 'rows removed': 1,\n",
       " 'vals added': 1,\n",
       " 'vals removed': 1,\n",
       " 'vals changed': 1}"
      ]
     },
     "metadata": {},
     "output_type": "display_data"
    },
    {
     "data": {
      "text/html": [
       "<style type=\"text/css\">\n",
       "#T_7ed94_row0_col1, #T_7ed94_row1_col0, #T_7ed94_row1_col1, #T_7ed94_row1_col2, #T_7ed94_row1_col3, #T_7ed94_row1_col4, #T_7ed94_row2_col1 {\n",
       "  background-color: #6dae51;\n",
       "}\n",
       "#T_7ed94_row0_col3 {\n",
       "  background-color: #f7d67c;\n",
       "}\n",
       "#T_7ed94_row0_col4, #T_7ed94_row2_col4, #T_7ed94_row3_col0, #T_7ed94_row3_col1, #T_7ed94_row3_col2, #T_7ed94_row3_col3, #T_7ed94_row3_col4 {\n",
       "  background-color: #f73434;\n",
       "}\n",
       "#T_7ed94_row2_col2 {\n",
       "  background-color: #c0e7b0;\n",
       "}\n",
       "#T_7ed94_row2_col3 {\n",
       "  background-color: #f7746a;\n",
       "}\n",
       "</style>\n",
       "<table id=\"T_7ed94\">\n",
       "  <thead>\n",
       "    <tr>\n",
       "      <th class=\"blank level0\" >&nbsp;</th>\n",
       "      <th id=\"T_7ed94_level0_col0\" class=\"col_heading level0 col0\" >meta</th>\n",
       "      <th id=\"T_7ed94_level0_col1\" class=\"col_heading level0 col1\" >d</th>\n",
       "      <th id=\"T_7ed94_level0_col2\" class=\"col_heading level0 col2\" >b</th>\n",
       "      <th id=\"T_7ed94_level0_col3\" class=\"col_heading level0 col3\" >a</th>\n",
       "      <th id=\"T_7ed94_level0_col4\" class=\"col_heading level0 col4\" >c</th>\n",
       "    </tr>\n",
       "  </thead>\n",
       "  <tbody>\n",
       "    <tr>\n",
       "      <th id=\"T_7ed94_level0_row0\" class=\"row_heading level0 row0\" >y</th>\n",
       "      <td id=\"T_7ed94_row0_col0\" class=\"data row0 col0\" ><br>vals changed: 1</td>\n",
       "      <td id=\"T_7ed94_row0_col1\" class=\"data row0 col1\" >2.000000</td>\n",
       "      <td id=\"T_7ed94_row0_col2\" class=\"data row0 col2\" >2.000000</td>\n",
       "      <td id=\"T_7ed94_row0_col3\" class=\"data row0 col3\" >0.000000</td>\n",
       "      <td id=\"T_7ed94_row0_col4\" class=\"data row0 col4\" >2.000000</td>\n",
       "    </tr>\n",
       "    <tr>\n",
       "      <th id=\"T_7ed94_level0_row1\" class=\"row_heading level0 row1\" >x2</th>\n",
       "      <td id=\"T_7ed94_row1_col0\" class=\"data row1 col0\" >added row</td>\n",
       "      <td id=\"T_7ed94_row1_col1\" class=\"data row1 col1\" >1.000000</td>\n",
       "      <td id=\"T_7ed94_row1_col2\" class=\"data row1 col2\" >1.000000</td>\n",
       "      <td id=\"T_7ed94_row1_col3\" class=\"data row1 col3\" >1.000000</td>\n",
       "      <td id=\"T_7ed94_row1_col4\" class=\"data row1 col4\" >nan</td>\n",
       "    </tr>\n",
       "    <tr>\n",
       "      <th id=\"T_7ed94_level0_row2\" class=\"row_heading level0 row2\" >z</th>\n",
       "      <td id=\"T_7ed94_row2_col0\" class=\"data row2 col0\" ><br>vals added: 1<br>vals removed: 1</td>\n",
       "      <td id=\"T_7ed94_row2_col1\" class=\"data row2 col1\" >3.000000</td>\n",
       "      <td id=\"T_7ed94_row2_col2\" class=\"data row2 col2\" >3.000000</td>\n",
       "      <td id=\"T_7ed94_row2_col3\" class=\"data row2 col3\" >nan</td>\n",
       "      <td id=\"T_7ed94_row2_col4\" class=\"data row2 col4\" >3.000000</td>\n",
       "    </tr>\n",
       "    <tr>\n",
       "      <th id=\"T_7ed94_level0_row3\" class=\"row_heading level0 row3\" >x</th>\n",
       "      <td id=\"T_7ed94_row3_col0\" class=\"data row3 col0\" >removed row</td>\n",
       "      <td id=\"T_7ed94_row3_col1\" class=\"data row3 col1\" >nan</td>\n",
       "      <td id=\"T_7ed94_row3_col2\" class=\"data row3 col2\" >1.000000</td>\n",
       "      <td id=\"T_7ed94_row3_col3\" class=\"data row3 col3\" >1.000000</td>\n",
       "      <td id=\"T_7ed94_row3_col4\" class=\"data row3 col4\" >1.000000</td>\n",
       "    </tr>\n",
       "  </tbody>\n",
       "</table>\n"
      ],
      "text/plain": [
       "<pandas.io.formats.style.Styler at 0x1acb229d610>"
      ]
     },
     "metadata": {},
     "output_type": "display_data"
    },
    {
     "data": {
      "text/html": [
       "<style type=\"text/css\">\n",
       "#T_aba2f_row0_col0, #T_aba2f_row0_col1, #T_aba2f_row0_col2, #T_aba2f_row0_col3 {\n",
       "  background-color: #c0e7b0;\n",
       "}\n",
       "</style>\n",
       "<table id=\"T_aba2f\">\n",
       "  <thead>\n",
       "  </thead>\n",
       "  <tbody>\n",
       "    <tr>\n",
       "      <th id=\"T_aba2f_level0_row0\" class=\"row_heading level0 row0\" >30</th>\n",
       "      <td id=\"T_aba2f_row0_col0\" class=\"data row0 col0\" >adding column \"meta\" at position 0</td>\n",
       "      <td id=\"T_aba2f_row0_col1\" class=\"data row0 col1\" >df.format()</td>\n",
       "      <td id=\"T_aba2f_row0_col2\" class=\"data row0 col2\" >info</td>\n",
       "      <td id=\"T_aba2f_row0_col3\" class=\"data row0 col3\" >2024-07-15 15:37:58.199896</td>\n",
       "    </tr>\n",
       "  </tbody>\n",
       "</table>\n"
      ],
      "text/plain": [
       "<pandas.io.formats.style.Styler at 0x1acb2e48710>"
      ]
     },
     "metadata": {},
     "output_type": "display_data"
    },
    {
     "data": {
      "text/html": [
       "<style type=\"text/css\">\n",
       "#T_6264a_row0_col0, #T_6264a_row0_col1, #T_6264a_row0_col2, #T_6264a_row0_col3 {\n",
       "  background-color: #c0e7b0;\n",
       "}\n",
       "</style>\n",
       "<table id=\"T_6264a\">\n",
       "  <thead>\n",
       "  </thead>\n",
       "  <tbody>\n",
       "    <tr>\n",
       "      <th id=\"T_6264a_level0_row0\" class=\"row_heading level0 row0\" >31</th>\n",
       "      <td id=\"T_6264a_row0_col0\" class=\"data row0 col0\" >adding column \"meta\" at position 0</td>\n",
       "      <td id=\"T_6264a_row0_col1\" class=\"data row0 col1\" >df.format()</td>\n",
       "      <td id=\"T_6264a_row0_col2\" class=\"data row0 col2\" >info</td>\n",
       "      <td id=\"T_6264a_row0_col3\" class=\"data row0 col3\" >2024-07-15 15:37:58.204838</td>\n",
       "    </tr>\n",
       "  </tbody>\n",
       "</table>\n"
      ],
      "text/plain": [
       "<pandas.io.formats.style.Styler at 0x1acb2e8b560>"
      ]
     },
     "metadata": {},
     "output_type": "display_data"
    },
    {
     "data": {
      "text/plain": [
       "{'cols added': 1,\n",
       " 'cols removed': 1,\n",
       " 'rows added': 1,\n",
       " 'rows removed': 1,\n",
       " 'vals added': 1,\n",
       " 'vals removed': 1,\n",
       " 'vals changed': 1}"
      ]
     },
     "metadata": {},
     "output_type": "display_data"
    },
    {
     "data": {
      "text/html": [
       "<style type=\"text/css\">\n",
       "#T_99619_row0_col1, #T_99619_row1_col0, #T_99619_row1_col1, #T_99619_row1_col2, #T_99619_row1_col3, #T_99619_row1_col4, #T_99619_row1_col5, #T_99619_row1_col6, #T_99619_row2_col1 {\n",
       "  background-color: #6dae51;\n",
       "}\n",
       "#T_99619_row0_col2, #T_99619_row0_col4, #T_99619_row0_col6, #T_99619_row2_col2, #T_99619_row2_col4, #T_99619_row2_col6 {\n",
       "  font-style: italic;\n",
       "}\n",
       "#T_99619_row0_col5 {\n",
       "  background-color: #f7d67c;\n",
       "}\n",
       "#T_99619_row2_col3 {\n",
       "  background-color: #c0e7b0;\n",
       "}\n",
       "#T_99619_row2_col5 {\n",
       "  background-color: #f7746a;\n",
       "}\n",
       "</style>\n",
       "<table id=\"T_99619\">\n",
       "  <thead>\n",
       "    <tr>\n",
       "      <th class=\"blank level0\" >&nbsp;</th>\n",
       "      <th id=\"T_99619_level0_col0\" class=\"col_heading level0 col0\" >meta</th>\n",
       "      <th id=\"T_99619_level0_col1\" class=\"col_heading level0 col1\" >d</th>\n",
       "      <th id=\"T_99619_level0_col2\" class=\"col_heading level0 col2\" >meta: d</th>\n",
       "      <th id=\"T_99619_level0_col3\" class=\"col_heading level0 col3\" >b</th>\n",
       "      <th id=\"T_99619_level0_col4\" class=\"col_heading level0 col4\" >meta: b</th>\n",
       "      <th id=\"T_99619_level0_col5\" class=\"col_heading level0 col5\" >a</th>\n",
       "      <th id=\"T_99619_level0_col6\" class=\"col_heading level0 col6\" >meta: a</th>\n",
       "    </tr>\n",
       "  </thead>\n",
       "  <tbody>\n",
       "    <tr>\n",
       "      <th id=\"T_99619_level0_row0\" class=\"row_heading level0 row0\" >y</th>\n",
       "      <td id=\"T_99619_row0_col0\" class=\"data row0 col0\" ><br>vals changed: 1</td>\n",
       "      <td id=\"T_99619_row0_col1\" class=\"data row0 col1\" >2.000000</td>\n",
       "      <td id=\"T_99619_row0_col2\" class=\"data row0 col2\" ></td>\n",
       "      <td id=\"T_99619_row0_col3\" class=\"data row0 col3\" >2.000000</td>\n",
       "      <td id=\"T_99619_row0_col4\" class=\"data row0 col4\" ></td>\n",
       "      <td id=\"T_99619_row0_col5\" class=\"data row0 col5\" >0.000000</td>\n",
       "      <td id=\"T_99619_row0_col6\" class=\"data row0 col6\" ><br>old: 2.0</td>\n",
       "    </tr>\n",
       "    <tr>\n",
       "      <th id=\"T_99619_level0_row1\" class=\"row_heading level0 row1\" >x2</th>\n",
       "      <td id=\"T_99619_row1_col0\" class=\"data row1 col0\" >added row</td>\n",
       "      <td id=\"T_99619_row1_col1\" class=\"data row1 col1\" >1.000000</td>\n",
       "      <td id=\"T_99619_row1_col2\" class=\"data row1 col2\" ></td>\n",
       "      <td id=\"T_99619_row1_col3\" class=\"data row1 col3\" >1.000000</td>\n",
       "      <td id=\"T_99619_row1_col4\" class=\"data row1 col4\" ></td>\n",
       "      <td id=\"T_99619_row1_col5\" class=\"data row1 col5\" >1.000000</td>\n",
       "      <td id=\"T_99619_row1_col6\" class=\"data row1 col6\" ></td>\n",
       "    </tr>\n",
       "    <tr>\n",
       "      <th id=\"T_99619_level0_row2\" class=\"row_heading level0 row2\" >z</th>\n",
       "      <td id=\"T_99619_row2_col0\" class=\"data row2 col0\" ><br>vals added: 1<br>vals removed: 1</td>\n",
       "      <td id=\"T_99619_row2_col1\" class=\"data row2 col1\" >3.000000</td>\n",
       "      <td id=\"T_99619_row2_col2\" class=\"data row2 col2\" ></td>\n",
       "      <td id=\"T_99619_row2_col3\" class=\"data row2 col3\" >3.000000</td>\n",
       "      <td id=\"T_99619_row2_col4\" class=\"data row2 col4\" ><br>old: None</td>\n",
       "      <td id=\"T_99619_row2_col5\" class=\"data row2 col5\" >nan</td>\n",
       "      <td id=\"T_99619_row2_col6\" class=\"data row2 col6\" ><br>old: 3.0</td>\n",
       "    </tr>\n",
       "  </tbody>\n",
       "</table>\n"
      ],
      "text/plain": [
       "<pandas.io.formats.style.Styler at 0x1acb2e48c20>"
      ]
     },
     "metadata": {},
     "output_type": "display_data"
    },
    {
     "name": "stdout",
     "output_type": "stream",
     "text": [
      "passed test for mode: \"new\"\n",
      "passed test for mode: \"old\"\n",
      "passed test for mode: \"mix\"\n",
      "passed test for mode: \"new+\"\n"
     ]
    }
   ],
   "source": [
    "def compare(df_new, df_old, expected, mode):\n",
    "    result = qp.diff(df_new, df_old, mode, verbosity=0).data\n",
    "    if result.equals(expected):\n",
    "        print(f'passed test for mode: \"{mode}\"')\n",
    "    else:\n",
    "        print('new:')\n",
    "        display(df_new)\n",
    "        print('old:')\n",
    "        display(df_old)\n",
    "        print('expected:')\n",
    "        display(expected)\n",
    "        print('result:')\n",
    "        display(result)\n",
    "        raise Exception(f'failed test for mode: \"{mode}\"')\n",
    "\n",
    "\n",
    "df_new, df_old = qp.get_dfs()\n",
    "\n",
    "\n",
    "result_new = pd.DataFrame(columns=['meta', 'd', 'b', 'a'], index=['y','x2','z'])\n",
    "\n",
    "\n",
    "result_new.loc['y', 'meta'] = '<br>vals changed: 1'\n",
    "result_new.loc['y', 'd'] = 2.0\n",
    "result_new.loc['y', 'b'] = 2.0\n",
    "result_new.loc['y', 'a'] = 0.0\n",
    "\n",
    "result_new.loc['x2', 'meta'] = 'added row'\n",
    "result_new.loc['x2', 'd'] = 1.0\n",
    "result_new.loc['x2', 'b'] = 1.0\n",
    "result_new.loc['x2', 'a'] = 1.0\n",
    "\n",
    "result_new.loc['z', 'meta'] = '<br>vals added: 1<br>vals removed: 1'\n",
    "result_new.loc['z', 'd'] = 3.0\n",
    "result_new.loc['z', 'b'] = 3.0\n",
    "result_new.loc['z', 'a'] = np.nan\n",
    "\n",
    "\n",
    "\n",
    "result_old = pd.DataFrame(columns=['meta', 'a', 'b', 'c'], index=['x','y','z'])\n",
    "\n",
    "result_old.loc['x', 'meta'] ='removed row'\n",
    "result_old.loc['x', 'a'] = 1.0\n",
    "result_old.loc['x', 'b'] = 1.0\n",
    "result_old.loc['x', 'c'] = 1.0\n",
    "\n",
    "result_old.loc['y', 'meta'] = '<br>vals changed: 1'\n",
    "result_old.loc['y', 'a'] = 2.0\n",
    "result_old.loc['y', 'b'] = 2.0\n",
    "result_old.loc['y', 'c'] = 2.0\n",
    "\n",
    "result_old.loc['z', 'meta'] = '<br>vals added: 1<br>vals removed: 1'\n",
    "result_old.loc['z', 'a'] = 3.0\n",
    "result_old.loc['z', 'b'] = None\n",
    "result_old.loc['z', 'c'] = 3.0\n",
    "\n",
    "\n",
    "\n",
    "result_mix = pd.DataFrame(columns=['meta', 'd', 'b', 'a', 'c'], index=['y', 'x2', 'z', 'x'])\n",
    "\n",
    "result_mix.loc['y', 'meta'] = '<br>vals changed: 1'\n",
    "result_mix.loc['y', 'd'] = 2.0\n",
    "result_mix.loc['y', 'b'] = 2.0\n",
    "result_mix.loc['y', 'a'] = 0.0\n",
    "result_mix.loc['y', 'c'] = 2.0\n",
    "\n",
    "result_mix.loc['x2', 'meta'] = 'added row'\n",
    "result_mix.loc['x2', 'd'] = 1.0\n",
    "result_mix.loc['x2', 'b'] = 1.0\n",
    "result_mix.loc['x2', 'a'] = 1.0\n",
    "result_mix.loc['x2', 'c'] = np.nan\n",
    "\n",
    "result_mix.loc['z', 'meta'] = '<br>vals added: 1<br>vals removed: 1'\n",
    "result_mix.loc['z', 'd'] = 3.0\n",
    "result_mix.loc['z', 'b'] = 3.0\n",
    "result_mix.loc['z', 'a'] = np.nan\n",
    "result_mix.loc['z', 'c'] = 3.0\n",
    "\n",
    "result_mix.loc['x', 'meta'] ='removed row'\n",
    "result_mix.loc['x', 'd'] = None\n",
    "result_mix.loc['x', 'b'] = 1.0\n",
    "result_mix.loc['x', 'a'] = 1.0\n",
    "result_mix.loc['x', 'c'] = 1.0\n",
    "\n",
    "\n",
    "\n",
    "\n",
    "result_new_plus = pd.DataFrame(columns=['meta', 'd', 'meta: d', 'b', 'meta: b', 'a', 'meta: a'], index=['y','x2','z'])\n",
    "\n",
    "\n",
    "result_new_plus.loc['y', 'meta'] = '<br>vals changed: 1'\n",
    "result_new_plus.loc['y', 'd'] = 2.0\n",
    "result_new_plus.loc['y', 'meta: d'] = ''\n",
    "result_new_plus.loc['y', 'b'] = 2.0\n",
    "result_new_plus.loc['y', 'meta: b'] = ''\n",
    "result_new_plus.loc['y', 'a'] = 0.0\n",
    "result_new_plus.loc['y', 'meta: a'] = '<br>old: 2.0'\n",
    "\n",
    "result_new_plus.loc['x2', 'meta'] = 'added row'\n",
    "result_new_plus.loc['x2', 'd'] = 1.0\n",
    "result_new_plus.loc['x2', 'meta: d'] = ''\n",
    "result_new_plus.loc['x2', 'b'] = 1.0\n",
    "result_new_plus.loc['x2', 'meta: b'] = ''\n",
    "result_new_plus.loc['x2', 'a'] = 1.0\n",
    "result_new_plus.loc['x2', 'meta: a'] = ''\n",
    "\n",
    "result_new_plus.loc['z', 'meta'] = '<br>vals added: 1<br>vals removed: 1'\n",
    "result_new_plus.loc['z', 'd'] = 3.0\n",
    "result_new_plus.loc['z', 'meta: d'] = ''\n",
    "result_new_plus.loc['z', 'b'] = 3.0\n",
    "result_new_plus.loc['z', 'meta: b'] = '<br>old: None'\n",
    "result_new_plus.loc['z', 'a'] = np.nan\n",
    "result_new_plus.loc['z', 'meta: a'] = '<br>old: 3.0'\n",
    "\n",
    "\n",
    "display(qp.diff(df_new, df_old, 'new', verbosity=4))\n",
    "display(qp.diff(df_new, df_old, 'old', verbosity=4))\n",
    "display(qp.diff(df_new, df_old, 'mix', verbosity=4))\n",
    "display(qp.diff(df_new, df_old, 'new+', verbosity=4))\n",
    "\n",
    "compare(df_new, df_old, result_new, 'new')\n",
    "compare(df_new, df_old, result_old, 'old')\n",
    "compare(df_new, df_old, result_mix, 'mix')\n",
    "compare(df_new, df_old, result_new_plus, 'new+')\n",
    "\n"
   ]
  },
  {
   "cell_type": "markdown",
   "metadata": {},
   "source": [
    "# df.format()"
   ]
  },
  {
   "cell_type": "code",
   "execution_count": 19,
   "metadata": {},
   "outputs": [
    {
     "name": "stdout",
     "output_type": "stream",
     "text": [
      "passed test for finding all errors in df\n"
     ]
    },
    {
     "data": {
      "text/html": [
       "<div>\n",
       "<style scoped>\n",
       "    .dataframe tbody tr th:only-of-type {\n",
       "        vertical-align: middle;\n",
       "    }\n",
       "\n",
       "    .dataframe tbody tr th {\n",
       "        vertical-align: top;\n",
       "    }\n",
       "\n",
       "    .dataframe thead th {\n",
       "        text-align: right;\n",
       "    }\n",
       "</style>\n",
       "<table border=\"1\" class=\"dataframe\">\n",
       "  <thead>\n",
       "    <tr style=\"text-align: right;\">\n",
       "      <th></th>\n",
       "      <th>a</th>\n",
       "      <th>b</th>\n",
       "      <th>c</th>\n",
       "    </tr>\n",
       "  </thead>\n",
       "  <tbody>\n",
       "  </tbody>\n",
       "</table>\n",
       "</div>"
      ],
      "text/plain": [
       "Empty DataFrame\n",
       "Columns: [a, b, c]\n",
       "Index: []"
      ]
     },
     "metadata": {},
     "output_type": "display_data"
    },
    {
     "name": "stdout",
     "output_type": "stream",
     "text": [
      "passed test for finding all errors in df\n"
     ]
    },
    {
     "data": {
      "text/html": [
       "<div>\n",
       "<style scoped>\n",
       "    .dataframe tbody tr th:only-of-type {\n",
       "        vertical-align: middle;\n",
       "    }\n",
       "\n",
       "    .dataframe tbody tr th {\n",
       "        vertical-align: top;\n",
       "    }\n",
       "\n",
       "    .dataframe thead th {\n",
       "        text-align: right;\n",
       "    }\n",
       "</style>\n",
       "<table border=\"1\" class=\"dataframe\">\n",
       "  <thead>\n",
       "    <tr style=\"text-align: right;\">\n",
       "      <th></th>\n",
       "      <th>meta</th>\n",
       "      <th>a</th>\n",
       "      <th>b</th>\n",
       "      <th>c</th>\n",
       "    </tr>\n",
       "  </thead>\n",
       "  <tbody>\n",
       "  </tbody>\n",
       "</table>\n",
       "</div>"
      ],
      "text/plain": [
       "Empty DataFrame\n",
       "Columns: [meta, a, b, c]\n",
       "Index: []"
      ]
     },
     "metadata": {},
     "output_type": "display_data"
    },
    {
     "name": "stdout",
     "output_type": "stream",
     "text": [
      "passed test for finding all errors in df\n"
     ]
    },
    {
     "data": {
      "text/html": [
       "<div>\n",
       "<style scoped>\n",
       "    .dataframe tbody tr th:only-of-type {\n",
       "        vertical-align: middle;\n",
       "    }\n",
       "\n",
       "    .dataframe tbody tr th {\n",
       "        vertical-align: top;\n",
       "    }\n",
       "\n",
       "    .dataframe thead th {\n",
       "        text-align: right;\n",
       "    }\n",
       "</style>\n",
       "<table border=\"1\" class=\"dataframe\">\n",
       "  <thead>\n",
       "    <tr style=\"text-align: right;\">\n",
       "      <th></th>\n",
       "      <th>a</th>\n",
       "      <th>b</th>\n",
       "      <th>c</th>\n",
       "      <th>a b c</th>\n",
       "    </tr>\n",
       "  </thead>\n",
       "  <tbody>\n",
       "  </tbody>\n",
       "</table>\n",
       "</div>"
      ],
      "text/plain": [
       "Empty DataFrame\n",
       "Columns: [ a, b ,  c , a b c ]\n",
       "Index: []"
      ]
     },
     "metadata": {},
     "output_type": "display_data"
    },
    {
     "name": "stdout",
     "output_type": "stream",
     "text": [
      "passed test for finding all errors in df\n"
     ]
    },
    {
     "data": {
      "text/html": [
       "<div>\n",
       "<style scoped>\n",
       "    .dataframe tbody tr th:only-of-type {\n",
       "        vertical-align: middle;\n",
       "    }\n",
       "\n",
       "    .dataframe tbody tr th {\n",
       "        vertical-align: top;\n",
       "    }\n",
       "\n",
       "    .dataframe thead th {\n",
       "        text-align: right;\n",
       "    }\n",
       "</style>\n",
       "<table border=\"1\" class=\"dataframe\">\n",
       "  <thead>\n",
       "    <tr style=\"text-align: right;\">\n",
       "      <th></th>\n",
       "      <th>&amp;&amp;a</th>\n",
       "      <th>b&amp;&amp;</th>\n",
       "      <th>&amp;&amp;c&amp;&amp;</th>\n",
       "      <th>a&amp;&amp;b&amp;&amp;c&amp;&amp;</th>\n",
       "    </tr>\n",
       "  </thead>\n",
       "  <tbody>\n",
       "  </tbody>\n",
       "</table>\n",
       "</div>"
      ],
      "text/plain": [
       "Empty DataFrame\n",
       "Columns: [&&a, b&&, &&c&&, a&&b&&c&&]\n",
       "Index: []"
      ]
     },
     "metadata": {},
     "output_type": "display_data"
    },
    {
     "name": "stdout",
     "output_type": "stream",
     "text": [
      "passed test for finding all errors in df\n"
     ]
    },
    {
     "data": {
      "text/html": [
       "<div>\n",
       "<style scoped>\n",
       "    .dataframe tbody tr th:only-of-type {\n",
       "        vertical-align: middle;\n",
       "    }\n",
       "\n",
       "    .dataframe tbody tr th {\n",
       "        vertical-align: top;\n",
       "    }\n",
       "\n",
       "    .dataframe thead th {\n",
       "        text-align: right;\n",
       "    }\n",
       "</style>\n",
       "<table border=\"1\" class=\"dataframe\">\n",
       "  <thead>\n",
       "    <tr style=\"text-align: right;\">\n",
       "      <th></th>\n",
       "      <th>//a</th>\n",
       "      <th>b//</th>\n",
       "      <th>//c//</th>\n",
       "      <th>a//b//c//</th>\n",
       "    </tr>\n",
       "  </thead>\n",
       "  <tbody>\n",
       "  </tbody>\n",
       "</table>\n",
       "</div>"
      ],
      "text/plain": [
       "Empty DataFrame\n",
       "Columns: [//a, b//, //c//, a//b//c//]\n",
       "Index: []"
      ]
     },
     "metadata": {},
     "output_type": "display_data"
    },
    {
     "name": "stdout",
     "output_type": "stream",
     "text": [
      "passed test for finding all errors in df\n"
     ]
    },
    {
     "data": {
      "text/html": [
       "<div>\n",
       "<style scoped>\n",
       "    .dataframe tbody tr th:only-of-type {\n",
       "        vertical-align: middle;\n",
       "    }\n",
       "\n",
       "    .dataframe tbody tr th {\n",
       "        vertical-align: top;\n",
       "    }\n",
       "\n",
       "    .dataframe thead th {\n",
       "        text-align: right;\n",
       "    }\n",
       "</style>\n",
       "<table border=\"1\" class=\"dataframe\">\n",
       "  <thead>\n",
       "    <tr style=\"text-align: right;\">\n",
       "      <th></th>\n",
       "      <th>´a</th>\n",
       "      <th>b´´´</th>\n",
       "      <th>´´c´</th>\n",
       "      <th>a´b´´c´</th>\n",
       "    </tr>\n",
       "  </thead>\n",
       "  <tbody>\n",
       "  </tbody>\n",
       "</table>\n",
       "</div>"
      ],
      "text/plain": [
       "Empty DataFrame\n",
       "Columns: [´a, b´´´, ´´c´, a´b´´c´]\n",
       "Index: []"
      ]
     },
     "metadata": {},
     "output_type": "display_data"
    }
   ],
   "source": [
    "def compare(df, result, expected):\n",
    "    if result.equals(expected):\n",
    "        print(f'passed test for finding all errors in df')\n",
    "        display(df)\n",
    "    else:\n",
    "        print('result:')\n",
    "        display(result)\n",
    "        print('expected:')\n",
    "        display(expected)\n",
    "        raise Exception(f'failed test for finding all errors in df')\n",
    "\n",
    "\n",
    "\n",
    "df = pd.DataFrame(columns=['a', 'b', 'c'])\n",
    "result = df.format(verbosity=0)\n",
    "expected = pd.DataFrame('', columns=['meta', 'a', 'b', 'c'], index=[])\n",
    "compare(df, result, expected)\n",
    "\n",
    "\n",
    "df = pd.DataFrame(columns=['meta', 'a', 'b', 'c'], index=[])\n",
    "result = df.format(verbosity=0)\n",
    "expected = pd.DataFrame('', columns=['meta', 'a', 'b', 'c'], index=[])\n",
    "compare(df, result, expected)\n",
    "\n",
    "\n",
    "df = pd.DataFrame(columns=[' a', 'b ', ' c ', 'a b c '])\n",
    "result = df.format(verbosity=0)\n",
    "expected = pd.DataFrame('', columns=['meta', 'a', 'b', 'c', 'a b c'], index=[])\n",
    "compare(df, result, expected)\n",
    "\n",
    "\n",
    "df = pd.DataFrame(columns=['&&a', 'b&&', '&&c&&', 'a&&b&&c&&'])\n",
    "result = df.format(verbosity=0)\n",
    "expected = pd.DataFrame('', columns=['meta', '& &a', 'b& &', '& &c& &', 'a& &b& &c& &'], index=[])\n",
    "compare(df, result, expected)\n",
    "\n",
    "\n",
    "df = pd.DataFrame(columns=['//a', 'b//', '//c//', 'a//b//c//'])\n",
    "result = df.format(verbosity=0)\n",
    "expected = pd.DataFrame('', columns=['meta', '/ /a', 'b/ /', '/ /c/ /', 'a/ /b/ /c/ /'], index=[])\n",
    "compare(df, result, expected)\n",
    "\n",
    "\n",
    "df = pd.DataFrame(columns=['´a', 'b´´´', '´´c´', 'a´b´´c´'])\n",
    "result = df.format(verbosity=0)\n",
    "expected = pd.DataFrame('', columns=['meta', '`a', 'b```', '``c`', 'a`b``c`'], index=[])\n",
    "compare(df, result, expected)"
   ]
  },
  {
   "cell_type": "markdown",
   "metadata": {},
   "source": [
    "# df.save() and df.load()"
   ]
  },
  {
   "cell_type": "code",
   "execution_count": 20,
   "metadata": {},
   "outputs": [
    {
     "data": {
      "text/html": [
       "<style type=\"text/css\">\n",
       "#T_be981_row0_col0, #T_be981_row0_col1, #T_be981_row0_col2, #T_be981_row0_col3 {\n",
       "  background-color: #f7d67c;\n",
       "}\n",
       "</style>\n",
       "<table id=\"T_be981\">\n",
       "  <thead>\n",
       "  </thead>\n",
       "  <tbody>\n",
       "    <tr>\n",
       "      <th id=\"T_be981_level0_row0\" class=\"row_heading level0 row0\" >32</th>\n",
       "      <td id=\"T_be981_row0_col0\" class=\"data row0 col0\" >saving df to \"df.xlsx\" in sheet \"data1\"</td>\n",
       "      <td id=\"T_be981_row0_col1\" class=\"data row0 col1\" >df.save()</td>\n",
       "      <td id=\"T_be981_row0_col2\" class=\"data row0 col2\" >Warning</td>\n",
       "      <td id=\"T_be981_row0_col3\" class=\"data row0 col3\" >2024-07-15 15:37:58.565417</td>\n",
       "    </tr>\n",
       "  </tbody>\n",
       "</table>\n"
      ],
      "text/plain": [
       "<pandas.io.formats.style.Styler at 0x1acb2e8bbf0>"
      ]
     },
     "metadata": {},
     "output_type": "display_data"
    },
    {
     "data": {
      "text/html": [
       "<style type=\"text/css\">\n",
       "#T_c7223_row0_col0, #T_c7223_row0_col1, #T_c7223_row0_col2, #T_c7223_row0_col3 {\n",
       "  background-color: #c0e7b0;\n",
       "}\n",
       "</style>\n",
       "<table id=\"T_c7223\">\n",
       "  <thead>\n",
       "  </thead>\n",
       "  <tbody>\n",
       "    <tr>\n",
       "      <th id=\"T_c7223_level0_row0\" class=\"row_heading level0 row0\" >33</th>\n",
       "      <td id=\"T_c7223_row0_col0\" class=\"data row0 col0\" >archiving df to \"c:\\Users\\MartinVölkl-GouyaIns\\OneDrive - Gouya Insights\\Desktop\\qplib_dev/archive/df_2024_07_15.xlsx\" in sheet \"data1\"</td>\n",
       "      <td id=\"T_c7223_row0_col1\" class=\"data row0 col1\" >df.save()</td>\n",
       "      <td id=\"T_c7223_row0_col2\" class=\"data row0 col2\" >info</td>\n",
       "      <td id=\"T_c7223_row0_col3\" class=\"data row0 col3\" >2024-07-15 15:37:59.185090</td>\n",
       "    </tr>\n",
       "  </tbody>\n",
       "</table>\n"
      ],
      "text/plain": [
       "<pandas.io.formats.style.Styler at 0x1acb3208980>"
      ]
     },
     "metadata": {},
     "output_type": "display_data"
    },
    {
     "name": "stdout",
     "output_type": "stream",
     "text": [
      "passed test for default saving behaviour\n",
      "passed test for loading from default file\n"
     ]
    },
    {
     "data": {
      "text/html": [
       "<style type=\"text/css\">\n",
       "#T_78aae_row0_col0, #T_78aae_row0_col1, #T_78aae_row0_col2, #T_78aae_row0_col3 {\n",
       "  background-color: #f7d67c;\n",
       "}\n",
       "</style>\n",
       "<table id=\"T_78aae\">\n",
       "  <thead>\n",
       "  </thead>\n",
       "  <tbody>\n",
       "    <tr>\n",
       "      <th id=\"T_78aae_level0_row0\" class=\"row_heading level0 row0\" >34</th>\n",
       "      <td id=\"T_78aae_row0_col0\" class=\"data row0 col0\" >saving df to \"df1.xlsx\" in sheet \"data1\"</td>\n",
       "      <td id=\"T_78aae_row0_col1\" class=\"data row0 col1\" >df.save()</td>\n",
       "      <td id=\"T_78aae_row0_col2\" class=\"data row0 col2\" >Warning</td>\n",
       "      <td id=\"T_78aae_row0_col3\" class=\"data row0 col3\" >2024-07-15 15:37:59.226134</td>\n",
       "    </tr>\n",
       "  </tbody>\n",
       "</table>\n"
      ],
      "text/plain": [
       "<pandas.io.formats.style.Styler at 0x1acb3176ed0>"
      ]
     },
     "metadata": {},
     "output_type": "display_data"
    },
    {
     "data": {
      "text/html": [
       "<style type=\"text/css\">\n",
       "#T_43d65_row0_col0, #T_43d65_row0_col1, #T_43d65_row0_col2, #T_43d65_row0_col3 {\n",
       "  background-color: #c0e7b0;\n",
       "}\n",
       "</style>\n",
       "<table id=\"T_43d65\">\n",
       "  <thead>\n",
       "  </thead>\n",
       "  <tbody>\n",
       "    <tr>\n",
       "      <th id=\"T_43d65_level0_row0\" class=\"row_heading level0 row0\" >35</th>\n",
       "      <td id=\"T_43d65_row0_col0\" class=\"data row0 col0\" >archiving df to \"c:\\Users\\MartinVölkl-GouyaIns\\OneDrive - Gouya Insights\\Desktop\\qplib_dev/archive/df1_2024_07_15.xlsx\" in sheet \"data1\"</td>\n",
       "      <td id=\"T_43d65_row0_col1\" class=\"data row0 col1\" >df.save()</td>\n",
       "      <td id=\"T_43d65_row0_col2\" class=\"data row0 col2\" >info</td>\n",
       "      <td id=\"T_43d65_row0_col3\" class=\"data row0 col3\" >2024-07-15 15:37:59.252937</td>\n",
       "    </tr>\n",
       "  </tbody>\n",
       "</table>\n"
      ],
      "text/plain": [
       "<pandas.io.formats.style.Styler at 0x1acb3245df0>"
      ]
     },
     "metadata": {},
     "output_type": "display_data"
    },
    {
     "name": "stdout",
     "output_type": "stream",
     "text": [
      "passed test for saving to a specific file\n",
      "passed test for loading from a specific file\n"
     ]
    },
    {
     "data": {
      "text/html": [
       "<style type=\"text/css\">\n",
       "#T_6b829_row0_col0, #T_6b829_row0_col1, #T_6b829_row0_col2, #T_6b829_row0_col3 {\n",
       "  background-color: #f7d67c;\n",
       "}\n",
       "</style>\n",
       "<table id=\"T_6b829\">\n",
       "  <thead>\n",
       "  </thead>\n",
       "  <tbody>\n",
       "    <tr>\n",
       "      <th id=\"T_6b829_level0_row0\" class=\"row_heading level0 row0\" >36</th>\n",
       "      <td id=\"T_6b829_row0_col0\" class=\"data row0 col0\" >saving df to \"test/df1.xlsx\" in sheet \"data1\"</td>\n",
       "      <td id=\"T_6b829_row0_col1\" class=\"data row0 col1\" >df.save()</td>\n",
       "      <td id=\"T_6b829_row0_col2\" class=\"data row0 col2\" >Warning</td>\n",
       "      <td id=\"T_6b829_row0_col3\" class=\"data row0 col3\" >2024-07-15 15:37:59.290573</td>\n",
       "    </tr>\n",
       "  </tbody>\n",
       "</table>\n"
      ],
      "text/plain": [
       "<pandas.io.formats.style.Styler at 0x1acb31af950>"
      ]
     },
     "metadata": {},
     "output_type": "display_data"
    },
    {
     "data": {
      "text/html": [
       "<style type=\"text/css\">\n",
       "#T_c1d91_row0_col0, #T_c1d91_row0_col1, #T_c1d91_row0_col2, #T_c1d91_row0_col3 {\n",
       "  background-color: #f7d67c;\n",
       "}\n",
       "</style>\n",
       "<table id=\"T_c1d91\">\n",
       "  <thead>\n",
       "  </thead>\n",
       "  <tbody>\n",
       "    <tr>\n",
       "      <th id=\"T_c1d91_level0_row0\" class=\"row_heading level0 row0\" >37</th>\n",
       "      <td id=\"T_c1d91_row0_col0\" class=\"data row0 col0\" >did not find archive folder \"test/archive\"</td>\n",
       "      <td id=\"T_c1d91_row0_col1\" class=\"data row0 col1\" >df.save()</td>\n",
       "      <td id=\"T_c1d91_row0_col2\" class=\"data row0 col2\" >Warning</td>\n",
       "      <td id=\"T_c1d91_row0_col3\" class=\"data row0 col3\" >2024-07-15 15:37:59.319927</td>\n",
       "    </tr>\n",
       "  </tbody>\n",
       "</table>\n"
      ],
      "text/plain": [
       "<pandas.io.formats.style.Styler at 0x1acb31087d0>"
      ]
     },
     "metadata": {},
     "output_type": "display_data"
    },
    {
     "name": "stdout",
     "output_type": "stream",
     "text": [
      "passed test for saving to a specific file in folder\n",
      "passed test for loading from a specific file in folder\n"
     ]
    },
    {
     "data": {
      "text/html": [
       "<style type=\"text/css\">\n",
       "#T_8b626_row0_col0, #T_8b626_row0_col1, #T_8b626_row0_col2, #T_8b626_row0_col3 {\n",
       "  background-color: #f7d67c;\n",
       "}\n",
       "</style>\n",
       "<table id=\"T_8b626\">\n",
       "  <thead>\n",
       "  </thead>\n",
       "  <tbody>\n",
       "    <tr>\n",
       "      <th id=\"T_8b626_level0_row0\" class=\"row_heading level0 row0\" >38</th>\n",
       "      <td id=\"T_8b626_row0_col0\" class=\"data row0 col0\" >file \"df1.xlsx\" already exists. data in sheet \"data2\" will be overwritten</td>\n",
       "      <td id=\"T_8b626_row0_col1\" class=\"data row0 col1\" >df.save()</td>\n",
       "      <td id=\"T_8b626_row0_col2\" class=\"data row0 col2\" >Warning</td>\n",
       "      <td id=\"T_8b626_row0_col3\" class=\"data row0 col3\" >2024-07-15 15:37:59.335633</td>\n",
       "    </tr>\n",
       "  </tbody>\n",
       "</table>\n"
      ],
      "text/plain": [
       "<pandas.io.formats.style.Styler at 0x1ac9bf80aa0>"
      ]
     },
     "metadata": {},
     "output_type": "display_data"
    },
    {
     "data": {
      "text/html": [
       "<style type=\"text/css\">\n",
       "#T_0879a_row0_col0, #T_0879a_row0_col1, #T_0879a_row0_col2, #T_0879a_row0_col3 {\n",
       "  background-color: #f7d67c;\n",
       "}\n",
       "</style>\n",
       "<table id=\"T_0879a\">\n",
       "  <thead>\n",
       "  </thead>\n",
       "  <tbody>\n",
       "    <tr>\n",
       "      <th id=\"T_0879a_level0_row0\" class=\"row_heading level0 row0\" >39</th>\n",
       "      <td id=\"T_0879a_row0_col0\" class=\"data row0 col0\" >archive file \"c:\\Users\\MartinVölkl-GouyaIns\\OneDrive - Gouya Insights\\Desktop\\qplib_dev/archive/df1_2024_07_15.xlsx\" already exists. data in sheet \"data2\" will be overwritten</td>\n",
       "      <td id=\"T_0879a_row0_col1\" class=\"data row0 col1\" >df.save()</td>\n",
       "      <td id=\"T_0879a_row0_col2\" class=\"data row0 col2\" >Warning</td>\n",
       "      <td id=\"T_0879a_row0_col3\" class=\"data row0 col3\" >2024-07-15 15:37:59.370646</td>\n",
       "    </tr>\n",
       "  </tbody>\n",
       "</table>\n"
      ],
      "text/plain": [
       "<pandas.io.formats.style.Styler at 0x1acb311b0b0>"
      ]
     },
     "metadata": {},
     "output_type": "display_data"
    },
    {
     "name": "stdout",
     "output_type": "stream",
     "text": [
      "passed test for saving and loading to and from a specific sheet\n"
     ]
    },
    {
     "data": {
      "text/html": [
       "<style type=\"text/css\">\n",
       "#T_7c2e7_row0_col0, #T_7c2e7_row0_col1, #T_7c2e7_row0_col2, #T_7c2e7_row0_col3 {\n",
       "  background-color: #f7d67c;\n",
       "}\n",
       "</style>\n",
       "<table id=\"T_7c2e7\">\n",
       "  <thead>\n",
       "  </thead>\n",
       "  <tbody>\n",
       "    <tr>\n",
       "      <th id=\"T_7c2e7_level0_row0\" class=\"row_heading level0 row0\" >40</th>\n",
       "      <td id=\"T_7c2e7_row0_col0\" class=\"data row0 col0\" >file \"df1.xlsx\" already exists. data in sheet \"data1\" will be overwritten</td>\n",
       "      <td id=\"T_7c2e7_row0_col1\" class=\"data row0 col1\" >df.save()</td>\n",
       "      <td id=\"T_7c2e7_row0_col2\" class=\"data row0 col2\" >Warning</td>\n",
       "      <td id=\"T_7c2e7_row0_col3\" class=\"data row0 col3\" >2024-07-15 15:37:59.434072</td>\n",
       "    </tr>\n",
       "  </tbody>\n",
       "</table>\n"
      ],
      "text/plain": [
       "<pandas.io.formats.style.Styler at 0x1acb30abc20>"
      ]
     },
     "metadata": {},
     "output_type": "display_data"
    },
    {
     "data": {
      "text/html": [
       "<style type=\"text/css\">\n",
       "#T_a86c3_row0_col0, #T_a86c3_row0_col1, #T_a86c3_row0_col2, #T_a86c3_row0_col3 {\n",
       "  background-color: #f7d67c;\n",
       "}\n",
       "</style>\n",
       "<table id=\"T_a86c3\">\n",
       "  <thead>\n",
       "  </thead>\n",
       "  <tbody>\n",
       "    <tr>\n",
       "      <th id=\"T_a86c3_level0_row0\" class=\"row_heading level0 row0\" >41</th>\n",
       "      <td id=\"T_a86c3_row0_col0\" class=\"data row0 col0\" >archive file \"c:\\Users\\MartinVölkl-GouyaIns\\OneDrive - Gouya Insights\\Desktop\\qplib_dev/archive/df1_2024_07_15.xlsx\" already exists. data in sheet \"data1\" will be overwritten</td>\n",
       "      <td id=\"T_a86c3_row0_col1\" class=\"data row0 col1\" >df.save()</td>\n",
       "      <td id=\"T_a86c3_row0_col2\" class=\"data row0 col2\" >Warning</td>\n",
       "      <td id=\"T_a86c3_row0_col3\" class=\"data row0 col3\" >2024-07-15 15:37:59.468480</td>\n",
       "    </tr>\n",
       "  </tbody>\n",
       "</table>\n"
      ],
      "text/plain": [
       "<pandas.io.formats.style.Styler at 0x1acb2eec770>"
      ]
     },
     "metadata": {},
     "output_type": "display_data"
    },
    {
     "name": "stdout",
     "output_type": "stream",
     "text": [
      "passed test for overwriting sheets\n"
     ]
    },
    {
     "data": {
      "text/html": [
       "<style type=\"text/css\">\n",
       "#T_5ce1f_row0_col0, #T_5ce1f_row0_col1, #T_5ce1f_row0_col2, #T_5ce1f_row0_col3 {\n",
       "  background-color: #f7d67c;\n",
       "}\n",
       "</style>\n",
       "<table id=\"T_5ce1f\">\n",
       "  <thead>\n",
       "  </thead>\n",
       "  <tbody>\n",
       "    <tr>\n",
       "      <th id=\"T_5ce1f_level0_row0\" class=\"row_heading level0 row0\" >42</th>\n",
       "      <td id=\"T_5ce1f_row0_col0\" class=\"data row0 col0\" >file \"df1.xlsx\" already exists. data in sheet \"data1\" will be overwritten</td>\n",
       "      <td id=\"T_5ce1f_row0_col1\" class=\"data row0 col1\" >df.save()</td>\n",
       "      <td id=\"T_5ce1f_row0_col2\" class=\"data row0 col2\" >Warning</td>\n",
       "      <td id=\"T_5ce1f_row0_col3\" class=\"data row0 col3\" >2024-07-15 15:37:59.525690</td>\n",
       "    </tr>\n",
       "  </tbody>\n",
       "</table>\n"
      ],
      "text/plain": [
       "<pandas.io.formats.style.Styler at 0x1acb33e12b0>"
      ]
     },
     "metadata": {},
     "output_type": "display_data"
    },
    {
     "data": {
      "text/html": [
       "<style type=\"text/css\">\n",
       "#T_fcd82_row0_col0, #T_fcd82_row0_col1, #T_fcd82_row0_col2, #T_fcd82_row0_col3 {\n",
       "  background-color: #f7d67c;\n",
       "}\n",
       "</style>\n",
       "<table id=\"T_fcd82\">\n",
       "  <thead>\n",
       "  </thead>\n",
       "  <tbody>\n",
       "    <tr>\n",
       "      <th id=\"T_fcd82_level0_row0\" class=\"row_heading level0 row0\" >43</th>\n",
       "      <td id=\"T_fcd82_row0_col0\" class=\"data row0 col0\" >archive file \"c:\\Users\\MartinVölkl-GouyaIns\\OneDrive - Gouya Insights\\Desktop\\qplib_dev/archive/df1_2024_07_15.xlsx\" already exists. data in sheet \"data1\" will be overwritten</td>\n",
       "      <td id=\"T_fcd82_row0_col1\" class=\"data row0 col1\" >df.save()</td>\n",
       "      <td id=\"T_fcd82_row0_col2\" class=\"data row0 col2\" >Warning</td>\n",
       "      <td id=\"T_fcd82_row0_col3\" class=\"data row0 col3\" >2024-07-15 15:37:59.559234</td>\n",
       "    </tr>\n",
       "  </tbody>\n",
       "</table>\n"
      ],
      "text/plain": [
       "<pandas.io.formats.style.Styler at 0x1acb33d1280>"
      ]
     },
     "metadata": {},
     "output_type": "display_data"
    },
    {
     "data": {
      "text/html": [
       "<style type=\"text/css\">\n",
       "#T_b5bab_row0_col0, #T_b5bab_row0_col1, #T_b5bab_row0_col2, #T_b5bab_row0_col3 {\n",
       "  background-color: #f7d67c;\n",
       "}\n",
       "</style>\n",
       "<table id=\"T_b5bab\">\n",
       "  <thead>\n",
       "  </thead>\n",
       "  <tbody>\n",
       "    <tr>\n",
       "      <th id=\"T_b5bab_level0_row0\" class=\"row_heading level0 row0\" >44</th>\n",
       "      <td id=\"T_b5bab_row0_col0\" class=\"data row0 col0\" >file \"df1.xlsx\" already exists. data in sheet \"data1\" will be overwritten</td>\n",
       "      <td id=\"T_b5bab_row0_col1\" class=\"data row0 col1\" >df.save()</td>\n",
       "      <td id=\"T_b5bab_row0_col2\" class=\"data row0 col2\" >Warning</td>\n",
       "      <td id=\"T_b5bab_row0_col3\" class=\"data row0 col3\" >2024-07-15 15:37:59.591108</td>\n",
       "    </tr>\n",
       "  </tbody>\n",
       "</table>\n"
      ],
      "text/plain": [
       "<pandas.io.formats.style.Styler at 0x1acb30abc20>"
      ]
     },
     "metadata": {},
     "output_type": "display_data"
    },
    {
     "data": {
      "text/html": [
       "<style type=\"text/css\">\n",
       "#T_0cd33_row0_col0, #T_0cd33_row0_col1, #T_0cd33_row0_col2, #T_0cd33_row0_col3 {\n",
       "  background-color: #f7d67c;\n",
       "}\n",
       "</style>\n",
       "<table id=\"T_0cd33\">\n",
       "  <thead>\n",
       "  </thead>\n",
       "  <tbody>\n",
       "    <tr>\n",
       "      <th id=\"T_0cd33_level0_row0\" class=\"row_heading level0 row0\" >45</th>\n",
       "      <td id=\"T_0cd33_row0_col0\" class=\"data row0 col0\" >archive file \"c:\\Users\\MartinVölkl-GouyaIns\\OneDrive - Gouya Insights\\Desktop\\qplib_dev/archive/df1_2024_07_15.xlsx\" already exists. data in sheet \"data1\" will be overwritten</td>\n",
       "      <td id=\"T_0cd33_row0_col1\" class=\"data row0 col1\" >df.save()</td>\n",
       "      <td id=\"T_0cd33_row0_col2\" class=\"data row0 col2\" >Warning</td>\n",
       "      <td id=\"T_0cd33_row0_col3\" class=\"data row0 col3\" >2024-07-15 15:37:59.625477</td>\n",
       "    </tr>\n",
       "  </tbody>\n",
       "</table>\n"
      ],
      "text/plain": [
       "<pandas.io.formats.style.Styler at 0x1acb31af950>"
      ]
     },
     "metadata": {},
     "output_type": "display_data"
    },
    {
     "name": "stdout",
     "output_type": "stream",
     "text": [
      "passed test for archiving file\n"
     ]
    },
    {
     "data": {
      "text/html": [
       "<style type=\"text/css\">\n",
       "#T_ad21c_row0_col0, #T_ad21c_row0_col1, #T_ad21c_row0_col2, #T_ad21c_row0_col3 {\n",
       "  background-color: #f7d67c;\n",
       "}\n",
       "</style>\n",
       "<table id=\"T_ad21c\">\n",
       "  <thead>\n",
       "  </thead>\n",
       "  <tbody>\n",
       "    <tr>\n",
       "      <th id=\"T_ad21c_level0_row0\" class=\"row_heading level0 row0\" >46</th>\n",
       "      <td id=\"T_ad21c_row0_col0\" class=\"data row0 col0\" >file \"test/df1.xlsx\" already exists. data in sheet \"data1\" will be overwritten</td>\n",
       "      <td id=\"T_ad21c_row0_col1\" class=\"data row0 col1\" >df.save()</td>\n",
       "      <td id=\"T_ad21c_row0_col2\" class=\"data row0 col2\" >Warning</td>\n",
       "      <td id=\"T_ad21c_row0_col3\" class=\"data row0 col3\" >2024-07-15 15:37:59.661310</td>\n",
       "    </tr>\n",
       "  </tbody>\n",
       "</table>\n"
      ],
      "text/plain": [
       "<pandas.io.formats.style.Styler at 0x1acb3208680>"
      ]
     },
     "metadata": {},
     "output_type": "display_data"
    },
    {
     "data": {
      "text/html": [
       "<style type=\"text/css\">\n",
       "#T_7804b_row0_col0, #T_7804b_row0_col1, #T_7804b_row0_col2, #T_7804b_row0_col3 {\n",
       "  background-color: #c0e7b0;\n",
       "}\n",
       "</style>\n",
       "<table id=\"T_7804b\">\n",
       "  <thead>\n",
       "  </thead>\n",
       "  <tbody>\n",
       "    <tr>\n",
       "      <th id=\"T_7804b_level0_row0\" class=\"row_heading level0 row0\" >47</th>\n",
       "      <td id=\"T_7804b_row0_col0\" class=\"data row0 col0\" >archiving df to \"test/archive/df1_2024_07_15.xlsx\" in sheet \"data1\"</td>\n",
       "      <td id=\"T_7804b_row0_col1\" class=\"data row0 col1\" >df.save()</td>\n",
       "      <td id=\"T_7804b_row0_col2\" class=\"data row0 col2\" >info</td>\n",
       "      <td id=\"T_7804b_row0_col3\" class=\"data row0 col3\" >2024-07-15 15:37:59.690336</td>\n",
       "    </tr>\n",
       "  </tbody>\n",
       "</table>\n"
      ],
      "text/plain": [
       "<pandas.io.formats.style.Styler at 0x1acb310af30>"
      ]
     },
     "metadata": {},
     "output_type": "display_data"
    },
    {
     "name": "stdout",
     "output_type": "stream",
     "text": [
      "passed test for archiving in nested folder\n"
     ]
    },
    {
     "data": {
      "text/html": [
       "<style type=\"text/css\">\n",
       "#T_45a8d_row0_col0, #T_45a8d_row0_col1, #T_45a8d_row0_col2, #T_45a8d_row0_col3 {\n",
       "  background-color: #f7d67c;\n",
       "}\n",
       "</style>\n",
       "<table id=\"T_45a8d\">\n",
       "  <thead>\n",
       "  </thead>\n",
       "  <tbody>\n",
       "    <tr>\n",
       "      <th id=\"T_45a8d_level0_row0\" class=\"row_heading level0 row0\" >48</th>\n",
       "      <td id=\"T_45a8d_row0_col0\" class=\"data row0 col0\" >file \"test/df1.xlsx\" already exists. data in sheet \"data1\" will be overwritten</td>\n",
       "      <td id=\"T_45a8d_row0_col1\" class=\"data row0 col1\" >df.save()</td>\n",
       "      <td id=\"T_45a8d_row0_col2\" class=\"data row0 col2\" >Warning</td>\n",
       "      <td id=\"T_45a8d_row0_col3\" class=\"data row0 col3\" >2024-07-15 15:37:59.717235</td>\n",
       "    </tr>\n",
       "  </tbody>\n",
       "</table>\n"
      ],
      "text/plain": [
       "<pandas.io.formats.style.Styler at 0x1ac9bf80b30>"
      ]
     },
     "metadata": {},
     "output_type": "display_data"
    },
    {
     "data": {
      "text/html": [
       "<style type=\"text/css\">\n",
       "#T_6f309_row0_col0, #T_6f309_row0_col1, #T_6f309_row0_col2, #T_6f309_row0_col3 {\n",
       "  background-color: #c0e7b0;\n",
       "}\n",
       "</style>\n",
       "<table id=\"T_6f309\">\n",
       "  <thead>\n",
       "  </thead>\n",
       "  <tbody>\n",
       "    <tr>\n",
       "      <th id=\"T_6f309_level0_row0\" class=\"row_heading level0 row0\" >49</th>\n",
       "      <td id=\"T_6f309_row0_col0\" class=\"data row0 col0\" >archiving df to \"test/archive/df1_15_07_2024.xlsx\" in sheet \"data1\"</td>\n",
       "      <td id=\"T_6f309_row0_col1\" class=\"data row0 col1\" >df.save()</td>\n",
       "      <td id=\"T_6f309_row0_col2\" class=\"data row0 col2\" >info</td>\n",
       "      <td id=\"T_6f309_row0_col3\" class=\"data row0 col3\" >2024-07-15 15:37:59.744608</td>\n",
       "    </tr>\n",
       "  </tbody>\n",
       "</table>\n"
      ],
      "text/plain": [
       "<pandas.io.formats.style.Styler at 0x1acb32ecf50>"
      ]
     },
     "metadata": {},
     "output_type": "display_data"
    },
    {
     "name": "stdout",
     "output_type": "stream",
     "text": [
      "passed test for archiving with different date format\n"
     ]
    },
    {
     "data": {
      "text/html": [
       "<style type=\"text/css\">\n",
       "#T_5236f_row0_col0, #T_5236f_row0_col1, #T_5236f_row0_col2, #T_5236f_row0_col3 {\n",
       "  background-color: #c0e7b0;\n",
       "}\n",
       "</style>\n",
       "<table id=\"T_5236f\">\n",
       "  <thead>\n",
       "  </thead>\n",
       "  <tbody>\n",
       "    <tr>\n",
       "      <th id=\"T_5236f_level0_row0\" class=\"row_heading level0 row0\" >50</th>\n",
       "      <td id=\"T_5236f_row0_col0\" class=\"data row0 col0\" >no archive folder found. looking for most recent file in \"archive\" instead</td>\n",
       "      <td id=\"T_5236f_row0_col1\" class=\"data row0 col1\" >df.load()</td>\n",
       "      <td id=\"T_5236f_row0_col2\" class=\"data row0 col2\" >info</td>\n",
       "      <td id=\"T_5236f_row0_col3\" class=\"data row0 col3\" >2024-07-15 15:38:00.004875</td>\n",
       "    </tr>\n",
       "  </tbody>\n",
       "</table>\n"
      ],
      "text/plain": [
       "<pandas.io.formats.style.Styler at 0x1acb3245df0>"
      ]
     },
     "metadata": {},
     "output_type": "display_data"
    },
    {
     "data": {
      "text/html": [
       "<style type=\"text/css\">\n",
       "#T_fc396_row0_col0, #T_fc396_row0_col1, #T_fc396_row0_col2, #T_fc396_row0_col3 {\n",
       "  background-color: #c0e7b0;\n",
       "}\n",
       "</style>\n",
       "<table id=\"T_fc396\">\n",
       "  <thead>\n",
       "  </thead>\n",
       "  <tbody>\n",
       "    <tr>\n",
       "      <th id=\"T_fc396_level0_row0\" class=\"row_heading level0 row0\" >51</th>\n",
       "      <td id=\"T_fc396_row0_col0\" class=\"data row0 col0\" >loading \"archive/df_2024_07_15.xlsx\"</td>\n",
       "      <td id=\"T_fc396_row0_col1\" class=\"data row0 col1\" >df.load()</td>\n",
       "      <td id=\"T_fc396_row0_col2\" class=\"data row0 col2\" >info</td>\n",
       "      <td id=\"T_fc396_row0_col3\" class=\"data row0 col3\" >2024-07-15 15:38:00.017504</td>\n",
       "    </tr>\n",
       "  </tbody>\n",
       "</table>\n"
      ],
      "text/plain": [
       "<pandas.io.formats.style.Styler at 0x1acb2eeeb70>"
      ]
     },
     "metadata": {},
     "output_type": "display_data"
    },
    {
     "name": "stdout",
     "output_type": "stream",
     "text": [
      "passed test for loading most recent file\n"
     ]
    },
    {
     "data": {
      "text/html": [
       "<style type=\"text/css\">\n",
       "#T_143a8_row0_col0, #T_143a8_row0_col1, #T_143a8_row0_col2, #T_143a8_row0_col3 {\n",
       "  background-color: #c0e7b0;\n",
       "}\n",
       "</style>\n",
       "<table id=\"T_143a8\">\n",
       "  <thead>\n",
       "  </thead>\n",
       "  <tbody>\n",
       "    <tr>\n",
       "      <th id=\"T_143a8_level0_row0\" class=\"row_heading level0 row0\" >52</th>\n",
       "      <td id=\"T_143a8_row0_col0\" class=\"data row0 col0\" >no archive folder found. looking for most recent file in \"archive\" instead</td>\n",
       "      <td id=\"T_143a8_row0_col1\" class=\"data row0 col1\" >df.load()</td>\n",
       "      <td id=\"T_143a8_row0_col2\" class=\"data row0 col2\" >info</td>\n",
       "      <td id=\"T_143a8_row0_col3\" class=\"data row0 col3\" >2024-07-15 15:38:00.037042</td>\n",
       "    </tr>\n",
       "  </tbody>\n",
       "</table>\n"
      ],
      "text/plain": [
       "<pandas.io.formats.style.Styler at 0x1acb31af950>"
      ]
     },
     "metadata": {},
     "output_type": "display_data"
    },
    {
     "data": {
      "text/html": [
       "<style type=\"text/css\">\n",
       "#T_7d834_row0_col0, #T_7d834_row0_col1, #T_7d834_row0_col2, #T_7d834_row0_col3 {\n",
       "  background-color: #c0e7b0;\n",
       "}\n",
       "</style>\n",
       "<table id=\"T_7d834\">\n",
       "  <thead>\n",
       "  </thead>\n",
       "  <tbody>\n",
       "    <tr>\n",
       "      <th id=\"T_7d834_level0_row0\" class=\"row_heading level0 row0\" >53</th>\n",
       "      <td id=\"T_7d834_row0_col0\" class=\"data row0 col0\" >loading \"archive/df_2024_07_15.xlsx\"</td>\n",
       "      <td id=\"T_7d834_row0_col1\" class=\"data row0 col1\" >df.load()</td>\n",
       "      <td id=\"T_7d834_row0_col2\" class=\"data row0 col2\" >info</td>\n",
       "      <td id=\"T_7d834_row0_col3\" class=\"data row0 col3\" >2024-07-15 15:38:00.047682</td>\n",
       "    </tr>\n",
       "  </tbody>\n",
       "</table>\n"
      ],
      "text/plain": [
       "<pandas.io.formats.style.Styler at 0x1acb33df140>"
      ]
     },
     "metadata": {},
     "output_type": "display_data"
    },
    {
     "name": "stdout",
     "output_type": "stream",
     "text": [
      "passed test for loading most recent file explicitly\n"
     ]
    },
    {
     "data": {
      "text/html": [
       "<style type=\"text/css\">\n",
       "#T_5abe9_row0_col0, #T_5abe9_row0_col1, #T_5abe9_row0_col2, #T_5abe9_row0_col3 {\n",
       "  background-color: #c0e7b0;\n",
       "}\n",
       "</style>\n",
       "<table id=\"T_5abe9\">\n",
       "  <thead>\n",
       "  </thead>\n",
       "  <tbody>\n",
       "    <tr>\n",
       "      <th id=\"T_5abe9_level0_row0\" class=\"row_heading level0 row0\" >54</th>\n",
       "      <td id=\"T_5abe9_row0_col0\" class=\"data row0 col0\" >no archive folder found. looking for most recent file in \"archive\" instead</td>\n",
       "      <td id=\"T_5abe9_row0_col1\" class=\"data row0 col1\" >df.load()</td>\n",
       "      <td id=\"T_5abe9_row0_col2\" class=\"data row0 col2\" >info</td>\n",
       "      <td id=\"T_5abe9_row0_col3\" class=\"data row0 col3\" >2024-07-15 15:38:00.225708</td>\n",
       "    </tr>\n",
       "  </tbody>\n",
       "</table>\n"
      ],
      "text/plain": [
       "<pandas.io.formats.style.Styler at 0x1acb30a9310>"
      ]
     },
     "metadata": {},
     "output_type": "display_data"
    },
    {
     "data": {
      "text/html": [
       "<style type=\"text/css\">\n",
       "#T_a6172_row0_col0, #T_a6172_row0_col1, #T_a6172_row0_col2, #T_a6172_row0_col3 {\n",
       "  background-color: #c0e7b0;\n",
       "}\n",
       "</style>\n",
       "<table id=\"T_a6172\">\n",
       "  <thead>\n",
       "  </thead>\n",
       "  <tbody>\n",
       "    <tr>\n",
       "      <th id=\"T_a6172_level0_row0\" class=\"row_heading level0 row0\" >55</th>\n",
       "      <td id=\"T_a6172_row0_col0\" class=\"data row0 col0\" >loading \"archive/df_15_07_2024.xlsx\"</td>\n",
       "      <td id=\"T_a6172_row0_col1\" class=\"data row0 col1\" >df.load()</td>\n",
       "      <td id=\"T_a6172_row0_col2\" class=\"data row0 col2\" >info</td>\n",
       "      <td id=\"T_a6172_row0_col3\" class=\"data row0 col3\" >2024-07-15 15:38:00.234862</td>\n",
       "    </tr>\n",
       "  </tbody>\n",
       "</table>\n"
      ],
      "text/plain": [
       "<pandas.io.formats.style.Styler at 0x1acb32c6330>"
      ]
     },
     "metadata": {},
     "output_type": "display_data"
    },
    {
     "name": "stdout",
     "output_type": "stream",
     "text": [
      "passed test for loading most recent file with different date format\n"
     ]
    },
    {
     "data": {
      "text/html": [
       "<style type=\"text/css\">\n",
       "#T_f00aa_row0_col0, #T_f00aa_row0_col1, #T_f00aa_row0_col2, #T_f00aa_row0_col3 {\n",
       "  background-color: #c0e7b0;\n",
       "}\n",
       "</style>\n",
       "<table id=\"T_f00aa\">\n",
       "  <thead>\n",
       "  </thead>\n",
       "  <tbody>\n",
       "    <tr>\n",
       "      <th id=\"T_f00aa_level0_row0\" class=\"row_heading level0 row0\" >56</th>\n",
       "      <td id=\"T_f00aa_row0_col0\" class=\"data row0 col0\" >no archive folder found. looking for most recent file in \"archive\" instead</td>\n",
       "      <td id=\"T_f00aa_row0_col1\" class=\"data row0 col1\" >df.load()</td>\n",
       "      <td id=\"T_f00aa_row0_col2\" class=\"data row0 col2\" >info</td>\n",
       "      <td id=\"T_f00aa_row0_col3\" class=\"data row0 col3\" >2024-07-15 15:38:00.318236</td>\n",
       "    </tr>\n",
       "  </tbody>\n",
       "</table>\n"
      ],
      "text/plain": [
       "<pandas.io.formats.style.Styler at 0x1acb310aa20>"
      ]
     },
     "metadata": {},
     "output_type": "display_data"
    },
    {
     "data": {
      "text/html": [
       "<style type=\"text/css\">\n",
       "#T_1eb59_row0_col0, #T_1eb59_row0_col1, #T_1eb59_row0_col2, #T_1eb59_row0_col3 {\n",
       "  background-color: #c0e7b0;\n",
       "}\n",
       "</style>\n",
       "<table id=\"T_1eb59\">\n",
       "  <thead>\n",
       "  </thead>\n",
       "  <tbody>\n",
       "    <tr>\n",
       "      <th id=\"T_1eb59_level0_row0\" class=\"row_heading level0 row0\" >57</th>\n",
       "      <td id=\"T_1eb59_row0_col0\" class=\"data row0 col0\" >loading \"archive/df_2000_01_01.xlsx\"</td>\n",
       "      <td id=\"T_1eb59_row0_col1\" class=\"data row0 col1\" >df.load()</td>\n",
       "      <td id=\"T_1eb59_row0_col2\" class=\"data row0 col2\" >info</td>\n",
       "      <td id=\"T_1eb59_row0_col3\" class=\"data row0 col3\" >2024-07-15 15:38:00.325440</td>\n",
       "    </tr>\n",
       "  </tbody>\n",
       "</table>\n"
      ],
      "text/plain": [
       "<pandas.io.formats.style.Styler at 0x1acb332d5b0>"
      ]
     },
     "metadata": {},
     "output_type": "display_data"
    },
    {
     "name": "stdout",
     "output_type": "stream",
     "text": [
      "passed test for loading most recent file from before specific date\n"
     ]
    },
    {
     "data": {
      "text/html": [
       "<style type=\"text/css\">\n",
       "#T_8304c_row0_col0, #T_8304c_row0_col1, #T_8304c_row0_col2, #T_8304c_row0_col3 {\n",
       "  background-color: #c0e7b0;\n",
       "}\n",
       "</style>\n",
       "<table id=\"T_8304c\">\n",
       "  <thead>\n",
       "  </thead>\n",
       "  <tbody>\n",
       "    <tr>\n",
       "      <th id=\"T_8304c_level0_row0\" class=\"row_heading level0 row0\" >58</th>\n",
       "      <td id=\"T_8304c_row0_col0\" class=\"data row0 col0\" >no archive folder found. looking for most recent file in \"archive\" instead</td>\n",
       "      <td id=\"T_8304c_row0_col1\" class=\"data row0 col1\" >df.load()</td>\n",
       "      <td id=\"T_8304c_row0_col2\" class=\"data row0 col2\" >info</td>\n",
       "      <td id=\"T_8304c_row0_col3\" class=\"data row0 col3\" >2024-07-15 15:38:00.338220</td>\n",
       "    </tr>\n",
       "  </tbody>\n",
       "</table>\n"
      ],
      "text/plain": [
       "<pandas.io.formats.style.Styler at 0x1acb3436c60>"
      ]
     },
     "metadata": {},
     "output_type": "display_data"
    },
    {
     "data": {
      "text/html": [
       "<style type=\"text/css\">\n",
       "#T_e65b4_row0_col0, #T_e65b4_row0_col1, #T_e65b4_row0_col2, #T_e65b4_row0_col3 {\n",
       "  background-color: #c0e7b0;\n",
       "}\n",
       "</style>\n",
       "<table id=\"T_e65b4\">\n",
       "  <thead>\n",
       "  </thead>\n",
       "  <tbody>\n",
       "    <tr>\n",
       "      <th id=\"T_e65b4_level0_row0\" class=\"row_heading level0 row0\" >59</th>\n",
       "      <td id=\"T_e65b4_row0_col0\" class=\"data row0 col0\" >loading \"archive/df_2023_06_11.xlsx\"</td>\n",
       "      <td id=\"T_e65b4_row0_col1\" class=\"data row0 col1\" >df.load()</td>\n",
       "      <td id=\"T_e65b4_row0_col2\" class=\"data row0 col2\" >info</td>\n",
       "      <td id=\"T_e65b4_row0_col3\" class=\"data row0 col3\" >2024-07-15 15:38:00.347406</td>\n",
       "    </tr>\n",
       "  </tbody>\n",
       "</table>\n"
      ],
      "text/plain": [
       "<pandas.io.formats.style.Styler at 0x1acb32c6330>"
      ]
     },
     "metadata": {},
     "output_type": "display_data"
    },
    {
     "name": "stdout",
     "output_type": "stream",
     "text": [
      "passed test for loading most recent file from before this year\n"
     ]
    },
    {
     "data": {
      "text/html": [
       "<style type=\"text/css\">\n",
       "#T_d15be_row0_col0, #T_d15be_row0_col1, #T_d15be_row0_col2, #T_d15be_row0_col3 {\n",
       "  background-color: #c0e7b0;\n",
       "}\n",
       "</style>\n",
       "<table id=\"T_d15be\">\n",
       "  <thead>\n",
       "  </thead>\n",
       "  <tbody>\n",
       "    <tr>\n",
       "      <th id=\"T_d15be_level0_row0\" class=\"row_heading level0 row0\" >60</th>\n",
       "      <td id=\"T_d15be_row0_col0\" class=\"data row0 col0\" >no archive folder found. looking for most recent file in \"archive\" instead</td>\n",
       "      <td id=\"T_d15be_row0_col1\" class=\"data row0 col1\" >df.load()</td>\n",
       "      <td id=\"T_d15be_row0_col2\" class=\"data row0 col2\" >info</td>\n",
       "      <td id=\"T_d15be_row0_col3\" class=\"data row0 col3\" >2024-07-15 15:38:00.425256</td>\n",
       "    </tr>\n",
       "  </tbody>\n",
       "</table>\n"
      ],
      "text/plain": [
       "<pandas.io.formats.style.Styler at 0x1acb33e8260>"
      ]
     },
     "metadata": {},
     "output_type": "display_data"
    },
    {
     "data": {
      "text/html": [
       "<style type=\"text/css\">\n",
       "#T_58027_row0_col0, #T_58027_row0_col1, #T_58027_row0_col2, #T_58027_row0_col3 {\n",
       "  background-color: #c0e7b0;\n",
       "}\n",
       "</style>\n",
       "<table id=\"T_58027\">\n",
       "  <thead>\n",
       "  </thead>\n",
       "  <tbody>\n",
       "    <tr>\n",
       "      <th id=\"T_58027_level0_row0\" class=\"row_heading level0 row0\" >61</th>\n",
       "      <td id=\"T_58027_row0_col0\" class=\"data row0 col0\" >loading \"archive/df_2024_06_05.xlsx\"</td>\n",
       "      <td id=\"T_58027_row0_col1\" class=\"data row0 col1\" >df.load()</td>\n",
       "      <td id=\"T_58027_row0_col2\" class=\"data row0 col2\" >info</td>\n",
       "      <td id=\"T_58027_row0_col3\" class=\"data row0 col3\" >2024-07-15 15:38:00.434772</td>\n",
       "    </tr>\n",
       "  </tbody>\n",
       "</table>\n"
      ],
      "text/plain": [
       "<pandas.io.formats.style.Styler at 0x1acb310a660>"
      ]
     },
     "metadata": {},
     "output_type": "display_data"
    },
    {
     "name": "stdout",
     "output_type": "stream",
     "text": [
      "passed test for loading most recent file from before this month\n"
     ]
    },
    {
     "data": {
      "text/html": [
       "<style type=\"text/css\">\n",
       "#T_e9490_row0_col0, #T_e9490_row0_col1, #T_e9490_row0_col2, #T_e9490_row0_col3 {\n",
       "  background-color: #c0e7b0;\n",
       "}\n",
       "</style>\n",
       "<table id=\"T_e9490\">\n",
       "  <thead>\n",
       "  </thead>\n",
       "  <tbody>\n",
       "    <tr>\n",
       "      <th id=\"T_e9490_level0_row0\" class=\"row_heading level0 row0\" >62</th>\n",
       "      <td id=\"T_e9490_row0_col0\" class=\"data row0 col0\" >no archive folder found. looking for most recent file in \"archive\" instead</td>\n",
       "      <td id=\"T_e9490_row0_col1\" class=\"data row0 col1\" >df.load()</td>\n",
       "      <td id=\"T_e9490_row0_col2\" class=\"data row0 col2\" >info</td>\n",
       "      <td id=\"T_e9490_row0_col3\" class=\"data row0 col3\" >2024-07-15 15:38:00.519997</td>\n",
       "    </tr>\n",
       "  </tbody>\n",
       "</table>\n"
      ],
      "text/plain": [
       "<pandas.io.formats.style.Styler at 0x1ac9bf80ce0>"
      ]
     },
     "metadata": {},
     "output_type": "display_data"
    },
    {
     "data": {
      "text/html": [
       "<style type=\"text/css\">\n",
       "#T_de0cb_row0_col0, #T_de0cb_row0_col1, #T_de0cb_row0_col2, #T_de0cb_row0_col3 {\n",
       "  background-color: #c0e7b0;\n",
       "}\n",
       "</style>\n",
       "<table id=\"T_de0cb\">\n",
       "  <thead>\n",
       "  </thead>\n",
       "  <tbody>\n",
       "    <tr>\n",
       "      <th id=\"T_de0cb_level0_row0\" class=\"row_heading level0 row0\" >63</th>\n",
       "      <td id=\"T_de0cb_row0_col0\" class=\"data row0 col0\" >loading \"archive/df_2024_07_07.xlsx\"</td>\n",
       "      <td id=\"T_de0cb_row0_col1\" class=\"data row0 col1\" >df.load()</td>\n",
       "      <td id=\"T_de0cb_row0_col2\" class=\"data row0 col2\" >info</td>\n",
       "      <td id=\"T_de0cb_row0_col3\" class=\"data row0 col3\" >2024-07-15 15:38:00.531999</td>\n",
       "    </tr>\n",
       "  </tbody>\n",
       "</table>\n"
      ],
      "text/plain": [
       "<pandas.io.formats.style.Styler at 0x1acb3265ac0>"
      ]
     },
     "metadata": {},
     "output_type": "display_data"
    },
    {
     "name": "stdout",
     "output_type": "stream",
     "text": [
      "passed test for loading most recent file from before this week\n"
     ]
    },
    {
     "data": {
      "text/html": [
       "<style type=\"text/css\">\n",
       "#T_fac0d_row0_col0, #T_fac0d_row0_col1, #T_fac0d_row0_col2, #T_fac0d_row0_col3 {\n",
       "  background-color: #c0e7b0;\n",
       "}\n",
       "</style>\n",
       "<table id=\"T_fac0d\">\n",
       "  <thead>\n",
       "  </thead>\n",
       "  <tbody>\n",
       "    <tr>\n",
       "      <th id=\"T_fac0d_level0_row0\" class=\"row_heading level0 row0\" >64</th>\n",
       "      <td id=\"T_fac0d_row0_col0\" class=\"data row0 col0\" >no archive folder found. looking for most recent file in \"archive\" instead</td>\n",
       "      <td id=\"T_fac0d_row0_col1\" class=\"data row0 col1\" >df.load()</td>\n",
       "      <td id=\"T_fac0d_row0_col2\" class=\"data row0 col2\" >info</td>\n",
       "      <td id=\"T_fac0d_row0_col3\" class=\"data row0 col3\" >2024-07-15 15:38:00.614096</td>\n",
       "    </tr>\n",
       "  </tbody>\n",
       "</table>\n"
      ],
      "text/plain": [
       "<pandas.io.formats.style.Styler at 0x1acb2e8bbf0>"
      ]
     },
     "metadata": {},
     "output_type": "display_data"
    },
    {
     "data": {
      "text/html": [
       "<style type=\"text/css\">\n",
       "#T_a5abb_row0_col0, #T_a5abb_row0_col1, #T_a5abb_row0_col2, #T_a5abb_row0_col3 {\n",
       "  background-color: #c0e7b0;\n",
       "}\n",
       "</style>\n",
       "<table id=\"T_a5abb\">\n",
       "  <thead>\n",
       "  </thead>\n",
       "  <tbody>\n",
       "    <tr>\n",
       "      <th id=\"T_a5abb_level0_row0\" class=\"row_heading level0 row0\" >65</th>\n",
       "      <td id=\"T_a5abb_row0_col0\" class=\"data row0 col0\" >loading \"archive/df_2024_07_14.xlsx\"</td>\n",
       "      <td id=\"T_a5abb_row0_col1\" class=\"data row0 col1\" >df.load()</td>\n",
       "      <td id=\"T_a5abb_row0_col2\" class=\"data row0 col2\" >info</td>\n",
       "      <td id=\"T_a5abb_row0_col3\" class=\"data row0 col3\" >2024-07-15 15:38:00.624655</td>\n",
       "    </tr>\n",
       "  </tbody>\n",
       "</table>\n"
      ],
      "text/plain": [
       "<pandas.io.formats.style.Styler at 0x1acb339be60>"
      ]
     },
     "metadata": {},
     "output_type": "display_data"
    },
    {
     "name": "stdout",
     "output_type": "stream",
     "text": [
      "passed test for loading most recent file from before this day\n"
     ]
    },
    {
     "data": {
      "text/html": [
       "<style type=\"text/css\">\n",
       "#T_44f1e_row0_col0, #T_44f1e_row0_col1, #T_44f1e_row0_col2, #T_44f1e_row0_col3 {\n",
       "  background-color: #c0e7b0;\n",
       "}\n",
       "</style>\n",
       "<table id=\"T_44f1e\">\n",
       "  <thead>\n",
       "  </thead>\n",
       "  <tbody>\n",
       "    <tr>\n",
       "      <th id=\"T_44f1e_level0_row0\" class=\"row_heading level0 row0\" >66</th>\n",
       "      <td id=\"T_44f1e_row0_col0\" class=\"data row0 col0\" >no archive folder found. looking for most recent file in \"archive\" instead</td>\n",
       "      <td id=\"T_44f1e_row0_col1\" class=\"data row0 col1\" >df.load()</td>\n",
       "      <td id=\"T_44f1e_row0_col2\" class=\"data row0 col2\" >info</td>\n",
       "      <td id=\"T_44f1e_row0_col3\" class=\"data row0 col3\" >2024-07-15 15:38:00.640244</td>\n",
       "    </tr>\n",
       "  </tbody>\n",
       "</table>\n"
      ],
      "text/plain": [
       "<pandas.io.formats.style.Styler at 0x1acb312cb60>"
      ]
     },
     "metadata": {},
     "output_type": "display_data"
    },
    {
     "data": {
      "text/html": [
       "<style type=\"text/css\">\n",
       "#T_3999b_row0_col0, #T_3999b_row0_col1, #T_3999b_row0_col2, #T_3999b_row0_col3 {\n",
       "  background-color: #c0e7b0;\n",
       "}\n",
       "</style>\n",
       "<table id=\"T_3999b\">\n",
       "  <thead>\n",
       "  </thead>\n",
       "  <tbody>\n",
       "    <tr>\n",
       "      <th id=\"T_3999b_level0_row0\" class=\"row_heading level0 row0\" >67</th>\n",
       "      <td id=\"T_3999b_row0_col0\" class=\"data row0 col0\" >loading \"archive/df_2024_07_14.xlsx\"</td>\n",
       "      <td id=\"T_3999b_row0_col1\" class=\"data row0 col1\" >df.load()</td>\n",
       "      <td id=\"T_3999b_row0_col2\" class=\"data row0 col2\" >info</td>\n",
       "      <td id=\"T_3999b_row0_col3\" class=\"data row0 col3\" >2024-07-15 15:38:00.652708</td>\n",
       "    </tr>\n",
       "  </tbody>\n",
       "</table>\n"
      ],
      "text/plain": [
       "<pandas.io.formats.style.Styler at 0x1acb3399910>"
      ]
     },
     "metadata": {},
     "output_type": "display_data"
    },
    {
     "name": "stdout",
     "output_type": "stream",
     "text": [
      "passed test for loading most recent file from before this day\n"
     ]
    }
   ],
   "source": [
    "#remove old test files\n",
    "today1 = datetime.datetime.now().strftime('%Y_%m_%d')\n",
    "today2 = datetime.datetime.now().strftime('%d_%m_%Y')\n",
    "date0 = qp.date('2000_01_01').strftime('%Y_%m_%d')\n",
    "date1 = (datetime.datetime.now() - datetime.timedelta(days=400)).date().strftime('%Y_%m_%d')\n",
    "date2 = (datetime.datetime.now() - datetime.timedelta(days=40)).date().strftime('%Y_%m_%d')\n",
    "date3 = (datetime.datetime.now() - datetime.timedelta(days=8)).date().strftime('%Y_%m_%d')\n",
    "date4 = (datetime.datetime.now() - datetime.timedelta(days=1)).date().strftime('%Y_%m_%d')\n",
    "\n",
    "def clean():\n",
    "    files = [\n",
    "        'df.xlsx',\n",
    "        'df1.xlsx',\n",
    "\n",
    "        'test/df1.xlsx',\n",
    "        'test/df1b.xlsx',\n",
    "        'test/df2.xlsx',\n",
    "\n",
    "        f'archive/df1_{today1}.xlsx',\n",
    "        f'archive/df1_{today2}.xlsx',\n",
    "        f'archive/df1b_{today1}.xlsx',\n",
    "\n",
    "        f'archive/df_{today1}.xlsx',\n",
    "        f'archive/df_{today2}.xlsx',\n",
    "        f'archive/df_{date0}.xlsx',\n",
    "        f'archive/df_{date1}.xlsx',\n",
    "        f'archive/df_{date2}.xlsx',\n",
    "        f'archive/df_{date3}.xlsx',\n",
    "        f'archive/df_{date4}.xlsx',\n",
    "\n",
    "        f'test/archive/df1_{today1}.xlsx',\n",
    "        f'test/archive/df1b_{today1}.xlsx',\n",
    "        f'test/archive/df2_{today1}.xlsx',\n",
    "        ]\n",
    "\n",
    "    for file in files:\n",
    "        if os.path.isfile(file):\n",
    "            os.remove(file)\n",
    "            # print(f'removed file: {file}')\n",
    "\n",
    "    if os.path.isdir('test/archive'):\n",
    "        shutil.rmtree('test/archive')\n",
    "clean()\n",
    "\n",
    "\n",
    "\n",
    "df1 = pd.DataFrame({'a':[1]})\n",
    "df2 = pd.DataFrame({'a':[2]})\n",
    "df3 = pd.DataFrame({'a':[3]})\n",
    "df4 = pd.DataFrame({'a':[4]})\n",
    "\n",
    "\n",
    "#default\n",
    "df1.save()\n",
    "if qp.isfile('df.xlsx'):\n",
    "    print('passed test for default saving behaviour')\n",
    "else:\n",
    "    raise Exception(f'failed test for default saving behaviour')\n",
    "\n",
    "df1a = qp.load('df.xlsx')\n",
    "if df1a.equals(df1):\n",
    "    print('passed test for loading from default file')\n",
    "else:\n",
    "    raise Exception(f'failed test for loading from default file')\n",
    "\n",
    "\n",
    "\n",
    "\n",
    "#specific file\n",
    "df1.save('df1.xlsx')\n",
    "if qp.isfile('df1.xlsx'):\n",
    "    print('passed test for saving to a specific file')\n",
    "else:\n",
    "    raise Exception(f'failed test for saving to a specific file')\n",
    "\n",
    "df1b = qp.load('df1.xlsx')\n",
    "if df1b.equals(df1):\n",
    "    print('passed test for loading from a specific file')\n",
    "else:\n",
    "    raise Exception(f'failed test for loading from a specific file')\n",
    "\n",
    "\n",
    "\n",
    "\n",
    "#file in folder\n",
    "df1.save('test/df1.xlsx')\n",
    "if qp.isfile('test/df1.xlsx'):\n",
    "    print('passed test for saving to a specific file in folder')\n",
    "else:\n",
    "    raise Exception(f'failed test for saving to a specific file in folder')\n",
    "\n",
    "df1c = qp.load('test/df1.xlsx')\n",
    "if df1c.equals(df1):\n",
    "    print('passed test for loading from a specific file in folder')\n",
    "else:\n",
    "    raise Exception(f'failed test for loading from a specific file in folder')\n",
    "\n",
    "\n",
    "\n",
    "\n",
    "#specific sheet\n",
    "df1.save('df1.xlsx', sheet='data2')\n",
    "df1d = qp.load('df1.xlsx', sheet='data2')\n",
    "if df1d.equals(df1):\n",
    "    print('passed test for saving and loading to and from a specific sheet')\n",
    "else:\n",
    "    raise Exception(f'failed test for saving and loading to and from a specific sheet')\n",
    "\n",
    "\n",
    "\n",
    "\n",
    "#overwriting sheets\n",
    "df1old = qp.load('df1.xlsx')\n",
    "df2.save('df1.xlsx')\n",
    "df1new = qp.load('df1.xlsx')\n",
    "if df1old.loc[0, 'a'] == 1 and df1new.loc[0, 'a'] == 2:\n",
    "    print('passed test for overwriting sheets')\n",
    "else:\n",
    "    raise Exception(f'failed test for overwriting sheets')\n",
    "df1.save('df1.xlsx')  #restore previous state\n",
    "\n",
    "\n",
    "\n",
    "#archiving\n",
    "today = datetime.datetime.now().strftime('%Y_%m_%d')\n",
    "df1.save('df1')\n",
    "if qp.isfile(f'archive/df1_{today}.xlsx'):\n",
    "    print('passed test for archiving file')\n",
    "else:\n",
    "    raise Exception(f'failed test for archiving file')\n",
    "\n",
    "\n",
    "#archiving nested folder\n",
    "os.mkdir('test/archive')\n",
    "df1.save('test/df1')\n",
    "if qp.isfile(f'test/archive/df1_{today}.xlsx'):\n",
    "    print('passed test for archiving in nested folder')\n",
    "else:\n",
    "    raise Exception(f'failed test for archiving nested folder')\n",
    "\n",
    "\n",
    "\n",
    "\n",
    "\n",
    "#archiving with different date format\n",
    "today = datetime.datetime.now().strftime('%d_%m_%Y')\n",
    "df1.save('test/df1.xlsx', sheet='data1', datefmt='%d_%m_%Y')\n",
    "if qp.isfile(f'test/archive/df1_{today}.xlsx'):\n",
    "    print('passed test for archiving with different date format')\n",
    "else:\n",
    "    raise Exception(f'failed test for archiving with different date format')\n",
    "\n",
    "\n",
    "\n",
    "#most recent file\n",
    "if os.path.isfile(f'archive/df_{today2}.xlsx'):\n",
    "    os.remove(f'archive/df_{today2}.xlsx')\n",
    "pd.DataFrame({'a':[today1]}).to_excel(f'archive/df_{today1}.xlsx', index=False)\n",
    "pd.DataFrame({'a':[date1]}).to_excel(f'archive/df_{date1}.xlsx', index=False)\n",
    "\n",
    "if qp.load('archive/df', sheet='Sheet1', index=False).loc[0, 'a'] == today1:\n",
    "    print('passed test for loading most recent file')\n",
    "else:\n",
    "    raise Exception(f'failed test for loading most recent file')\n",
    "\n",
    "\n",
    "\n",
    "#most recent file version 2\n",
    "if qp.load('archive/df', sheet='Sheet1', before='now', index=False).loc[0, 'a'] == today1:\n",
    "    print('passed test for loading most recent file explicitly')\n",
    "else:\n",
    "    raise Exception(f'failed test for loading most recent file explicitly')\n",
    "\n",
    "\n",
    "\n",
    "#most recent file with different date format\n",
    "if os.path.isfile(f'archive/df_{today1}.xlsx'):\n",
    "    os.remove(f'archive/df_{today1}.xlsx')\n",
    "pd.DataFrame({'a':[today2]}).to_excel(f'archive/df_{today2}.xlsx', index=False)\n",
    "pd.DataFrame({'a':[date1]}).to_excel(f'archive/df_{date1}.xlsx', index=False)\n",
    "\n",
    "if qp.load('archive/df', sheet='Sheet1', index=False).loc[0, 'a'] == today2:\n",
    "    print('passed test for loading most recent file with different date format')\n",
    "else:\n",
    "    raise Exception(f'failed test for loading most recent file with different date format')\n",
    "\n",
    "\n",
    "\n",
    "#file before specific date\n",
    "pd.DataFrame({'a':[date0]}).to_excel(f'archive/df_{date0}.xlsx', index=False)\n",
    "if qp.load('archive/df', sheet='Sheet1', before='2000_01_02', index=False).loc[0, 'a'] == date0:\n",
    "    print('passed test for loading most recent file from before specific date')\n",
    "else:\n",
    "    raise Exception(f'failed test for loading most recent file from before specific date')\n",
    "\n",
    "\n",
    "#file before this year\n",
    "if qp.load('archive/df', sheet='Sheet1', before='this year', index=False).loc[0, 'a'] == date1:\n",
    "    print('passed test for loading most recent file from before this year')\n",
    "else:\n",
    "    raise Exception(f'failed test for loading most recent file from before this year')\n",
    "\n",
    "\n",
    "\n",
    "#file before this month\n",
    "pd.DataFrame({'a':[date2]}).to_excel(f'archive/df_{date2}.xlsx', index=False)\n",
    "if qp.load('archive/df', sheet='Sheet1', before='this month', index=False).loc[0, 'a'] == date2:\n",
    "    print('passed test for loading most recent file from before this month')\n",
    "else:\n",
    "    raise Exception(f'failed test for loading most recent file from before this month')\n",
    "\n",
    "\n",
    "\n",
    "#file before this week\n",
    "pd.DataFrame({'a':[date3]}).to_excel(f'archive/df_{date3}.xlsx', index=False)\n",
    "if qp.load('archive/df', sheet='Sheet1', before='this week', index=False).loc[0, 'a'] == date3:\n",
    "    print('passed test for loading most recent file from before this week')\n",
    "else:\n",
    "    raise Exception(f'failed test for loading most recent file from before this week')\n",
    "\n",
    "\n",
    "\n",
    "#file before this day\n",
    "pd.DataFrame({'a':[date4]}).to_excel(f'archive/df_{date4}.xlsx', index=False)\n",
    "if qp.load('archive/df', sheet='Sheet1', before='this day', index=False).loc[0, 'a'] == date4:\n",
    "    print('passed test for loading most recent file from before this day')\n",
    "else:\n",
    "    raise Exception(f'failed test for loading most recent file from before this day')\n",
    "\n",
    "\n",
    "\n",
    "#file before today\n",
    "if qp.load('archive/df', sheet='Sheet1', before='today', index=False).loc[0, 'a'] == date4:\n",
    "    print('passed test for loading most recent file from before this day')\n",
    "else:\n",
    "    raise Exception(f'failed test for loading most recent file from before this day')\n",
    "\n",
    "\n",
    "# df1.save('test/df3.xlsx', sheet='sheet2', archive='source', datefmt='%Y_%m_%d')\n",
    "# df1.save('test/df3.xlsx', sheet='sheet2', archive='destination', datefmt='%Y_%m_%d')\n",
    "# df1.save('df.xlsx', sheet='sheet2', archive='both', datefmt='%Y_%m_%d')"
   ]
  },
  {
   "cell_type": "markdown",
   "metadata": {},
   "source": [
    "# log()"
   ]
  },
  {
   "cell_type": "code",
   "execution_count": 21,
   "metadata": {},
   "outputs": [],
   "source": [
    "#wip"
   ]
  },
  {
   "cell_type": "markdown",
   "metadata": {},
   "source": [
    "# \"bashlike\" wrappers"
   ]
  },
  {
   "cell_type": "code",
   "execution_count": 22,
   "metadata": {},
   "outputs": [
    {
     "name": "stdout",
     "output_type": "stream",
     "text": [
      "passed test for non existing directory\n"
     ]
    },
    {
     "data": {
      "text/html": [
       "<style type=\"text/css\">\n",
       "#T_9e8fb_row0_col0, #T_9e8fb_row0_col1, #T_9e8fb_row0_col2, #T_9e8fb_row0_col3 {\n",
       "  background-color: #c0e7b0;\n",
       "}\n",
       "</style>\n",
       "<table id=\"T_9e8fb\">\n",
       "  <thead>\n",
       "  </thead>\n",
       "  <tbody>\n",
       "    <tr>\n",
       "      <th id=\"T_9e8fb_level0_row0\" class=\"row_heading level0 row0\" >68</th>\n",
       "      <td id=\"T_9e8fb_row0_col0\" class=\"data row0 col0\" >created directory \"test/dir1\"</td>\n",
       "      <td id=\"T_9e8fb_row0_col1\" class=\"data row0 col1\" >qp.mkdir(\"test/dir1\")</td>\n",
       "      <td id=\"T_9e8fb_row0_col2\" class=\"data row0 col2\" >info</td>\n",
       "      <td id=\"T_9e8fb_row0_col3\" class=\"data row0 col3\" >2024-07-15 15:38:00.720006</td>\n",
       "    </tr>\n",
       "  </tbody>\n",
       "</table>\n"
      ],
      "text/plain": [
       "<pandas.io.formats.style.Styler at 0x1ac9bf80ce0>"
      ]
     },
     "metadata": {},
     "output_type": "display_data"
    },
    {
     "name": "stdout",
     "output_type": "stream",
     "text": [
      "passed test for creating and checking for existing directory\n"
     ]
    },
    {
     "data": {
      "text/html": [
       "<style type=\"text/css\">\n",
       "#T_f1576_row0_col0, #T_f1576_row0_col1, #T_f1576_row0_col2, #T_f1576_row0_col3 {\n",
       "  background-color: #c0e7b0;\n",
       "}\n",
       "</style>\n",
       "<table id=\"T_f1576\">\n",
       "  <thead>\n",
       "  </thead>\n",
       "  <tbody>\n",
       "    <tr>\n",
       "      <th id=\"T_f1576_level0_row0\" class=\"row_heading level0 row0\" >69</th>\n",
       "      <td id=\"T_f1576_row0_col0\" class=\"data row0 col0\" >moved from<br>c:\\Users\\MartinVölkl-GouyaIns\\OneDrive - Gouya Insights\\Desktop\\qplib_dev<br>to<br>c:\\Users\\MartinVölkl-GouyaIns\\OneDrive - Gouya Insights\\Desktop\\qplib_dev\\test\\dir1</td>\n",
       "      <td id=\"T_f1576_row0_col1\" class=\"data row0 col1\" >qp.cd(\"test/dir1\")</td>\n",
       "      <td id=\"T_f1576_row0_col2\" class=\"data row0 col2\" >info</td>\n",
       "      <td id=\"T_f1576_row0_col3\" class=\"data row0 col3\" >2024-07-15 15:38:00.730628</td>\n",
       "    </tr>\n",
       "  </tbody>\n",
       "</table>\n"
      ],
      "text/plain": [
       "<pandas.io.formats.style.Styler at 0x1acb2ef7620>"
      ]
     },
     "metadata": {},
     "output_type": "display_data"
    },
    {
     "name": "stdout",
     "output_type": "stream",
     "text": [
      "passed test for changing directory and finding path to current directory\n"
     ]
    },
    {
     "data": {
      "text/html": [
       "<style type=\"text/css\">\n",
       "#T_8ceaf_row0_col0, #T_8ceaf_row0_col1, #T_8ceaf_row0_col2, #T_8ceaf_row0_col3 {\n",
       "  background-color: #c0e7b0;\n",
       "}\n",
       "</style>\n",
       "<table id=\"T_8ceaf\">\n",
       "  <thead>\n",
       "  </thead>\n",
       "  <tbody>\n",
       "    <tr>\n",
       "      <th id=\"T_8ceaf_level0_row0\" class=\"row_heading level0 row0\" >70</th>\n",
       "      <td id=\"T_8ceaf_row0_col0\" class=\"data row0 col0\" >created directory \"dir2\"</td>\n",
       "      <td id=\"T_8ceaf_row0_col1\" class=\"data row0 col1\" >qp.mkdir(\"dir2\")</td>\n",
       "      <td id=\"T_8ceaf_row0_col2\" class=\"data row0 col2\" >info</td>\n",
       "      <td id=\"T_8ceaf_row0_col3\" class=\"data row0 col3\" >2024-07-15 15:38:00.740361</td>\n",
       "    </tr>\n",
       "  </tbody>\n",
       "</table>\n"
      ],
      "text/plain": [
       "<pandas.io.formats.style.Styler at 0x1acb3109880>"
      ]
     },
     "metadata": {},
     "output_type": "display_data"
    },
    {
     "data": {
      "text/html": [
       "<style type=\"text/css\">\n",
       "#T_1c564_row0_col0, #T_1c564_row0_col1, #T_1c564_row0_col2, #T_1c564_row0_col3 {\n",
       "  background-color: #c0e7b0;\n",
       "}\n",
       "</style>\n",
       "<table id=\"T_1c564\">\n",
       "  <thead>\n",
       "  </thead>\n",
       "  <tbody>\n",
       "    <tr>\n",
       "      <th id=\"T_1c564_level0_row0\" class=\"row_heading level0 row0\" >71</th>\n",
       "      <td id=\"T_1c564_row0_col0\" class=\"data row0 col0\" >moved from<br>c:\\Users\\MartinVölkl-GouyaIns\\OneDrive - Gouya Insights\\Desktop\\qplib_dev\\test\\dir1<br>to<br>c:\\Users\\MartinVölkl-GouyaIns\\OneDrive - Gouya Insights\\Desktop\\qplib_dev\\test\\dir1\\dir2</td>\n",
       "      <td id=\"T_1c564_row0_col1\" class=\"data row0 col1\" >qp.cd(\"dir2\")</td>\n",
       "      <td id=\"T_1c564_row0_col2\" class=\"data row0 col2\" >info</td>\n",
       "      <td id=\"T_1c564_row0_col3\" class=\"data row0 col3\" >2024-07-15 15:38:00.785766</td>\n",
       "    </tr>\n",
       "  </tbody>\n",
       "</table>\n"
      ],
      "text/plain": [
       "<pandas.io.formats.style.Styler at 0x1acb312dc70>"
      ]
     },
     "metadata": {},
     "output_type": "display_data"
    },
    {
     "data": {
      "text/html": [
       "<style type=\"text/css\">\n",
       "#T_1244c_row0_col0, #T_1244c_row0_col1, #T_1244c_row0_col2, #T_1244c_row0_col3 {\n",
       "  background-color: #c0e7b0;\n",
       "}\n",
       "</style>\n",
       "<table id=\"T_1244c\">\n",
       "  <thead>\n",
       "  </thead>\n",
       "  <tbody>\n",
       "    <tr>\n",
       "      <th id=\"T_1244c_level0_row0\" class=\"row_heading level0 row0\" >72</th>\n",
       "      <td id=\"T_1244c_row0_col0\" class=\"data row0 col0\" >moved from<br>c:\\Users\\MartinVölkl-GouyaIns\\OneDrive - Gouya Insights\\Desktop\\qplib_dev\\test\\dir1\\dir2<br>to<br>c:\\Users\\MartinVölkl-GouyaIns\\OneDrive - Gouya Insights\\Desktop\\qplib_dev\\test\\dir1</td>\n",
       "      <td id=\"T_1244c_row0_col1\" class=\"data row0 col1\" >qp.cd(\"c:\\Users\\MartinVölkl-GouyaIns\\OneDrive - Gouya Insights\\Desktop\\qplib_dev\\test\\dir1\")</td>\n",
       "      <td id=\"T_1244c_row0_col2\" class=\"data row0 col2\" >info</td>\n",
       "      <td id=\"T_1244c_row0_col3\" class=\"data row0 col3\" >2024-07-15 15:38:00.820150</td>\n",
       "    </tr>\n",
       "  </tbody>\n",
       "</table>\n"
      ],
      "text/plain": [
       "<pandas.io.formats.style.Styler at 0x1acb2ef7620>"
      ]
     },
     "metadata": {},
     "output_type": "display_data"
    },
    {
     "name": "stdout",
     "output_type": "stream",
     "text": [
      "passed test for going back and forth in directory structure\n"
     ]
    }
   ],
   "source": [
    "\n",
    "if os.path.isdir('test/dir1') is True:\n",
    "    shutil.rmtree('test/dir1')\n",
    "\n",
    "\n",
    "if qp.isdir('test/dir1') is False:\n",
    "    print(f'passed test for non existing directory')\n",
    "else:\n",
    "    raise Exception(f'failed test for non existing directory')\n",
    "\n",
    "\n",
    "qp.mkdir('test/dir1')\n",
    "if qp.isdir('test/dir1') is True:\n",
    "    print(f'passed test for creating and checking for existing directory')\n",
    "else:\n",
    "    raise Exception(f'failed test for creating and checking for existing directory')\n",
    "\n",
    "\n",
    "qp.cd('test/dir1')\n",
    "if qp.pwd().split('\\\\')[-1] == 'dir1':\n",
    "    print(f'passed test for changing directory and finding path to current directory')\n",
    "else:\n",
    "    raise Exception(f'failed test for changing directory and finding path to current directory')\n",
    "\n",
    "\n",
    "qp.mkdir('dir2')\n",
    "qp.cd('dir2')\n",
    "result1 = qp.pwd().split('\\\\')[-1]\n",
    "\n",
    "qp.cd('..')\n",
    "result2 = qp.pwd().split('\\\\')[-1]\n",
    "\n",
    "if result1 == 'dir2' and result2 == 'dir1':\n",
    "    print(f'passed test for going back and forth in directory structure')\n",
    "else:\n",
    "    raise Exception(f'failed test for going back and forth in directory structure')\n",
    "\n",
    "\n",
    "\n",
    "os.chdir(working_directory)\n",
    "shutil.rmtree('test/dir1')"
   ]
  },
  {
   "cell_type": "markdown",
   "metadata": {},
   "source": [
    "# save results"
   ]
  },
  {
   "cell_type": "code",
   "execution_count": 23,
   "metadata": {},
   "outputs": [],
   "source": [
    "clean()"
   ]
  },
  {
   "cell_type": "code",
   "execution_count": 24,
   "metadata": {},
   "outputs": [],
   "source": [
    "\n",
    "# # create html version of this file for documentation\n",
    "# !jupyter nbconvert --to html testing.ipynb\n",
    "\n",
    "# now = datetime.datetime.now().strftime('%Y_%m_%d')\n",
    "# shutil.move('testing.html', f'test/test_report_{now}.html')\n"
   ]
  },
  {
   "cell_type": "markdown",
   "metadata": {},
   "source": [
    "# temp"
   ]
  },
  {
   "cell_type": "code",
   "execution_count": 25,
   "metadata": {},
   "outputs": [],
   "source": [
    "import pandas as pd\n",
    "import numpy as np\n",
    "import copy\n",
    "import os\n",
    "import sys\n",
    "import shutil\n",
    "import datetime\n",
    "import qplib as qp\n",
    "from qplib import log\n",
    "\n",
    "# if 'cards' not in globals():\n",
    "#     cards = pd.read_csv('data/cards.csv')\n",
    "# cards.qi()\n",
    "\n",
    "\n",
    "# df = qp.get_df().format()\n",
    "# df.qi()\n",
    "\n",
    "\n",
    "\n"
   ]
  }
 ],
 "metadata": {
  "kernelspec": {
   "display_name": "Python 3",
   "language": "python",
   "name": "python3"
  },
  "language_info": {
   "codemirror_mode": {
    "name": "ipython",
    "version": 3
   },
   "file_extension": ".py",
   "mimetype": "text/x-python",
   "name": "python",
   "nbconvert_exporter": "python",
   "pygments_lexer": "ipython3",
   "version": "3.12.3"
  }
 },
 "nbformat": 4,
 "nbformat_minor": 2
}
